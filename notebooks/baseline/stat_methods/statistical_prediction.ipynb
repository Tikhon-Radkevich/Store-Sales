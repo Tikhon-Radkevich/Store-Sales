{
 "cells": [
  {
   "cell_type": "markdown",
   "id": "68c0db34306f3831",
   "metadata": {},
   "source": "# Statistical Baseline Prediction"
  },
  {
   "cell_type": "markdown",
   "id": "30150abccfcb5f9d",
   "metadata": {},
   "source": "## Notebook Configuration && Imports"
  },
  {
   "cell_type": "code",
   "execution_count": 2,
   "id": "d98b7ca9e116ddf3",
   "metadata": {
    "ExecuteTime": {
     "end_time": "2024-09-25T05:48:49.454947Z",
     "start_time": "2024-09-25T05:48:49.427687Z"
    }
   },
   "outputs": [],
   "source": [
    "%load_ext autoreload\n",
    "%autoreload 2"
   ]
  },
  {
   "cell_type": "code",
   "execution_count": 3,
   "id": "fae647b019231c15",
   "metadata": {
    "ExecuteTime": {
     "end_time": "2024-09-25T05:48:49.691674Z",
     "start_time": "2024-09-25T05:48:49.660048Z"
    }
   },
   "outputs": [],
   "source": [
    "import os\n",
    "import pandas as pd\n",
    "import numpy as np\n",
    "\n",
    "from storesales.constants import (\n",
    "    SUBMISSIONS_PATH,\n",
    "    EXTERNAL_TRAIN_PATH,\n",
    "    EXTERNAL_SAMPLE_SUBMISSION_PATH,\n",
    "    EXTERNAL_OIL_PATH,\n",
    "    EXTERNAL_TEST_PATH,\n",
    ")"
   ]
  },
  {
   "cell_type": "markdown",
   "id": "d6ae26edd7078e0f",
   "metadata": {},
   "source": "## Load && Prepare Data"
  },
  {
   "cell_type": "code",
   "execution_count": 4,
   "id": "1553ab494c7c0c28",
   "metadata": {
    "ExecuteTime": {
     "end_time": "2024-09-25T05:48:50.087828Z",
     "start_time": "2024-09-25T05:48:50.057369Z"
    }
   },
   "outputs": [],
   "source": [
    "def rmsle(y_true, y_pred):\n",
    "    return np.sqrt(np.mean(np.square(np.log1p(y_true) - np.log1p(y_pred))))"
   ]
  },
  {
   "cell_type": "code",
   "execution_count": 6,
   "id": "60e676ad58a385dc",
   "metadata": {
    "ExecuteTime": {
     "end_time": "2024-09-25T05:48:50.625146Z",
     "start_time": "2024-09-25T05:48:50.604515Z"
    }
   },
   "outputs": [],
   "source": [
    "def process_oil_df(df: pd.DataFrame) -> pd.DataFrame:\n",
    "    df = df.asfreq(\"D\")\n",
    "    df[\"dcoilwtico\"] = df[\"dcoilwtico\"].ffill()\n",
    "    df = df.dropna()\n",
    "    return df"
   ]
  },
  {
   "cell_type": "code",
   "execution_count": 258,
   "id": "a282b3fc0a71b13b",
   "metadata": {
    "ExecuteTime": {
     "end_time": "2024-09-25T07:49:17.401729Z",
     "start_time": "2024-09-25T07:49:15.066234Z"
    }
   },
   "outputs": [],
   "source": [
    "train_df = pd.read_csv(EXTERNAL_TRAIN_PATH, parse_dates=[\"date\"], index_col=\"id\")\n",
    "train_df.sort_values(by=[\"date\", \"store_nbr\", \"family\"], inplace=True)\n",
    "train_df[\"day_of_week\"] = train_df[\"date\"].dt.dayofweek\n",
    "train_df[\"is_weekend\"] = train_df[\"day_of_week\"] >= 5\n",
    "\n",
    "test_df = pd.read_csv(EXTERNAL_TEST_PATH, parse_dates=[\"date\"], index_col=\"id\")\n",
    "\n",
    "oil_df = pd.read_csv(EXTERNAL_OIL_PATH, parse_dates=[\"date\"], index_col=\"date\")\n",
    "\n",
    "sample_submission_df = pd.read_csv(EXTERNAL_SAMPLE_SUBMISSION_PATH, index_col=\"id\")"
   ]
  },
  {
   "cell_type": "code",
   "execution_count": null,
   "id": "9d9cea0c01f0e289",
   "metadata": {},
   "outputs": [],
   "source": [
    "oil_df = process_oil_df(oil_df)"
   ]
  },
  {
   "cell_type": "markdown",
   "id": "46aad73a9e278856",
   "metadata": {},
   "source": "# Mean Prediction"
  },
  {
   "cell_type": "code",
   "execution_count": 220,
   "id": "5801218c11e2fa2e",
   "metadata": {
    "ExecuteTime": {
     "end_time": "2024-09-25T07:09:37.152106Z",
     "start_time": "2024-09-25T07:09:37.120104Z"
    }
   },
   "outputs": [],
   "source": [
    "prediction_col_name = \"window_sales_shift\""
   ]
  },
  {
   "cell_type": "code",
   "execution_count": 250,
   "id": "ac86e79d4e306da2",
   "metadata": {
    "ExecuteTime": {
     "end_time": "2024-09-25T07:44:24.495413Z",
     "start_time": "2024-09-25T07:44:24.446370Z"
    }
   },
   "outputs": [],
   "source": [
    "def predict(df: pd.DataFrame, cols: list, window: int) -> pd.DataFrame:\n",
    "    rolling_group_sales = df.groupby(cols)[\"sales\"].rolling(window=window)\n",
    "    shifted_mean_sales = rolling_group_sales.mean().shift(1)\n",
    "    df[prediction_col_name] = shifted_mean_sales.reset_index(level=cols, drop=True)\n",
    "    df.dropna(inplace=True)\n",
    "    return df\n",
    "\n",
    "\n",
    "def weekend_group_predict(\n",
    "    df: pd.DataFrame, cols: list, window_weekday: int, window_weekend: int\n",
    ") -> pd.DataFrame:\n",
    "    def get_rolling_mean(group, is_weekend):\n",
    "        # todo shifting here - sale value lost for the test set\n",
    "        if is_weekend:\n",
    "            return group.rolling(window=window_weekend).mean().shift(1)\n",
    "        return group.rolling(window=window_weekday).mean().shift(1)\n",
    "\n",
    "    df[prediction_col_name] = (\n",
    "        df.groupby(cols)[[\"sales\", \"is_weekend\"]]\n",
    "        .apply(\n",
    "            lambda group: get_rolling_mean(group[\"sales\"], group[\"is_weekend\"].iloc[0])\n",
    "        )\n",
    "        .reset_index(level=cols, drop=True)\n",
    "    )\n",
    "\n",
    "    df.dropna(inplace=True)\n",
    "    return df\n",
    "\n",
    "\n",
    "def eval_prediction(df: pd.DataFrame) -> float:\n",
    "    test_date_start = test_df[\"date\"].min() - pd.Timedelta(days=17)\n",
    "    test = df[df[\"date\"] >= test_date_start]\n",
    "    y_true, y_pred = test[\"sales\"], test[prediction_col_name]\n",
    "    return rmsle(y_true, y_pred)"
   ]
  },
  {
   "cell_type": "code",
   "execution_count": 251,
   "id": "cc2fce93e5d32762",
   "metadata": {
    "ExecuteTime": {
     "end_time": "2024-09-25T07:44:28.425743Z",
     "start_time": "2024-09-25T07:44:26.129898Z"
    }
   },
   "outputs": [
    {
     "data": {
      "text/plain": [
       "np.float64(0.4009640685973311)"
      ]
     },
     "execution_count": 251,
     "metadata": {},
     "output_type": "execute_result"
    }
   ],
   "source": [
    "group_columns = [\"store_nbr\", \"family\", \"is_weekend\"]\n",
    "n_window_weekdays = 10\n",
    "n_window_weekends = 6\n",
    "\n",
    "predict_df = weekend_group_predict(\n",
    "    train_df.copy(), group_columns, n_window_weekdays, n_window_weekends\n",
    ")\n",
    "eval_prediction(predict_df)"
   ]
  },
  {
   "cell_type": "code",
   "execution_count": 268,
   "id": "e17d8b8d0c358bcd",
   "metadata": {
    "ExecuteTime": {
     "end_time": "2024-09-25T07:53:12.238428Z",
     "start_time": "2024-09-25T07:53:12.205603Z"
    }
   },
   "outputs": [
    {
     "data": {
      "text/html": [
       "<div>\n",
       "<style scoped>\n",
       "    .dataframe tbody tr th:only-of-type {\n",
       "        vertical-align: middle;\n",
       "    }\n",
       "\n",
       "    .dataframe tbody tr th {\n",
       "        vertical-align: top;\n",
       "    }\n",
       "\n",
       "    .dataframe thead th {\n",
       "        text-align: right;\n",
       "    }\n",
       "</style>\n",
       "<table border=\"1\" class=\"dataframe\">\n",
       "  <thead>\n",
       "    <tr style=\"text-align: right;\">\n",
       "      <th></th>\n",
       "      <th>date</th>\n",
       "      <th>store_nbr</th>\n",
       "      <th>family</th>\n",
       "      <th>onpromotion</th>\n",
       "    </tr>\n",
       "    <tr>\n",
       "      <th>id</th>\n",
       "      <th></th>\n",
       "      <th></th>\n",
       "      <th></th>\n",
       "      <th></th>\n",
       "    </tr>\n",
       "  </thead>\n",
       "  <tbody>\n",
       "    <tr>\n",
       "      <th>3000888</th>\n",
       "      <td>2017-08-16</td>\n",
       "      <td>1</td>\n",
       "      <td>AUTOMOTIVE</td>\n",
       "      <td>0</td>\n",
       "    </tr>\n",
       "    <tr>\n",
       "      <th>3000889</th>\n",
       "      <td>2017-08-16</td>\n",
       "      <td>1</td>\n",
       "      <td>BABY CARE</td>\n",
       "      <td>0</td>\n",
       "    </tr>\n",
       "    <tr>\n",
       "      <th>3000890</th>\n",
       "      <td>2017-08-16</td>\n",
       "      <td>1</td>\n",
       "      <td>BEAUTY</td>\n",
       "      <td>2</td>\n",
       "    </tr>\n",
       "    <tr>\n",
       "      <th>3000891</th>\n",
       "      <td>2017-08-16</td>\n",
       "      <td>1</td>\n",
       "      <td>BEVERAGES</td>\n",
       "      <td>20</td>\n",
       "    </tr>\n",
       "    <tr>\n",
       "      <th>3000892</th>\n",
       "      <td>2017-08-16</td>\n",
       "      <td>1</td>\n",
       "      <td>BOOKS</td>\n",
       "      <td>0</td>\n",
       "    </tr>\n",
       "  </tbody>\n",
       "</table>\n",
       "</div>"
      ],
      "text/plain": [
       "              date  store_nbr      family  onpromotion\n",
       "id                                                    \n",
       "3000888 2017-08-16          1  AUTOMOTIVE            0\n",
       "3000889 2017-08-16          1   BABY CARE            0\n",
       "3000890 2017-08-16          1      BEAUTY            2\n",
       "3000891 2017-08-16          1   BEVERAGES           20\n",
       "3000892 2017-08-16          1       BOOKS            0"
      ]
     },
     "execution_count": 268,
     "metadata": {},
     "output_type": "execute_result"
    }
   ],
   "source": [
    "test_df.head()"
   ]
  },
  {
   "cell_type": "code",
   "execution_count": 274,
   "id": "331fbcab67a8cb00",
   "metadata": {
    "ExecuteTime": {
     "end_time": "2024-09-25T07:54:37.481723Z",
     "start_time": "2024-09-25T07:54:37.428457Z"
    }
   },
   "outputs": [],
   "source": [
    "grouped_by_is_weekend_sub_file = \"grouped_by_is_weekend_submission.csv\"\n",
    "grouped_by_is_weekend_sub = sample_submission_df.copy()\n",
    "\n",
    "test_prediction = predict_df[predict_df[\"date\"] == predict_df[\"date\"].max()]\n",
    "\n",
    "test_df.reset_index(inplace=True)\n",
    "sub_values = test_df.merge(\n",
    "    test_prediction[[\"store_nbr\", \"family\", prediction_col_name]],\n",
    "    on=[\"store_nbr\", \"family\"],\n",
    "    how=\"left\",\n",
    ")"
   ]
  },
  {
   "cell_type": "code",
   "execution_count": 275,
   "id": "924920bb8c32ac34",
   "metadata": {
    "ExecuteTime": {
     "end_time": "2024-09-25T07:54:38.611094Z",
     "start_time": "2024-09-25T07:54:38.564710Z"
    }
   },
   "outputs": [
    {
     "data": {
      "text/html": [
       "<div>\n",
       "<style scoped>\n",
       "    .dataframe tbody tr th:only-of-type {\n",
       "        vertical-align: middle;\n",
       "    }\n",
       "\n",
       "    .dataframe tbody tr th {\n",
       "        vertical-align: top;\n",
       "    }\n",
       "\n",
       "    .dataframe thead th {\n",
       "        text-align: right;\n",
       "    }\n",
       "</style>\n",
       "<table border=\"1\" class=\"dataframe\">\n",
       "  <thead>\n",
       "    <tr style=\"text-align: right;\">\n",
       "      <th></th>\n",
       "      <th>index</th>\n",
       "      <th>id</th>\n",
       "      <th>date</th>\n",
       "      <th>store_nbr</th>\n",
       "      <th>family</th>\n",
       "      <th>onpromotion</th>\n",
       "      <th>window_sales_shift</th>\n",
       "    </tr>\n",
       "  </thead>\n",
       "  <tbody>\n",
       "    <tr>\n",
       "      <th>0</th>\n",
       "      <td>0</td>\n",
       "      <td>3000888</td>\n",
       "      <td>2017-08-16</td>\n",
       "      <td>1</td>\n",
       "      <td>AUTOMOTIVE</td>\n",
       "      <td>0</td>\n",
       "      <td>4.8</td>\n",
       "    </tr>\n",
       "    <tr>\n",
       "      <th>1</th>\n",
       "      <td>1</td>\n",
       "      <td>3000889</td>\n",
       "      <td>2017-08-16</td>\n",
       "      <td>1</td>\n",
       "      <td>BABY CARE</td>\n",
       "      <td>0</td>\n",
       "      <td>0.0</td>\n",
       "    </tr>\n",
       "    <tr>\n",
       "      <th>2</th>\n",
       "      <td>2</td>\n",
       "      <td>3000890</td>\n",
       "      <td>2017-08-16</td>\n",
       "      <td>1</td>\n",
       "      <td>BEAUTY</td>\n",
       "      <td>2</td>\n",
       "      <td>4.6</td>\n",
       "    </tr>\n",
       "    <tr>\n",
       "      <th>3</th>\n",
       "      <td>3</td>\n",
       "      <td>3000891</td>\n",
       "      <td>2017-08-16</td>\n",
       "      <td>1</td>\n",
       "      <td>BEVERAGES</td>\n",
       "      <td>20</td>\n",
       "      <td>2150.2</td>\n",
       "    </tr>\n",
       "    <tr>\n",
       "      <th>4</th>\n",
       "      <td>4</td>\n",
       "      <td>3000892</td>\n",
       "      <td>2017-08-16</td>\n",
       "      <td>1</td>\n",
       "      <td>BOOKS</td>\n",
       "      <td>0</td>\n",
       "      <td>0.0</td>\n",
       "    </tr>\n",
       "  </tbody>\n",
       "</table>\n",
       "</div>"
      ],
      "text/plain": [
       "   index       id       date  store_nbr      family  onpromotion  \\\n",
       "0      0  3000888 2017-08-16          1  AUTOMOTIVE            0   \n",
       "1      1  3000889 2017-08-16          1   BABY CARE            0   \n",
       "2      2  3000890 2017-08-16          1      BEAUTY            2   \n",
       "3      3  3000891 2017-08-16          1   BEVERAGES           20   \n",
       "4      4  3000892 2017-08-16          1       BOOKS            0   \n",
       "\n",
       "   window_sales_shift  \n",
       "0                 4.8  \n",
       "1                 0.0  \n",
       "2                 4.6  \n",
       "3              2150.2  \n",
       "4                 0.0  "
      ]
     },
     "execution_count": 275,
     "metadata": {},
     "output_type": "execute_result"
    }
   ],
   "source": [
    "sub_values.head()"
   ]
  },
  {
   "cell_type": "code",
   "execution_count": 276,
   "id": "1d721ba136621755",
   "metadata": {
    "ExecuteTime": {
     "end_time": "2024-09-25T07:54:39.620694Z",
     "start_time": "2024-09-25T07:54:39.584491Z"
    }
   },
   "outputs": [],
   "source": [
    "sub_values.set_index(\"id\", inplace=True)\n",
    "\n",
    "grouped_by_is_weekend_sub[\"sales\"] = sub_values[prediction_col_name]"
   ]
  },
  {
   "cell_type": "code",
   "execution_count": 277,
   "id": "71361856cc2dff5f",
   "metadata": {
    "ExecuteTime": {
     "end_time": "2024-09-25T07:54:52.075717Z",
     "start_time": "2024-09-25T07:54:52.009672Z"
    }
   },
   "outputs": [],
   "source": [
    "grouped_by_is_weekend_sub.to_csv(\n",
    "    os.path.join(SUBMISSIONS_PATH, grouped_by_is_weekend_sub_file)\n",
    ")"
   ]
  },
  {
   "cell_type": "code",
   "execution_count": null,
   "id": "15354211e01f649c",
   "metadata": {},
   "outputs": [],
   "source": []
  },
  {
   "cell_type": "code",
   "execution_count": 237,
   "id": "ea6bc61b672b8684",
   "metadata": {
    "ExecuteTime": {
     "end_time": "2024-09-25T07:28:19.040167Z",
     "start_time": "2024-09-25T07:28:17.728937Z"
    }
   },
   "outputs": [
    {
     "data": {
      "text/plain": [
       "np.float64(0.4557929809136305)"
      ]
     },
     "execution_count": 237,
     "metadata": {},
     "output_type": "execute_result"
    }
   ],
   "source": [
    "group_columns = [\"store_nbr\", \"family\"]\n",
    "n_values_for_mean = 14\n",
    "\n",
    "predict_df = predict(train_df.copy(), group_columns, n_values_for_mean)\n",
    "eval_prediction(predict_df)"
   ]
  },
  {
   "cell_type": "code",
   "execution_count": 192,
   "id": "35bf424f815d3e97",
   "metadata": {
    "ExecuteTime": {
     "end_time": "2024-09-25T06:48:30.784586Z",
     "start_time": "2024-09-25T06:48:30.655474Z"
    }
   },
   "outputs": [],
   "source": [
    "from sklearn.model_selection import TimeSeriesSplit, GridSearchCV"
   ]
  },
  {
   "cell_type": "code",
   "execution_count": 238,
   "id": "8cccaad9686a99e5",
   "metadata": {
    "ExecuteTime": {
     "end_time": "2024-09-25T07:35:18.292482Z",
     "start_time": "2024-09-25T07:35:18.269547Z"
    }
   },
   "outputs": [],
   "source": [
    "outer_cv = TimeSeriesSplit(n_splits=5, test_size=40)\n",
    "inner_cv = TimeSeriesSplit(n_splits=12, test_size=40)\n",
    "\n",
    "\n",
    "search_range = pd.date_range(train_df[\"date\"].min(), test_df[\"date\"].min(), freq=\"D\")\n",
    "\n",
    "# for train_idx, test_idx in outer_cv.split(search_range):\n",
    "#     train_con = train_df[\"date\"].isin(search_range[train_idx])\n",
    "#     test_con = train_df[\"date\"].isin(search_range[test_idx])\n",
    "#\n",
    "#     X_train = train_df[train_con].copy()\n",
    "#     X_test = predict_df[test_con].copy()\n",
    "#\n",
    "#\n",
    "#\n",
    "#     y_train = predict_df[train_con][\"sales\"]\n",
    "#     y_test = predict_df[test_con][\"sales\"]"
   ]
  },
  {
   "cell_type": "markdown",
   "id": "4e38d7922b1633de",
   "metadata": {},
   "source": "## 1) Mean Prediction"
  },
  {
   "cell_type": "code",
   "execution_count": 33,
   "id": "afe2e908e8c69630",
   "metadata": {
    "ExecuteTime": {
     "end_time": "2024-09-24T08:26:44.459714Z",
     "start_time": "2024-09-24T08:26:44.429811Z"
    }
   },
   "outputs": [],
   "source": [
    "submission_file_name = \"all_period_mean_submission.csv\""
   ]
  },
  {
   "cell_type": "code",
   "execution_count": 34,
   "id": "1bd0274888c7a47c",
   "metadata": {
    "ExecuteTime": {
     "end_time": "2024-09-24T08:26:45.059782Z",
     "start_time": "2024-09-24T08:26:44.795785Z"
    }
   },
   "outputs": [],
   "source": [
    "all_period_mean_submission_df = sample_submission_df.copy()\n",
    "columns = [\"store_nbr\", \"family\"]\n",
    "\n",
    "mean_sales_per_store = train_df.groupby(columns)[\"sales\"].mean()\n",
    "prediction = test_df.merge(mean_sales_per_store, on=columns, how=\"left\")\n",
    "prediction.set_index(\"id\", inplace=True)\n",
    "\n",
    "all_period_mean_submission_df[\"sales\"] = prediction[\"sales\"]"
   ]
  },
  {
   "cell_type": "code",
   "execution_count": 35,
   "id": "902fc8dd16c054f3",
   "metadata": {
    "ExecuteTime": {
     "end_time": "2024-09-24T08:26:45.678171Z",
     "start_time": "2024-09-24T08:26:45.597570Z"
    }
   },
   "outputs": [],
   "source": [
    "submission_path = os.path.join(SUBMISSIONS_PATH, submission_file_name)\n",
    "all_period_mean_submission_df.to_csv(submission_path)"
   ]
  },
  {
   "cell_type": "markdown",
   "id": "1f3e9934b4ffd472",
   "metadata": {},
   "source": "## 2) Mean Sales Per Last Period"
  },
  {
   "cell_type": "code",
   "execution_count": 36,
   "id": "d2182eadee58f132",
   "metadata": {
    "ExecuteTime": {
     "end_time": "2024-09-24T08:33:58.544496Z",
     "start_time": "2024-09-24T08:33:58.520340Z"
    }
   },
   "outputs": [],
   "source": [
    "period_length = [7, 14, 30, 50, 70]  # days\n",
    "submission_file_name = \"last_period_mean_submission\""
   ]
  },
  {
   "cell_type": "code",
   "execution_count": 38,
   "id": "555dedec55717ea7",
   "metadata": {
    "ExecuteTime": {
     "end_time": "2024-09-24T08:34:22.801653Z",
     "start_time": "2024-09-24T08:34:22.418044Z"
    }
   },
   "outputs": [],
   "source": [
    "last_period_mean_submission_df = sample_submission_df.copy()\n",
    "columns = [\"store_nbr\", \"family\"]\n",
    "\n",
    "for period in period_length:\n",
    "    date_condition = train_df[\"date\"] > train_df[\"date\"].max() - pd.Timedelta(\n",
    "        days=period\n",
    "    )\n",
    "    mean_sales_per_store = train_df[date_condition].groupby(columns)[\"sales\"].mean()\n",
    "    prediction = test_df.merge(mean_sales_per_store, on=columns, how=\"left\")\n",
    "    prediction.set_index(\"id\", inplace=True)\n",
    "\n",
    "    last_period_mean_submission_df[\"sales\"] = prediction[\"sales\"]\n",
    "\n",
    "    submission_path = os.path.join(\n",
    "        SUBMISSIONS_PATH, f\"{submission_file_name}_{period}_days.csv\"\n",
    "    )\n",
    "    last_period_mean_submission_df.to_csv(submission_path)"
   ]
  },
  {
   "cell_type": "markdown",
   "id": "6ca6a65ea5bfd242",
   "metadata": {},
   "source": "## 3) Mean Sales For Each Day Of The Week"
  },
  {
   "cell_type": "code",
   "execution_count": 1,
   "id": "1f0d3fa51401dfa6",
   "metadata": {
    "ExecuteTime": {
     "end_time": "2024-09-25T05:48:23.294413Z",
     "start_time": "2024-09-25T05:48:23.292155Z"
    }
   },
   "outputs": [],
   "source": [
    "submission_file_name = \"day_of_week_mean_submission\""
   ]
  },
  {
   "cell_type": "code",
   "execution_count": null,
   "id": "59f0f8304d90e5d5",
   "metadata": {},
   "outputs": [],
   "source": []
  }
 ],
 "metadata": {
  "kernelspec": {
   "display_name": "Python 3",
   "language": "python",
   "name": "python3"
  },
  "language_info": {
   "codemirror_mode": {
    "name": "ipython",
    "version": 2
   },
   "file_extension": ".py",
   "mimetype": "text/x-python",
   "name": "python",
   "nbconvert_exporter": "python",
   "pygments_lexer": "ipython2",
   "version": "2.7.6"
  }
 },
 "nbformat": 4,
 "nbformat_minor": 5
}
