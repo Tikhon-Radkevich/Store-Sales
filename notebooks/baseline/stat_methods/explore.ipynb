{
 "cells": [
  {
   "cell_type": "markdown",
   "id": "72874de2924b4cda",
   "metadata": {},
   "source": "## Notebook Configuration && Imports"
  },
  {
   "cell_type": "code",
   "id": "f994153a4e79e390",
   "metadata": {
    "ExecuteTime": {
     "end_time": "2024-10-28T12:35:30.795748Z",
     "start_time": "2024-10-28T12:35:30.761568Z"
    }
   },
   "source": [
    "%load_ext autoreload\n",
    "%autoreload 2"
   ],
   "outputs": [],
   "execution_count": 1
  },
  {
   "cell_type": "code",
   "id": "fb5fe8980ab04e89",
   "metadata": {
    "ExecuteTime": {
     "end_time": "2024-10-28T12:35:31.327019Z",
     "start_time": "2024-10-28T12:35:31.230919Z"
    }
   },
   "source": [
    "import pandas as pd\n",
    "\n",
    "from storesales.baseline.sales_predictor import SalesPredictor\n",
    "from storesales.baseline.utils import (\n",
    "    run_study,\n",
    "    load_baseline_data,\n",
    "    make_time_series_dataset,\n",
    "    evaluate,\n",
    ")\n",
    "from storesales.baseline.model_wrappers import (\n",
    "    DailyMeanModelWrapper,\n",
    "    DayOfWeekMeanModelWrapper,\n",
    "    WeightedDayMeanModelWrapper,\n",
    ")\n",
    "from storesales.baseline.param_suggestions import (\n",
    "    IntSuggestions,\n",
    "    FloatSuggestions,\n",
    "    CategoricalSuggestions,\n",
    ")\n",
    "from storesales.baseline.constants import STORES\n",
    "from storesales.constants import TRAIN_TEST_SPLIT_DATE, HORIZON_STR"
   ],
   "outputs": [],
   "execution_count": 2
  },
  {
   "cell_type": "markdown",
   "id": "ae0e243efcd76233",
   "metadata": {},
   "source": "## Load Data && Create Dataset"
  },
  {
   "cell_type": "code",
   "id": "4fe8b456ef6775e4",
   "metadata": {
    "ExecuteTime": {
     "end_time": "2024-10-28T12:35:34.774391Z",
     "start_time": "2024-10-28T12:35:31.936969Z"
    }
   },
   "source": [
    "train_df, test_df, holidays_df = load_baseline_data(use_light_gbm_preprocessing=False)"
   ],
   "outputs": [],
   "execution_count": 3
  },
  {
   "cell_type": "code",
   "id": "44445058c3d761a4",
   "metadata": {
    "ExecuteTime": {
     "end_time": "2024-10-28T12:35:34.798242Z",
     "start_time": "2024-10-28T12:35:34.775833Z"
    }
   },
   "source": [
    "train_test_split_date = pd.Timestamp(TRAIN_TEST_SPLIT_DATE)\n",
    "\n",
    "outer_cutoffs_dates = [\n",
    "    \"2016-08-16\",\n",
    "    \"2016-11-18\",\n",
    "    \"2017-02-20\",\n",
    "    \"2017-04-04\",\n",
    "]\n",
    "outer_cutoffs = [pd.Timestamp(date) for date in outer_cutoffs_dates]\n",
    "\n",
    "for cutoff in outer_cutoffs:\n",
    "    if cutoff + pd.Timedelta(HORIZON_STR) >= train_test_split_date:\n",
    "        raise ValueError(f\"cutoff {cutoff} falls into test period!\")"
   ],
   "outputs": [],
   "execution_count": 4
  },
  {
   "cell_type": "code",
   "id": "92474a6105bdd115",
   "metadata": {
    "ExecuteTime": {
     "end_time": "2024-10-28T12:35:34.815936Z",
     "start_time": "2024-10-28T12:35:34.799880Z"
    }
   },
   "source": [
    "# families = [\"FROZEN FOODS\", \"EGGS\", \"CELEBRATION\"]\n",
    "families = [\"BREAD/BAKERY\"]\n",
    "\n",
    "family_groups = [(family,) for family in families]\n",
    "\n",
    "family_group_to_stores = dict(\n",
    "    [[family_group, STORES] for family_group in family_groups]\n",
    ")"
   ],
   "outputs": [],
   "execution_count": 5
  },
  {
   "cell_type": "code",
   "id": "cad0cb90dff706da",
   "metadata": {
    "ExecuteTime": {
     "end_time": "2024-10-28T12:35:34.888241Z",
     "start_time": "2024-10-28T12:35:34.817986Z"
    }
   },
   "source": [
    "families_data = train_df[train_df[\"family\"].isin(families)]"
   ],
   "outputs": [],
   "execution_count": 6
  },
  {
   "cell_type": "code",
   "id": "78d9d36e9fc96a44",
   "metadata": {
    "ExecuteTime": {
     "end_time": "2024-10-28T12:35:35.225007Z",
     "start_time": "2024-10-28T12:35:34.889326Z"
    }
   },
   "source": [
    "train_dataset = make_time_series_dataset(families_data, outer_cutoffs, 16)"
   ],
   "outputs": [
    {
     "name": "stderr",
     "output_type": "stream",
     "text": [
      "100%|██████████| 54/54 [00:00<00:00, 228.03it/s]\n"
     ]
    }
   ],
   "execution_count": 7
  },
  {
   "cell_type": "markdown",
   "id": "f4d4b04dcba7f77a",
   "metadata": {},
   "source": [
    "## SalesPredictor\n",
    "### DailyMeanModel"
   ]
  },
  {
   "cell_type": "code",
   "id": "6b724f68731cf68b",
   "metadata": {
    "ExecuteTime": {
     "end_time": "2024-10-28T12:35:36.173245Z",
     "start_time": "2024-10-28T12:35:36.156474Z"
    }
   },
   "source": [
    "daily_wrapper = DailyMeanModelWrapper(int_suggestions=[IntSuggestions(\"window\", 3, 60)])\n",
    "\n",
    "daily_wrapper_dict = {DailyMeanModelWrapper.__name__: daily_wrapper}\n",
    "\n",
    "daily_optuna_kwargs = dict(\n",
    "    n_trials=100,\n",
    "    show_progress_bar=False,\n",
    "    timeout=45,\n",
    ")\n",
    "\n",
    "daily_predictor = SalesPredictor(\n",
    "    model_wrappers=daily_wrapper_dict,\n",
    "    family_groups=family_groups,\n",
    "    inner_cutoffs=[-365, -180, -49, -17],\n",
    "    optuna_optimize_kwargs=daily_optuna_kwargs,\n",
    "    n_group_store_family_choices=4,\n",
    "    n_single_store_family_choices=3,\n",
    "    family_group_to_stores=family_group_to_stores,\n",
    "    initial=None,\n",
    ")"
   ],
   "outputs": [],
   "execution_count": 8
  },
  {
   "cell_type": "code",
   "id": "9683e83b7ab9176b",
   "metadata": {
    "ExecuteTime": {
     "end_time": "2024-10-28T12:35:47.883422Z",
     "start_time": "2024-10-28T12:35:36.174792Z"
    }
   },
   "source": "daily_predictor = run_study(train_dataset, daily_predictor, disable_tqdm=False)",
   "outputs": [
    {
     "name": "stdout",
     "output_type": "stream",
     "text": [
      "Family Group: ('BREAD/BAKERY',):\n"
     ]
    },
    {
     "name": "stderr",
     "output_type": "stream",
     "text": [
      "100%|██████████| 3/3 [00:11<00:00,  3.90s/it]"
     ]
    },
    {
     "name": "stdout",
     "output_type": "stream",
     "text": [
      "RMSLE: 0.29958993816286955\n"
     ]
    },
    {
     "name": "stderr",
     "output_type": "stream",
     "text": [
      "\n"
     ]
    }
   ],
   "execution_count": 9
  },
  {
   "cell_type": "code",
   "id": "baca8607f58252e7",
   "metadata": {
    "ExecuteTime": {
     "end_time": "2024-10-28T12:35:54.439293Z",
     "start_time": "2024-10-28T12:35:49.536694Z"
    }
   },
   "source": "daily_eval_loss = evaluate(families_data, daily_predictor, disable_tqdm=False)",
   "outputs": [
    {
     "name": "stderr",
     "output_type": "stream",
     "text": [
      "100%|██████████| 82/82 [00:04<00:00, 18.80it/s]\n"
     ]
    }
   ],
   "execution_count": 10
  },
  {
   "cell_type": "code",
   "id": "4e009d0cd4feb42e",
   "metadata": {
    "ExecuteTime": {
     "end_time": "2024-10-28T12:35:54.463025Z",
     "start_time": "2024-10-28T12:35:54.441428Z"
    }
   },
   "source": "daily_store_loss = daily_eval_loss.mean(axis=1).rename(\"daily_rmsle\")",
   "outputs": [],
   "execution_count": 11
  },
  {
   "metadata": {
    "ExecuteTime": {
     "end_time": "2024-10-28T12:35:54.489498Z",
     "start_time": "2024-10-28T12:35:54.464497Z"
    }
   },
   "cell_type": "code",
   "source": "daily_store_loss.head()",
   "id": "650902d31530f3f2",
   "outputs": [
    {
     "data": {
      "text/plain": [
       "family        store_nbr\n",
       "BREAD/BAKERY  1            0.335604\n",
       "              2            0.183433\n",
       "              3            0.165592\n",
       "              4            0.221086\n",
       "              5            0.165789\n",
       "Name: daily_rmsle, dtype: float64"
      ]
     },
     "execution_count": 12,
     "metadata": {},
     "output_type": "execute_result"
    }
   ],
   "execution_count": 12
  },
  {
   "cell_type": "markdown",
   "id": "a96f56d1fdc38294",
   "metadata": {},
   "source": "### WeightedDayMeanModelWrapper"
  },
  {
   "cell_type": "code",
   "id": "736fa1487ec69b4c",
   "metadata": {
    "ExecuteTime": {
     "end_time": "2024-10-28T12:40:08.013357Z",
     "start_time": "2024-10-28T12:40:07.987910Z"
    }
   },
   "source": [
    "weighted_day_mean_wrapper = WeightedDayMeanModelWrapper(\n",
    "    int_suggestions=[\n",
    "        IntSuggestions(\"days_window\", 1, 20),\n",
    "        IntSuggestions(\"weeks_window\", 1, 10),\n",
    "        IntSuggestions(\"months_window\", 0, 12),\n",
    "        IntSuggestions(\"years_window\", 0, 4),\n",
    "    ],\n",
    "    float_suggestions=[\n",
    "        FloatSuggestions(\"day_weight\", 0.88, 1.12),\n",
    "        FloatSuggestions(\"week_weight\", 0.88, 1.12),\n",
    "        FloatSuggestions(\"month_weight\", 0.88, 1.12),\n",
    "        FloatSuggestions(\"year_weight\", 0.88, 1.12),\n",
    "        FloatSuggestions(\"bias\", -100.0, 100.0),\n",
    "    ],\n",
    ")\n",
    "\n",
    "weighted_day_mean_wrapper_dict = {\n",
    "    WeightedDayMeanModelWrapper.__name__: weighted_day_mean_wrapper\n",
    "}\n",
    "\n",
    "weighted_day_mean_optuna_kwargs = dict(\n",
    "    n_trials=100,\n",
    "    show_progress_bar=True,\n",
    "    timeout=45,\n",
    "    n_jobs=6,\n",
    ")\n",
    "\n",
    "weighted_day_mean_predictor = SalesPredictor(\n",
    "    model_wrappers=weighted_day_mean_wrapper_dict,\n",
    "    family_groups=family_groups,\n",
    "    inner_cutoffs=[-365, -180, -49, -17],\n",
    "    optuna_optimize_kwargs=weighted_day_mean_optuna_kwargs,\n",
    "    n_group_store_family_choices=4,\n",
    "    n_single_store_family_choices=3,\n",
    "    family_group_to_stores=family_group_to_stores,\n",
    "    initial=None,\n",
    ")"
   ],
   "outputs": [],
   "execution_count": 21
  },
  {
   "cell_type": "code",
   "id": "8ede5f04a426538c",
   "metadata": {
    "ExecuteTime": {
     "end_time": "2024-10-28T12:43:56.625194Z",
     "start_time": "2024-10-28T12:40:08.892298Z"
    }
   },
   "source": "weighted_day_mean_predictor = run_study(train_dataset, weighted_day_mean_predictor, disable_tqdm=False)",
   "outputs": [
    {
     "name": "stdout",
     "output_type": "stream",
     "text": [
      "Family Group: ('BREAD/BAKERY',):\n"
     ]
    },
    {
     "name": "stderr",
     "output_type": "stream",
     "text": [
      "  0%|          | 0/3 [00:00<?, ?it/s]"
     ]
    },
    {
     "data": {
      "text/plain": [
       "  0%|          | 0/100 [00:00<?, ?it/s]"
      ],
      "application/vnd.jupyter.widget-view+json": {
       "version_major": 2,
       "version_minor": 0,
       "model_id": "31e4e2f7124f4d45831134b3b9a7c1c0"
      }
     },
     "metadata": {},
     "output_type": "display_data"
    },
    {
     "data": {
      "text/plain": [
       "  0%|          | 0/100 [00:00<?, ?it/s]"
      ],
      "application/vnd.jupyter.widget-view+json": {
       "version_major": 2,
       "version_minor": 0,
       "model_id": "73982a9993644aeb8ec2b148fc2b2410"
      }
     },
     "metadata": {},
     "output_type": "display_data"
    },
    {
     "data": {
      "text/plain": [
       "  0%|          | 0/100 [00:00<?, ?it/s]"
      ],
      "application/vnd.jupyter.widget-view+json": {
       "version_major": 2,
       "version_minor": 0,
       "model_id": "001ca721d5f541089637aad119048558"
      }
     },
     "metadata": {},
     "output_type": "display_data"
    },
    {
     "data": {
      "text/plain": [
       "  0%|          | 0/100 [00:00<?, ?it/s]"
      ],
      "application/vnd.jupyter.widget-view+json": {
       "version_major": 2,
       "version_minor": 0,
       "model_id": "5ade76c7663d40c5b86b624757ec0cfd"
      }
     },
     "metadata": {},
     "output_type": "display_data"
    },
    {
     "name": "stderr",
     "output_type": "stream",
     "text": [
      " 33%|███▎      | 1/3 [01:16<02:32, 76.49s/it]"
     ]
    },
    {
     "data": {
      "text/plain": [
       "  0%|          | 0/100 [00:00<?, ?it/s]"
      ],
      "application/vnd.jupyter.widget-view+json": {
       "version_major": 2,
       "version_minor": 0,
       "model_id": "47da387e46ff47ec898bdd7e4c40f277"
      }
     },
     "metadata": {},
     "output_type": "display_data"
    },
    {
     "data": {
      "text/plain": [
       "  0%|          | 0/100 [00:00<?, ?it/s]"
      ],
      "application/vnd.jupyter.widget-view+json": {
       "version_major": 2,
       "version_minor": 0,
       "model_id": "41459f595826492295508209738a57db"
      }
     },
     "metadata": {},
     "output_type": "display_data"
    },
    {
     "data": {
      "text/plain": [
       "  0%|          | 0/100 [00:00<?, ?it/s]"
      ],
      "application/vnd.jupyter.widget-view+json": {
       "version_major": 2,
       "version_minor": 0,
       "model_id": "e3f88749288e4c77858ae57836d126fe"
      }
     },
     "metadata": {},
     "output_type": "display_data"
    },
    {
     "data": {
      "text/plain": [
       "  0%|          | 0/100 [00:00<?, ?it/s]"
      ],
      "application/vnd.jupyter.widget-view+json": {
       "version_major": 2,
       "version_minor": 0,
       "model_id": "8027400faf1a46d7ae26c58e992029eb"
      }
     },
     "metadata": {},
     "output_type": "display_data"
    },
    {
     "name": "stderr",
     "output_type": "stream",
     "text": [
      " 67%|██████▋   | 2/3 [02:31<01:15, 75.49s/it]"
     ]
    },
    {
     "data": {
      "text/plain": [
       "  0%|          | 0/100 [00:00<?, ?it/s]"
      ],
      "application/vnd.jupyter.widget-view+json": {
       "version_major": 2,
       "version_minor": 0,
       "model_id": "3a3f0e489ca54f2aa35aee9b72390196"
      }
     },
     "metadata": {},
     "output_type": "display_data"
    },
    {
     "data": {
      "text/plain": [
       "  0%|          | 0/100 [00:00<?, ?it/s]"
      ],
      "application/vnd.jupyter.widget-view+json": {
       "version_major": 2,
       "version_minor": 0,
       "model_id": "d342f6eb49a647c28985132d4745b895"
      }
     },
     "metadata": {},
     "output_type": "display_data"
    },
    {
     "data": {
      "text/plain": [
       "  0%|          | 0/100 [00:00<?, ?it/s]"
      ],
      "application/vnd.jupyter.widget-view+json": {
       "version_major": 2,
       "version_minor": 0,
       "model_id": "d71ef46622c84445b4dc4fee99a1040a"
      }
     },
     "metadata": {},
     "output_type": "display_data"
    },
    {
     "data": {
      "text/plain": [
       "  0%|          | 0/100 [00:00<?, ?it/s]"
      ],
      "application/vnd.jupyter.widget-view+json": {
       "version_major": 2,
       "version_minor": 0,
       "model_id": "61558357f6344a5f997a00c5d8dc00d0"
      }
     },
     "metadata": {},
     "output_type": "display_data"
    },
    {
     "name": "stderr",
     "output_type": "stream",
     "text": [
      "100%|██████████| 3/3 [03:47<00:00, 75.90s/it]"
     ]
    },
    {
     "name": "stdout",
     "output_type": "stream",
     "text": [
      "RMSLE: 0.28483781691672705\n"
     ]
    },
    {
     "name": "stderr",
     "output_type": "stream",
     "text": [
      "\n"
     ]
    }
   ],
   "execution_count": 22
  },
  {
   "metadata": {
    "ExecuteTime": {
     "end_time": "2024-10-28T12:44:34.140798Z",
     "start_time": "2024-10-28T12:43:58.764472Z"
    }
   },
   "cell_type": "code",
   "source": "weighted_day_loss = evaluate(families_data, weighted_day_mean_predictor, disable_tqdm=False)",
   "id": "4bb66f3e002607e",
   "outputs": [
    {
     "name": "stderr",
     "output_type": "stream",
     "text": [
      "100%|██████████| 82/82 [00:29<00:00,  2.78it/s]\n"
     ]
    }
   ],
   "execution_count": 23
  },
  {
   "metadata": {
    "ExecuteTime": {
     "end_time": "2024-10-28T12:44:34.163836Z",
     "start_time": "2024-10-28T12:44:34.142621Z"
    }
   },
   "cell_type": "code",
   "source": "weighted_day_store_loss = weighted_day_loss.mean(axis=1).rename(\"weighted_day_rmsle\")",
   "id": "5b34cff306efe207",
   "outputs": [],
   "execution_count": 24
  },
  {
   "metadata": {
    "ExecuteTime": {
     "end_time": "2024-10-28T12:44:34.183462Z",
     "start_time": "2024-10-28T12:44:34.165511Z"
    }
   },
   "cell_type": "code",
   "source": "losses = pd.concat([daily_store_loss, weighted_day_store_loss], axis=1)",
   "id": "fb2b856ed2ea4365",
   "outputs": [],
   "execution_count": 25
  },
  {
   "metadata": {
    "ExecuteTime": {
     "end_time": "2024-10-28T12:44:34.211176Z",
     "start_time": "2024-10-28T12:44:34.186144Z"
    }
   },
   "cell_type": "code",
   "source": "losses.groupby(level=\"family\").mean()",
   "id": "4fc052b3dfaab04d",
   "outputs": [
    {
     "data": {
      "text/plain": [
       "              daily_rmsle  weighted_day_rmsle\n",
       "family                                       \n",
       "BREAD/BAKERY     0.236654            0.202178"
      ],
      "text/html": [
       "<div>\n",
       "<style scoped>\n",
       "    .dataframe tbody tr th:only-of-type {\n",
       "        vertical-align: middle;\n",
       "    }\n",
       "\n",
       "    .dataframe tbody tr th {\n",
       "        vertical-align: top;\n",
       "    }\n",
       "\n",
       "    .dataframe thead th {\n",
       "        text-align: right;\n",
       "    }\n",
       "</style>\n",
       "<table border=\"1\" class=\"dataframe\">\n",
       "  <thead>\n",
       "    <tr style=\"text-align: right;\">\n",
       "      <th></th>\n",
       "      <th>daily_rmsle</th>\n",
       "      <th>weighted_day_rmsle</th>\n",
       "    </tr>\n",
       "    <tr>\n",
       "      <th>family</th>\n",
       "      <th></th>\n",
       "      <th></th>\n",
       "    </tr>\n",
       "  </thead>\n",
       "  <tbody>\n",
       "    <tr>\n",
       "      <th>BREAD/BAKERY</th>\n",
       "      <td>0.236654</td>\n",
       "      <td>0.202178</td>\n",
       "    </tr>\n",
       "  </tbody>\n",
       "</table>\n",
       "</div>"
      ]
     },
     "execution_count": 26,
     "metadata": {},
     "output_type": "execute_result"
    }
   ],
   "execution_count": 26
  },
  {
   "metadata": {
    "ExecuteTime": {
     "end_time": "2024-10-28T12:44:39.132575Z",
     "start_time": "2024-10-28T12:44:39.110083Z"
    }
   },
   "cell_type": "code",
   "source": "losses[daily_store_loss < weighted_day_store_loss]",
   "id": "91424a16a87389f6",
   "outputs": [
    {
     "data": {
      "text/plain": [
       "                        daily_rmsle  weighted_day_rmsle\n",
       "family       store_nbr                                 \n",
       "BREAD/BAKERY 7             0.149010            0.149389\n",
       "             43            0.211763            0.231231\n",
       "             52            0.239691            0.594062"
      ],
      "text/html": [
       "<div>\n",
       "<style scoped>\n",
       "    .dataframe tbody tr th:only-of-type {\n",
       "        vertical-align: middle;\n",
       "    }\n",
       "\n",
       "    .dataframe tbody tr th {\n",
       "        vertical-align: top;\n",
       "    }\n",
       "\n",
       "    .dataframe thead th {\n",
       "        text-align: right;\n",
       "    }\n",
       "</style>\n",
       "<table border=\"1\" class=\"dataframe\">\n",
       "  <thead>\n",
       "    <tr style=\"text-align: right;\">\n",
       "      <th></th>\n",
       "      <th></th>\n",
       "      <th>daily_rmsle</th>\n",
       "      <th>weighted_day_rmsle</th>\n",
       "    </tr>\n",
       "    <tr>\n",
       "      <th>family</th>\n",
       "      <th>store_nbr</th>\n",
       "      <th></th>\n",
       "      <th></th>\n",
       "    </tr>\n",
       "  </thead>\n",
       "  <tbody>\n",
       "    <tr>\n",
       "      <th rowspan=\"3\" valign=\"top\">BREAD/BAKERY</th>\n",
       "      <th>7</th>\n",
       "      <td>0.149010</td>\n",
       "      <td>0.149389</td>\n",
       "    </tr>\n",
       "    <tr>\n",
       "      <th>43</th>\n",
       "      <td>0.211763</td>\n",
       "      <td>0.231231</td>\n",
       "    </tr>\n",
       "    <tr>\n",
       "      <th>52</th>\n",
       "      <td>0.239691</td>\n",
       "      <td>0.594062</td>\n",
       "    </tr>\n",
       "  </tbody>\n",
       "</table>\n",
       "</div>"
      ]
     },
     "execution_count": 27,
     "metadata": {},
     "output_type": "execute_result"
    }
   ],
   "execution_count": 27
  },
  {
   "metadata": {
    "ExecuteTime": {
     "end_time": "2024-10-28T12:44:54.021556Z",
     "start_time": "2024-10-28T12:44:54.004601Z"
    }
   },
   "cell_type": "code",
   "source": "weighted_day_mean_predictor.family_to_model_params_storage",
   "id": "2a4d1ba42881c132",
   "outputs": [
    {
     "data": {
      "text/plain": [
       "{'BREAD/BAKERY': {'params': {'model': 'WeightedDayMeanModelWrapper',\n",
       "   'days_window': 10,\n",
       "   'weeks_window': 6,\n",
       "   'months_window': 6,\n",
       "   'years_window': 1,\n",
       "   'day_weight': 1.0043105602931213,\n",
       "   'week_weight': 1.046386251939234,\n",
       "   'month_weight': 0.994065674117155,\n",
       "   'year_weight': 0.9807991102525296,\n",
       "   'bias': -9.848525056679737},\n",
       "  'stores': array([ 1,  2,  3,  4,  5,  6,  7,  8,  9, 10, 11, 12, 13, 14, 15, 16, 17,\n",
       "         18, 19, 20, 21, 22, 23, 24, 25, 26, 27, 28, 29, 30, 31, 32, 33, 34,\n",
       "         35, 36, 37, 38, 39, 40, 41, 42, 43, 44, 45, 46, 47, 48, 49, 50, 51,\n",
       "         52, 53, 54]),\n",
       "  'loss': 0.28483781691672705}}"
      ]
     },
     "execution_count": 28,
     "metadata": {},
     "output_type": "execute_result"
    }
   ],
   "execution_count": 28
  },
  {
   "metadata": {},
   "cell_type": "code",
   "outputs": [],
   "execution_count": null,
   "source": "",
   "id": "463e1f9a4c0de008"
  }
 ],
 "metadata": {
  "kernelspec": {
   "display_name": "Python 3",
   "language": "python",
   "name": "python3"
  },
  "language_info": {
   "codemirror_mode": {
    "name": "ipython",
    "version": 2
   },
   "file_extension": ".py",
   "mimetype": "text/x-python",
   "name": "python",
   "nbconvert_exporter": "python",
   "pygments_lexer": "ipython2",
   "version": "2.7.6"
  }
 },
 "nbformat": 4,
 "nbformat_minor": 5
}
