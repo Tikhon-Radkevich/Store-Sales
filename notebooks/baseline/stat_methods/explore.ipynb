{
 "cells": [
  {
   "cell_type": "markdown",
   "id": "72874de2924b4cda",
   "metadata": {},
   "source": "## Notebook Configuration && Imports"
  },
  {
   "cell_type": "code",
   "execution_count": 1,
   "id": "f994153a4e79e390",
   "metadata": {
    "ExecuteTime": {
     "end_time": "2024-11-14T09:50:25.452177Z",
     "start_time": "2024-11-14T09:50:25.426663Z"
    }
   },
   "outputs": [],
   "source": [
    "%load_ext autoreload\n",
    "%autoreload 2"
   ]
  },
  {
   "cell_type": "code",
   "execution_count": 2,
   "id": "fb5fe8980ab04e89",
   "metadata": {
    "ExecuteTime": {
     "end_time": "2024-11-14T09:50:26.646963Z",
     "start_time": "2024-11-14T09:50:25.546188Z"
    }
   },
   "outputs": [],
   "source": [
    "import pandas as pd\n",
    "\n",
    "from storesales.baseline.sales_predictor import SalesPredictor\n",
    "from storesales.baseline.explore_utils import (\n",
    "    family_store_con,\n",
    "    store_family_prediction_plot,\n",
    ")\n",
    "from storesales.baseline.utils import (\n",
    "    run_study,\n",
    "    load_baseline_data,\n",
    "    make_time_series_dataset,\n",
    "    evaluate,\n",
    "    make_parallel_predict,\n",
    ")\n",
    "from storesales.baseline.model_wrappers import (\n",
    "    DailyMeanModelWrapper,\n",
    "    WeightedDayMeanModelWrapper,\n",
    ")\n",
    "from storesales.baseline.param_suggestions import (\n",
    "    IntSuggestions,\n",
    "    FloatSuggestions,\n",
    ")\n",
    "from storesales.baseline.constants import STORES\n",
    "from storesales.constants import START_TEST_DATE, HORIZON_STR"
   ]
  },
  {
   "cell_type": "markdown",
   "id": "ae0e243efcd76233",
   "metadata": {},
   "source": "## Load Data && Create Dataset"
  },
  {
   "cell_type": "code",
   "execution_count": 3,
   "id": "4fe8b456ef6775e4",
   "metadata": {
    "ExecuteTime": {
     "end_time": "2024-11-14T09:50:30.138419Z",
     "start_time": "2024-11-14T09:50:26.648758Z"
    }
   },
   "outputs": [],
   "source": [
    "train_df, test_df, holidays_df = load_baseline_data(use_light_gbm_preprocessing=False)"
   ]
  },
  {
   "cell_type": "code",
   "execution_count": 4,
   "id": "44445058c3d761a4",
   "metadata": {
    "ExecuteTime": {
     "end_time": "2024-11-14T09:50:30.159076Z",
     "start_time": "2024-11-14T09:50:30.139679Z"
    }
   },
   "outputs": [],
   "source": [
    "train_test_split_date = pd.Timestamp(START_TEST_DATE)\n",
    "\n",
    "outer_cutoffs_dates = [\n",
    "    \"2016-08-16\",\n",
    "    \"2016-11-18\",\n",
    "    \"2017-02-20\",\n",
    "    \"2017-04-04\",\n",
    "]\n",
    "outer_cutoffs = [pd.Timestamp(date) for date in outer_cutoffs_dates]\n",
    "\n",
    "for cutoff in outer_cutoffs:\n",
    "    if cutoff + pd.Timedelta(HORIZON_STR) >= train_test_split_date:\n",
    "        raise ValueError(f\"cutoff {cutoff} falls into test period!\")"
   ]
  },
  {
   "cell_type": "code",
   "execution_count": 5,
   "id": "92474a6105bdd115",
   "metadata": {
    "ExecuteTime": {
     "end_time": "2024-11-14T09:50:30.178394Z",
     "start_time": "2024-11-14T09:50:30.162965Z"
    }
   },
   "outputs": [],
   "source": [
    "# families = [\"FROZEN FOODS\", \"EGGS\"]\n",
    "families = [\"BREAD/BAKERY\", \"CELEBRATION\", \"LADIESWEAR\"]\n",
    "# families = train_df[\"family\"].unique()\n",
    "\n",
    "family_groups = [(family,) for family in families]\n",
    "\n",
    "family_group_to_stores = dict(\n",
    "    [[family_group, STORES] for family_group in family_groups]\n",
    ")"
   ]
  },
  {
   "cell_type": "code",
   "execution_count": 6,
   "id": "cad0cb90dff706da",
   "metadata": {
    "ExecuteTime": {
     "end_time": "2024-11-14T09:50:30.343789Z",
     "start_time": "2024-11-14T09:50:30.179797Z"
    }
   },
   "outputs": [],
   "source": [
    "families_data = train_df[train_df[\"family\"].isin(families)]\n",
    "families_test_data = test_df[test_df[\"family\"].isin(families)]"
   ]
  },
  {
   "cell_type": "code",
   "execution_count": 7,
   "id": "78d9d36e9fc96a44",
   "metadata": {
    "ExecuteTime": {
     "end_time": "2024-11-14T09:50:31.509490Z",
     "start_time": "2024-11-14T09:50:30.345044Z"
    }
   },
   "outputs": [
    {
     "name": "stderr",
     "output_type": "stream",
     "text": [
      "100%|██████████| 162/162 [00:00<00:00, 176.65it/s]\n"
     ]
    }
   ],
   "source": [
    "train_dataset = make_time_series_dataset(families_data, outer_cutoffs, 16)"
   ]
  },
  {
   "cell_type": "markdown",
   "id": "f4d4b04dcba7f77a",
   "metadata": {},
   "source": [
    "## SalesPredictor\n",
    "### DailyMeanModel"
   ]
  },
  {
   "cell_type": "code",
   "execution_count": 8,
   "id": "6b724f68731cf68b",
   "metadata": {
    "ExecuteTime": {
     "end_time": "2024-11-14T09:50:31.529123Z",
     "start_time": "2024-11-14T09:50:31.511220Z"
    }
   },
   "outputs": [],
   "source": [
    "daily_wrapper = DailyMeanModelWrapper(int_suggestions=[IntSuggestions(\"window\", 3, 60)])\n",
    "\n",
    "daily_wrapper_dict = {DailyMeanModelWrapper.__name__: daily_wrapper}\n",
    "\n",
    "daily_optuna_kwargs = dict(\n",
    "    n_trials=100,\n",
    "    show_progress_bar=False,\n",
    "    timeout=45,\n",
    ")\n",
    "\n",
    "daily_predictor = SalesPredictor(\n",
    "    model_wrappers=daily_wrapper_dict,\n",
    "    family_groups=family_groups,\n",
    "    inner_cutoffs=[-365, -180, -49, -17],\n",
    "    optuna_optimize_kwargs=daily_optuna_kwargs,\n",
    "    n_group_store_family_choices=4,\n",
    "    n_single_store_family_choices=3,\n",
    "    family_group_to_stores=family_group_to_stores,\n",
    "    initial=None,\n",
    ")"
   ]
  },
  {
   "cell_type": "code",
   "execution_count": 9,
   "id": "9683e83b7ab9176b",
   "metadata": {
    "ExecuteTime": {
     "end_time": "2024-11-14T09:51:12.300297Z",
     "start_time": "2024-11-14T09:50:31.530910Z"
    }
   },
   "outputs": [
    {
     "name": "stdout",
     "output_type": "stream",
     "text": [
      "Family Group: ('BREAD/BAKERY',):\n"
     ]
    },
    {
     "name": "stderr",
     "output_type": "stream",
     "text": [
      "100%|██████████| 3/3 [00:14<00:00,  4.79s/it]\n"
     ]
    },
    {
     "name": "stdout",
     "output_type": "stream",
     "text": [
      "RMSLE: 0.30006273373640446\n",
      "Family Group: ('CELEBRATION',):\n"
     ]
    },
    {
     "name": "stderr",
     "output_type": "stream",
     "text": [
      "100%|██████████| 3/3 [00:13<00:00,  4.47s/it]\n"
     ]
    },
    {
     "name": "stdout",
     "output_type": "stream",
     "text": [
      "RMSLE: 0.5891826296991075\n",
      "Family Group: ('LADIESWEAR',):\n"
     ]
    },
    {
     "name": "stderr",
     "output_type": "stream",
     "text": [
      "100%|██████████| 3/3 [00:12<00:00,  4.32s/it]"
     ]
    },
    {
     "name": "stdout",
     "output_type": "stream",
     "text": [
      "RMSLE: 0.45603794515761464\n"
     ]
    },
    {
     "name": "stderr",
     "output_type": "stream",
     "text": [
      "\n"
     ]
    }
   ],
   "source": [
    "daily_predictor = run_study(train_dataset, daily_predictor, disable_tqdm=False)"
   ]
  },
  {
   "cell_type": "code",
   "execution_count": null,
   "id": "7d38c04a039b897d",
   "metadata": {},
   "outputs": [],
   "source": [
    "series_test_range = pd.date_range(\n",
    "    START_TEST_DATE, train_df[\"ds\"].max() - pd.Timedelta(days=16), freq=\"D\"\n",
    ")\n",
    "\n",
    "predictions = make_parallel_predict(\n",
    "    df=families_data,\n",
    "    predictor=daily_predictor,\n",
    "    series_range=series_test_range,\n",
    "    disable_tqdm=False,\n",
    ")"
   ]
  },
  {
   "cell_type": "code",
   "execution_count": 49,
   "id": "2b31bafa2374d75b",
   "metadata": {
    "ExecuteTime": {
     "end_time": "2024-11-14T10:31:21.133498Z",
     "start_time": "2024-11-14T10:31:21.113464Z"
    }
   },
   "outputs": [
    {
     "data": {
      "text/plain": [
       "(82,)"
      ]
     },
     "execution_count": 49,
     "metadata": {},
     "output_type": "execute_result"
    }
   ],
   "source": [
    "series_test_range.shape"
   ]
  },
  {
   "cell_type": "code",
   "execution_count": 45,
   "id": "6ada436d98004225",
   "metadata": {
    "ExecuteTime": {
     "end_time": "2024-11-14T10:30:36.192496Z",
     "start_time": "2024-11-14T10:30:36.109801Z"
    }
   },
   "outputs": [],
   "source": [
    "prediction = pd.concat(predictions)"
   ]
  },
  {
   "cell_type": "code",
   "execution_count": 50,
   "id": "15e05ee24eb2c222",
   "metadata": {
    "ExecuteTime": {
     "end_time": "2024-11-14T10:32:04.442924Z",
     "start_time": "2024-11-14T10:32:04.390596Z"
    }
   },
   "outputs": [
    {
     "name": "stdout",
     "output_type": "stream",
     "text": [
      "<class 'pandas.core.frame.DataFrame'>\n",
      "Index: 212544 entries, 0 to 2591\n",
      "Data columns (total 6 columns):\n",
      " #   Column              Non-Null Count   Dtype         \n",
      "---  ------              --------------   -----         \n",
      " 0   family              212544 non-null  object        \n",
      " 1   store_nbr           212544 non-null  int64         \n",
      " 2   ds                  212544 non-null  datetime64[ns]\n",
      " 3   yhat                212544 non-null  float64       \n",
      " 4   y                   212544 non-null  float64       \n",
      " 5   prediction_date_id  212544 non-null  datetime64[ns]\n",
      "dtypes: datetime64[ns](2), float64(2), int64(1), object(1)\n",
      "memory usage: 11.4+ MB\n"
     ]
    }
   ],
   "source": [
    "prediction.info()"
   ]
  },
  {
   "cell_type": "code",
   "execution_count": 51,
   "id": "ba5bea46865b5c02",
   "metadata": {
    "ExecuteTime": {
     "end_time": "2024-11-14T10:34:46.333718Z",
     "start_time": "2024-11-14T10:34:46.297149Z"
    }
   },
   "outputs": [
    {
     "data": {
      "text/html": [
       "<div>\n",
       "<style scoped>\n",
       "    .dataframe tbody tr th:only-of-type {\n",
       "        vertical-align: middle;\n",
       "    }\n",
       "\n",
       "    .dataframe tbody tr th {\n",
       "        vertical-align: top;\n",
       "    }\n",
       "\n",
       "    .dataframe thead th {\n",
       "        text-align: right;\n",
       "    }\n",
       "</style>\n",
       "<table border=\"1\" class=\"dataframe\">\n",
       "  <thead>\n",
       "    <tr style=\"text-align: right;\">\n",
       "      <th></th>\n",
       "      <th>family</th>\n",
       "      <th>store_nbr</th>\n",
       "      <th>ds</th>\n",
       "      <th>yhat</th>\n",
       "      <th>y</th>\n",
       "      <th>prediction_date_id</th>\n",
       "    </tr>\n",
       "  </thead>\n",
       "  <tbody>\n",
       "    <tr>\n",
       "      <th>0</th>\n",
       "      <td>BREAD/BAKERY</td>\n",
       "      <td>1</td>\n",
       "      <td>2017-05-10</td>\n",
       "      <td>360.14015</td>\n",
       "      <td>400.233</td>\n",
       "      <td>2017-05-10</td>\n",
       "    </tr>\n",
       "    <tr>\n",
       "      <th>1</th>\n",
       "      <td>BREAD/BAKERY</td>\n",
       "      <td>1</td>\n",
       "      <td>2017-05-11</td>\n",
       "      <td>360.14015</td>\n",
       "      <td>395.214</td>\n",
       "      <td>2017-05-10</td>\n",
       "    </tr>\n",
       "    <tr>\n",
       "      <th>2</th>\n",
       "      <td>BREAD/BAKERY</td>\n",
       "      <td>1</td>\n",
       "      <td>2017-05-12</td>\n",
       "      <td>360.14015</td>\n",
       "      <td>361.828</td>\n",
       "      <td>2017-05-10</td>\n",
       "    </tr>\n",
       "    <tr>\n",
       "      <th>3</th>\n",
       "      <td>BREAD/BAKERY</td>\n",
       "      <td>1</td>\n",
       "      <td>2017-05-13</td>\n",
       "      <td>360.14015</td>\n",
       "      <td>463.982</td>\n",
       "      <td>2017-05-10</td>\n",
       "    </tr>\n",
       "    <tr>\n",
       "      <th>4</th>\n",
       "      <td>BREAD/BAKERY</td>\n",
       "      <td>1</td>\n",
       "      <td>2017-05-14</td>\n",
       "      <td>360.14015</td>\n",
       "      <td>170.293</td>\n",
       "      <td>2017-05-10</td>\n",
       "    </tr>\n",
       "  </tbody>\n",
       "</table>\n",
       "</div>"
      ],
      "text/plain": [
       "         family  store_nbr         ds       yhat        y prediction_date_id\n",
       "0  BREAD/BAKERY          1 2017-05-10  360.14015  400.233         2017-05-10\n",
       "1  BREAD/BAKERY          1 2017-05-11  360.14015  395.214         2017-05-10\n",
       "2  BREAD/BAKERY          1 2017-05-12  360.14015  361.828         2017-05-10\n",
       "3  BREAD/BAKERY          1 2017-05-13  360.14015  463.982         2017-05-10\n",
       "4  BREAD/BAKERY          1 2017-05-14  360.14015  170.293         2017-05-10"
      ]
     },
     "execution_count": 51,
     "metadata": {},
     "output_type": "execute_result"
    }
   ],
   "source": [
    "prediction[prediction[\"family\"] == \"BREAD/BAKERY\"].head()"
   ]
  },
  {
   "cell_type": "code",
   "execution_count": null,
   "id": "baca8607f58252e7",
   "metadata": {
    "ExecuteTime": {
     "end_time": "2024-11-14T09:51:14.677287Z",
     "start_time": "2024-11-14T09:51:14.677107Z"
    }
   },
   "outputs": [],
   "source": [
    "daily_eval_loss = evaluate(families_data, daily_predictor, disable_tqdm=False)"
   ]
  },
  {
   "cell_type": "code",
   "execution_count": 13,
   "id": "615215d422d8de0f",
   "metadata": {
    "ExecuteTime": {
     "end_time": "2024-11-14T09:43:01.342570Z",
     "start_time": "2024-11-14T09:43:01.327127Z"
    }
   },
   "outputs": [],
   "source": [
    "daily_store_loss = daily_eval_loss.mean(axis=1).rename(\"daily_rmsle\")"
   ]
  },
  {
   "cell_type": "code",
   "execution_count": 14,
   "id": "209f86e65ab1c45d",
   "metadata": {
    "ExecuteTime": {
     "end_time": "2024-11-14T09:43:04.322492Z",
     "start_time": "2024-11-14T09:43:04.300063Z"
    }
   },
   "outputs": [
    {
     "data": {
      "text/plain": [
       "family\n",
       "BREAD/BAKERY    0.236796\n",
       "CELEBRATION     0.595359\n",
       "LADIESWEAR      0.504007\n",
       "Name: daily_rmsle, dtype: float64"
      ]
     },
     "execution_count": 14,
     "metadata": {},
     "output_type": "execute_result"
    }
   ],
   "source": [
    "daily_store_loss.groupby(level=\"family\").mean()"
   ]
  },
  {
   "cell_type": "markdown",
   "id": "a96f56d1fdc38294",
   "metadata": {},
   "source": "### WeightedDayMeanModelWrapper"
  },
  {
   "cell_type": "code",
   "execution_count": 11,
   "id": "736fa1487ec69b4c",
   "metadata": {
    "ExecuteTime": {
     "end_time": "2024-11-14T09:34:12.581527Z",
     "start_time": "2024-11-14T09:34:12.548721Z"
    }
   },
   "outputs": [],
   "source": [
    "weighted_day_mean_wrapper = WeightedDayMeanModelWrapper(\n",
    "    int_suggestions=[\n",
    "        IntSuggestions(\"days_window\", 1, 20),\n",
    "        IntSuggestions(\"weeks_window\", 1, 10),\n",
    "        IntSuggestions(\"months_window\", 0, 12),\n",
    "        IntSuggestions(\"years_window\", 0, 4),\n",
    "    ],\n",
    "    float_suggestions=[\n",
    "        FloatSuggestions(\"day_weight\", 0.88, 1.12),\n",
    "        FloatSuggestions(\"week_weight\", 0.88, 1.12),\n",
    "        FloatSuggestions(\"month_weight\", 0.88, 1.12),\n",
    "        FloatSuggestions(\"year_weight\", 0.88, 1.12),\n",
    "        FloatSuggestions(\"bias\", -100.0, 100.0),\n",
    "    ],\n",
    ")\n",
    "\n",
    "weighted_day_mean_wrapper_dict = {\n",
    "    WeightedDayMeanModelWrapper.__name__: weighted_day_mean_wrapper\n",
    "}\n",
    "\n",
    "weighted_day_mean_optuna_kwargs = dict(\n",
    "    n_trials=70,\n",
    "    show_progress_bar=True,\n",
    "    timeout=45,\n",
    "    n_jobs=6,\n",
    ")\n",
    "\n",
    "weighted_day_mean_predictor = SalesPredictor(\n",
    "    model_wrappers=weighted_day_mean_wrapper_dict,\n",
    "    family_groups=family_groups,\n",
    "    inner_cutoffs=[-365, -180, -49, -17],\n",
    "    optuna_optimize_kwargs=weighted_day_mean_optuna_kwargs,\n",
    "    n_group_store_family_choices=4,\n",
    "    n_single_store_family_choices=3,\n",
    "    family_group_to_stores=family_group_to_stores,\n",
    "    initial=None,\n",
    ")"
   ]
  },
  {
   "cell_type": "code",
   "execution_count": 12,
   "id": "8ede5f04a426538c",
   "metadata": {
    "ExecuteTime": {
     "end_time": "2024-11-14T09:37:17.695318Z",
     "start_time": "2024-11-14T09:34:15.003565Z"
    }
   },
   "outputs": [
    {
     "name": "stdout",
     "output_type": "stream",
     "text": [
      "Family Group: ('BREAD/BAKERY',):\n"
     ]
    },
    {
     "name": "stderr",
     "output_type": "stream",
     "text": [
      "  0%|          | 0/3 [00:00<?, ?it/s]"
     ]
    },
    {
     "data": {
      "application/vnd.jupyter.widget-view+json": {
       "model_id": "51352fe719464dd9ab19804631282b5f",
       "version_major": 2,
       "version_minor": 0
      },
      "text/plain": [
       "  0%|          | 0/70 [00:00<?, ?it/s]"
      ]
     },
     "metadata": {},
     "output_type": "display_data"
    },
    {
     "data": {
      "application/vnd.jupyter.widget-view+json": {
       "model_id": "1a35b68423a046369325b712bbde1944",
       "version_major": 2,
       "version_minor": 0
      },
      "text/plain": [
       "  0%|          | 0/70 [00:00<?, ?it/s]"
      ]
     },
     "metadata": {},
     "output_type": "display_data"
    },
    {
     "data": {
      "application/vnd.jupyter.widget-view+json": {
       "model_id": "fd2085bb27e147d1b57e5b16a1b1bf2a",
       "version_major": 2,
       "version_minor": 0
      },
      "text/plain": [
       "  0%|          | 0/70 [00:00<?, ?it/s]"
      ]
     },
     "metadata": {},
     "output_type": "display_data"
    },
    {
     "data": {
      "application/vnd.jupyter.widget-view+json": {
       "model_id": "254bdceca48542eea209d4ea08017372",
       "version_major": 2,
       "version_minor": 0
      },
      "text/plain": [
       "  0%|          | 0/70 [00:00<?, ?it/s]"
      ]
     },
     "metadata": {},
     "output_type": "display_data"
    },
    {
     "name": "stderr",
     "output_type": "stream",
     "text": [
      " 33%|███▎      | 1/3 [00:57<01:54, 57.20s/it]"
     ]
    },
    {
     "data": {
      "application/vnd.jupyter.widget-view+json": {
       "model_id": "8f6910d345be455699e1aea0bcb90cf1",
       "version_major": 2,
       "version_minor": 0
      },
      "text/plain": [
       "  0%|          | 0/70 [00:00<?, ?it/s]"
      ]
     },
     "metadata": {},
     "output_type": "display_data"
    },
    {
     "data": {
      "application/vnd.jupyter.widget-view+json": {
       "model_id": "700c648647854b16bdea0da758978480",
       "version_major": 2,
       "version_minor": 0
      },
      "text/plain": [
       "  0%|          | 0/70 [00:00<?, ?it/s]"
      ]
     },
     "metadata": {},
     "output_type": "display_data"
    },
    {
     "data": {
      "application/vnd.jupyter.widget-view+json": {
       "model_id": "fd2fbdbd247640668e7a82cd3c0fa375",
       "version_major": 2,
       "version_minor": 0
      },
      "text/plain": [
       "  0%|          | 0/70 [00:00<?, ?it/s]"
      ]
     },
     "metadata": {},
     "output_type": "display_data"
    },
    {
     "data": {
      "application/vnd.jupyter.widget-view+json": {
       "model_id": "d8ac469dd132446eb35f367406e2db72",
       "version_major": 2,
       "version_minor": 0
      },
      "text/plain": [
       "  0%|          | 0/70 [00:00<?, ?it/s]"
      ]
     },
     "metadata": {},
     "output_type": "display_data"
    },
    {
     "name": "stderr",
     "output_type": "stream",
     "text": [
      " 67%|██████▋   | 2/3 [01:56<00:58, 58.30s/it]"
     ]
    },
    {
     "data": {
      "application/vnd.jupyter.widget-view+json": {
       "model_id": "44984af94fda408a81078197f86c3c9e",
       "version_major": 2,
       "version_minor": 0
      },
      "text/plain": [
       "  0%|          | 0/70 [00:00<?, ?it/s]"
      ]
     },
     "metadata": {},
     "output_type": "display_data"
    },
    {
     "data": {
      "application/vnd.jupyter.widget-view+json": {
       "model_id": "cbb6aa59fcfb45729e5e5ae9a6ca540f",
       "version_major": 2,
       "version_minor": 0
      },
      "text/plain": [
       "  0%|          | 0/70 [00:00<?, ?it/s]"
      ]
     },
     "metadata": {},
     "output_type": "display_data"
    },
    {
     "data": {
      "application/vnd.jupyter.widget-view+json": {
       "model_id": "4f4dda83ff5f4708a73a6f287cc175e3",
       "version_major": 2,
       "version_minor": 0
      },
      "text/plain": [
       "  0%|          | 0/70 [00:00<?, ?it/s]"
      ]
     },
     "metadata": {},
     "output_type": "display_data"
    },
    {
     "data": {
      "application/vnd.jupyter.widget-view+json": {
       "model_id": "bfb8b294a8724e7db77f582179ddda30",
       "version_major": 2,
       "version_minor": 0
      },
      "text/plain": [
       "  0%|          | 0/70 [00:00<?, ?it/s]"
      ]
     },
     "metadata": {},
     "output_type": "display_data"
    },
    {
     "name": "stderr",
     "output_type": "stream",
     "text": [
      "100%|██████████| 3/3 [02:55<00:00, 58.44s/it]\n"
     ]
    },
    {
     "name": "stdout",
     "output_type": "stream",
     "text": [
      "RMSLE: 0.3092206964364313\n",
      "Family Group: ('CELEBRATION',):\n"
     ]
    },
    {
     "name": "stderr",
     "output_type": "stream",
     "text": [
      "  0%|          | 0/3 [00:00<?, ?it/s]"
     ]
    },
    {
     "data": {
      "application/vnd.jupyter.widget-view+json": {
       "model_id": "75d06e65b0204bf9b5b1f69b486e412c",
       "version_major": 2,
       "version_minor": 0
      },
      "text/plain": [
       "  0%|          | 0/70 [00:00<?, ?it/s]"
      ]
     },
     "metadata": {},
     "output_type": "display_data"
    },
    {
     "name": "stderr",
     "output_type": "stream",
     "text": [
      "  0%|          | 0/3 [00:07<?, ?it/s]\n"
     ]
    },
    {
     "ename": "KeyboardInterrupt",
     "evalue": "",
     "output_type": "error",
     "traceback": [
      "\u001B[0;31m---------------------------------------------------------------------------\u001B[0m",
      "\u001B[0;31mKeyboardInterrupt\u001B[0m                         Traceback (most recent call last)",
      "Cell \u001B[0;32mIn[12], line 1\u001B[0m\n\u001B[0;32m----> 1\u001B[0m weighted_day_mean_predictor \u001B[38;5;241m=\u001B[39m \u001B[43mrun_study\u001B[49m\u001B[43m(\u001B[49m\n\u001B[1;32m      2\u001B[0m \u001B[43m    \u001B[49m\u001B[43mtrain_dataset\u001B[49m\u001B[43m,\u001B[49m\u001B[43m \u001B[49m\u001B[43mweighted_day_mean_predictor\u001B[49m\u001B[43m,\u001B[49m\u001B[43m \u001B[49m\u001B[43mdisable_tqdm\u001B[49m\u001B[38;5;241;43m=\u001B[39;49m\u001B[38;5;28;43;01mFalse\u001B[39;49;00m\n\u001B[1;32m      3\u001B[0m \u001B[43m)\u001B[49m\n",
      "File \u001B[0;32m~/PycharmProjects/StoreSales/storesales/baseline/utils.py:128\u001B[0m, in \u001B[0;36mrun_study\u001B[0;34m(dataset, predictor, optuna_log_off, disable_tqdm)\u001B[0m\n\u001B[1;32m      0\u001B[0m <Error retrieving source code with stack_data see ipython/ipython#13598>\n",
      "File \u001B[0;32m~/PycharmProjects/StoreSales/.venv/lib/python3.10/site-packages/optuna/study/study.py:475\u001B[0m, in \u001B[0;36mStudy.optimize\u001B[0;34m(self, func, n_trials, timeout, n_jobs, catch, callbacks, gc_after_trial, show_progress_bar)\u001B[0m\n\u001B[1;32m    373\u001B[0m \u001B[38;5;28;01mdef\u001B[39;00m \u001B[38;5;21moptimize\u001B[39m(\n\u001B[1;32m    374\u001B[0m     \u001B[38;5;28mself\u001B[39m,\n\u001B[1;32m    375\u001B[0m     func: ObjectiveFuncType,\n\u001B[0;32m   (...)\u001B[0m\n\u001B[1;32m    382\u001B[0m     show_progress_bar: \u001B[38;5;28mbool\u001B[39m \u001B[38;5;241m=\u001B[39m \u001B[38;5;28;01mFalse\u001B[39;00m,\n\u001B[1;32m    383\u001B[0m ) \u001B[38;5;241m-\u001B[39m\u001B[38;5;241m>\u001B[39m \u001B[38;5;28;01mNone\u001B[39;00m:\n\u001B[1;32m    384\u001B[0m \u001B[38;5;250m    \u001B[39m\u001B[38;5;124;03m\"\"\"Optimize an objective function.\u001B[39;00m\n\u001B[1;32m    385\u001B[0m \n\u001B[1;32m    386\u001B[0m \u001B[38;5;124;03m    Optimization is done by choosing a suitable set of hyperparameter values from a given\u001B[39;00m\n\u001B[0;32m   (...)\u001B[0m\n\u001B[1;32m    473\u001B[0m \u001B[38;5;124;03m            If nested invocation of this method occurs.\u001B[39;00m\n\u001B[1;32m    474\u001B[0m \u001B[38;5;124;03m    \"\"\"\u001B[39;00m\n\u001B[0;32m--> 475\u001B[0m     \u001B[43m_optimize\u001B[49m\u001B[43m(\u001B[49m\n\u001B[1;32m    476\u001B[0m \u001B[43m        \u001B[49m\u001B[43mstudy\u001B[49m\u001B[38;5;241;43m=\u001B[39;49m\u001B[38;5;28;43mself\u001B[39;49m\u001B[43m,\u001B[49m\n\u001B[1;32m    477\u001B[0m \u001B[43m        \u001B[49m\u001B[43mfunc\u001B[49m\u001B[38;5;241;43m=\u001B[39;49m\u001B[43mfunc\u001B[49m\u001B[43m,\u001B[49m\n\u001B[1;32m    478\u001B[0m \u001B[43m        \u001B[49m\u001B[43mn_trials\u001B[49m\u001B[38;5;241;43m=\u001B[39;49m\u001B[43mn_trials\u001B[49m\u001B[43m,\u001B[49m\n\u001B[1;32m    479\u001B[0m \u001B[43m        \u001B[49m\u001B[43mtimeout\u001B[49m\u001B[38;5;241;43m=\u001B[39;49m\u001B[43mtimeout\u001B[49m\u001B[43m,\u001B[49m\n\u001B[1;32m    480\u001B[0m \u001B[43m        \u001B[49m\u001B[43mn_jobs\u001B[49m\u001B[38;5;241;43m=\u001B[39;49m\u001B[43mn_jobs\u001B[49m\u001B[43m,\u001B[49m\n\u001B[1;32m    481\u001B[0m \u001B[43m        \u001B[49m\u001B[43mcatch\u001B[49m\u001B[38;5;241;43m=\u001B[39;49m\u001B[38;5;28;43mtuple\u001B[39;49m\u001B[43m(\u001B[49m\u001B[43mcatch\u001B[49m\u001B[43m)\u001B[49m\u001B[43m \u001B[49m\u001B[38;5;28;43;01mif\u001B[39;49;00m\u001B[43m \u001B[49m\u001B[38;5;28;43misinstance\u001B[39;49m\u001B[43m(\u001B[49m\u001B[43mcatch\u001B[49m\u001B[43m,\u001B[49m\u001B[43m \u001B[49m\u001B[43mIterable\u001B[49m\u001B[43m)\u001B[49m\u001B[43m \u001B[49m\u001B[38;5;28;43;01melse\u001B[39;49;00m\u001B[43m \u001B[49m\u001B[43m(\u001B[49m\u001B[43mcatch\u001B[49m\u001B[43m,\u001B[49m\u001B[43m)\u001B[49m\u001B[43m,\u001B[49m\n\u001B[1;32m    482\u001B[0m \u001B[43m        \u001B[49m\u001B[43mcallbacks\u001B[49m\u001B[38;5;241;43m=\u001B[39;49m\u001B[43mcallbacks\u001B[49m\u001B[43m,\u001B[49m\n\u001B[1;32m    483\u001B[0m \u001B[43m        \u001B[49m\u001B[43mgc_after_trial\u001B[49m\u001B[38;5;241;43m=\u001B[39;49m\u001B[43mgc_after_trial\u001B[49m\u001B[43m,\u001B[49m\n\u001B[1;32m    484\u001B[0m \u001B[43m        \u001B[49m\u001B[43mshow_progress_bar\u001B[49m\u001B[38;5;241;43m=\u001B[39;49m\u001B[43mshow_progress_bar\u001B[49m\u001B[43m,\u001B[49m\n\u001B[1;32m    485\u001B[0m \u001B[43m    \u001B[49m\u001B[43m)\u001B[49m\n",
      "File \u001B[0;32m~/PycharmProjects/StoreSales/.venv/lib/python3.10/site-packages/optuna/study/_optimize.py:97\u001B[0m, in \u001B[0;36m_optimize\u001B[0;34m(study, func, n_trials, timeout, n_jobs, catch, callbacks, gc_after_trial, show_progress_bar)\u001B[0m\n\u001B[1;32m     94\u001B[0m     \u001B[38;5;28;01mbreak\u001B[39;00m\n\u001B[1;32m     96\u001B[0m \u001B[38;5;28;01mif\u001B[39;00m \u001B[38;5;28mlen\u001B[39m(futures) \u001B[38;5;241m>\u001B[39m\u001B[38;5;241m=\u001B[39m n_jobs:\n\u001B[0;32m---> 97\u001B[0m     completed, futures \u001B[38;5;241m=\u001B[39m \u001B[43mwait\u001B[49m\u001B[43m(\u001B[49m\u001B[43mfutures\u001B[49m\u001B[43m,\u001B[49m\u001B[43m \u001B[49m\u001B[43mreturn_when\u001B[49m\u001B[38;5;241;43m=\u001B[39;49m\u001B[43mFIRST_COMPLETED\u001B[49m\u001B[43m)\u001B[49m\n\u001B[1;32m     98\u001B[0m     \u001B[38;5;66;03m# Raise if exception occurred in executing the completed futures.\u001B[39;00m\n\u001B[1;32m     99\u001B[0m     \u001B[38;5;28;01mfor\u001B[39;00m f \u001B[38;5;129;01min\u001B[39;00m completed:\n",
      "File \u001B[0;32m/usr/lib/python3.10/concurrent/futures/_base.py:307\u001B[0m, in \u001B[0;36mwait\u001B[0;34m(fs, timeout, return_when)\u001B[0m\n\u001B[1;32m    303\u001B[0m         \u001B[38;5;28;01mreturn\u001B[39;00m DoneAndNotDoneFutures(done, not_done)\n\u001B[1;32m    305\u001B[0m     waiter \u001B[38;5;241m=\u001B[39m _create_and_install_waiters(fs, return_when)\n\u001B[0;32m--> 307\u001B[0m \u001B[43mwaiter\u001B[49m\u001B[38;5;241;43m.\u001B[39;49m\u001B[43mevent\u001B[49m\u001B[38;5;241;43m.\u001B[39;49m\u001B[43mwait\u001B[49m\u001B[43m(\u001B[49m\u001B[43mtimeout\u001B[49m\u001B[43m)\u001B[49m\n\u001B[1;32m    308\u001B[0m \u001B[38;5;28;01mfor\u001B[39;00m f \u001B[38;5;129;01min\u001B[39;00m fs:\n\u001B[1;32m    309\u001B[0m     \u001B[38;5;28;01mwith\u001B[39;00m f\u001B[38;5;241m.\u001B[39m_condition:\n",
      "File \u001B[0;32m/usr/lib/python3.10/threading.py:607\u001B[0m, in \u001B[0;36mEvent.wait\u001B[0;34m(self, timeout)\u001B[0m\n\u001B[1;32m    605\u001B[0m signaled \u001B[38;5;241m=\u001B[39m \u001B[38;5;28mself\u001B[39m\u001B[38;5;241m.\u001B[39m_flag\n\u001B[1;32m    606\u001B[0m \u001B[38;5;28;01mif\u001B[39;00m \u001B[38;5;129;01mnot\u001B[39;00m signaled:\n\u001B[0;32m--> 607\u001B[0m     signaled \u001B[38;5;241m=\u001B[39m \u001B[38;5;28;43mself\u001B[39;49m\u001B[38;5;241;43m.\u001B[39;49m\u001B[43m_cond\u001B[49m\u001B[38;5;241;43m.\u001B[39;49m\u001B[43mwait\u001B[49m\u001B[43m(\u001B[49m\u001B[43mtimeout\u001B[49m\u001B[43m)\u001B[49m\n\u001B[1;32m    608\u001B[0m \u001B[38;5;28;01mreturn\u001B[39;00m signaled\n",
      "File \u001B[0;32m/usr/lib/python3.10/threading.py:320\u001B[0m, in \u001B[0;36mCondition.wait\u001B[0;34m(self, timeout)\u001B[0m\n\u001B[1;32m    318\u001B[0m \u001B[38;5;28;01mtry\u001B[39;00m:    \u001B[38;5;66;03m# restore state no matter what (e.g., KeyboardInterrupt)\u001B[39;00m\n\u001B[1;32m    319\u001B[0m     \u001B[38;5;28;01mif\u001B[39;00m timeout \u001B[38;5;129;01mis\u001B[39;00m \u001B[38;5;28;01mNone\u001B[39;00m:\n\u001B[0;32m--> 320\u001B[0m         \u001B[43mwaiter\u001B[49m\u001B[38;5;241;43m.\u001B[39;49m\u001B[43macquire\u001B[49m\u001B[43m(\u001B[49m\u001B[43m)\u001B[49m\n\u001B[1;32m    321\u001B[0m         gotit \u001B[38;5;241m=\u001B[39m \u001B[38;5;28;01mTrue\u001B[39;00m\n\u001B[1;32m    322\u001B[0m     \u001B[38;5;28;01melse\u001B[39;00m:\n",
      "\u001B[0;31mKeyboardInterrupt\u001B[0m: "
     ]
    }
   ],
   "source": [
    "weighted_day_mean_predictor = run_study(\n",
    "    train_dataset, weighted_day_mean_predictor, disable_tqdm=False\n",
    ")"
   ]
  },
  {
   "cell_type": "code",
   "execution_count": 26,
   "id": "4bb66f3e002607e",
   "metadata": {
    "ExecuteTime": {
     "end_time": "2024-11-04T09:25:04.806853Z",
     "start_time": "2024-11-04T09:23:17.081499Z"
    }
   },
   "outputs": [
    {
     "name": "stderr",
     "output_type": "stream",
     "text": [
      "100%|██████████| 82/82 [01:28<00:00,  1.08s/it]\n"
     ]
    }
   ],
   "source": [
    "weighted_day_loss = evaluate(\n",
    "    families_data, weighted_day_mean_predictor, disable_tqdm=False\n",
    ")"
   ]
  },
  {
   "cell_type": "code",
   "execution_count": 27,
   "id": "5b34cff306efe207",
   "metadata": {
    "ExecuteTime": {
     "end_time": "2024-11-04T09:25:04.831026Z",
     "start_time": "2024-11-04T09:25:04.809177Z"
    }
   },
   "outputs": [],
   "source": [
    "weighted_day_store_loss = weighted_day_loss.mean(axis=1).rename(\"weighted_day_rmsle\")"
   ]
  },
  {
   "cell_type": "markdown",
   "id": "58193704b591f843",
   "metadata": {},
   "source": "### Explore Losses"
  },
  {
   "cell_type": "code",
   "execution_count": 28,
   "id": "fb2b856ed2ea4365",
   "metadata": {
    "ExecuteTime": {
     "end_time": "2024-11-04T09:25:04.847878Z",
     "start_time": "2024-11-04T09:25:04.832499Z"
    }
   },
   "outputs": [],
   "source": [
    "losses = pd.concat([daily_store_loss, weighted_day_store_loss], axis=1)"
   ]
  },
  {
   "cell_type": "code",
   "execution_count": 29,
   "id": "4fc052b3dfaab04d",
   "metadata": {
    "ExecuteTime": {
     "end_time": "2024-11-04T09:25:04.872156Z",
     "start_time": "2024-11-04T09:25:04.849817Z"
    }
   },
   "outputs": [
    {
     "data": {
      "text/html": [
       "<div>\n",
       "<style scoped>\n",
       "    .dataframe tbody tr th:only-of-type {\n",
       "        vertical-align: middle;\n",
       "    }\n",
       "\n",
       "    .dataframe tbody tr th {\n",
       "        vertical-align: top;\n",
       "    }\n",
       "\n",
       "    .dataframe thead th {\n",
       "        text-align: right;\n",
       "    }\n",
       "</style>\n",
       "<table border=\"1\" class=\"dataframe\">\n",
       "  <thead>\n",
       "    <tr style=\"text-align: right;\">\n",
       "      <th></th>\n",
       "      <th>daily_rmsle</th>\n",
       "      <th>weighted_day_rmsle</th>\n",
       "    </tr>\n",
       "    <tr>\n",
       "      <th>family</th>\n",
       "      <th></th>\n",
       "      <th></th>\n",
       "    </tr>\n",
       "  </thead>\n",
       "  <tbody>\n",
       "    <tr>\n",
       "      <th>BREAD/BAKERY</th>\n",
       "      <td>0.236941</td>\n",
       "      <td>0.202937</td>\n",
       "    </tr>\n",
       "    <tr>\n",
       "      <th>CELEBRATION</th>\n",
       "      <td>0.597406</td>\n",
       "      <td>0.598290</td>\n",
       "    </tr>\n",
       "    <tr>\n",
       "      <th>LADIESWEAR</th>\n",
       "      <td>0.505313</td>\n",
       "      <td>1.795308</td>\n",
       "    </tr>\n",
       "  </tbody>\n",
       "</table>\n",
       "</div>"
      ],
      "text/plain": [
       "              daily_rmsle  weighted_day_rmsle\n",
       "family                                       \n",
       "BREAD/BAKERY     0.236941            0.202937\n",
       "CELEBRATION      0.597406            0.598290\n",
       "LADIESWEAR       0.505313            1.795308"
      ]
     },
     "execution_count": 29,
     "metadata": {},
     "output_type": "execute_result"
    }
   ],
   "source": [
    "losses.groupby(level=\"family\").mean()"
   ]
  },
  {
   "cell_type": "code",
   "execution_count": 30,
   "id": "fb0000dc9ec97fa6",
   "metadata": {
    "ExecuteTime": {
     "end_time": "2024-11-04T09:25:08.065594Z",
     "start_time": "2024-11-04T09:25:08.044043Z"
    }
   },
   "outputs": [],
   "source": [
    "losses[\"diff\"] = losses[\"daily_rmsle\"] - losses[\"weighted_day_rmsle\"]"
   ]
  },
  {
   "cell_type": "code",
   "execution_count": 31,
   "id": "62ddd075252e76eb",
   "metadata": {
    "ExecuteTime": {
     "end_time": "2024-11-04T09:25:10.558153Z",
     "start_time": "2024-11-04T09:25:10.537542Z"
    }
   },
   "outputs": [
    {
     "data": {
      "text/html": [
       "<div>\n",
       "<style scoped>\n",
       "    .dataframe tbody tr th:only-of-type {\n",
       "        vertical-align: middle;\n",
       "    }\n",
       "\n",
       "    .dataframe tbody tr th {\n",
       "        vertical-align: top;\n",
       "    }\n",
       "\n",
       "    .dataframe thead th {\n",
       "        text-align: right;\n",
       "    }\n",
       "</style>\n",
       "<table border=\"1\" class=\"dataframe\">\n",
       "  <thead>\n",
       "    <tr style=\"text-align: right;\">\n",
       "      <th></th>\n",
       "      <th></th>\n",
       "      <th>daily_rmsle</th>\n",
       "      <th>weighted_day_rmsle</th>\n",
       "      <th>diff</th>\n",
       "    </tr>\n",
       "    <tr>\n",
       "      <th>family</th>\n",
       "      <th>store_nbr</th>\n",
       "      <th></th>\n",
       "      <th></th>\n",
       "      <th></th>\n",
       "    </tr>\n",
       "  </thead>\n",
       "  <tbody>\n",
       "    <tr>\n",
       "      <th rowspan=\"5\" valign=\"top\">BREAD/BAKERY</th>\n",
       "      <th>1</th>\n",
       "      <td>0.335415</td>\n",
       "      <td>0.321430</td>\n",
       "      <td>0.013985</td>\n",
       "    </tr>\n",
       "    <tr>\n",
       "      <th>2</th>\n",
       "      <td>0.183413</td>\n",
       "      <td>0.141802</td>\n",
       "      <td>0.041611</td>\n",
       "    </tr>\n",
       "    <tr>\n",
       "      <th>3</th>\n",
       "      <td>0.167587</td>\n",
       "      <td>0.146739</td>\n",
       "      <td>0.020848</td>\n",
       "    </tr>\n",
       "    <tr>\n",
       "      <th>4</th>\n",
       "      <td>0.221791</td>\n",
       "      <td>0.188429</td>\n",
       "      <td>0.033363</td>\n",
       "    </tr>\n",
       "    <tr>\n",
       "      <th>5</th>\n",
       "      <td>0.164155</td>\n",
       "      <td>0.137313</td>\n",
       "      <td>0.026842</td>\n",
       "    </tr>\n",
       "    <tr>\n",
       "      <th>...</th>\n",
       "      <th>...</th>\n",
       "      <td>...</td>\n",
       "      <td>...</td>\n",
       "      <td>...</td>\n",
       "    </tr>\n",
       "    <tr>\n",
       "      <th rowspan=\"5\" valign=\"top\">LADIESWEAR</th>\n",
       "      <th>50</th>\n",
       "      <td>0.692497</td>\n",
       "      <td>3.013240</td>\n",
       "      <td>-2.320743</td>\n",
       "    </tr>\n",
       "    <tr>\n",
       "      <th>51</th>\n",
       "      <td>0.881718</td>\n",
       "      <td>1.512953</td>\n",
       "      <td>-0.631235</td>\n",
       "    </tr>\n",
       "    <tr>\n",
       "      <th>52</th>\n",
       "      <td>0.713715</td>\n",
       "      <td>2.257975</td>\n",
       "      <td>-1.544259</td>\n",
       "    </tr>\n",
       "    <tr>\n",
       "      <th>53</th>\n",
       "      <td>0.797541</td>\n",
       "      <td>1.746772</td>\n",
       "      <td>-0.949232</td>\n",
       "    </tr>\n",
       "    <tr>\n",
       "      <th>54</th>\n",
       "      <td>0.000000</td>\n",
       "      <td>0.000000</td>\n",
       "      <td>0.000000</td>\n",
       "    </tr>\n",
       "  </tbody>\n",
       "</table>\n",
       "<p>162 rows × 3 columns</p>\n",
       "</div>"
      ],
      "text/plain": [
       "                        daily_rmsle  weighted_day_rmsle      diff\n",
       "family       store_nbr                                           \n",
       "BREAD/BAKERY 1             0.335415            0.321430  0.013985\n",
       "             2             0.183413            0.141802  0.041611\n",
       "             3             0.167587            0.146739  0.020848\n",
       "             4             0.221791            0.188429  0.033363\n",
       "             5             0.164155            0.137313  0.026842\n",
       "...                             ...                 ...       ...\n",
       "LADIESWEAR   50            0.692497            3.013240 -2.320743\n",
       "             51            0.881718            1.512953 -0.631235\n",
       "             52            0.713715            2.257975 -1.544259\n",
       "             53            0.797541            1.746772 -0.949232\n",
       "             54            0.000000            0.000000  0.000000\n",
       "\n",
       "[162 rows x 3 columns]"
      ]
     },
     "execution_count": 31,
     "metadata": {},
     "output_type": "execute_result"
    }
   ],
   "source": [
    "losses"
   ]
  },
  {
   "cell_type": "code",
   "execution_count": 43,
   "id": "eec0e8a8efbfdca1",
   "metadata": {
    "ExecuteTime": {
     "end_time": "2024-11-04T09:38:21.015606Z",
     "start_time": "2024-11-04T09:38:20.742085Z"
    }
   },
   "outputs": [],
   "source": [
    "family_to_plot = \"BREAD/BAKERY\"\n",
    "store_nbr_to_plot = 52\n",
    "\n",
    "data_to_plot_df = family_store_con(train_df, family_to_plot, store_nbr_to_plot)\n",
    "test_data_to_plot_df = family_store_con(test_df, family_to_plot, store_nbr_to_plot)"
   ]
  },
  {
   "cell_type": "code",
   "execution_count": 49,
   "id": "2a66271a197d523c",
   "metadata": {
    "ExecuteTime": {
     "end_time": "2024-11-04T09:40:59.215140Z",
     "start_time": "2024-11-04T09:40:58.818468Z"
    }
   },
   "outputs": [
    {
     "name": "stderr",
     "output_type": "stream",
     "text": [
      "100%|██████████| 1/1 [00:00<00:00, 159.49it/s]\n",
      "100%|██████████| 1/1 [00:00<00:00, 294.50it/s]\n"
     ]
    },
    {
     "data": {
      "image/png": "[encoded data removed]",
      "text/plain": [
       "<Figure size 2000x1000 with 1 Axes>"
      ]
     },
     "metadata": {},
     "output_type": "display_data"
    }
   ],
   "source": [
    "store_family_prediction_plot(\n",
    "    predictor=daily_predictor,\n",
    "    data_to_plot=data_to_plot_df,\n",
    "    family=family_to_plot,\n",
    "    store_nbr=store_nbr_to_plot,\n",
    "    # test_data=test_data_to_plot_df,\n",
    "    data_slice=100,\n",
    ")"
   ]
  },
  {
   "cell_type": "markdown",
   "id": "fd036cfd898200a2",
   "metadata": {},
   "source": "### Explore WeightedDayMeanModel Params"
  },
  {
   "cell_type": "code",
   "execution_count": 25,
   "id": "2a4d1ba42881c132",
   "metadata": {
    "ExecuteTime": {
     "end_time": "2024-11-04T09:22:20.755011Z",
     "start_time": "2024-11-04T09:22:20.737860Z"
    }
   },
   "outputs": [
    {
     "data": {
      "text/plain": [
       "{'BREAD/BAKERY': {'params': {'model': 'WeightedDayMeanModelWrapper',\n",
       "   'days_window': 10,\n",
       "   'weeks_window': 6,\n",
       "   'months_window': 6,\n",
       "   'years_window': 1,\n",
       "   'day_weight': 0.955834290460997,\n",
       "   'week_weight': 1.0423341908370698,\n",
       "   'month_weight': 0.9754934467250637,\n",
       "   'year_weight': 0.9948456034644321,\n",
       "   'bias': 0.17411954725952597},\n",
       "  'stores': array([ 1,  2,  3,  4,  5,  6,  7,  8,  9, 10, 11, 12, 13, 14, 15, 16, 17,\n",
       "         18, 19, 20, 21, 22, 23, 24, 25, 26, 27, 28, 29, 30, 31, 32, 33, 34,\n",
       "         35, 36, 37, 38, 39, 40, 41, 42, 43, 44, 45, 46, 47, 48, 49, 50, 51,\n",
       "         52, 53, 54]),\n",
       "  'loss': 0.30590575099267225},\n",
       " 'CELEBRATION': {'params': {'model': 'WeightedDayMeanModelWrapper',\n",
       "   'days_window': 8,\n",
       "   'weeks_window': 6,\n",
       "   'months_window': 8,\n",
       "   'years_window': 2,\n",
       "   'day_weight': 0.9989993515243786,\n",
       "   'week_weight': 0.979259252160261,\n",
       "   'month_weight': 1.0276945300906453,\n",
       "   'year_weight': 0.9944297685115263,\n",
       "   'bias': 0.726370420867568},\n",
       "  'stores': array([ 1,  2,  3,  4,  5,  6,  7,  8,  9, 10, 11, 12, 13, 14, 15, 16, 17,\n",
       "         18, 19, 20, 21, 22, 23, 24, 25, 26, 27, 28, 29, 30, 31, 32, 33, 34,\n",
       "         35, 36, 37, 38, 39, 40, 41, 42, 43, 44, 45, 46, 47, 48, 49, 50, 51,\n",
       "         52, 53, 54]),\n",
       "  'loss': 0.6063009137394445},\n",
       " 'LADIESWEAR': {'params': {'model': 'WeightedDayMeanModelWrapper',\n",
       "   'days_window': 9,\n",
       "   'weeks_window': 4,\n",
       "   'months_window': 5,\n",
       "   'years_window': 2,\n",
       "   'day_weight': 1.006783257508842,\n",
       "   'week_weight': 0.9827288214339452,\n",
       "   'month_weight': 0.9835266918012909,\n",
       "   'year_weight': 1.0131019268482195,\n",
       "   'bias': -33.47410126326356},\n",
       "  'stores': array([ 1,  2,  3,  4,  5,  6,  7,  8,  9, 10, 11, 12, 13, 14, 15, 16, 17,\n",
       "         18, 19, 20, 21, 22, 23, 24, 25, 26, 27, 28, 29, 30, 31, 32, 33, 34,\n",
       "         35, 36, 37, 38, 39, 40, 41, 42, 43, 44, 45, 46, 47, 48, 49, 50, 51,\n",
       "         52, 53, 54]),\n",
       "  'loss': 1.1272874811808065}}"
      ]
     },
     "execution_count": 25,
     "metadata": {},
     "output_type": "execute_result"
    }
   ],
   "source": [
    "weighted_day_mean_predictor.family_to_model_params_storage"
   ]
  },
  {
   "cell_type": "markdown",
   "id": "7259a61add186f66",
   "metadata": {},
   "source": "### Save Model"
  },
  {
   "cell_type": "code",
   "execution_count": null,
   "id": "71c75430854fd9",
   "metadata": {},
   "outputs": [],
   "source": [
    "predictor_to_save = daily_predictor\n",
    "loss_df_to_save = daily_eval_loss\n",
    "\n",
    "predictor_to_save.fit(families_data)"
   ]
  },
  {
   "cell_type": "code",
   "execution_count": null,
   "id": "19a4b310ab56ee08",
   "metadata": {},
   "outputs": [],
   "source": []
  },
  {
   "cell_type": "code",
   "execution_count": null,
   "id": "a67c334b99e18aa0",
   "metadata": {},
   "outputs": [],
   "source": []
  }
 ],
 "metadata": {
  "kernelspec": {
   "display_name": "Python 3",
   "language": "python",
   "name": "python3"
  },
  "language_info": {
   "codemirror_mode": {
    "name": "ipython",
    "version": 2
   },
   "file_extension": ".py",
   "mimetype": "text/x-python",
   "name": "python",
   "nbconvert_exporter": "python",
   "pygments_lexer": "ipython2",
   "version": "2.7.6"
  }
 },
 "nbformat": 4,
 "nbformat_minor": 5
}
