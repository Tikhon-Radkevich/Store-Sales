{
 "cells": [
  {
   "cell_type": "markdown",
   "id": "72874de2924b4cda",
   "metadata": {},
   "source": "## Notebook Configuration && Imports"
  },
  {
   "cell_type": "code",
   "id": "f994153a4e79e390",
   "metadata": {
    "ExecuteTime": {
     "end_time": "2024-11-01T10:58:20.161309Z",
     "start_time": "2024-11-01T10:58:20.137345Z"
    }
   },
   "source": [
    "%load_ext autoreload\n",
    "%autoreload 2"
   ],
   "outputs": [],
   "execution_count": 1
  },
  {
   "cell_type": "code",
   "id": "fb5fe8980ab04e89",
   "metadata": {
    "ExecuteTime": {
     "end_time": "2024-11-01T10:58:21.301718Z",
     "start_time": "2024-11-01T10:58:21.174909Z"
    }
   },
   "source": [
    "import os\n",
    "\n",
    "import pandas as pd\n",
    "\n",
    "from storesales.baseline.sales_predictor import SalesPredictor\n",
    "from storesales.baseline.utils import (\n",
    "    run_study,\n",
    "    load_baseline_data,\n",
    "    make_time_series_dataset,\n",
    "    evaluate,\n",
    ")\n",
    "from storesales.baseline.model_wrappers import (\n",
    "    DailyMeanModelWrapper,\n",
    "    DayOfWeekMeanModelWrapper,\n",
    "    WeightedDayMeanModelWrapper,\n",
    ")\n",
    "from storesales.baseline.param_suggestions import (\n",
    "    IntSuggestions,\n",
    "    FloatSuggestions,\n",
    "    CategoricalSuggestions,\n",
    ")\n",
    "from storesales.baseline.constants import STORES\n",
    "from storesales.constants import (\n",
    "    TRAIN_TEST_SPLIT_DATE,\n",
    "    HORIZON_STR,\n",
    "    LOSSES_DATA_PATH,\n",
    "    MODELS_PATH,\n",
    ")"
   ],
   "outputs": [],
   "execution_count": 2
  },
  {
   "cell_type": "markdown",
   "id": "ae0e243efcd76233",
   "metadata": {},
   "source": "## Load Data && Create Dataset"
  },
  {
   "cell_type": "code",
   "id": "4fe8b456ef6775e4",
   "metadata": {
    "ExecuteTime": {
     "end_time": "2024-11-01T10:58:24.912252Z",
     "start_time": "2024-11-01T10:58:22.213482Z"
    }
   },
   "source": [
    "train_df, test_df, holidays_df = load_baseline_data(use_light_gbm_preprocessing=False)"
   ],
   "outputs": [],
   "execution_count": 3
  },
  {
   "cell_type": "code",
   "id": "44445058c3d761a4",
   "metadata": {
    "ExecuteTime": {
     "end_time": "2024-11-01T10:58:24.930163Z",
     "start_time": "2024-11-01T10:58:24.913631Z"
    }
   },
   "source": [
    "train_test_split_date = pd.Timestamp(TRAIN_TEST_SPLIT_DATE)\n",
    "\n",
    "outer_cutoffs_dates = [\n",
    "    \"2016-08-16\",\n",
    "    \"2016-11-18\",\n",
    "    \"2017-02-20\",\n",
    "    \"2017-04-04\",\n",
    "]\n",
    "outer_cutoffs = [pd.Timestamp(date) for date in outer_cutoffs_dates]\n",
    "\n",
    "for cutoff in outer_cutoffs:\n",
    "    if cutoff + pd.Timedelta(HORIZON_STR) >= train_test_split_date:\n",
    "        raise ValueError(f\"cutoff {cutoff} falls into test period!\")"
   ],
   "outputs": [],
   "execution_count": 4
  },
  {
   "cell_type": "code",
   "id": "92474a6105bdd115",
   "metadata": {
    "ExecuteTime": {
     "end_time": "2024-11-01T10:58:25.316722Z",
     "start_time": "2024-11-01T10:58:25.159577Z"
    }
   },
   "source": [
    "# families = [\"FROZEN FOODS\", \"EGGS\"]\n",
    "# families = [\"BREAD/BAKERY\", \"CELEBRATION\"]\n",
    "families = train_df[\"family\"].unique()\n",
    "\n",
    "family_groups = [(family,) for family in families]\n",
    "\n",
    "family_group_to_stores = dict(\n",
    "    [[family_group, STORES] for family_group in family_groups]\n",
    ")"
   ],
   "outputs": [],
   "execution_count": 5
  },
  {
   "cell_type": "code",
   "id": "cad0cb90dff706da",
   "metadata": {
    "ExecuteTime": {
     "end_time": "2024-11-01T10:58:26.344680Z",
     "start_time": "2024-11-01T10:58:26.139443Z"
    }
   },
   "source": [
    "families_data = train_df[train_df[\"family\"].isin(families)]"
   ],
   "outputs": [],
   "execution_count": 6
  },
  {
   "cell_type": "code",
   "id": "78d9d36e9fc96a44",
   "metadata": {
    "ExecuteTime": {
     "end_time": "2024-11-01T10:58:37.124938Z",
     "start_time": "2024-11-01T10:58:27.354899Z"
    }
   },
   "source": [
    "train_dataset = make_time_series_dataset(families_data, outer_cutoffs, 16)"
   ],
   "outputs": [
    {
     "name": "stderr",
     "output_type": "stream",
     "text": [
      "100%|██████████| 1782/1782 [00:07<00:00, 224.24it/s]\n"
     ]
    }
   ],
   "execution_count": 7
  },
  {
   "cell_type": "markdown",
   "id": "f4d4b04dcba7f77a",
   "metadata": {},
   "source": [
    "## SalesPredictor\n",
    "### DailyMeanModel"
   ]
  },
  {
   "cell_type": "code",
   "id": "6b724f68731cf68b",
   "metadata": {
    "ExecuteTime": {
     "end_time": "2024-11-01T10:47:33.820558Z",
     "start_time": "2024-11-01T10:47:33.803612Z"
    }
   },
   "source": [
    "daily_wrapper = DailyMeanModelWrapper(int_suggestions=[IntSuggestions(\"window\", 3, 60)])\n",
    "\n",
    "daily_wrapper_dict = {DailyMeanModelWrapper.__name__: daily_wrapper}\n",
    "\n",
    "daily_optuna_kwargs = dict(\n",
    "    n_trials=100,\n",
    "    show_progress_bar=False,\n",
    "    timeout=45,\n",
    ")\n",
    "\n",
    "daily_predictor = SalesPredictor(\n",
    "    model_wrappers=daily_wrapper_dict,\n",
    "    family_groups=family_groups,\n",
    "    inner_cutoffs=[-365, -180, -49, -17],\n",
    "    optuna_optimize_kwargs=daily_optuna_kwargs,\n",
    "    n_group_store_family_choices=4,\n",
    "    n_single_store_family_choices=3,\n",
    "    family_group_to_stores=family_group_to_stores,\n",
    "    initial=None,\n",
    ")"
   ],
   "outputs": [],
   "execution_count": 8
  },
  {
   "cell_type": "code",
   "id": "9683e83b7ab9176b",
   "metadata": {},
   "source": [
    "daily_predictor = run_study(train_dataset, daily_predictor, disable_tqdm=False)"
   ],
   "outputs": [],
   "execution_count": null
  },
  {
   "cell_type": "code",
   "id": "baca8607f58252e7",
   "metadata": {
    "ExecuteTime": {
     "end_time": "2024-11-01T11:01:13.982366Z",
     "start_time": "2024-11-01T10:59:52.169109Z"
    }
   },
   "source": "daily_eval_loss = evaluate(families_data, daily_predictor, disable_tqdm=False)",
   "outputs": [
    {
     "name": "stderr",
     "output_type": "stream",
     "text": [
      "100%|██████████| 82/82 [01:07<00:00,  1.21it/s]\n"
     ]
    }
   ],
   "execution_count": 10
  },
  {
   "cell_type": "code",
   "id": "615215d422d8de0f",
   "metadata": {
    "ExecuteTime": {
     "end_time": "2024-11-01T11:02:22.405244Z",
     "start_time": "2024-11-01T11:02:22.372495Z"
    }
   },
   "source": "daily_store_loss = daily_eval_loss.mean(axis=1).rename(\"daily_rmsle\")",
   "outputs": [],
   "execution_count": 11
  },
  {
   "cell_type": "code",
   "id": "209f86e65ab1c45d",
   "metadata": {
    "ExecuteTime": {
     "end_time": "2024-11-01T11:02:24.876709Z",
     "start_time": "2024-11-01T11:02:24.846245Z"
    }
   },
   "source": "daily_store_loss.groupby(level=\"family\").mean()",
   "outputs": [
    {
     "data": {
      "text/plain": [
       "family\n",
       "AUTOMOTIVE                    0.549853\n",
       "BABY CARE                     0.194055\n",
       "BEAUTY                        0.574898\n",
       "BEVERAGES                     0.275564\n",
       "BOOKS                         0.078480\n",
       "BREAD/BAKERY                  0.236766\n",
       "CELEBRATION                   0.595359\n",
       "CLEANING                      0.320998\n",
       "DAIRY                         0.246879\n",
       "DELI                          0.254749\n",
       "EGGS                          0.386635\n",
       "FROZEN FOODS                  0.399494\n",
       "GROCERY I                     0.241929\n",
       "GROCERY II                    0.569867\n",
       "HARDWARE                      0.546267\n",
       "HOME AND KITCHEN I            0.543460\n",
       "HOME AND KITCHEN II           0.481282\n",
       "HOME APPLIANCES               0.418675\n",
       "HOME CARE                     0.291221\n",
       "LADIESWEAR                    0.501788\n",
       "LAWN AND GARDEN               0.445791\n",
       "LINGERIE                      0.683757\n",
       "LIQUOR,WINE,BEER              0.708146\n",
       "MAGAZINES                     0.538552\n",
       "MEATS                         0.299842\n",
       "PERSONAL CARE                 0.328329\n",
       "PET SUPPLIES                  0.492025\n",
       "PLAYERS AND ELECTRONICS       0.507187\n",
       "POULTRY                       0.299499\n",
       "PREPARED FOODS                0.301887\n",
       "PRODUCE                       0.277055\n",
       "SCHOOL AND OFFICE SUPPLIES    0.644878\n",
       "SEAFOOD                       0.550048\n",
       "Name: daily_rmsle, dtype: float64"
      ]
     },
     "execution_count": 12,
     "metadata": {},
     "output_type": "execute_result"
    }
   ],
   "execution_count": 12
  },
  {
   "metadata": {},
   "cell_type": "markdown",
   "source": "### Save Model",
   "id": "350046f6de179b6d"
  },
  {
   "metadata": {
    "ExecuteTime": {
     "end_time": "2024-11-01T11:02:32.912001Z",
     "start_time": "2024-11-01T11:02:29.695687Z"
    }
   },
   "cell_type": "code",
   "source": "daily_predictor.fit(families_data)",
   "id": "eb424b3853729b74",
   "outputs": [
    {
     "name": "stderr",
     "output_type": "stream",
     "text": [
      "100%|██████████| 1782/1782 [00:00<00:00, 1952.67it/s]\n"
     ]
    }
   ],
   "execution_count": 13
  },
  {
   "cell_type": "code",
   "id": "b161f321e6478951",
   "metadata": {
    "ExecuteTime": {
     "end_time": "2024-11-01T11:02:44.997512Z",
     "start_time": "2024-11-01T11:02:44.809903Z"
    }
   },
   "source": [
    "loss_file = os.path.join(LOSSES_DATA_PATH, \"test_daily_eval_loss.csv\")\n",
    "daily_eval_loss.to_csv(loss_file, index=True)\n",
    "daily_predictor.eval_loss_csv = loss_file"
   ],
   "outputs": [],
   "execution_count": 14
  },
  {
   "cell_type": "code",
   "id": "505fb685b8f47df6",
   "metadata": {
    "ExecuteTime": {
     "end_time": "2024-11-01T11:02:48.303226Z",
     "start_time": "2024-11-01T11:02:48.233471Z"
    }
   },
   "source": [
    "model_file = os.path.join(MODELS_PATH, \"test_daily_predictor.pkl\")\n",
    "daily_predictor.save(model_file)"
   ],
   "outputs": [],
   "execution_count": 15
  },
  {
   "cell_type": "markdown",
   "id": "a96f56d1fdc38294",
   "metadata": {},
   "source": "### WeightedDayMeanModelWrapper"
  },
  {
   "cell_type": "code",
   "id": "736fa1487ec69b4c",
   "metadata": {},
   "source": [
    "weighted_day_mean_wrapper = WeightedDayMeanModelWrapper(\n",
    "    int_suggestions=[\n",
    "        IntSuggestions(\"days_window\", 1, 20),\n",
    "        IntSuggestions(\"weeks_window\", 1, 10),\n",
    "        IntSuggestions(\"months_window\", 0, 12),\n",
    "        IntSuggestions(\"years_window\", 0, 4),\n",
    "    ],\n",
    "    float_suggestions=[\n",
    "        FloatSuggestions(\"day_weight\", 0.88, 1.12),\n",
    "        FloatSuggestions(\"week_weight\", 0.88, 1.12),\n",
    "        FloatSuggestions(\"month_weight\", 0.88, 1.12),\n",
    "        FloatSuggestions(\"year_weight\", 0.88, 1.12),\n",
    "        FloatSuggestions(\"bias\", -100.0, 100.0),\n",
    "    ],\n",
    ")\n",
    "\n",
    "weighted_day_mean_wrapper_dict = {\n",
    "    WeightedDayMeanModelWrapper.__name__: weighted_day_mean_wrapper\n",
    "}\n",
    "\n",
    "weighted_day_mean_optuna_kwargs = dict(\n",
    "    n_trials=100,\n",
    "    show_progress_bar=True,\n",
    "    timeout=45,\n",
    "    n_jobs=6,\n",
    ")\n",
    "\n",
    "weighted_day_mean_predictor = SalesPredictor(\n",
    "    model_wrappers=weighted_day_mean_wrapper_dict,\n",
    "    family_groups=family_groups,\n",
    "    inner_cutoffs=[-365, -180, -49, -17],\n",
    "    optuna_optimize_kwargs=weighted_day_mean_optuna_kwargs,\n",
    "    n_group_store_family_choices=4,\n",
    "    n_single_store_family_choices=3,\n",
    "    family_group_to_stores=family_group_to_stores,\n",
    "    initial=None,\n",
    ")"
   ],
   "outputs": [],
   "execution_count": null
  },
  {
   "cell_type": "code",
   "id": "8ede5f04a426538c",
   "metadata": {},
   "source": [
    "weighted_day_mean_predictor = run_study(\n",
    "    train_dataset, weighted_day_mean_predictor, disable_tqdm=False\n",
    ")"
   ],
   "outputs": [],
   "execution_count": null
  },
  {
   "cell_type": "code",
   "id": "4bb66f3e002607e",
   "metadata": {},
   "source": [
    "weighted_day_loss = evaluate(\n",
    "    families_data, weighted_day_mean_predictor, disable_tqdm=False\n",
    ")"
   ],
   "outputs": [],
   "execution_count": null
  },
  {
   "cell_type": "code",
   "id": "5b34cff306efe207",
   "metadata": {},
   "source": [
    "weighted_day_store_loss = weighted_day_loss.mean(axis=1).rename(\"weighted_day_rmsle\")"
   ],
   "outputs": [],
   "execution_count": null
  },
  {
   "cell_type": "code",
   "id": "fb2b856ed2ea4365",
   "metadata": {},
   "source": [
    "losses = pd.concat([daily_store_loss, weighted_day_store_loss], axis=1)"
   ],
   "outputs": [],
   "execution_count": null
  },
  {
   "cell_type": "code",
   "id": "4fc052b3dfaab04d",
   "metadata": {},
   "source": [
    "losses.groupby(level=\"family\").mean()"
   ],
   "outputs": [],
   "execution_count": null
  },
  {
   "cell_type": "code",
   "id": "91424a16a87389f6",
   "metadata": {},
   "source": [
    "losses[daily_store_loss < weighted_day_store_loss]"
   ],
   "outputs": [],
   "execution_count": null
  },
  {
   "cell_type": "code",
   "id": "2a4d1ba42881c132",
   "metadata": {},
   "source": [
    "weighted_day_mean_predictor.family_to_model_params_storage"
   ],
   "outputs": [],
   "execution_count": null
  },
  {
   "cell_type": "code",
   "id": "463e1f9a4c0de008",
   "metadata": {},
   "source": [],
   "outputs": [],
   "execution_count": null
  }
 ],
 "metadata": {
  "kernelspec": {
   "display_name": "Python 3",
   "language": "python",
   "name": "python3"
  },
  "language_info": {
   "codemirror_mode": {
    "name": "ipython",
    "version": 2
   },
   "file_extension": ".py",
   "mimetype": "text/x-python",
   "name": "python",
   "nbconvert_exporter": "python",
   "pygments_lexer": "ipython2",
   "version": "2.7.6"
  }
 },
 "nbformat": 4,
 "nbformat_minor": 5
}
