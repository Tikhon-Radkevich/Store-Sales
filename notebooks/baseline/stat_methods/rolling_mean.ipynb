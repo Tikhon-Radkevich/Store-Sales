{
 "cells": [
  {
   "cell_type": "markdown",
   "id": "d28bbb23e9ee1dd1",
   "metadata": {},
   "source": "# Statistical Baseline Prediction"
  },
  {
   "cell_type": "markdown",
   "id": "d4bde44164a91bab",
   "metadata": {},
   "source": "## Notebook Configuration && Imports"
  },
  {
   "cell_type": "code",
   "id": "d7a265041e3cca4",
   "metadata": {
    "ExecuteTime": {
     "end_time": "2024-09-27T11:15:40.843661Z",
     "start_time": "2024-09-27T11:15:40.830343Z"
    }
   },
   "source": [
    "%load_ext autoreload\n",
    "%autoreload 2"
   ],
   "outputs": [],
   "execution_count": 1
  },
  {
   "cell_type": "code",
   "id": "97d85833bd772ad",
   "metadata": {
    "ExecuteTime": {
     "end_time": "2024-09-27T11:15:41.387461Z",
     "start_time": "2024-09-27T11:15:40.968302Z"
    }
   },
   "source": [
    "import os\n",
    "import pandas as pd\n",
    "import numpy as np\n",
    "from tqdm import tqdm\n",
    "\n",
    "from storesales.constants import (\n",
    "    SUBMISSIONS_PATH,\n",
    "    EXTERNAL_TRAIN_PATH,\n",
    "    EXTERNAL_SAMPLE_SUBMISSION_PATH,\n",
    "    EXTERNAL_TEST_PATH,\n",
    ")"
   ],
   "outputs": [],
   "execution_count": 2
  },
  {
   "cell_type": "markdown",
   "id": "7420cd20f230429d",
   "metadata": {},
   "source": "### Train Data"
  },
  {
   "cell_type": "code",
   "id": "ea62486ea900fec",
   "metadata": {
    "ExecuteTime": {
     "end_time": "2024-09-27T11:15:43.712464Z",
     "start_time": "2024-09-27T11:15:41.389654Z"
    }
   },
   "source": [
    "original_train_df = pd.read_csv(\n",
    "    EXTERNAL_TRAIN_PATH, parse_dates=[\"date\"], index_col=\"id\"\n",
    ")\n",
    "\n",
    "original_train_df.sort_values(by=[\"date\", \"store_nbr\", \"family\"], inplace=True)\n",
    "original_train_df[\"day_of_week\"] = original_train_df[\"date\"].dt.dayofweek\n",
    "original_train_df[\"is_weekend\"] = original_train_df[\"day_of_week\"] >= 5"
   ],
   "outputs": [],
   "execution_count": 3
  },
  {
   "cell_type": "markdown",
   "id": "6e41d1f1d5fdd60",
   "metadata": {},
   "source": "### Test Data"
  },
  {
   "cell_type": "code",
   "id": "aff71bd91752a1d3",
   "metadata": {
    "ExecuteTime": {
     "end_time": "2024-09-27T11:15:43.736817Z",
     "start_time": "2024-09-27T11:15:43.713620Z"
    }
   },
   "source": [
    "test_df = pd.read_csv(EXTERNAL_TEST_PATH, parse_dates=[\"date\"])"
   ],
   "outputs": [],
   "execution_count": 4
  },
  {
   "cell_type": "markdown",
   "id": "d4418f8b143a704b",
   "metadata": {},
   "source": "### Sample Submission"
  },
  {
   "cell_type": "code",
   "id": "49ca537ea3a1bf9",
   "metadata": {
    "ExecuteTime": {
     "end_time": "2024-09-27T11:15:43.754111Z",
     "start_time": "2024-09-27T11:15:43.738856Z"
    }
   },
   "source": [
    "sample_submission_df = pd.read_csv(EXTERNAL_SAMPLE_SUBMISSION_PATH, index_col=\"id\")"
   ],
   "outputs": [],
   "execution_count": 5
  },
  {
   "cell_type": "markdown",
   "id": "4094855ce1b8d33",
   "metadata": {},
   "source": "# Rolling Window Mean Prediction"
  },
  {
   "cell_type": "code",
   "id": "68c0c49b86c00ba9",
   "metadata": {
    "ExecuteTime": {
     "end_time": "2024-09-27T11:15:43.766045Z",
     "start_time": "2024-09-27T11:15:43.755196Z"
    }
   },
   "source": [
    "test_period_length = test_df[\"date\"].nunique()"
   ],
   "outputs": [],
   "execution_count": 6
  },
  {
   "cell_type": "code",
   "id": "30d2bd0eeb8c37dc",
   "metadata": {
    "ExecuteTime": {
     "end_time": "2024-09-27T11:15:43.779114Z",
     "start_time": "2024-09-27T11:15:43.767465Z"
    }
   },
   "source": [
    "def rmsle(y_true, y_pred):\n",
    "    return np.sqrt(np.mean(np.square(np.log1p(y_true) - np.log1p(y_pred))))"
   ],
   "outputs": [],
   "execution_count": 7
  },
  {
   "cell_type": "markdown",
   "id": "81093e1edebe0ef1",
   "metadata": {},
   "source": [
    "## 1) Group by store_nbr and family\n",
    "\n",
    "**Kaggle Public Score: 0.45751**"
   ]
  },
  {
   "cell_type": "markdown",
   "id": "175dc7b95680aac9",
   "metadata": {},
   "source": "### Predictions"
  },
  {
   "cell_type": "code",
   "id": "35ff3186c3fc0c2e",
   "metadata": {
    "ExecuteTime": {
     "end_time": "2024-09-27T11:15:43.829623Z",
     "start_time": "2024-09-27T11:15:43.780592Z"
    }
   },
   "source": [
    "train_df = original_train_df.copy()\n",
    "cols = [\"store_nbr\", \"family\"]\n",
    "window = 14"
   ],
   "outputs": [],
   "execution_count": 8
  },
  {
   "cell_type": "code",
   "id": "295cc769c73a055a",
   "metadata": {
    "ExecuteTime": {
     "end_time": "2024-09-27T11:15:45.834071Z",
     "start_time": "2024-09-27T11:15:43.830636Z"
    }
   },
   "source": [
    "grouped_window_sales = train_df.groupby(cols)[\"sales\"].rolling(window=window)\n",
    "train_df[\"mean_window_sales\"] = grouped_window_sales.mean().reset_index(\n",
    "    level=cols, drop=True\n",
    ")\n",
    "\n",
    "train_df[\"window_prediction\"] = train_df.groupby(cols)[\"mean_window_sales\"].shift(1)\n",
    "train_df.dropna(inplace=True)"
   ],
   "outputs": [],
   "execution_count": 9
  },
  {
   "cell_type": "markdown",
   "id": "1249719dbce763a",
   "metadata": {},
   "source": "### Evaluation"
  },
  {
   "cell_type": "code",
   "id": "eca978a977b16a39",
   "metadata": {
    "ExecuteTime": {
     "end_time": "2024-09-27T11:15:45.851399Z",
     "start_time": "2024-09-27T11:15:45.835262Z"
    }
   },
   "source": [
    "def evaluate_algo_1(df: pd.DataFrame, eval_start: pd.Timestamp, eval_length: int):\n",
    "    predictions = []\n",
    "    actual_values = []\n",
    "\n",
    "    for (_store, _family), group in tqdm(df.groupby(cols)):\n",
    "        group = group[group[\"date\"] >= eval_start]\n",
    "\n",
    "        for i in range(0, len(group) - eval_length):\n",
    "            actual_sales = group[\"sales\"].iloc[i : i + eval_length]\n",
    "\n",
    "            prediction = group[\"window_prediction\"].iloc[i]\n",
    "            predicted_sales = np.repeat(prediction, eval_length)\n",
    "\n",
    "            predictions.extend(predicted_sales)\n",
    "            actual_values.extend(actual_sales.values)\n",
    "\n",
    "    return np.array(predictions), np.array(actual_values)"
   ],
   "outputs": [],
   "execution_count": 10
  },
  {
   "cell_type": "code",
   "id": "87019dbe3328c5da",
   "metadata": {
    "ExecuteTime": {
     "end_time": "2024-09-27T11:15:45.874361Z",
     "start_time": "2024-09-27T11:15:45.855554Z"
    }
   },
   "source": [
    "last_period = pd.DateOffset(days=50)\n",
    "evaluation_start_date = train_df[\"date\"].max() - last_period"
   ],
   "outputs": [],
   "execution_count": 11
  },
  {
   "cell_type": "code",
   "id": "e6f905f34b39514e",
   "metadata": {
    "ExecuteTime": {
     "end_time": "2024-09-27T11:15:51.678016Z",
     "start_time": "2024-09-27T11:15:45.875888Z"
    }
   },
   "source": [
    "sales_pred, sales_true = evaluate_algo_1(\n",
    "    train_df, evaluation_start_date, test_period_length\n",
    ")"
   ],
   "outputs": [
    {
     "name": "stderr",
     "output_type": "stream",
     "text": [
      "100%|██████████| 1782/1782 [00:04<00:00, 419.79it/s]\n"
     ]
    }
   ],
   "execution_count": 12
  },
  {
   "cell_type": "code",
   "id": "ffb984c0ec73090d",
   "metadata": {
    "ExecuteTime": {
     "end_time": "2024-09-27T11:15:51.715355Z",
     "start_time": "2024-09-27T11:15:51.679444Z"
    }
   },
   "source": [
    "error = rmsle(sales_true, sales_pred)\n",
    "\n",
    "print(f\"RMSLE Error: {error}\")"
   ],
   "outputs": [
    {
     "name": "stdout",
     "output_type": "stream",
     "text": [
      "RMSLE Error: 0.481519852937688\n"
     ]
    }
   ],
   "execution_count": 13
  },
  {
   "cell_type": "markdown",
   "id": "60c20c3f5abe9fd0",
   "metadata": {},
   "source": "### Submission"
  },
  {
   "cell_type": "code",
   "id": "1a5d64bfab25f8b0",
   "metadata": {
    "ExecuteTime": {
     "end_time": "2024-09-27T11:15:51.744501Z",
     "start_time": "2024-09-27T11:15:51.716606Z"
    }
   },
   "source": [
    "store_to_family_submissions_file = \"rolling_mean_store_family.csv\"\n",
    "store_to_family_submissions_df = sample_submission_df.copy()\n",
    "\n",
    "test_prediction = train_df[train_df[\"date\"] == train_df[\"date\"].max()]\n",
    "\n",
    "sub_values = test_df.merge(  # use not shifted predictions 'mean_window_sales'\n",
    "    test_prediction[[\"store_nbr\", \"family\", \"mean_window_sales\"]],\n",
    "    on=[\"store_nbr\", \"family\"],\n",
    "    how=\"left\",\n",
    ")\n",
    "sub_values.set_index(\"id\", inplace=True)"
   ],
   "outputs": [],
   "execution_count": 14
  },
  {
   "cell_type": "code",
   "id": "d0b6375c5143f691",
   "metadata": {
    "ExecuteTime": {
     "end_time": "2024-09-27T11:15:51.757572Z",
     "start_time": "2024-09-27T11:15:51.745529Z"
    }
   },
   "source": [
    "store_to_family_submissions_df[\"sales\"] = sub_values[\"mean_window_sales\"]"
   ],
   "outputs": [],
   "execution_count": 15
  },
  {
   "cell_type": "code",
   "id": "39ed291158038b1f",
   "metadata": {
    "ExecuteTime": {
     "end_time": "2024-09-27T11:15:51.807250Z",
     "start_time": "2024-09-27T11:15:51.758940Z"
    }
   },
   "source": [
    "file_path = os.path.join(SUBMISSIONS_PATH, store_to_family_submissions_file)\n",
    "\n",
    "store_to_family_submissions_df.to_csv(file_path)"
   ],
   "outputs": [],
   "execution_count": 16
  },
  {
   "cell_type": "markdown",
   "id": "49aaf10b709742ea",
   "metadata": {},
   "source": [
    "## 2) Group by store_nbr, family and is_weekend\n",
    "\n",
    "**Idea**: Calculate separate rolling mean sales values for weekends and weekdays to capture 'sales' to 'is weekend' correlation."
   ]
  },
  {
   "cell_type": "code",
   "id": "bc26ef1f9a77df45",
   "metadata": {
    "ExecuteTime": {
     "end_time": "2024-09-27T11:15:51.855071Z",
     "start_time": "2024-09-27T11:15:51.808400Z"
    }
   },
   "source": [
    "train_df = original_train_df.copy()\n",
    "\n",
    "cols = [\"store_nbr\", \"family\", \"is_weekend\"]\n",
    "n_window_weekdays = 10  # 10 weekdays ~ 2 weeks period\n",
    "n_window_weekends = 6  # 6 weekends ~ 3 weeks period"
   ],
   "outputs": [],
   "execution_count": 17
  },
  {
   "cell_type": "code",
   "id": "627345eb00fa1c14",
   "metadata": {
    "ExecuteTime": {
     "end_time": "2024-09-27T11:15:51.866879Z",
     "start_time": "2024-09-27T11:15:51.856077Z"
    }
   },
   "source": [
    "def get_rolling_mean(group, is_weekend):\n",
    "    if is_weekend:\n",
    "        return group.rolling(window=n_window_weekdays).mean()\n",
    "    return group.rolling(window=n_window_weekends).mean()"
   ],
   "outputs": [],
   "execution_count": 18
  },
  {
   "cell_type": "code",
   "id": "2ba99f96293260cf",
   "metadata": {
    "ExecuteTime": {
     "end_time": "2024-09-27T11:15:54.348474Z",
     "start_time": "2024-09-27T11:15:51.868296Z"
    }
   },
   "source": [
    "# Group data by store, family, and is_weekend (weekday/weekend separation)\n",
    "store_to_family_groups = train_df.groupby(cols)[\"sales\"]\n",
    "\n",
    "# Apply rolling mean within each group depending on is_weekend\n",
    "train_df[\"mean_sales\"] = store_to_family_groups.apply(\n",
    "    lambda group: get_rolling_mean(group, group.name[2])  # group.name[2] -> is_weekend\n",
    ").reset_index(level=cols, drop=True)\n",
    "\n",
    "# Shift the rolling mean prediction within the same groups\n",
    "train_df[\"mean_sales_shift\"] = train_df.groupby(cols)[\"mean_sales\"].shift(1)\n",
    "train_df.dropna(inplace=True)"
   ],
   "outputs": [],
   "execution_count": 19
  },
  {
   "cell_type": "markdown",
   "id": "a15b32d65ca99951",
   "metadata": {},
   "source": "### Evaluation"
  },
  {
   "cell_type": "code",
   "id": "a0c484f73284bf0b",
   "metadata": {
    "ExecuteTime": {
     "end_time": "2024-09-27T11:15:54.361806Z",
     "start_time": "2024-09-27T11:15:54.349659Z"
    }
   },
   "source": [
    "def evaluate_algo_2(df: pd.DataFrame, eval_start_date: pd.Timestamp, eval_length: int):\n",
    "    predictions = []\n",
    "    actual_values = []\n",
    "\n",
    "    eval_length_offset = pd.DateOffset(days=eval_length)\n",
    "    df = df.set_index(\"date\")\n",
    "    max_date = df.index.max()\n",
    "\n",
    "    for (_store, _family, _is_weekend), group in tqdm(df.groupby(cols)):\n",
    "        group = group[group.index >= eval_start_date]\n",
    "\n",
    "        indices = group.index[group.index < max_date - eval_length_offset]\n",
    "        for eval_start in indices:\n",
    "            actual_sales = group[\"sales\"].loc[\n",
    "                eval_start : eval_start + eval_length_offset\n",
    "            ]\n",
    "\n",
    "            prediction = group[\"mean_sales_shift\"].loc[eval_start]\n",
    "            predicted_sales = np.repeat(prediction, actual_sales.shape[0])\n",
    "\n",
    "            predictions.extend(predicted_sales)\n",
    "            actual_values.extend(actual_sales.values)\n",
    "\n",
    "            eval_start += pd.DateOffset(days=1)\n",
    "\n",
    "    return np.array(predictions), np.array(actual_values)"
   ],
   "outputs": [],
   "execution_count": 20
  },
  {
   "cell_type": "code",
   "id": "c24077f7834c4060",
   "metadata": {
    "ExecuteTime": {
     "end_time": "2024-09-27T11:15:54.379919Z",
     "start_time": "2024-09-27T11:15:54.363207Z"
    }
   },
   "source": [
    "last_period = pd.DateOffset(days=50)\n",
    "evaluation_start_date = train_df[\"date\"].max() - last_period"
   ],
   "outputs": [],
   "execution_count": 21
  },
  {
   "cell_type": "code",
   "id": "c5c6427181ad82f6",
   "metadata": {
    "ExecuteTime": {
     "end_time": "2024-09-27T11:16:11.743865Z",
     "start_time": "2024-09-27T11:15:54.381116Z"
    }
   },
   "source": [
    "sales_pred, sales_true = evaluate_algo_2(\n",
    "    train_df, evaluation_start_date, test_period_length - 1\n",
    ")"
   ],
   "outputs": [
    {
     "name": "stderr",
     "output_type": "stream",
     "text": [
      "100%|██████████| 3564/3564 [00:15<00:00, 229.31it/s]\n"
     ]
    }
   ],
   "execution_count": 22
  },
  {
   "cell_type": "code",
   "id": "c5a3c4af0656d858",
   "metadata": {
    "ExecuteTime": {
     "end_time": "2024-09-27T11:16:11.770905Z",
     "start_time": "2024-09-27T11:16:11.744945Z"
    }
   },
   "source": [
    "error = rmsle(sales_true, sales_pred)\n",
    "\n",
    "print(f\"RMSLE Error: {error}\")"
   ],
   "outputs": [
    {
     "name": "stdout",
     "output_type": "stream",
     "text": [
      "RMSLE Error: 0.46772057606550316\n"
     ]
    }
   ],
   "execution_count": 23
  },
  {
   "cell_type": "markdown",
   "id": "dc8b0bff8a255c8c",
   "metadata": {},
   "source": "### Submission"
  },
  {
   "cell_type": "code",
   "id": "67433982ea8e9ebe",
   "metadata": {
    "ExecuteTime": {
     "end_time": "2024-09-27T11:16:11.785482Z",
     "start_time": "2024-09-27T11:16:11.772236Z"
    }
   },
   "source": [
    "store_to_family_weekend_submissions_file = \"rolling_mean_store_family_weekend.csv\"\n",
    "store_to_family_weekend_submissions_df = sample_submission_df.copy()\n",
    "\n",
    "test_df[\"is_weekend\"] = test_df[\"date\"].dt.dayofweek >= 5"
   ],
   "outputs": [],
   "execution_count": 24
  },
  {
   "cell_type": "code",
   "id": "dc0bb84ea84a7c58",
   "metadata": {
    "ExecuteTime": {
     "end_time": "2024-09-27T11:16:12.113899Z",
     "start_time": "2024-09-27T11:16:11.786397Z"
    }
   },
   "source": [
    "max_dates = train_df.groupby([\"store_nbr\", \"family\", \"is_weekend\"])[\"date\"].idxmax()\n",
    "submission_prediction = train_df.loc[max_dates]"
   ],
   "outputs": [],
   "execution_count": 25
  },
  {
   "cell_type": "code",
   "id": "b51b5d5b3647479a",
   "metadata": {
    "ExecuteTime": {
     "end_time": "2024-09-27T11:16:12.134632Z",
     "start_time": "2024-09-27T11:16:12.115877Z"
    }
   },
   "source": [
    "sub_values = test_df.merge(\n",
    "    submission_prediction[[\"store_nbr\", \"family\", \"is_weekend\", \"mean_sales\"]],\n",
    "    on=[\"store_nbr\", \"family\", \"is_weekend\"],\n",
    "    how=\"left\",\n",
    ")\n",
    "sub_values.set_index(\"id\", inplace=True)"
   ],
   "outputs": [],
   "execution_count": 26
  },
  {
   "cell_type": "code",
   "id": "8db62b62e2fc48f6",
   "metadata": {
    "ExecuteTime": {
     "end_time": "2024-09-27T11:16:12.146824Z",
     "start_time": "2024-09-27T11:16:12.136472Z"
    }
   },
   "source": [
    "store_to_family_weekend_submissions_df[\"sales\"] = sub_values[\"mean_sales\"]"
   ],
   "outputs": [],
   "execution_count": 27
  },
  {
   "cell_type": "code",
   "id": "cd7c99c06a50d6b0",
   "metadata": {
    "ExecuteTime": {
     "end_time": "2024-09-27T11:16:12.191170Z",
     "start_time": "2024-09-27T11:16:12.148268Z"
    }
   },
   "source": [
    "file_path = os.path.join(SUBMISSIONS_PATH, store_to_family_weekend_submissions_file)\n",
    "\n",
    "store_to_family_weekend_submissions_df.to_csv(file_path)"
   ],
   "outputs": [],
   "execution_count": 28
  },
  {
   "cell_type": "code",
   "id": "36e82a0f24be27c",
   "metadata": {
    "ExecuteTime": {
     "end_time": "2024-09-27T11:16:12.196014Z",
     "start_time": "2024-09-27T11:16:12.193996Z"
    }
   },
   "source": [],
   "outputs": [],
   "execution_count": 28
  }
 ],
 "metadata": {
  "kernelspec": {
   "display_name": "Python 3",
   "language": "python",
   "name": "python3"
  },
  "language_info": {
   "codemirror_mode": {
    "name": "ipython",
    "version": 2
   },
   "file_extension": ".py",
   "mimetype": "text/x-python",
   "name": "python",
   "nbconvert_exporter": "python",
   "pygments_lexer": "ipython2",
   "version": "2.7.6"
  }
 },
 "nbformat": 4,
 "nbformat_minor": 5
}
