{
 "cells": [
  {
   "cell_type": "markdown",
   "id": "7944a50b18bda6a9",
   "metadata": {},
   "source": "## Notebook Configuration && Imports"
  },
  {
   "cell_type": "code",
   "execution_count": 1,
   "id": "6a0eb6f080485bd8",
   "metadata": {
    "ExecuteTime": {
     "end_time": "2024-09-27T07:58:04.838565Z",
     "start_time": "2024-09-27T07:58:04.815766Z"
    }
   },
   "outputs": [],
   "source": [
    "%load_ext autoreload\n",
    "%autoreload 2"
   ]
  },
  {
   "cell_type": "code",
   "execution_count": 2,
   "id": "initial_id",
   "metadata": {
    "ExecuteTime": {
     "end_time": "2024-09-27T07:58:06.075346Z",
     "start_time": "2024-09-27T07:58:05.312894Z"
    }
   },
   "outputs": [],
   "source": [
    "import os\n",
    "import itertools\n",
    "import logging\n",
    "from tqdm import tqdm\n",
    "\n",
    "import pandas as pd\n",
    "from prophet import Prophet\n",
    "\n",
    "from storesales.constants import (\n",
    "    SUBMISSIONS_PATH,\n",
    "    EXTERNAL_TRAIN_PATH,\n",
    "    EXTERNAL_SAMPLE_SUBMISSION_PATH,\n",
    "    EXTERNAL_TEST_PATH,\n",
    ")"
   ]
  },
  {
   "cell_type": "markdown",
   "id": "ab95d6eba147ea53",
   "metadata": {},
   "source": "## Load && Prepare Data"
  },
  {
   "cell_type": "code",
   "execution_count": 3,
   "id": "e9af06351917d9c5",
   "metadata": {
    "ExecuteTime": {
     "end_time": "2024-09-27T07:58:08.571589Z",
     "start_time": "2024-09-27T07:58:06.623796Z"
    }
   },
   "outputs": [],
   "source": [
    "original_train_df = pd.read_csv(EXTERNAL_TRAIN_PATH, parse_dates=[\"date\"])\n",
    "original_train_df.sort_values(by=[\"date\", \"store_nbr\", \"family\"], inplace=True)\n",
    "\n",
    "original_test_df = pd.read_csv(EXTERNAL_TEST_PATH, parse_dates=[\"date\"])\n",
    "\n",
    "sample_submission_df = pd.read_csv(EXTERNAL_SAMPLE_SUBMISSION_PATH, index_col=\"id\")"
   ]
  },
  {
   "cell_type": "code",
   "execution_count": 4,
   "id": "551fd59b04a2aa2",
   "metadata": {
    "ExecuteTime": {
     "end_time": "2024-09-27T07:58:08.671321Z",
     "start_time": "2024-09-27T07:58:08.573072Z"
    }
   },
   "outputs": [],
   "source": [
    "train_period = original_train_df.index.unique()"
   ]
  },
  {
   "cell_type": "markdown",
   "id": "ff226149104c2932",
   "metadata": {},
   "source": "## Facebook Prophet"
  },
  {
   "cell_type": "code",
   "execution_count": 6,
   "id": "77176b01da993055",
   "metadata": {
    "ExecuteTime": {
     "end_time": "2024-09-27T07:58:09.479920Z",
     "start_time": "2024-09-27T07:58:09.363747Z"
    }
   },
   "outputs": [],
   "source": [
    "train_df = original_train_df[[\"date\", \"store_nbr\", \"family\", \"sales\"]].copy()\n",
    "train_df.rename(columns={\"date\": \"ds\", \"sales\": \"y\"}, inplace=True)\n",
    "\n",
    "test_df = original_test_df.rename(columns={\"date\": \"ds\"})\n",
    "\n",
    "prophet_submission_df = sample_submission_df.copy()"
   ]
  },
  {
   "cell_type": "code",
   "execution_count": 7,
   "id": "6c4f67264f84e2b7",
   "metadata": {
    "ExecuteTime": {
     "end_time": "2024-09-27T07:58:09.779867Z",
     "start_time": "2024-09-27T07:58:09.756216Z"
    }
   },
   "outputs": [],
   "source": [
    "train_groups = train_df.groupby([\"store_nbr\", \"family\"])\n",
    "test_groups = test_df.groupby([\"store_nbr\", \"family\"])"
   ]
  },
  {
   "cell_type": "code",
   "execution_count": 8,
   "id": "16e13108eda27c7a",
   "metadata": {
    "ExecuteTime": {
     "end_time": "2024-09-27T07:58:11.703820Z",
     "start_time": "2024-09-27T07:58:11.549772Z"
    }
   },
   "outputs": [],
   "source": [
    "stores = train_df[\"store_nbr\"].unique()\n",
    "families = train_df[\"family\"].unique()"
   ]
  },
  {
   "cell_type": "code",
   "execution_count": 9,
   "id": "28f806b9fad3b868",
   "metadata": {
    "ExecuteTime": {
     "end_time": "2024-09-27T07:58:11.719556Z",
     "start_time": "2024-09-27T07:58:11.704949Z"
    }
   },
   "outputs": [],
   "source": [
    "groups = itertools.product(stores, families)\n",
    "total = len(stores) * len(families) - 1"
   ]
  },
  {
   "cell_type": "code",
   "execution_count": null,
   "id": "75f7b971b9257ef1",
   "metadata": {},
   "outputs": [],
   "source": [
    "logging.getLogger(\"prophet\").setLevel(logging.ERROR)\n",
    "logging.getLogger(\"cmdstanpy\").setLevel(logging.ERROR)"
   ]
  },
  {
   "cell_type": "code",
   "execution_count": 12,
   "id": "9a8891d55f85358d",
   "metadata": {
    "ExecuteTime": {
     "end_time": "2024-09-27T08:05:21.203250Z",
     "start_time": "2024-09-27T07:58:21.701750Z"
    }
   },
   "outputs": [
    {
     "name": "stderr",
     "output_type": "stream",
     "text": [
      " 99%|█████████▉| 1771/1782 [06:59<00:02,  4.22it/s]\n"
     ]
    }
   ],
   "source": [
    "for store_nbt_to_family in tqdm(groups, total=total):\n",
    "    train_group = train_groups.get_group(store_nbt_to_family)\n",
    "    test_group = test_groups.get_group(store_nbt_to_family).reset_index(drop=True)\n",
    "\n",
    "    m = Prophet()\n",
    "    m.fit(train_group)\n",
    "\n",
    "    forecast = m.predict(test_group)\n",
    "\n",
    "    test_group[\"yhat\"] = forecast[\"yhat\"]\n",
    "\n",
    "    test_group.set_index(\"id\", inplace=True)\n",
    "    prophet_submission_df.loc[test_group.index, \"sales\"] = test_group[\"yhat\"]"
   ]
  },
  {
   "cell_type": "code",
   "execution_count": 13,
   "id": "3d25a8e59d3ce7d9",
   "metadata": {
    "ExecuteTime": {
     "end_time": "2024-09-27T08:06:15.885380Z",
     "start_time": "2024-09-27T08:06:15.818877Z"
    }
   },
   "outputs": [],
   "source": [
    "prophet_submission_file = \"prophet_submission.csv\"\n",
    "prophet_submission_df.to_csv(os.path.join(SUBMISSIONS_PATH, prophet_submission_file))"
   ]
  },
  {
   "cell_type": "code",
   "execution_count": null,
   "id": "d1fd20da2ee34ed1",
   "metadata": {},
   "outputs": [],
   "source": []
  }
 ],
 "metadata": {
  "kernelspec": {
   "display_name": "Python 3",
   "language": "python",
   "name": "python3"
  },
  "language_info": {
   "codemirror_mode": {
    "name": "ipython",
    "version": 2
   },
   "file_extension": ".py",
   "mimetype": "text/x-python",
   "name": "python",
   "nbconvert_exporter": "python",
   "pygments_lexer": "ipython2",
   "version": "2.7.6"
  }
 },
 "nbformat": 4,
 "nbformat_minor": 5
}
