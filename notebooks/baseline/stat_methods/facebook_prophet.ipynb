{
 "cells": [
  {
   "cell_type": "markdown",
   "id": "7944a50b18bda6a9",
   "metadata": {},
   "source": "## Notebook Configuration && Imports"
  },
  {
   "cell_type": "code",
   "id": "6a0eb6f080485bd8",
   "metadata": {
    "ExecuteTime": {
     "end_time": "2024-09-29T10:41:36.029591Z",
     "start_time": "2024-09-29T10:41:36.009913Z"
    }
   },
   "source": [
    "import prophet.diagnostics\n",
    "%load_ext autoreload\n",
    "%autoreload 2"
   ],
   "outputs": [],
   "execution_count": 1
  },
  {
   "cell_type": "code",
   "id": "initial_id",
   "metadata": {
    "ExecuteTime": {
     "end_time": "2024-09-29T12:17:49.721026Z",
     "start_time": "2024-09-29T12:17:49.696901Z"
    }
   },
   "source": [
    "import os\n",
    "import itertools\n",
    "import logging\n",
    "from tqdm import tqdm\n",
    "\n",
    "import pandas as pd\n",
    "from prophet import Prophet\n",
    "\n",
    "from storesales.constants import (\n",
    "    SUBMISSIONS_PATH,\n",
    "    EXTERNAL_TRAIN_PATH,\n",
    "    EXTERNAL_SAMPLE_SUBMISSION_PATH,\n",
    "    EXTERNAL_TEST_PATH,\n",
    "    EXTERNAL_OIL_PATH\n",
    ")"
   ],
   "outputs": [],
   "execution_count": 168
  },
  {
   "cell_type": "markdown",
   "id": "ab95d6eba147ea53",
   "metadata": {},
   "source": "## Load && Prepare Data"
  },
  {
   "cell_type": "code",
   "id": "e9af06351917d9c5",
   "metadata": {
    "ExecuteTime": {
     "end_time": "2024-09-29T12:19:37.248200Z",
     "start_time": "2024-09-29T12:19:35.306112Z"
    }
   },
   "source": [
    "original_train_df = pd.read_csv(EXTERNAL_TRAIN_PATH, parse_dates=[\"date\"])\n",
    "original_train_df.sort_values(by=[\"date\", \"store_nbr\", \"family\"], inplace=True)\n",
    "\n",
    "original_test_df = pd.read_csv(EXTERNAL_TEST_PATH, parse_dates=[\"date\"])\n",
    "\n",
    "sample_submission_df = pd.read_csv(EXTERNAL_SAMPLE_SUBMISSION_PATH, index_col=\"id\")\n",
    "\n",
    "oil_df = pd.read_csv(EXTERNAL_OIL_PATH, parse_dates=[\"date\"])\n",
    "oil_df.set_index(\"date\", inplace=True)\n",
    "oil_df = oil_df.asfreq(\"D\")\n",
    "oil_df[\"dcoilwtico\"] = oil_df[\"dcoilwtico\"].ffill()\n",
    "oil_df = oil_df.dropna()"
   ],
   "outputs": [],
   "execution_count": 170
  },
  {
   "cell_type": "code",
   "id": "551fd59b04a2aa2",
   "metadata": {
    "ExecuteTime": {
     "end_time": "2024-09-29T10:41:38.885367Z",
     "start_time": "2024-09-29T10:41:38.801551Z"
    }
   },
   "source": [
    "train_period = original_train_df.index.unique()"
   ],
   "outputs": [],
   "execution_count": 4
  },
  {
   "cell_type": "markdown",
   "id": "ff226149104c2932",
   "metadata": {},
   "source": "## Facebook Prophet"
  },
  {
   "cell_type": "code",
   "execution_count": 6,
   "id": "77176b01da993055",
   "metadata": {
    "ExecuteTime": {
     "end_time": "2024-09-27T07:58:09.479920Z",
     "start_time": "2024-09-27T07:58:09.363747Z"
    }
   },
   "outputs": [],
   "source": [
    "train_df = original_train_df[[\"date\", \"store_nbr\", \"family\", \"sales\"]].copy()\n",
    "train_df.rename(columns={\"date\": \"ds\", \"sales\": \"y\"}, inplace=True)\n",
    "\n",
    "test_df = original_test_df.rename(columns={\"date\": \"ds\"})\n",
    "\n",
    "prophet_submission_df = sample_submission_df.copy()"
   ]
  },
  {
   "cell_type": "code",
   "execution_count": 7,
   "id": "6c4f67264f84e2b7",
   "metadata": {
    "ExecuteTime": {
     "end_time": "2024-09-27T07:58:09.779867Z",
     "start_time": "2024-09-27T07:58:09.756216Z"
    }
   },
   "outputs": [],
   "source": [
    "train_groups = train_df.groupby([\"store_nbr\", \"family\"])\n",
    "test_groups = test_df.groupby([\"store_nbr\", \"family\"])"
   ]
  },
  {
   "cell_type": "code",
   "execution_count": 8,
   "id": "16e13108eda27c7a",
   "metadata": {
    "ExecuteTime": {
     "end_time": "2024-09-27T07:58:11.703820Z",
     "start_time": "2024-09-27T07:58:11.549772Z"
    }
   },
   "outputs": [],
   "source": [
    "stores = train_df[\"store_nbr\"].unique()\n",
    "families = train_df[\"family\"].unique()"
   ]
  },
  {
   "cell_type": "code",
   "execution_count": 9,
   "id": "28f806b9fad3b868",
   "metadata": {
    "ExecuteTime": {
     "end_time": "2024-09-27T07:58:11.719556Z",
     "start_time": "2024-09-27T07:58:11.704949Z"
    }
   },
   "outputs": [],
   "source": [
    "groups = itertools.product(stores, families)\n",
    "total = len(stores) * len(families) - 1"
   ]
  },
  {
   "cell_type": "code",
   "execution_count": null,
   "id": "75f7b971b9257ef1",
   "metadata": {},
   "outputs": [],
   "source": [
    "logging.getLogger(\"prophet\").setLevel(logging.ERROR)\n",
    "logging.getLogger(\"cmdstanpy\").setLevel(logging.ERROR)"
   ]
  },
  {
   "cell_type": "code",
   "execution_count": 12,
   "id": "9a8891d55f85358d",
   "metadata": {
    "ExecuteTime": {
     "end_time": "2024-09-27T08:05:21.203250Z",
     "start_time": "2024-09-27T07:58:21.701750Z"
    }
   },
   "outputs": [
    {
     "name": "stderr",
     "output_type": "stream",
     "text": [
      " 99%|█████████▉| 1771/1782 [06:59<00:02,  4.22it/s]\n"
     ]
    }
   ],
   "source": [
    "for store_nbt_to_family in tqdm(groups, total=total):\n",
    "    train_group = train_groups.get_group(store_nbt_to_family)\n",
    "    test_group = test_groups.get_group(store_nbt_to_family).reset_index(drop=True)\n",
    "\n",
    "    m = Prophet()\n",
    "    m.fit(train_group)\n",
    "\n",
    "    forecast = m.predict(test_group)\n",
    "\n",
    "    test_group[\"yhat\"] = forecast[\"yhat\"]\n",
    "\n",
    "    test_group.set_index(\"id\", inplace=True)\n",
    "    prophet_submission_df.loc[test_group.index, \"sales\"] = test_group[\"yhat\"]"
   ]
  },
  {
   "cell_type": "code",
   "execution_count": 13,
   "id": "3d25a8e59d3ce7d9",
   "metadata": {
    "ExecuteTime": {
     "end_time": "2024-09-27T08:06:15.885380Z",
     "start_time": "2024-09-27T08:06:15.818877Z"
    }
   },
   "outputs": [],
   "source": [
    "prophet_submission_file = \"prophet_submission.csv\"\n",
    "prophet_submission_df.to_csv(os.path.join(SUBMISSIONS_PATH, prophet_submission_file))"
   ]
  },
  {
   "metadata": {},
   "cell_type": "markdown",
   "source": "## Store nbr '1' & Family 'GROCERY I'",
   "id": "23c5a801df312d14"
  },
  {
   "metadata": {
    "ExecuteTime": {
     "end_time": "2024-09-29T12:07:38.247685Z",
     "start_time": "2024-09-29T12:07:38.229903Z"
    }
   },
   "cell_type": "code",
   "source": [
    "import numpy as np\n",
    "from sklearn.model_selection import TimeSeriesSplit\n",
    "import optuna\n",
    "from prophet.diagnostics import cross_validation"
   ],
   "id": "d58b793068ce1106",
   "outputs": [],
   "execution_count": 165
  },
  {
   "metadata": {
    "ExecuteTime": {
     "end_time": "2024-09-29T11:13:34.602918Z",
     "start_time": "2024-09-29T11:13:34.585815Z"
    }
   },
   "cell_type": "code",
   "source": [
    "def rmsle(y_true, y_pred):\n",
    "    return np.sqrt(np.mean(np.square(np.log1p(y_true) - np.log1p(y_pred))))"
   ],
   "id": "f2b4b982cec2d3d8",
   "outputs": [],
   "execution_count": 126
  },
  {
   "metadata": {
    "ExecuteTime": {
     "end_time": "2024-09-29T11:05:10.000327Z",
     "start_time": "2024-09-29T11:05:09.789336Z"
    }
   },
   "cell_type": "code",
   "source": [
    "con = (original_train_df[\"store_nbr\"] == 1) & (original_train_df[\"family\"] == \"GROCERY I\")\n",
    "train_df = original_train_df[con][[\"date\", \"sales\"]].copy()\n",
    "train_df.rename(columns={\"date\": \"ds\", \"sales\": \"y\"}, inplace=True)"
   ],
   "id": "40896296a7320b74",
   "outputs": [],
   "execution_count": 99
  },
  {
   "metadata": {
    "ExecuteTime": {
     "end_time": "2024-09-29T12:20:07.686953Z",
     "start_time": "2024-09-29T12:20:07.656200Z"
    }
   },
   "cell_type": "code",
   "source": "train_df = train_df.merge(oil_df, left_on=\"ds\", right_index=True, how=\"left\")",
   "id": "26f83fea324ba504",
   "outputs": [],
   "execution_count": 171
  },
  {
   "metadata": {
    "ExecuteTime": {
     "end_time": "2024-09-29T12:20:43.206229Z",
     "start_time": "2024-09-29T12:20:43.190260Z"
    }
   },
   "cell_type": "code",
   "source": "train_df.dropna(inplace=True)",
   "id": "f65e21611cd217f8",
   "outputs": [],
   "execution_count": 174
  },
  {
   "metadata": {
    "ExecuteTime": {
     "end_time": "2024-09-29T12:21:23.675761Z",
     "start_time": "2024-09-29T12:21:23.632186Z"
    }
   },
   "cell_type": "code",
   "source": "train_df.sort_values(by=\"ds\", inplace=True)",
   "id": "d912585e1542bcf7",
   "outputs": [],
   "execution_count": 176
  },
  {
   "metadata": {
    "ExecuteTime": {
     "end_time": "2024-09-29T12:21:24.348411Z",
     "start_time": "2024-09-29T12:21:24.331845Z"
    }
   },
   "cell_type": "code",
   "source": "logging.getLogger(\"cmdstanpy\").setLevel(logging.WARNING)",
   "id": "6194560ac395255a",
   "outputs": [],
   "execution_count": 177
  },
  {
   "metadata": {
    "ExecuteTime": {
     "end_time": "2024-09-29T12:23:34.417250Z",
     "start_time": "2024-09-29T12:23:34.392597Z"
    }
   },
   "cell_type": "code",
   "source": [
    "def inner_objective(trial: optuna.Trial, train):\n",
    "    yearly_seasonality = trial.suggest_categorical(\"yearly_seasonality\", [True, False])\n",
    "    weekly_seasonality = trial.suggest_categorical(\"weekly_seasonality\", [True, False])\n",
    "    daily_seasonality = trial.suggest_categorical(\"daily_seasonality\", [True, False])\n",
    "    changepoint_prior_scale = trial.suggest_float(\"changepoint_prior_scale\", 0.001, 0.5)\n",
    "    seasonality_prior_scale = trial.suggest_int(\"seasonality_prior_scale\", 1, 20)\n",
    "    seasonality_mode = trial.suggest_categorical(\"seasonality_mode\", [\"additive\", \"multiplicative\"])\n",
    "    \n",
    "    inner_results = []\n",
    "    inner_tscv = TimeSeriesSplit(n_splits=3, test_size=16)\n",
    "\n",
    "    for inner_train_index, inner_val_index in inner_tscv.split(train):\n",
    "        inner_train, inner_val = train.iloc[inner_train_index], train.iloc[inner_val_index]\n",
    "        \n",
    "        model = Prophet(\n",
    "            yearly_seasonality=yearly_seasonality,\n",
    "            weekly_seasonality=weekly_seasonality,\n",
    "            daily_seasonality=daily_seasonality,\n",
    "            changepoint_prior_scale=changepoint_prior_scale,\n",
    "            seasonality_prior_scale=seasonality_prior_scale,\n",
    "            seasonality_mode=seasonality_mode\n",
    "        )\n",
    "        model.add_regressor(\"dcoilwtico\")\n",
    "        \n",
    "        model.fit(inner_train)\n",
    "        \n",
    "        future = inner_val[[\"ds\", \"dcoilwtico\"]]\n",
    "        forecast = model.predict(future)\n",
    "        y_pred = forecast[\"yhat\"].values\n",
    "        y_true = inner_val[\"y\"].values\n",
    "        \n",
    "        loss = rmsle(y_true, y_pred)\n",
    "        inner_results.append(loss)\n",
    "\n",
    "    return np.mean(inner_results)"
   ],
   "id": "c6ef7fae8f0f573a",
   "outputs": [],
   "execution_count": 181
  },
  {
   "metadata": {
    "ExecuteTime": {
     "end_time": "2024-09-29T12:25:13.418673Z",
     "start_time": "2024-09-29T12:23:34.877141Z"
    }
   },
   "cell_type": "code",
   "source": [
    "outer_tscv = TimeSeriesSplit(n_splits=5, test_size=16)\n",
    "outer_results = []\n",
    "\n",
    "for outer_train_index, outer_test_index in outer_tscv.split(train_df):\n",
    "    outer_train, outer_test = train_df.iloc[outer_train_index], train_df.iloc[outer_test_index]\n",
    "\n",
    "    study = optuna.create_study(direction=\"minimize\")\n",
    "    study.optimize(lambda trial: inner_objective(trial, outer_train), n_trials=20, show_progress_bar=True) \n",
    "\n",
    "    final_model = Prophet(**study.best_params)\n",
    "    final_model.fit(outer_train)\n",
    "\n",
    "    future = outer_test[[\"ds\", \"dcoilwtico\"]]\n",
    "    forecast = final_model.predict(future)\n",
    "    y_pred = forecast[\"yhat\"].values\n",
    "    y_true = outer_test[\"y\"].values\n",
    "    \n",
    "    outer_rmsle = rmsle(y_true, y_pred)\n",
    "    outer_results.append(outer_rmsle)\n",
    "\n",
    "final_outer_rmsle = np.mean(outer_results)\n",
    "print(f'Final Outer RMSLE: {final_outer_rmsle}')"
   ],
   "id": "90de667d1ede6d6f",
   "outputs": [
    {
     "name": "stderr",
     "output_type": "stream",
     "text": [
      "[I 2024-09-29 15:23:34,896] A new study created in memory with name: no-name-6e7ce9e8-e1e9-4725-bfc5-56f702588d9b\n"
     ]
    },
    {
     "data": {
      "text/plain": [
       "  0%|          | 0/20 [00:00<?, ?it/s]"
      ],
      "application/vnd.jupyter.widget-view+json": {
       "version_major": 2,
       "version_minor": 0,
       "model_id": "9bd228038c38439eb8d1b8ab60383eee"
      }
     },
     "metadata": {},
     "output_type": "display_data"
    },
    {
     "name": "stdout",
     "output_type": "stream",
     "text": [
      "[I 2024-09-29 15:23:36,173] Trial 0 finished with value: 0.3465777019089246 and parameters: {'yearly_seasonality': False, 'weekly_seasonality': True, 'daily_seasonality': True, 'changepoint_prior_scale': 0.3592928355122128, 'seasonality_prior_scale': 10, 'seasonality_mode': 'additive'}. Best is trial 0 with value: 0.3465777019089246.\n",
      "[I 2024-09-29 15:23:36,982] Trial 1 finished with value: 0.3381838247532267 and parameters: {'yearly_seasonality': True, 'weekly_seasonality': True, 'daily_seasonality': True, 'changepoint_prior_scale': 0.17316238474220141, 'seasonality_prior_scale': 13, 'seasonality_mode': 'additive'}. Best is trial 1 with value: 0.3381838247532267.\n",
      "[I 2024-09-29 15:23:37,465] Trial 2 finished with value: 0.32827562065065136 and parameters: {'yearly_seasonality': False, 'weekly_seasonality': True, 'daily_seasonality': True, 'changepoint_prior_scale': 0.014184986440862704, 'seasonality_prior_scale': 13, 'seasonality_mode': 'additive'}. Best is trial 2 with value: 0.32827562065065136.\n",
      "[I 2024-09-29 15:23:39,584] Trial 3 finished with value: 0.33921482035452505 and parameters: {'yearly_seasonality': True, 'weekly_seasonality': True, 'daily_seasonality': True, 'changepoint_prior_scale': 0.31985135913260954, 'seasonality_prior_scale': 9, 'seasonality_mode': 'multiplicative'}. Best is trial 2 with value: 0.32827562065065136.\n",
      "[I 2024-09-29 15:23:40,874] Trial 4 finished with value: 0.3447546408928624 and parameters: {'yearly_seasonality': True, 'weekly_seasonality': True, 'daily_seasonality': True, 'changepoint_prior_scale': 0.3166092756328473, 'seasonality_prior_scale': 12, 'seasonality_mode': 'additive'}. Best is trial 2 with value: 0.32827562065065136.\n",
      "[I 2024-09-29 15:23:41,256] Trial 5 finished with value: 0.44768401497541205 and parameters: {'yearly_seasonality': False, 'weekly_seasonality': False, 'daily_seasonality': False, 'changepoint_prior_scale': 0.11167464180303201, 'seasonality_prior_scale': 14, 'seasonality_mode': 'additive'}. Best is trial 2 with value: 0.32827562065065136.\n",
      "[I 2024-09-29 15:23:41,997] Trial 6 finished with value: 0.33792662008527 and parameters: {'yearly_seasonality': True, 'weekly_seasonality': True, 'daily_seasonality': False, 'changepoint_prior_scale': 0.2389046308020564, 'seasonality_prior_scale': 13, 'seasonality_mode': 'additive'}. Best is trial 2 with value: 0.32827562065065136.\n",
      "[I 2024-09-29 15:23:42,714] Trial 7 finished with value: 0.3395453397730632 and parameters: {'yearly_seasonality': True, 'weekly_seasonality': True, 'daily_seasonality': False, 'changepoint_prior_scale': 0.12618737091272964, 'seasonality_prior_scale': 19, 'seasonality_mode': 'additive'}. Best is trial 2 with value: 0.32827562065065136.\n",
      "[I 2024-09-29 15:23:44,798] Trial 8 finished with value: 0.3416898590541378 and parameters: {'yearly_seasonality': True, 'weekly_seasonality': True, 'daily_seasonality': True, 'changepoint_prior_scale': 0.49099508798338876, 'seasonality_prior_scale': 12, 'seasonality_mode': 'multiplicative'}. Best is trial 2 with value: 0.32827562065065136.\n",
      "[I 2024-09-29 15:23:45,427] Trial 9 finished with value: 0.4590740657231576 and parameters: {'yearly_seasonality': True, 'weekly_seasonality': False, 'daily_seasonality': False, 'changepoint_prior_scale': 0.3761707616827697, 'seasonality_prior_scale': 20, 'seasonality_mode': 'multiplicative'}. Best is trial 2 with value: 0.32827562065065136.\n",
      "[I 2024-09-29 15:23:45,842] Trial 10 finished with value: 0.4416375489351885 and parameters: {'yearly_seasonality': False, 'weekly_seasonality': False, 'daily_seasonality': True, 'changepoint_prior_scale': 0.015073690099179731, 'seasonality_prior_scale': 2, 'seasonality_mode': 'multiplicative'}. Best is trial 2 with value: 0.32827562065065136.\n",
      "[I 2024-09-29 15:23:46,220] Trial 11 finished with value: 0.3255670146792222 and parameters: {'yearly_seasonality': False, 'weekly_seasonality': True, 'daily_seasonality': False, 'changepoint_prior_scale': 0.00915465767735274, 'seasonality_prior_scale': 6, 'seasonality_mode': 'additive'}. Best is trial 11 with value: 0.3255670146792222.\n",
      "[I 2024-09-29 15:23:46,634] Trial 12 finished with value: 0.3256219279075346 and parameters: {'yearly_seasonality': False, 'weekly_seasonality': True, 'daily_seasonality': False, 'changepoint_prior_scale': 0.008446011908528867, 'seasonality_prior_scale': 6, 'seasonality_mode': 'additive'}. Best is trial 11 with value: 0.3255670146792222.\n",
      "[I 2024-09-29 15:23:47,163] Trial 13 finished with value: 0.333948936218914 and parameters: {'yearly_seasonality': False, 'weekly_seasonality': True, 'daily_seasonality': False, 'changepoint_prior_scale': 0.07779730045961195, 'seasonality_prior_scale': 5, 'seasonality_mode': 'additive'}. Best is trial 11 with value: 0.3255670146792222.\n",
      "[I 2024-09-29 15:23:47,503] Trial 14 finished with value: 0.441957364333869 and parameters: {'yearly_seasonality': False, 'weekly_seasonality': False, 'daily_seasonality': False, 'changepoint_prior_scale': 0.009979188246286047, 'seasonality_prior_scale': 6, 'seasonality_mode': 'additive'}. Best is trial 11 with value: 0.3255670146792222.\n",
      "[I 2024-09-29 15:23:48,209] Trial 15 finished with value: 0.33820741713765523 and parameters: {'yearly_seasonality': False, 'weekly_seasonality': True, 'daily_seasonality': False, 'changepoint_prior_scale': 0.20093881304763864, 'seasonality_prior_scale': 6, 'seasonality_mode': 'additive'}. Best is trial 11 with value: 0.3255670146792222.\n",
      "[I 2024-09-29 15:23:48,751] Trial 16 finished with value: 0.3342552418384808 and parameters: {'yearly_seasonality': False, 'weekly_seasonality': True, 'daily_seasonality': False, 'changepoint_prior_scale': 0.08025994354396755, 'seasonality_prior_scale': 2, 'seasonality_mode': 'additive'}. Best is trial 11 with value: 0.3255670146792222.\n",
      "[I 2024-09-29 15:23:49,204] Trial 17 finished with value: 0.3338044767302593 and parameters: {'yearly_seasonality': False, 'weekly_seasonality': True, 'daily_seasonality': False, 'changepoint_prior_scale': 0.07102793281953687, 'seasonality_prior_scale': 4, 'seasonality_mode': 'additive'}. Best is trial 11 with value: 0.3255670146792222.\n",
      "[I 2024-09-29 15:23:49,626] Trial 18 finished with value: 0.44809239098913983 and parameters: {'yearly_seasonality': False, 'weekly_seasonality': False, 'daily_seasonality': False, 'changepoint_prior_scale': 0.15742979883409056, 'seasonality_prior_scale': 8, 'seasonality_mode': 'multiplicative'}. Best is trial 11 with value: 0.3255670146792222.\n"
     ]
    },
    {
     "name": "stderr",
     "output_type": "stream",
     "text": [
      "[I 2024-09-29 15:23:50,944] A new study created in memory with name: no-name-c1ca36c8-fe88-4688-a77f-db1c1b375b49\n"
     ]
    },
    {
     "name": "stdout",
     "output_type": "stream",
     "text": [
      "[I 2024-09-29 15:23:50,784] Trial 19 finished with value: 0.350255307146728 and parameters: {'yearly_seasonality': False, 'weekly_seasonality': True, 'daily_seasonality': False, 'changepoint_prior_scale': 0.47016162926290417, 'seasonality_prior_scale': 8, 'seasonality_mode': 'additive'}. Best is trial 11 with value: 0.3255670146792222.\n"
     ]
    },
    {
     "data": {
      "text/plain": [
       "  0%|          | 0/20 [00:00<?, ?it/s]"
      ],
      "application/vnd.jupyter.widget-view+json": {
       "version_major": 2,
       "version_minor": 0,
       "model_id": "fee11665b6e747f18fd8f36512d0dacb"
      }
     },
     "metadata": {},
     "output_type": "display_data"
    },
    {
     "name": "stdout",
     "output_type": "stream",
     "text": [
      "[I 2024-09-29 15:23:52,571] Trial 0 finished with value: 0.240119054583418 and parameters: {'yearly_seasonality': True, 'weekly_seasonality': True, 'daily_seasonality': True, 'changepoint_prior_scale': 0.47795937265636457, 'seasonality_prior_scale': 13, 'seasonality_mode': 'additive'}. Best is trial 0 with value: 0.240119054583418.\n",
      "[I 2024-09-29 15:23:53,295] Trial 1 finished with value: 0.25281575297159503 and parameters: {'yearly_seasonality': False, 'weekly_seasonality': True, 'daily_seasonality': True, 'changepoint_prior_scale': 0.177315589877538, 'seasonality_prior_scale': 17, 'seasonality_mode': 'additive'}. Best is trial 0 with value: 0.240119054583418.\n",
      "[I 2024-09-29 15:23:53,839] Trial 2 finished with value: 0.4162004381149062 and parameters: {'yearly_seasonality': False, 'weekly_seasonality': False, 'daily_seasonality': True, 'changepoint_prior_scale': 0.1606514656117522, 'seasonality_prior_scale': 1, 'seasonality_mode': 'additive'}. Best is trial 0 with value: 0.240119054583418.\n",
      "[I 2024-09-29 15:23:54,741] Trial 3 finished with value: 0.23667371196571615 and parameters: {'yearly_seasonality': True, 'weekly_seasonality': True, 'daily_seasonality': False, 'changepoint_prior_scale': 0.27294270152424177, 'seasonality_prior_scale': 18, 'seasonality_mode': 'additive'}. Best is trial 3 with value: 0.23667371196571615.\n",
      "[I 2024-09-29 15:23:55,297] Trial 4 finished with value: 0.4108667937172072 and parameters: {'yearly_seasonality': True, 'weekly_seasonality': False, 'daily_seasonality': False, 'changepoint_prior_scale': 0.10655545214367658, 'seasonality_prior_scale': 9, 'seasonality_mode': 'multiplicative'}. Best is trial 3 with value: 0.23667371196571615.\n",
      "[I 2024-09-29 15:23:56,800] Trial 5 finished with value: 0.23947802308599278 and parameters: {'yearly_seasonality': True, 'weekly_seasonality': True, 'daily_seasonality': True, 'changepoint_prior_scale': 0.3532124494769945, 'seasonality_prior_scale': 2, 'seasonality_mode': 'additive'}. Best is trial 3 with value: 0.23667371196571615.\n",
      "[I 2024-09-29 15:23:57,835] Trial 6 finished with value: 0.22240345212517487 and parameters: {'yearly_seasonality': True, 'weekly_seasonality': True, 'daily_seasonality': False, 'changepoint_prior_scale': 0.3706530352359333, 'seasonality_prior_scale': 18, 'seasonality_mode': 'multiplicative'}. Best is trial 6 with value: 0.22240345212517487.\n",
      "[I 2024-09-29 15:23:58,654] Trial 7 finished with value: 0.23960254626684307 and parameters: {'yearly_seasonality': True, 'weekly_seasonality': True, 'daily_seasonality': True, 'changepoint_prior_scale': 0.08805559206654365, 'seasonality_prior_scale': 13, 'seasonality_mode': 'additive'}. Best is trial 6 with value: 0.22240345212517487.\n",
      "[I 2024-09-29 15:23:59,625] Trial 8 finished with value: 0.23269787409622303 and parameters: {'yearly_seasonality': False, 'weekly_seasonality': True, 'daily_seasonality': False, 'changepoint_prior_scale': 0.45890278053433997, 'seasonality_prior_scale': 7, 'seasonality_mode': 'multiplicative'}. Best is trial 6 with value: 0.22240345212517487.\n",
      "[I 2024-09-29 15:24:00,239] Trial 9 finished with value: 0.4083715505540359 and parameters: {'yearly_seasonality': True, 'weekly_seasonality': False, 'daily_seasonality': False, 'changepoint_prior_scale': 0.26509216329574936, 'seasonality_prior_scale': 12, 'seasonality_mode': 'additive'}. Best is trial 6 with value: 0.22240345212517487.\n",
      "[I 2024-09-29 15:24:00,747] Trial 10 finished with value: 0.4187778765235528 and parameters: {'yearly_seasonality': False, 'weekly_seasonality': False, 'daily_seasonality': False, 'changepoint_prior_scale': 0.3690915572277529, 'seasonality_prior_scale': 20, 'seasonality_mode': 'multiplicative'}. Best is trial 6 with value: 0.22240345212517487.\n",
      "[I 2024-09-29 15:24:01,795] Trial 11 finished with value: 0.23331487436135764 and parameters: {'yearly_seasonality': False, 'weekly_seasonality': True, 'daily_seasonality': False, 'changepoint_prior_scale': 0.49421373714479755, 'seasonality_prior_scale': 7, 'seasonality_mode': 'multiplicative'}. Best is trial 6 with value: 0.22240345212517487.\n",
      "[I 2024-09-29 15:24:02,660] Trial 12 finished with value: 0.23068268892520102 and parameters: {'yearly_seasonality': False, 'weekly_seasonality': True, 'daily_seasonality': False, 'changepoint_prior_scale': 0.39534441503194256, 'seasonality_prior_scale': 5, 'seasonality_mode': 'multiplicative'}. Best is trial 6 with value: 0.22240345212517487.\n",
      "[I 2024-09-29 15:24:03,618] Trial 13 finished with value: 0.23128006802321058 and parameters: {'yearly_seasonality': False, 'weekly_seasonality': True, 'daily_seasonality': False, 'changepoint_prior_scale': 0.37323569941998164, 'seasonality_prior_scale': 4, 'seasonality_mode': 'multiplicative'}. Best is trial 6 with value: 0.22240345212517487.\n",
      "[I 2024-09-29 15:24:04,909] Trial 14 finished with value: 0.22274337239514197 and parameters: {'yearly_seasonality': True, 'weekly_seasonality': True, 'daily_seasonality': False, 'changepoint_prior_scale': 0.4058260733165186, 'seasonality_prior_scale': 16, 'seasonality_mode': 'multiplicative'}. Best is trial 6 with value: 0.22240345212517487.\n",
      "[I 2024-09-29 15:24:05,523] Trial 15 finished with value: 0.22134569344511926 and parameters: {'yearly_seasonality': True, 'weekly_seasonality': True, 'daily_seasonality': False, 'changepoint_prior_scale': 0.006560840508015281, 'seasonality_prior_scale': 16, 'seasonality_mode': 'multiplicative'}. Best is trial 15 with value: 0.22134569344511926.\n",
      "[I 2024-09-29 15:24:06,607] Trial 16 finished with value: 0.2216492236118155 and parameters: {'yearly_seasonality': True, 'weekly_seasonality': True, 'daily_seasonality': False, 'changepoint_prior_scale': 0.30481855633461785, 'seasonality_prior_scale': 15, 'seasonality_mode': 'multiplicative'}. Best is trial 15 with value: 0.22134569344511926.\n",
      "[I 2024-09-29 15:24:07,279] Trial 17 finished with value: 0.22204707437865356 and parameters: {'yearly_seasonality': True, 'weekly_seasonality': True, 'daily_seasonality': False, 'changepoint_prior_scale': 0.04440755967320957, 'seasonality_prior_scale': 15, 'seasonality_mode': 'multiplicative'}. Best is trial 15 with value: 0.22134569344511926.\n",
      "[I 2024-09-29 15:24:07,846] Trial 18 finished with value: 0.4134591147726199 and parameters: {'yearly_seasonality': True, 'weekly_seasonality': False, 'daily_seasonality': False, 'changepoint_prior_scale': 0.012520590541115595, 'seasonality_prior_scale': 20, 'seasonality_mode': 'multiplicative'}. Best is trial 15 with value: 0.22134569344511926.\n",
      "[I 2024-09-29 15:24:08,652] Trial 19 finished with value: 0.2210178949415952 and parameters: {'yearly_seasonality': True, 'weekly_seasonality': True, 'daily_seasonality': False, 'changepoint_prior_scale': 0.20597027640761598, 'seasonality_prior_scale': 11, 'seasonality_mode': 'multiplicative'}. Best is trial 19 with value: 0.2210178949415952.\n"
     ]
    },
    {
     "name": "stderr",
     "output_type": "stream",
     "text": [
      "[I 2024-09-29 15:24:08,906] A new study created in memory with name: no-name-ff1c25d3-6a60-4623-bed5-5b60bf56b826\n"
     ]
    },
    {
     "data": {
      "text/plain": [
       "  0%|          | 0/20 [00:00<?, ?it/s]"
      ],
      "application/vnd.jupyter.widget-view+json": {
       "version_major": 2,
       "version_minor": 0,
       "model_id": "d5244fa47ed44627a69a8d3adedaf545"
      }
     },
     "metadata": {},
     "output_type": "display_data"
    },
    {
     "name": "stdout",
     "output_type": "stream",
     "text": [
      "[I 2024-09-29 15:24:10,078] Trial 0 finished with value: 0.15949147845035622 and parameters: {'yearly_seasonality': True, 'weekly_seasonality': True, 'daily_seasonality': False, 'changepoint_prior_scale': 0.46710960630653275, 'seasonality_prior_scale': 10, 'seasonality_mode': 'multiplicative'}. Best is trial 0 with value: 0.15949147845035622.\n",
      "[I 2024-09-29 15:24:11,265] Trial 1 finished with value: 0.17479183473395973 and parameters: {'yearly_seasonality': True, 'weekly_seasonality': True, 'daily_seasonality': True, 'changepoint_prior_scale': 0.36257239239181566, 'seasonality_prior_scale': 6, 'seasonality_mode': 'additive'}. Best is trial 0 with value: 0.15949147845035622.\n",
      "[I 2024-09-29 15:24:11,872] Trial 2 finished with value: 0.19243696584152933 and parameters: {'yearly_seasonality': False, 'weekly_seasonality': True, 'daily_seasonality': False, 'changepoint_prior_scale': 0.20497962999563912, 'seasonality_prior_scale': 16, 'seasonality_mode': 'additive'}. Best is trial 0 with value: 0.15949147845035622.\n",
      "[I 2024-09-29 15:24:12,554] Trial 3 finished with value: 0.15897578899248568 and parameters: {'yearly_seasonality': True, 'weekly_seasonality': True, 'daily_seasonality': False, 'changepoint_prior_scale': 0.08245467300804248, 'seasonality_prior_scale': 20, 'seasonality_mode': 'multiplicative'}. Best is trial 3 with value: 0.15897578899248568.\n",
      "[I 2024-09-29 15:24:13,102] Trial 4 finished with value: 0.3680709421631972 and parameters: {'yearly_seasonality': False, 'weekly_seasonality': False, 'daily_seasonality': True, 'changepoint_prior_scale': 0.2893170012940911, 'seasonality_prior_scale': 15, 'seasonality_mode': 'additive'}. Best is trial 3 with value: 0.15897578899248568.\n",
      "[I 2024-09-29 15:24:13,975] Trial 5 finished with value: 0.16001520122448945 and parameters: {'yearly_seasonality': True, 'weekly_seasonality': True, 'daily_seasonality': True, 'changepoint_prior_scale': 0.13022989548609967, 'seasonality_prior_scale': 7, 'seasonality_mode': 'multiplicative'}. Best is trial 3 with value: 0.15897578899248568.\n",
      "[I 2024-09-29 15:24:14,443] Trial 6 finished with value: 0.16292400239544177 and parameters: {'yearly_seasonality': False, 'weekly_seasonality': True, 'daily_seasonality': False, 'changepoint_prior_scale': 0.07640172043211314, 'seasonality_prior_scale': 17, 'seasonality_mode': 'multiplicative'}. Best is trial 3 with value: 0.15897578899248568.\n",
      "[I 2024-09-29 15:24:15,022] Trial 7 finished with value: 0.3597953833410254 and parameters: {'yearly_seasonality': True, 'weekly_seasonality': False, 'daily_seasonality': False, 'changepoint_prior_scale': 0.12384718122640495, 'seasonality_prior_scale': 11, 'seasonality_mode': 'multiplicative'}. Best is trial 3 with value: 0.15897578899248568.\n",
      "[I 2024-09-29 15:24:15,443] Trial 8 finished with value: 0.1629622907217844 and parameters: {'yearly_seasonality': False, 'weekly_seasonality': True, 'daily_seasonality': False, 'changepoint_prior_scale': 0.09536949116736555, 'seasonality_prior_scale': 1, 'seasonality_mode': 'multiplicative'}. Best is trial 3 with value: 0.15897578899248568.\n",
      "[I 2024-09-29 15:24:15,882] Trial 9 finished with value: 0.3682291958037758 and parameters: {'yearly_seasonality': False, 'weekly_seasonality': False, 'daily_seasonality': False, 'changepoint_prior_scale': 0.3027405068787293, 'seasonality_prior_scale': 10, 'seasonality_mode': 'additive'}. Best is trial 3 with value: 0.15897578899248568.\n",
      "[I 2024-09-29 15:24:16,444] Trial 10 finished with value: 0.3605623196005931 and parameters: {'yearly_seasonality': True, 'weekly_seasonality': False, 'daily_seasonality': True, 'changepoint_prior_scale': 0.005893394554259204, 'seasonality_prior_scale': 20, 'seasonality_mode': 'multiplicative'}. Best is trial 3 with value: 0.15897578899248568.\n",
      "[I 2024-09-29 15:24:17,834] Trial 11 finished with value: 0.16010325969160324 and parameters: {'yearly_seasonality': True, 'weekly_seasonality': True, 'daily_seasonality': False, 'changepoint_prior_scale': 0.49246868364007135, 'seasonality_prior_scale': 12, 'seasonality_mode': 'multiplicative'}. Best is trial 3 with value: 0.15897578899248568.\n",
      "[I 2024-09-29 15:24:18,999] Trial 12 finished with value: 0.1588545798748167 and parameters: {'yearly_seasonality': True, 'weekly_seasonality': True, 'daily_seasonality': False, 'changepoint_prior_scale': 0.4395042789030919, 'seasonality_prior_scale': 20, 'seasonality_mode': 'multiplicative'}. Best is trial 12 with value: 0.1588545798748167.\n",
      "[I 2024-09-29 15:24:20,122] Trial 13 finished with value: 0.1588098858269583 and parameters: {'yearly_seasonality': True, 'weekly_seasonality': True, 'daily_seasonality': False, 'changepoint_prior_scale': 0.40141101946864727, 'seasonality_prior_scale': 20, 'seasonality_mode': 'multiplicative'}. Best is trial 13 with value: 0.1588098858269583.\n",
      "[I 2024-09-29 15:24:21,275] Trial 14 finished with value: 0.15822820886364639 and parameters: {'yearly_seasonality': True, 'weekly_seasonality': True, 'daily_seasonality': False, 'changepoint_prior_scale': 0.4203135570628529, 'seasonality_prior_scale': 19, 'seasonality_mode': 'multiplicative'}. Best is trial 14 with value: 0.15822820886364639.\n",
      "[I 2024-09-29 15:24:22,239] Trial 15 finished with value: 0.15815169258650083 and parameters: {'yearly_seasonality': True, 'weekly_seasonality': True, 'daily_seasonality': False, 'changepoint_prior_scale': 0.386495717428497, 'seasonality_prior_scale': 17, 'seasonality_mode': 'multiplicative'}. Best is trial 15 with value: 0.15815169258650083.\n",
      "[I 2024-09-29 15:24:23,348] Trial 16 finished with value: 0.15848613367466236 and parameters: {'yearly_seasonality': True, 'weekly_seasonality': True, 'daily_seasonality': False, 'changepoint_prior_scale': 0.36068847777919366, 'seasonality_prior_scale': 17, 'seasonality_mode': 'multiplicative'}. Best is trial 15 with value: 0.15815169258650083.\n",
      "[I 2024-09-29 15:24:24,126] Trial 17 finished with value: 0.16054949984153902 and parameters: {'yearly_seasonality': True, 'weekly_seasonality': True, 'daily_seasonality': False, 'changepoint_prior_scale': 0.23151886376896028, 'seasonality_prior_scale': 14, 'seasonality_mode': 'multiplicative'}. Best is trial 15 with value: 0.15815169258650083.\n",
      "[I 2024-09-29 15:24:24,942] Trial 18 finished with value: 0.35978229726451466 and parameters: {'yearly_seasonality': True, 'weekly_seasonality': False, 'daily_seasonality': True, 'changepoint_prior_scale': 0.41263825841081014, 'seasonality_prior_scale': 18, 'seasonality_mode': 'additive'}. Best is trial 15 with value: 0.15815169258650083.\n",
      "[I 2024-09-29 15:24:26,046] Trial 19 finished with value: 0.15829291966448722 and parameters: {'yearly_seasonality': True, 'weekly_seasonality': True, 'daily_seasonality': False, 'changepoint_prior_scale': 0.3335920539391599, 'seasonality_prior_scale': 13, 'seasonality_mode': 'multiplicative'}. Best is trial 15 with value: 0.15815169258650083.\n"
     ]
    },
    {
     "name": "stderr",
     "output_type": "stream",
     "text": [
      "[I 2024-09-29 15:24:26,396] A new study created in memory with name: no-name-4cc3ffcf-4fec-4415-8360-ecd5e44c5a3b\n"
     ]
    },
    {
     "data": {
      "text/plain": [
       "  0%|          | 0/20 [00:00<?, ?it/s]"
      ],
      "application/vnd.jupyter.widget-view+json": {
       "version_major": 2,
       "version_minor": 0,
       "model_id": "c21990279d6c4488a2b17a8e90e2c48d"
      }
     },
     "metadata": {},
     "output_type": "display_data"
    },
    {
     "name": "stdout",
     "output_type": "stream",
     "text": [
      "[I 2024-09-29 15:24:28,415] Trial 0 finished with value: 0.11512718132470162 and parameters: {'yearly_seasonality': False, 'weekly_seasonality': True, 'daily_seasonality': True, 'changepoint_prior_scale': 0.17806298215005506, 'seasonality_prior_scale': 20, 'seasonality_mode': 'multiplicative'}. Best is trial 0 with value: 0.11512718132470162.\n",
      "[I 2024-09-29 15:24:29,117] Trial 1 finished with value: 0.3385463477857294 and parameters: {'yearly_seasonality': False, 'weekly_seasonality': False, 'daily_seasonality': True, 'changepoint_prior_scale': 0.44300670603279046, 'seasonality_prior_scale': 7, 'seasonality_mode': 'additive'}. Best is trial 0 with value: 0.11512718132470162.\n",
      "[I 2024-09-29 15:24:29,576] Trial 2 finished with value: 0.3365813555113702 and parameters: {'yearly_seasonality': False, 'weekly_seasonality': False, 'daily_seasonality': False, 'changepoint_prior_scale': 0.259727482138521, 'seasonality_prior_scale': 3, 'seasonality_mode': 'additive'}. Best is trial 0 with value: 0.11512718132470162.\n",
      "[I 2024-09-29 15:24:30,107] Trial 3 finished with value: 0.33076825484608047 and parameters: {'yearly_seasonality': True, 'weekly_seasonality': False, 'daily_seasonality': False, 'changepoint_prior_scale': 0.022878278423008012, 'seasonality_prior_scale': 20, 'seasonality_mode': 'additive'}. Best is trial 0 with value: 0.11512718132470162.\n",
      "[I 2024-09-29 15:24:30,830] Trial 4 finished with value: 0.3301157197123099 and parameters: {'yearly_seasonality': True, 'weekly_seasonality': False, 'daily_seasonality': True, 'changepoint_prior_scale': 0.17596296127264505, 'seasonality_prior_scale': 16, 'seasonality_mode': 'additive'}. Best is trial 0 with value: 0.11512718132470162.\n",
      "[I 2024-09-29 15:24:32,683] Trial 5 finished with value: 0.1174960324319465 and parameters: {'yearly_seasonality': True, 'weekly_seasonality': True, 'daily_seasonality': True, 'changepoint_prior_scale': 0.4440706747573012, 'seasonality_prior_scale': 19, 'seasonality_mode': 'multiplicative'}. Best is trial 0 with value: 0.11512718132470162.\n",
      "[I 2024-09-29 15:24:34,718] Trial 6 finished with value: 0.3313713320267469 and parameters: {'yearly_seasonality': True, 'weekly_seasonality': False, 'daily_seasonality': True, 'changepoint_prior_scale': 0.44771731481443183, 'seasonality_prior_scale': 12, 'seasonality_mode': 'multiplicative'}. Best is trial 0 with value: 0.11512718132470162.\n",
      "[I 2024-09-29 15:24:35,626] Trial 7 finished with value: 0.3309275843648738 and parameters: {'yearly_seasonality': True, 'weekly_seasonality': False, 'daily_seasonality': True, 'changepoint_prior_scale': 0.4349965756005795, 'seasonality_prior_scale': 16, 'seasonality_mode': 'additive'}. Best is trial 0 with value: 0.11512718132470162.\n",
      "[I 2024-09-29 15:24:36,836] Trial 8 finished with value: 0.10398274271348061 and parameters: {'yearly_seasonality': True, 'weekly_seasonality': True, 'daily_seasonality': False, 'changepoint_prior_scale': 0.4766320384146181, 'seasonality_prior_scale': 20, 'seasonality_mode': 'multiplicative'}. Best is trial 8 with value: 0.10398274271348061.\n",
      "[I 2024-09-29 15:24:37,275] Trial 9 finished with value: 0.1389498181589187 and parameters: {'yearly_seasonality': False, 'weekly_seasonality': True, 'daily_seasonality': False, 'changepoint_prior_scale': 0.05165137868841374, 'seasonality_prior_scale': 11, 'seasonality_mode': 'additive'}. Best is trial 8 with value: 0.10398274271348061.\n",
      "[I 2024-09-29 15:24:38,302] Trial 10 finished with value: 0.10260052929508541 and parameters: {'yearly_seasonality': True, 'weekly_seasonality': True, 'daily_seasonality': False, 'changepoint_prior_scale': 0.32612889043993365, 'seasonality_prior_scale': 2, 'seasonality_mode': 'multiplicative'}. Best is trial 10 with value: 0.10260052929508541.\n",
      "[I 2024-09-29 15:24:39,243] Trial 11 finished with value: 0.10231795161949502 and parameters: {'yearly_seasonality': True, 'weekly_seasonality': True, 'daily_seasonality': False, 'changepoint_prior_scale': 0.3280279669203315, 'seasonality_prior_scale': 2, 'seasonality_mode': 'multiplicative'}. Best is trial 11 with value: 0.10231795161949502.\n",
      "[I 2024-09-29 15:24:40,197] Trial 12 finished with value: 0.10284804681206149 and parameters: {'yearly_seasonality': True, 'weekly_seasonality': True, 'daily_seasonality': False, 'changepoint_prior_scale': 0.3231560666079993, 'seasonality_prior_scale': 1, 'seasonality_mode': 'multiplicative'}. Best is trial 11 with value: 0.10231795161949502.\n",
      "[I 2024-09-29 15:24:41,252] Trial 13 finished with value: 0.10258904381022353 and parameters: {'yearly_seasonality': True, 'weekly_seasonality': True, 'daily_seasonality': False, 'changepoint_prior_scale': 0.3407495957961201, 'seasonality_prior_scale': 5, 'seasonality_mode': 'multiplicative'}. Best is trial 11 with value: 0.10231795161949502.\n",
      "[I 2024-09-29 15:24:42,218] Trial 14 finished with value: 0.10263799121246366 and parameters: {'yearly_seasonality': True, 'weekly_seasonality': True, 'daily_seasonality': False, 'changepoint_prior_scale': 0.354070286867569, 'seasonality_prior_scale': 6, 'seasonality_mode': 'multiplicative'}. Best is trial 11 with value: 0.10231795161949502.\n",
      "[I 2024-09-29 15:24:43,239] Trial 15 finished with value: 0.10262494744306817 and parameters: {'yearly_seasonality': True, 'weekly_seasonality': True, 'daily_seasonality': False, 'changepoint_prior_scale': 0.23590818146492426, 'seasonality_prior_scale': 5, 'seasonality_mode': 'multiplicative'}. Best is trial 11 with value: 0.10231795161949502.\n",
      "[I 2024-09-29 15:24:44,313] Trial 16 finished with value: 0.10331212939284933 and parameters: {'yearly_seasonality': True, 'weekly_seasonality': True, 'daily_seasonality': False, 'changepoint_prior_scale': 0.37534295878787904, 'seasonality_prior_scale': 7, 'seasonality_mode': 'multiplicative'}. Best is trial 11 with value: 0.10231795161949502.\n",
      "[I 2024-09-29 15:24:45,307] Trial 17 finished with value: 0.10202663900225245 and parameters: {'yearly_seasonality': True, 'weekly_seasonality': True, 'daily_seasonality': False, 'changepoint_prior_scale': 0.2405341787279789, 'seasonality_prior_scale': 4, 'seasonality_mode': 'multiplicative'}. Best is trial 17 with value: 0.10202663900225245.\n",
      "[I 2024-09-29 15:24:45,826] Trial 18 finished with value: 0.10873666212383759 and parameters: {'yearly_seasonality': False, 'weekly_seasonality': True, 'daily_seasonality': False, 'changepoint_prior_scale': 0.1043638966648906, 'seasonality_prior_scale': 8, 'seasonality_mode': 'multiplicative'}. Best is trial 17 with value: 0.10202663900225245.\n",
      "[I 2024-09-29 15:24:46,844] Trial 19 finished with value: 0.10172230846378826 and parameters: {'yearly_seasonality': True, 'weekly_seasonality': True, 'daily_seasonality': False, 'changepoint_prior_scale': 0.26498553338010905, 'seasonality_prior_scale': 3, 'seasonality_mode': 'multiplicative'}. Best is trial 19 with value: 0.10172230846378826.\n"
     ]
    },
    {
     "name": "stderr",
     "output_type": "stream",
     "text": [
      "[I 2024-09-29 15:24:47,178] A new study created in memory with name: no-name-42aa8ff3-daa9-492e-80ab-cea94177a7c2\n"
     ]
    },
    {
     "data": {
      "text/plain": [
       "  0%|          | 0/20 [00:00<?, ?it/s]"
      ],
      "application/vnd.jupyter.widget-view+json": {
       "version_major": 2,
       "version_minor": 0,
       "model_id": "0129c138db424ea1b7bc17bf05b51782"
      }
     },
     "metadata": {},
     "output_type": "display_data"
    },
    {
     "name": "stdout",
     "output_type": "stream",
     "text": [
      "[I 2024-09-29 15:24:49,797] Trial 0 finished with value: 0.11149145432437009 and parameters: {'yearly_seasonality': True, 'weekly_seasonality': True, 'daily_seasonality': True, 'changepoint_prior_scale': 0.4181388883460627, 'seasonality_prior_scale': 12, 'seasonality_mode': 'multiplicative'}. Best is trial 0 with value: 0.11149145432437009.\n",
      "[I 2024-09-29 15:24:50,714] Trial 1 finished with value: 0.13246287351758915 and parameters: {'yearly_seasonality': True, 'weekly_seasonality': True, 'daily_seasonality': True, 'changepoint_prior_scale': 0.14484029442390622, 'seasonality_prior_scale': 6, 'seasonality_mode': 'additive'}. Best is trial 0 with value: 0.11149145432437009.\n",
      "[I 2024-09-29 15:24:52,612] Trial 2 finished with value: 0.13996643078685078 and parameters: {'yearly_seasonality': False, 'weekly_seasonality': True, 'daily_seasonality': True, 'changepoint_prior_scale': 0.42434129544046373, 'seasonality_prior_scale': 19, 'seasonality_mode': 'multiplicative'}. Best is trial 0 with value: 0.11149145432437009.\n",
      "[I 2024-09-29 15:24:53,036] Trial 3 finished with value: 0.34845858291640974 and parameters: {'yearly_seasonality': False, 'weekly_seasonality': False, 'daily_seasonality': True, 'changepoint_prior_scale': 0.12397665711562318, 'seasonality_prior_scale': 17, 'seasonality_mode': 'multiplicative'}. Best is trial 0 with value: 0.11149145432437009.\n",
      "[I 2024-09-29 15:24:53,671] Trial 4 finished with value: 0.33534423007850345 and parameters: {'yearly_seasonality': True, 'weekly_seasonality': False, 'daily_seasonality': False, 'changepoint_prior_scale': 0.33790014677672753, 'seasonality_prior_scale': 1, 'seasonality_mode': 'multiplicative'}. Best is trial 0 with value: 0.11149145432437009.\n",
      "[I 2024-09-29 15:24:54,383] Trial 5 finished with value: 0.3397215714048707 and parameters: {'yearly_seasonality': True, 'weekly_seasonality': False, 'daily_seasonality': False, 'changepoint_prior_scale': 0.4544501317423894, 'seasonality_prior_scale': 8, 'seasonality_mode': 'additive'}. Best is trial 0 with value: 0.11149145432437009.\n",
      "[I 2024-09-29 15:24:54,944] Trial 6 finished with value: 0.16594366756807788 and parameters: {'yearly_seasonality': False, 'weekly_seasonality': True, 'daily_seasonality': False, 'changepoint_prior_scale': 0.15107699399691113, 'seasonality_prior_scale': 16, 'seasonality_mode': 'additive'}. Best is trial 0 with value: 0.11149145432437009.\n",
      "[I 2024-09-29 15:24:55,921] Trial 7 finished with value: 0.14095085605119917 and parameters: {'yearly_seasonality': False, 'weekly_seasonality': True, 'daily_seasonality': False, 'changepoint_prior_scale': 0.44643597583159533, 'seasonality_prior_scale': 9, 'seasonality_mode': 'multiplicative'}. Best is trial 0 with value: 0.11149145432437009.\n",
      "[I 2024-09-29 15:24:56,445] Trial 8 finished with value: 0.3480796329446492 and parameters: {'yearly_seasonality': False, 'weekly_seasonality': False, 'daily_seasonality': True, 'changepoint_prior_scale': 0.144169541520424, 'seasonality_prior_scale': 18, 'seasonality_mode': 'multiplicative'}. Best is trial 0 with value: 0.11149145432437009.\n",
      "[I 2024-09-29 15:24:57,070] Trial 9 finished with value: 0.33533712690274137 and parameters: {'yearly_seasonality': True, 'weekly_seasonality': False, 'daily_seasonality': True, 'changepoint_prior_scale': 0.19190034863790714, 'seasonality_prior_scale': 1, 'seasonality_mode': 'multiplicative'}. Best is trial 0 with value: 0.11149145432437009.\n",
      "[I 2024-09-29 15:24:58,529] Trial 10 finished with value: 0.1459761399099442 and parameters: {'yearly_seasonality': True, 'weekly_seasonality': True, 'daily_seasonality': True, 'changepoint_prior_scale': 0.3489793461560182, 'seasonality_prior_scale': 13, 'seasonality_mode': 'additive'}. Best is trial 0 with value: 0.11149145432437009.\n",
      "[I 2024-09-29 15:24:59,281] Trial 11 finished with value: 0.13568245131723208 and parameters: {'yearly_seasonality': True, 'weekly_seasonality': True, 'daily_seasonality': True, 'changepoint_prior_scale': 0.010041349961248308, 'seasonality_prior_scale': 6, 'seasonality_mode': 'additive'}. Best is trial 0 with value: 0.11149145432437009.\n",
      "[I 2024-09-29 15:25:00,613] Trial 12 finished with value: 0.1419880050619526 and parameters: {'yearly_seasonality': True, 'weekly_seasonality': True, 'daily_seasonality': True, 'changepoint_prior_scale': 0.2641841308540689, 'seasonality_prior_scale': 5, 'seasonality_mode': 'additive'}. Best is trial 0 with value: 0.11149145432437009.\n",
      "[I 2024-09-29 15:25:01,331] Trial 13 finished with value: 0.13369544508593942 and parameters: {'yearly_seasonality': True, 'weekly_seasonality': True, 'daily_seasonality': True, 'changepoint_prior_scale': 0.058985166306941963, 'seasonality_prior_scale': 12, 'seasonality_mode': 'additive'}. Best is trial 0 with value: 0.11149145432437009.\n",
      "[I 2024-09-29 15:25:03,207] Trial 14 finished with value: 0.11196224673423279 and parameters: {'yearly_seasonality': True, 'weekly_seasonality': True, 'daily_seasonality': True, 'changepoint_prior_scale': 0.2725417451615322, 'seasonality_prior_scale': 14, 'seasonality_mode': 'multiplicative'}. Best is trial 0 with value: 0.11149145432437009.\n",
      "[I 2024-09-29 15:25:04,967] Trial 15 finished with value: 0.11121572704008303 and parameters: {'yearly_seasonality': True, 'weekly_seasonality': True, 'daily_seasonality': True, 'changepoint_prior_scale': 0.3005800073571881, 'seasonality_prior_scale': 14, 'seasonality_mode': 'multiplicative'}. Best is trial 15 with value: 0.11121572704008303.\n",
      "[I 2024-09-29 15:25:07,217] Trial 16 finished with value: 0.11417431411961569 and parameters: {'yearly_seasonality': True, 'weekly_seasonality': True, 'daily_seasonality': True, 'changepoint_prior_scale': 0.36694177183046617, 'seasonality_prior_scale': 15, 'seasonality_mode': 'multiplicative'}. Best is trial 15 with value: 0.11121572704008303.\n",
      "[I 2024-09-29 15:25:09,479] Trial 17 finished with value: 0.11182359085273019 and parameters: {'yearly_seasonality': True, 'weekly_seasonality': True, 'daily_seasonality': True, 'changepoint_prior_scale': 0.4818873115659812, 'seasonality_prior_scale': 11, 'seasonality_mode': 'multiplicative'}. Best is trial 15 with value: 0.11121572704008303.\n",
      "[I 2024-09-29 15:25:10,574] Trial 18 finished with value: 0.11199017053125211 and parameters: {'yearly_seasonality': True, 'weekly_seasonality': True, 'daily_seasonality': False, 'changepoint_prior_scale': 0.31155673881328505, 'seasonality_prior_scale': 20, 'seasonality_mode': 'multiplicative'}. Best is trial 15 with value: 0.11121572704008303.\n",
      "[I 2024-09-29 15:25:12,749] Trial 19 finished with value: 0.11196501001086517 and parameters: {'yearly_seasonality': True, 'weekly_seasonality': True, 'daily_seasonality': True, 'changepoint_prior_scale': 0.3869091049449621, 'seasonality_prior_scale': 10, 'seasonality_mode': 'multiplicative'}. Best is trial 15 with value: 0.11121572704008303.\n",
      "Final Outer RMSLE: 0.13806511887794853\n"
     ]
    }
   ],
   "execution_count": 182
  },
  {
   "metadata": {},
   "cell_type": "code",
   "source": "",
   "id": "f1f5bb81aa492e35",
   "outputs": [],
   "execution_count": null
  },
  {
   "metadata": {},
   "cell_type": "code",
   "outputs": [],
   "execution_count": null,
   "source": "",
   "id": "e2eb3901c6f96857"
  }
 ],
 "metadata": {
  "kernelspec": {
   "display_name": "Python 3",
   "language": "python",
   "name": "python3"
  },
  "language_info": {
   "codemirror_mode": {
    "name": "ipython",
    "version": 2
   },
   "file_extension": ".py",
   "mimetype": "text/x-python",
   "name": "python",
   "nbconvert_exporter": "python",
   "pygments_lexer": "ipython2",
   "version": "2.7.6"
  }
 },
 "nbformat": 4,
 "nbformat_minor": 5
}
