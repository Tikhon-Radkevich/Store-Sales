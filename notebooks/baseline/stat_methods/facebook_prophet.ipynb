{
 "cells": [
  {
   "cell_type": "markdown",
   "id": "7944a50b18bda6a9",
   "metadata": {},
   "source": "## Notebook Configuration && Imports"
  },
  {
   "cell_type": "code",
   "id": "6a0eb6f080485bd8",
   "metadata": {
    "ExecuteTime": {
     "end_time": "2024-10-03T12:20:20.727955Z",
     "start_time": "2024-10-03T12:20:20.705665Z"
    }
   },
   "source": [
    "%load_ext autoreload\n",
    "%autoreload 2"
   ],
   "outputs": [],
   "execution_count": 1
  },
  {
   "cell_type": "code",
   "id": "initial_id",
   "metadata": {
    "ExecuteTime": {
     "end_time": "2024-10-03T12:20:21.702492Z",
     "start_time": "2024-10-03T12:20:20.739092Z"
    }
   },
   "source": [
    "import os\n",
    "import itertools\n",
    "import logging\n",
    "from tqdm import tqdm\n",
    "\n",
    "import pandas as pd\n",
    "from prophet import Prophet\n",
    "\n",
    "from storesales.constants import (\n",
    "    SUBMISSIONS_PATH,\n",
    "    EXTERNAL_TRAIN_PATH,\n",
    "    EXTERNAL_SAMPLE_SUBMISSION_PATH,\n",
    "    EXTERNAL_TEST_PATH,\n",
    "    EXTERNAL_OIL_PATH,\n",
    "    EXTERNAL_HOLIDAYS_EVENTS_PATH\n",
    ")"
   ],
   "outputs": [],
   "execution_count": 2
  },
  {
   "cell_type": "markdown",
   "id": "ab95d6eba147ea53",
   "metadata": {},
   "source": "## Load && Prepare Data"
  },
  {
   "cell_type": "code",
   "id": "e9af06351917d9c5",
   "metadata": {
    "ExecuteTime": {
     "end_time": "2024-10-03T12:29:54.484542Z",
     "start_time": "2024-10-03T12:29:52.684507Z"
    }
   },
   "source": [
    "original_train_df = pd.read_csv(EXTERNAL_TRAIN_PATH, parse_dates=[\"date\"])\n",
    "original_train_df.sort_values(by=[\"date\", \"store_nbr\", \"family\"], inplace=True)\n",
    "\n",
    "original_test_df = pd.read_csv(EXTERNAL_TEST_PATH, parse_dates=[\"date\"])\n",
    "\n",
    "sample_submission_df = pd.read_csv(EXTERNAL_SAMPLE_SUBMISSION_PATH, index_col=\"id\")\n",
    "\n",
    "oil_df = pd.read_csv(EXTERNAL_OIL_PATH, parse_dates=[\"date\"])\n",
    "oil_df.set_index(\"date\", inplace=True)\n",
    "oil_df = oil_df.asfreq(\"D\")\n",
    "oil_df[\"dcoilwtico\"] = oil_df[\"dcoilwtico\"].ffill()\n",
    "oil_df = oil_df.dropna()\n",
    "\n",
    "holidays_df = pd.read_csv(EXTERNAL_HOLIDAYS_EVENTS_PATH, parse_dates=[\"date\"])"
   ],
   "outputs": [],
   "execution_count": 42
  },
  {
   "cell_type": "code",
   "id": "551fd59b04a2aa2",
   "metadata": {
    "ExecuteTime": {
     "end_time": "2024-10-03T12:30:06.300244Z",
     "start_time": "2024-10-03T12:30:06.218534Z"
    }
   },
   "source": [
    "train_period = original_train_df.index.unique()"
   ],
   "outputs": [],
   "execution_count": 44
  },
  {
   "cell_type": "markdown",
   "id": "ff226149104c2932",
   "metadata": {},
   "source": "## Facebook Prophet"
  },
  {
   "metadata": {},
   "cell_type": "markdown",
   "source": "## Store nbr '1' & Family 'GROCERY I'",
   "id": "23c5a801df312d14"
  },
  {
   "metadata": {
    "ExecuteTime": {
     "end_time": "2024-10-03T12:36:45.442801Z",
     "start_time": "2024-10-03T12:36:45.402736Z"
    }
   },
   "cell_type": "code",
   "source": [
    "import numpy as np\n",
    "from sklearn.model_selection import TimeSeriesSplit\n",
    "import optuna\n",
    "from prophet.diagnostics import cross_validation, performance_metrics"
   ],
   "id": "d58b793068ce1106",
   "outputs": [],
   "execution_count": 59
  },
  {
   "metadata": {
    "ExecuteTime": {
     "end_time": "2024-10-03T12:36:45.593579Z",
     "start_time": "2024-10-03T12:36:45.572306Z"
    }
   },
   "cell_type": "code",
   "source": [
    "def rmsle(y_true, y_pred):\n",
    "    return np.sqrt(np.mean(np.square(np.log1p(y_true) - np.log1p(y_pred))))"
   ],
   "id": "f2b4b982cec2d3d8",
   "outputs": [],
   "execution_count": 60
  },
  {
   "metadata": {
    "ExecuteTime": {
     "end_time": "2024-10-03T14:56:27.396888Z",
     "start_time": "2024-10-03T14:56:27.286462Z"
    }
   },
   "cell_type": "code",
   "source": [
    "train_df = original_train_df[[\"date\", \"sales\", \"store_nbr\", \"family\"]].copy()\n",
    "train_df.rename(columns={\"date\": \"ds\", \"sales\": \"y\"}, inplace=True)"
   ],
   "id": "40896296a7320b74",
   "outputs": [],
   "execution_count": 108
  },
  {
   "metadata": {
    "ExecuteTime": {
     "end_time": "2024-10-03T14:56:27.693763Z",
     "start_time": "2024-10-03T14:56:27.532828Z"
    }
   },
   "cell_type": "code",
   "source": [
    "families = original_train_df[\"family\"].unique()\n",
    "stores = original_train_df[\"store_nbr\"].unique()"
   ],
   "id": "a1573d9ae46c08b3",
   "outputs": [],
   "execution_count": 109
  },
  {
   "metadata": {
    "ExecuteTime": {
     "end_time": "2024-10-03T14:56:27.849615Z",
     "start_time": "2024-10-03T14:56:27.699030Z"
    }
   },
   "cell_type": "code",
   "source": "train_df = train_df.merge(oil_df, left_on=\"ds\", right_index=True, how=\"left\")",
   "id": "26f83fea324ba504",
   "outputs": [],
   "execution_count": 110
  },
  {
   "metadata": {
    "ExecuteTime": {
     "end_time": "2024-10-03T14:57:38.334416Z",
     "start_time": "2024-10-03T14:57:38.292192Z"
    }
   },
   "cell_type": "code",
   "source": "train_df.head()",
   "id": "5e1854297e141a22",
   "outputs": [
    {
     "data": {
      "text/plain": [
       "             ds         y  store_nbr        family  dcoilwtico\n",
       "1782 2013-01-02     2.000          1    AUTOMOTIVE       93.14\n",
       "2778 2013-01-02     0.000         37   CELEBRATION       93.14\n",
       "2777 2013-01-02   554.995         37  BREAD/BAKERY       93.14\n",
       "2776 2013-01-02     0.000         37         BOOKS       93.14\n",
       "2775 2013-01-02  1119.000         37     BEVERAGES       93.14"
      ],
      "text/html": [
       "<div>\n",
       "<style scoped>\n",
       "    .dataframe tbody tr th:only-of-type {\n",
       "        vertical-align: middle;\n",
       "    }\n",
       "\n",
       "    .dataframe tbody tr th {\n",
       "        vertical-align: top;\n",
       "    }\n",
       "\n",
       "    .dataframe thead th {\n",
       "        text-align: right;\n",
       "    }\n",
       "</style>\n",
       "<table border=\"1\" class=\"dataframe\">\n",
       "  <thead>\n",
       "    <tr style=\"text-align: right;\">\n",
       "      <th></th>\n",
       "      <th>ds</th>\n",
       "      <th>y</th>\n",
       "      <th>store_nbr</th>\n",
       "      <th>family</th>\n",
       "      <th>dcoilwtico</th>\n",
       "    </tr>\n",
       "  </thead>\n",
       "  <tbody>\n",
       "    <tr>\n",
       "      <th>1782</th>\n",
       "      <td>2013-01-02</td>\n",
       "      <td>2.000</td>\n",
       "      <td>1</td>\n",
       "      <td>AUTOMOTIVE</td>\n",
       "      <td>93.14</td>\n",
       "    </tr>\n",
       "    <tr>\n",
       "      <th>2778</th>\n",
       "      <td>2013-01-02</td>\n",
       "      <td>0.000</td>\n",
       "      <td>37</td>\n",
       "      <td>CELEBRATION</td>\n",
       "      <td>93.14</td>\n",
       "    </tr>\n",
       "    <tr>\n",
       "      <th>2777</th>\n",
       "      <td>2013-01-02</td>\n",
       "      <td>554.995</td>\n",
       "      <td>37</td>\n",
       "      <td>BREAD/BAKERY</td>\n",
       "      <td>93.14</td>\n",
       "    </tr>\n",
       "    <tr>\n",
       "      <th>2776</th>\n",
       "      <td>2013-01-02</td>\n",
       "      <td>0.000</td>\n",
       "      <td>37</td>\n",
       "      <td>BOOKS</td>\n",
       "      <td>93.14</td>\n",
       "    </tr>\n",
       "    <tr>\n",
       "      <th>2775</th>\n",
       "      <td>2013-01-02</td>\n",
       "      <td>1119.000</td>\n",
       "      <td>37</td>\n",
       "      <td>BEVERAGES</td>\n",
       "      <td>93.14</td>\n",
       "    </tr>\n",
       "  </tbody>\n",
       "</table>\n",
       "</div>"
      ]
     },
     "execution_count": 119,
     "metadata": {},
     "output_type": "execute_result"
    }
   ],
   "execution_count": 119
  },
  {
   "metadata": {
    "ExecuteTime": {
     "end_time": "2024-10-03T14:56:28.140037Z",
     "start_time": "2024-10-03T14:56:27.909980Z"
    }
   },
   "cell_type": "code",
   "source": "train_df.dropna(inplace=True)",
   "id": "f65e21611cd217f8",
   "outputs": [],
   "execution_count": 111
  },
  {
   "metadata": {
    "ExecuteTime": {
     "end_time": "2024-10-03T14:56:28.353457Z",
     "start_time": "2024-10-03T14:56:28.141440Z"
    }
   },
   "cell_type": "code",
   "source": "train_df.sort_values(by=\"ds\", inplace=True)",
   "id": "d912585e1542bcf7",
   "outputs": [],
   "execution_count": 112
  },
  {
   "metadata": {
    "ExecuteTime": {
     "end_time": "2024-10-03T14:56:28.439249Z",
     "start_time": "2024-10-03T14:56:28.421247Z"
    }
   },
   "cell_type": "code",
   "source": "holidays_df = holidays_df[holidays_df[\"transferred\"] == False]",
   "id": "4b3ff0f3d7ed1867",
   "outputs": [],
   "execution_count": 113
  },
  {
   "metadata": {
    "ExecuteTime": {
     "end_time": "2024-10-03T14:56:28.720634Z",
     "start_time": "2024-10-03T14:56:28.691748Z"
    }
   },
   "cell_type": "code",
   "source": "prophet_holidays_df = holidays_df[[\"date\", \"description\"]].rename(columns={\"date\": \"ds\", \"description\": \"holiday\"})",
   "id": "dbd996981bcf06d7",
   "outputs": [],
   "execution_count": 114
  },
  {
   "metadata": {
    "ExecuteTime": {
     "end_time": "2024-10-03T15:06:46.524128Z",
     "start_time": "2024-10-03T15:06:46.494599Z"
    }
   },
   "cell_type": "code",
   "source": [
    "class DailyMeanModel:\n",
    "    def __init__(self, window: int):\n",
    "        self.window = window\n",
    "        self.prediction = None\n",
    "        \n",
    "    def fit(self, train: pd.DataFrame) -> None:\n",
    "        self.prediction = train[\"y\"].tail(self.window).mean()\n",
    "        \n",
    "    def predict(self, future: pd.DataFrame) -> pd.DataFrame:\n",
    "        if self.prediction is None:\n",
    "            raise ValueError(\"Model not fitted\")\n",
    "        future[\"yhat\"] = [self.prediction] * len(future)\n",
    "        return future\n",
    "\n",
    "\n",
    "class DailyMeanModelWrapper:\n",
    "    def __init__(self): ...\n",
    "    \n",
    "    @staticmethod\n",
    "    def get_model(**kwargs) -> DailyMeanModel:\n",
    "        return DailyMeanModel(**kwargs)\n",
    "    \n",
    "    def objective(self, trial: optuna.Trial, df: pd.DataFrame) -> float:\n",
    "        model = self.get_model(window=trial.suggest_int(\"window\", 3, 100))\n",
    "    \n",
    "        cutoffs = df[\"ds\"].iloc[[-180, -49, -33, -17]].reset_index(drop=True)\n",
    "        losses = [] \n",
    "        for cutoff in cutoffs:\n",
    "            train_condition = (df[\"ds\"] < cutoff)\n",
    "            train = df[train_condition]\n",
    "            future = df[~train_condition][:16]\n",
    "                        \n",
    "            model.fit(train)\n",
    "            forecast = model.predict(future)\n",
    "            \n",
    "            y_pred = forecast[\"yhat\"].values\n",
    "            y_true = forecast[\"y\"].values\n",
    "            \n",
    "            losses.append(rmsle(y_true, y_pred))\n",
    "        \n",
    "        return np.mean(losses)\n",
    "    \n",
    "    \n",
    "class ProphetWrapper:\n",
    "    def __init__(self, extra_regressors: list[str] = None, holidays=None):\n",
    "        self.extra_regressors = extra_regressors\n",
    "        \n",
    "        self.holidays = holidays\n",
    "        self.daily_seasonality = False\n",
    "        \n",
    "    def get_model(self, **kwargs) -> Prophet:\n",
    "        prophet = Prophet(\n",
    "            daily_seasonality=self.daily_seasonality,\n",
    "            holidays=self.holidays,\n",
    "            **kwargs\n",
    "        )\n",
    "        \n",
    "        if self.extra_regressors is not None:\n",
    "            for regressor in self.extra_regressors:\n",
    "                prophet.add_regressor(regressor)\n",
    "        \n",
    "        return prophet\n",
    "    \n",
    "    def objective(self, trial: optuna.Trial, train: pd.DataFrame) -> float:    \n",
    "        model = self.get_model(            \n",
    "                yearly_seasonality=trial.suggest_categorical(\"yearly_seasonality\", [True, False]),\n",
    "                weekly_seasonality=trial.suggest_categorical(\"weekly_seasonality\", [True, False]),\n",
    "                changepoint_prior_scale=trial.suggest_float(\"changepoint_prior_scale\", 0.001, 0.5),\n",
    "                seasonality_prior_scale=trial.suggest_int(\"seasonality_prior_scale\", 1, 20),\n",
    "                seasonality_mode=trial.suggest_categorical(\"seasonality_mode\", [\"additive\", \"multiplicative\"])\n",
    "        ).fit(train)\n",
    "        \n",
    "        cutoffs = train[\"ds\"].iloc[[-180, -49, -33, -17]].reset_index(drop=True)\n",
    "        df_cv = cross_validation(\n",
    "            model, \n",
    "            horizon=\"16 days\", \n",
    "            initial=\"1095 days\", \n",
    "            cutoffs=cutoffs, \n",
    "            disable_tqdm=True, \n",
    "            parallel=\"processes\"\n",
    "        )\n",
    "        loss = df_cv.groupby(\"cutoff\")[[\"y\", \"yhat\"]].apply(lambda group: rmsle(group[\"y\"], group[\"yhat\"])).mean()\n",
    "        return loss\n",
    "    \n",
    "\n",
    "class SalesPredictor:\n",
    "    def __init__(self, prophet_wrapper: ProphetWrapper, daily_wrapper: DailyMeanModel):\n",
    "        self.best_models = {}\n",
    "        self.models = {\n",
    "            DailyMeanModel.__name__: daily_wrapper,\n",
    "            ProphetWrapper.__name__: prophet_wrapper\n",
    "        }\n",
    "    \n",
    "    def fit(self, train: pd.DataFrame) -> None:\n",
    "        for model in self.models:\n",
    "            model.fit(train)\n",
    "            \n",
    "    def objective(self, trial: optuna.Trial, train: pd.DataFrame) -> float:\n",
    "        model_name = trial.suggest_categorical(\"model\", self.models.keys())\n",
    "        return self.models[model_name].objective(trial, train)\n",
    "            \n",
    "    def get_best_model(self, best_params) -> DailyMeanModel | Prophet:\n",
    "        model_name = best_params.pop(\"model\")\n",
    "        return self.models[model_name].get_model(**best_params)\n",
    "    \n",
    "    def save_best(self, best_params, loss) -> None:\n",
    "        model_name = best_params.pop(\"model\")\n",
    "        self.best_models[model_name] = {\"params\": best_params, \"loss\": loss}\n",
    "        "
   ],
   "id": "1776ce35d862686d",
   "outputs": [],
   "execution_count": 146
  },
  {
   "metadata": {
    "ExecuteTime": {
     "end_time": "2024-10-03T15:12:59.036097Z",
     "start_time": "2024-10-03T15:12:59.012812Z"
    }
   },
   "cell_type": "code",
   "source": [
    "optuna.logging.set_verbosity(optuna.logging.WARN)\n",
    "logging.getLogger(\"cmdstanpy\").setLevel(logging.WARNING)\n",
    "\n",
    "def run_study(df: pd.DataFrame):\n",
    "    daily_wrapper = DailyMeanModelWrapper()\n",
    "    prophet_wrapper = ProphetWrapper(extra_regressors=[\"dcoilwtico\"], holidays=prophet_holidays_df)\n",
    "    \n",
    "    predictor = SalesPredictor(daily_wrapper=daily_wrapper, prophet_wrapper=prophet_wrapper)\n",
    "    \n",
    "    for family in tqdm(families[:3]):\n",
    "        for store in np.random.choice(stores, size=3, replace=False):\n",
    "            train = df[(df[\"store_nbr\"] == store) & (df[\"family\"] == family)][[\"ds\", \"y\", \"dcoilwtico\"]].copy()\n",
    "            \n",
    "            outer_results = []\n",
    "            outer_tscv = TimeSeriesSplit(n_splits=4, test_size=16)\n",
    "            for outer_train_index, outer_test_index in outer_tscv.split(train):\n",
    "                outer_train, outer_test = train.iloc[outer_train_index], train.iloc[outer_test_index]\n",
    "            \n",
    "                study = optuna.create_study(direction=\"minimize\")\n",
    "                study.optimize(lambda trial: predictor.objective(trial, outer_train), n_trials=5, show_progress_bar=True) \n",
    "                \n",
    "                best_model = predictor.get_best_model(study.best_params)\n",
    "                best_model.fit(outer_train)\n",
    "                            \n",
    "                future = outer_test[[\"ds\", \"dcoilwtico\"]]\n",
    "                \n",
    "                forecast = best_model.predict(future)\n",
    "                \n",
    "                y_pred = forecast[\"yhat\"].values\n",
    "                y_true = outer_test[\"y\"].values\n",
    "                \n",
    "                outer_rmsle = rmsle(y_true, y_pred)\n",
    "                outer_results.append(outer_rmsle)\n",
    "            \n",
    "                # print(f\"Outer RMSLE: {outer_rmsle}\")\n",
    "                # print(f\"best params: {study.best_params}\")\n",
    "\n",
    "            final_outer_rmsle = np.mean(outer_results)\n",
    "            print(f\"\\n\\nFinal Outer RMSLE: {final_outer_rmsle}\")"
   ],
   "id": "90de667d1ede6d6f",
   "outputs": [],
   "execution_count": 151
  },
  {
   "metadata": {
    "ExecuteTime": {
     "end_time": "2024-10-03T15:18:37.090014Z",
     "start_time": "2024-10-03T15:12:59.562874Z"
    }
   },
   "cell_type": "code",
   "source": "run_study(train_df)",
   "id": "f1f5bb81aa492e35",
   "outputs": [
    {
     "name": "stderr",
     "output_type": "stream",
     "text": [
      "  0%|          | 0/3 [00:00<?, ?it/s]"
     ]
    },
    {
     "data": {
      "text/plain": [
       "  0%|          | 0/5 [00:00<?, ?it/s]"
      ],
      "application/vnd.jupyter.widget-view+json": {
       "version_major": 2,
       "version_minor": 0,
       "model_id": "8c3cb2b755c14fc79bf045152d85ac6b"
      }
     },
     "metadata": {},
     "output_type": "display_data"
    },
    {
     "data": {
      "text/plain": [
       "  0%|          | 0/5 [00:00<?, ?it/s]"
      ],
      "application/vnd.jupyter.widget-view+json": {
       "version_major": 2,
       "version_minor": 0,
       "model_id": "069bac5cbb354961beb44185592f9680"
      }
     },
     "metadata": {},
     "output_type": "display_data"
    },
    {
     "data": {
      "text/plain": [
       "  0%|          | 0/5 [00:00<?, ?it/s]"
      ],
      "application/vnd.jupyter.widget-view+json": {
       "version_major": 2,
       "version_minor": 0,
       "model_id": "eb27de64caba4e9da67de044ea5ce677"
      }
     },
     "metadata": {},
     "output_type": "display_data"
    },
    {
     "data": {
      "text/plain": [
       "  0%|          | 0/5 [00:00<?, ?it/s]"
      ],
      "application/vnd.jupyter.widget-view+json": {
       "version_major": 2,
       "version_minor": 0,
       "model_id": "9940bb58d4d246a4986defbdc749ce95"
      }
     },
     "metadata": {},
     "output_type": "display_data"
    },
    {
     "name": "stdout",
     "output_type": "stream",
     "text": [
      "\n",
      "\n",
      "Final Outer RMSLE: 0.3958843039528561\n"
     ]
    },
    {
     "data": {
      "text/plain": [
       "  0%|          | 0/5 [00:00<?, ?it/s]"
      ],
      "application/vnd.jupyter.widget-view+json": {
       "version_major": 2,
       "version_minor": 0,
       "model_id": "4738018f58b54528a0c8b88568116d67"
      }
     },
     "metadata": {},
     "output_type": "display_data"
    },
    {
     "data": {
      "text/plain": [
       "  0%|          | 0/5 [00:00<?, ?it/s]"
      ],
      "application/vnd.jupyter.widget-view+json": {
       "version_major": 2,
       "version_minor": 0,
       "model_id": "3cf9fc8d94a4492989bb379c01fa5e24"
      }
     },
     "metadata": {},
     "output_type": "display_data"
    },
    {
     "data": {
      "text/plain": [
       "  0%|          | 0/5 [00:00<?, ?it/s]"
      ],
      "application/vnd.jupyter.widget-view+json": {
       "version_major": 2,
       "version_minor": 0,
       "model_id": "19ff06769a9d45548acbe7de6208d0be"
      }
     },
     "metadata": {},
     "output_type": "display_data"
    },
    {
     "data": {
      "text/plain": [
       "  0%|          | 0/5 [00:00<?, ?it/s]"
      ],
      "application/vnd.jupyter.widget-view+json": {
       "version_major": 2,
       "version_minor": 0,
       "model_id": "c7d3c19e3a0c4f18b73c101bfcce92c9"
      }
     },
     "metadata": {},
     "output_type": "display_data"
    },
    {
     "name": "stdout",
     "output_type": "stream",
     "text": [
      "\n",
      "\n",
      "Final Outer RMSLE: 0.7067283201369704\n"
     ]
    },
    {
     "data": {
      "text/plain": [
       "  0%|          | 0/5 [00:00<?, ?it/s]"
      ],
      "application/vnd.jupyter.widget-view+json": {
       "version_major": 2,
       "version_minor": 0,
       "model_id": "ebfcbd5f4d9247319093c77065cc476b"
      }
     },
     "metadata": {},
     "output_type": "display_data"
    },
    {
     "data": {
      "text/plain": [
       "  0%|          | 0/5 [00:00<?, ?it/s]"
      ],
      "application/vnd.jupyter.widget-view+json": {
       "version_major": 2,
       "version_minor": 0,
       "model_id": "d1ffa122dd17449a9112e811a6ffb863"
      }
     },
     "metadata": {},
     "output_type": "display_data"
    },
    {
     "data": {
      "text/plain": [
       "  0%|          | 0/5 [00:00<?, ?it/s]"
      ],
      "application/vnd.jupyter.widget-view+json": {
       "version_major": 2,
       "version_minor": 0,
       "model_id": "5fba50404f6247ab94c58ba1b75eea01"
      }
     },
     "metadata": {},
     "output_type": "display_data"
    },
    {
     "data": {
      "text/plain": [
       "  0%|          | 0/5 [00:00<?, ?it/s]"
      ],
      "application/vnd.jupyter.widget-view+json": {
       "version_major": 2,
       "version_minor": 0,
       "model_id": "87ed92b3ba1f4265b5658c24c280d416"
      }
     },
     "metadata": {},
     "output_type": "display_data"
    },
    {
     "name": "stderr",
     "output_type": "stream",
     "text": [
      " 33%|███▎      | 1/3 [02:08<04:16, 128.41s/it]"
     ]
    },
    {
     "name": "stdout",
     "output_type": "stream",
     "text": [
      "\n",
      "\n",
      "Final Outer RMSLE: 0.4884996430822131\n"
     ]
    },
    {
     "data": {
      "text/plain": [
       "  0%|          | 0/5 [00:00<?, ?it/s]"
      ],
      "application/vnd.jupyter.widget-view+json": {
       "version_major": 2,
       "version_minor": 0,
       "model_id": "c79eff7e40544e0f849f78e62bc51c57"
      }
     },
     "metadata": {},
     "output_type": "display_data"
    },
    {
     "data": {
      "text/plain": [
       "  0%|          | 0/5 [00:00<?, ?it/s]"
      ],
      "application/vnd.jupyter.widget-view+json": {
       "version_major": 2,
       "version_minor": 0,
       "model_id": "0f285448dc9d435c97f16c98dacb889b"
      }
     },
     "metadata": {},
     "output_type": "display_data"
    },
    {
     "data": {
      "text/plain": [
       "  0%|          | 0/5 [00:00<?, ?it/s]"
      ],
      "application/vnd.jupyter.widget-view+json": {
       "version_major": 2,
       "version_minor": 0,
       "model_id": "64adb91d76164385ab4a7cc73907504f"
      }
     },
     "metadata": {},
     "output_type": "display_data"
    },
    {
     "data": {
      "text/plain": [
       "  0%|          | 0/5 [00:00<?, ?it/s]"
      ],
      "application/vnd.jupyter.widget-view+json": {
       "version_major": 2,
       "version_minor": 0,
       "model_id": "884a26dcfa504a1fa8f383ef754074d1"
      }
     },
     "metadata": {},
     "output_type": "display_data"
    },
    {
     "name": "stdout",
     "output_type": "stream",
     "text": [
      "\n",
      "\n",
      "Final Outer RMSLE: 0.1388815592329072\n"
     ]
    },
    {
     "data": {
      "text/plain": [
       "  0%|          | 0/5 [00:00<?, ?it/s]"
      ],
      "application/vnd.jupyter.widget-view+json": {
       "version_major": 2,
       "version_minor": 0,
       "model_id": "31c76f3a01614e498433c189642c84b2"
      }
     },
     "metadata": {},
     "output_type": "display_data"
    },
    {
     "data": {
      "text/plain": [
       "  0%|          | 0/5 [00:00<?, ?it/s]"
      ],
      "application/vnd.jupyter.widget-view+json": {
       "version_major": 2,
       "version_minor": 0,
       "model_id": "7ef97781b8214a2cbb9157616a471b2e"
      }
     },
     "metadata": {},
     "output_type": "display_data"
    },
    {
     "data": {
      "text/plain": [
       "  0%|          | 0/5 [00:00<?, ?it/s]"
      ],
      "application/vnd.jupyter.widget-view+json": {
       "version_major": 2,
       "version_minor": 0,
       "model_id": "b8578718e37c49eb950b39f528d518c9"
      }
     },
     "metadata": {},
     "output_type": "display_data"
    },
    {
     "data": {
      "text/plain": [
       "  0%|          | 0/5 [00:00<?, ?it/s]"
      ],
      "application/vnd.jupyter.widget-view+json": {
       "version_major": 2,
       "version_minor": 0,
       "model_id": "0e02752ebd7d4d74b4a52dcf778b3144"
      }
     },
     "metadata": {},
     "output_type": "display_data"
    },
    {
     "name": "stdout",
     "output_type": "stream",
     "text": [
      "\n",
      "\n",
      "Final Outer RMSLE: 0.0\n"
     ]
    },
    {
     "data": {
      "text/plain": [
       "  0%|          | 0/5 [00:00<?, ?it/s]"
      ],
      "application/vnd.jupyter.widget-view+json": {
       "version_major": 2,
       "version_minor": 0,
       "model_id": "5bb7f3094e5347b7a7dd763cb992d78c"
      }
     },
     "metadata": {},
     "output_type": "display_data"
    },
    {
     "data": {
      "text/plain": [
       "  0%|          | 0/5 [00:00<?, ?it/s]"
      ],
      "application/vnd.jupyter.widget-view+json": {
       "version_major": 2,
       "version_minor": 0,
       "model_id": "4f839493c25f411fa7a948356661c561"
      }
     },
     "metadata": {},
     "output_type": "display_data"
    },
    {
     "data": {
      "text/plain": [
       "  0%|          | 0/5 [00:00<?, ?it/s]"
      ],
      "application/vnd.jupyter.widget-view+json": {
       "version_major": 2,
       "version_minor": 0,
       "model_id": "2535a499fbe74722a65b09b53b9c949b"
      }
     },
     "metadata": {},
     "output_type": "display_data"
    },
    {
     "name": "stderr",
     "output_type": "stream",
     "text": [
      "/home/tikhon/PycharmProjects/StoreSales/.venv/lib/python3.10/site-packages/pandas/core/arraylike.py:399: RuntimeWarning: invalid value encountered in log1p\n",
      "  result = getattr(ufunc, method)(*inputs, **kwargs)\n"
     ]
    },
    {
     "data": {
      "text/plain": [
       "  0%|          | 0/5 [00:00<?, ?it/s]"
      ],
      "application/vnd.jupyter.widget-view+json": {
       "version_major": 2,
       "version_minor": 0,
       "model_id": "61a5e5ec2731451d8696491217061eb5"
      }
     },
     "metadata": {},
     "output_type": "display_data"
    },
    {
     "name": "stderr",
     "output_type": "stream",
     "text": [
      " 67%|██████▋   | 2/3 [04:21<02:11, 131.27s/it]"
     ]
    },
    {
     "name": "stdout",
     "output_type": "stream",
     "text": [
      "\n",
      "\n",
      "Final Outer RMSLE: 0.3066911379623604\n"
     ]
    },
    {
     "data": {
      "text/plain": [
       "  0%|          | 0/5 [00:00<?, ?it/s]"
      ],
      "application/vnd.jupyter.widget-view+json": {
       "version_major": 2,
       "version_minor": 0,
       "model_id": "efb58901459544d6a185bced0946edf8"
      }
     },
     "metadata": {},
     "output_type": "display_data"
    },
    {
     "data": {
      "text/plain": [
       "  0%|          | 0/5 [00:00<?, ?it/s]"
      ],
      "application/vnd.jupyter.widget-view+json": {
       "version_major": 2,
       "version_minor": 0,
       "model_id": "18d84286b0044d42a6c8c764648f6607"
      }
     },
     "metadata": {},
     "output_type": "display_data"
    },
    {
     "data": {
      "text/plain": [
       "  0%|          | 0/5 [00:00<?, ?it/s]"
      ],
      "application/vnd.jupyter.widget-view+json": {
       "version_major": 2,
       "version_minor": 0,
       "model_id": "bab3003d31274ed9be994e35bc5c3bb6"
      }
     },
     "metadata": {},
     "output_type": "display_data"
    },
    {
     "data": {
      "text/plain": [
       "  0%|          | 0/5 [00:00<?, ?it/s]"
      ],
      "application/vnd.jupyter.widget-view+json": {
       "version_major": 2,
       "version_minor": 0,
       "model_id": "5124c1a56041424a977488386c595fdb"
      }
     },
     "metadata": {},
     "output_type": "display_data"
    },
    {
     "name": "stdout",
     "output_type": "stream",
     "text": [
      "\n",
      "\n",
      "Final Outer RMSLE: 0.6281739059302187\n"
     ]
    },
    {
     "data": {
      "text/plain": [
       "  0%|          | 0/5 [00:00<?, ?it/s]"
      ],
      "application/vnd.jupyter.widget-view+json": {
       "version_major": 2,
       "version_minor": 0,
       "model_id": "01662442d33940859e17fae770456e62"
      }
     },
     "metadata": {},
     "output_type": "display_data"
    },
    {
     "data": {
      "text/plain": [
       "  0%|          | 0/5 [00:00<?, ?it/s]"
      ],
      "application/vnd.jupyter.widget-view+json": {
       "version_major": 2,
       "version_minor": 0,
       "model_id": "9977ebd0d9bc48dfb3c3109a7a2b5b0b"
      }
     },
     "metadata": {},
     "output_type": "display_data"
    },
    {
     "data": {
      "text/plain": [
       "  0%|          | 0/5 [00:00<?, ?it/s]"
      ],
      "application/vnd.jupyter.widget-view+json": {
       "version_major": 2,
       "version_minor": 0,
       "model_id": "32db41fc7d2740fbb03d2652bc062f8c"
      }
     },
     "metadata": {},
     "output_type": "display_data"
    },
    {
     "data": {
      "text/plain": [
       "  0%|          | 0/5 [00:00<?, ?it/s]"
      ],
      "application/vnd.jupyter.widget-view+json": {
       "version_major": 2,
       "version_minor": 0,
       "model_id": "0c4f89437e3541778af17a8122e637ee"
      }
     },
     "metadata": {},
     "output_type": "display_data"
    },
    {
     "name": "stdout",
     "output_type": "stream",
     "text": [
      "\n",
      "\n",
      "Final Outer RMSLE: 0.6098554780144645\n"
     ]
    },
    {
     "data": {
      "text/plain": [
       "  0%|          | 0/5 [00:00<?, ?it/s]"
      ],
      "application/vnd.jupyter.widget-view+json": {
       "version_major": 2,
       "version_minor": 0,
       "model_id": "595c44335a73413995191de14a7c3a40"
      }
     },
     "metadata": {},
     "output_type": "display_data"
    },
    {
     "data": {
      "text/plain": [
       "  0%|          | 0/5 [00:00<?, ?it/s]"
      ],
      "application/vnd.jupyter.widget-view+json": {
       "version_major": 2,
       "version_minor": 0,
       "model_id": "6468de0b1deb4f6883b0828099f94df9"
      }
     },
     "metadata": {},
     "output_type": "display_data"
    },
    {
     "data": {
      "text/plain": [
       "  0%|          | 0/5 [00:00<?, ?it/s]"
      ],
      "application/vnd.jupyter.widget-view+json": {
       "version_major": 2,
       "version_minor": 0,
       "model_id": "7228738396f741999ef27fe60c028b28"
      }
     },
     "metadata": {},
     "output_type": "display_data"
    },
    {
     "data": {
      "text/plain": [
       "  0%|          | 0/5 [00:00<?, ?it/s]"
      ],
      "application/vnd.jupyter.widget-view+json": {
       "version_major": 2,
       "version_minor": 0,
       "model_id": "48780f7a1d2b4c43b1ea98a611150cc2"
      }
     },
     "metadata": {},
     "output_type": "display_data"
    },
    {
     "name": "stderr",
     "output_type": "stream",
     "text": [
      "100%|██████████| 3/3 [05:37<00:00, 112.50s/it]"
     ]
    },
    {
     "name": "stdout",
     "output_type": "stream",
     "text": [
      "\n",
      "\n",
      "Final Outer RMSLE: 0.43098465511806316\n"
     ]
    },
    {
     "name": "stderr",
     "output_type": "stream",
     "text": [
      "\n"
     ]
    }
   ],
   "execution_count": 152
  },
  {
   "metadata": {},
   "cell_type": "code",
   "outputs": [],
   "execution_count": null,
   "source": "0.126081053304793",
   "id": "e2eb3901c6f96857"
  }
 ],
 "metadata": {
  "kernelspec": {
   "display_name": "Python 3",
   "language": "python",
   "name": "python3"
  },
  "language_info": {
   "codemirror_mode": {
    "name": "ipython",
    "version": 2
   },
   "file_extension": ".py",
   "mimetype": "text/x-python",
   "name": "python",
   "nbconvert_exporter": "python",
   "pygments_lexer": "ipython2",
   "version": "2.7.6"
  }
 },
 "nbformat": 4,
 "nbformat_minor": 5
}
