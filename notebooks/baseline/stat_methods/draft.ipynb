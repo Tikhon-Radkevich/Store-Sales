{
 "cells": [
  {
   "cell_type": "markdown",
   "id": "68c0db34306f3831",
   "metadata": {},
   "source": "# Statistical Baseline Prediction"
  },
  {
   "cell_type": "markdown",
   "id": "30150abccfcb5f9d",
   "metadata": {},
   "source": "## Notebook Configuration && Imports"
  },
  {
   "cell_type": "code",
   "id": "d98b7ca9e116ddf3",
   "metadata": {
    "ExecuteTime": {
     "end_time": "2024-09-26T11:18:14.833093Z",
     "start_time": "2024-09-26T11:18:14.815315Z"
    }
   },
   "source": [
    "%load_ext autoreload\n",
    "%autoreload 2"
   ],
   "outputs": [],
   "execution_count": 1
  },
  {
   "cell_type": "code",
   "id": "fae647b019231c15",
   "metadata": {
    "ExecuteTime": {
     "end_time": "2024-09-26T11:18:14.849595Z",
     "start_time": "2024-09-26T11:18:14.834713Z"
    }
   },
   "source": [
    "import os\n",
    "import pandas as pd\n",
    "import numpy as np\n",
    "\n",
    "from storesales.constants import (\n",
    "    SUBMISSIONS_PATH,\n",
    "    EXTERNAL_TRAIN_PATH,\n",
    "    EXTERNAL_SAMPLE_SUBMISSION_PATH,\n",
    "    EXTERNAL_TEST_PATH,\n",
    ")"
   ],
   "outputs": [],
   "execution_count": 2
  },
  {
   "cell_type": "markdown",
   "id": "d6ae26edd7078e0f",
   "metadata": {},
   "source": "## Load && Prepare Data"
  },
  {
   "cell_type": "code",
   "id": "1553ab494c7c0c28",
   "metadata": {
    "ExecuteTime": {
     "end_time": "2024-09-26T13:00:13.598137Z",
     "start_time": "2024-09-26T13:00:13.582013Z"
    }
   },
   "source": [
    "def rmsle(y_true, y_pred):\n",
    "    print(y_true)\n",
    "    return np.sqrt(np.mean(np.square(np.log1p(y_true) - np.log1p(y_pred))))"
   ],
   "outputs": [],
   "execution_count": 113
  },
  {
   "cell_type": "code",
   "id": "a282b3fc0a71b13b",
   "metadata": {
    "ExecuteTime": {
     "end_time": "2024-09-26T11:18:16.843442Z",
     "start_time": "2024-09-26T11:18:14.865236Z"
    }
   },
   "source": [
    "train_df = pd.read_csv(EXTERNAL_TRAIN_PATH, parse_dates=[\"date\"], index_col=\"id\")\n",
    "train_df.sort_values(by=[\"date\", \"store_nbr\", \"family\"], inplace=True)\n",
    "train_df[\"day_of_week\"] = train_df[\"date\"].dt.dayofweek\n",
    "train_df[\"is_weekend\"] = train_df[\"day_of_week\"] >= 5\n",
    "\n",
    "test_df = pd.read_csv(EXTERNAL_TEST_PATH, parse_dates=[\"date\"])\n",
    "\n",
    "sample_submission_df = pd.read_csv(EXTERNAL_SAMPLE_SUBMISSION_PATH, index_col=\"id\")"
   ],
   "outputs": [],
   "execution_count": 4
  },
  {
   "cell_type": "markdown",
   "id": "46aad73a9e278856",
   "metadata": {},
   "source": "# Mean Prediction"
  },
  {
   "cell_type": "code",
   "id": "5801218c11e2fa2e",
   "metadata": {
    "ExecuteTime": {
     "end_time": "2024-09-26T11:18:16.858045Z",
     "start_time": "2024-09-26T11:18:16.844608Z"
    }
   },
   "source": [
    "prediction_col_name = \"window_sales_shift\""
   ],
   "outputs": [],
   "execution_count": 5
  },
  {
   "cell_type": "code",
   "id": "ac86e79d4e306da2",
   "metadata": {
    "ExecuteTime": {
     "end_time": "2024-09-26T11:21:54.322405Z",
     "start_time": "2024-09-26T11:21:54.304199Z"
    }
   },
   "source": [
    "def predict(df: pd.DataFrame, cols: list, window: int) -> pd.DataFrame:\n",
    "    df[\"mean_sales\"] = df.groupby(cols)[\"sales\"].rolling(window=window).mean().reset_index(level=cols, drop=True)\n",
    "    # shifted_mean_sales = df.groupby(cols)[\"mean_sales\"].shift(1)\n",
    "    df[prediction_col_name] = df.groupby(cols)[\"mean_sales\"].shift(1)\n",
    "    # df.dropna(inplace=True)\n",
    "    return df\n",
    "\n",
    "\n",
    "def weekend_group_predict(\n",
    "    df: pd.DataFrame, cols: list, window_weekday: int, window_weekend: int\n",
    ") -> pd.DataFrame:\n",
    "    def get_rolling_mean(group, is_weekend):\n",
    "        if is_weekend:\n",
    "            return group.rolling(window=window_weekend).mean()\n",
    "        return group.rolling(window=window_weekday).mean()\n",
    "\n",
    "    df[\"mean_sales\"] = (\n",
    "        df.groupby(cols)[[\"sales\", \"is_weekend\"]]\n",
    "        .apply(\n",
    "            lambda group: get_rolling_mean(group[\"sales\"], group[\"is_weekend\"].iloc[0])\n",
    "        )\n",
    "        .reset_index(level=cols, drop=True)\n",
    "    )\n",
    "    df[prediction_col_name] = df.groupby(cols)[\"mean_sales\"].shift(1)\n",
    "\n",
    "    df.dropna(inplace=True)\n",
    "    return df\n",
    "\n",
    "\n",
    "def eval_prediction(df: pd.DataFrame) -> float:\n",
    "    test_date_start = test_df[\"date\"].min() - pd.Timedelta(days=17)\n",
    "    test = df[df[\"date\"] >= test_date_start]\n",
    "    y_true, y_pred = test[\"sales\"], test[prediction_col_name]\n",
    "    return rmsle(y_true, y_pred)"
   ],
   "outputs": [],
   "execution_count": 16
  },
  {
   "metadata": {},
   "cell_type": "code",
   "outputs": [],
   "execution_count": null,
   "source": "",
   "id": "5123af037e7341ed"
  },
  {
   "metadata": {
    "ExecuteTime": {
     "end_time": "2024-09-26T13:03:33.741682Z",
     "start_time": "2024-09-26T13:01:47.704757Z"
    }
   },
   "cell_type": "code",
   "source": [
    "df = train_df.copy()\n",
    "cols = [\"store_nbr\", \"family\"]\n",
    "window = 14\n",
    "\n",
    "df[\"mean_sales\"] = df.groupby(cols)[\"sales\"].rolling(window=window).mean().reset_index(level=cols, drop=True)\n",
    "df[prediction_col_name] = df.groupby(cols)[\"mean_sales\"].shift(1)\n",
    "df.dropna(inplace=True)\n",
    "\n",
    "prediction_iter = iter(df[prediction_col_name])\n",
    "\n",
    "error = df.groupby(cols)[\"sales\"].rolling(window=window).apply(lambda x: sum(x - next(prediction_iter)))"
   ],
   "id": "891d48c8426c245d",
   "outputs": [
    {
     "ename": "KeyboardInterrupt",
     "evalue": "",
     "output_type": "error",
     "traceback": [
      "\u001B[0;31m---------------------------------------------------------------------------\u001B[0m",
      "\u001B[0;31mKeyboardInterrupt\u001B[0m                         Traceback (most recent call last)",
      "Cell \u001B[0;32mIn[116], line 11\u001B[0m\n\u001B[1;32m      7\u001B[0m df\u001B[38;5;241m.\u001B[39mdropna(inplace\u001B[38;5;241m=\u001B[39m\u001B[38;5;28;01mTrue\u001B[39;00m)\n\u001B[1;32m      9\u001B[0m prediction_iter \u001B[38;5;241m=\u001B[39m \u001B[38;5;28miter\u001B[39m(df[prediction_col_name])\n\u001B[0;32m---> 11\u001B[0m error \u001B[38;5;241m=\u001B[39m \u001B[43mdf\u001B[49m\u001B[38;5;241;43m.\u001B[39;49m\u001B[43mgroupby\u001B[49m\u001B[43m(\u001B[49m\u001B[43mcols\u001B[49m\u001B[43m)\u001B[49m\u001B[43m[\u001B[49m\u001B[38;5;124;43m\"\u001B[39;49m\u001B[38;5;124;43msales\u001B[39;49m\u001B[38;5;124;43m\"\u001B[39;49m\u001B[43m]\u001B[49m\u001B[38;5;241;43m.\u001B[39;49m\u001B[43mrolling\u001B[49m\u001B[43m(\u001B[49m\u001B[43mwindow\u001B[49m\u001B[38;5;241;43m=\u001B[39;49m\u001B[43mwindow\u001B[49m\u001B[43m)\u001B[49m\u001B[38;5;241;43m.\u001B[39;49m\u001B[43mapply\u001B[49m\u001B[43m(\u001B[49m\u001B[38;5;28;43;01mlambda\u001B[39;49;00m\u001B[43m \u001B[49m\u001B[43mx\u001B[49m\u001B[43m:\u001B[49m\u001B[43m \u001B[49m\u001B[38;5;28;43msum\u001B[39;49m\u001B[43m(\u001B[49m\u001B[43mx\u001B[49m\u001B[43m \u001B[49m\u001B[38;5;241;43m-\u001B[39;49m\u001B[43m \u001B[49m\u001B[38;5;28;43mnext\u001B[39;49m\u001B[43m(\u001B[49m\u001B[43mprediction_iter\u001B[49m\u001B[43m)\u001B[49m\u001B[43m)\u001B[49m\u001B[43m)\u001B[49m\n",
      "File \u001B[0;32m~/PycharmProjects/StoreSales/.venv/lib/python3.10/site-packages/pandas/core/window/rolling.py:2049\u001B[0m, in \u001B[0;36mRolling.apply\u001B[0;34m(self, func, raw, engine, engine_kwargs, args, kwargs)\u001B[0m\n\u001B[1;32m   2016\u001B[0m \u001B[38;5;129m@doc\u001B[39m(\n\u001B[1;32m   2017\u001B[0m     template_header,\n\u001B[1;32m   2018\u001B[0m     create_section_header(\u001B[38;5;124m\"\u001B[39m\u001B[38;5;124mParameters\u001B[39m\u001B[38;5;124m\"\u001B[39m),\n\u001B[0;32m   (...)\u001B[0m\n\u001B[1;32m   2047\u001B[0m     kwargs: \u001B[38;5;28mdict\u001B[39m[\u001B[38;5;28mstr\u001B[39m, Any] \u001B[38;5;241m|\u001B[39m \u001B[38;5;28;01mNone\u001B[39;00m \u001B[38;5;241m=\u001B[39m \u001B[38;5;28;01mNone\u001B[39;00m,\n\u001B[1;32m   2048\u001B[0m ):\n\u001B[0;32m-> 2049\u001B[0m     \u001B[38;5;28;01mreturn\u001B[39;00m \u001B[38;5;28;43msuper\u001B[39;49m\u001B[43m(\u001B[49m\u001B[43m)\u001B[49m\u001B[38;5;241;43m.\u001B[39;49m\u001B[43mapply\u001B[49m\u001B[43m(\u001B[49m\n\u001B[1;32m   2050\u001B[0m \u001B[43m        \u001B[49m\u001B[43mfunc\u001B[49m\u001B[43m,\u001B[49m\n\u001B[1;32m   2051\u001B[0m \u001B[43m        \u001B[49m\u001B[43mraw\u001B[49m\u001B[38;5;241;43m=\u001B[39;49m\u001B[43mraw\u001B[49m\u001B[43m,\u001B[49m\n\u001B[1;32m   2052\u001B[0m \u001B[43m        \u001B[49m\u001B[43mengine\u001B[49m\u001B[38;5;241;43m=\u001B[39;49m\u001B[43mengine\u001B[49m\u001B[43m,\u001B[49m\n\u001B[1;32m   2053\u001B[0m \u001B[43m        \u001B[49m\u001B[43mengine_kwargs\u001B[49m\u001B[38;5;241;43m=\u001B[39;49m\u001B[43mengine_kwargs\u001B[49m\u001B[43m,\u001B[49m\n\u001B[1;32m   2054\u001B[0m \u001B[43m        \u001B[49m\u001B[43margs\u001B[49m\u001B[38;5;241;43m=\u001B[39;49m\u001B[43margs\u001B[49m\u001B[43m,\u001B[49m\n\u001B[1;32m   2055\u001B[0m \u001B[43m        \u001B[49m\u001B[43mkwargs\u001B[49m\u001B[38;5;241;43m=\u001B[39;49m\u001B[43mkwargs\u001B[49m\u001B[43m,\u001B[49m\n\u001B[1;32m   2056\u001B[0m \u001B[43m    \u001B[49m\u001B[43m)\u001B[49m\n",
      "File \u001B[0;32m~/PycharmProjects/StoreSales/.venv/lib/python3.10/site-packages/pandas/core/window/rolling.py:1508\u001B[0m, in \u001B[0;36mRollingAndExpandingMixin.apply\u001B[0;34m(self, func, raw, engine, engine_kwargs, args, kwargs)\u001B[0m\n\u001B[1;32m   1505\u001B[0m \u001B[38;5;28;01melse\u001B[39;00m:\n\u001B[1;32m   1506\u001B[0m     \u001B[38;5;28;01mraise\u001B[39;00m \u001B[38;5;167;01mValueError\u001B[39;00m(\u001B[38;5;124m\"\u001B[39m\u001B[38;5;124mengine must be either \u001B[39m\u001B[38;5;124m'\u001B[39m\u001B[38;5;124mnumba\u001B[39m\u001B[38;5;124m'\u001B[39m\u001B[38;5;124m or \u001B[39m\u001B[38;5;124m'\u001B[39m\u001B[38;5;124mcython\u001B[39m\u001B[38;5;124m'\u001B[39m\u001B[38;5;124m\"\u001B[39m)\n\u001B[0;32m-> 1508\u001B[0m \u001B[38;5;28;01mreturn\u001B[39;00m \u001B[38;5;28;43mself\u001B[39;49m\u001B[38;5;241;43m.\u001B[39;49m\u001B[43m_apply\u001B[49m\u001B[43m(\u001B[49m\n\u001B[1;32m   1509\u001B[0m \u001B[43m    \u001B[49m\u001B[43mapply_func\u001B[49m\u001B[43m,\u001B[49m\n\u001B[1;32m   1510\u001B[0m \u001B[43m    \u001B[49m\u001B[43mname\u001B[49m\u001B[38;5;241;43m=\u001B[39;49m\u001B[38;5;124;43m\"\u001B[39;49m\u001B[38;5;124;43mapply\u001B[39;49m\u001B[38;5;124;43m\"\u001B[39;49m\u001B[43m,\u001B[49m\n\u001B[1;32m   1511\u001B[0m \u001B[43m    \u001B[49m\u001B[43mnumba_args\u001B[49m\u001B[38;5;241;43m=\u001B[39;49m\u001B[43mnumba_args\u001B[49m\u001B[43m,\u001B[49m\n\u001B[1;32m   1512\u001B[0m \u001B[43m\u001B[49m\u001B[43m)\u001B[49m\n",
      "File \u001B[0;32m~/PycharmProjects/StoreSales/.venv/lib/python3.10/site-packages/pandas/core/window/rolling.py:723\u001B[0m, in \u001B[0;36mBaseWindowGroupby._apply\u001B[0;34m(self, func, name, numeric_only, numba_args, **kwargs)\u001B[0m\n\u001B[1;32m    715\u001B[0m \u001B[38;5;28;01mdef\u001B[39;00m \u001B[38;5;21m_apply\u001B[39m(\n\u001B[1;32m    716\u001B[0m     \u001B[38;5;28mself\u001B[39m,\n\u001B[1;32m    717\u001B[0m     func: Callable[\u001B[38;5;241m.\u001B[39m\u001B[38;5;241m.\u001B[39m\u001B[38;5;241m.\u001B[39m, Any],\n\u001B[0;32m   (...)\u001B[0m\n\u001B[1;32m    721\u001B[0m     \u001B[38;5;241m*\u001B[39m\u001B[38;5;241m*\u001B[39mkwargs,\n\u001B[1;32m    722\u001B[0m ) \u001B[38;5;241m-\u001B[39m\u001B[38;5;241m>\u001B[39m DataFrame \u001B[38;5;241m|\u001B[39m Series:\n\u001B[0;32m--> 723\u001B[0m     result \u001B[38;5;241m=\u001B[39m \u001B[38;5;28;43msuper\u001B[39;49m\u001B[43m(\u001B[49m\u001B[43m)\u001B[49m\u001B[38;5;241;43m.\u001B[39;49m\u001B[43m_apply\u001B[49m\u001B[43m(\u001B[49m\n\u001B[1;32m    724\u001B[0m \u001B[43m        \u001B[49m\u001B[43mfunc\u001B[49m\u001B[43m,\u001B[49m\n\u001B[1;32m    725\u001B[0m \u001B[43m        \u001B[49m\u001B[43mname\u001B[49m\u001B[43m,\u001B[49m\n\u001B[1;32m    726\u001B[0m \u001B[43m        \u001B[49m\u001B[43mnumeric_only\u001B[49m\u001B[43m,\u001B[49m\n\u001B[1;32m    727\u001B[0m \u001B[43m        \u001B[49m\u001B[43mnumba_args\u001B[49m\u001B[43m,\u001B[49m\n\u001B[1;32m    728\u001B[0m \u001B[43m        \u001B[49m\u001B[38;5;241;43m*\u001B[39;49m\u001B[38;5;241;43m*\u001B[39;49m\u001B[43mkwargs\u001B[49m\u001B[43m,\u001B[49m\n\u001B[1;32m    729\u001B[0m \u001B[43m    \u001B[49m\u001B[43m)\u001B[49m\n\u001B[1;32m    730\u001B[0m     \u001B[38;5;66;03m# Reconstruct the resulting MultiIndex\u001B[39;00m\n\u001B[1;32m    731\u001B[0m     \u001B[38;5;66;03m# 1st set of levels = group by labels\u001B[39;00m\n\u001B[1;32m    732\u001B[0m     \u001B[38;5;66;03m# 2nd set of levels = original DataFrame/Series index\u001B[39;00m\n\u001B[1;32m    733\u001B[0m     grouped_object_index \u001B[38;5;241m=\u001B[39m \u001B[38;5;28mself\u001B[39m\u001B[38;5;241m.\u001B[39mobj\u001B[38;5;241m.\u001B[39mindex\n",
      "File \u001B[0;32m~/PycharmProjects/StoreSales/.venv/lib/python3.10/site-packages/pandas/core/window/rolling.py:619\u001B[0m, in \u001B[0;36mBaseWindow._apply\u001B[0;34m(self, func, name, numeric_only, numba_args, **kwargs)\u001B[0m\n\u001B[1;32m    616\u001B[0m     \u001B[38;5;28;01mreturn\u001B[39;00m result\n\u001B[1;32m    618\u001B[0m \u001B[38;5;28;01mif\u001B[39;00m \u001B[38;5;28mself\u001B[39m\u001B[38;5;241m.\u001B[39mmethod \u001B[38;5;241m==\u001B[39m \u001B[38;5;124m\"\u001B[39m\u001B[38;5;124msingle\u001B[39m\u001B[38;5;124m\"\u001B[39m:\n\u001B[0;32m--> 619\u001B[0m     \u001B[38;5;28;01mreturn\u001B[39;00m \u001B[38;5;28;43mself\u001B[39;49m\u001B[38;5;241;43m.\u001B[39;49m\u001B[43m_apply_columnwise\u001B[49m\u001B[43m(\u001B[49m\u001B[43mhomogeneous_func\u001B[49m\u001B[43m,\u001B[49m\u001B[43m \u001B[49m\u001B[43mname\u001B[49m\u001B[43m,\u001B[49m\u001B[43m \u001B[49m\u001B[43mnumeric_only\u001B[49m\u001B[43m)\u001B[49m\n\u001B[1;32m    620\u001B[0m \u001B[38;5;28;01melse\u001B[39;00m:\n\u001B[1;32m    621\u001B[0m     \u001B[38;5;28;01mreturn\u001B[39;00m \u001B[38;5;28mself\u001B[39m\u001B[38;5;241m.\u001B[39m_apply_tablewise(homogeneous_func, name, numeric_only)\n",
      "File \u001B[0;32m~/PycharmProjects/StoreSales/.venv/lib/python3.10/site-packages/pandas/core/window/rolling.py:472\u001B[0m, in \u001B[0;36mBaseWindow._apply_columnwise\u001B[0;34m(self, homogeneous_func, name, numeric_only)\u001B[0m\n\u001B[1;32m    470\u001B[0m \u001B[38;5;28mself\u001B[39m\u001B[38;5;241m.\u001B[39m_validate_numeric_only(name, numeric_only)\n\u001B[1;32m    471\u001B[0m \u001B[38;5;28;01mif\u001B[39;00m \u001B[38;5;28mself\u001B[39m\u001B[38;5;241m.\u001B[39m_selected_obj\u001B[38;5;241m.\u001B[39mndim \u001B[38;5;241m==\u001B[39m \u001B[38;5;241m1\u001B[39m:\n\u001B[0;32m--> 472\u001B[0m     \u001B[38;5;28;01mreturn\u001B[39;00m \u001B[38;5;28;43mself\u001B[39;49m\u001B[38;5;241;43m.\u001B[39;49m\u001B[43m_apply_series\u001B[49m\u001B[43m(\u001B[49m\u001B[43mhomogeneous_func\u001B[49m\u001B[43m,\u001B[49m\u001B[43m \u001B[49m\u001B[43mname\u001B[49m\u001B[43m)\u001B[49m\n\u001B[1;32m    474\u001B[0m obj \u001B[38;5;241m=\u001B[39m \u001B[38;5;28mself\u001B[39m\u001B[38;5;241m.\u001B[39m_create_data(\u001B[38;5;28mself\u001B[39m\u001B[38;5;241m.\u001B[39m_selected_obj, numeric_only)\n\u001B[1;32m    475\u001B[0m \u001B[38;5;28;01mif\u001B[39;00m name \u001B[38;5;241m==\u001B[39m \u001B[38;5;124m\"\u001B[39m\u001B[38;5;124mcount\u001B[39m\u001B[38;5;124m\"\u001B[39m:\n\u001B[1;32m    476\u001B[0m     \u001B[38;5;66;03m# GH 12541: Special case for count where we support date-like types\u001B[39;00m\n",
      "File \u001B[0;32m~/PycharmProjects/StoreSales/.venv/lib/python3.10/site-packages/pandas/core/window/rolling.py:456\u001B[0m, in \u001B[0;36mBaseWindow._apply_series\u001B[0;34m(self, homogeneous_func, name)\u001B[0m\n\u001B[1;32m    453\u001B[0m \u001B[38;5;28;01mexcept\u001B[39;00m (\u001B[38;5;167;01mTypeError\u001B[39;00m, \u001B[38;5;167;01mNotImplementedError\u001B[39;00m) \u001B[38;5;28;01mas\u001B[39;00m err:\n\u001B[1;32m    454\u001B[0m     \u001B[38;5;28;01mraise\u001B[39;00m DataError(\u001B[38;5;124m\"\u001B[39m\u001B[38;5;124mNo numeric types to aggregate\u001B[39m\u001B[38;5;124m\"\u001B[39m) \u001B[38;5;28;01mfrom\u001B[39;00m \u001B[38;5;21;01merr\u001B[39;00m\n\u001B[0;32m--> 456\u001B[0m result \u001B[38;5;241m=\u001B[39m \u001B[43mhomogeneous_func\u001B[49m\u001B[43m(\u001B[49m\u001B[43mvalues\u001B[49m\u001B[43m)\u001B[49m\n\u001B[1;32m    457\u001B[0m index \u001B[38;5;241m=\u001B[39m \u001B[38;5;28mself\u001B[39m\u001B[38;5;241m.\u001B[39m_slice_axis_for_step(obj\u001B[38;5;241m.\u001B[39mindex, result)\n\u001B[1;32m    458\u001B[0m \u001B[38;5;28;01mreturn\u001B[39;00m obj\u001B[38;5;241m.\u001B[39m_constructor(result, index\u001B[38;5;241m=\u001B[39mindex, name\u001B[38;5;241m=\u001B[39mobj\u001B[38;5;241m.\u001B[39mname)\n",
      "File \u001B[0;32m~/PycharmProjects/StoreSales/.venv/lib/python3.10/site-packages/pandas/core/window/rolling.py:614\u001B[0m, in \u001B[0;36mBaseWindow._apply.<locals>.homogeneous_func\u001B[0;34m(values)\u001B[0m\n\u001B[1;32m    611\u001B[0m     \u001B[38;5;28;01mreturn\u001B[39;00m func(x, start, end, min_periods, \u001B[38;5;241m*\u001B[39mnumba_args)\n\u001B[1;32m    613\u001B[0m \u001B[38;5;28;01mwith\u001B[39;00m np\u001B[38;5;241m.\u001B[39merrstate(\u001B[38;5;28mall\u001B[39m\u001B[38;5;241m=\u001B[39m\u001B[38;5;124m\"\u001B[39m\u001B[38;5;124mignore\u001B[39m\u001B[38;5;124m\"\u001B[39m):\n\u001B[0;32m--> 614\u001B[0m     result \u001B[38;5;241m=\u001B[39m \u001B[43mcalc\u001B[49m\u001B[43m(\u001B[49m\u001B[43mvalues\u001B[49m\u001B[43m)\u001B[49m\n\u001B[1;32m    616\u001B[0m \u001B[38;5;28;01mreturn\u001B[39;00m result\n",
      "File \u001B[0;32m~/PycharmProjects/StoreSales/.venv/lib/python3.10/site-packages/pandas/core/window/rolling.py:611\u001B[0m, in \u001B[0;36mBaseWindow._apply.<locals>.homogeneous_func.<locals>.calc\u001B[0;34m(x)\u001B[0m\n\u001B[1;32m    602\u001B[0m start, end \u001B[38;5;241m=\u001B[39m window_indexer\u001B[38;5;241m.\u001B[39mget_window_bounds(\n\u001B[1;32m    603\u001B[0m     num_values\u001B[38;5;241m=\u001B[39m\u001B[38;5;28mlen\u001B[39m(x),\n\u001B[1;32m    604\u001B[0m     min_periods\u001B[38;5;241m=\u001B[39mmin_periods,\n\u001B[0;32m   (...)\u001B[0m\n\u001B[1;32m    607\u001B[0m     step\u001B[38;5;241m=\u001B[39m\u001B[38;5;28mself\u001B[39m\u001B[38;5;241m.\u001B[39mstep,\n\u001B[1;32m    608\u001B[0m )\n\u001B[1;32m    609\u001B[0m \u001B[38;5;28mself\u001B[39m\u001B[38;5;241m.\u001B[39m_check_window_bounds(start, end, \u001B[38;5;28mlen\u001B[39m(x))\n\u001B[0;32m--> 611\u001B[0m \u001B[38;5;28;01mreturn\u001B[39;00m \u001B[43mfunc\u001B[49m\u001B[43m(\u001B[49m\u001B[43mx\u001B[49m\u001B[43m,\u001B[49m\u001B[43m \u001B[49m\u001B[43mstart\u001B[49m\u001B[43m,\u001B[49m\u001B[43m \u001B[49m\u001B[43mend\u001B[49m\u001B[43m,\u001B[49m\u001B[43m \u001B[49m\u001B[43mmin_periods\u001B[49m\u001B[43m,\u001B[49m\u001B[43m \u001B[49m\u001B[38;5;241;43m*\u001B[39;49m\u001B[43mnumba_args\u001B[49m\u001B[43m)\u001B[49m\n",
      "File \u001B[0;32m~/PycharmProjects/StoreSales/.venv/lib/python3.10/site-packages/pandas/core/window/rolling.py:1535\u001B[0m, in \u001B[0;36mRollingAndExpandingMixin._generate_cython_apply_func.<locals>.apply_func\u001B[0;34m(values, begin, end, min_periods, raw)\u001B[0m\n\u001B[1;32m   1532\u001B[0m \u001B[38;5;28;01mif\u001B[39;00m \u001B[38;5;129;01mnot\u001B[39;00m raw:\n\u001B[1;32m   1533\u001B[0m     \u001B[38;5;66;03m# GH 45912\u001B[39;00m\n\u001B[1;32m   1534\u001B[0m     values \u001B[38;5;241m=\u001B[39m Series(values, index\u001B[38;5;241m=\u001B[39m\u001B[38;5;28mself\u001B[39m\u001B[38;5;241m.\u001B[39m_on, copy\u001B[38;5;241m=\u001B[39m\u001B[38;5;28;01mFalse\u001B[39;00m)\n\u001B[0;32m-> 1535\u001B[0m \u001B[38;5;28;01mreturn\u001B[39;00m \u001B[43mwindow_func\u001B[49m\u001B[43m(\u001B[49m\u001B[43mvalues\u001B[49m\u001B[43m,\u001B[49m\u001B[43m \u001B[49m\u001B[43mbegin\u001B[49m\u001B[43m,\u001B[49m\u001B[43m \u001B[49m\u001B[43mend\u001B[49m\u001B[43m,\u001B[49m\u001B[43m \u001B[49m\u001B[43mmin_periods\u001B[49m\u001B[43m)\u001B[49m\n",
      "File \u001B[0;32maggregations.pyx:1422\u001B[0m, in \u001B[0;36mpandas._libs.window.aggregations.roll_apply\u001B[0;34m()\u001B[0m\n",
      "Cell \u001B[0;32mIn[116], line 11\u001B[0m, in \u001B[0;36m<lambda>\u001B[0;34m(x)\u001B[0m\n\u001B[1;32m      7\u001B[0m df\u001B[38;5;241m.\u001B[39mdropna(inplace\u001B[38;5;241m=\u001B[39m\u001B[38;5;28;01mTrue\u001B[39;00m)\n\u001B[1;32m      9\u001B[0m prediction_iter \u001B[38;5;241m=\u001B[39m \u001B[38;5;28miter\u001B[39m(df[prediction_col_name])\n\u001B[0;32m---> 11\u001B[0m error \u001B[38;5;241m=\u001B[39m df\u001B[38;5;241m.\u001B[39mgroupby(cols)[\u001B[38;5;124m\"\u001B[39m\u001B[38;5;124msales\u001B[39m\u001B[38;5;124m\"\u001B[39m]\u001B[38;5;241m.\u001B[39mrolling(window\u001B[38;5;241m=\u001B[39mwindow)\u001B[38;5;241m.\u001B[39mapply(\u001B[38;5;28;01mlambda\u001B[39;00m x: \u001B[38;5;28msum\u001B[39m(\u001B[43mx\u001B[49m\u001B[43m \u001B[49m\u001B[38;5;241;43m-\u001B[39;49m\u001B[43m \u001B[49m\u001B[38;5;28;43mnext\u001B[39;49m\u001B[43m(\u001B[49m\u001B[43mprediction_iter\u001B[49m\u001B[43m)\u001B[49m))\n",
      "File \u001B[0;32m~/PycharmProjects/StoreSales/.venv/lib/python3.10/site-packages/pandas/core/ops/common.py:76\u001B[0m, in \u001B[0;36m_unpack_zerodim_and_defer.<locals>.new_method\u001B[0;34m(self, other)\u001B[0m\n\u001B[1;32m     72\u001B[0m             \u001B[38;5;28;01mreturn\u001B[39;00m \u001B[38;5;28mNotImplemented\u001B[39m\n\u001B[1;32m     74\u001B[0m other \u001B[38;5;241m=\u001B[39m item_from_zerodim(other)\n\u001B[0;32m---> 76\u001B[0m \u001B[38;5;28;01mreturn\u001B[39;00m \u001B[43mmethod\u001B[49m\u001B[43m(\u001B[49m\u001B[38;5;28;43mself\u001B[39;49m\u001B[43m,\u001B[49m\u001B[43m \u001B[49m\u001B[43mother\u001B[49m\u001B[43m)\u001B[49m\n",
      "File \u001B[0;32m~/PycharmProjects/StoreSales/.venv/lib/python3.10/site-packages/pandas/core/arraylike.py:194\u001B[0m, in \u001B[0;36mOpsMixin.__sub__\u001B[0;34m(self, other)\u001B[0m\n\u001B[1;32m    192\u001B[0m \u001B[38;5;129m@unpack_zerodim_and_defer\u001B[39m(\u001B[38;5;124m\"\u001B[39m\u001B[38;5;124m__sub__\u001B[39m\u001B[38;5;124m\"\u001B[39m)\n\u001B[1;32m    193\u001B[0m \u001B[38;5;28;01mdef\u001B[39;00m \u001B[38;5;21m__sub__\u001B[39m(\u001B[38;5;28mself\u001B[39m, other):\n\u001B[0;32m--> 194\u001B[0m     \u001B[38;5;28;01mreturn\u001B[39;00m \u001B[38;5;28;43mself\u001B[39;49m\u001B[38;5;241;43m.\u001B[39;49m\u001B[43m_arith_method\u001B[49m\u001B[43m(\u001B[49m\u001B[43mother\u001B[49m\u001B[43m,\u001B[49m\u001B[43m \u001B[49m\u001B[43moperator\u001B[49m\u001B[38;5;241;43m.\u001B[39;49m\u001B[43msub\u001B[49m\u001B[43m)\u001B[49m\n",
      "File \u001B[0;32m~/PycharmProjects/StoreSales/.venv/lib/python3.10/site-packages/pandas/core/series.py:6135\u001B[0m, in \u001B[0;36mSeries._arith_method\u001B[0;34m(self, other, op)\u001B[0m\n\u001B[1;32m   6133\u001B[0m \u001B[38;5;28;01mdef\u001B[39;00m \u001B[38;5;21m_arith_method\u001B[39m(\u001B[38;5;28mself\u001B[39m, other, op):\n\u001B[1;32m   6134\u001B[0m     \u001B[38;5;28mself\u001B[39m, other \u001B[38;5;241m=\u001B[39m \u001B[38;5;28mself\u001B[39m\u001B[38;5;241m.\u001B[39m_align_for_op(other)\n\u001B[0;32m-> 6135\u001B[0m     \u001B[38;5;28;01mreturn\u001B[39;00m \u001B[43mbase\u001B[49m\u001B[38;5;241;43m.\u001B[39;49m\u001B[43mIndexOpsMixin\u001B[49m\u001B[38;5;241;43m.\u001B[39;49m\u001B[43m_arith_method\u001B[49m\u001B[43m(\u001B[49m\u001B[38;5;28;43mself\u001B[39;49m\u001B[43m,\u001B[49m\u001B[43m \u001B[49m\u001B[43mother\u001B[49m\u001B[43m,\u001B[49m\u001B[43m \u001B[49m\u001B[43mop\u001B[49m\u001B[43m)\u001B[49m\n",
      "File \u001B[0;32m~/PycharmProjects/StoreSales/.venv/lib/python3.10/site-packages/pandas/core/base.py:1384\u001B[0m, in \u001B[0;36mIndexOpsMixin._arith_method\u001B[0;34m(self, other, op)\u001B[0m\n\u001B[1;32m   1381\u001B[0m \u001B[38;5;28;01mwith\u001B[39;00m np\u001B[38;5;241m.\u001B[39merrstate(\u001B[38;5;28mall\u001B[39m\u001B[38;5;241m=\u001B[39m\u001B[38;5;124m\"\u001B[39m\u001B[38;5;124mignore\u001B[39m\u001B[38;5;124m\"\u001B[39m):\n\u001B[1;32m   1382\u001B[0m     result \u001B[38;5;241m=\u001B[39m ops\u001B[38;5;241m.\u001B[39marithmetic_op(lvalues, rvalues, op)\n\u001B[0;32m-> 1384\u001B[0m \u001B[38;5;28;01mreturn\u001B[39;00m \u001B[38;5;28;43mself\u001B[39;49m\u001B[38;5;241;43m.\u001B[39;49m\u001B[43m_construct_result\u001B[49m\u001B[43m(\u001B[49m\u001B[43mresult\u001B[49m\u001B[43m,\u001B[49m\u001B[43m \u001B[49m\u001B[43mname\u001B[49m\u001B[38;5;241;43m=\u001B[39;49m\u001B[43mres_name\u001B[49m\u001B[43m)\u001B[49m\n",
      "File \u001B[0;32m~/PycharmProjects/StoreSales/.venv/lib/python3.10/site-packages/pandas/core/series.py:6231\u001B[0m, in \u001B[0;36mSeries._construct_result\u001B[0;34m(self, result, name)\u001B[0m\n\u001B[1;32m   6228\u001B[0m \u001B[38;5;66;03m# TODO: result should always be ArrayLike, but this fails for some\u001B[39;00m\n\u001B[1;32m   6229\u001B[0m \u001B[38;5;66;03m#  JSONArray tests\u001B[39;00m\n\u001B[1;32m   6230\u001B[0m dtype \u001B[38;5;241m=\u001B[39m \u001B[38;5;28mgetattr\u001B[39m(result, \u001B[38;5;124m\"\u001B[39m\u001B[38;5;124mdtype\u001B[39m\u001B[38;5;124m\"\u001B[39m, \u001B[38;5;28;01mNone\u001B[39;00m)\n\u001B[0;32m-> 6231\u001B[0m out \u001B[38;5;241m=\u001B[39m \u001B[38;5;28;43mself\u001B[39;49m\u001B[38;5;241;43m.\u001B[39;49m\u001B[43m_constructor\u001B[49m\u001B[43m(\u001B[49m\u001B[43mresult\u001B[49m\u001B[43m,\u001B[49m\u001B[43m \u001B[49m\u001B[43mindex\u001B[49m\u001B[38;5;241;43m=\u001B[39;49m\u001B[38;5;28;43mself\u001B[39;49m\u001B[38;5;241;43m.\u001B[39;49m\u001B[43mindex\u001B[49m\u001B[43m,\u001B[49m\u001B[43m \u001B[49m\u001B[43mdtype\u001B[49m\u001B[38;5;241;43m=\u001B[39;49m\u001B[43mdtype\u001B[49m\u001B[43m,\u001B[49m\u001B[43m \u001B[49m\u001B[43mcopy\u001B[49m\u001B[38;5;241;43m=\u001B[39;49m\u001B[38;5;28;43;01mFalse\u001B[39;49;00m\u001B[43m)\u001B[49m\n\u001B[1;32m   6232\u001B[0m out \u001B[38;5;241m=\u001B[39m out\u001B[38;5;241m.\u001B[39m__finalize__(\u001B[38;5;28mself\u001B[39m)\n\u001B[1;32m   6234\u001B[0m \u001B[38;5;66;03m# Set the result's name after __finalize__ is called because __finalize__\u001B[39;00m\n\u001B[1;32m   6235\u001B[0m \u001B[38;5;66;03m#  would set it back to self.name\u001B[39;00m\n",
      "File \u001B[0;32m~/PycharmProjects/StoreSales/.venv/lib/python3.10/site-packages/pandas/core/series.py:398\u001B[0m, in \u001B[0;36mSeries.__init__\u001B[0;34m(self, data, index, dtype, name, copy, fastpath)\u001B[0m\n\u001B[1;32m    389\u001B[0m \u001B[38;5;28;01mdef\u001B[39;00m \u001B[38;5;21m__init__\u001B[39m(\n\u001B[1;32m    390\u001B[0m     \u001B[38;5;28mself\u001B[39m,\n\u001B[1;32m    391\u001B[0m     data\u001B[38;5;241m=\u001B[39m\u001B[38;5;28;01mNone\u001B[39;00m,\n\u001B[0;32m   (...)\u001B[0m\n\u001B[1;32m    396\u001B[0m     fastpath: \u001B[38;5;28mbool\u001B[39m \u001B[38;5;241m|\u001B[39m lib\u001B[38;5;241m.\u001B[39mNoDefault \u001B[38;5;241m=\u001B[39m lib\u001B[38;5;241m.\u001B[39mno_default,\n\u001B[1;32m    397\u001B[0m ) \u001B[38;5;241m-\u001B[39m\u001B[38;5;241m>\u001B[39m \u001B[38;5;28;01mNone\u001B[39;00m:\n\u001B[0;32m--> 398\u001B[0m     \u001B[38;5;28;01mif\u001B[39;00m fastpath \u001B[38;5;129;01mis\u001B[39;00m \u001B[38;5;129;01mnot\u001B[39;00m lib\u001B[38;5;241m.\u001B[39mno_default:\n\u001B[1;32m    399\u001B[0m         warnings\u001B[38;5;241m.\u001B[39mwarn(\n\u001B[1;32m    400\u001B[0m             \u001B[38;5;124m\"\u001B[39m\u001B[38;5;124mThe \u001B[39m\u001B[38;5;124m'\u001B[39m\u001B[38;5;124mfastpath\u001B[39m\u001B[38;5;124m'\u001B[39m\u001B[38;5;124m keyword in pd.Series is deprecated and will \u001B[39m\u001B[38;5;124m\"\u001B[39m\n\u001B[1;32m    401\u001B[0m             \u001B[38;5;124m\"\u001B[39m\u001B[38;5;124mbe removed in a future version.\u001B[39m\u001B[38;5;124m\"\u001B[39m,\n\u001B[1;32m    402\u001B[0m             \u001B[38;5;167;01mDeprecationWarning\u001B[39;00m,\n\u001B[1;32m    403\u001B[0m             stacklevel\u001B[38;5;241m=\u001B[39mfind_stack_level(),\n\u001B[1;32m    404\u001B[0m         )\n\u001B[1;32m    405\u001B[0m     \u001B[38;5;28;01melse\u001B[39;00m:\n",
      "\u001B[0;31mKeyboardInterrupt\u001B[0m: "
     ]
    }
   ],
   "execution_count": 116
  },
  {
   "metadata": {
    "ExecuteTime": {
     "end_time": "2024-09-26T13:03:56.811114Z",
     "start_time": "2024-09-26T13:03:56.779418Z"
    }
   },
   "cell_type": "code",
   "source": "print(next(prediction_iter))",
   "id": "6c0877fea05b45dd",
   "outputs": [
    {
     "name": "stdout",
     "output_type": "stream",
     "text": [
      "141.92357071428572\n"
     ]
    }
   ],
   "execution_count": 118
  },
  {
   "metadata": {
    "ExecuteTime": {
     "end_time": "2024-09-26T12:53:38.898856Z",
     "start_time": "2024-09-26T12:53:38.866328Z"
    }
   },
   "cell_type": "code",
   "source": [
    "import pandas as pd\n",
    "\n",
    "# Sample dataframe with values\n",
    "data = [1, 2, 3, 4, 5, 6, 7]\n",
    "df = pd.DataFrame(data, columns=['Values'])\n",
    "\n",
    "# Size of the rolling window\n",
    "window_size = 3\n",
    "\n",
    "# Subtract a number from each value (for example, subtracting 1)\n",
    "subtract_value = 1\n",
    "\n",
    "# Apply rolling window and subtract\n",
    "df['Windowed'] = df['Values'].rolling(window=window_size).apply(lambda x: sum(x - subtract_value))\n",
    "\n",
    "# Drop rows where rolling operation couldn't generate a full window\n",
    "df.dropna(inplace=True)\n",
    "\n",
    "print(df)"
   ],
   "id": "c066a665be773c14",
   "outputs": [
    {
     "name": "stdout",
     "output_type": "stream",
     "text": [
      "   Values  Windowed\n",
      "2       3       3.0\n",
      "3       4       6.0\n",
      "4       5       9.0\n",
      "5       6      12.0\n",
      "6       7      15.0\n"
     ]
    }
   ],
   "execution_count": 111
  },
  {
   "metadata": {
    "ExecuteTime": {
     "end_time": "2024-09-26T11:35:29.170075Z",
     "start_time": "2024-09-26T11:35:29.134152Z"
    }
   },
   "cell_type": "code",
   "source": [
    "def implement_mean_grouped_prediction(df: pd.DataFrame, cols: list, window: int) -> pd.DataFrame:\n",
    "    \n",
    "    \n",
    "    # print(f\"Mean Error: {error.mean()}\")"
   ],
   "id": "8dc327ba5d475ab4",
   "outputs": [],
   "execution_count": 53
  },
  {
   "metadata": {
    "ExecuteTime": {
     "end_time": "2024-09-26T11:38:58.794Z",
     "start_time": "2024-09-26T11:38:58.768450Z"
    }
   },
   "cell_type": "code",
   "source": [
    "df = pd.DataFrame(\n",
    "    {\"data\": [1, 2, 3, 4, 5, 6, 7], \"data2\": [1, 2, 3, 4, 5, 6, 7]}\n",
    ")"
   ],
   "id": "3debff830b45db1e",
   "outputs": [],
   "execution_count": 55
  },
  {
   "metadata": {
    "ExecuteTime": {
     "end_time": "2024-09-26T11:57:12.055509Z",
     "start_time": "2024-09-26T11:57:12.035837Z"
    }
   },
   "cell_type": "code",
   "source": "df['data'].rolling(window=3).apply(lambda x: (x - 2).mean())",
   "id": "af0c0600a5c75ba0",
   "outputs": [
    {
     "data": {
      "text/plain": [
       "0    NaN\n",
       "1    NaN\n",
       "2    0.0\n",
       "3    1.0\n",
       "4    2.0\n",
       "5    3.0\n",
       "6    4.0\n",
       "Name: data, dtype: float64"
      ]
     },
     "execution_count": 102,
     "metadata": {},
     "output_type": "execute_result"
    }
   ],
   "execution_count": 102
  },
  {
   "metadata": {
    "ExecuteTime": {
     "end_time": "2024-09-26T11:35:32.669139Z",
     "start_time": "2024-09-26T11:35:30.123099Z"
    }
   },
   "cell_type": "code",
   "source": [
    "group_columns = [\"store_nbr\", \"family\"]\n",
    "n_values_for_mean = 14\n",
    "\n",
    "implement_mean_grouped_prediction(train_df.copy(), group_columns, n_values_for_mean)"
   ],
   "id": "4051cdbd5dbfb6b5",
   "outputs": [
    {
     "ename": "DataError",
     "evalue": "Cannot aggregate non-numeric type: datetime64[ns]",
     "output_type": "error",
     "traceback": [
      "\u001B[0;31m---------------------------------------------------------------------------\u001B[0m",
      "\u001B[0;31mNotImplementedError\u001B[0m                       Traceback (most recent call last)",
      "File \u001B[0;32m~/PycharmProjects/StoreSales/.venv/lib/python3.10/site-packages/pandas/core/window/rolling.py:489\u001B[0m, in \u001B[0;36mBaseWindow._apply_columnwise\u001B[0;34m(self, homogeneous_func, name, numeric_only)\u001B[0m\n\u001B[1;32m    488\u001B[0m \u001B[38;5;28;01mtry\u001B[39;00m:\n\u001B[0;32m--> 489\u001B[0m     arr \u001B[38;5;241m=\u001B[39m \u001B[38;5;28;43mself\u001B[39;49m\u001B[38;5;241;43m.\u001B[39;49m\u001B[43m_prep_values\u001B[49m\u001B[43m(\u001B[49m\u001B[43marr\u001B[49m\u001B[43m)\u001B[49m\n\u001B[1;32m    490\u001B[0m \u001B[38;5;28;01mexcept\u001B[39;00m (\u001B[38;5;167;01mTypeError\u001B[39;00m, \u001B[38;5;167;01mNotImplementedError\u001B[39;00m) \u001B[38;5;28;01mas\u001B[39;00m err:\n",
      "File \u001B[0;32m~/PycharmProjects/StoreSales/.venv/lib/python3.10/site-packages/pandas/core/window/rolling.py:361\u001B[0m, in \u001B[0;36mBaseWindow._prep_values\u001B[0;34m(self, values)\u001B[0m\n\u001B[1;32m    360\u001B[0m \u001B[38;5;28;01mif\u001B[39;00m needs_i8_conversion(values\u001B[38;5;241m.\u001B[39mdtype):\n\u001B[0;32m--> 361\u001B[0m     \u001B[38;5;28;01mraise\u001B[39;00m \u001B[38;5;167;01mNotImplementedError\u001B[39;00m(\n\u001B[1;32m    362\u001B[0m         \u001B[38;5;124mf\u001B[39m\u001B[38;5;124m\"\u001B[39m\u001B[38;5;124mops for \u001B[39m\u001B[38;5;132;01m{\u001B[39;00m\u001B[38;5;28mtype\u001B[39m(\u001B[38;5;28mself\u001B[39m)\u001B[38;5;241m.\u001B[39m\u001B[38;5;18m__name__\u001B[39m\u001B[38;5;132;01m}\u001B[39;00m\u001B[38;5;124m for this \u001B[39m\u001B[38;5;124m\"\u001B[39m\n\u001B[1;32m    363\u001B[0m         \u001B[38;5;124mf\u001B[39m\u001B[38;5;124m\"\u001B[39m\u001B[38;5;124mdtype \u001B[39m\u001B[38;5;132;01m{\u001B[39;00mvalues\u001B[38;5;241m.\u001B[39mdtype\u001B[38;5;132;01m}\u001B[39;00m\u001B[38;5;124m are not implemented\u001B[39m\u001B[38;5;124m\"\u001B[39m\n\u001B[1;32m    364\u001B[0m     )\n\u001B[1;32m    365\u001B[0m \u001B[38;5;66;03m# GH #12373 : rolling functions error on float32 data\u001B[39;00m\n\u001B[1;32m    366\u001B[0m \u001B[38;5;66;03m# make sure the data is coerced to float64\u001B[39;00m\n",
      "\u001B[0;31mNotImplementedError\u001B[0m: ops for Rolling for this dtype datetime64[ns] are not implemented",
      "\nThe above exception was the direct cause of the following exception:\n",
      "\u001B[0;31mDataError\u001B[0m                                 Traceback (most recent call last)",
      "Cell \u001B[0;32mIn[54], line 4\u001B[0m\n\u001B[1;32m      1\u001B[0m group_columns \u001B[38;5;241m=\u001B[39m [\u001B[38;5;124m\"\u001B[39m\u001B[38;5;124mstore_nbr\u001B[39m\u001B[38;5;124m\"\u001B[39m, \u001B[38;5;124m\"\u001B[39m\u001B[38;5;124mfamily\u001B[39m\u001B[38;5;124m\"\u001B[39m]\n\u001B[1;32m      2\u001B[0m n_values_for_mean \u001B[38;5;241m=\u001B[39m \u001B[38;5;241m14\u001B[39m\n\u001B[0;32m----> 4\u001B[0m \u001B[43mimplement_mean_grouped_prediction\u001B[49m\u001B[43m(\u001B[49m\u001B[43mtrain_df\u001B[49m\u001B[38;5;241;43m.\u001B[39;49m\u001B[43mcopy\u001B[49m\u001B[43m(\u001B[49m\u001B[43m)\u001B[49m\u001B[43m,\u001B[49m\u001B[43m \u001B[49m\u001B[43mgroup_columns\u001B[49m\u001B[43m,\u001B[49m\u001B[43m \u001B[49m\u001B[43mn_values_for_mean\u001B[49m\u001B[43m)\u001B[49m\n",
      "Cell \u001B[0;32mIn[53], line 5\u001B[0m, in \u001B[0;36mimplement_mean_grouped_prediction\u001B[0;34m(df, cols, window)\u001B[0m\n\u001B[1;32m      3\u001B[0m prediction_df\u001B[38;5;241m.\u001B[39mdropna(inplace\u001B[38;5;241m=\u001B[39m\u001B[38;5;28;01mTrue\u001B[39;00m)\n\u001B[1;32m      4\u001B[0m group \u001B[38;5;241m=\u001B[39m prediction_df\u001B[38;5;241m.\u001B[39mgroupby(cols)\n\u001B[0;32m----> 5\u001B[0m error \u001B[38;5;241m=\u001B[39m \u001B[43mgroup\u001B[49m\u001B[38;5;241;43m.\u001B[39;49m\u001B[43mapply\u001B[49m\u001B[43m(\u001B[49m\u001B[38;5;28;43;01mlambda\u001B[39;49;00m\u001B[43m \u001B[49m\u001B[43mx\u001B[49m\u001B[43m:\u001B[49m\u001B[43m \u001B[49m\u001B[43mx\u001B[49m\u001B[38;5;241;43m.\u001B[39;49m\u001B[43mrolling\u001B[49m\u001B[43m(\u001B[49m\u001B[43mwindow\u001B[49m\u001B[38;5;241;43m=\u001B[39;49m\u001B[43mwindow\u001B[49m\u001B[43m)\u001B[49m\u001B[38;5;241;43m.\u001B[39;49m\u001B[43mapply\u001B[49m\u001B[43m(\u001B[49m\n\u001B[1;32m      6\u001B[0m \u001B[43m    \u001B[49m\u001B[38;5;28;43;01mlambda\u001B[39;49;00m\u001B[43m \u001B[49m\u001B[43msubdf\u001B[49m\u001B[43m:\u001B[49m\u001B[43m \u001B[49m\u001B[43mrmsle\u001B[49m\u001B[43m(\u001B[49m\u001B[43msubdf\u001B[49m\u001B[43m[\u001B[49m\u001B[38;5;124;43m\"\u001B[39;49m\u001B[38;5;124;43msales\u001B[39;49m\u001B[38;5;124;43m\"\u001B[39;49m\u001B[43m]\u001B[49m\u001B[43m,\u001B[49m\u001B[43m \u001B[49m\u001B[43msubdf\u001B[49m\u001B[43m[\u001B[49m\u001B[43mprediction_col_name\u001B[49m\u001B[43m]\u001B[49m\u001B[43m)\u001B[49m\u001B[43m,\u001B[49m\u001B[43m \u001B[49m\u001B[43mraw\u001B[49m\u001B[38;5;241;43m=\u001B[39;49m\u001B[38;5;28;43;01mFalse\u001B[39;49;00m\u001B[43m)\u001B[49m\n\u001B[1;32m      7\u001B[0m \u001B[43m\u001B[49m\u001B[43m)\u001B[49m\n",
      "File \u001B[0;32m~/PycharmProjects/StoreSales/.venv/lib/python3.10/site-packages/pandas/core/groupby/groupby.py:1824\u001B[0m, in \u001B[0;36mGroupBy.apply\u001B[0;34m(self, func, include_groups, *args, **kwargs)\u001B[0m\n\u001B[1;32m   1822\u001B[0m \u001B[38;5;28;01mwith\u001B[39;00m option_context(\u001B[38;5;124m\"\u001B[39m\u001B[38;5;124mmode.chained_assignment\u001B[39m\u001B[38;5;124m\"\u001B[39m, \u001B[38;5;28;01mNone\u001B[39;00m):\n\u001B[1;32m   1823\u001B[0m     \u001B[38;5;28;01mtry\u001B[39;00m:\n\u001B[0;32m-> 1824\u001B[0m         result \u001B[38;5;241m=\u001B[39m \u001B[38;5;28;43mself\u001B[39;49m\u001B[38;5;241;43m.\u001B[39;49m\u001B[43m_python_apply_general\u001B[49m\u001B[43m(\u001B[49m\u001B[43mf\u001B[49m\u001B[43m,\u001B[49m\u001B[43m \u001B[49m\u001B[38;5;28;43mself\u001B[39;49m\u001B[38;5;241;43m.\u001B[39;49m\u001B[43m_selected_obj\u001B[49m\u001B[43m)\u001B[49m\n\u001B[1;32m   1825\u001B[0m         \u001B[38;5;28;01mif\u001B[39;00m (\n\u001B[1;32m   1826\u001B[0m             \u001B[38;5;129;01mnot\u001B[39;00m \u001B[38;5;28misinstance\u001B[39m(\u001B[38;5;28mself\u001B[39m\u001B[38;5;241m.\u001B[39mobj, Series)\n\u001B[1;32m   1827\u001B[0m             \u001B[38;5;129;01mand\u001B[39;00m \u001B[38;5;28mself\u001B[39m\u001B[38;5;241m.\u001B[39m_selection \u001B[38;5;129;01mis\u001B[39;00m \u001B[38;5;28;01mNone\u001B[39;00m\n\u001B[1;32m   1828\u001B[0m             \u001B[38;5;129;01mand\u001B[39;00m \u001B[38;5;28mself\u001B[39m\u001B[38;5;241m.\u001B[39m_selected_obj\u001B[38;5;241m.\u001B[39mshape \u001B[38;5;241m!=\u001B[39m \u001B[38;5;28mself\u001B[39m\u001B[38;5;241m.\u001B[39m_obj_with_exclusions\u001B[38;5;241m.\u001B[39mshape\n\u001B[1;32m   1829\u001B[0m         ):\n\u001B[1;32m   1830\u001B[0m             warnings\u001B[38;5;241m.\u001B[39mwarn(\n\u001B[1;32m   1831\u001B[0m                 message\u001B[38;5;241m=\u001B[39m_apply_groupings_depr\u001B[38;5;241m.\u001B[39mformat(\n\u001B[1;32m   1832\u001B[0m                     \u001B[38;5;28mtype\u001B[39m(\u001B[38;5;28mself\u001B[39m)\u001B[38;5;241m.\u001B[39m\u001B[38;5;18m__name__\u001B[39m, \u001B[38;5;124m\"\u001B[39m\u001B[38;5;124mapply\u001B[39m\u001B[38;5;124m\"\u001B[39m\n\u001B[0;32m   (...)\u001B[0m\n\u001B[1;32m   1835\u001B[0m                 stacklevel\u001B[38;5;241m=\u001B[39mfind_stack_level(),\n\u001B[1;32m   1836\u001B[0m             )\n",
      "File \u001B[0;32m~/PycharmProjects/StoreSales/.venv/lib/python3.10/site-packages/pandas/core/groupby/groupby.py:1885\u001B[0m, in \u001B[0;36mGroupBy._python_apply_general\u001B[0;34m(self, f, data, not_indexed_same, is_transform, is_agg)\u001B[0m\n\u001B[1;32m   1850\u001B[0m \u001B[38;5;129m@final\u001B[39m\n\u001B[1;32m   1851\u001B[0m \u001B[38;5;28;01mdef\u001B[39;00m \u001B[38;5;21m_python_apply_general\u001B[39m(\n\u001B[1;32m   1852\u001B[0m     \u001B[38;5;28mself\u001B[39m,\n\u001B[0;32m   (...)\u001B[0m\n\u001B[1;32m   1857\u001B[0m     is_agg: \u001B[38;5;28mbool\u001B[39m \u001B[38;5;241m=\u001B[39m \u001B[38;5;28;01mFalse\u001B[39;00m,\n\u001B[1;32m   1858\u001B[0m ) \u001B[38;5;241m-\u001B[39m\u001B[38;5;241m>\u001B[39m NDFrameT:\n\u001B[1;32m   1859\u001B[0m \u001B[38;5;250m    \u001B[39m\u001B[38;5;124;03m\"\"\"\u001B[39;00m\n\u001B[1;32m   1860\u001B[0m \u001B[38;5;124;03m    Apply function f in python space\u001B[39;00m\n\u001B[1;32m   1861\u001B[0m \n\u001B[0;32m   (...)\u001B[0m\n\u001B[1;32m   1883\u001B[0m \u001B[38;5;124;03m        data after applying f\u001B[39;00m\n\u001B[1;32m   1884\u001B[0m \u001B[38;5;124;03m    \"\"\"\u001B[39;00m\n\u001B[0;32m-> 1885\u001B[0m     values, mutated \u001B[38;5;241m=\u001B[39m \u001B[38;5;28;43mself\u001B[39;49m\u001B[38;5;241;43m.\u001B[39;49m\u001B[43m_grouper\u001B[49m\u001B[38;5;241;43m.\u001B[39;49m\u001B[43mapply_groupwise\u001B[49m\u001B[43m(\u001B[49m\u001B[43mf\u001B[49m\u001B[43m,\u001B[49m\u001B[43m \u001B[49m\u001B[43mdata\u001B[49m\u001B[43m,\u001B[49m\u001B[43m \u001B[49m\u001B[38;5;28;43mself\u001B[39;49m\u001B[38;5;241;43m.\u001B[39;49m\u001B[43maxis\u001B[49m\u001B[43m)\u001B[49m\n\u001B[1;32m   1886\u001B[0m     \u001B[38;5;28;01mif\u001B[39;00m not_indexed_same \u001B[38;5;129;01mis\u001B[39;00m \u001B[38;5;28;01mNone\u001B[39;00m:\n\u001B[1;32m   1887\u001B[0m         not_indexed_same \u001B[38;5;241m=\u001B[39m mutated\n",
      "File \u001B[0;32m~/PycharmProjects/StoreSales/.venv/lib/python3.10/site-packages/pandas/core/groupby/ops.py:919\u001B[0m, in \u001B[0;36mBaseGrouper.apply_groupwise\u001B[0;34m(self, f, data, axis)\u001B[0m\n\u001B[1;32m    917\u001B[0m \u001B[38;5;66;03m# group might be modified\u001B[39;00m\n\u001B[1;32m    918\u001B[0m group_axes \u001B[38;5;241m=\u001B[39m group\u001B[38;5;241m.\u001B[39maxes\n\u001B[0;32m--> 919\u001B[0m res \u001B[38;5;241m=\u001B[39m \u001B[43mf\u001B[49m\u001B[43m(\u001B[49m\u001B[43mgroup\u001B[49m\u001B[43m)\u001B[49m\n\u001B[1;32m    920\u001B[0m \u001B[38;5;28;01mif\u001B[39;00m \u001B[38;5;129;01mnot\u001B[39;00m mutated \u001B[38;5;129;01mand\u001B[39;00m \u001B[38;5;129;01mnot\u001B[39;00m _is_indexed_like(res, group_axes, axis):\n\u001B[1;32m    921\u001B[0m     mutated \u001B[38;5;241m=\u001B[39m \u001B[38;5;28;01mTrue\u001B[39;00m\n",
      "Cell \u001B[0;32mIn[53], line 5\u001B[0m, in \u001B[0;36mimplement_mean_grouped_prediction.<locals>.<lambda>\u001B[0;34m(x)\u001B[0m\n\u001B[1;32m      3\u001B[0m prediction_df\u001B[38;5;241m.\u001B[39mdropna(inplace\u001B[38;5;241m=\u001B[39m\u001B[38;5;28;01mTrue\u001B[39;00m)\n\u001B[1;32m      4\u001B[0m group \u001B[38;5;241m=\u001B[39m prediction_df\u001B[38;5;241m.\u001B[39mgroupby(cols)\n\u001B[0;32m----> 5\u001B[0m error \u001B[38;5;241m=\u001B[39m group\u001B[38;5;241m.\u001B[39mapply(\u001B[38;5;28;01mlambda\u001B[39;00m x: \u001B[43mx\u001B[49m\u001B[38;5;241;43m.\u001B[39;49m\u001B[43mrolling\u001B[49m\u001B[43m(\u001B[49m\u001B[43mwindow\u001B[49m\u001B[38;5;241;43m=\u001B[39;49m\u001B[43mwindow\u001B[49m\u001B[43m)\u001B[49m\u001B[38;5;241;43m.\u001B[39;49m\u001B[43mapply\u001B[49m\u001B[43m(\u001B[49m\n\u001B[1;32m      6\u001B[0m \u001B[43m    \u001B[49m\u001B[38;5;28;43;01mlambda\u001B[39;49;00m\u001B[43m \u001B[49m\u001B[43msubdf\u001B[49m\u001B[43m:\u001B[49m\u001B[43m \u001B[49m\u001B[43mrmsle\u001B[49m\u001B[43m(\u001B[49m\u001B[43msubdf\u001B[49m\u001B[43m[\u001B[49m\u001B[38;5;124;43m\"\u001B[39;49m\u001B[38;5;124;43msales\u001B[39;49m\u001B[38;5;124;43m\"\u001B[39;49m\u001B[43m]\u001B[49m\u001B[43m,\u001B[49m\u001B[43m \u001B[49m\u001B[43msubdf\u001B[49m\u001B[43m[\u001B[49m\u001B[43mprediction_col_name\u001B[49m\u001B[43m]\u001B[49m\u001B[43m)\u001B[49m\u001B[43m,\u001B[49m\u001B[43m \u001B[49m\u001B[43mraw\u001B[49m\u001B[38;5;241;43m=\u001B[39;49m\u001B[38;5;28;43;01mFalse\u001B[39;49;00m\u001B[43m)\u001B[49m\n\u001B[1;32m      7\u001B[0m )\n",
      "File \u001B[0;32m~/PycharmProjects/StoreSales/.venv/lib/python3.10/site-packages/pandas/core/window/rolling.py:2049\u001B[0m, in \u001B[0;36mRolling.apply\u001B[0;34m(self, func, raw, engine, engine_kwargs, args, kwargs)\u001B[0m\n\u001B[1;32m   2016\u001B[0m \u001B[38;5;129m@doc\u001B[39m(\n\u001B[1;32m   2017\u001B[0m     template_header,\n\u001B[1;32m   2018\u001B[0m     create_section_header(\u001B[38;5;124m\"\u001B[39m\u001B[38;5;124mParameters\u001B[39m\u001B[38;5;124m\"\u001B[39m),\n\u001B[0;32m   (...)\u001B[0m\n\u001B[1;32m   2047\u001B[0m     kwargs: \u001B[38;5;28mdict\u001B[39m[\u001B[38;5;28mstr\u001B[39m, Any] \u001B[38;5;241m|\u001B[39m \u001B[38;5;28;01mNone\u001B[39;00m \u001B[38;5;241m=\u001B[39m \u001B[38;5;28;01mNone\u001B[39;00m,\n\u001B[1;32m   2048\u001B[0m ):\n\u001B[0;32m-> 2049\u001B[0m     \u001B[38;5;28;01mreturn\u001B[39;00m \u001B[38;5;28;43msuper\u001B[39;49m\u001B[43m(\u001B[49m\u001B[43m)\u001B[49m\u001B[38;5;241;43m.\u001B[39;49m\u001B[43mapply\u001B[49m\u001B[43m(\u001B[49m\n\u001B[1;32m   2050\u001B[0m \u001B[43m        \u001B[49m\u001B[43mfunc\u001B[49m\u001B[43m,\u001B[49m\n\u001B[1;32m   2051\u001B[0m \u001B[43m        \u001B[49m\u001B[43mraw\u001B[49m\u001B[38;5;241;43m=\u001B[39;49m\u001B[43mraw\u001B[49m\u001B[43m,\u001B[49m\n\u001B[1;32m   2052\u001B[0m \u001B[43m        \u001B[49m\u001B[43mengine\u001B[49m\u001B[38;5;241;43m=\u001B[39;49m\u001B[43mengine\u001B[49m\u001B[43m,\u001B[49m\n\u001B[1;32m   2053\u001B[0m \u001B[43m        \u001B[49m\u001B[43mengine_kwargs\u001B[49m\u001B[38;5;241;43m=\u001B[39;49m\u001B[43mengine_kwargs\u001B[49m\u001B[43m,\u001B[49m\n\u001B[1;32m   2054\u001B[0m \u001B[43m        \u001B[49m\u001B[43margs\u001B[49m\u001B[38;5;241;43m=\u001B[39;49m\u001B[43margs\u001B[49m\u001B[43m,\u001B[49m\n\u001B[1;32m   2055\u001B[0m \u001B[43m        \u001B[49m\u001B[43mkwargs\u001B[49m\u001B[38;5;241;43m=\u001B[39;49m\u001B[43mkwargs\u001B[49m\u001B[43m,\u001B[49m\n\u001B[1;32m   2056\u001B[0m \u001B[43m    \u001B[49m\u001B[43m)\u001B[49m\n",
      "File \u001B[0;32m~/PycharmProjects/StoreSales/.venv/lib/python3.10/site-packages/pandas/core/window/rolling.py:1508\u001B[0m, in \u001B[0;36mRollingAndExpandingMixin.apply\u001B[0;34m(self, func, raw, engine, engine_kwargs, args, kwargs)\u001B[0m\n\u001B[1;32m   1505\u001B[0m \u001B[38;5;28;01melse\u001B[39;00m:\n\u001B[1;32m   1506\u001B[0m     \u001B[38;5;28;01mraise\u001B[39;00m \u001B[38;5;167;01mValueError\u001B[39;00m(\u001B[38;5;124m\"\u001B[39m\u001B[38;5;124mengine must be either \u001B[39m\u001B[38;5;124m'\u001B[39m\u001B[38;5;124mnumba\u001B[39m\u001B[38;5;124m'\u001B[39m\u001B[38;5;124m or \u001B[39m\u001B[38;5;124m'\u001B[39m\u001B[38;5;124mcython\u001B[39m\u001B[38;5;124m'\u001B[39m\u001B[38;5;124m\"\u001B[39m)\n\u001B[0;32m-> 1508\u001B[0m \u001B[38;5;28;01mreturn\u001B[39;00m \u001B[38;5;28;43mself\u001B[39;49m\u001B[38;5;241;43m.\u001B[39;49m\u001B[43m_apply\u001B[49m\u001B[43m(\u001B[49m\n\u001B[1;32m   1509\u001B[0m \u001B[43m    \u001B[49m\u001B[43mapply_func\u001B[49m\u001B[43m,\u001B[49m\n\u001B[1;32m   1510\u001B[0m \u001B[43m    \u001B[49m\u001B[43mname\u001B[49m\u001B[38;5;241;43m=\u001B[39;49m\u001B[38;5;124;43m\"\u001B[39;49m\u001B[38;5;124;43mapply\u001B[39;49m\u001B[38;5;124;43m\"\u001B[39;49m\u001B[43m,\u001B[49m\n\u001B[1;32m   1511\u001B[0m \u001B[43m    \u001B[49m\u001B[43mnumba_args\u001B[49m\u001B[38;5;241;43m=\u001B[39;49m\u001B[43mnumba_args\u001B[49m\u001B[43m,\u001B[49m\n\u001B[1;32m   1512\u001B[0m \u001B[43m\u001B[49m\u001B[43m)\u001B[49m\n",
      "File \u001B[0;32m~/PycharmProjects/StoreSales/.venv/lib/python3.10/site-packages/pandas/core/window/rolling.py:619\u001B[0m, in \u001B[0;36mBaseWindow._apply\u001B[0;34m(self, func, name, numeric_only, numba_args, **kwargs)\u001B[0m\n\u001B[1;32m    616\u001B[0m     \u001B[38;5;28;01mreturn\u001B[39;00m result\n\u001B[1;32m    618\u001B[0m \u001B[38;5;28;01mif\u001B[39;00m \u001B[38;5;28mself\u001B[39m\u001B[38;5;241m.\u001B[39mmethod \u001B[38;5;241m==\u001B[39m \u001B[38;5;124m\"\u001B[39m\u001B[38;5;124msingle\u001B[39m\u001B[38;5;124m\"\u001B[39m:\n\u001B[0;32m--> 619\u001B[0m     \u001B[38;5;28;01mreturn\u001B[39;00m \u001B[38;5;28;43mself\u001B[39;49m\u001B[38;5;241;43m.\u001B[39;49m\u001B[43m_apply_columnwise\u001B[49m\u001B[43m(\u001B[49m\u001B[43mhomogeneous_func\u001B[49m\u001B[43m,\u001B[49m\u001B[43m \u001B[49m\u001B[43mname\u001B[49m\u001B[43m,\u001B[49m\u001B[43m \u001B[49m\u001B[43mnumeric_only\u001B[49m\u001B[43m)\u001B[49m\n\u001B[1;32m    620\u001B[0m \u001B[38;5;28;01melse\u001B[39;00m:\n\u001B[1;32m    621\u001B[0m     \u001B[38;5;28;01mreturn\u001B[39;00m \u001B[38;5;28mself\u001B[39m\u001B[38;5;241m.\u001B[39m_apply_tablewise(homogeneous_func, name, numeric_only)\n",
      "File \u001B[0;32m~/PycharmProjects/StoreSales/.venv/lib/python3.10/site-packages/pandas/core/window/rolling.py:491\u001B[0m, in \u001B[0;36mBaseWindow._apply_columnwise\u001B[0;34m(self, homogeneous_func, name, numeric_only)\u001B[0m\n\u001B[1;32m    489\u001B[0m     arr \u001B[38;5;241m=\u001B[39m \u001B[38;5;28mself\u001B[39m\u001B[38;5;241m.\u001B[39m_prep_values(arr)\n\u001B[1;32m    490\u001B[0m \u001B[38;5;28;01mexcept\u001B[39;00m (\u001B[38;5;167;01mTypeError\u001B[39;00m, \u001B[38;5;167;01mNotImplementedError\u001B[39;00m) \u001B[38;5;28;01mas\u001B[39;00m err:\n\u001B[0;32m--> 491\u001B[0m     \u001B[38;5;28;01mraise\u001B[39;00m DataError(\n\u001B[1;32m    492\u001B[0m         \u001B[38;5;124mf\u001B[39m\u001B[38;5;124m\"\u001B[39m\u001B[38;5;124mCannot aggregate non-numeric type: \u001B[39m\u001B[38;5;132;01m{\u001B[39;00marr\u001B[38;5;241m.\u001B[39mdtype\u001B[38;5;132;01m}\u001B[39;00m\u001B[38;5;124m\"\u001B[39m\n\u001B[1;32m    493\u001B[0m     ) \u001B[38;5;28;01mfrom\u001B[39;00m \u001B[38;5;21;01merr\u001B[39;00m\n\u001B[1;32m    494\u001B[0m res \u001B[38;5;241m=\u001B[39m homogeneous_func(arr)\n\u001B[1;32m    495\u001B[0m res_values\u001B[38;5;241m.\u001B[39mappend(res)\n",
      "\u001B[0;31mDataError\u001B[0m: Cannot aggregate non-numeric type: datetime64[ns]"
     ]
    }
   ],
   "execution_count": 54
  },
  {
   "cell_type": "code",
   "id": "cc2fce93e5d32762",
   "metadata": {
    "ExecuteTime": {
     "end_time": "2024-09-26T06:55:58.910355Z",
     "start_time": "2024-09-26T06:55:55.914087Z"
    }
   },
   "source": [
    "group_columns = [\"store_nbr\", \"family\", \"is_weekend\"]\n",
    "n_window_weekdays = 10\n",
    "n_window_weekends = 6\n",
    "\n",
    "predict_df = weekend_group_predict(\n",
    "    train_df.copy(), group_columns, n_window_weekdays, n_window_weekends\n",
    ")\n",
    "eval_prediction(predict_df)"
   ],
   "outputs": [
    {
     "data": {
      "text/plain": [
       "np.float64(0.4542795087195954)"
      ]
     },
     "execution_count": 11,
     "metadata": {},
     "output_type": "execute_result"
    }
   ],
   "execution_count": 11
  },
  {
   "cell_type": "code",
   "execution_count": 274,
   "id": "331fbcab67a8cb00",
   "metadata": {
    "ExecuteTime": {
     "end_time": "2024-09-25T07:54:37.481723Z",
     "start_time": "2024-09-25T07:54:37.428457Z"
    }
   },
   "outputs": [],
   "source": [
    "grouped_by_is_weekend_sub_file = \"grouped_by_is_weekend_submission.csv\"\n",
    "grouped_by_is_weekend_sub = sample_submission_df.copy()\n",
    "\n",
    "test_prediction = predict_df[predict_df[\"date\"] == predict_df[\"date\"].max()]\n",
    "\n",
    "sub_values = test_df.merge(\n",
    "    test_prediction[[\"store_nbr\", \"family\", prediction_col_name]],\n",
    "    on=[\"store_nbr\", \"family\"],\n",
    "    how=\"left\",\n",
    ")"
   ]
  },
  {
   "cell_type": "code",
   "execution_count": 275,
   "id": "924920bb8c32ac34",
   "metadata": {
    "ExecuteTime": {
     "end_time": "2024-09-25T07:54:38.611094Z",
     "start_time": "2024-09-25T07:54:38.564710Z"
    }
   },
   "outputs": [
    {
     "data": {
      "text/html": [
       "<div>\n",
       "<style scoped>\n",
       "    .dataframe tbody tr th:only-of-type {\n",
       "        vertical-align: middle;\n",
       "    }\n",
       "\n",
       "    .dataframe tbody tr th {\n",
       "        vertical-align: top;\n",
       "    }\n",
       "\n",
       "    .dataframe thead th {\n",
       "        text-align: right;\n",
       "    }\n",
       "</style>\n",
       "<table border=\"1\" class=\"dataframe\">\n",
       "  <thead>\n",
       "    <tr style=\"text-align: right;\">\n",
       "      <th></th>\n",
       "      <th>index</th>\n",
       "      <th>id</th>\n",
       "      <th>date</th>\n",
       "      <th>store_nbr</th>\n",
       "      <th>family</th>\n",
       "      <th>onpromotion</th>\n",
       "      <th>window_sales_shift</th>\n",
       "    </tr>\n",
       "  </thead>\n",
       "  <tbody>\n",
       "    <tr>\n",
       "      <th>0</th>\n",
       "      <td>0</td>\n",
       "      <td>3000888</td>\n",
       "      <td>2017-08-16</td>\n",
       "      <td>1</td>\n",
       "      <td>AUTOMOTIVE</td>\n",
       "      <td>0</td>\n",
       "      <td>4.8</td>\n",
       "    </tr>\n",
       "    <tr>\n",
       "      <th>1</th>\n",
       "      <td>1</td>\n",
       "      <td>3000889</td>\n",
       "      <td>2017-08-16</td>\n",
       "      <td>1</td>\n",
       "      <td>BABY CARE</td>\n",
       "      <td>0</td>\n",
       "      <td>0.0</td>\n",
       "    </tr>\n",
       "    <tr>\n",
       "      <th>2</th>\n",
       "      <td>2</td>\n",
       "      <td>3000890</td>\n",
       "      <td>2017-08-16</td>\n",
       "      <td>1</td>\n",
       "      <td>BEAUTY</td>\n",
       "      <td>2</td>\n",
       "      <td>4.6</td>\n",
       "    </tr>\n",
       "    <tr>\n",
       "      <th>3</th>\n",
       "      <td>3</td>\n",
       "      <td>3000891</td>\n",
       "      <td>2017-08-16</td>\n",
       "      <td>1</td>\n",
       "      <td>BEVERAGES</td>\n",
       "      <td>20</td>\n",
       "      <td>2150.2</td>\n",
       "    </tr>\n",
       "    <tr>\n",
       "      <th>4</th>\n",
       "      <td>4</td>\n",
       "      <td>3000892</td>\n",
       "      <td>2017-08-16</td>\n",
       "      <td>1</td>\n",
       "      <td>BOOKS</td>\n",
       "      <td>0</td>\n",
       "      <td>0.0</td>\n",
       "    </tr>\n",
       "  </tbody>\n",
       "</table>\n",
       "</div>"
      ],
      "text/plain": [
       "   index       id       date  store_nbr      family  onpromotion  \\\n",
       "0      0  3000888 2017-08-16          1  AUTOMOTIVE            0   \n",
       "1      1  3000889 2017-08-16          1   BABY CARE            0   \n",
       "2      2  3000890 2017-08-16          1      BEAUTY            2   \n",
       "3      3  3000891 2017-08-16          1   BEVERAGES           20   \n",
       "4      4  3000892 2017-08-16          1       BOOKS            0   \n",
       "\n",
       "   window_sales_shift  \n",
       "0                 4.8  \n",
       "1                 0.0  \n",
       "2                 4.6  \n",
       "3              2150.2  \n",
       "4                 0.0  "
      ]
     },
     "execution_count": 275,
     "metadata": {},
     "output_type": "execute_result"
    }
   ],
   "source": [
    "sub_values.head()"
   ]
  },
  {
   "cell_type": "code",
   "execution_count": 276,
   "id": "1d721ba136621755",
   "metadata": {
    "ExecuteTime": {
     "end_time": "2024-09-25T07:54:39.620694Z",
     "start_time": "2024-09-25T07:54:39.584491Z"
    }
   },
   "outputs": [],
   "source": [
    "sub_values.set_index(\"id\", inplace=True)\n",
    "\n",
    "grouped_by_is_weekend_sub[\"sales\"] = sub_values[prediction_col_name]"
   ]
  },
  {
   "cell_type": "code",
   "execution_count": 277,
   "id": "71361856cc2dff5f",
   "metadata": {
    "ExecuteTime": {
     "end_time": "2024-09-25T07:54:52.075717Z",
     "start_time": "2024-09-25T07:54:52.009672Z"
    }
   },
   "outputs": [],
   "source": [
    "grouped_by_is_weekend_sub.to_csv(\n",
    "    os.path.join(SUBMISSIONS_PATH, grouped_by_is_weekend_sub_file)\n",
    ")"
   ]
  },
  {
   "cell_type": "code",
   "execution_count": null,
   "id": "15354211e01f649c",
   "metadata": {},
   "outputs": [],
   "source": []
  },
  {
   "cell_type": "code",
   "id": "ea6bc61b672b8684",
   "metadata": {
    "ExecuteTime": {
     "end_time": "2024-09-26T11:20:17.698307Z",
     "start_time": "2024-09-26T11:20:15.941470Z"
    }
   },
   "source": [
    "group_columns = [\"store_nbr\", \"family\"]\n",
    "n_values_for_mean = 14\n",
    "\n",
    "predict_df = predict(train_df.copy(), group_columns, n_values_for_mean)\n",
    "eval_prediction(predict_df)"
   ],
   "outputs": [
    {
     "ename": "TypeError",
     "evalue": "incompatible index of inserted column with frame index",
     "output_type": "error",
     "traceback": [
      "\u001B[0;31m---------------------------------------------------------------------------\u001B[0m",
      "\u001B[0;31mValueError\u001B[0m                                Traceback (most recent call last)",
      "File \u001B[0;32m~/PycharmProjects/StoreSales/.venv/lib/python3.10/site-packages/pandas/core/frame.py:12687\u001B[0m, in \u001B[0;36m_reindex_for_setitem\u001B[0;34m(value, index)\u001B[0m\n\u001B[1;32m  12686\u001B[0m \u001B[38;5;28;01mtry\u001B[39;00m:\n\u001B[0;32m> 12687\u001B[0m     reindexed_value \u001B[38;5;241m=\u001B[39m \u001B[43mvalue\u001B[49m\u001B[38;5;241;43m.\u001B[39;49m\u001B[43mreindex\u001B[49m\u001B[43m(\u001B[49m\u001B[43mindex\u001B[49m\u001B[43m)\u001B[49m\u001B[38;5;241m.\u001B[39m_values\n\u001B[1;32m  12688\u001B[0m \u001B[38;5;28;01mexcept\u001B[39;00m \u001B[38;5;167;01mValueError\u001B[39;00m \u001B[38;5;28;01mas\u001B[39;00m err:\n\u001B[1;32m  12689\u001B[0m     \u001B[38;5;66;03m# raised in MultiIndex.from_tuples, see test_insert_error_msmgs\u001B[39;00m\n",
      "File \u001B[0;32m~/PycharmProjects/StoreSales/.venv/lib/python3.10/site-packages/pandas/core/series.py:5153\u001B[0m, in \u001B[0;36mSeries.reindex\u001B[0;34m(self, index, axis, method, copy, level, fill_value, limit, tolerance)\u001B[0m\n\u001B[1;32m   5136\u001B[0m \u001B[38;5;129m@doc\u001B[39m(\n\u001B[1;32m   5137\u001B[0m     NDFrame\u001B[38;5;241m.\u001B[39mreindex,  \u001B[38;5;66;03m# type: ignore[has-type]\u001B[39;00m\n\u001B[1;32m   5138\u001B[0m     klass\u001B[38;5;241m=\u001B[39m_shared_doc_kwargs[\u001B[38;5;124m\"\u001B[39m\u001B[38;5;124mklass\u001B[39m\u001B[38;5;124m\"\u001B[39m],\n\u001B[0;32m   (...)\u001B[0m\n\u001B[1;32m   5151\u001B[0m     tolerance\u001B[38;5;241m=\u001B[39m\u001B[38;5;28;01mNone\u001B[39;00m,\n\u001B[1;32m   5152\u001B[0m ) \u001B[38;5;241m-\u001B[39m\u001B[38;5;241m>\u001B[39m Series:\n\u001B[0;32m-> 5153\u001B[0m     \u001B[38;5;28;01mreturn\u001B[39;00m \u001B[38;5;28;43msuper\u001B[39;49m\u001B[43m(\u001B[49m\u001B[43m)\u001B[49m\u001B[38;5;241;43m.\u001B[39;49m\u001B[43mreindex\u001B[49m\u001B[43m(\u001B[49m\n\u001B[1;32m   5154\u001B[0m \u001B[43m        \u001B[49m\u001B[43mindex\u001B[49m\u001B[38;5;241;43m=\u001B[39;49m\u001B[43mindex\u001B[49m\u001B[43m,\u001B[49m\n\u001B[1;32m   5155\u001B[0m \u001B[43m        \u001B[49m\u001B[43mmethod\u001B[49m\u001B[38;5;241;43m=\u001B[39;49m\u001B[43mmethod\u001B[49m\u001B[43m,\u001B[49m\n\u001B[1;32m   5156\u001B[0m \u001B[43m        \u001B[49m\u001B[43mcopy\u001B[49m\u001B[38;5;241;43m=\u001B[39;49m\u001B[43mcopy\u001B[49m\u001B[43m,\u001B[49m\n\u001B[1;32m   5157\u001B[0m \u001B[43m        \u001B[49m\u001B[43mlevel\u001B[49m\u001B[38;5;241;43m=\u001B[39;49m\u001B[43mlevel\u001B[49m\u001B[43m,\u001B[49m\n\u001B[1;32m   5158\u001B[0m \u001B[43m        \u001B[49m\u001B[43mfill_value\u001B[49m\u001B[38;5;241;43m=\u001B[39;49m\u001B[43mfill_value\u001B[49m\u001B[43m,\u001B[49m\n\u001B[1;32m   5159\u001B[0m \u001B[43m        \u001B[49m\u001B[43mlimit\u001B[49m\u001B[38;5;241;43m=\u001B[39;49m\u001B[43mlimit\u001B[49m\u001B[43m,\u001B[49m\n\u001B[1;32m   5160\u001B[0m \u001B[43m        \u001B[49m\u001B[43mtolerance\u001B[49m\u001B[38;5;241;43m=\u001B[39;49m\u001B[43mtolerance\u001B[49m\u001B[43m,\u001B[49m\n\u001B[1;32m   5161\u001B[0m \u001B[43m    \u001B[49m\u001B[43m)\u001B[49m\n",
      "File \u001B[0;32m~/PycharmProjects/StoreSales/.venv/lib/python3.10/site-packages/pandas/core/generic.py:5610\u001B[0m, in \u001B[0;36mNDFrame.reindex\u001B[0;34m(self, labels, index, columns, axis, method, copy, level, fill_value, limit, tolerance)\u001B[0m\n\u001B[1;32m   5609\u001B[0m \u001B[38;5;66;03m# perform the reindex on the axes\u001B[39;00m\n\u001B[0;32m-> 5610\u001B[0m \u001B[38;5;28;01mreturn\u001B[39;00m \u001B[38;5;28;43mself\u001B[39;49m\u001B[38;5;241;43m.\u001B[39;49m\u001B[43m_reindex_axes\u001B[49m\u001B[43m(\u001B[49m\n\u001B[1;32m   5611\u001B[0m \u001B[43m    \u001B[49m\u001B[43maxes\u001B[49m\u001B[43m,\u001B[49m\u001B[43m \u001B[49m\u001B[43mlevel\u001B[49m\u001B[43m,\u001B[49m\u001B[43m \u001B[49m\u001B[43mlimit\u001B[49m\u001B[43m,\u001B[49m\u001B[43m \u001B[49m\u001B[43mtolerance\u001B[49m\u001B[43m,\u001B[49m\u001B[43m \u001B[49m\u001B[43mmethod\u001B[49m\u001B[43m,\u001B[49m\u001B[43m \u001B[49m\u001B[43mfill_value\u001B[49m\u001B[43m,\u001B[49m\u001B[43m \u001B[49m\u001B[43mcopy\u001B[49m\n\u001B[1;32m   5612\u001B[0m \u001B[43m\u001B[49m\u001B[43m)\u001B[49m\u001B[38;5;241m.\u001B[39m__finalize__(\u001B[38;5;28mself\u001B[39m, method\u001B[38;5;241m=\u001B[39m\u001B[38;5;124m\"\u001B[39m\u001B[38;5;124mreindex\u001B[39m\u001B[38;5;124m\"\u001B[39m)\n",
      "File \u001B[0;32m~/PycharmProjects/StoreSales/.venv/lib/python3.10/site-packages/pandas/core/generic.py:5633\u001B[0m, in \u001B[0;36mNDFrame._reindex_axes\u001B[0;34m(self, axes, level, limit, tolerance, method, fill_value, copy)\u001B[0m\n\u001B[1;32m   5632\u001B[0m ax \u001B[38;5;241m=\u001B[39m \u001B[38;5;28mself\u001B[39m\u001B[38;5;241m.\u001B[39m_get_axis(a)\n\u001B[0;32m-> 5633\u001B[0m new_index, indexer \u001B[38;5;241m=\u001B[39m \u001B[43max\u001B[49m\u001B[38;5;241;43m.\u001B[39;49m\u001B[43mreindex\u001B[49m\u001B[43m(\u001B[49m\n\u001B[1;32m   5634\u001B[0m \u001B[43m    \u001B[49m\u001B[43mlabels\u001B[49m\u001B[43m,\u001B[49m\u001B[43m \u001B[49m\u001B[43mlevel\u001B[49m\u001B[38;5;241;43m=\u001B[39;49m\u001B[43mlevel\u001B[49m\u001B[43m,\u001B[49m\u001B[43m \u001B[49m\u001B[43mlimit\u001B[49m\u001B[38;5;241;43m=\u001B[39;49m\u001B[43mlimit\u001B[49m\u001B[43m,\u001B[49m\u001B[43m \u001B[49m\u001B[43mtolerance\u001B[49m\u001B[38;5;241;43m=\u001B[39;49m\u001B[43mtolerance\u001B[49m\u001B[43m,\u001B[49m\u001B[43m \u001B[49m\u001B[43mmethod\u001B[49m\u001B[38;5;241;43m=\u001B[39;49m\u001B[43mmethod\u001B[49m\n\u001B[1;32m   5635\u001B[0m \u001B[43m\u001B[49m\u001B[43m)\u001B[49m\n\u001B[1;32m   5637\u001B[0m axis \u001B[38;5;241m=\u001B[39m \u001B[38;5;28mself\u001B[39m\u001B[38;5;241m.\u001B[39m_get_axis_number(a)\n",
      "File \u001B[0;32m~/PycharmProjects/StoreSales/.venv/lib/python3.10/site-packages/pandas/core/indexes/base.py:4433\u001B[0m, in \u001B[0;36mIndex.reindex\u001B[0;34m(self, target, method, level, limit, tolerance)\u001B[0m\n\u001B[1;32m   4431\u001B[0m             indexer, _ \u001B[38;5;241m=\u001B[39m \u001B[38;5;28mself\u001B[39m\u001B[38;5;241m.\u001B[39mget_indexer_non_unique(target)\n\u001B[0;32m-> 4433\u001B[0m target \u001B[38;5;241m=\u001B[39m \u001B[38;5;28;43mself\u001B[39;49m\u001B[38;5;241;43m.\u001B[39;49m\u001B[43m_wrap_reindex_result\u001B[49m\u001B[43m(\u001B[49m\u001B[43mtarget\u001B[49m\u001B[43m,\u001B[49m\u001B[43m \u001B[49m\u001B[43mindexer\u001B[49m\u001B[43m,\u001B[49m\u001B[43m \u001B[49m\u001B[43mpreserve_names\u001B[49m\u001B[43m)\u001B[49m\n\u001B[1;32m   4434\u001B[0m \u001B[38;5;28;01mreturn\u001B[39;00m target, indexer\n",
      "File \u001B[0;32m~/PycharmProjects/StoreSales/.venv/lib/python3.10/site-packages/pandas/core/indexes/multi.py:2717\u001B[0m, in \u001B[0;36mMultiIndex._wrap_reindex_result\u001B[0;34m(self, target, indexer, preserve_names)\u001B[0m\n\u001B[1;32m   2716\u001B[0m \u001B[38;5;28;01mtry\u001B[39;00m:\n\u001B[0;32m-> 2717\u001B[0m     target \u001B[38;5;241m=\u001B[39m \u001B[43mMultiIndex\u001B[49m\u001B[38;5;241;43m.\u001B[39;49m\u001B[43mfrom_tuples\u001B[49m\u001B[43m(\u001B[49m\u001B[43mtarget\u001B[49m\u001B[43m)\u001B[49m\n\u001B[1;32m   2718\u001B[0m \u001B[38;5;28;01mexcept\u001B[39;00m \u001B[38;5;167;01mTypeError\u001B[39;00m:\n\u001B[1;32m   2719\u001B[0m     \u001B[38;5;66;03m# not all tuples, see test_constructor_dict_multiindex_reindex_flat\u001B[39;00m\n",
      "File \u001B[0;32m~/PycharmProjects/StoreSales/.venv/lib/python3.10/site-packages/pandas/core/indexes/multi.py:222\u001B[0m, in \u001B[0;36mnames_compat.<locals>.new_meth\u001B[0;34m(self_or_cls, *args, **kwargs)\u001B[0m\n\u001B[1;32m    220\u001B[0m     kwargs[\u001B[38;5;124m\"\u001B[39m\u001B[38;5;124mnames\u001B[39m\u001B[38;5;124m\"\u001B[39m] \u001B[38;5;241m=\u001B[39m kwargs\u001B[38;5;241m.\u001B[39mpop(\u001B[38;5;124m\"\u001B[39m\u001B[38;5;124mname\u001B[39m\u001B[38;5;124m\"\u001B[39m)\n\u001B[0;32m--> 222\u001B[0m \u001B[38;5;28;01mreturn\u001B[39;00m \u001B[43mmeth\u001B[49m\u001B[43m(\u001B[49m\u001B[43mself_or_cls\u001B[49m\u001B[43m,\u001B[49m\u001B[43m \u001B[49m\u001B[38;5;241;43m*\u001B[39;49m\u001B[43margs\u001B[49m\u001B[43m,\u001B[49m\u001B[43m \u001B[49m\u001B[38;5;241;43m*\u001B[39;49m\u001B[38;5;241;43m*\u001B[39;49m\u001B[43mkwargs\u001B[49m\u001B[43m)\u001B[49m\n",
      "File \u001B[0;32m~/PycharmProjects/StoreSales/.venv/lib/python3.10/site-packages/pandas/core/indexes/multi.py:617\u001B[0m, in \u001B[0;36mMultiIndex.from_tuples\u001B[0;34m(cls, tuples, sortorder, names)\u001B[0m\n\u001B[1;32m    615\u001B[0m         tuples \u001B[38;5;241m=\u001B[39m np\u001B[38;5;241m.\u001B[39masarray(tuples\u001B[38;5;241m.\u001B[39m_values)\n\u001B[0;32m--> 617\u001B[0m     arrays \u001B[38;5;241m=\u001B[39m \u001B[38;5;28mlist\u001B[39m(\u001B[43mlib\u001B[49m\u001B[38;5;241;43m.\u001B[39;49m\u001B[43mtuples_to_object_array\u001B[49m\u001B[43m(\u001B[49m\u001B[43mtuples\u001B[49m\u001B[43m)\u001B[49m\u001B[38;5;241m.\u001B[39mT)\n\u001B[1;32m    618\u001B[0m \u001B[38;5;28;01melif\u001B[39;00m \u001B[38;5;28misinstance\u001B[39m(tuples, \u001B[38;5;28mlist\u001B[39m):\n",
      "File \u001B[0;32mlib.pyx:3029\u001B[0m, in \u001B[0;36mpandas._libs.lib.tuples_to_object_array\u001B[0;34m()\u001B[0m\n",
      "\u001B[0;31mValueError\u001B[0m: Buffer dtype mismatch, expected 'Python object' but got 'long'",
      "\nThe above exception was the direct cause of the following exception:\n",
      "\u001B[0;31mTypeError\u001B[0m                                 Traceback (most recent call last)",
      "\u001B[0;32m/tmp/ipykernel_5054/1855767572.py\u001B[0m in \u001B[0;36m?\u001B[0;34m()\u001B[0m\n\u001B[1;32m      1\u001B[0m \u001B[0mgroup_columns\u001B[0m \u001B[0;34m=\u001B[0m \u001B[0;34m[\u001B[0m\u001B[0;34m\"store_nbr\"\u001B[0m\u001B[0;34m,\u001B[0m \u001B[0;34m\"family\"\u001B[0m\u001B[0;34m]\u001B[0m\u001B[0;34m\u001B[0m\u001B[0;34m\u001B[0m\u001B[0m\n\u001B[1;32m      2\u001B[0m \u001B[0mn_values_for_mean\u001B[0m \u001B[0;34m=\u001B[0m \u001B[0;36m14\u001B[0m\u001B[0;34m\u001B[0m\u001B[0;34m\u001B[0m\u001B[0m\n\u001B[1;32m      3\u001B[0m \u001B[0;34m\u001B[0m\u001B[0m\n\u001B[0;32m----> 4\u001B[0;31m \u001B[0mpredict_df\u001B[0m \u001B[0;34m=\u001B[0m \u001B[0mpredict\u001B[0m\u001B[0;34m(\u001B[0m\u001B[0mtrain_df\u001B[0m\u001B[0;34m.\u001B[0m\u001B[0mcopy\u001B[0m\u001B[0;34m(\u001B[0m\u001B[0;34m)\u001B[0m\u001B[0;34m,\u001B[0m \u001B[0mgroup_columns\u001B[0m\u001B[0;34m,\u001B[0m \u001B[0mn_values_for_mean\u001B[0m\u001B[0;34m)\u001B[0m\u001B[0;34m\u001B[0m\u001B[0;34m\u001B[0m\u001B[0m\n\u001B[0m\u001B[1;32m      5\u001B[0m \u001B[0meval_prediction\u001B[0m\u001B[0;34m(\u001B[0m\u001B[0mpredict_df\u001B[0m\u001B[0;34m)\u001B[0m\u001B[0;34m\u001B[0m\u001B[0;34m\u001B[0m\u001B[0m\n",
      "\u001B[0;32m/tmp/ipykernel_5054/4269697777.py\u001B[0m in \u001B[0;36m?\u001B[0;34m(df, cols, window)\u001B[0m\n\u001B[1;32m      1\u001B[0m \u001B[0;32mdef\u001B[0m \u001B[0mpredict\u001B[0m\u001B[0;34m(\u001B[0m\u001B[0mdf\u001B[0m\u001B[0;34m:\u001B[0m \u001B[0mpd\u001B[0m\u001B[0;34m.\u001B[0m\u001B[0mDataFrame\u001B[0m\u001B[0;34m,\u001B[0m \u001B[0mcols\u001B[0m\u001B[0;34m:\u001B[0m \u001B[0mlist\u001B[0m\u001B[0;34m,\u001B[0m \u001B[0mwindow\u001B[0m\u001B[0;34m:\u001B[0m \u001B[0mint\u001B[0m\u001B[0;34m)\u001B[0m \u001B[0;34m->\u001B[0m \u001B[0mpd\u001B[0m\u001B[0;34m.\u001B[0m\u001B[0mDataFrame\u001B[0m\u001B[0;34m:\u001B[0m\u001B[0;34m\u001B[0m\u001B[0;34m\u001B[0m\u001B[0m\n\u001B[0;32m----> 2\u001B[0;31m     \u001B[0mdf\u001B[0m\u001B[0;34m[\u001B[0m\u001B[0;34m\"mean_sales\"\u001B[0m\u001B[0;34m]\u001B[0m \u001B[0;34m=\u001B[0m \u001B[0mdf\u001B[0m\u001B[0;34m.\u001B[0m\u001B[0mgroupby\u001B[0m\u001B[0;34m(\u001B[0m\u001B[0mcols\u001B[0m\u001B[0;34m)\u001B[0m\u001B[0;34m[\u001B[0m\u001B[0;34m\"sales\"\u001B[0m\u001B[0;34m]\u001B[0m\u001B[0;34m.\u001B[0m\u001B[0mrolling\u001B[0m\u001B[0;34m(\u001B[0m\u001B[0mwindow\u001B[0m\u001B[0;34m=\u001B[0m\u001B[0mwindow\u001B[0m\u001B[0;34m)\u001B[0m\u001B[0;34m.\u001B[0m\u001B[0mmean\u001B[0m\u001B[0;34m(\u001B[0m\u001B[0;34m)\u001B[0m\u001B[0;34m\u001B[0m\u001B[0;34m\u001B[0m\u001B[0m\n\u001B[0m\u001B[1;32m      3\u001B[0m     \u001B[0mshifted_mean_sales\u001B[0m \u001B[0;34m=\u001B[0m \u001B[0mdf\u001B[0m\u001B[0;34m.\u001B[0m\u001B[0mgroupby\u001B[0m\u001B[0;34m(\u001B[0m\u001B[0mcols\u001B[0m\u001B[0;34m)\u001B[0m\u001B[0;34m[\u001B[0m\u001B[0;34m\"mean_sales\"\u001B[0m\u001B[0;34m]\u001B[0m\u001B[0;34m.\u001B[0m\u001B[0mshift\u001B[0m\u001B[0;34m(\u001B[0m\u001B[0;36m1\u001B[0m\u001B[0;34m)\u001B[0m\u001B[0;34m\u001B[0m\u001B[0;34m\u001B[0m\u001B[0m\n\u001B[1;32m      4\u001B[0m     \u001B[0mdf\u001B[0m\u001B[0;34m[\u001B[0m\u001B[0mprediction_col_name\u001B[0m\u001B[0;34m]\u001B[0m \u001B[0;34m=\u001B[0m \u001B[0mshifted_mean_sales\u001B[0m\u001B[0;34m.\u001B[0m\u001B[0mreset_index\u001B[0m\u001B[0;34m(\u001B[0m\u001B[0mlevel\u001B[0m\u001B[0;34m=\u001B[0m\u001B[0mcols\u001B[0m\u001B[0;34m,\u001B[0m \u001B[0mdrop\u001B[0m\u001B[0;34m=\u001B[0m\u001B[0;32mTrue\u001B[0m\u001B[0;34m)\u001B[0m\u001B[0;34m\u001B[0m\u001B[0;34m\u001B[0m\u001B[0m\n\u001B[1;32m      5\u001B[0m     \u001B[0;31m# df.dropna(inplace=True)\u001B[0m\u001B[0;34m\u001B[0m\u001B[0;34m\u001B[0m\u001B[0m\n",
      "\u001B[0;32m~/PycharmProjects/StoreSales/.venv/lib/python3.10/site-packages/pandas/core/frame.py\u001B[0m in \u001B[0;36m?\u001B[0;34m(self, key, value)\u001B[0m\n\u001B[1;32m   4307\u001B[0m             \u001B[0;31m# Column to set is duplicated\u001B[0m\u001B[0;34m\u001B[0m\u001B[0;34m\u001B[0m\u001B[0m\n\u001B[1;32m   4308\u001B[0m             \u001B[0mself\u001B[0m\u001B[0;34m.\u001B[0m\u001B[0m_setitem_array\u001B[0m\u001B[0;34m(\u001B[0m\u001B[0;34m[\u001B[0m\u001B[0mkey\u001B[0m\u001B[0;34m]\u001B[0m\u001B[0;34m,\u001B[0m \u001B[0mvalue\u001B[0m\u001B[0;34m)\u001B[0m\u001B[0;34m\u001B[0m\u001B[0;34m\u001B[0m\u001B[0m\n\u001B[1;32m   4309\u001B[0m         \u001B[0;32melse\u001B[0m\u001B[0;34m:\u001B[0m\u001B[0;34m\u001B[0m\u001B[0;34m\u001B[0m\u001B[0m\n\u001B[1;32m   4310\u001B[0m             \u001B[0;31m# set column\u001B[0m\u001B[0;34m\u001B[0m\u001B[0;34m\u001B[0m\u001B[0m\n\u001B[0;32m-> 4311\u001B[0;31m             \u001B[0mself\u001B[0m\u001B[0;34m.\u001B[0m\u001B[0m_set_item\u001B[0m\u001B[0;34m(\u001B[0m\u001B[0mkey\u001B[0m\u001B[0;34m,\u001B[0m \u001B[0mvalue\u001B[0m\u001B[0;34m)\u001B[0m\u001B[0;34m\u001B[0m\u001B[0;34m\u001B[0m\u001B[0m\n\u001B[0m",
      "\u001B[0;32m~/PycharmProjects/StoreSales/.venv/lib/python3.10/site-packages/pandas/core/frame.py\u001B[0m in \u001B[0;36m?\u001B[0;34m(self, key, value)\u001B[0m\n\u001B[1;32m   4520\u001B[0m \u001B[0;34m\u001B[0m\u001B[0m\n\u001B[1;32m   4521\u001B[0m         \u001B[0mSeries\u001B[0m\u001B[0;34m/\u001B[0m\u001B[0mTimeSeries\u001B[0m \u001B[0mwill\u001B[0m \u001B[0mbe\u001B[0m \u001B[0mconformed\u001B[0m \u001B[0mto\u001B[0m \u001B[0mthe\u001B[0m \u001B[0mDataFrames\u001B[0m \u001B[0mindex\u001B[0m \u001B[0mto\u001B[0m\u001B[0;34m\u001B[0m\u001B[0;34m\u001B[0m\u001B[0m\n\u001B[1;32m   4522\u001B[0m         \u001B[0mensure\u001B[0m \u001B[0mhomogeneity\u001B[0m\u001B[0;34m.\u001B[0m\u001B[0;34m\u001B[0m\u001B[0;34m\u001B[0m\u001B[0m\n\u001B[1;32m   4523\u001B[0m         \"\"\"\n\u001B[0;32m-> 4524\u001B[0;31m         \u001B[0mvalue\u001B[0m\u001B[0;34m,\u001B[0m \u001B[0mrefs\u001B[0m \u001B[0;34m=\u001B[0m \u001B[0mself\u001B[0m\u001B[0;34m.\u001B[0m\u001B[0m_sanitize_column\u001B[0m\u001B[0;34m(\u001B[0m\u001B[0mvalue\u001B[0m\u001B[0;34m)\u001B[0m\u001B[0;34m\u001B[0m\u001B[0;34m\u001B[0m\u001B[0m\n\u001B[0m\u001B[1;32m   4525\u001B[0m \u001B[0;34m\u001B[0m\u001B[0m\n\u001B[1;32m   4526\u001B[0m         if (\n\u001B[1;32m   4527\u001B[0m             \u001B[0mkey\u001B[0m \u001B[0;32min\u001B[0m \u001B[0mself\u001B[0m\u001B[0;34m.\u001B[0m\u001B[0mcolumns\u001B[0m\u001B[0;34m\u001B[0m\u001B[0;34m\u001B[0m\u001B[0m\n",
      "\u001B[0;32m~/PycharmProjects/StoreSales/.venv/lib/python3.10/site-packages/pandas/core/frame.py\u001B[0m in \u001B[0;36m?\u001B[0;34m(self, value)\u001B[0m\n\u001B[1;32m   5259\u001B[0m         \u001B[0;32massert\u001B[0m \u001B[0;32mnot\u001B[0m \u001B[0misinstance\u001B[0m\u001B[0;34m(\u001B[0m\u001B[0mvalue\u001B[0m\u001B[0;34m,\u001B[0m \u001B[0mDataFrame\u001B[0m\u001B[0;34m)\u001B[0m\u001B[0;34m\u001B[0m\u001B[0;34m\u001B[0m\u001B[0m\n\u001B[1;32m   5260\u001B[0m         \u001B[0;32mif\u001B[0m \u001B[0mis_dict_like\u001B[0m\u001B[0;34m(\u001B[0m\u001B[0mvalue\u001B[0m\u001B[0;34m)\u001B[0m\u001B[0;34m:\u001B[0m\u001B[0;34m\u001B[0m\u001B[0;34m\u001B[0m\u001B[0m\n\u001B[1;32m   5261\u001B[0m             \u001B[0;32mif\u001B[0m \u001B[0;32mnot\u001B[0m \u001B[0misinstance\u001B[0m\u001B[0;34m(\u001B[0m\u001B[0mvalue\u001B[0m\u001B[0;34m,\u001B[0m \u001B[0mSeries\u001B[0m\u001B[0;34m)\u001B[0m\u001B[0;34m:\u001B[0m\u001B[0;34m\u001B[0m\u001B[0;34m\u001B[0m\u001B[0m\n\u001B[1;32m   5262\u001B[0m                 \u001B[0mvalue\u001B[0m \u001B[0;34m=\u001B[0m \u001B[0mSeries\u001B[0m\u001B[0;34m(\u001B[0m\u001B[0mvalue\u001B[0m\u001B[0;34m)\u001B[0m\u001B[0;34m\u001B[0m\u001B[0;34m\u001B[0m\u001B[0m\n\u001B[0;32m-> 5263\u001B[0;31m             \u001B[0;32mreturn\u001B[0m \u001B[0m_reindex_for_setitem\u001B[0m\u001B[0;34m(\u001B[0m\u001B[0mvalue\u001B[0m\u001B[0;34m,\u001B[0m \u001B[0mself\u001B[0m\u001B[0;34m.\u001B[0m\u001B[0mindex\u001B[0m\u001B[0;34m)\u001B[0m\u001B[0;34m\u001B[0m\u001B[0;34m\u001B[0m\u001B[0m\n\u001B[0m\u001B[1;32m   5264\u001B[0m \u001B[0;34m\u001B[0m\u001B[0m\n\u001B[1;32m   5265\u001B[0m         \u001B[0;32mif\u001B[0m \u001B[0mis_list_like\u001B[0m\u001B[0;34m(\u001B[0m\u001B[0mvalue\u001B[0m\u001B[0;34m)\u001B[0m\u001B[0;34m:\u001B[0m\u001B[0;34m\u001B[0m\u001B[0;34m\u001B[0m\u001B[0m\n\u001B[1;32m   5266\u001B[0m             \u001B[0mcom\u001B[0m\u001B[0;34m.\u001B[0m\u001B[0mrequire_length_match\u001B[0m\u001B[0;34m(\u001B[0m\u001B[0mvalue\u001B[0m\u001B[0;34m,\u001B[0m \u001B[0mself\u001B[0m\u001B[0;34m.\u001B[0m\u001B[0mindex\u001B[0m\u001B[0;34m)\u001B[0m\u001B[0;34m\u001B[0m\u001B[0;34m\u001B[0m\u001B[0m\n",
      "\u001B[0;32m~/PycharmProjects/StoreSales/.venv/lib/python3.10/site-packages/pandas/core/frame.py\u001B[0m in \u001B[0;36m?\u001B[0;34m(value, index)\u001B[0m\n\u001B[1;32m  12690\u001B[0m         \u001B[0;32mif\u001B[0m \u001B[0;32mnot\u001B[0m \u001B[0mvalue\u001B[0m\u001B[0;34m.\u001B[0m\u001B[0mindex\u001B[0m\u001B[0;34m.\u001B[0m\u001B[0mis_unique\u001B[0m\u001B[0;34m:\u001B[0m\u001B[0;34m\u001B[0m\u001B[0;34m\u001B[0m\u001B[0m\n\u001B[1;32m  12691\u001B[0m             \u001B[0;31m# duplicate axis\u001B[0m\u001B[0;34m\u001B[0m\u001B[0;34m\u001B[0m\u001B[0m\n\u001B[1;32m  12692\u001B[0m             \u001B[0;32mraise\u001B[0m \u001B[0merr\u001B[0m\u001B[0;34m\u001B[0m\u001B[0;34m\u001B[0m\u001B[0m\n\u001B[1;32m  12693\u001B[0m \u001B[0;34m\u001B[0m\u001B[0m\n\u001B[0;32m> 12694\u001B[0;31m         raise TypeError(\n\u001B[0m\u001B[1;32m  12695\u001B[0m             \u001B[0;34m\"incompatible index of inserted column with frame index\"\u001B[0m\u001B[0;34m\u001B[0m\u001B[0;34m\u001B[0m\u001B[0m\n\u001B[1;32m  12696\u001B[0m         ) from err\n\u001B[1;32m  12697\u001B[0m     \u001B[0;32mreturn\u001B[0m \u001B[0mreindexed_value\u001B[0m\u001B[0;34m,\u001B[0m \u001B[0;32mNone\u001B[0m\u001B[0;34m\u001B[0m\u001B[0;34m\u001B[0m\u001B[0m\n",
      "\u001B[0;31mTypeError\u001B[0m: incompatible index of inserted column with frame index"
     ]
    }
   ],
   "execution_count": 9
  },
  {
   "cell_type": "code",
   "execution_count": 192,
   "id": "35bf424f815d3e97",
   "metadata": {
    "ExecuteTime": {
     "end_time": "2024-09-25T06:48:30.784586Z",
     "start_time": "2024-09-25T06:48:30.655474Z"
    }
   },
   "outputs": [],
   "source": [
    "from sklearn.model_selection import TimeSeriesSplit, GridSearchCV"
   ]
  },
  {
   "cell_type": "code",
   "execution_count": 238,
   "id": "8cccaad9686a99e5",
   "metadata": {
    "ExecuteTime": {
     "end_time": "2024-09-25T07:35:18.292482Z",
     "start_time": "2024-09-25T07:35:18.269547Z"
    }
   },
   "outputs": [],
   "source": [
    "outer_cv = TimeSeriesSplit(n_splits=5, test_size=40)\n",
    "inner_cv = TimeSeriesSplit(n_splits=12, test_size=40)\n",
    "\n",
    "\n",
    "search_range = pd.date_range(train_df[\"date\"].min(), test_df[\"date\"].min(), freq=\"D\")\n",
    "\n",
    "# for train_idx, test_idx in outer_cv.split(search_range):\n",
    "#     train_con = train_df[\"date\"].isin(search_range[train_idx])\n",
    "#     test_con = train_df[\"date\"].isin(search_range[test_idx])\n",
    "#\n",
    "#     X_train = train_df[train_con].copy()\n",
    "#     X_test = predict_df[test_con].copy()\n",
    "#\n",
    "#\n",
    "#\n",
    "#     y_train = predict_df[train_con][\"sales\"]\n",
    "#     y_test = predict_df[test_con][\"sales\"]"
   ]
  },
  {
   "cell_type": "markdown",
   "id": "4e38d7922b1633de",
   "metadata": {},
   "source": "## 1) Mean Prediction"
  },
  {
   "cell_type": "code",
   "execution_count": 33,
   "id": "afe2e908e8c69630",
   "metadata": {
    "ExecuteTime": {
     "end_time": "2024-09-24T08:26:44.459714Z",
     "start_time": "2024-09-24T08:26:44.429811Z"
    }
   },
   "outputs": [],
   "source": [
    "submission_file_name = \"all_period_mean_submission.csv\""
   ]
  },
  {
   "cell_type": "code",
   "execution_count": 34,
   "id": "1bd0274888c7a47c",
   "metadata": {
    "ExecuteTime": {
     "end_time": "2024-09-24T08:26:45.059782Z",
     "start_time": "2024-09-24T08:26:44.795785Z"
    }
   },
   "outputs": [],
   "source": [
    "all_period_mean_submission_df = sample_submission_df.copy()\n",
    "columns = [\"store_nbr\", \"family\"]\n",
    "\n",
    "mean_sales_per_store = train_df.groupby(columns)[\"sales\"].mean()\n",
    "prediction = test_df.merge(mean_sales_per_store, on=columns, how=\"left\")\n",
    "prediction.set_index(\"id\", inplace=True)\n",
    "\n",
    "all_period_mean_submission_df[\"sales\"] = prediction[\"sales\"]"
   ]
  },
  {
   "cell_type": "code",
   "execution_count": 35,
   "id": "902fc8dd16c054f3",
   "metadata": {
    "ExecuteTime": {
     "end_time": "2024-09-24T08:26:45.678171Z",
     "start_time": "2024-09-24T08:26:45.597570Z"
    }
   },
   "outputs": [],
   "source": [
    "submission_path = os.path.join(SUBMISSIONS_PATH, submission_file_name)\n",
    "all_period_mean_submission_df.to_csv(submission_path)"
   ]
  },
  {
   "cell_type": "markdown",
   "id": "1f3e9934b4ffd472",
   "metadata": {},
   "source": "## 2) Mean Sales Per Last Period"
  },
  {
   "cell_type": "code",
   "execution_count": 36,
   "id": "d2182eadee58f132",
   "metadata": {
    "ExecuteTime": {
     "end_time": "2024-09-24T08:33:58.544496Z",
     "start_time": "2024-09-24T08:33:58.520340Z"
    }
   },
   "outputs": [],
   "source": [
    "period_length = [7, 14, 30, 50, 70]  # days\n",
    "submission_file_name = \"last_period_mean_submission\""
   ]
  },
  {
   "cell_type": "code",
   "execution_count": 38,
   "id": "555dedec55717ea7",
   "metadata": {
    "ExecuteTime": {
     "end_time": "2024-09-24T08:34:22.801653Z",
     "start_time": "2024-09-24T08:34:22.418044Z"
    }
   },
   "outputs": [],
   "source": [
    "last_period_mean_submission_df = sample_submission_df.copy()\n",
    "columns = [\"store_nbr\", \"family\"]\n",
    "\n",
    "for period in period_length:\n",
    "    date_condition = train_df[\"date\"] > train_df[\"date\"].max() - pd.Timedelta(\n",
    "        days=period\n",
    "    )\n",
    "    mean_sales_per_store = train_df[date_condition].groupby(columns)[\"sales\"].mean()\n",
    "    prediction = test_df.merge(mean_sales_per_store, on=columns, how=\"left\")\n",
    "    prediction.set_index(\"id\", inplace=True)\n",
    "\n",
    "    last_period_mean_submission_df[\"sales\"] = prediction[\"sales\"]\n",
    "\n",
    "    submission_path = os.path.join(\n",
    "        SUBMISSIONS_PATH, f\"{submission_file_name}_{period}_days.csv\"\n",
    "    )\n",
    "    last_period_mean_submission_df.to_csv(submission_path)"
   ]
  },
  {
   "cell_type": "markdown",
   "id": "6ca6a65ea5bfd242",
   "metadata": {},
   "source": "## 3) Mean Sales For Each Day Of The Week"
  },
  {
   "cell_type": "code",
   "execution_count": 1,
   "id": "1f0d3fa51401dfa6",
   "metadata": {
    "ExecuteTime": {
     "end_time": "2024-09-25T05:48:23.294413Z",
     "start_time": "2024-09-25T05:48:23.292155Z"
    }
   },
   "outputs": [],
   "source": [
    "submission_file_name = \"day_of_week_mean_submission\""
   ]
  },
  {
   "cell_type": "code",
   "execution_count": null,
   "id": "59f0f8304d90e5d5",
   "metadata": {},
   "outputs": [],
   "source": []
  },
  {
   "metadata": {},
   "cell_type": "markdown",
   "source": "# Facebook Prophet",
   "id": "470f676d24273a0a"
  },
  {
   "metadata": {
    "ExecuteTime": {
     "end_time": "2024-09-26T07:11:42.794197Z",
     "start_time": "2024-09-26T07:11:42.745215Z"
    }
   },
   "cell_type": "code",
   "source": "from prophet import Prophet",
   "id": "cb25288e6efef3bb",
   "outputs": [],
   "execution_count": 5
  },
  {
   "metadata": {},
   "cell_type": "markdown",
   "source": "## run prophet for each store - family pair",
   "id": "cb03167ce74413b4"
  },
  {
   "metadata": {
    "ExecuteTime": {
     "end_time": "2024-09-26T07:19:48.161027Z",
     "start_time": "2024-09-26T07:19:48.143463Z"
    }
   },
   "cell_type": "code",
   "source": [
    "def run_prophet(x_train_df: pd.DataFrame, x_test_df: pd.DataFrame):\n",
    "    date_range = pd.date_range(start=test_df[\"date\"].min(), end=test_df[\"date\"].max(), freq=\"D\")\n",
    "    future = pd.DataFrame(date_range, columns=[\"ds\"])\n",
    "    \n",
    "    for (store_nbr, family), group in x_train_df.groupby([\"store_nbr\", \"family\"]):\n",
    "        \n",
    "        x_prophet_df = group[[\"date\", \"sales\"]].copy()\n",
    "        x_prophet_df.rename(columns={\"date\": \"ds\", \"sales\": \"y\"}, inplace=True)\n",
    "        \n",
    "        m = Prophet()\n",
    "        m.fit(x_prophet_df)\n",
    "        \n",
    "        # Filter test_df for corresponding store_nbr and family\n",
    "        test_subset = x_test_df[(x_test_df[\"store_nbr\"] == store_nbr) & (x_test_df[\"family\"] == family)]\n",
    "        \n",
    "                \n",
    "        # Predict sales for future dates\n",
    "        forecast = m.predict(future)\n",
    "        \n",
    "        # Add store_nbr and family columns back to the forecast\n",
    "        forecast[\"store_nbr\"] = store_nbr\n",
    "        forecast[\"family\"] = family\n",
    "        \n",
    "        # Select the relevant columns: 'ds' (date) and 'yhat' (forecasted sales)\n",
    "        results.append(forecast[[\"ds\", \"yhat\", \"store_nbr\", \"family\"]])\n",
    "\n",
    "    # Concatenate all the forecast results\n",
    "    forecast_df = pd.concat(results)\n",
    "    \n",
    "    # Merge the forecast back with the test_df\n",
    "    final_df = x_test_df.merge(forecast_df, left_on=[\"date\", \"store_nbr\", \"family\"], right_on=[\"ds\", \"store_nbr\", \"family\"], how=\"left\")\n",
    "    \n",
    "    # Drop the 'ds' column, as it's redundant after the merge\n",
    "    final_df.drop(columns=[\"ds\"], inplace=True)\n",
    "\n",
    "    return final_df\n"
   ],
   "id": "368d2a021f245e60",
   "outputs": [],
   "execution_count": 15
  },
  {
   "metadata": {
    "ExecuteTime": {
     "end_time": "2024-09-26T07:19:49.261426Z",
     "start_time": "2024-09-26T07:19:48.504538Z"
    }
   },
   "cell_type": "code",
   "source": "run_prophet(train_df, test_df)",
   "id": "6af25fc725ca4fed",
   "outputs": [
    {
     "name": "stderr",
     "output_type": "stream",
     "text": [
      "10:19:49 - cmdstanpy - INFO - Chain [1] start processing\n",
      "10:19:49 - cmdstanpy - INFO - Chain [1] done processing\n"
     ]
    },
    {
     "name": "stdout",
     "output_type": "stream",
     "text": [
      "             ds\n",
      "1695 2017-08-27\n",
      "1696 2017-08-28\n",
      "1697 2017-08-29\n",
      "1698 2017-08-30\n",
      "1699 2017-08-31\n"
     ]
    }
   ],
   "execution_count": 16
  },
  {
   "metadata": {
    "ExecuteTime": {
     "end_time": "2024-09-26T08:04:18.123526Z",
     "start_time": "2024-09-26T08:04:18.079997Z"
    }
   },
   "cell_type": "code",
   "source": [
    "import itertools\n",
    "from tqdm import tqdm\n",
    "import logging"
   ],
   "id": "fdac8a9a34167457",
   "outputs": [],
   "execution_count": 63
  },
  {
   "metadata": {
    "ExecuteTime": {
     "end_time": "2024-09-26T08:04:18.399019Z",
     "start_time": "2024-09-26T08:04:18.375124Z"
    }
   },
   "cell_type": "code",
   "source": [
    "logging.getLogger('prophet').setLevel(logging.ERROR)\n",
    "logging.getLogger('cmdstanpy').setLevel(logging.ERROR)"
   ],
   "id": "4d56359875619630",
   "outputs": [],
   "execution_count": 64
  },
  {
   "metadata": {
    "ExecuteTime": {
     "end_time": "2024-09-26T08:01:57.423026Z",
     "start_time": "2024-09-26T08:01:57.397723Z"
    }
   },
   "cell_type": "code",
   "source": [
    "prophet_submission_file = \"prophet_submission.csv\"\n",
    "prophet_submission_df = sample_submission_df.copy()"
   ],
   "id": "a361d18994587a0e",
   "outputs": [],
   "execution_count": 59
  },
  {
   "metadata": {
    "ExecuteTime": {
     "end_time": "2024-09-26T08:01:57.834514Z",
     "start_time": "2024-09-26T08:01:57.817583Z"
    }
   },
   "cell_type": "code",
   "source": [
    "train_groups = train_df.groupby([\"store_nbr\", \"family\"])\n",
    "test_groups = test_df.groupby([\"store_nbr\", \"family\"])"
   ],
   "id": "83ee9e7b3f64e892",
   "outputs": [],
   "execution_count": 60
  },
  {
   "metadata": {
    "ExecuteTime": {
     "end_time": "2024-09-26T08:02:01.787823Z",
     "start_time": "2024-09-26T08:02:01.593878Z"
    }
   },
   "cell_type": "code",
   "source": [
    "stores = train_df[\"store_nbr\"].unique()\n",
    "families = train_df[\"family\"].unique()"
   ],
   "id": "3a28ee2776de5e33",
   "outputs": [],
   "execution_count": 61
  },
  {
   "metadata": {
    "ExecuteTime": {
     "end_time": "2024-09-26T08:11:29.118940Z",
     "start_time": "2024-09-26T08:04:20.786905Z"
    }
   },
   "cell_type": "code",
   "source": [
    "for store_nbr, family in tqdm(itertools.product(stores, families), total=len(stores) * len(families)):\n",
    "    train_group = train_groups.get_group((store_nbr, family))\n",
    "    test_group = test_groups.get_group((store_nbr, family))\n",
    "    \n",
    "    test_group = test_group.rename(columns={\"date\": \"ds\"})\n",
    "    \n",
    "    train_group = train_group[[\"date\", \"sales\"]].copy()\n",
    "    train_group.rename(columns={\"date\": \"ds\", \"sales\": \"y\"}, inplace=True)\n",
    "    \n",
    "    m = Prophet()\n",
    "    m.fit(train_group)\n",
    "    \n",
    "    forecast = m.predict(test_group)\n",
    "    forecast.set_index(\"ds\", inplace=True)\n",
    "    test_group.set_index(\"ds\", inplace=True)\n",
    "    \n",
    "    test_group[\"yhat\"] = forecast[\"yhat\"]\n",
    "    test_group.set_index(\"id\", inplace=True)\n",
    "    \n",
    "    prophet_submission_df.loc[test_group.index, \"sales\"] = test_group[\"yhat\"]"
   ],
   "id": "72b0867f05da2efc",
   "outputs": [
    {
     "name": "stderr",
     "output_type": "stream",
     "text": [
      "100%|██████████| 1782/1782 [07:08<00:00,  4.16it/s]\n"
     ]
    }
   ],
   "execution_count": 65
  },
  {
   "metadata": {
    "ExecuteTime": {
     "end_time": "2024-09-26T08:11:50.111313Z",
     "start_time": "2024-09-26T08:11:50.051939Z"
    }
   },
   "cell_type": "code",
   "source": "prophet_submission_df.to_csv(os.path.join(SUBMISSIONS_PATH, prophet_submission_file))",
   "id": "bc5d654ac4d392d3",
   "outputs": [],
   "execution_count": 67
  },
  {
   "metadata": {},
   "cell_type": "code",
   "outputs": [],
   "execution_count": null,
   "source": "",
   "id": "1f66a855e7d1e514"
  }
 ],
 "metadata": {
  "kernelspec": {
   "display_name": "Python 3",
   "language": "python",
   "name": "python3"
  },
  "language_info": {
   "codemirror_mode": {
    "name": "ipython",
    "version": 2
   },
   "file_extension": ".py",
   "mimetype": "text/x-python",
   "name": "python",
   "nbconvert_exporter": "python",
   "pygments_lexer": "ipython2",
   "version": "2.7.6"
  }
 },
 "nbformat": 4,
 "nbformat_minor": 5
}
