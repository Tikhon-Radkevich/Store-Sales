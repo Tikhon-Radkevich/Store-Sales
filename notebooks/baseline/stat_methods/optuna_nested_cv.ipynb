{
 "cells": [
  {
   "cell_type": "markdown",
   "id": "7944a50b18bda6a9",
   "metadata": {},
   "source": "## Notebook Configuration && Imports"
  },
  {
   "cell_type": "code",
   "id": "6a0eb6f080485bd8",
   "metadata": {
    "ExecuteTime": {
     "end_time": "2024-10-07T10:24:47.352861Z",
     "start_time": "2024-10-07T10:24:47.213952Z"
    }
   },
   "source": [
    "%load_ext autoreload\n",
    "%autoreload 2"
   ],
   "outputs": [
    {
     "name": "stdout",
     "output_type": "stream",
     "text": [
      "The autoreload extension is already loaded. To reload it, use:\n",
      "  %reload_ext autoreload\n"
     ]
    }
   ],
   "execution_count": 19
  },
  {
   "metadata": {
    "ExecuteTime": {
     "end_time": "2024-10-07T10:24:47.559913Z",
     "start_time": "2024-10-07T10:24:47.557606Z"
    }
   },
   "cell_type": "code",
   "source": "",
   "id": "fe3b0327f7945a2",
   "outputs": [],
   "execution_count": 19
  },
  {
   "cell_type": "code",
   "id": "initial_id",
   "metadata": {
    "ExecuteTime": {
     "end_time": "2024-10-07T10:24:47.734372Z",
     "start_time": "2024-10-07T10:24:47.710520Z"
    }
   },
   "source": [
    "import logging\n",
    "\n",
    "import numpy as np\n",
    "\n",
    "import optuna\n",
    "from sklearn.model_selection import TimeSeriesSplit\n",
    "\n",
    "from storesales.baseline.sales_predictor import SalesPredictor\n",
    "from storesales.baseline.utils import run_study, load_baseline_data, load_submission\n",
    "from storesales.baseline.model_wrappers import (\n",
    "    DailyMeanModelWrapper,\n",
    "    ProphetWrapper,\n",
    "    DayOfWeekMeanModelWrapper,\n",
    ")\n",
    "from storesales.baseline.param_suggestions import (\n",
    "    IntSuggestions,\n",
    "    FloatSuggestions,\n",
    "    CategoricalSuggestions,\n",
    ")\n",
    "from storesales.baseline.constants import FAMILY_GROUPS, N_STORES\n",
    "from storesales.constants import SUBMISSIONS_PATH"
   ],
   "outputs": [],
   "execution_count": 20
  },
  {
   "cell_type": "markdown",
   "id": "ab95d6eba147ea53",
   "metadata": {},
   "source": "## Load && Prepare Data"
  },
  {
   "cell_type": "code",
   "id": "e9af06351917d9c5",
   "metadata": {
    "ExecuteTime": {
     "end_time": "2024-10-07T10:24:50.577180Z",
     "start_time": "2024-10-07T10:24:48.024193Z"
    }
   },
   "source": "train_df, test_df, holidays_df = load_baseline_data()",
   "outputs": [],
   "execution_count": 21
  },
  {
   "cell_type": "markdown",
   "id": "ff226149104c2932",
   "metadata": {},
   "source": "## Prepare SalesPredictor"
  },
  {
   "cell_type": "code",
   "id": "f1fa5fb0e9d2da12",
   "metadata": {
    "ExecuteTime": {
     "end_time": "2024-10-07T10:24:50.599141Z",
     "start_time": "2024-10-07T10:24:50.579080Z"
    }
   },
   "source": "initial = \"760 days\"  # train period",
   "outputs": [],
   "execution_count": 22
  },
  {
   "metadata": {},
   "cell_type": "markdown",
   "source": "### DailyMeanModelWrapper",
   "id": "cfac7dd33e54e09b"
  },
  {
   "metadata": {
    "ExecuteTime": {
     "end_time": "2024-10-07T10:24:50.619222Z",
     "start_time": "2024-10-07T10:24:50.600791Z"
    }
   },
   "cell_type": "code",
   "source": "daily_mean_int_suggestions = [IntSuggestions(\"window\", 3, 60)]",
   "id": "affc96514997b59",
   "outputs": [],
   "execution_count": 23
  },
  {
   "metadata": {
    "ExecuteTime": {
     "end_time": "2024-10-07T10:24:50.642417Z",
     "start_time": "2024-10-07T10:24:50.621225Z"
    }
   },
   "cell_type": "code",
   "source": "daily_wrapper = DailyMeanModelWrapper(int_suggestions=daily_mean_int_suggestions)",
   "id": "16ec88e6c287f411",
   "outputs": [],
   "execution_count": 24
  },
  {
   "metadata": {},
   "cell_type": "markdown",
   "source": "### DayOfWeekMeanModelWrapper",
   "id": "4dd5909dd8b1acd9"
  },
  {
   "metadata": {
    "ExecuteTime": {
     "end_time": "2024-10-07T10:24:50.664284Z",
     "start_time": "2024-10-07T10:24:50.644178Z"
    }
   },
   "cell_type": "code",
   "source": [
    "day_of_week_mean_int_suggestions = [\n",
    "    IntSuggestions(\"weekdays_window\", 3, 50),\n",
    "    IntSuggestions(\"weekends_window\", 1, 10),\n",
    "]"
   ],
   "id": "3da1182d5d397c6d",
   "outputs": [],
   "execution_count": 25
  },
  {
   "metadata": {
    "ExecuteTime": {
     "end_time": "2024-10-07T10:24:50.687211Z",
     "start_time": "2024-10-07T10:24:50.665694Z"
    }
   },
   "cell_type": "code",
   "source": [
    "day_of_week_wrapper = DayOfWeekMeanModelWrapper(\n",
    "    int_suggestions=day_of_week_mean_int_suggestions\n",
    ")"
   ],
   "id": "66c125d1cd120bf9",
   "outputs": [],
   "execution_count": 26
  },
  {
   "metadata": {},
   "cell_type": "markdown",
   "source": "### ProphetWrapper",
   "id": "132a210e8124fb6d"
  },
  {
   "metadata": {
    "ExecuteTime": {
     "end_time": "2024-10-07T10:24:50.705381Z",
     "start_time": "2024-10-07T10:24:50.688713Z"
    }
   },
   "cell_type": "code",
   "source": [
    "prophet_int_suggestions = [\n",
    "    IntSuggestions(\"n_changepoints\", 20, 50),\n",
    "]\n",
    "prophet_float_suggestions = [\n",
    "    FloatSuggestions(\"changepoint_prior_scale\", 0.01, 0.5),\n",
    "    FloatSuggestions(\"holidays_prior_scale\", 5, 80),\n",
    "    FloatSuggestions(\"seasonality_prior_scale\", 5, 80),\n",
    "]\n",
    "prophet_categorical_suggestions = [\n",
    "    CategoricalSuggestions(\"seasonality_mode\", [\"additive\", \"multiplicative\"]),\n",
    "]"
   ],
   "id": "3903a9df31004de5",
   "outputs": [],
   "execution_count": 27
  },
  {
   "metadata": {
    "ExecuteTime": {
     "end_time": "2024-10-07T10:24:50.731480Z",
     "start_time": "2024-10-07T10:24:50.706808Z"
    }
   },
   "cell_type": "code",
   "source": [
    "prophet_wrapper = ProphetWrapper(\n",
    "    initial=initial,\n",
    "    extra_regressors=[\"dcoilwtico\"],\n",
    "    holidays=holidays_df,\n",
    "    int_suggestions=prophet_int_suggestions,\n",
    "    float_suggestions=prophet_float_suggestions,\n",
    "    categorical_suggestions=prophet_categorical_suggestions,\n",
    ")"
   ],
   "id": "80e54abbc02fd7b4",
   "outputs": [],
   "execution_count": 28
  },
  {
   "metadata": {},
   "cell_type": "markdown",
   "source": "### SalesPredictor",
   "id": "379a12ab271cd53b"
  },
  {
   "cell_type": "code",
   "id": "743ef8dc4ac6870c",
   "metadata": {
    "ExecuteTime": {
     "end_time": "2024-10-07T10:24:50.867037Z",
     "start_time": "2024-10-07T10:24:50.848792Z"
    }
   },
   "source": [
    "model_wrappers = {\n",
    "    DailyMeanModelWrapper.__name__: daily_wrapper,\n",
    "    DayOfWeekMeanModelWrapper.__name__: day_of_week_wrapper,\n",
    "    ProphetWrapper.__name__: prophet_wrapper,\n",
    "}\n",
    "\n",
    "optuna_optimize_kwargs = dict(\n",
    "    n_trials=100,\n",
    "    show_progress_bar=True,\n",
    "    timeout=45,\n",
    "    n_jobs=1,\n",
    ")\n",
    "\n",
    "predictor = SalesPredictor(\n",
    "    model_wrappers=model_wrappers,\n",
    "    family_groups=FAMILY_GROUPS,\n",
    "    inner_cutoffs=[-180, -49, -33, -17],\n",
    "    outer_cv=TimeSeriesSplit(n_splits=3, test_size=16),\n",
    "    optuna_optimize_kwargs=optuna_optimize_kwargs,\n",
    "    n_group_store_family_choices=4,\n",
    "    n_single_store_family_choices=2,\n",
    ")"
   ],
   "outputs": [],
   "execution_count": 29
  },
  {
   "metadata": {},
   "cell_type": "markdown",
   "source": "## Run Study",
   "id": "6dc90224db392c2e"
  },
  {
   "cell_type": "code",
   "id": "f1f5bb81aa492e35",
   "metadata": {},
   "source": [
    "optuna.logging.set_verbosity(optuna.logging.WARN)\n",
    "logging.getLogger(\"cmdstanpy\").setLevel(logging.WARNING)\n",
    "\n",
    "sales_predictor = run_study(train_df, predictor, n_stores=N_STORES)"
   ],
   "outputs": [],
   "execution_count": null
  },
  {
   "cell_type": "code",
   "execution_count": 29,
   "id": "e2eb3901c6f96857",
   "metadata": {
    "ExecuteTime": {
     "end_time": "2024-10-06T14:06:47.823211Z",
     "start_time": "2024-10-06T14:06:47.799391Z"
    }
   },
   "outputs": [
    {
     "data": {
      "text/plain": [
       "0.39114943199351826"
      ]
     },
     "execution_count": 29,
     "metadata": {},
     "output_type": "execute_result"
    }
   ],
   "source": [
    "losses = [value[\"loss\"] for _key, value in sales_predictor.best_storage.items()]\n",
    "np.mean(losses)"
   ]
  },
  {
   "cell_type": "code",
   "execution_count": 30,
   "id": "deff291218ffd46f",
   "metadata": {
    "ExecuteTime": {
     "end_time": "2024-10-06T14:06:58.830234Z",
     "start_time": "2024-10-06T14:06:58.797751Z"
    }
   },
   "outputs": [
    {
     "data": {
      "text/plain": [
       "{'AUTOMOTIVE': {'params': {'model': 'ProphetWrapper',\n",
       "   'n_changepoints': 31,\n",
       "   'changepoint_prior_scale': 0.27682195608032306,\n",
       "   'holidays_prior_scale': 37.57673718031002,\n",
       "   'seasonality_prior_scale': 45.98135777486151,\n",
       "   'seasonality_mode': 'additive'},\n",
       "  'loss': 0.23604517598612076},\n",
       " 'CLEANING': {'params': {'model': 'ProphetWrapper',\n",
       "   'n_changepoints': 31,\n",
       "   'changepoint_prior_scale': 0.27682195608032306,\n",
       "   'holidays_prior_scale': 37.57673718031002,\n",
       "   'seasonality_prior_scale': 45.98135777486151,\n",
       "   'seasonality_mode': 'additive'},\n",
       "  'loss': 0.23604517598612076},\n",
       " 'DELI': {'params': {'model': 'ProphetWrapper',\n",
       "   'n_changepoints': 31,\n",
       "   'changepoint_prior_scale': 0.27682195608032306,\n",
       "   'holidays_prior_scale': 37.57673718031002,\n",
       "   'seasonality_prior_scale': 45.98135777486151,\n",
       "   'seasonality_mode': 'additive'},\n",
       "  'loss': 0.23604517598612076},\n",
       " 'GROCERY I': {'params': {'model': 'ProphetWrapper',\n",
       "   'n_changepoints': 31,\n",
       "   'changepoint_prior_scale': 0.27682195608032306,\n",
       "   'holidays_prior_scale': 37.57673718031002,\n",
       "   'seasonality_prior_scale': 45.98135777486151,\n",
       "   'seasonality_mode': 'additive'},\n",
       "  'loss': 0.23604517598612076},\n",
       " 'PERSONAL CARE': {'params': {'model': 'ProphetWrapper',\n",
       "   'n_changepoints': 31,\n",
       "   'changepoint_prior_scale': 0.27682195608032306,\n",
       "   'holidays_prior_scale': 37.57673718031002,\n",
       "   'seasonality_prior_scale': 45.98135777486151,\n",
       "   'seasonality_mode': 'additive'},\n",
       "  'loss': 0.23604517598612076},\n",
       " 'PREPARED FOODS': {'params': {'model': 'ProphetWrapper',\n",
       "   'n_changepoints': 31,\n",
       "   'changepoint_prior_scale': 0.27682195608032306,\n",
       "   'holidays_prior_scale': 37.57673718031002,\n",
       "   'seasonality_prior_scale': 45.98135777486151,\n",
       "   'seasonality_mode': 'additive'},\n",
       "  'loss': 0.23604517598612076},\n",
       " 'BEAUTY': {'params': {'model': 'ProphetWrapper',\n",
       "   'n_changepoints': 36,\n",
       "   'changepoint_prior_scale': 0.11008887519429712,\n",
       "   'holidays_prior_scale': 34.367185792042456,\n",
       "   'seasonality_prior_scale': 42.90493811678851,\n",
       "   'seasonality_mode': 'additive'},\n",
       "  'loss': 0.38224012626724296},\n",
       " 'BEVERAGES': {'params': {'model': 'ProphetWrapper',\n",
       "   'n_changepoints': 36,\n",
       "   'changepoint_prior_scale': 0.11008887519429712,\n",
       "   'holidays_prior_scale': 34.367185792042456,\n",
       "   'seasonality_prior_scale': 42.90493811678851,\n",
       "   'seasonality_mode': 'additive'},\n",
       "  'loss': 0.38224012626724296},\n",
       " 'BREAD/BAKERY': {'params': {'model': 'ProphetWrapper',\n",
       "   'n_changepoints': 36,\n",
       "   'changepoint_prior_scale': 0.11008887519429712,\n",
       "   'holidays_prior_scale': 34.367185792042456,\n",
       "   'seasonality_prior_scale': 42.90493811678851,\n",
       "   'seasonality_mode': 'additive'},\n",
       "  'loss': 0.38224012626724296},\n",
       " 'DAIRY': {'params': {'model': 'ProphetWrapper',\n",
       "   'n_changepoints': 36,\n",
       "   'changepoint_prior_scale': 0.11008887519429712,\n",
       "   'holidays_prior_scale': 34.367185792042456,\n",
       "   'seasonality_prior_scale': 42.90493811678851,\n",
       "   'seasonality_mode': 'additive'},\n",
       "  'loss': 0.38224012626724296},\n",
       " 'EGGS': {'params': {'model': 'ProphetWrapper',\n",
       "   'n_changepoints': 36,\n",
       "   'changepoint_prior_scale': 0.11008887519429712,\n",
       "   'holidays_prior_scale': 34.367185792042456,\n",
       "   'seasonality_prior_scale': 42.90493811678851,\n",
       "   'seasonality_mode': 'additive'},\n",
       "  'loss': 0.38224012626724296},\n",
       " 'POULTRY': {'params': {'model': 'ProphetWrapper',\n",
       "   'n_changepoints': 36,\n",
       "   'changepoint_prior_scale': 0.11008887519429712,\n",
       "   'holidays_prior_scale': 34.367185792042456,\n",
       "   'seasonality_prior_scale': 42.90493811678851,\n",
       "   'seasonality_mode': 'additive'},\n",
       "  'loss': 0.38224012626724296},\n",
       " 'CELEBRATION': {'params': {'model': 'ProphetWrapper',\n",
       "   'n_changepoints': 33,\n",
       "   'changepoint_prior_scale': 0.1646226213797871,\n",
       "   'holidays_prior_scale': 42.93072491630116,\n",
       "   'seasonality_prior_scale': 40.526292566752595,\n",
       "   'seasonality_mode': 'additive'},\n",
       "  'loss': 0.38447426412693564},\n",
       " 'HOME CARE': {'params': {'model': 'ProphetWrapper',\n",
       "   'n_changepoints': 33,\n",
       "   'changepoint_prior_scale': 0.1646226213797871,\n",
       "   'holidays_prior_scale': 42.93072491630116,\n",
       "   'seasonality_prior_scale': 40.526292566752595,\n",
       "   'seasonality_mode': 'additive'},\n",
       "  'loss': 0.38447426412693564},\n",
       " 'LADIESWEAR': {'params': {'model': 'ProphetWrapper',\n",
       "   'n_changepoints': 33,\n",
       "   'changepoint_prior_scale': 0.1646226213797871,\n",
       "   'holidays_prior_scale': 42.93072491630116,\n",
       "   'seasonality_prior_scale': 40.526292566752595,\n",
       "   'seasonality_mode': 'additive'},\n",
       "  'loss': 0.38447426412693564},\n",
       " 'PET SUPPLIES': {'params': {'model': 'ProphetWrapper',\n",
       "   'n_changepoints': 33,\n",
       "   'changepoint_prior_scale': 0.1646226213797871,\n",
       "   'holidays_prior_scale': 42.93072491630116,\n",
       "   'seasonality_prior_scale': 40.526292566752595,\n",
       "   'seasonality_mode': 'additive'},\n",
       "  'loss': 0.38447426412693564},\n",
       " 'PLAYERS AND ELECTRONICS': {'params': {'model': 'ProphetWrapper',\n",
       "   'n_changepoints': 33,\n",
       "   'changepoint_prior_scale': 0.1646226213797871,\n",
       "   'holidays_prior_scale': 42.93072491630116,\n",
       "   'seasonality_prior_scale': 40.526292566752595,\n",
       "   'seasonality_mode': 'additive'},\n",
       "  'loss': 0.38447426412693564},\n",
       " 'PRODUCE': {'params': {'model': 'ProphetWrapper',\n",
       "   'n_changepoints': 33,\n",
       "   'changepoint_prior_scale': 0.1646226213797871,\n",
       "   'holidays_prior_scale': 42.93072491630116,\n",
       "   'seasonality_prior_scale': 40.526292566752595,\n",
       "   'seasonality_mode': 'additive'},\n",
       "  'loss': 0.38447426412693564},\n",
       " 'BABY CARE': {'params': {'model': 'DailyMeanModelWrapper', 'window': 32},\n",
       "  'loss': 0.44457466648460847},\n",
       " 'BOOKS': {'params': {'model': 'DailyMeanModelWrapper', 'window': 28},\n",
       "  'loss': 0.16748851895468211},\n",
       " 'FROZEN FOODS': {'params': {'model': 'DayOfWeekMeanModelWrapper',\n",
       "   'weekdays_window': 16,\n",
       "   'weekends_window': 6},\n",
       "  'loss': 0.3070375706638931},\n",
       " 'GROCERY II': {'params': {'model': 'DayOfWeekMeanModelWrapper',\n",
       "   'weekdays_window': 12,\n",
       "   'weekends_window': 7},\n",
       "  'loss': 0.43304810135230626},\n",
       " 'HARDWARE': {'params': {'model': 'ProphetWrapper',\n",
       "   'n_changepoints': 34,\n",
       "   'changepoint_prior_scale': 0.08683987474938709,\n",
       "   'holidays_prior_scale': 47.96813461002991,\n",
       "   'seasonality_prior_scale': 36.6325578582859,\n",
       "   'seasonality_mode': 'additive'},\n",
       "  'loss': 0.5444546349067821},\n",
       " 'HOME AND KITCHEN I': {'params': {'model': 'DayOfWeekMeanModelWrapper',\n",
       "   'weekdays_window': 27,\n",
       "   'weekends_window': 7},\n",
       "  'loss': 0.5731075806807502},\n",
       " 'HOME AND KITCHEN II': {'params': {'model': 'DayOfWeekMeanModelWrapper',\n",
       "   'weekdays_window': 26,\n",
       "   'weekends_window': 2},\n",
       "  'loss': 0.5247584280373567},\n",
       " 'HOME APPLIANCES': {'params': {'model': 'DailyMeanModelWrapper',\n",
       "   'window': 22},\n",
       "  'loss': 0.3739923662269962},\n",
       " 'LAWN AND GARDEN': {'params': {'model': 'ProphetWrapper',\n",
       "   'n_changepoints': 41,\n",
       "   'changepoint_prior_scale': 0.16767030795583415,\n",
       "   'holidays_prior_scale': 24.56004678592936,\n",
       "   'seasonality_prior_scale': 56.7822292529329,\n",
       "   'seasonality_mode': 'additive'},\n",
       "  'loss': 0.5823162495776807},\n",
       " 'LINGERIE': {'params': {'model': 'DayOfWeekMeanModelWrapper',\n",
       "   'weekdays_window': 18,\n",
       "   'weekends_window': 6},\n",
       "  'loss': 0.798946660207709},\n",
       " 'LIQUOR,WINE,BEER': {'params': {'model': 'ProphetWrapper',\n",
       "   'n_changepoints': 36,\n",
       "   'changepoint_prior_scale': 0.0279299278453612,\n",
       "   'holidays_prior_scale': 43.872633164073505,\n",
       "   'seasonality_prior_scale': 24.57132966489381,\n",
       "   'seasonality_mode': 'additive'},\n",
       "  'loss': 0.5768060659868268},\n",
       " 'MAGAZINES': {'params': {'model': 'DayOfWeekMeanModelWrapper',\n",
       "   'weekdays_window': 16,\n",
       "   'weekends_window': 3},\n",
       "  'loss': 0.41973431873039985},\n",
       " 'MEATS': {'params': {'model': 'ProphetWrapper',\n",
       "   'n_changepoints': 32,\n",
       "   'changepoint_prior_scale': 0.014879745034620168,\n",
       "   'holidays_prior_scale': 46.59890696763237,\n",
       "   'seasonality_prior_scale': 50.27360446561645,\n",
       "   'seasonality_mode': 'additive'},\n",
       "  'loss': 0.1814193838236967},\n",
       " 'SCHOOL AND OFFICE SUPPLIES': {'params': {'model': 'DailyMeanModelWrapper',\n",
       "   'window': 4},\n",
       "  'loss': 0.6695459451184615},\n",
       " 'SEAFOOD': {'params': {'model': 'ProphetWrapper',\n",
       "   'n_changepoints': 41,\n",
       "   'changepoint_prior_scale': 0.32237214867412123,\n",
       "   'holidays_prior_scale': 45.5833256781228,\n",
       "   'seasonality_prior_scale': 44.007353498408825,\n",
       "   'seasonality_mode': 'additive'},\n",
       "  'loss': 0.2941433667521556}}"
      ]
     },
     "execution_count": 30,
     "metadata": {},
     "output_type": "execute_result"
    }
   ],
   "source": [
    "sales_predictor.best_storage"
   ]
  },
  {
   "cell_type": "code",
   "execution_count": 20,
   "id": "ea9dd75bad53177b",
   "metadata": {
    "ExecuteTime": {
     "end_time": "2024-10-06T14:03:31.696699Z",
     "start_time": "2024-10-06T13:55:18.799442Z"
    }
   },
   "outputs": [
    {
     "name": "stderr",
     "output_type": "stream",
     "text": [
      "100%|██████████| 1782/1782 [08:11<00:00,  3.63it/s]\n"
     ]
    }
   ],
   "source": [
    "sales_predictor.fit(train_df, initial)"
   ]
  },
  {
   "metadata": {},
   "cell_type": "markdown",
   "source": "## Make Submission",
   "id": "57172f42abd726a7"
  },
  {
   "cell_type": "code",
   "execution_count": 21,
   "id": "d6930ee298fa3db8",
   "metadata": {
    "ExecuteTime": {
     "end_time": "2024-10-06T14:03:32.729712Z",
     "start_time": "2024-10-06T14:03:32.705240Z"
    }
   },
   "outputs": [],
   "source": "submission = load_submission()"
  },
  {
   "cell_type": "code",
   "execution_count": 24,
   "id": "1baa2174320885dc",
   "metadata": {
    "ExecuteTime": {
     "end_time": "2024-10-06T14:04:56.231724Z",
     "start_time": "2024-10-06T14:03:33.907923Z"
    }
   },
   "outputs": [
    {
     "name": "stderr",
     "output_type": "stream",
     "text": [
      "100%|██████████| 1782/1782 [01:22<00:00, 21.69it/s] \n"
     ]
    }
   ],
   "source": "tuned_submission = sales_predictor.predict(test_df, submission)"
  },
  {
   "cell_type": "code",
   "execution_count": 27,
   "id": "bfd0433f9226d39",
   "metadata": {
    "ExecuteTime": {
     "end_time": "2024-10-06T14:05:03.590250Z",
     "start_time": "2024-10-06T14:05:03.562091Z"
    }
   },
   "outputs": [
    {
     "data": {
      "text/html": [
       "<div>\n",
       "<style scoped>\n",
       "    .dataframe tbody tr th:only-of-type {\n",
       "        vertical-align: middle;\n",
       "    }\n",
       "\n",
       "    .dataframe tbody tr th {\n",
       "        vertical-align: top;\n",
       "    }\n",
       "\n",
       "    .dataframe thead th {\n",
       "        text-align: right;\n",
       "    }\n",
       "</style>\n",
       "<table border=\"1\" class=\"dataframe\">\n",
       "  <thead>\n",
       "    <tr style=\"text-align: right;\">\n",
       "      <th></th>\n",
       "      <th>sales</th>\n",
       "    </tr>\n",
       "    <tr>\n",
       "      <th>id</th>\n",
       "      <th></th>\n",
       "    </tr>\n",
       "  </thead>\n",
       "  <tbody>\n",
       "    <tr>\n",
       "      <th>3000888</th>\n",
       "      <td>4.958483</td>\n",
       "    </tr>\n",
       "    <tr>\n",
       "      <th>3000889</th>\n",
       "      <td>0.000000</td>\n",
       "    </tr>\n",
       "    <tr>\n",
       "      <th>3000890</th>\n",
       "      <td>4.297729</td>\n",
       "    </tr>\n",
       "    <tr>\n",
       "      <th>3000891</th>\n",
       "      <td>2445.967258</td>\n",
       "    </tr>\n",
       "    <tr>\n",
       "      <th>3000892</th>\n",
       "      <td>0.035714</td>\n",
       "    </tr>\n",
       "    <tr>\n",
       "      <th>...</th>\n",
       "      <td>...</td>\n",
       "    </tr>\n",
       "    <tr>\n",
       "      <th>3029395</th>\n",
       "      <td>323.693730</td>\n",
       "    </tr>\n",
       "    <tr>\n",
       "      <th>3029396</th>\n",
       "      <td>104.054630</td>\n",
       "    </tr>\n",
       "    <tr>\n",
       "      <th>3029397</th>\n",
       "      <td>1280.578260</td>\n",
       "    </tr>\n",
       "    <tr>\n",
       "      <th>3029398</th>\n",
       "      <td>160.250000</td>\n",
       "    </tr>\n",
       "    <tr>\n",
       "      <th>3029399</th>\n",
       "      <td>16.403975</td>\n",
       "    </tr>\n",
       "  </tbody>\n",
       "</table>\n",
       "<p>28512 rows × 1 columns</p>\n",
       "</div>"
      ],
      "text/plain": [
       "               sales\n",
       "id                  \n",
       "3000888     4.958483\n",
       "3000889     0.000000\n",
       "3000890     4.297729\n",
       "3000891  2445.967258\n",
       "3000892     0.035714\n",
       "...              ...\n",
       "3029395   323.693730\n",
       "3029396   104.054630\n",
       "3029397  1280.578260\n",
       "3029398   160.250000\n",
       "3029399    16.403975\n",
       "\n",
       "[28512 rows x 1 columns]"
      ]
     },
     "execution_count": 27,
     "metadata": {},
     "output_type": "execute_result"
    }
   ],
   "source": [
    "tuned_submission[~tuned_submission[\"sales\"].isna()]"
   ]
  },
  {
   "cell_type": "code",
   "execution_count": 26,
   "id": "16ea81352fcaed2d",
   "metadata": {
    "ExecuteTime": {
     "end_time": "2024-10-06T14:05:00.012824Z",
     "start_time": "2024-10-06T14:04:59.926180Z"
    }
   },
   "outputs": [],
   "source": [
    "import os\n",
    "\n",
    "submission_file_path = os.path.join(\n",
    "    SUBMISSIONS_PATH, \"optuna_tuned_result_submission.csv\"\n",
    ")\n",
    "tuned_submission.to_csv(submission_file_path)"
   ]
  },
  {
   "cell_type": "code",
   "execution_count": null,
   "id": "39b79d30a4db0d7e",
   "metadata": {},
   "outputs": [],
   "source": []
  }
 ],
 "metadata": {
  "kernelspec": {
   "display_name": "Python 3",
   "language": "python",
   "name": "python3"
  },
  "language_info": {
   "codemirror_mode": {
    "name": "ipython",
    "version": 2
   },
   "file_extension": ".py",
   "mimetype": "text/x-python",
   "name": "python",
   "nbconvert_exporter": "python",
   "pygments_lexer": "ipython2",
   "version": "2.7.6"
  }
 },
 "nbformat": 4,
 "nbformat_minor": 5
}
