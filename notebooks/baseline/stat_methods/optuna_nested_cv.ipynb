{
 "cells": [
  {
   "cell_type": "markdown",
   "id": "7944a50b18bda6a9",
   "metadata": {},
   "source": "## Notebook Configuration && Imports"
  },
  {
   "cell_type": "code",
   "id": "6a0eb6f080485bd8",
   "metadata": {
    "ExecuteTime": {
     "end_time": "2024-10-27T18:03:14.029513Z",
     "start_time": "2024-10-27T18:03:14.002140Z"
    }
   },
   "source": [
    "%load_ext autoreload\n",
    "%autoreload 2"
   ],
   "outputs": [],
   "execution_count": 1
  },
  {
   "cell_type": "code",
   "id": "initial_id",
   "metadata": {
    "ExecuteTime": {
     "end_time": "2024-10-27T18:03:14.224205Z",
     "start_time": "2024-10-27T18:03:14.031489Z"
    }
   },
   "source": [
    "import logging\n",
    "import os\n",
    "\n",
    "import numpy as np\n",
    "import pandas as pd\n",
    "\n",
    "from matplotlib.ticker import ScalarFormatter\n",
    "import matplotlib.pyplot as plt\n",
    "import seaborn as sns\n",
    "\n",
    "from storesales.baseline.sales_predictor import SalesPredictor\n",
    "from storesales.baseline.utils import (\n",
    "    run_study,\n",
    "    load_baseline_data,\n",
    "    load_submission,\n",
    "    make_time_series_dataset,\n",
    "    evaluate,\n",
    ")\n",
    "from storesales.baseline.model_wrappers import (\n",
    "    DailyMeanModelWrapper,\n",
    "    ProphetWrapper,\n",
    "    DayOfWeekMeanModelWrapper,\n",
    "    WeightedDayMeanModelWrapper,\n",
    ")\n",
    "from storesales.baseline.param_suggestions import (\n",
    "    IntSuggestions,\n",
    "    FloatSuggestions,\n",
    "    CategoricalSuggestions,\n",
    ")\n",
    "from storesales.baseline.constants import FAMILY_GROUPS, STORES\n",
    "from storesales.constants import SUBMISSIONS_PATH, TRAIN_TEST_SPLIT_DATE, HORIZON_STR"
   ],
   "outputs": [],
   "execution_count": 2
  },
  {
   "cell_type": "markdown",
   "id": "ab95d6eba147ea53",
   "metadata": {},
   "source": "## Load Data && Create Dataset"
  },
  {
   "cell_type": "code",
   "id": "e9af06351917d9c5",
   "metadata": {
    "ExecuteTime": {
     "end_time": "2024-10-27T18:03:17.008487Z",
     "start_time": "2024-10-27T18:03:14.225919Z"
    }
   },
   "source": "train_df, test_df, holidays_df = load_baseline_data(use_light_gbm_preprocessing=False)",
   "outputs": [],
   "execution_count": 3
  },
  {
   "cell_type": "code",
   "id": "7165e2e5ad7e951",
   "metadata": {
    "ExecuteTime": {
     "end_time": "2024-10-27T18:03:17.029211Z",
     "start_time": "2024-10-27T18:03:17.009694Z"
    }
   },
   "source": [
    "train_test_split_date = pd.Timestamp(TRAIN_TEST_SPLIT_DATE)\n",
    "\n",
    "outer_cutoffs_dates = [\n",
    "    \"2016-08-16\",\n",
    "    \"2016-11-18\",\n",
    "    \"2017-02-20\",\n",
    "    \"2017-04-04\",\n",
    "]\n",
    "outer_cutoffs = [pd.Timestamp(date) for date in outer_cutoffs_dates]\n",
    "\n",
    "for cutoff in outer_cutoffs:\n",
    "    if cutoff + pd.Timedelta(HORIZON_STR) >= train_test_split_date:\n",
    "        raise ValueError(f\"cutoff {cutoff} falls into test period!\")"
   ],
   "outputs": [],
   "execution_count": 4
  },
  {
   "cell_type": "code",
   "id": "eb0749367a5106a",
   "metadata": {
    "ExecuteTime": {
     "end_time": "2024-10-28T10:45:07.037312Z",
     "start_time": "2024-10-28T10:45:06.766207Z"
    }
   },
   "source": "train_dataset = make_time_series_dataset(train_df, outer_cutoffs, 16)",
   "outputs": [
    {
     "ename": "NameError",
     "evalue": "name 'train_df' is not defined",
     "output_type": "error",
     "traceback": [
      "\u001B[0;31m---------------------------------------------------------------------------\u001B[0m",
      "\u001B[0;31mNameError\u001B[0m                                 Traceback (most recent call last)",
      "Cell \u001B[0;32mIn[2], line 1\u001B[0m\n\u001B[0;32m----> 1\u001B[0m families_data \u001B[38;5;241m=\u001B[39m \u001B[43mtrain_df\u001B[49m[train_df[\u001B[38;5;124m\"\u001B[39m\u001B[38;5;124mfamily\u001B[39m\u001B[38;5;124m\"\u001B[39m]\u001B[38;5;241m.\u001B[39misin(families)]\n\u001B[1;32m      3\u001B[0m train_dataset \u001B[38;5;241m=\u001B[39m make_time_series_dataset(train_df, outer_cutoffs, \u001B[38;5;241m16\u001B[39m)\n",
      "\u001B[0;31mNameError\u001B[0m: name 'train_df' is not defined"
     ]
    }
   ],
   "execution_count": 2
  },
  {
   "cell_type": "markdown",
   "id": "ff226149104c2932",
   "metadata": {},
   "source": "## Prepare SalesPredictor"
  },
  {
   "cell_type": "code",
   "id": "f1fa5fb0e9d2da12",
   "metadata": {
    "ExecuteTime": {
     "end_time": "2024-10-27T18:03:29.807896Z",
     "start_time": "2024-10-27T18:03:29.789335Z"
    }
   },
   "source": [
    "initial = \"760 days\"  # train period"
   ],
   "outputs": [],
   "execution_count": 6
  },
  {
   "cell_type": "code",
   "id": "fdb5548a03982957",
   "metadata": {
    "ExecuteTime": {
     "end_time": "2024-10-27T18:03:31.157240Z",
     "start_time": "2024-10-27T18:03:31.134916Z"
    }
   },
   "source": [
    "family_group_to_stores = dict(\n",
    "    [[family_group, STORES] for family_group in FAMILY_GROUPS]\n",
    ")"
   ],
   "outputs": [],
   "execution_count": 7
  },
  {
   "cell_type": "markdown",
   "id": "cfac7dd33e54e09b",
   "metadata": {},
   "source": [
    "### DailyMeanModel\n",
    "#### Wrapper"
   ]
  },
  {
   "cell_type": "code",
   "id": "affc96514997b59",
   "metadata": {
    "ExecuteTime": {
     "end_time": "2024-10-27T18:03:33.235313Z",
     "start_time": "2024-10-27T18:03:33.219419Z"
    }
   },
   "source": [
    "daily_mean_int_suggestions = [IntSuggestions(\"window\", 3, 60)]"
   ],
   "outputs": [],
   "execution_count": 8
  },
  {
   "cell_type": "code",
   "id": "16ec88e6c287f411",
   "metadata": {
    "ExecuteTime": {
     "end_time": "2024-10-27T18:03:35.606727Z",
     "start_time": "2024-10-27T18:03:35.589361Z"
    }
   },
   "source": [
    "daily_wrapper = DailyMeanModelWrapper(int_suggestions=daily_mean_int_suggestions)"
   ],
   "outputs": [],
   "execution_count": 9
  },
  {
   "cell_type": "code",
   "id": "57c0a0f6ccc51f37",
   "metadata": {
    "ExecuteTime": {
     "end_time": "2024-10-27T18:03:37.956045Z",
     "start_time": "2024-10-27T18:03:37.940828Z"
    }
   },
   "source": [
    "daily_wrapper_dict = {DailyMeanModelWrapper.__name__: daily_wrapper}"
   ],
   "outputs": [],
   "execution_count": 10
  },
  {
   "cell_type": "markdown",
   "id": "bb222662c2e28c0d",
   "metadata": {},
   "source": "#### Predictor"
  },
  {
   "cell_type": "code",
   "id": "6bb30023190ef531",
   "metadata": {
    "ExecuteTime": {
     "end_time": "2024-10-27T18:03:46.111566Z",
     "start_time": "2024-10-27T18:03:46.093538Z"
    }
   },
   "source": [
    "daily_optuna_kwargs = dict(\n",
    "    n_trials=10,\n",
    "    show_progress_bar=False,\n",
    "    timeout=45,\n",
    ")"
   ],
   "outputs": [],
   "execution_count": 11
  },
  {
   "cell_type": "code",
   "id": "99df6e0d1d0405a1",
   "metadata": {
    "ExecuteTime": {
     "end_time": "2024-10-27T18:03:48.503469Z",
     "start_time": "2024-10-27T18:03:48.487719Z"
    }
   },
   "source": [
    "daily_predictor = SalesPredictor(\n",
    "    model_wrappers=daily_wrapper_dict,\n",
    "    family_groups=FAMILY_GROUPS,\n",
    "    inner_cutoffs=[-365, -180, -49, -17],\n",
    "    optuna_optimize_kwargs=daily_optuna_kwargs,\n",
    "    n_group_store_family_choices=4,\n",
    "    n_single_store_family_choices=3,\n",
    "    family_group_to_stores=family_group_to_stores,\n",
    "    initial=None,\n",
    ")"
   ],
   "outputs": [],
   "execution_count": 12
  },
  {
   "cell_type": "markdown",
   "id": "eaeec37d5f8a37f6",
   "metadata": {},
   "source": "#### Fit && Evaluate"
  },
  {
   "cell_type": "code",
   "id": "c25949cc293d118a",
   "metadata": {},
   "source": [
    "daily_predictor = run_study(train_dataset, daily_predictor)"
   ],
   "outputs": [],
   "execution_count": null
  },
  {
   "cell_type": "code",
   "id": "e5c3a35212a727a5",
   "metadata": {
    "ExecuteTime": {
     "end_time": "2024-10-27T18:04:32.461740Z",
     "start_time": "2024-10-27T18:04:32.371320Z"
    }
   },
   "source": [
    "print(\"Train RMSLE:\", daily_predictor.calc_total_fit_loss())"
   ],
   "outputs": [
    {
     "name": "stdout",
     "output_type": "stream",
     "text": [
      "Train RMSLE: 0.4358343460817977\n"
     ]
    }
   ],
   "execution_count": 14
  },
  {
   "cell_type": "code",
   "id": "e1824171b6078a0c",
   "metadata": {
    "ExecuteTime": {
     "end_time": "2024-10-28T11:18:36.661707Z",
     "start_time": "2024-10-28T11:18:36.645079Z"
    }
   },
   "source": "daily_eval_loss = evaluate(train_df, daily_predictor)",
   "outputs": [
    {
     "ename": "NameError",
     "evalue": "name 'evaluate' is not defined",
     "output_type": "error",
     "traceback": [
      "\u001B[0;31m---------------------------------------------------------------------------\u001B[0m",
      "\u001B[0;31mNameError\u001B[0m                                 Traceback (most recent call last)",
      "Cell \u001B[0;32mIn[4], line 1\u001B[0m\n\u001B[0;32m----> 1\u001B[0m daily_eval_loss \u001B[38;5;241m=\u001B[39m \u001B[43mevaluate\u001B[49m(train_df, daily_predictor, disable_tqdm\u001B[38;5;241m=\u001B[39m\u001B[38;5;28;01mTrue\u001B[39;00m)\n",
      "\u001B[0;31mNameError\u001B[0m: name 'evaluate' is not defined"
     ]
    }
   ],
   "execution_count": 4
  },
  {
   "metadata": {
    "ExecuteTime": {
     "end_time": "2024-10-27T18:22:38.229578Z",
     "start_time": "2024-10-27T18:22:38.201336Z"
    }
   },
   "cell_type": "code",
   "source": "daily_eval_loss.mean(axis=1)",
   "id": "b142e7df8e61c32f",
   "outputs": [
    {
     "data": {
      "text/plain": [
       "family\n",
       "AUTOMOTIVE                    0.563069\n",
       "BABY CARE                     0.296582\n",
       "BEAUTY                        0.585663\n",
       "BEVERAGES                     0.288135\n",
       "BOOKS                         0.137782\n",
       "BREAD/BAKERY                  0.244431\n",
       "CELEBRATION                   0.614983\n",
       "CLEANING                      0.365463\n",
       "DAIRY                         0.248597\n",
       "DELI                          0.259397\n",
       "EGGS                          0.412773\n",
       "FROZEN FOODS                  0.415936\n",
       "GROCERY I                     0.248053\n",
       "GROCERY II                    0.632126\n",
       "HARDWARE                      0.561582\n",
       "HOME AND KITCHEN I            0.546128\n",
       "HOME AND KITCHEN II           0.508673\n",
       "HOME APPLIANCES               0.421929\n",
       "HOME CARE                     0.300631\n",
       "LADIESWEAR                    0.594897\n",
       "LAWN AND GARDEN               0.546760\n",
       "LINGERIE                      0.693747\n",
       "LIQUOR,WINE,BEER              0.753127\n",
       "MAGAZINES                     0.546264\n",
       "MEATS                         0.313916\n",
       "PERSONAL CARE                 0.333563\n",
       "PET SUPPLIES                  0.505718\n",
       "PLAYERS AND ELECTRONICS       0.521385\n",
       "POULTRY                       0.312373\n",
       "PREPARED FOODS                0.315411\n",
       "PRODUCE                       0.286360\n",
       "SCHOOL AND OFFICE SUPPLIES    0.969021\n",
       "SEAFOOD                       0.576175\n",
       "dtype: float64"
      ]
     },
     "execution_count": 32,
     "metadata": {},
     "output_type": "execute_result"
    }
   ],
   "execution_count": 32
  },
  {
   "cell_type": "code",
   "id": "bea0924e6adc716e",
   "metadata": {
    "ExecuteTime": {
     "end_time": "2024-10-27T18:26:03.364455Z",
     "start_time": "2024-10-27T18:26:03.347855Z"
    }
   },
   "source": "print(f\"Eval RMSLE: {daily_eval_loss.values.mean()}\")",
   "outputs": [
    {
     "name": "stdout",
     "output_type": "stream",
     "text": [
      "Eval RMSLE: 0.4521408725108731\n"
     ]
    }
   ],
   "execution_count": 36
  },
  {
   "cell_type": "markdown",
   "id": "4dd5909dd8b1acd9",
   "metadata": {},
   "source": [
    "### DayOfWeekMeanModel\n",
    "#### Wrapper"
   ]
  },
  {
   "cell_type": "code",
   "execution_count": 18,
   "id": "3da1182d5d397c6d",
   "metadata": {
    "ExecuteTime": {
     "end_time": "2024-10-27T12:40:11.574803Z",
     "start_time": "2024-10-27T12:40:11.558918Z"
    }
   },
   "outputs": [],
   "source": [
    "day_of_week_mean_int_suggestions = [\n",
    "    IntSuggestions(\"weekdays_window\", 3, 50),\n",
    "    IntSuggestions(\"weekends_window\", 1, 10),\n",
    "]"
   ]
  },
  {
   "cell_type": "code",
   "execution_count": 19,
   "id": "66c125d1cd120bf9",
   "metadata": {
    "ExecuteTime": {
     "end_time": "2024-10-27T12:40:13.851889Z",
     "start_time": "2024-10-27T12:40:13.832980Z"
    }
   },
   "outputs": [],
   "source": [
    "day_of_week_wrapper = DayOfWeekMeanModelWrapper(\n",
    "    int_suggestions=day_of_week_mean_int_suggestions\n",
    ")"
   ]
  },
  {
   "cell_type": "code",
   "execution_count": 20,
   "id": "1e3c5524bf108aa9",
   "metadata": {
    "ExecuteTime": {
     "end_time": "2024-10-27T12:40:15.962770Z",
     "start_time": "2024-10-27T12:40:15.944966Z"
    }
   },
   "outputs": [],
   "source": [
    "day_of_week_wrapper_dict = {DayOfWeekMeanModelWrapper.__name__: day_of_week_wrapper}"
   ]
  },
  {
   "cell_type": "markdown",
   "id": "46cc9b9f60c82b25",
   "metadata": {},
   "source": "#### Predictor"
  },
  {
   "cell_type": "code",
   "execution_count": 21,
   "id": "1b21dbbd3544826c",
   "metadata": {},
   "outputs": [],
   "source": [
    "day_of_week_optuna_kwargs = dict(\n",
    "    n_trials=100,\n",
    "    show_progress_bar=False,\n",
    "    timeout=45,\n",
    ")"
   ]
  },
  {
   "cell_type": "code",
   "execution_count": 22,
   "id": "d7b3254dacad221",
   "metadata": {
    "ExecuteTime": {
     "end_time": "2024-10-27T12:40:20.367235Z",
     "start_time": "2024-10-27T12:40:20.347481Z"
    }
   },
   "outputs": [],
   "source": [
    "day_of_week_predictor = SalesPredictor(\n",
    "    model_wrappers=day_of_week_wrapper_dict,\n",
    "    family_groups=FAMILY_GROUPS,\n",
    "    inner_cutoffs=[-365, -180, -49, -17],\n",
    "    optuna_optimize_kwargs=day_of_week_optuna_kwargs,\n",
    "    n_group_store_family_choices=4,\n",
    "    n_single_store_family_choices=3,\n",
    "    family_group_to_stores=family_group_to_stores,\n",
    "    initial=None,\n",
    ")"
   ]
  },
  {
   "cell_type": "markdown",
   "id": "dc44a4b2b01e74c0",
   "metadata": {},
   "source": "#### Fit && Evaluate"
  },
  {
   "cell_type": "code",
   "execution_count": null,
   "id": "2ad9311eb616975a",
   "metadata": {},
   "outputs": [],
   "source": [
    "day_of_week_predictor = run_study(train_dataset, day_of_week_predictor)"
   ]
  },
  {
   "cell_type": "code",
   "execution_count": 24,
   "id": "28c59918fb84a5e3",
   "metadata": {
    "ExecuteTime": {
     "end_time": "2024-10-27T12:49:40.129478Z",
     "start_time": "2024-10-27T12:49:40.106823Z"
    }
   },
   "outputs": [
    {
     "name": "stdout",
     "output_type": "stream",
     "text": [
      "Train RMSLE: 0.42853936792092817\n"
     ]
    }
   ],
   "source": [
    "print(\"Train RMSLE:\", day_of_week_predictor.calc_total_fit_loss())"
   ]
  },
  {
   "cell_type": "code",
   "execution_count": 25,
   "id": "662b21d2ec6c8d1a",
   "metadata": {
    "ExecuteTime": {
     "end_time": "2024-10-27T12:52:05.053737Z",
     "start_time": "2024-10-27T12:49:44.032426Z"
    }
   },
   "outputs": [
    {
     "name": "stderr",
     "output_type": "stream",
     "text": [
      "100%|██████████| 98/98 [01:59<00:00,  1.22s/it]\n"
     ]
    }
   ],
   "source": [
    "day_of_week_eval_loss = evaluate(train_df, day_of_week_predictor)"
   ]
  },
  {
   "cell_type": "code",
   "execution_count": 26,
   "id": "37899f407561288a",
   "metadata": {
    "ExecuteTime": {
     "end_time": "2024-10-27T12:52:11.208269Z",
     "start_time": "2024-10-27T12:52:11.187792Z"
    }
   },
   "outputs": [
    {
     "name": "stdout",
     "output_type": "stream",
     "text": [
      "Eval RMSLE: 0.4672134931128895\n"
     ]
    }
   ],
   "source": [
    "print(f\"Eval RMSLE: {day_of_week_eval_loss}\")"
   ]
  },
  {
   "cell_type": "markdown",
   "id": "7baf47f21e213782",
   "metadata": {},
   "source": [
    "### WeightedDayMeanModelWrapper\n",
    "#### Wrapper"
   ]
  },
  {
   "cell_type": "code",
   "execution_count": 33,
   "id": "2488c31b49903a5f",
   "metadata": {
    "ExecuteTime": {
     "end_time": "2024-10-27T13:08:31.770831Z",
     "start_time": "2024-10-27T13:08:31.740860Z"
    }
   },
   "outputs": [],
   "source": [
    "weighted_day_mean_int_suggestions = [\n",
    "    IntSuggestions(\"days_window\", 1, 14),\n",
    "    IntSuggestions(\"weeks_window\", 1, 7),\n",
    "    IntSuggestions(\"months_window\", 0, 12),\n",
    "    IntSuggestions(\"years_window\", 0, 4),\n",
    "]\n",
    "weighted_day_mean_float_suggestions = [\n",
    "    FloatSuggestions(\"day_weight\", 0.8, 1.2),\n",
    "    FloatSuggestions(\"week_weight\", 0.8, 1.2),\n",
    "    FloatSuggestions(\"month_weight\", 0.8, 1.2),\n",
    "    FloatSuggestions(\"year_weight\", 0.8, 1.2),\n",
    "]"
   ]
  },
  {
   "cell_type": "code",
   "execution_count": 34,
   "id": "f756548757c447f9",
   "metadata": {
    "ExecuteTime": {
     "end_time": "2024-10-27T13:08:34.016845Z",
     "start_time": "2024-10-27T13:08:33.998892Z"
    }
   },
   "outputs": [],
   "source": [
    "weighted_day_mean_wrapper = WeightedDayMeanModelWrapper(\n",
    "    int_suggestions=weighted_day_mean_int_suggestions,\n",
    "    float_suggestions=weighted_day_mean_float_suggestions,\n",
    ")"
   ]
  },
  {
   "cell_type": "code",
   "execution_count": 35,
   "id": "402a6eddb66a7de",
   "metadata": {
    "ExecuteTime": {
     "end_time": "2024-10-27T13:08:35.624675Z",
     "start_time": "2024-10-27T13:08:35.609722Z"
    }
   },
   "outputs": [],
   "source": [
    "weighted_day_mean_wrapper_dict = {\n",
    "    WeightedDayMeanModelWrapper.__name__: weighted_day_mean_wrapper\n",
    "}"
   ]
  },
  {
   "cell_type": "markdown",
   "id": "e5cef4dad28aaa6d",
   "metadata": {},
   "source": "#### Predictor"
  },
  {
   "cell_type": "code",
   "execution_count": 36,
   "id": "6e5e613a5d1fdd07",
   "metadata": {
    "ExecuteTime": {
     "end_time": "2024-10-27T13:08:37.890001Z",
     "start_time": "2024-10-27T13:08:37.867938Z"
    }
   },
   "outputs": [],
   "source": [
    "weighted_day_mean_optuna_kwargs = dict(\n",
    "    n_trials=10,\n",
    "    show_progress_bar=False,\n",
    "    timeout=45,\n",
    ")"
   ]
  },
  {
   "cell_type": "code",
   "execution_count": 37,
   "id": "4b4e9cd96d1f8681",
   "metadata": {
    "ExecuteTime": {
     "end_time": "2024-10-27T13:08:39.777811Z",
     "start_time": "2024-10-27T13:08:39.760007Z"
    }
   },
   "outputs": [],
   "source": [
    "weighted_day_mean_predictor = SalesPredictor(\n",
    "    model_wrappers=weighted_day_mean_wrapper_dict,\n",
    "    family_groups=FAMILY_GROUPS,\n",
    "    inner_cutoffs=[-365, -180, -49, -17],\n",
    "    optuna_optimize_kwargs=weighted_day_mean_optuna_kwargs,\n",
    "    n_group_store_family_choices=4,\n",
    "    n_single_store_family_choices=3,\n",
    "    family_group_to_stores=family_group_to_stores,\n",
    "    initial=None,\n",
    ")"
   ]
  },
  {
   "cell_type": "markdown",
   "id": "25d0785d61eb1fab",
   "metadata": {},
   "source": "#### Fit && Evaluate"
  },
  {
   "cell_type": "code",
   "execution_count": null,
   "id": "51590b6ba462463",
   "metadata": {},
   "outputs": [],
   "source": [
    "weighted_day_mean_predictor = run_study(train_dataset, weighted_day_mean_predictor)"
   ]
  },
  {
   "cell_type": "code",
   "execution_count": 39,
   "id": "ec1de1fd38a6945d",
   "metadata": {
    "ExecuteTime": {
     "end_time": "2024-10-27T13:22:58.022941Z",
     "start_time": "2024-10-27T13:22:58.007729Z"
    }
   },
   "outputs": [
    {
     "name": "stdout",
     "output_type": "stream",
     "text": [
      "Train RMSLE: 0.42354329389170525\n"
     ]
    }
   ],
   "source": [
    "print(\"Train RMSLE:\", weighted_day_mean_predictor.calc_total_fit_loss())"
   ]
  },
  {
   "cell_type": "code",
   "execution_count": 40,
   "id": "a0b17ff5398df6b2",
   "metadata": {
    "ExecuteTime": {
     "end_time": "2024-10-27T13:39:22.664957Z",
     "start_time": "2024-10-27T13:23:01.498562Z"
    }
   },
   "outputs": [
    {
     "name": "stderr",
     "output_type": "stream",
     "text": [
      "100%|██████████| 98/98 [15:29<00:00,  9.49s/it]\n"
     ]
    }
   ],
   "source": [
    "weighted_day_eval_loss = evaluate(train_df, weighted_day_mean_predictor)"
   ]
  },
  {
   "cell_type": "code",
   "execution_count": 41,
   "id": "90b45b393344c6ae",
   "metadata": {
    "ExecuteTime": {
     "end_time": "2024-10-27T13:41:42.377113Z",
     "start_time": "2024-10-27T13:41:42.358499Z"
    }
   },
   "outputs": [
    {
     "name": "stdout",
     "output_type": "stream",
     "text": [
      "Eval RMSLE: 0.4701158008427704\n"
     ]
    }
   ],
   "source": [
    "print(f\"Eval RMSLE: {weighted_day_eval_loss}\")"
   ]
  },
  {
   "cell_type": "markdown",
   "id": "8faf46f8a5b4ed55",
   "metadata": {},
   "source": "### Combined Stat Predictor"
  },
  {
   "cell_type": "code",
   "execution_count": 46,
   "id": "921ea548d40dbdd8",
   "metadata": {
    "ExecuteTime": {
     "end_time": "2024-10-27T13:46:59.043363Z",
     "start_time": "2024-10-27T13:46:59.028242Z"
    }
   },
   "outputs": [],
   "source": [
    "stat_wrappers_dict = {\n",
    "    DailyMeanModelWrapper.__name__: daily_wrapper,\n",
    "    DayOfWeekMeanModelWrapper.__name__: day_of_week_wrapper,\n",
    "    WeightedDayMeanModelWrapper.__name__: weighted_day_mean_wrapper,\n",
    "}\n",
    "\n",
    "stat_optuna_kwargs = dict(\n",
    "    n_trials=250,\n",
    "    show_progress_bar=False,\n",
    "    timeout=45,\n",
    ")"
   ]
  },
  {
   "cell_type": "code",
   "execution_count": 48,
   "id": "481ba9fdbb662d80",
   "metadata": {
    "ExecuteTime": {
     "end_time": "2024-10-27T13:47:51.721869Z",
     "start_time": "2024-10-27T13:47:51.706620Z"
    }
   },
   "outputs": [],
   "source": [
    "combined_stat_predictor = SalesPredictor(\n",
    "    model_wrappers=stat_wrappers_dict,\n",
    "    family_groups=FAMILY_GROUPS,\n",
    "    inner_cutoffs=[-365, -180, -49, -17],\n",
    "    optuna_optimize_kwargs=stat_optuna_kwargs,\n",
    "    n_group_store_family_choices=4,\n",
    "    n_single_store_family_choices=3,\n",
    "    family_group_to_stores=family_group_to_stores,\n",
    "    initial=None,\n",
    ")"
   ]
  },
  {
   "cell_type": "markdown",
   "id": "2a0c845b118a71d3",
   "metadata": {},
   "source": "#### Fit && Evaluate"
  },
  {
   "cell_type": "code",
   "execution_count": null,
   "id": "e0f06ba6e758827d",
   "metadata": {},
   "outputs": [],
   "source": [
    "combined_stat_predictor = run_study(train_dataset, combined_stat_predictor)"
   ]
  },
  {
   "cell_type": "code",
   "execution_count": 50,
   "id": "6d863e1c55acff4b",
   "metadata": {
    "ExecuteTime": {
     "end_time": "2024-10-27T14:55:49.560940Z",
     "start_time": "2024-10-27T14:55:49.543438Z"
    }
   },
   "outputs": [
    {
     "name": "stdout",
     "output_type": "stream",
     "text": [
      "Train RMSLE: 0.41812641510037996\n"
     ]
    }
   ],
   "source": [
    "print(\"Train RMSLE:\", combined_stat_predictor.calc_total_fit_loss())"
   ]
  },
  {
   "cell_type": "code",
   "execution_count": 51,
   "id": "e1c837fbc1b6c7a5",
   "metadata": {
    "ExecuteTime": {
     "end_time": "2024-10-27T15:01:30.083320Z",
     "start_time": "2024-10-27T14:55:57.396322Z"
    }
   },
   "outputs": [
    {
     "name": "stderr",
     "output_type": "stream",
     "text": [
      "100%|██████████| 98/98 [05:05<00:00,  3.11s/it]\n"
     ]
    }
   ],
   "source": [
    "combined_stat_eval_loss = evaluate(train_df, combined_stat_predictor)"
   ]
  },
  {
   "cell_type": "code",
   "execution_count": 52,
   "id": "b6077e0e358e57ac",
   "metadata": {
    "ExecuteTime": {
     "end_time": "2024-10-27T15:01:30.142376Z",
     "start_time": "2024-10-27T15:01:30.092190Z"
    }
   },
   "outputs": [
    {
     "name": "stdout",
     "output_type": "stream",
     "text": [
      "Eval RMSLE: 0.4653801165379105\n"
     ]
    }
   ],
   "source": [
    "print(f\"Eval RMSLE: {combined_stat_eval_loss}\")"
   ]
  },
  {
   "cell_type": "markdown",
   "id": "132a210e8124fb6d",
   "metadata": {},
   "source": "### ProphetWrapper"
  },
  {
   "cell_type": "code",
   "execution_count": 11,
   "id": "3903a9df31004de5",
   "metadata": {
    "ExecuteTime": {
     "end_time": "2024-10-25T08:34:49.834783Z",
     "start_time": "2024-10-25T08:34:49.802022Z"
    }
   },
   "outputs": [],
   "source": [
    "prophet_int_suggestions = [\n",
    "    IntSuggestions(\"n_changepoints\", 20, 50),\n",
    "]\n",
    "prophet_float_suggestions = [\n",
    "    FloatSuggestions(\"changepoint_prior_scale\", 0.01, 0.5),\n",
    "    FloatSuggestions(\"holidays_prior_scale\", 5, 80),\n",
    "    FloatSuggestions(\"seasonality_prior_scale\", 5, 80),\n",
    "]\n",
    "prophet_categorical_suggestions = [\n",
    "    CategoricalSuggestions(\"seasonality_mode\", [\"additive\", \"multiplicative\"]),\n",
    "]\n",
    "\n",
    "prophet_base_params = {\n",
    "    \"daily_seasonality\": False,\n",
    "    \"weekly_seasonality\": True,\n",
    "    \"yearly_seasonality\": True,\n",
    "    \"uncertainty_samples\": False,\n",
    "    \"holidays\": holidays_df,\n",
    "}"
   ]
  },
  {
   "cell_type": "code",
   "execution_count": 12,
   "id": "80e54abbc02fd7b4",
   "metadata": {
    "ExecuteTime": {
     "end_time": "2024-10-25T08:34:50.285811Z",
     "start_time": "2024-10-25T08:34:50.267455Z"
    }
   },
   "outputs": [],
   "source": [
    "prophet_wrapper = ProphetWrapper(\n",
    "    initial=initial,\n",
    "    extra_regressors=[\"dcoilwtico\"],\n",
    "    int_suggestions=prophet_int_suggestions,\n",
    "    float_suggestions=prophet_float_suggestions,\n",
    "    categorical_suggestions=prophet_categorical_suggestions,\n",
    "    model_base_params=prophet_base_params,\n",
    ")"
   ]
  },
  {
   "cell_type": "code",
   "execution_count": null,
   "id": "943e8d5b3c9136e6",
   "metadata": {},
   "outputs": [],
   "source": [
    "prophet_wrapper_dict = {ProphetWrapper.__name__: prophet_wrapper}"
   ]
  },
  {
   "cell_type": "code",
   "execution_count": null,
   "id": "5f8437c336f1e6d",
   "metadata": {},
   "outputs": [],
   "source": [
    "prophet_optuna_kwargs = dict(\n",
    "    n_trials=50,\n",
    "    show_progress_bar=False,\n",
    "    timeout=45,\n",
    ")"
   ]
  },
  {
   "cell_type": "code",
   "execution_count": null,
   "id": "3960ff41a89ce4ec",
   "metadata": {},
   "outputs": [],
   "source": [
    "prophet_predictor = SalesPredictor(\n",
    "    model_wrappers=prophet_wrapper_dict,\n",
    "    family_groups=FAMILY_GROUPS,\n",
    "    inner_cutoffs=[-365, -180, -49, -17],\n",
    "    optuna_optimize_kwargs=prophet_optuna_kwargs,\n",
    "    n_group_store_family_choices=4,\n",
    "    n_single_store_family_choices=3,\n",
    "    family_group_to_stores=family_group_to_stores,\n",
    "    initial=initial,\n",
    ")"
   ]
  },
  {
   "cell_type": "markdown",
   "id": "b88ff76ad800843c",
   "metadata": {},
   "source": "## Analyze Loss Results && Select Top Loss Pairs"
  },
  {
   "cell_type": "code",
   "execution_count": 17,
   "id": "684344af1d12da92",
   "metadata": {
    "ExecuteTime": {
     "end_time": "2024-10-18T15:24:18.338544Z",
     "start_time": "2024-10-18T15:24:18.308753Z"
    }
   },
   "outputs": [],
   "source": [
    "families = []\n",
    "stores = []\n",
    "mean_loss = []\n",
    "\n",
    "for (store, family), losses in predictor.store_family_loss_storage.items():\n",
    "    mean_loss.append(np.mean(losses))\n",
    "    stores.append(store)\n",
    "    families.append(family)"
   ]
  },
  {
   "cell_type": "code",
   "execution_count": null,
   "id": "436b6a1bdddf3fec",
   "metadata": {},
   "outputs": [],
   "source": [
    "loss_df = pd.DataFrame({\"store\": stores, \"family\": families, \"loss\": mean_loss})\n",
    "\n",
    "top_loss_df = loss_df.sort_values(\"loss\", ascending=False)[:100]\n",
    "top_loss_df"
   ]
  },
  {
   "cell_type": "code",
   "execution_count": null,
   "id": "b029ada8b7d39c15",
   "metadata": {},
   "outputs": [],
   "source": [
    "top_loss_family_to_store = {}\n",
    "\n",
    "for family, stores in top_loss_df.groupby(\"family\")[\"store\"].apply(list).items():\n",
    "    top_loss_family_to_store[(family,)] = stores\n",
    "\n",
    "top_loss_family_to_store"
   ]
  },
  {
   "cell_type": "markdown",
   "id": "a6831fdecd36aa41",
   "metadata": {},
   "source": "## Fit Prophet For Top Loss Pairs"
  },
  {
   "cell_type": "code",
   "execution_count": null,
   "id": "8dc9ab23e5688436",
   "metadata": {},
   "outputs": [],
   "source": [
    "# top_loss_family_to_store.pop(('SCHOOL AND OFFICE SUPPLIES',))  # to speed up\n",
    "\n",
    "top_loss_family_groups = [family for family in top_loss_family_to_store.keys()]"
   ]
  },
  {
   "cell_type": "code",
   "execution_count": null,
   "id": "4da3bc36774ffaf1",
   "metadata": {},
   "outputs": [],
   "source": [
    "model_wrappers = {ProphetWrapper.__name__: prophet_wrapper}\n",
    "\n",
    "optuna_optimize_kwargs = dict(\n",
    "    n_trials=100,\n",
    "    show_progress_bar=True,\n",
    "    timeout=85,\n",
    ")\n",
    "\n",
    "outer_cutoffs_dates = [\n",
    "    # \"2016-08-16\",\n",
    "    \"2017-05-15\",\n",
    "    \"2017-07-31\",\n",
    "]\n",
    "outer_cutoffs = [pd.Timestamp(date) for date in outer_cutoffs_dates]\n",
    "\n",
    "top_loss_predictor = SalesPredictor(\n",
    "    model_wrappers=model_wrappers,\n",
    "    family_groups=top_loss_family_groups,\n",
    "    inner_cutoffs=[-365, -180, -100, -49, -33, -17],\n",
    "    optuna_optimize_kwargs=optuna_optimize_kwargs,\n",
    "    n_group_store_family_choices=4,\n",
    "    n_single_store_family_choices=4,\n",
    "    family_group_to_stores=top_loss_family_to_store,\n",
    ")"
   ]
  },
  {
   "cell_type": "code",
   "execution_count": null,
   "id": "672443043a7ceabb",
   "metadata": {},
   "outputs": [],
   "source": [
    "top_loss_dataset = make_time_series_dataset(\n",
    "    train_df.copy(), top_loss_predictor.outer_cutoffs, 16\n",
    ")"
   ]
  },
  {
   "cell_type": "code",
   "execution_count": null,
   "id": "6865d963d091bf40",
   "metadata": {},
   "outputs": [],
   "source": [
    "logger = logging.getLogger(\"cmdstanpy\")\n",
    "logger.setLevel(logging.ERROR)\n",
    "\n",
    "top_loss_predictor = run_study(top_loss_dataset, top_loss_predictor)"
   ]
  },
  {
   "cell_type": "markdown",
   "id": "e2496303c30586a4",
   "metadata": {},
   "source": "## Analyze Loss Results"
  },
  {
   "cell_type": "code",
   "execution_count": null,
   "id": "2f4b2c19faf4af51",
   "metadata": {},
   "outputs": [],
   "source": [
    "def make_plot(data_dict, loss_sample_name, title):\n",
    "    x_name = \"outer cv fold start\"\n",
    "    y_name = \"loss\"\n",
    "\n",
    "    for i_group, samples in enumerate(data_dict.values()):\n",
    "        plot_data = [\n",
    "            [outer_cutoffs_dates[sample], loss]\n",
    "            for sample, losses in samples[loss_sample_name].items()\n",
    "            for loss in losses\n",
    "        ]\n",
    "\n",
    "        df = pd.DataFrame(plot_data, columns=[x_name, y_name])\n",
    "\n",
    "        fig, ax = plt.subplots(figsize=(16, 8))\n",
    "        sns.boxplot(x=x_name, y=y_name, data=df, showmeans=False, ax=ax)\n",
    "\n",
    "        means = df.groupby(x_name)[y_name].mean().reset_index()\n",
    "        sns.pointplot(\n",
    "            x=x_name,\n",
    "            y=y_name,\n",
    "            data=means,\n",
    "            color=\"red\",\n",
    "            linestyle=\"none\",\n",
    "            markers=\"o\",\n",
    "            estimator=np.mean,\n",
    "            errorbar=None,\n",
    "            ax=ax,\n",
    "        )\n",
    "\n",
    "        ax.set_yscale(\"log\")\n",
    "        ax.yaxis.set_major_formatter(ScalarFormatter())\n",
    "        ax.yaxis.set_minor_formatter(ScalarFormatter())\n",
    "        ax.ticklabel_format(style=\"plain\", axis=\"y\")\n",
    "\n",
    "        ax.set_title(f\"{title} - Group {FAMILY_GROUPS[i_group]}\")\n",
    "        plt.xticks(rotation=90)\n",
    "        plt.tight_layout()\n",
    "\n",
    "        plt.show()"
   ]
  },
  {
   "cell_type": "code",
   "execution_count": null,
   "id": "ec7434c46e39b37c",
   "metadata": {},
   "outputs": [],
   "source": [
    "plot_title = \"Loss Distribution per Outer Fold Grouped by Family Pairs\"\n",
    "make_plot(predictor.tune_loss_storage, \"fold_losses\", plot_title)"
   ]
  },
  {
   "cell_type": "markdown",
   "id": "57172f42abd726a7",
   "metadata": {},
   "source": [
    "## Make Submission\n",
    "### Train Predictor"
   ]
  },
  {
   "cell_type": "code",
   "execution_count": null,
   "id": "627cfe482984529d",
   "metadata": {},
   "outputs": [],
   "source": [
    "top_loss_predictor.fit(train_df, initial)"
   ]
  },
  {
   "cell_type": "code",
   "id": "ea9dd75bad53177b",
   "metadata": {
    "ExecuteTime": {
     "end_time": "2024-10-27T18:05:52.172066Z",
     "start_time": "2024-10-27T18:05:48.591704Z"
    }
   },
   "source": "daily_predictor.fit(train_df)",
   "outputs": [
    {
     "name": "stderr",
     "output_type": "stream",
     "text": [
      "\n",
      "\n",
      "  0%|          | 0/1782 [00:00<?, ?it/s]\u001B[A\u001B[A\n",
      "\n",
      "  0%|          | 1/1782 [00:00<11:40,  2.54it/s]\u001B[A\u001B[A\n",
      "\n",
      " 18%|█▊        | 326/1782 [00:00<00:01, 867.49it/s]\u001B[A\u001B[A\n",
      "\n",
      " 32%|███▏      | 572/1782 [00:00<00:00, 1306.38it/s]\u001B[A\u001B[A\n",
      "\n",
      " 51%|█████     | 909/1782 [00:00<00:00, 1888.81it/s]\u001B[A\u001B[A\n",
      "\n",
      " 71%|███████   | 1263/1782 [00:00<00:00, 2362.75it/s]\u001B[A\u001B[A\n",
      "\n",
      "100%|██████████| 1782/1782 [00:00<00:00, 1882.62it/s]\u001B[A\u001B[A\n"
     ]
    }
   ],
   "execution_count": 17
  },
  {
   "cell_type": "code",
   "execution_count": null,
   "id": "66ebb45ab65c026e",
   "metadata": {},
   "outputs": [],
   "source": [
    "# combine estimators\n",
    "predictor.combine_with_predictor(top_loss_predictor)"
   ]
  },
  {
   "cell_type": "markdown",
   "id": "ae6c78cec6f0f6fe",
   "metadata": {},
   "source": "### Predict && Save Submission"
  },
  {
   "cell_type": "code",
   "execution_count": 54,
   "id": "d6930ee298fa3db8",
   "metadata": {
    "ExecuteTime": {
     "end_time": "2024-10-27T15:17:10.904123Z",
     "start_time": "2024-10-27T15:17:10.881982Z"
    }
   },
   "outputs": [],
   "source": [
    "submission = load_submission()"
   ]
  },
  {
   "cell_type": "code",
   "id": "1baa2174320885dc",
   "metadata": {
    "ExecuteTime": {
     "end_time": "2024-10-27T18:06:09.353963Z",
     "start_time": "2024-10-27T18:06:09.277342Z"
    }
   },
   "source": [
    "predictions = daily_predictor.predict(test_df)\n",
    "\n",
    "predictions.set_index(\"id\", inplace=True)\n",
    "submission[\"sales\"] = predictions[\"yhat\"]"
   ],
   "outputs": [
    {
     "name": "stderr",
     "output_type": "stream",
     "text": [
      "\n",
      "\n",
      "  0%|          | 0/1782 [00:00<?, ?it/s]\u001B[A\u001B[A"
     ]
    },
    {
     "name": "stdout",
     "output_type": "stream",
     "text": [
      "123\n",
      "             ds  store_nbr      family       id  dcoilwtico      yhat\n",
      "0    2017-08-16          1  AUTOMOTIVE  3000888       46.80  4.909091\n",
      "1782 2017-08-17          1  AUTOMOTIVE  3002670       47.07  4.909091\n",
      "3564 2017-08-18          1  AUTOMOTIVE  3004452       48.59  4.909091\n",
      "5346 2017-08-19          1  AUTOMOTIVE  3006234       48.59  4.909091\n",
      "7128 2017-08-20          1  AUTOMOTIVE  3008016       48.59  4.909091\n"
     ]
    },
    {
     "name": "stderr",
     "output_type": "stream",
     "text": [
      "\n"
     ]
    },
    {
     "ename": "AttributeError",
     "evalue": "'NoneType' object has no attribute 'set_index'",
     "output_type": "error",
     "traceback": [
      "\u001B[0;31m---------------------------------------------------------------------------\u001B[0m",
      "\u001B[0;31mAttributeError\u001B[0m                            Traceback (most recent call last)",
      "Cell \u001B[0;32mIn[18], line 3\u001B[0m\n\u001B[1;32m      1\u001B[0m predictions \u001B[38;5;241m=\u001B[39m daily_predictor\u001B[38;5;241m.\u001B[39mpredict(test_df)\n\u001B[0;32m----> 3\u001B[0m \u001B[43mpredictions\u001B[49m\u001B[38;5;241;43m.\u001B[39;49m\u001B[43mset_index\u001B[49m(\u001B[38;5;124m\"\u001B[39m\u001B[38;5;124mid\u001B[39m\u001B[38;5;124m\"\u001B[39m, inplace\u001B[38;5;241m=\u001B[39m\u001B[38;5;28;01mTrue\u001B[39;00m)\n\u001B[1;32m      4\u001B[0m submission[\u001B[38;5;124m\"\u001B[39m\u001B[38;5;124msales\u001B[39m\u001B[38;5;124m\"\u001B[39m] \u001B[38;5;241m=\u001B[39m predictions[\u001B[38;5;124m\"\u001B[39m\u001B[38;5;124myhat\u001B[39m\u001B[38;5;124m\"\u001B[39m]\n",
      "\u001B[0;31mAttributeError\u001B[0m: 'NoneType' object has no attribute 'set_index'"
     ]
    }
   ],
   "execution_count": 18
  },
  {
   "cell_type": "code",
   "execution_count": 56,
   "id": "16ea81352fcaed2d",
   "metadata": {
    "ExecuteTime": {
     "end_time": "2024-10-27T15:17:26.713643Z",
     "start_time": "2024-10-27T15:17:26.640721Z"
    }
   },
   "outputs": [],
   "source": [
    "submission_file_path = os.path.join(SUBMISSIONS_PATH, \"combined_stat_submission.csv\")\n",
    "submission.to_csv(submission_file_path)"
   ]
  },
  {
   "cell_type": "code",
   "execution_count": null,
   "id": "39b79d30a4db0d7e",
   "metadata": {},
   "outputs": [],
   "source": []
  }
 ],
 "metadata": {
  "kernelspec": {
   "display_name": "Python 3",
   "language": "python",
   "name": "python3"
  },
  "language_info": {
   "codemirror_mode": {
    "name": "ipython",
    "version": 2
   },
   "file_extension": ".py",
   "mimetype": "text/x-python",
   "name": "python",
   "nbconvert_exporter": "python",
   "pygments_lexer": "ipython2",
   "version": "2.7.6"
  }
 },
 "nbformat": 4,
 "nbformat_minor": 5
}
