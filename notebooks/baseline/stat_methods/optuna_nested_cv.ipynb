{
 "cells": [
  {
   "cell_type": "markdown",
   "id": "7944a50b18bda6a9",
   "metadata": {},
   "source": "## Notebook Configuration && Imports"
  },
  {
   "cell_type": "code",
   "execution_count": 1,
   "id": "6a0eb6f080485bd8",
   "metadata": {
    "ExecuteTime": {
     "end_time": "2024-10-18T20:05:01.185353Z",
     "start_time": "2024-10-18T20:05:01.166878Z"
    }
   },
   "outputs": [],
   "source": [
    "%load_ext autoreload\n",
    "%autoreload 2"
   ]
  },
  {
   "cell_type": "code",
   "execution_count": 2,
   "id": "initial_id",
   "metadata": {
    "ExecuteTime": {
     "end_time": "2024-10-18T20:05:01.343334Z",
     "start_time": "2024-10-18T20:05:01.187037Z"
    }
   },
   "outputs": [],
   "source": [
    "import logging\n",
    "import os\n",
    "\n",
    "import numpy as np\n",
    "import pandas as pd\n",
    "\n",
    "from matplotlib.ticker import ScalarFormatter\n",
    "import matplotlib.pyplot as plt\n",
    "import seaborn as sns\n",
    "\n",
    "from storesales.baseline.sales_predictor import SalesPredictor\n",
    "from storesales.baseline.utils import (\n",
    "    run_study,\n",
    "    load_baseline_data,\n",
    "    load_submission,\n",
    "    make_time_series_split,\n",
    ")\n",
    "from storesales.baseline.model_wrappers import (\n",
    "    DailyMeanModelWrapper,\n",
    "    ProphetWrapper,\n",
    "    DayOfWeekMeanModelWrapper,\n",
    "    WeightedDayMeanModelWrapper,\n",
    ")\n",
    "from storesales.baseline.param_suggestions import (\n",
    "    IntSuggestions,\n",
    "    FloatSuggestions,\n",
    "    CategoricalSuggestions,\n",
    ")\n",
    "from storesales.baseline.constants import FAMILY_GROUPS, STORES\n",
    "from storesales.constants import SUBMISSIONS_PATH"
   ]
  },
  {
   "cell_type": "markdown",
   "id": "ab95d6eba147ea53",
   "metadata": {},
   "source": "## Load && Prepare Data"
  },
  {
   "cell_type": "code",
   "execution_count": 3,
   "id": "e9af06351917d9c5",
   "metadata": {
    "ExecuteTime": {
     "end_time": "2024-10-18T20:05:12.169952Z",
     "start_time": "2024-10-18T20:05:01.344608Z"
    }
   },
   "outputs": [],
   "source": [
    "train_df, test_df, holidays_df = load_baseline_data(use_light_gbm_preprocessing=True)"
   ]
  },
  {
   "cell_type": "markdown",
   "id": "ff226149104c2932",
   "metadata": {},
   "source": "## Prepare SalesPredictor"
  },
  {
   "cell_type": "code",
   "execution_count": 4,
   "id": "f1fa5fb0e9d2da12",
   "metadata": {
    "ExecuteTime": {
     "end_time": "2024-10-18T20:05:12.185574Z",
     "start_time": "2024-10-18T20:05:12.171536Z"
    }
   },
   "outputs": [],
   "source": [
    "initial = \"760 days\"  # train period"
   ]
  },
  {
   "cell_type": "markdown",
   "id": "cfac7dd33e54e09b",
   "metadata": {},
   "source": "### DailyMeanModelWrapper"
  },
  {
   "cell_type": "code",
   "execution_count": 5,
   "id": "affc96514997b59",
   "metadata": {
    "ExecuteTime": {
     "end_time": "2024-10-18T20:05:12.201599Z",
     "start_time": "2024-10-18T20:05:12.186590Z"
    }
   },
   "outputs": [],
   "source": [
    "daily_mean_int_suggestions = [IntSuggestions(\"window\", 3, 60)]"
   ]
  },
  {
   "cell_type": "code",
   "execution_count": 6,
   "id": "16ec88e6c287f411",
   "metadata": {
    "ExecuteTime": {
     "end_time": "2024-10-18T20:05:12.221046Z",
     "start_time": "2024-10-18T20:05:12.203028Z"
    }
   },
   "outputs": [],
   "source": [
    "daily_wrapper = DailyMeanModelWrapper(int_suggestions=daily_mean_int_suggestions)"
   ]
  },
  {
   "cell_type": "markdown",
   "id": "4dd5909dd8b1acd9",
   "metadata": {},
   "source": "### DayOfWeekMeanModelWrapper"
  },
  {
   "cell_type": "code",
   "execution_count": 7,
   "id": "3da1182d5d397c6d",
   "metadata": {
    "ExecuteTime": {
     "end_time": "2024-10-18T20:05:12.243034Z",
     "start_time": "2024-10-18T20:05:12.222336Z"
    }
   },
   "outputs": [],
   "source": [
    "day_of_week_mean_int_suggestions = [\n",
    "    IntSuggestions(\"weekdays_window\", 3, 50),\n",
    "    IntSuggestions(\"weekends_window\", 1, 10),\n",
    "]"
   ]
  },
  {
   "cell_type": "code",
   "execution_count": 8,
   "id": "66c125d1cd120bf9",
   "metadata": {
    "ExecuteTime": {
     "end_time": "2024-10-18T20:05:12.262043Z",
     "start_time": "2024-10-18T20:05:12.245129Z"
    }
   },
   "outputs": [],
   "source": [
    "day_of_week_wrapper = DayOfWeekMeanModelWrapper(\n",
    "    int_suggestions=day_of_week_mean_int_suggestions\n",
    ")"
   ]
  },
  {
   "cell_type": "markdown",
   "id": "7baf47f21e213782",
   "metadata": {},
   "source": "### WeightedDayMeanModelWrapper"
  },
  {
   "cell_type": "code",
   "execution_count": 9,
   "id": "2488c31b49903a5f",
   "metadata": {
    "ExecuteTime": {
     "end_time": "2024-10-18T20:05:12.280179Z",
     "start_time": "2024-10-18T20:05:12.263464Z"
    }
   },
   "outputs": [],
   "source": [
    "weighted_day_mean_int_suggestions = [\n",
    "    IntSuggestions(\"weeks_window\", 1, 7),\n",
    "    IntSuggestions(\"months_window\", 0, 12),\n",
    "    IntSuggestions(\"years_window\", 0, 4),\n",
    "]\n",
    "weighted_day_mean_float_suggestions = [\n",
    "    FloatSuggestions(\"week_weight\", 0.27, 0.39),\n",
    "    FloatSuggestions(\"month_weight\", 0.27, 0.39),\n",
    "    FloatSuggestions(\"year_weight\", 0.27, 0.39),\n",
    "]"
   ]
  },
  {
   "cell_type": "code",
   "execution_count": 10,
   "id": "f756548757c447f9",
   "metadata": {
    "ExecuteTime": {
     "end_time": "2024-10-18T20:05:12.297479Z",
     "start_time": "2024-10-18T20:05:12.281914Z"
    }
   },
   "outputs": [],
   "source": [
    "weighted_day_mean_wrapper = WeightedDayMeanModelWrapper(\n",
    "    int_suggestions=weighted_day_mean_int_suggestions,\n",
    "    float_suggestions=weighted_day_mean_float_suggestions,\n",
    ")"
   ]
  },
  {
   "cell_type": "markdown",
   "id": "132a210e8124fb6d",
   "metadata": {},
   "source": "### ProphetWrapper"
  },
  {
   "cell_type": "code",
   "execution_count": 11,
   "id": "3903a9df31004de5",
   "metadata": {
    "ExecuteTime": {
     "end_time": "2024-10-18T20:05:12.316997Z",
     "start_time": "2024-10-18T20:05:12.299247Z"
    }
   },
   "outputs": [],
   "source": [
    "prophet_int_suggestions = [\n",
    "    IntSuggestions(\"n_changepoints\", 20, 50),\n",
    "]\n",
    "prophet_float_suggestions = [\n",
    "    FloatSuggestions(\"changepoint_prior_scale\", 0.01, 0.5),\n",
    "    FloatSuggestions(\"holidays_prior_scale\", 5, 80),\n",
    "    FloatSuggestions(\"seasonality_prior_scale\", 5, 80),\n",
    "]\n",
    "prophet_categorical_suggestions = [\n",
    "    CategoricalSuggestions(\"seasonality_mode\", [\"additive\", \"multiplicative\"]),\n",
    "]\n",
    "\n",
    "prophet_base_params = {\n",
    "    \"daily_seasonality\": False,\n",
    "    \"weekly_seasonality\": True,\n",
    "    \"yearly_seasonality\": True,\n",
    "    \"uncertainty_samples\": False,\n",
    "    \"holidays\": holidays_df,\n",
    "}"
   ]
  },
  {
   "cell_type": "code",
   "execution_count": 12,
   "id": "80e54abbc02fd7b4",
   "metadata": {
    "ExecuteTime": {
     "end_time": "2024-10-18T20:05:12.336309Z",
     "start_time": "2024-10-18T20:05:12.318394Z"
    }
   },
   "outputs": [],
   "source": [
    "prophet_wrapper = ProphetWrapper(\n",
    "    initial=initial,\n",
    "    extra_regressors=[\"dcoilwtico\"],\n",
    "    int_suggestions=prophet_int_suggestions,\n",
    "    float_suggestions=prophet_float_suggestions,\n",
    "    categorical_suggestions=prophet_categorical_suggestions,\n",
    "    model_base_params=prophet_base_params,\n",
    ")"
   ]
  },
  {
   "cell_type": "markdown",
   "id": "379a12ab271cd53b",
   "metadata": {},
   "source": "### SalesPredictor"
  },
  {
   "cell_type": "code",
   "execution_count": 13,
   "id": "743ef8dc4ac6870c",
   "metadata": {
    "ExecuteTime": {
     "end_time": "2024-10-18T20:05:12.359956Z",
     "start_time": "2024-10-18T20:05:12.337837Z"
    }
   },
   "outputs": [],
   "source": [
    "model_wrappers = {\n",
    "    # DailyMeanModelWrapper.__name__: daily_wrapper,\n",
    "    # DayOfWeekMeanModelWrapper.__name__: day_of_week_wrapper,\n",
    "    WeightedDayMeanModelWrapper.__name__: weighted_day_mean_wrapper,\n",
    "    # ProphetWrapper.__name__: prophet_wrapper,  # disabled due to long training time\n",
    "}\n",
    "\n",
    "optuna_optimize_kwargs = dict(\n",
    "    n_trials=50,\n",
    "    show_progress_bar=True,\n",
    "    timeout=45,\n",
    ")\n",
    "\n",
    "outer_cutoffs_dates = [\n",
    "    # \"2016-08-16\",\n",
    "    # \"2016-09-10\",\n",
    "    # \"2016-10-01\",\n",
    "    # \"2016-10-25\",\n",
    "    # \"2016-11-18\",\n",
    "    # \"2016-12-10\",\n",
    "    # \"2017-01-01\",\n",
    "    # \"2017-01-23\",\n",
    "    # \"2017-02-20\",\n",
    "    # \"2017-03-12\",\n",
    "    \"2017-04-04\",\n",
    "    # \"2017-05-15\",\n",
    "    \"2017-07-31\",\n",
    "]\n",
    "outer_cutoffs = [pd.Timestamp(date) for date in outer_cutoffs_dates]\n",
    "\n",
    "family_group_to_stores = dict(\n",
    "    [[family_group, STORES] for family_group in FAMILY_GROUPS]\n",
    ")\n",
    "\n",
    "predictor = SalesPredictor(\n",
    "    model_wrappers=model_wrappers,\n",
    "    family_groups=FAMILY_GROUPS,\n",
    "    outer_cutoffs=outer_cutoffs,\n",
    "    inner_cutoffs=[-365, -180, -49, -17],\n",
    "    optuna_optimize_kwargs=optuna_optimize_kwargs,\n",
    "    n_group_store_family_choices=4,\n",
    "    n_single_store_family_choices=3,\n",
    "    family_group_to_stores=family_group_to_stores,\n",
    "    initial=initial,\n",
    ")"
   ]
  },
  {
   "cell_type": "markdown",
   "id": "6dc90224db392c2e",
   "metadata": {},
   "source": "## Run Study"
  },
  {
   "cell_type": "code",
   "execution_count": 14,
   "id": "2344c6f63819108b",
   "metadata": {
    "ExecuteTime": {
     "end_time": "2024-10-18T20:05:17.574045Z",
     "start_time": "2024-10-18T20:05:12.361441Z"
    }
   },
   "outputs": [
    {
     "name": "stderr",
     "output_type": "stream",
     "text": [
      "100%|██████████| 1729/1729 [00:03<00:00, 461.50it/s]\n"
     ]
    }
   ],
   "source": [
    "dataset = make_time_series_split(train_df, predictor.outer_cutoffs, 16)"
   ]
  },
  {
   "cell_type": "code",
   "id": "f1f5bb81aa492e35",
   "metadata": {},
   "source": [
    "predictor = run_study(dataset, predictor)"
   ],
   "outputs": [],
   "execution_count": null
  },
  {
   "cell_type": "markdown",
   "id": "b88ff76ad800843c",
   "metadata": {},
   "source": "## Analyze Loss Results && Select Top Loss Pairs"
  },
  {
   "cell_type": "code",
   "execution_count": 17,
   "id": "684344af1d12da92",
   "metadata": {
    "ExecuteTime": {
     "end_time": "2024-10-18T15:24:18.338544Z",
     "start_time": "2024-10-18T15:24:18.308753Z"
    }
   },
   "outputs": [],
   "source": [
    "families = []\n",
    "stores = []\n",
    "mean_loss = []\n",
    "\n",
    "for (store, family), losses in predictor.store_family_loss_storage.items():\n",
    "    mean_loss.append(np.mean(losses))\n",
    "    stores.append(store)\n",
    "    families.append(family)"
   ]
  },
  {
   "cell_type": "code",
   "id": "436b6a1bdddf3fec",
   "metadata": {},
   "source": [
    "loss_df = pd.DataFrame({\"store\": stores, \"family\": families, \"loss\": mean_loss})\n",
    "\n",
    "top_loss_df = loss_df.sort_values(\"loss\", ascending=False)[:100]\n",
    "top_loss_df"
   ],
   "outputs": [],
   "execution_count": null
  },
  {
   "cell_type": "code",
   "id": "b029ada8b7d39c15",
   "metadata": {},
   "source": [
    "top_loss_family_to_store = {}\n",
    "\n",
    "for family, stores in top_loss_df.groupby(\"family\")[\"store\"].apply(list).items():\n",
    "    top_loss_family_to_store[(family,)] = stores\n",
    "\n",
    "top_loss_family_to_store"
   ],
   "outputs": [],
   "execution_count": null
  },
  {
   "cell_type": "markdown",
   "id": "a6831fdecd36aa41",
   "metadata": {},
   "source": "## Fit Prophet For Top Loss Pairs"
  },
  {
   "cell_type": "code",
   "execution_count": null,
   "id": "8dc9ab23e5688436",
   "metadata": {},
   "outputs": [],
   "source": [
    "# top_loss_family_to_store.pop(('SCHOOL AND OFFICE SUPPLIES',))  # to speed up\n",
    "\n",
    "top_loss_family_groups = [family for family in top_loss_family_to_store.keys()]"
   ]
  },
  {
   "cell_type": "code",
   "execution_count": null,
   "id": "4da3bc36774ffaf1",
   "metadata": {},
   "outputs": [],
   "source": [
    "model_wrappers = {ProphetWrapper.__name__: prophet_wrapper}\n",
    "\n",
    "optuna_optimize_kwargs = dict(\n",
    "    n_trials=100,\n",
    "    show_progress_bar=True,\n",
    "    timeout=85,\n",
    ")\n",
    "\n",
    "outer_cutoffs_dates = [\n",
    "    # \"2016-08-16\",\n",
    "    \"2017-05-15\",\n",
    "    \"2017-07-31\",\n",
    "]\n",
    "outer_cutoffs = [pd.Timestamp(date) for date in outer_cutoffs_dates]\n",
    "\n",
    "top_loss_predictor = SalesPredictor(\n",
    "    model_wrappers=model_wrappers,\n",
    "    family_groups=top_loss_family_groups,\n",
    "    outer_cutoffs=outer_cutoffs,\n",
    "    inner_cutoffs=[-365, -180, -100, -49, -33, -17],\n",
    "    optuna_optimize_kwargs=optuna_optimize_kwargs,\n",
    "    n_group_store_family_choices=4,\n",
    "    n_single_store_family_choices=4,\n",
    "    family_group_to_stores=top_loss_family_to_store,\n",
    ")"
   ]
  },
  {
   "cell_type": "code",
   "execution_count": null,
   "id": "672443043a7ceabb",
   "metadata": {},
   "outputs": [],
   "source": [
    "top_loss_dataset = make_time_series_split(\n",
    "    train_df.copy(), top_loss_predictor.outer_cutoffs, 16\n",
    ")"
   ]
  },
  {
   "cell_type": "code",
   "execution_count": null,
   "id": "6865d963d091bf40",
   "metadata": {},
   "outputs": [],
   "source": [
    "logger = logging.getLogger(\"cmdstanpy\")\n",
    "logger.setLevel(logging.ERROR)\n",
    "\n",
    "top_loss_predictor = run_study(top_loss_dataset, top_loss_predictor)"
   ]
  },
  {
   "metadata": {},
   "cell_type": "markdown",
   "source": "## Analyze Loss Results",
   "id": "e2496303c30586a4"
  },
  {
   "cell_type": "code",
   "execution_count": null,
   "id": "2f4b2c19faf4af51",
   "metadata": {},
   "outputs": [],
   "source": [
    "def make_plot(data_dict, loss_sample_name, title):\n",
    "    x_name = \"outer cv fold start\"\n",
    "    y_name = \"loss\"\n",
    "\n",
    "    for i_group, samples in enumerate(data_dict.values()):\n",
    "        plot_data = [\n",
    "            [outer_cutoffs_dates[sample], loss]\n",
    "            for sample, losses in samples[loss_sample_name].items()\n",
    "            for loss in losses\n",
    "        ]\n",
    "\n",
    "        df = pd.DataFrame(plot_data, columns=[x_name, y_name])\n",
    "\n",
    "        fig, ax = plt.subplots(figsize=(16, 8))\n",
    "        sns.boxplot(x=x_name, y=y_name, data=df, showmeans=False, ax=ax)\n",
    "\n",
    "        means = df.groupby(x_name)[y_name].mean().reset_index()\n",
    "        sns.pointplot(\n",
    "            x=x_name,\n",
    "            y=y_name,\n",
    "            data=means,\n",
    "            color=\"red\",\n",
    "            linestyle=\"none\",\n",
    "            markers=\"o\",\n",
    "            estimator=np.mean,\n",
    "            errorbar=None,\n",
    "            ax=ax,\n",
    "        )\n",
    "\n",
    "        ax.set_yscale(\"log\")\n",
    "        ax.yaxis.set_major_formatter(ScalarFormatter())\n",
    "        ax.yaxis.set_minor_formatter(ScalarFormatter())\n",
    "        ax.ticklabel_format(style=\"plain\", axis=\"y\")\n",
    "\n",
    "        ax.set_title(f\"{title} - Group {FAMILY_GROUPS[i_group]}\")\n",
    "        plt.xticks(rotation=90)\n",
    "        plt.tight_layout()\n",
    "\n",
    "        plt.show()"
   ]
  },
  {
   "cell_type": "code",
   "execution_count": null,
   "id": "ec7434c46e39b37c",
   "metadata": {},
   "outputs": [],
   "source": [
    "plot_title = \"Loss Distribution per Outer Fold Grouped by Family Pairs\"\n",
    "make_plot(predictor.tune_loss_storage, \"fold_losses\", plot_title)"
   ]
  },
  {
   "cell_type": "markdown",
   "id": "57172f42abd726a7",
   "metadata": {},
   "source": [
    "## Make Submission\n",
    "### Train Predictor"
   ]
  },
  {
   "cell_type": "code",
   "execution_count": null,
   "id": "627cfe482984529d",
   "metadata": {},
   "outputs": [],
   "source": [
    "top_loss_predictor.fit(train_df, initial)"
   ]
  },
  {
   "cell_type": "code",
   "execution_count": 20,
   "id": "ea9dd75bad53177b",
   "metadata": {
    "ExecuteTime": {
     "end_time": "2024-10-18T15:26:50.838305Z",
     "start_time": "2024-10-18T15:24:42.019357Z"
    }
   },
   "outputs": [
    {
     "name": "stderr",
     "output_type": "stream",
     "text": [
      "100%|██████████| 1782/1782 [02:08<00:00, 13.84it/s]\n"
     ]
    }
   ],
   "source": [
    "predictor.fit(train_df, initial)"
   ]
  },
  {
   "cell_type": "code",
   "execution_count": null,
   "id": "66ebb45ab65c026e",
   "metadata": {},
   "outputs": [],
   "source": [
    "# combine estimators\n",
    "predictor.combine_with_predictor(top_loss_predictor)"
   ]
  },
  {
   "cell_type": "markdown",
   "id": "ae6c78cec6f0f6fe",
   "metadata": {},
   "source": "### Predict && Save Submission"
  },
  {
   "cell_type": "code",
   "execution_count": 21,
   "id": "d6930ee298fa3db8",
   "metadata": {
    "ExecuteTime": {
     "end_time": "2024-10-18T15:26:55.853517Z",
     "start_time": "2024-10-18T15:26:55.832744Z"
    }
   },
   "outputs": [],
   "source": [
    "submission = load_submission()"
   ]
  },
  {
   "cell_type": "code",
   "execution_count": 22,
   "id": "1baa2174320885dc",
   "metadata": {
    "ExecuteTime": {
     "end_time": "2024-10-18T15:28:13.422905Z",
     "start_time": "2024-10-18T15:27:00.839713Z"
    }
   },
   "outputs": [
    {
     "name": "stderr",
     "output_type": "stream",
     "text": [
      "100%|██████████| 1782/1782 [01:12<00:00, 24.61it/s]\n"
     ]
    }
   ],
   "source": [
    "tuned_submission = predictor.predict(test_df, submission)"
   ]
  },
  {
   "cell_type": "code",
   "execution_count": 24,
   "id": "16ea81352fcaed2d",
   "metadata": {
    "ExecuteTime": {
     "end_time": "2024-10-18T15:28:26.458905Z",
     "start_time": "2024-10-18T15:28:26.338414Z"
    }
   },
   "outputs": [],
   "source": [
    "submission_file_path = os.path.join(SUBMISSIONS_PATH, \"test_WeightedDayMeanModel.csv\")\n",
    "tuned_submission.to_csv(submission_file_path)"
   ]
  },
  {
   "cell_type": "code",
   "execution_count": null,
   "id": "39b79d30a4db0d7e",
   "metadata": {},
   "outputs": [],
   "source": []
  }
 ],
 "metadata": {
  "kernelspec": {
   "display_name": "Python 3",
   "language": "python",
   "name": "python3"
  },
  "language_info": {
   "codemirror_mode": {
    "name": "ipython",
    "version": 2
   },
   "file_extension": ".py",
   "mimetype": "text/x-python",
   "name": "python",
   "nbconvert_exporter": "python",
   "pygments_lexer": "ipython2",
   "version": "2.7.6"
  }
 },
 "nbformat": 4,
 "nbformat_minor": 5
}
