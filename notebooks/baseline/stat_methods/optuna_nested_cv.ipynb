{
 "cells": [
  {
   "cell_type": "markdown",
   "id": "7944a50b18bda6a9",
   "metadata": {},
   "source": "## Notebook Configuration && Imports"
  },
  {
   "cell_type": "code",
   "id": "6a0eb6f080485bd8",
   "metadata": {
    "ExecuteTime": {
     "end_time": "2024-10-11T12:08:03.872098Z",
     "start_time": "2024-10-11T12:08:03.851891Z"
    }
   },
   "source": [
    "%load_ext autoreload\n",
    "%autoreload 2"
   ],
   "outputs": [],
   "execution_count": 1
  },
  {
   "cell_type": "code",
   "id": "initial_id",
   "metadata": {
    "ExecuteTime": {
     "end_time": "2024-10-11T14:20:51.272734Z",
     "start_time": "2024-10-11T14:20:50.584243Z"
    }
   },
   "source": [
    "import logging\n",
    "\n",
    "import pandas as pd\n",
    "\n",
    "import optuna\n",
    "from sklearn.model_selection import TimeSeriesSplit\n",
    "from matplotlib.ticker import ScalarFormatter\n",
    "import matplotlib.pyplot as plt\n",
    "import seaborn as sns\n",
    "\n",
    "from storesales.baseline.sales_predictor import SalesPredictor\n",
    "from storesales.baseline.utils import (\n",
    "    run_study,\n",
    "    load_baseline_data,\n",
    "    load_submission,\n",
    "    make_time_series_split,\n",
    ")\n",
    "from storesales.baseline.model_wrappers import (\n",
    "    DailyMeanModelWrapper,\n",
    "    ProphetWrapper,\n",
    "    DayOfWeekMeanModelWrapper,\n",
    ")\n",
    "from storesales.baseline.param_suggestions import (\n",
    "    IntSuggestions,\n",
    "    FloatSuggestions,\n",
    "    CategoricalSuggestions,\n",
    ")\n",
    "from storesales.baseline.constants import FAMILY_GROUPS, N_STORES\n",
    "from storesales.constants import SUBMISSIONS_PATH"
   ],
   "outputs": [],
   "execution_count": 66
  },
  {
   "cell_type": "markdown",
   "id": "ab95d6eba147ea53",
   "metadata": {},
   "source": "## Load && Prepare Data"
  },
  {
   "cell_type": "code",
   "id": "e9af06351917d9c5",
   "metadata": {
    "ExecuteTime": {
     "end_time": "2024-10-11T12:08:08.509056Z",
     "start_time": "2024-10-11T12:08:05.299346Z"
    }
   },
   "source": [
    "train_df, test_df, holidays_df = load_baseline_data()"
   ],
   "outputs": [],
   "execution_count": 3
  },
  {
   "cell_type": "markdown",
   "id": "ff226149104c2932",
   "metadata": {},
   "source": "## Prepare SalesPredictor"
  },
  {
   "cell_type": "code",
   "id": "f1fa5fb0e9d2da12",
   "metadata": {
    "ExecuteTime": {
     "end_time": "2024-10-11T12:08:08.527624Z",
     "start_time": "2024-10-11T12:08:08.510145Z"
    }
   },
   "source": [
    "initial = \"760 days\"  # train period"
   ],
   "outputs": [],
   "execution_count": 4
  },
  {
   "cell_type": "markdown",
   "id": "cfac7dd33e54e09b",
   "metadata": {},
   "source": "### DailyMeanModelWrapper"
  },
  {
   "cell_type": "code",
   "id": "affc96514997b59",
   "metadata": {
    "ExecuteTime": {
     "end_time": "2024-10-11T12:08:08.548629Z",
     "start_time": "2024-10-11T12:08:08.530428Z"
    }
   },
   "source": [
    "daily_mean_int_suggestions = [IntSuggestions(\"window\", 3, 60)]"
   ],
   "outputs": [],
   "execution_count": 5
  },
  {
   "cell_type": "code",
   "id": "16ec88e6c287f411",
   "metadata": {
    "ExecuteTime": {
     "end_time": "2024-10-11T12:08:08.572017Z",
     "start_time": "2024-10-11T12:08:08.550028Z"
    }
   },
   "source": [
    "daily_wrapper = DailyMeanModelWrapper(int_suggestions=daily_mean_int_suggestions)"
   ],
   "outputs": [],
   "execution_count": 6
  },
  {
   "cell_type": "markdown",
   "id": "4dd5909dd8b1acd9",
   "metadata": {},
   "source": "### DayOfWeekMeanModelWrapper"
  },
  {
   "cell_type": "code",
   "id": "3da1182d5d397c6d",
   "metadata": {
    "ExecuteTime": {
     "end_time": "2024-10-11T12:08:08.595828Z",
     "start_time": "2024-10-11T12:08:08.573523Z"
    }
   },
   "source": [
    "day_of_week_mean_int_suggestions = [\n",
    "    IntSuggestions(\"weekdays_window\", 3, 50),\n",
    "    IntSuggestions(\"weekends_window\", 1, 10),\n",
    "]"
   ],
   "outputs": [],
   "execution_count": 7
  },
  {
   "cell_type": "code",
   "id": "66c125d1cd120bf9",
   "metadata": {
    "ExecuteTime": {
     "end_time": "2024-10-11T12:08:08.618939Z",
     "start_time": "2024-10-11T12:08:08.597703Z"
    }
   },
   "source": [
    "day_of_week_wrapper = DayOfWeekMeanModelWrapper(\n",
    "    int_suggestions=day_of_week_mean_int_suggestions\n",
    ")"
   ],
   "outputs": [],
   "execution_count": 8
  },
  {
   "cell_type": "markdown",
   "id": "132a210e8124fb6d",
   "metadata": {},
   "source": "### ProphetWrapper"
  },
  {
   "cell_type": "code",
   "id": "3903a9df31004de5",
   "metadata": {
    "ExecuteTime": {
     "end_time": "2024-10-11T12:08:08.637203Z",
     "start_time": "2024-10-11T12:08:08.620184Z"
    }
   },
   "source": [
    "prophet_int_suggestions = [\n",
    "    IntSuggestions(\"n_changepoints\", 20, 50),\n",
    "]\n",
    "prophet_float_suggestions = [\n",
    "    FloatSuggestions(\"changepoint_prior_scale\", 0.01, 0.5),\n",
    "    FloatSuggestions(\"holidays_prior_scale\", 5, 80),\n",
    "    FloatSuggestions(\"seasonality_prior_scale\", 5, 80),\n",
    "]\n",
    "prophet_categorical_suggestions = [\n",
    "    CategoricalSuggestions(\"seasonality_mode\", [\"additive\", \"multiplicative\"]),\n",
    "]\n",
    "\n",
    "prophet_base_params = {\n",
    "    \"daily_seasonality\": False,\n",
    "    \"weekly_seasonality\": True,\n",
    "    \"yearly_seasonality\": True,\n",
    "    \"uncertainty_samples\": False,\n",
    "    \"holidays\": holidays_df,\n",
    "}"
   ],
   "outputs": [],
   "execution_count": 9
  },
  {
   "cell_type": "code",
   "id": "80e54abbc02fd7b4",
   "metadata": {
    "ExecuteTime": {
     "end_time": "2024-10-11T12:08:08.661937Z",
     "start_time": "2024-10-11T12:08:08.639525Z"
    }
   },
   "source": [
    "prophet_wrapper = ProphetWrapper(\n",
    "    initial=initial,\n",
    "    extra_regressors=[\"dcoilwtico\"],\n",
    "    int_suggestions=prophet_int_suggestions,\n",
    "    float_suggestions=prophet_float_suggestions,\n",
    "    categorical_suggestions=prophet_categorical_suggestions,\n",
    "    model_base_params=prophet_base_params,\n",
    ")"
   ],
   "outputs": [],
   "execution_count": 10
  },
  {
   "cell_type": "markdown",
   "id": "379a12ab271cd53b",
   "metadata": {},
   "source": "### SalesPredictor"
  },
  {
   "cell_type": "code",
   "id": "743ef8dc4ac6870c",
   "metadata": {
    "ExecuteTime": {
     "end_time": "2024-10-11T12:57:21.967108Z",
     "start_time": "2024-10-11T12:57:21.944299Z"
    }
   },
   "source": [
    "model_wrappers = {\n",
    "    DailyMeanModelWrapper.__name__: daily_wrapper,\n",
    "    DayOfWeekMeanModelWrapper.__name__: day_of_week_wrapper,\n",
    "    # ProphetWrapper.__name__: prophet_wrapper,\n",
    "}\n",
    "\n",
    "optuna_optimize_kwargs = dict(\n",
    "    n_trials=100,\n",
    "    show_progress_bar=True,\n",
    "    timeout=45,\n",
    "    n_jobs=1,\n",
    ")\n",
    "\n",
    "outer_cutoffs_dates = [\"2017-02-27\", \"2017-05-15\", \"2017-07-31\"]\n",
    "outer_cutoffs = [pd.Timestamp(date) for date in outer_cutoffs_dates]\n",
    "predictor = SalesPredictor(\n",
    "    model_wrappers=model_wrappers,\n",
    "    family_groups=FAMILY_GROUPS,\n",
    "    outer_cutoffs=outer_cutoffs,\n",
    "    inner_cutoffs=[-180, -49, -33, -17],\n",
    "    outer_cv=TimeSeriesSplit(n_splits=3, test_size=16),\n",
    "    optuna_optimize_kwargs=optuna_optimize_kwargs,\n",
    "    n_group_store_family_choices=4,\n",
    "    n_single_store_family_choices=2,\n",
    ")"
   ],
   "outputs": [],
   "execution_count": 61
  },
  {
   "cell_type": "markdown",
   "id": "6dc90224db392c2e",
   "metadata": {},
   "source": "## Run Study"
  },
  {
   "metadata": {},
   "cell_type": "code",
   "source": "dataset = make_time_series_split(train_df, predictor.outer_cutoffs, 16)",
   "id": "2344c6f63819108b",
   "outputs": [],
   "execution_count": null
  },
  {
   "metadata": {
    "ExecuteTime": {
     "end_time": "2024-10-11T13:02:35.607450Z",
     "start_time": "2024-10-11T12:57:29.839667Z"
    }
   },
   "cell_type": "code",
   "source": [
    "optuna.logging.set_verbosity(optuna.logging.WARN)\n",
    "logging.getLogger(\"cmdstanpy\").setLevel(logging.WARNING)\n",
    "\n",
    "sales_predictor = run_study(train_df, dataset, predictor)"
   ],
   "id": "f1f5bb81aa492e35",
   "outputs": [
    {
     "name": "stdout",
     "output_type": "stream",
     "text": [
      "\n",
      "\n",
      "Family: DELI - Store: 44\n"
     ]
    },
    {
     "data": {
      "text/plain": [
       "  0%|          | 0/100 [00:00<?, ?it/s]"
      ],
      "application/vnd.jupyter.widget-view+json": {
       "version_major": 2,
       "version_minor": 0,
       "model_id": "07056eddb31d4c1e8744ca06dad3b639"
      }
     },
     "metadata": {},
     "output_type": "display_data"
    },
    {
     "name": "stdout",
     "output_type": "stream",
     "text": [
      "Outer: DOWMeanModel(weekdays=3, weekends=5) - RMSLE: 0.3117820617203064\n"
     ]
    },
    {
     "data": {
      "text/plain": [
       "  0%|          | 0/100 [00:00<?, ?it/s]"
      ],
      "application/vnd.jupyter.widget-view+json": {
       "version_major": 2,
       "version_minor": 0,
       "model_id": "0f31cc6afde240228225ef7c87796809"
      }
     },
     "metadata": {},
     "output_type": "display_data"
    },
    {
     "name": "stdout",
     "output_type": "stream",
     "text": [
      "Outer: DOWMeanModel(weekdays=27, weekends=3) - RMSLE: 0.2942086252327956\n"
     ]
    },
    {
     "data": {
      "text/plain": [
       "  0%|          | 0/100 [00:00<?, ?it/s]"
      ],
      "application/vnd.jupyter.widget-view+json": {
       "version_major": 2,
       "version_minor": 0,
       "model_id": "57537787cdae42aa95e0c66271f1b64d"
      }
     },
     "metadata": {},
     "output_type": "display_data"
    },
    {
     "name": "stdout",
     "output_type": "stream",
     "text": [
      "Outer: DOWMeanModel(weekdays=22, weekends=7) - RMSLE: 0.3068320577685059\n",
      "\n",
      "Family: DELI - Store: 44 RMSLE: 0.304274248240536\n",
      "\n",
      "\n",
      "Family: GROCERY I - Store: 21\n"
     ]
    },
    {
     "data": {
      "text/plain": [
       "  0%|          | 0/100 [00:00<?, ?it/s]"
      ],
      "application/vnd.jupyter.widget-view+json": {
       "version_major": 2,
       "version_minor": 0,
       "model_id": "f4680d7c69fd4d08a36dba163a38cbfb"
      }
     },
     "metadata": {},
     "output_type": "display_data"
    },
    {
     "name": "stdout",
     "output_type": "stream",
     "text": [
      "Outer: DOWMeanModel(weekdays=3, weekends=4) - RMSLE: 0.3163730347992381\n"
     ]
    },
    {
     "data": {
      "text/plain": [
       "  0%|          | 0/100 [00:00<?, ?it/s]"
      ],
      "application/vnd.jupyter.widget-view+json": {
       "version_major": 2,
       "version_minor": 0,
       "model_id": "08e98de36e7e4ff99151fd3ebc51be76"
      }
     },
     "metadata": {},
     "output_type": "display_data"
    },
    {
     "name": "stdout",
     "output_type": "stream",
     "text": [
      "Outer: DOWMeanModel(weekdays=45, weekends=2) - RMSLE: 0.31246109027243324\n"
     ]
    },
    {
     "data": {
      "text/plain": [
       "  0%|          | 0/100 [00:00<?, ?it/s]"
      ],
      "application/vnd.jupyter.widget-view+json": {
       "version_major": 2,
       "version_minor": 0,
       "model_id": "d26cc1aa71d9480bbc15b890959ac134"
      }
     },
     "metadata": {},
     "output_type": "display_data"
    },
    {
     "name": "stdout",
     "output_type": "stream",
     "text": [
      "Outer: DOWMeanModel(weekdays=3, weekends=8) - RMSLE: 0.33740705364722945\n",
      "\n",
      "Family: GROCERY I - Store: 21 RMSLE: 0.32208039290630025\n",
      "\n",
      "\n",
      "Family: GROCERY I - Store: 26\n"
     ]
    },
    {
     "data": {
      "text/plain": [
       "  0%|          | 0/100 [00:00<?, ?it/s]"
      ],
      "application/vnd.jupyter.widget-view+json": {
       "version_major": 2,
       "version_minor": 0,
       "model_id": "d739a27b307240a5aea502c900d8b58d"
      }
     },
     "metadata": {},
     "output_type": "display_data"
    },
    {
     "name": "stdout",
     "output_type": "stream",
     "text": [
      "Outer: DOWMeanModel(weekdays=4, weekends=4) - RMSLE: 0.31028274707056397\n"
     ]
    },
    {
     "data": {
      "text/plain": [
       "  0%|          | 0/100 [00:00<?, ?it/s]"
      ],
      "application/vnd.jupyter.widget-view+json": {
       "version_major": 2,
       "version_minor": 0,
       "model_id": "e6c2babd78fc47299429c5fd2ea5f13d"
      }
     },
     "metadata": {},
     "output_type": "display_data"
    },
    {
     "name": "stdout",
     "output_type": "stream",
     "text": [
      "Outer: DOWMeanModel(weekdays=12, weekends=1) - RMSLE: 0.33445096903026195\n"
     ]
    },
    {
     "data": {
      "text/plain": [
       "  0%|          | 0/100 [00:00<?, ?it/s]"
      ],
      "application/vnd.jupyter.widget-view+json": {
       "version_major": 2,
       "version_minor": 0,
       "model_id": "bba4721ff2d14731ac43dbcda07344b2"
      }
     },
     "metadata": {},
     "output_type": "display_data"
    },
    {
     "name": "stdout",
     "output_type": "stream",
     "text": [
      "Outer: DOWMeanModel(weekdays=17, weekends=3) - RMSLE: 0.3179744463823663\n",
      "\n",
      "Family: GROCERY I - Store: 26 RMSLE: 0.3209027208277308\n",
      "\n",
      "\n",
      "Family: PERSONAL CARE - Store: 5\n"
     ]
    },
    {
     "data": {
      "text/plain": [
       "  0%|          | 0/100 [00:00<?, ?it/s]"
      ],
      "application/vnd.jupyter.widget-view+json": {
       "version_major": 2,
       "version_minor": 0,
       "model_id": "122c39d533a6457f95fdc54cb2927554"
      }
     },
     "metadata": {},
     "output_type": "display_data"
    },
    {
     "name": "stdout",
     "output_type": "stream",
     "text": [
      "Outer: DOWMeanModel(weekdays=49, weekends=10) - RMSLE: 0.28007027458539824\n"
     ]
    },
    {
     "data": {
      "text/plain": [
       "  0%|          | 0/100 [00:00<?, ?it/s]"
      ],
      "application/vnd.jupyter.widget-view+json": {
       "version_major": 2,
       "version_minor": 0,
       "model_id": "5a591d32957f485a8b1466fd1686d17a"
      }
     },
     "metadata": {},
     "output_type": "display_data"
    },
    {
     "name": "stdout",
     "output_type": "stream",
     "text": [
      "Outer: DOWMeanModel(weekdays=40, weekends=10) - RMSLE: 0.3016588315903753\n"
     ]
    },
    {
     "data": {
      "text/plain": [
       "  0%|          | 0/100 [00:00<?, ?it/s]"
      ],
      "application/vnd.jupyter.widget-view+json": {
       "version_major": 2,
       "version_minor": 0,
       "model_id": "a845eea2f38d4e69bfa58d2b088b8e76"
      }
     },
     "metadata": {},
     "output_type": "display_data"
    },
    {
     "name": "stdout",
     "output_type": "stream",
     "text": [
      "Outer: DOWMeanModel(weekdays=39, weekends=10) - RMSLE: 0.3144492606805086\n",
      "\n",
      "Family: PERSONAL CARE - Store: 5 RMSLE: 0.2987261222854274\n",
      "\n",
      "\n",
      "Family: POULTRY - Store: 19\n"
     ]
    },
    {
     "data": {
      "text/plain": [
       "  0%|          | 0/100 [00:00<?, ?it/s]"
      ],
      "application/vnd.jupyter.widget-view+json": {
       "version_major": 2,
       "version_minor": 0,
       "model_id": "7202203c0959403cb30fdd7f9c2e148f"
      }
     },
     "metadata": {},
     "output_type": "display_data"
    },
    {
     "name": "stdout",
     "output_type": "stream",
     "text": [
      "Outer: DOWMeanModel(weekdays=50, weekends=3) - RMSLE: 0.32995866886903924\n"
     ]
    },
    {
     "data": {
      "text/plain": [
       "  0%|          | 0/100 [00:00<?, ?it/s]"
      ],
      "application/vnd.jupyter.widget-view+json": {
       "version_major": 2,
       "version_minor": 0,
       "model_id": "58f6a7fda4a343639db5b5821658246a"
      }
     },
     "metadata": {},
     "output_type": "display_data"
    },
    {
     "name": "stdout",
     "output_type": "stream",
     "text": [
      "Outer: DOWMeanModel(weekdays=20, weekends=5) - RMSLE: 0.3020534666498351\n"
     ]
    },
    {
     "data": {
      "text/plain": [
       "  0%|          | 0/100 [00:00<?, ?it/s]"
      ],
      "application/vnd.jupyter.widget-view+json": {
       "version_major": 2,
       "version_minor": 0,
       "model_id": "346e09e0caea4953b9d5c96eeec43b0b"
      }
     },
     "metadata": {},
     "output_type": "display_data"
    },
    {
     "name": "stdout",
     "output_type": "stream",
     "text": [
      "Outer: DOWMeanModel(weekdays=16, weekends=9) - RMSLE: 0.3040238617981015\n",
      "\n",
      "Family: POULTRY - Store: 19 RMSLE: 0.31201199910565863\n",
      "\n",
      "\n",
      "Family: EGGS - Store: 4\n"
     ]
    },
    {
     "data": {
      "text/plain": [
       "  0%|          | 0/100 [00:00<?, ?it/s]"
      ],
      "application/vnd.jupyter.widget-view+json": {
       "version_major": 2,
       "version_minor": 0,
       "model_id": "4873c31ca933423c861f50c552c1b3f5"
      }
     },
     "metadata": {},
     "output_type": "display_data"
    },
    {
     "name": "stdout",
     "output_type": "stream",
     "text": [
      "Outer: DOWMeanModel(weekdays=44, weekends=2) - RMSLE: 0.33963349092464307\n"
     ]
    },
    {
     "data": {
      "text/plain": [
       "  0%|          | 0/100 [00:00<?, ?it/s]"
      ],
      "application/vnd.jupyter.widget-view+json": {
       "version_major": 2,
       "version_minor": 0,
       "model_id": "d998893e3e7c409d9dc6dcc63a2d7508"
      }
     },
     "metadata": {},
     "output_type": "display_data"
    },
    {
     "name": "stdout",
     "output_type": "stream",
     "text": [
      "Outer: DOWMeanModel(weekdays=25, weekends=6) - RMSLE: 0.30564707457650936\n"
     ]
    },
    {
     "data": {
      "text/plain": [
       "  0%|          | 0/100 [00:00<?, ?it/s]"
      ],
      "application/vnd.jupyter.widget-view+json": {
       "version_major": 2,
       "version_minor": 0,
       "model_id": "8c71522778084fe2b3f719f83639a4cd"
      }
     },
     "metadata": {},
     "output_type": "display_data"
    },
    {
     "name": "stdout",
     "output_type": "stream",
     "text": [
      "Outer: DOWMeanModel(weekdays=14, weekends=2) - RMSLE: 0.30444615253220597\n",
      "\n",
      "Family: EGGS - Store: 4 RMSLE: 0.31657557267778613\n",
      "\n",
      "\n",
      "Family: BREAD/BAKERY - Store: 18\n"
     ]
    },
    {
     "data": {
      "text/plain": [
       "  0%|          | 0/100 [00:00<?, ?it/s]"
      ],
      "application/vnd.jupyter.widget-view+json": {
       "version_major": 2,
       "version_minor": 0,
       "model_id": "dfa38564e2ba4680b270028c18285e46"
      }
     },
     "metadata": {},
     "output_type": "display_data"
    },
    {
     "name": "stdout",
     "output_type": "stream",
     "text": [
      "Outer: DailyMeanModel(window=8) - RMSLE: 0.3449855385182049\n"
     ]
    },
    {
     "data": {
      "text/plain": [
       "  0%|          | 0/100 [00:00<?, ?it/s]"
      ],
      "application/vnd.jupyter.widget-view+json": {
       "version_major": 2,
       "version_minor": 0,
       "model_id": "08fe9e38fad0467cb04540006fb04e91"
      }
     },
     "metadata": {},
     "output_type": "display_data"
    },
    {
     "name": "stdout",
     "output_type": "stream",
     "text": [
      "Outer: DOWMeanModel(weekdays=20, weekends=2) - RMSLE: 0.3118056915997777\n"
     ]
    },
    {
     "data": {
      "text/plain": [
       "  0%|          | 0/100 [00:00<?, ?it/s]"
      ],
      "application/vnd.jupyter.widget-view+json": {
       "version_major": 2,
       "version_minor": 0,
       "model_id": "75d6183d5c2c405fa8c18ca997591e6b"
      }
     },
     "metadata": {},
     "output_type": "display_data"
    },
    {
     "name": "stdout",
     "output_type": "stream",
     "text": [
      "Outer: DOWMeanModel(weekdays=40, weekends=4) - RMSLE: 0.3015643057305829\n",
      "\n",
      "Family: BREAD/BAKERY - Store: 18 RMSLE: 0.31945184528285514\n",
      "\n",
      "\n",
      "Family: DAIRY - Store: 35\n"
     ]
    },
    {
     "data": {
      "text/plain": [
       "  0%|          | 0/100 [00:00<?, ?it/s]"
      ],
      "application/vnd.jupyter.widget-view+json": {
       "version_major": 2,
       "version_minor": 0,
       "model_id": "e9bc589af77149ad992b0208a79a2909"
      }
     },
     "metadata": {},
     "output_type": "display_data"
    },
    {
     "name": "stdout",
     "output_type": "stream",
     "text": [
      "Outer: DOWMeanModel(weekdays=46, weekends=8) - RMSLE: 0.30292211808959013\n"
     ]
    },
    {
     "data": {
      "text/plain": [
       "  0%|          | 0/100 [00:00<?, ?it/s]"
      ],
      "application/vnd.jupyter.widget-view+json": {
       "version_major": 2,
       "version_minor": 0,
       "model_id": "289a70e344b345be8320b5a17fb5bd0c"
      }
     },
     "metadata": {},
     "output_type": "display_data"
    },
    {
     "name": "stdout",
     "output_type": "stream",
     "text": [
      "Outer: DOWMeanModel(weekdays=37, weekends=6) - RMSLE: 0.3118800481577486\n"
     ]
    },
    {
     "data": {
      "text/plain": [
       "  0%|          | 0/100 [00:00<?, ?it/s]"
      ],
      "application/vnd.jupyter.widget-view+json": {
       "version_major": 2,
       "version_minor": 0,
       "model_id": "4a1b3c0b667c44dd93cefe170d467fac"
      }
     },
     "metadata": {},
     "output_type": "display_data"
    },
    {
     "name": "stdout",
     "output_type": "stream",
     "text": [
      "Outer: DOWMeanModel(weekdays=6, weekends=10) - RMSLE: 0.310850772450196\n",
      "\n",
      "Family: DAIRY - Store: 35 RMSLE: 0.30855097956584493\n",
      "\n",
      "\n",
      "Family: PET SUPPLIES - Store: 54\n"
     ]
    },
    {
     "data": {
      "text/plain": [
       "  0%|          | 0/100 [00:00<?, ?it/s]"
      ],
      "application/vnd.jupyter.widget-view+json": {
       "version_major": 2,
       "version_minor": 0,
       "model_id": "ab32b6f98126416fb33847653c3bbbf1"
      }
     },
     "metadata": {},
     "output_type": "display_data"
    },
    {
     "name": "stdout",
     "output_type": "stream",
     "text": [
      "Outer: DOWMeanModel(weekdays=50, weekends=9) - RMSLE: 0.38030322896712226\n"
     ]
    },
    {
     "data": {
      "text/plain": [
       "  0%|          | 0/100 [00:00<?, ?it/s]"
      ],
      "application/vnd.jupyter.widget-view+json": {
       "version_major": 2,
       "version_minor": 0,
       "model_id": "3b235208e1cf431bafacc0b07518b66a"
      }
     },
     "metadata": {},
     "output_type": "display_data"
    },
    {
     "name": "stdout",
     "output_type": "stream",
     "text": [
      "Outer: DailyMeanModel(window=3) - RMSLE: 0.4818849957693986\n"
     ]
    },
    {
     "data": {
      "text/plain": [
       "  0%|          | 0/100 [00:00<?, ?it/s]"
      ],
      "application/vnd.jupyter.widget-view+json": {
       "version_major": 2,
       "version_minor": 0,
       "model_id": "0f3e7ca24ca148acb5e9b72182757818"
      }
     },
     "metadata": {},
     "output_type": "display_data"
    },
    {
     "name": "stdout",
     "output_type": "stream",
     "text": [
      "Outer: DOWMeanModel(weekdays=13, weekends=3) - RMSLE: 0.41950667567456873\n",
      "\n",
      "Family: PET SUPPLIES - Store: 54 RMSLE: 0.4272316334703632\n",
      "\n",
      "\n",
      "Family: CELEBRATION - Store: 15\n"
     ]
    },
    {
     "data": {
      "text/plain": [
       "  0%|          | 0/100 [00:00<?, ?it/s]"
      ],
      "application/vnd.jupyter.widget-view+json": {
       "version_major": 2,
       "version_minor": 0,
       "model_id": "9210fc0af2064ce0ab6ed05f4788e92f"
      }
     },
     "metadata": {},
     "output_type": "display_data"
    },
    {
     "name": "stdout",
     "output_type": "stream",
     "text": [
      "Outer: DailyMeanModel(window=3) - RMSLE: 0.4612998048708106\n"
     ]
    },
    {
     "data": {
      "text/plain": [
       "  0%|          | 0/100 [00:00<?, ?it/s]"
      ],
      "application/vnd.jupyter.widget-view+json": {
       "version_major": 2,
       "version_minor": 0,
       "model_id": "5fcbc4cdfdcc4a5f967fae4b96419573"
      }
     },
     "metadata": {},
     "output_type": "display_data"
    },
    {
     "name": "stdout",
     "output_type": "stream",
     "text": [
      "Outer: DOWMeanModel(weekdays=34, weekends=8) - RMSLE: 0.40259765894497285\n"
     ]
    },
    {
     "data": {
      "text/plain": [
       "  0%|          | 0/100 [00:00<?, ?it/s]"
      ],
      "application/vnd.jupyter.widget-view+json": {
       "version_major": 2,
       "version_minor": 0,
       "model_id": "240a64460fa84e868cc0ff47e771e4f4"
      }
     },
     "metadata": {},
     "output_type": "display_data"
    },
    {
     "name": "stdout",
     "output_type": "stream",
     "text": [
      "Outer: DOWMeanModel(weekdays=5, weekends=10) - RMSLE: 0.4348434784852465\n",
      "\n",
      "Family: CELEBRATION - Store: 15 RMSLE: 0.4329136474336767\n",
      "\n",
      "\n",
      "Family: HOME CARE - Store: 46\n"
     ]
    },
    {
     "data": {
      "text/plain": [
       "  0%|          | 0/100 [00:00<?, ?it/s]"
      ],
      "application/vnd.jupyter.widget-view+json": {
       "version_major": 2,
       "version_minor": 0,
       "model_id": "2ff751a9dbca484798c96bd8d54bc70a"
      }
     },
     "metadata": {},
     "output_type": "display_data"
    },
    {
     "name": "stdout",
     "output_type": "stream",
     "text": [
      "Outer: DOWMeanModel(weekdays=45, weekends=1) - RMSLE: 0.46948130144374894\n"
     ]
    },
    {
     "data": {
      "text/plain": [
       "  0%|          | 0/100 [00:00<?, ?it/s]"
      ],
      "application/vnd.jupyter.widget-view+json": {
       "version_major": 2,
       "version_minor": 0,
       "model_id": "e183f2054fe447f7aeb86a4a8f767e0d"
      }
     },
     "metadata": {},
     "output_type": "display_data"
    },
    {
     "name": "stdout",
     "output_type": "stream",
     "text": [
      "Outer: DOWMeanModel(weekdays=28, weekends=8) - RMSLE: 0.4012796534723423\n"
     ]
    },
    {
     "data": {
      "text/plain": [
       "  0%|          | 0/100 [00:00<?, ?it/s]"
      ],
      "application/vnd.jupyter.widget-view+json": {
       "version_major": 2,
       "version_minor": 0,
       "model_id": "62ec363a69244104a6a41d8779248b6d"
      }
     },
     "metadata": {},
     "output_type": "display_data"
    },
    {
     "name": "stdout",
     "output_type": "stream",
     "text": [
      "Outer: DOWMeanModel(weekdays=9, weekends=10) - RMSLE: 0.4259365138348339\n",
      "\n",
      "Family: HOME CARE - Store: 46 RMSLE: 0.43223248958364174\n",
      "\n",
      "\n",
      "Family: PLAYERS AND ELECTRONICS - Store: 28\n"
     ]
    },
    {
     "data": {
      "text/plain": [
       "  0%|          | 0/100 [00:00<?, ?it/s]"
      ],
      "application/vnd.jupyter.widget-view+json": {
       "version_major": 2,
       "version_minor": 0,
       "model_id": "c6d6749c21964f31b2296e6a9d970ee0"
      }
     },
     "metadata": {},
     "output_type": "display_data"
    },
    {
     "name": "stdout",
     "output_type": "stream",
     "text": [
      "Outer: DOWMeanModel(weekdays=10, weekends=10) - RMSLE: 0.3798527758344294\n"
     ]
    },
    {
     "data": {
      "text/plain": [
       "  0%|          | 0/100 [00:00<?, ?it/s]"
      ],
      "application/vnd.jupyter.widget-view+json": {
       "version_major": 2,
       "version_minor": 0,
       "model_id": "3e16fcdb11124b98922602d8131dcf91"
      }
     },
     "metadata": {},
     "output_type": "display_data"
    },
    {
     "name": "stdout",
     "output_type": "stream",
     "text": [
      "Outer: DOWMeanModel(weekdays=28, weekends=10) - RMSLE: 0.40015479152751515\n"
     ]
    },
    {
     "data": {
      "text/plain": [
       "  0%|          | 0/100 [00:00<?, ?it/s]"
      ],
      "application/vnd.jupyter.widget-view+json": {
       "version_major": 2,
       "version_minor": 0,
       "model_id": "29f443ac8cd747e78308ab8dec08cae5"
      }
     },
     "metadata": {},
     "output_type": "display_data"
    },
    {
     "name": "stdout",
     "output_type": "stream",
     "text": [
      "Outer: DOWMeanModel(weekdays=3, weekends=6) - RMSLE: 0.45029759455957025\n",
      "\n",
      "Family: PLAYERS AND ELECTRONICS - Store: 28 RMSLE: 0.41010172064050493\n",
      "\n",
      "\n",
      "Family: BABY CARE - Store: 12\n"
     ]
    },
    {
     "data": {
      "text/plain": [
       "  0%|          | 0/100 [00:00<?, ?it/s]"
      ],
      "application/vnd.jupyter.widget-view+json": {
       "version_major": 2,
       "version_minor": 0,
       "model_id": "915c55d00d664725992d4e8a0192a3ec"
      }
     },
     "metadata": {},
     "output_type": "display_data"
    },
    {
     "name": "stdout",
     "output_type": "stream",
     "text": [
      "Outer: DailyMeanModel(window=54) - RMSLE: 0.25297598581050695\n"
     ]
    },
    {
     "data": {
      "text/plain": [
       "  0%|          | 0/100 [00:00<?, ?it/s]"
      ],
      "application/vnd.jupyter.widget-view+json": {
       "version_major": 2,
       "version_minor": 0,
       "model_id": "afd9ef5de64b421ea908ef9d8cf965e6"
      }
     },
     "metadata": {},
     "output_type": "display_data"
    },
    {
     "name": "stdout",
     "output_type": "stream",
     "text": [
      "Outer: DOWMeanModel(weekdays=11, weekends=1) - RMSLE: 0.18702372431192116\n"
     ]
    },
    {
     "data": {
      "text/plain": [
       "  0%|          | 0/100 [00:00<?, ?it/s]"
      ],
      "application/vnd.jupyter.widget-view+json": {
       "version_major": 2,
       "version_minor": 0,
       "model_id": "fc3b551067c54afcab757994ba977ce5"
      }
     },
     "metadata": {},
     "output_type": "display_data"
    },
    {
     "name": "stdout",
     "output_type": "stream",
     "text": [
      "Outer: DailyMeanModel(window=12) - RMSLE: 0.19122604706403815\n",
      "\n",
      "Family: BABY CARE - Store: 12 RMSLE: 0.21040858572882207\n",
      "\n",
      "\n",
      "Family: BABY CARE - Store: 30\n"
     ]
    },
    {
     "data": {
      "text/plain": [
       "  0%|          | 0/100 [00:00<?, ?it/s]"
      ],
      "application/vnd.jupyter.widget-view+json": {
       "version_major": 2,
       "version_minor": 0,
       "model_id": "6cb6dc0627ed4d349857e0b33989265e"
      }
     },
     "metadata": {},
     "output_type": "display_data"
    },
    {
     "name": "stdout",
     "output_type": "stream",
     "text": [
      "Outer: DailyMeanModel(window=4) - RMSLE: 0.24356353790583546\n"
     ]
    },
    {
     "data": {
      "text/plain": [
       "  0%|          | 0/100 [00:00<?, ?it/s]"
      ],
      "application/vnd.jupyter.widget-view+json": {
       "version_major": 2,
       "version_minor": 0,
       "model_id": "4f3a089440d741bbb4ee93cd739c77eb"
      }
     },
     "metadata": {},
     "output_type": "display_data"
    },
    {
     "name": "stdout",
     "output_type": "stream",
     "text": [
      "Outer: DOWMeanModel(weekdays=5, weekends=10) - RMSLE: 0.19308088266846982\n"
     ]
    },
    {
     "data": {
      "text/plain": [
       "  0%|          | 0/100 [00:00<?, ?it/s]"
      ],
      "application/vnd.jupyter.widget-view+json": {
       "version_major": 2,
       "version_minor": 0,
       "model_id": "485cb35430254fdabb63757eda39fdc1"
      }
     },
     "metadata": {},
     "output_type": "display_data"
    },
    {
     "name": "stdout",
     "output_type": "stream",
     "text": [
      "Outer: DOWMeanModel(weekdays=30, weekends=3) - RMSLE: 0.2096723901629821\n",
      "\n",
      "Family: BABY CARE - Store: 30 RMSLE: 0.21543893691242913\n",
      "\n",
      "\n",
      "Family: BOOKS - Store: 34\n"
     ]
    },
    {
     "data": {
      "text/plain": [
       "  0%|          | 0/100 [00:00<?, ?it/s]"
      ],
      "application/vnd.jupyter.widget-view+json": {
       "version_major": 2,
       "version_minor": 0,
       "model_id": "cad41b1e6d2549d7b6af208d2b42c100"
      }
     },
     "metadata": {},
     "output_type": "display_data"
    },
    {
     "name": "stdout",
     "output_type": "stream",
     "text": [
      "Outer: DailyMeanModel(window=34) - RMSLE: 0.19367086533761635\n"
     ]
    },
    {
     "data": {
      "text/plain": [
       "  0%|          | 0/100 [00:00<?, ?it/s]"
      ],
      "application/vnd.jupyter.widget-view+json": {
       "version_major": 2,
       "version_minor": 0,
       "model_id": "073d3b306ea34f8dae6f12d6ee0a8aab"
      }
     },
     "metadata": {},
     "output_type": "display_data"
    },
    {
     "name": "stdout",
     "output_type": "stream",
     "text": [
      "Outer: DailyMeanModel(window=56) - RMSLE: 0.15102091523297212\n"
     ]
    },
    {
     "data": {
      "text/plain": [
       "  0%|          | 0/100 [00:00<?, ?it/s]"
      ],
      "application/vnd.jupyter.widget-view+json": {
       "version_major": 2,
       "version_minor": 0,
       "model_id": "ffeaf6184be44337a3bf20d2e2b0b0ef"
      }
     },
     "metadata": {},
     "output_type": "display_data"
    },
    {
     "name": "stdout",
     "output_type": "stream",
     "text": [
      "Outer: DOWMeanModel(weekdays=9, weekends=6) - RMSLE: 0.03753512576457812\n",
      "\n",
      "Family: BOOKS - Store: 34 RMSLE: 0.12740896877838886\n",
      "\n",
      "\n",
      "Family: BOOKS - Store: 37\n"
     ]
    },
    {
     "data": {
      "text/plain": [
       "  0%|          | 0/100 [00:00<?, ?it/s]"
      ],
      "application/vnd.jupyter.widget-view+json": {
       "version_major": 2,
       "version_minor": 0,
       "model_id": "0f28db9a04e54b25b3decb2d1f268cbc"
      }
     },
     "metadata": {},
     "output_type": "display_data"
    },
    {
     "name": "stdout",
     "output_type": "stream",
     "text": [
      "Outer: DailyMeanModel(window=14) - RMSLE: 0.18455424926950992\n"
     ]
    },
    {
     "data": {
      "text/plain": [
       "  0%|          | 0/100 [00:00<?, ?it/s]"
      ],
      "application/vnd.jupyter.widget-view+json": {
       "version_major": 2,
       "version_minor": 0,
       "model_id": "cd14ddda462845ceaec45397e4749cfa"
      }
     },
     "metadata": {},
     "output_type": "display_data"
    },
    {
     "name": "stdout",
     "output_type": "stream",
     "text": [
      "Outer: DailyMeanModel(window=3) - RMSLE: 0.11149395421669304\n"
     ]
    },
    {
     "data": {
      "text/plain": [
       "  0%|          | 0/100 [00:00<?, ?it/s]"
      ],
      "application/vnd.jupyter.widget-view+json": {
       "version_major": 2,
       "version_minor": 0,
       "model_id": "81cfc3062c324a7e8ba1eaf5163509d7"
      }
     },
     "metadata": {},
     "output_type": "display_data"
    },
    {
     "name": "stdout",
     "output_type": "stream",
     "text": [
      "Outer: DOWMeanModel(weekdays=7, weekends=2) - RMSLE: 0.028902968830556416\n",
      "\n",
      "Family: BOOKS - Store: 37 RMSLE: 0.1083170574389198\n",
      "\n",
      "\n",
      "Family: FROZEN FOODS - Store: 31\n"
     ]
    },
    {
     "data": {
      "text/plain": [
       "  0%|          | 0/100 [00:00<?, ?it/s]"
      ],
      "application/vnd.jupyter.widget-view+json": {
       "version_major": 2,
       "version_minor": 0,
       "model_id": "c9ba898a739048f6ad8c218fe16b94cf"
      }
     },
     "metadata": {},
     "output_type": "display_data"
    },
    {
     "name": "stdout",
     "output_type": "stream",
     "text": [
      "Outer: DailyMeanModel(window=8) - RMSLE: 0.3886743822642109\n"
     ]
    },
    {
     "data": {
      "text/plain": [
       "  0%|          | 0/100 [00:00<?, ?it/s]"
      ],
      "application/vnd.jupyter.widget-view+json": {
       "version_major": 2,
       "version_minor": 0,
       "model_id": "c83dd1b31220409d81f43f0e750eaa40"
      }
     },
     "metadata": {},
     "output_type": "display_data"
    },
    {
     "name": "stdout",
     "output_type": "stream",
     "text": [
      "Outer: DOWMeanModel(weekdays=24, weekends=8) - RMSLE: 0.3397142048589582\n"
     ]
    },
    {
     "data": {
      "text/plain": [
       "  0%|          | 0/100 [00:00<?, ?it/s]"
      ],
      "application/vnd.jupyter.widget-view+json": {
       "version_major": 2,
       "version_minor": 0,
       "model_id": "7c64c872b98943ffa93810bfca1f17b2"
      }
     },
     "metadata": {},
     "output_type": "display_data"
    },
    {
     "name": "stdout",
     "output_type": "stream",
     "text": [
      "Outer: DOWMeanModel(weekdays=18, weekends=7) - RMSLE: 0.3191668862254215\n",
      "\n",
      "Family: FROZEN FOODS - Store: 31 RMSLE: 0.3491851577828635\n",
      "\n",
      "\n",
      "Family: FROZEN FOODS - Store: 40\n"
     ]
    },
    {
     "data": {
      "text/plain": [
       "  0%|          | 0/100 [00:00<?, ?it/s]"
      ],
      "application/vnd.jupyter.widget-view+json": {
       "version_major": 2,
       "version_minor": 0,
       "model_id": "cdc1d526278f489897027f1a93835e70"
      }
     },
     "metadata": {},
     "output_type": "display_data"
    },
    {
     "name": "stdout",
     "output_type": "stream",
     "text": [
      "Outer: DailyMeanModel(window=8) - RMSLE: 0.3886743822642109\n"
     ]
    },
    {
     "data": {
      "text/plain": [
       "  0%|          | 0/100 [00:00<?, ?it/s]"
      ],
      "application/vnd.jupyter.widget-view+json": {
       "version_major": 2,
       "version_minor": 0,
       "model_id": "c51caab8d69e49e3b2cb5dfd524b18f7"
      }
     },
     "metadata": {},
     "output_type": "display_data"
    },
    {
     "name": "stdout",
     "output_type": "stream",
     "text": [
      "Outer: DOWMeanModel(weekdays=45, weekends=4) - RMSLE: 0.34477869416243556\n"
     ]
    },
    {
     "data": {
      "text/plain": [
       "  0%|          | 0/100 [00:00<?, ?it/s]"
      ],
      "application/vnd.jupyter.widget-view+json": {
       "version_major": 2,
       "version_minor": 0,
       "model_id": "73e76425211b4890ac21eaf59d81334f"
      }
     },
     "metadata": {},
     "output_type": "display_data"
    },
    {
     "name": "stdout",
     "output_type": "stream",
     "text": [
      "Outer: DOWMeanModel(weekdays=10, weekends=7) - RMSLE: 0.32188129536391186\n",
      "\n",
      "Family: FROZEN FOODS - Store: 40 RMSLE: 0.3517781239301861\n",
      "\n",
      "\n",
      "Family: GROCERY II - Store: 12\n"
     ]
    },
    {
     "data": {
      "text/plain": [
       "  0%|          | 0/100 [00:00<?, ?it/s]"
      ],
      "application/vnd.jupyter.widget-view+json": {
       "version_major": 2,
       "version_minor": 0,
       "model_id": "1feca612a37840f889c4e31fb6f66b57"
      }
     },
     "metadata": {},
     "output_type": "display_data"
    },
    {
     "name": "stdout",
     "output_type": "stream",
     "text": [
      "Outer: DOWMeanModel(weekdays=4, weekends=10) - RMSLE: 0.5959394691421553\n"
     ]
    },
    {
     "data": {
      "text/plain": [
       "  0%|          | 0/100 [00:00<?, ?it/s]"
      ],
      "application/vnd.jupyter.widget-view+json": {
       "version_major": 2,
       "version_minor": 0,
       "model_id": "d696f889cde142a3bc5bbe8c90f01622"
      }
     },
     "metadata": {},
     "output_type": "display_data"
    },
    {
     "name": "stdout",
     "output_type": "stream",
     "text": [
      "Outer: DailyMeanModel(window=3) - RMSLE: 0.8236731416576426\n"
     ]
    },
    {
     "data": {
      "text/plain": [
       "  0%|          | 0/100 [00:00<?, ?it/s]"
      ],
      "application/vnd.jupyter.widget-view+json": {
       "version_major": 2,
       "version_minor": 0,
       "model_id": "2a6e712429a04d7d955d2badbf953a20"
      }
     },
     "metadata": {},
     "output_type": "display_data"
    },
    {
     "name": "stdout",
     "output_type": "stream",
     "text": [
      "Outer: DailyMeanModel(window=4) - RMSLE: 0.708353473470289\n",
      "\n",
      "Family: GROCERY II - Store: 12 RMSLE: 0.7093220280900289\n",
      "\n",
      "\n",
      "Family: GROCERY II - Store: 5\n"
     ]
    },
    {
     "data": {
      "text/plain": [
       "  0%|          | 0/100 [00:00<?, ?it/s]"
      ],
      "application/vnd.jupyter.widget-view+json": {
       "version_major": 2,
       "version_minor": 0,
       "model_id": "82a5ea0d69974dcbb72e216d6eec8895"
      }
     },
     "metadata": {},
     "output_type": "display_data"
    },
    {
     "name": "stdout",
     "output_type": "stream",
     "text": [
      "Outer: DailyMeanModel(window=8) - RMSLE: 0.5695167401236549\n"
     ]
    },
    {
     "data": {
      "text/plain": [
       "  0%|          | 0/100 [00:00<?, ?it/s]"
      ],
      "application/vnd.jupyter.widget-view+json": {
       "version_major": 2,
       "version_minor": 0,
       "model_id": "f0011596d7114dd9bd699826f07b40a1"
      }
     },
     "metadata": {},
     "output_type": "display_data"
    },
    {
     "name": "stdout",
     "output_type": "stream",
     "text": [
      "Outer: DOWMeanModel(weekdays=50, weekends=2) - RMSLE: 0.5891269954316404\n"
     ]
    },
    {
     "data": {
      "text/plain": [
       "  0%|          | 0/100 [00:00<?, ?it/s]"
      ],
      "application/vnd.jupyter.widget-view+json": {
       "version_major": 2,
       "version_minor": 0,
       "model_id": "8d6f1c37ed384400a044e4c08b2b5e98"
      }
     },
     "metadata": {},
     "output_type": "display_data"
    },
    {
     "name": "stdout",
     "output_type": "stream",
     "text": [
      "Outer: DailyMeanModel(window=4) - RMSLE: 0.708353473470289\n",
      "\n",
      "Family: GROCERY II - Store: 5 RMSLE: 0.6223324030085281\n",
      "\n",
      "\n",
      "Family: HARDWARE - Store: 53\n"
     ]
    },
    {
     "data": {
      "text/plain": [
       "  0%|          | 0/100 [00:00<?, ?it/s]"
      ],
      "application/vnd.jupyter.widget-view+json": {
       "version_major": 2,
       "version_minor": 0,
       "model_id": "0b720b31314746dbbba0b9652d71c44e"
      }
     },
     "metadata": {},
     "output_type": "display_data"
    },
    {
     "name": "stdout",
     "output_type": "stream",
     "text": [
      "Outer: DOWMeanModel(weekdays=17, weekends=7) - RMSLE: 0.5412341929059056\n"
     ]
    },
    {
     "data": {
      "text/plain": [
       "  0%|          | 0/100 [00:00<?, ?it/s]"
      ],
      "application/vnd.jupyter.widget-view+json": {
       "version_major": 2,
       "version_minor": 0,
       "model_id": "2296ff2b3c57454d982d21defc334992"
      }
     },
     "metadata": {},
     "output_type": "display_data"
    },
    {
     "name": "stdout",
     "output_type": "stream",
     "text": [
      "Outer: DOWMeanModel(weekdays=44, weekends=10) - RMSLE: 0.5427338274655231\n"
     ]
    },
    {
     "data": {
      "text/plain": [
       "  0%|          | 0/100 [00:00<?, ?it/s]"
      ],
      "application/vnd.jupyter.widget-view+json": {
       "version_major": 2,
       "version_minor": 0,
       "model_id": "82895795d4e74363abb04c368eb49d81"
      }
     },
     "metadata": {},
     "output_type": "display_data"
    },
    {
     "name": "stdout",
     "output_type": "stream",
     "text": [
      "Outer: DailyMeanModel(window=25) - RMSLE: 0.5435144494038469\n",
      "\n",
      "Family: HARDWARE - Store: 53 RMSLE: 0.5424941565917585\n",
      "\n",
      "\n",
      "Family: HARDWARE - Store: 24\n"
     ]
    },
    {
     "data": {
      "text/plain": [
       "  0%|          | 0/100 [00:00<?, ?it/s]"
      ],
      "application/vnd.jupyter.widget-view+json": {
       "version_major": 2,
       "version_minor": 0,
       "model_id": "77ea796ba03d4eb5950c05463cf07cb8"
      }
     },
     "metadata": {},
     "output_type": "display_data"
    },
    {
     "name": "stdout",
     "output_type": "stream",
     "text": [
      "Outer: DailyMeanModel(window=16) - RMSLE: 0.5478414470464292\n"
     ]
    },
    {
     "data": {
      "text/plain": [
       "  0%|          | 0/100 [00:00<?, ?it/s]"
      ],
      "application/vnd.jupyter.widget-view+json": {
       "version_major": 2,
       "version_minor": 0,
       "model_id": "3277c9abe9d14ebea9e62286d0d1bc46"
      }
     },
     "metadata": {},
     "output_type": "display_data"
    },
    {
     "name": "stdout",
     "output_type": "stream",
     "text": [
      "Outer: DailyMeanModel(window=15) - RMSLE: 0.5577083919683007\n"
     ]
    },
    {
     "data": {
      "text/plain": [
       "  0%|          | 0/100 [00:00<?, ?it/s]"
      ],
      "application/vnd.jupyter.widget-view+json": {
       "version_major": 2,
       "version_minor": 0,
       "model_id": "09bb089b37d04398b97029c81d51d34d"
      }
     },
     "metadata": {},
     "output_type": "display_data"
    },
    {
     "name": "stdout",
     "output_type": "stream",
     "text": [
      "Outer: DailyMeanModel(window=29) - RMSLE: 0.5465793154344358\n",
      "\n",
      "Family: HARDWARE - Store: 24 RMSLE: 0.5507097181497219\n",
      "\n",
      "\n",
      "Family: HOME AND KITCHEN I - Store: 42\n"
     ]
    },
    {
     "data": {
      "text/plain": [
       "  0%|          | 0/100 [00:00<?, ?it/s]"
      ],
      "application/vnd.jupyter.widget-view+json": {
       "version_major": 2,
       "version_minor": 0,
       "model_id": "2c76482fa7194940b7834da02343cf7f"
      }
     },
     "metadata": {},
     "output_type": "display_data"
    },
    {
     "name": "stdout",
     "output_type": "stream",
     "text": [
      "Outer: DOWMeanModel(weekdays=5, weekends=4) - RMSLE: 0.6297548180505301\n"
     ]
    },
    {
     "data": {
      "text/plain": [
       "  0%|          | 0/100 [00:00<?, ?it/s]"
      ],
      "application/vnd.jupyter.widget-view+json": {
       "version_major": 2,
       "version_minor": 0,
       "model_id": "781056f59676408baf48d0f83218c221"
      }
     },
     "metadata": {},
     "output_type": "display_data"
    },
    {
     "name": "stdout",
     "output_type": "stream",
     "text": [
      "Outer: DOWMeanModel(weekdays=47, weekends=2) - RMSLE: 0.5297759730885608\n"
     ]
    },
    {
     "data": {
      "text/plain": [
       "  0%|          | 0/100 [00:00<?, ?it/s]"
      ],
      "application/vnd.jupyter.widget-view+json": {
       "version_major": 2,
       "version_minor": 0,
       "model_id": "6f2e5ce76c694e89a1dbf279906a46cb"
      }
     },
     "metadata": {},
     "output_type": "display_data"
    },
    {
     "name": "stdout",
     "output_type": "stream",
     "text": [
      "Outer: DOWMeanModel(weekdays=10, weekends=2) - RMSLE: 0.49578016085731846\n",
      "\n",
      "Family: HOME AND KITCHEN I - Store: 42 RMSLE: 0.5517703173321364\n",
      "\n",
      "\n",
      "Family: HOME AND KITCHEN I - Store: 7\n"
     ]
    },
    {
     "data": {
      "text/plain": [
       "  0%|          | 0/100 [00:00<?, ?it/s]"
      ],
      "application/vnd.jupyter.widget-view+json": {
       "version_major": 2,
       "version_minor": 0,
       "model_id": "49e47da160d04d80baf36f3a5c041f83"
      }
     },
     "metadata": {},
     "output_type": "display_data"
    },
    {
     "name": "stdout",
     "output_type": "stream",
     "text": [
      "Outer: DailyMeanModel(window=7) - RMSLE: 0.6855604540148155\n"
     ]
    },
    {
     "data": {
      "text/plain": [
       "  0%|          | 0/100 [00:00<?, ?it/s]"
      ],
      "application/vnd.jupyter.widget-view+json": {
       "version_major": 2,
       "version_minor": 0,
       "model_id": "638d35e7bba44d16966cd1ab97277254"
      }
     },
     "metadata": {},
     "output_type": "display_data"
    },
    {
     "name": "stdout",
     "output_type": "stream",
     "text": [
      "Outer: DailyMeanModel(window=13) - RMSLE: 0.5551288188405321\n"
     ]
    },
    {
     "data": {
      "text/plain": [
       "  0%|          | 0/100 [00:00<?, ?it/s]"
      ],
      "application/vnd.jupyter.widget-view+json": {
       "version_major": 2,
       "version_minor": 0,
       "model_id": "f0b7703c04cc4d67b1790de8fc67eeb4"
      }
     },
     "metadata": {},
     "output_type": "display_data"
    },
    {
     "name": "stdout",
     "output_type": "stream",
     "text": [
      "Outer: DailyMeanModel(window=60) - RMSLE: 0.49939747659532957\n",
      "\n",
      "Family: HOME AND KITCHEN I - Store: 7 RMSLE: 0.580028916483559\n",
      "\n",
      "\n",
      "Family: HOME AND KITCHEN II - Store: 8\n"
     ]
    },
    {
     "data": {
      "text/plain": [
       "  0%|          | 0/100 [00:00<?, ?it/s]"
      ],
      "application/vnd.jupyter.widget-view+json": {
       "version_major": 2,
       "version_minor": 0,
       "model_id": "7aa60cadef294c25ac8f013e623b16b1"
      }
     },
     "metadata": {},
     "output_type": "display_data"
    },
    {
     "name": "stdout",
     "output_type": "stream",
     "text": [
      "Outer: DOWMeanModel(weekdays=11, weekends=6) - RMSLE: 0.41517102143958656\n"
     ]
    },
    {
     "data": {
      "text/plain": [
       "  0%|          | 0/100 [00:00<?, ?it/s]"
      ],
      "application/vnd.jupyter.widget-view+json": {
       "version_major": 2,
       "version_minor": 0,
       "model_id": "9087b1b023b34609b49f9190820f46f0"
      }
     },
     "metadata": {},
     "output_type": "display_data"
    },
    {
     "name": "stdout",
     "output_type": "stream",
     "text": [
      "Outer: DOWMeanModel(weekdays=9, weekends=10) - RMSLE: 0.43179981059229305\n"
     ]
    },
    {
     "data": {
      "text/plain": [
       "  0%|          | 0/100 [00:00<?, ?it/s]"
      ],
      "application/vnd.jupyter.widget-view+json": {
       "version_major": 2,
       "version_minor": 0,
       "model_id": "249971f06315491394eadca443706cde"
      }
     },
     "metadata": {},
     "output_type": "display_data"
    },
    {
     "name": "stdout",
     "output_type": "stream",
     "text": [
      "Outer: DOWMeanModel(weekdays=9, weekends=2) - RMSLE: 0.49784976765667227\n",
      "\n",
      "Family: HOME AND KITCHEN II - Store: 8 RMSLE: 0.4482735332295173\n",
      "\n",
      "\n",
      "Family: HOME AND KITCHEN II - Store: 28\n"
     ]
    },
    {
     "data": {
      "text/plain": [
       "  0%|          | 0/100 [00:00<?, ?it/s]"
      ],
      "application/vnd.jupyter.widget-view+json": {
       "version_major": 2,
       "version_minor": 0,
       "model_id": "85bd9c28a10a412c83c3e46fada613e6"
      }
     },
     "metadata": {},
     "output_type": "display_data"
    },
    {
     "name": "stdout",
     "output_type": "stream",
     "text": [
      "Outer: DOWMeanModel(weekdays=40, weekends=4) - RMSLE: 0.41707414592779535\n"
     ]
    },
    {
     "data": {
      "text/plain": [
       "  0%|          | 0/100 [00:00<?, ?it/s]"
      ],
      "application/vnd.jupyter.widget-view+json": {
       "version_major": 2,
       "version_minor": 0,
       "model_id": "f7ec16c2f9944d10ab57e4a582761b4f"
      }
     },
     "metadata": {},
     "output_type": "display_data"
    },
    {
     "name": "stdout",
     "output_type": "stream",
     "text": [
      "Outer: DOWMeanModel(weekdays=36, weekends=8) - RMSLE: 0.4407188468276814\n"
     ]
    },
    {
     "data": {
      "text/plain": [
       "  0%|          | 0/100 [00:00<?, ?it/s]"
      ],
      "application/vnd.jupyter.widget-view+json": {
       "version_major": 2,
       "version_minor": 0,
       "model_id": "2b9129c819354ac9a794a6b7fa0769f0"
      }
     },
     "metadata": {},
     "output_type": "display_data"
    },
    {
     "name": "stdout",
     "output_type": "stream",
     "text": [
      "Outer: DOWMeanModel(weekdays=39, weekends=9) - RMSLE: 0.4580934450167311\n",
      "\n",
      "Family: HOME AND KITCHEN II - Store: 28 RMSLE: 0.438628812590736\n",
      "\n",
      "\n",
      "Family: HOME APPLIANCES - Store: 54\n"
     ]
    },
    {
     "data": {
      "text/plain": [
       "  0%|          | 0/100 [00:00<?, ?it/s]"
      ],
      "application/vnd.jupyter.widget-view+json": {
       "version_major": 2,
       "version_minor": 0,
       "model_id": "f7787162c2cf4706a6177587d6c2cd19"
      }
     },
     "metadata": {},
     "output_type": "display_data"
    },
    {
     "name": "stdout",
     "output_type": "stream",
     "text": [
      "Outer: DailyMeanModel(window=60) - RMSLE: 0.4007066967719059\n"
     ]
    },
    {
     "data": {
      "text/plain": [
       "  0%|          | 0/100 [00:00<?, ?it/s]"
      ],
      "application/vnd.jupyter.widget-view+json": {
       "version_major": 2,
       "version_minor": 0,
       "model_id": "909340058f624db3ad354a05b87e1d9d"
      }
     },
     "metadata": {},
     "output_type": "display_data"
    },
    {
     "name": "stdout",
     "output_type": "stream",
     "text": [
      "Outer: DailyMeanModel(window=24) - RMSLE: 0.4354416990924544\n"
     ]
    },
    {
     "data": {
      "text/plain": [
       "  0%|          | 0/100 [00:00<?, ?it/s]"
      ],
      "application/vnd.jupyter.widget-view+json": {
       "version_major": 2,
       "version_minor": 0,
       "model_id": "0a391a4414084d83b5d70a0faff5dccc"
      }
     },
     "metadata": {},
     "output_type": "display_data"
    },
    {
     "name": "stdout",
     "output_type": "stream",
     "text": [
      "Outer: DOWMeanModel(weekdays=3, weekends=6) - RMSLE: 0.3172725755017297\n",
      "\n",
      "Family: HOME APPLIANCES - Store: 54 RMSLE: 0.38447365712202997\n",
      "\n",
      "\n",
      "Family: HOME APPLIANCES - Store: 29\n"
     ]
    },
    {
     "data": {
      "text/plain": [
       "  0%|          | 0/100 [00:00<?, ?it/s]"
      ],
      "application/vnd.jupyter.widget-view+json": {
       "version_major": 2,
       "version_minor": 0,
       "model_id": "82533b2726fc4d878f5d346244ef5951"
      }
     },
     "metadata": {},
     "output_type": "display_data"
    },
    {
     "name": "stdout",
     "output_type": "stream",
     "text": [
      "Outer: DailyMeanModel(window=3) - RMSLE: 0.45757819379254244\n"
     ]
    },
    {
     "data": {
      "text/plain": [
       "  0%|          | 0/100 [00:00<?, ?it/s]"
      ],
      "application/vnd.jupyter.widget-view+json": {
       "version_major": 2,
       "version_minor": 0,
       "model_id": "1324b0cb49a3483795ad368877b4e5b4"
      }
     },
     "metadata": {},
     "output_type": "display_data"
    },
    {
     "name": "stdout",
     "output_type": "stream",
     "text": [
      "Outer: DailyMeanModel(window=6) - RMSLE: 0.45443534660133617\n"
     ]
    },
    {
     "data": {
      "text/plain": [
       "  0%|          | 0/100 [00:00<?, ?it/s]"
      ],
      "application/vnd.jupyter.widget-view+json": {
       "version_major": 2,
       "version_minor": 0,
       "model_id": "3b3ba1c8d3554ac697cb23f039262b82"
      }
     },
     "metadata": {},
     "output_type": "display_data"
    },
    {
     "name": "stdout",
     "output_type": "stream",
     "text": [
      "Outer: DOWMeanModel(weekdays=50, weekends=2) - RMSLE: 0.37242711621991487\n",
      "\n",
      "Family: HOME APPLIANCES - Store: 29 RMSLE: 0.4281468855379312\n",
      "\n",
      "\n",
      "Family: LAWN AND GARDEN - Store: 17\n"
     ]
    },
    {
     "data": {
      "text/plain": [
       "  0%|          | 0/100 [00:00<?, ?it/s]"
      ],
      "application/vnd.jupyter.widget-view+json": {
       "version_major": 2,
       "version_minor": 0,
       "model_id": "6a565a26595e45209d7049edc6e8325b"
      }
     },
     "metadata": {},
     "output_type": "display_data"
    },
    {
     "name": "stdout",
     "output_type": "stream",
     "text": [
      "Outer: DailyMeanModel(window=43) - RMSLE: 0.47875740797370564\n"
     ]
    },
    {
     "data": {
      "text/plain": [
       "  0%|          | 0/100 [00:00<?, ?it/s]"
      ],
      "application/vnd.jupyter.widget-view+json": {
       "version_major": 2,
       "version_minor": 0,
       "model_id": "dd68c1189b2049f1a86c391b48acd4c3"
      }
     },
     "metadata": {},
     "output_type": "display_data"
    },
    {
     "name": "stdout",
     "output_type": "stream",
     "text": [
      "Outer: DailyMeanModel(window=22) - RMSLE: 0.6654199876563287\n"
     ]
    },
    {
     "data": {
      "text/plain": [
       "  0%|          | 0/100 [00:00<?, ?it/s]"
      ],
      "application/vnd.jupyter.widget-view+json": {
       "version_major": 2,
       "version_minor": 0,
       "model_id": "cfb910a2a0414be892ebb986cfcda0c2"
      }
     },
     "metadata": {},
     "output_type": "display_data"
    },
    {
     "name": "stdout",
     "output_type": "stream",
     "text": [
      "Outer: DOWMeanModel(weekdays=37, weekends=6) - RMSLE: 0.38101400397027474\n",
      "\n",
      "Family: LAWN AND GARDEN - Store: 17 RMSLE: 0.508397133200103\n",
      "\n",
      "\n",
      "Family: LAWN AND GARDEN - Store: 49\n"
     ]
    },
    {
     "data": {
      "text/plain": [
       "  0%|          | 0/100 [00:00<?, ?it/s]"
      ],
      "application/vnd.jupyter.widget-view+json": {
       "version_major": 2,
       "version_minor": 0,
       "model_id": "380b699d196049d5a6a22fd32ad4595d"
      }
     },
     "metadata": {},
     "output_type": "display_data"
    },
    {
     "name": "stdout",
     "output_type": "stream",
     "text": [
      "Outer: DOWMeanModel(weekdays=6, weekends=6) - RMSLE: 0.4196485129282773\n"
     ]
    },
    {
     "data": {
      "text/plain": [
       "  0%|          | 0/100 [00:00<?, ?it/s]"
      ],
      "application/vnd.jupyter.widget-view+json": {
       "version_major": 2,
       "version_minor": 0,
       "model_id": "fddc7bd73e4a4cf0a477a2906625f36a"
      }
     },
     "metadata": {},
     "output_type": "display_data"
    },
    {
     "name": "stdout",
     "output_type": "stream",
     "text": [
      "Outer: DOWMeanModel(weekdays=3, weekends=7) - RMSLE: 0.7038027676209379\n"
     ]
    },
    {
     "data": {
      "text/plain": [
       "  0%|          | 0/100 [00:00<?, ?it/s]"
      ],
      "application/vnd.jupyter.widget-view+json": {
       "version_major": 2,
       "version_minor": 0,
       "model_id": "2aac05d50d624035beff4b795057dd0e"
      }
     },
     "metadata": {},
     "output_type": "display_data"
    },
    {
     "name": "stdout",
     "output_type": "stream",
     "text": [
      "Outer: DOWMeanModel(weekdays=49, weekends=1) - RMSLE: 0.39001130723161304\n",
      "\n",
      "Family: LAWN AND GARDEN - Store: 49 RMSLE: 0.5044875292602761\n",
      "\n",
      "\n",
      "Family: LINGERIE - Store: 43\n"
     ]
    },
    {
     "data": {
      "text/plain": [
       "  0%|          | 0/100 [00:00<?, ?it/s]"
      ],
      "application/vnd.jupyter.widget-view+json": {
       "version_major": 2,
       "version_minor": 0,
       "model_id": "357b139002534b57a145fc1511e53531"
      }
     },
     "metadata": {},
     "output_type": "display_data"
    },
    {
     "name": "stdout",
     "output_type": "stream",
     "text": [
      "Outer: DOWMeanModel(weekdays=50, weekends=10) - RMSLE: 0.6023362898693304\n"
     ]
    },
    {
     "data": {
      "text/plain": [
       "  0%|          | 0/100 [00:00<?, ?it/s]"
      ],
      "application/vnd.jupyter.widget-view+json": {
       "version_major": 2,
       "version_minor": 0,
       "model_id": "c694eb00b4c14194b27318981caf5a43"
      }
     },
     "metadata": {},
     "output_type": "display_data"
    },
    {
     "name": "stdout",
     "output_type": "stream",
     "text": [
      "Outer: DailyMeanModel(window=29) - RMSLE: 0.7752001216721782\n"
     ]
    },
    {
     "data": {
      "text/plain": [
       "  0%|          | 0/100 [00:00<?, ?it/s]"
      ],
      "application/vnd.jupyter.widget-view+json": {
       "version_major": 2,
       "version_minor": 0,
       "model_id": "a073ef6f87b34a9fbb8382b475c1c388"
      }
     },
     "metadata": {},
     "output_type": "display_data"
    },
    {
     "name": "stdout",
     "output_type": "stream",
     "text": [
      "Outer: DailyMeanModel(window=3) - RMSLE: 0.693018166250058\n",
      "\n",
      "Family: LINGERIE - Store: 43 RMSLE: 0.6901848592638555\n",
      "\n",
      "\n",
      "Family: LINGERIE - Store: 29\n"
     ]
    },
    {
     "data": {
      "text/plain": [
       "  0%|          | 0/100 [00:00<?, ?it/s]"
      ],
      "application/vnd.jupyter.widget-view+json": {
       "version_major": 2,
       "version_minor": 0,
       "model_id": "b8e31f1c0f10420b8c313deba6eb9497"
      }
     },
     "metadata": {},
     "output_type": "display_data"
    },
    {
     "name": "stdout",
     "output_type": "stream",
     "text": [
      "Outer: DOWMeanModel(weekdays=3, weekends=10) - RMSLE: 0.6553257296678727\n"
     ]
    },
    {
     "data": {
      "text/plain": [
       "  0%|          | 0/100 [00:00<?, ?it/s]"
      ],
      "application/vnd.jupyter.widget-view+json": {
       "version_major": 2,
       "version_minor": 0,
       "model_id": "1cf04f2d3024480dad50acbaebb71b71"
      }
     },
     "metadata": {},
     "output_type": "display_data"
    },
    {
     "name": "stdout",
     "output_type": "stream",
     "text": [
      "Outer: DOWMeanModel(weekdays=3, weekends=10) - RMSLE: 0.7342737532716113\n"
     ]
    },
    {
     "data": {
      "text/plain": [
       "  0%|          | 0/100 [00:00<?, ?it/s]"
      ],
      "application/vnd.jupyter.widget-view+json": {
       "version_major": 2,
       "version_minor": 0,
       "model_id": "04e9333159fb47378af47ea941318f27"
      }
     },
     "metadata": {},
     "output_type": "display_data"
    },
    {
     "name": "stdout",
     "output_type": "stream",
     "text": [
      "Outer: DOWMeanModel(weekdays=21, weekends=3) - RMSLE: 0.6514776651818828\n",
      "\n",
      "Family: LINGERIE - Store: 29 RMSLE: 0.6803590493737889\n",
      "\n",
      "\n",
      "Family: LIQUOR,WINE,BEER - Store: 36\n"
     ]
    },
    {
     "data": {
      "text/plain": [
       "  0%|          | 0/100 [00:00<?, ?it/s]"
      ],
      "application/vnd.jupyter.widget-view+json": {
       "version_major": 2,
       "version_minor": 0,
       "model_id": "dead2c0f0aa6413ca7e73deb3694d5df"
      }
     },
     "metadata": {},
     "output_type": "display_data"
    },
    {
     "name": "stdout",
     "output_type": "stream",
     "text": [
      "Outer: DOWMeanModel(weekdays=4, weekends=7) - RMSLE: 0.71881381900067\n"
     ]
    },
    {
     "data": {
      "text/plain": [
       "  0%|          | 0/100 [00:00<?, ?it/s]"
      ],
      "application/vnd.jupyter.widget-view+json": {
       "version_major": 2,
       "version_minor": 0,
       "model_id": "0000cad8bc2d42acb0a2d57e4708a262"
      }
     },
     "metadata": {},
     "output_type": "display_data"
    },
    {
     "name": "stdout",
     "output_type": "stream",
     "text": [
      "Outer: DOWMeanModel(weekdays=6, weekends=8) - RMSLE: 0.7172764644698068\n"
     ]
    },
    {
     "data": {
      "text/plain": [
       "  0%|          | 0/100 [00:00<?, ?it/s]"
      ],
      "application/vnd.jupyter.widget-view+json": {
       "version_major": 2,
       "version_minor": 0,
       "model_id": "8fb39e56827643eb99444e5bc2877779"
      }
     },
     "metadata": {},
     "output_type": "display_data"
    },
    {
     "name": "stdout",
     "output_type": "stream",
     "text": [
      "Outer: DOWMeanModel(weekdays=10, weekends=9) - RMSLE: 0.6143403508053531\n",
      "\n",
      "Family: LIQUOR,WINE,BEER - Store: 36 RMSLE: 0.6834768780919432\n",
      "\n",
      "\n",
      "Family: LIQUOR,WINE,BEER - Store: 46\n"
     ]
    },
    {
     "data": {
      "text/plain": [
       "  0%|          | 0/100 [00:00<?, ?it/s]"
      ],
      "application/vnd.jupyter.widget-view+json": {
       "version_major": 2,
       "version_minor": 0,
       "model_id": "e134d3b3c5b84d3d86fe57098ca7c4d2"
      }
     },
     "metadata": {},
     "output_type": "display_data"
    },
    {
     "name": "stdout",
     "output_type": "stream",
     "text": [
      "Outer: DailyMeanModel(window=8) - RMSLE: 0.7721374228395335\n"
     ]
    },
    {
     "data": {
      "text/plain": [
       "  0%|          | 0/100 [00:00<?, ?it/s]"
      ],
      "application/vnd.jupyter.widget-view+json": {
       "version_major": 2,
       "version_minor": 0,
       "model_id": "058456219a284164859bf17a1ecd99dc"
      }
     },
     "metadata": {},
     "output_type": "display_data"
    },
    {
     "name": "stdout",
     "output_type": "stream",
     "text": [
      "Outer: DOWMeanModel(weekdays=46, weekends=2) - RMSLE: 0.7620985252150737\n"
     ]
    },
    {
     "data": {
      "text/plain": [
       "  0%|          | 0/100 [00:00<?, ?it/s]"
      ],
      "application/vnd.jupyter.widget-view+json": {
       "version_major": 2,
       "version_minor": 0,
       "model_id": "cf5b6b271800409691cd119d5d5fb465"
      }
     },
     "metadata": {},
     "output_type": "display_data"
    },
    {
     "name": "stdout",
     "output_type": "stream",
     "text": [
      "Outer: DOWMeanModel(weekdays=22, weekends=9) - RMSLE: 0.6097263677118951\n",
      "\n",
      "Family: LIQUOR,WINE,BEER - Store: 46 RMSLE: 0.7146541052555007\n",
      "\n",
      "\n",
      "Family: MAGAZINES - Store: 14\n"
     ]
    },
    {
     "data": {
      "text/plain": [
       "  0%|          | 0/100 [00:00<?, ?it/s]"
      ],
      "application/vnd.jupyter.widget-view+json": {
       "version_major": 2,
       "version_minor": 0,
       "model_id": "bc76cf5c70324dd880fbd3a58bdb949d"
      }
     },
     "metadata": {},
     "output_type": "display_data"
    },
    {
     "name": "stdout",
     "output_type": "stream",
     "text": [
      "Outer: DOWMeanModel(weekdays=5, weekends=4) - RMSLE: 0.5830547413795465\n"
     ]
    },
    {
     "data": {
      "text/plain": [
       "  0%|          | 0/100 [00:00<?, ?it/s]"
      ],
      "application/vnd.jupyter.widget-view+json": {
       "version_major": 2,
       "version_minor": 0,
       "model_id": "db53a8cc297d4397b0e9de8af97ed066"
      }
     },
     "metadata": {},
     "output_type": "display_data"
    },
    {
     "name": "stdout",
     "output_type": "stream",
     "text": [
      "Outer: DOWMeanModel(weekdays=15, weekends=5) - RMSLE: 0.5123915981327107\n"
     ]
    },
    {
     "data": {
      "text/plain": [
       "  0%|          | 0/100 [00:00<?, ?it/s]"
      ],
      "application/vnd.jupyter.widget-view+json": {
       "version_major": 2,
       "version_minor": 0,
       "model_id": "1aca41736a0742e1b5b644e316b54e53"
      }
     },
     "metadata": {},
     "output_type": "display_data"
    },
    {
     "name": "stdout",
     "output_type": "stream",
     "text": [
      "Outer: DOWMeanModel(weekdays=48, weekends=10) - RMSLE: 0.5124343125493857\n",
      "\n",
      "Family: MAGAZINES - Store: 14 RMSLE: 0.535960217353881\n",
      "\n",
      "\n",
      "Family: MAGAZINES - Store: 15\n"
     ]
    },
    {
     "data": {
      "text/plain": [
       "  0%|          | 0/100 [00:00<?, ?it/s]"
      ],
      "application/vnd.jupyter.widget-view+json": {
       "version_major": 2,
       "version_minor": 0,
       "model_id": "234dbea76e5f4078b158520279f05c1f"
      }
     },
     "metadata": {},
     "output_type": "display_data"
    },
    {
     "name": "stdout",
     "output_type": "stream",
     "text": [
      "Outer: DailyMeanModel(window=30) - RMSLE: 0.5607643378482212\n"
     ]
    },
    {
     "data": {
      "text/plain": [
       "  0%|          | 0/100 [00:00<?, ?it/s]"
      ],
      "application/vnd.jupyter.widget-view+json": {
       "version_major": 2,
       "version_minor": 0,
       "model_id": "c96e07385347413ead95eff205b6424f"
      }
     },
     "metadata": {},
     "output_type": "display_data"
    },
    {
     "name": "stdout",
     "output_type": "stream",
     "text": [
      "Outer: DOWMeanModel(weekdays=43, weekends=3) - RMSLE: 0.5047457193527205\n"
     ]
    },
    {
     "data": {
      "text/plain": [
       "  0%|          | 0/100 [00:00<?, ?it/s]"
      ],
      "application/vnd.jupyter.widget-view+json": {
       "version_major": 2,
       "version_minor": 0,
       "model_id": "9afd3891a4f14915baa6a33a845e63e8"
      }
     },
     "metadata": {},
     "output_type": "display_data"
    },
    {
     "name": "stdout",
     "output_type": "stream",
     "text": [
      "Outer: DOWMeanModel(weekdays=14, weekends=10) - RMSLE: 0.5184196931892283\n",
      "\n",
      "Family: MAGAZINES - Store: 15 RMSLE: 0.5279765834633899\n",
      "\n",
      "\n",
      "Family: MEATS - Store: 51\n"
     ]
    },
    {
     "data": {
      "text/plain": [
       "  0%|          | 0/100 [00:00<?, ?it/s]"
      ],
      "application/vnd.jupyter.widget-view+json": {
       "version_major": 2,
       "version_minor": 0,
       "model_id": "92abfa93d9494014a790b6009fe0c05e"
      }
     },
     "metadata": {},
     "output_type": "display_data"
    },
    {
     "name": "stdout",
     "output_type": "stream",
     "text": [
      "Outer: DailyMeanModel(window=9) - RMSLE: 0.3074362113839999\n"
     ]
    },
    {
     "data": {
      "text/plain": [
       "  0%|          | 0/100 [00:00<?, ?it/s]"
      ],
      "application/vnd.jupyter.widget-view+json": {
       "version_major": 2,
       "version_minor": 0,
       "model_id": "02fc6af98bfd46a1b049fdc50eeca5b8"
      }
     },
     "metadata": {},
     "output_type": "display_data"
    },
    {
     "name": "stdout",
     "output_type": "stream",
     "text": [
      "Outer: DOWMeanModel(weekdays=25, weekends=2) - RMSLE: 0.2770748261123669\n"
     ]
    },
    {
     "data": {
      "text/plain": [
       "  0%|          | 0/100 [00:00<?, ?it/s]"
      ],
      "application/vnd.jupyter.widget-view+json": {
       "version_major": 2,
       "version_minor": 0,
       "model_id": "71ca21a11b5f4dbb8e17b97e68b9894a"
      }
     },
     "metadata": {},
     "output_type": "display_data"
    },
    {
     "name": "stdout",
     "output_type": "stream",
     "text": [
      "Outer: DOWMeanModel(weekdays=50, weekends=7) - RMSLE: 0.28759412685551555\n",
      "\n",
      "Family: MEATS - Store: 51 RMSLE: 0.29070172145062745\n",
      "\n",
      "\n",
      "Family: MEATS - Store: 20\n"
     ]
    },
    {
     "data": {
      "text/plain": [
       "  0%|          | 0/100 [00:00<?, ?it/s]"
      ],
      "application/vnd.jupyter.widget-view+json": {
       "version_major": 2,
       "version_minor": 0,
       "model_id": "9cbaf353400a44a29535b5c56001dbc8"
      }
     },
     "metadata": {},
     "output_type": "display_data"
    },
    {
     "name": "stdout",
     "output_type": "stream",
     "text": [
      "Outer: DOWMeanModel(weekdays=45, weekends=10) - RMSLE: 0.3084556302042978\n"
     ]
    },
    {
     "data": {
      "text/plain": [
       "  0%|          | 0/100 [00:00<?, ?it/s]"
      ],
      "application/vnd.jupyter.widget-view+json": {
       "version_major": 2,
       "version_minor": 0,
       "model_id": "36e32c6e09ef4d909e7bc53b0e9e36d3"
      }
     },
     "metadata": {},
     "output_type": "display_data"
    },
    {
     "name": "stdout",
     "output_type": "stream",
     "text": [
      "Outer: DOWMeanModel(weekdays=26, weekends=7) - RMSLE: 0.2703474946155023\n"
     ]
    },
    {
     "data": {
      "text/plain": [
       "  0%|          | 0/100 [00:00<?, ?it/s]"
      ],
      "application/vnd.jupyter.widget-view+json": {
       "version_major": 2,
       "version_minor": 0,
       "model_id": "5e72fa5d0c4943068bfa68e071564f32"
      }
     },
     "metadata": {},
     "output_type": "display_data"
    },
    {
     "name": "stdout",
     "output_type": "stream",
     "text": [
      "Outer: DOWMeanModel(weekdays=45, weekends=8) - RMSLE: 0.287931997212958\n",
      "\n",
      "Family: MEATS - Store: 20 RMSLE: 0.28891170734425264\n",
      "\n",
      "\n",
      "Family: SCHOOL AND OFFICE SUPPLIES - Store: 32\n"
     ]
    },
    {
     "data": {
      "text/plain": [
       "  0%|          | 0/100 [00:00<?, ?it/s]"
      ],
      "application/vnd.jupyter.widget-view+json": {
       "version_major": 2,
       "version_minor": 0,
       "model_id": "9b8d06b22f56446d96e7f099c70ad5a7"
      }
     },
     "metadata": {},
     "output_type": "display_data"
    },
    {
     "name": "stdout",
     "output_type": "stream",
     "text": [
      "Outer: DailyMeanModel(window=53) - RMSLE: 0.398429373571041\n"
     ]
    },
    {
     "data": {
      "text/plain": [
       "  0%|          | 0/100 [00:00<?, ?it/s]"
      ],
      "application/vnd.jupyter.widget-view+json": {
       "version_major": 2,
       "version_minor": 0,
       "model_id": "6e5ce131adc343fa88c1d46a8676f438"
      }
     },
     "metadata": {},
     "output_type": "display_data"
    },
    {
     "name": "stdout",
     "output_type": "stream",
     "text": [
      "Outer: DailyMeanModel(window=5) - RMSLE: 0.7472289956138334\n"
     ]
    },
    {
     "data": {
      "text/plain": [
       "  0%|          | 0/100 [00:00<?, ?it/s]"
      ],
      "application/vnd.jupyter.widget-view+json": {
       "version_major": 2,
       "version_minor": 0,
       "model_id": "098d13157841470aa2259d25730f9ff8"
      }
     },
     "metadata": {},
     "output_type": "display_data"
    },
    {
     "name": "stdout",
     "output_type": "stream",
     "text": [
      "Outer: DailyMeanModel(window=9) - RMSLE: 1.0103767740237137\n",
      "\n",
      "Family: SCHOOL AND OFFICE SUPPLIES - Store: 32 RMSLE: 0.7186783810695294\n",
      "\n",
      "\n",
      "Family: SCHOOL AND OFFICE SUPPLIES - Store: 41\n"
     ]
    },
    {
     "data": {
      "text/plain": [
       "  0%|          | 0/100 [00:00<?, ?it/s]"
      ],
      "application/vnd.jupyter.widget-view+json": {
       "version_major": 2,
       "version_minor": 0,
       "model_id": "c0d89e28c0c9428392e1dfa27be8f1d7"
      }
     },
     "metadata": {},
     "output_type": "display_data"
    },
    {
     "name": "stdout",
     "output_type": "stream",
     "text": [
      "Outer: DailyMeanModel(window=8) - RMSLE: 0.3738333696791925\n"
     ]
    },
    {
     "data": {
      "text/plain": [
       "  0%|          | 0/100 [00:00<?, ?it/s]"
      ],
      "application/vnd.jupyter.widget-view+json": {
       "version_major": 2,
       "version_minor": 0,
       "model_id": "0589b9bee66a48deb0f55d991a2c8612"
      }
     },
     "metadata": {},
     "output_type": "display_data"
    },
    {
     "name": "stdout",
     "output_type": "stream",
     "text": [
      "Outer: DailyMeanModel(window=3) - RMSLE: 0.7126704384073037\n"
     ]
    },
    {
     "data": {
      "text/plain": [
       "  0%|          | 0/100 [00:00<?, ?it/s]"
      ],
      "application/vnd.jupyter.widget-view+json": {
       "version_major": 2,
       "version_minor": 0,
       "model_id": "0a46574d0bb24e6e8d90a2564d101e7a"
      }
     },
     "metadata": {},
     "output_type": "display_data"
    },
    {
     "name": "stdout",
     "output_type": "stream",
     "text": [
      "Outer: DailyMeanModel(window=4) - RMSLE: 0.9377161509796933\n",
      "\n",
      "Family: SCHOOL AND OFFICE SUPPLIES - Store: 41 RMSLE: 0.6747399863553966\n",
      "\n",
      "\n",
      "Family: SEAFOOD - Store: 21\n"
     ]
    },
    {
     "data": {
      "text/plain": [
       "  0%|          | 0/100 [00:00<?, ?it/s]"
      ],
      "application/vnd.jupyter.widget-view+json": {
       "version_major": 2,
       "version_minor": 0,
       "model_id": "d2491dbd01764f288adbdb3542a1bf80"
      }
     },
     "metadata": {},
     "output_type": "display_data"
    },
    {
     "name": "stdout",
     "output_type": "stream",
     "text": [
      "Outer: DOWMeanModel(weekdays=49, weekends=1) - RMSLE: 0.6028766465401014\n"
     ]
    },
    {
     "data": {
      "text/plain": [
       "  0%|          | 0/100 [00:00<?, ?it/s]"
      ],
      "application/vnd.jupyter.widget-view+json": {
       "version_major": 2,
       "version_minor": 0,
       "model_id": "128a340ab20f4be382fc975cd563561b"
      }
     },
     "metadata": {},
     "output_type": "display_data"
    },
    {
     "name": "stdout",
     "output_type": "stream",
     "text": [
      "Outer: DOWMeanModel(weekdays=49, weekends=2) - RMSLE: 0.5341668147131465\n"
     ]
    },
    {
     "data": {
      "text/plain": [
       "  0%|          | 0/100 [00:00<?, ?it/s]"
      ],
      "application/vnd.jupyter.widget-view+json": {
       "version_major": 2,
       "version_minor": 0,
       "model_id": "5c5b0440dc6f447aacfc7ce1bf208eeb"
      }
     },
     "metadata": {},
     "output_type": "display_data"
    },
    {
     "name": "stdout",
     "output_type": "stream",
     "text": [
      "Outer: DOWMeanModel(weekdays=15, weekends=9) - RMSLE: 0.5063760264547287\n",
      "\n",
      "Family: SEAFOOD - Store: 21 RMSLE: 0.5478064959026588\n",
      "\n",
      "\n",
      "Family: SEAFOOD - Store: 42\n"
     ]
    },
    {
     "data": {
      "text/plain": [
       "  0%|          | 0/100 [00:00<?, ?it/s]"
      ],
      "application/vnd.jupyter.widget-view+json": {
       "version_major": 2,
       "version_minor": 0,
       "model_id": "9604378e09c94d5aa75d659779227f1a"
      }
     },
     "metadata": {},
     "output_type": "display_data"
    },
    {
     "name": "stdout",
     "output_type": "stream",
     "text": [
      "Outer: DOWMeanModel(weekdays=43, weekends=2) - RMSLE: 0.563583401382202\n"
     ]
    },
    {
     "data": {
      "text/plain": [
       "  0%|          | 0/100 [00:00<?, ?it/s]"
      ],
      "application/vnd.jupyter.widget-view+json": {
       "version_major": 2,
       "version_minor": 0,
       "model_id": "a4471f4e188e40bd95c8990ea1145f56"
      }
     },
     "metadata": {},
     "output_type": "display_data"
    },
    {
     "name": "stdout",
     "output_type": "stream",
     "text": [
      "Outer: DOWMeanModel(weekdays=50, weekends=10) - RMSLE: 0.5201165645643122\n"
     ]
    },
    {
     "data": {
      "text/plain": [
       "  0%|          | 0/100 [00:00<?, ?it/s]"
      ],
      "application/vnd.jupyter.widget-view+json": {
       "version_major": 2,
       "version_minor": 0,
       "model_id": "c29e2c26919f4d63a2d9f5bcae81a024"
      }
     },
     "metadata": {},
     "output_type": "display_data"
    },
    {
     "name": "stdout",
     "output_type": "stream",
     "text": [
      "Outer: DOWMeanModel(weekdays=27, weekends=10) - RMSLE: 0.5054416151132843\n",
      "\n",
      "Family: SEAFOOD - Store: 42 RMSLE: 0.5297138603532662\n",
      "\n",
      "\n",
      "Total RMSLE: 0.41105948306828793\n"
     ]
    }
   ],
   "execution_count": 63
  },
  {
   "metadata": {},
   "cell_type": "markdown",
   "source": "## Analyze Loss Results",
   "id": "b88ff76ad800843c"
  },
  {
   "metadata": {
    "ExecuteTime": {
     "end_time": "2024-10-11T14:25:17.144632Z",
     "start_time": "2024-10-11T14:25:17.126619Z"
    }
   },
   "cell_type": "code",
   "source": [
    "def make_plot(data_dict, loss_sample_name, title):\n",
    "    plot_data = []\n",
    "    for i_group, samples in enumerate(data_dict.values()):\n",
    "        for sample, losses in samples[loss_sample_name].items():\n",
    "            for loss in losses:\n",
    "                plot_data.append([i_group, sample, loss])\n",
    "    \n",
    "    df = pd.DataFrame(plot_data, columns=[\"Group\", loss_sample_name, \"Loss\"])\n",
    "    \n",
    "    plt.figure(figsize=(16, 8))\n",
    "    sns.boxplot(x=\"Group\", y=\"Loss\", hue=loss_sample_name, data=df)\n",
    "    \n",
    "    plt.yscale(\"log\")\n",
    "    plt.gca().yaxis.set_major_formatter(ScalarFormatter())\n",
    "    plt.gca().yaxis.set_minor_formatter(ScalarFormatter())\n",
    "    plt.gca().ticklabel_format(style=\"plain\", axis=\"y\")\n",
    "    \n",
    "    plt.title(title)\n",
    "    plt.xticks(rotation=45)\n",
    "    plt.tight_layout()\n",
    "    plt.show()"
   ],
   "id": "ed88d9cbd0679550",
   "outputs": [],
   "execution_count": 70
  },
  {
   "metadata": {
    "ExecuteTime": {
     "end_time": "2024-10-11T14:25:19.007666Z",
     "start_time": "2024-10-11T14:25:17.879796Z"
    }
   },
   "cell_type": "code",
   "source": [
    "plot_title = \"Loss Distribution per Outer Fold Grouped by Family Pairs\"\n",
    "make_plot(sales_predictor.tune_loss_storage, \"fold_losses\", plot_title)"
   ],
   "id": "ec7434c46e39b37c",
   "outputs": [
    {
     "data": {
      "text/plain": [
       "<Figure size 1600x800 with 1 Axes>"
      ],
      "image/png": "[encoded data removed]"
     },
     "metadata": {},
     "output_type": "display_data"
    }
   ],
   "execution_count": 72
  },
  {
   "metadata": {
    "ExecuteTime": {
     "end_time": "2024-10-11T14:25:17.878505Z",
     "start_time": "2024-10-11T14:25:17.145973Z"
    }
   },
   "cell_type": "code",
   "source": [
    "plot_title = \"Loss Distribution per Store-Family Sample Grouped by Store Pairs\"\n",
    "make_plot(sales_predictor.tune_loss_storage, \"sample_losses\", plot_title)"
   ],
   "id": "a70686b5c84c06bc",
   "outputs": [
    {
     "data": {
      "text/plain": [
       "<Figure size 1600x800 with 1 Axes>"
      ],
      "image/png": "[encoded data removed]"
     },
     "metadata": {},
     "output_type": "display_data"
    }
   ],
   "execution_count": 71
  },
  {
   "cell_type": "markdown",
   "id": "57172f42abd726a7",
   "metadata": {},
   "source": "## Make Submission"
  },
  {
   "metadata": {},
   "cell_type": "code",
   "outputs": [
    {
     "name": "stderr",
     "output_type": "stream",
     "text": [
      "100%|██████████| 1782/1782 [02:36<00:00, 11.40it/s]\n"
     ]
    }
   ],
   "execution_count": 15,
   "source": "sales_predictor.fit(train_df, initial)",
   "id": "ea9dd75bad53177b"
  },
  {
   "cell_type": "code",
   "execution_count": 16,
   "id": "d6930ee298fa3db8",
   "metadata": {
    "ExecuteTime": {
     "end_time": "2024-10-09T07:58:17.334485Z",
     "start_time": "2024-10-09T07:58:17.156330Z"
    }
   },
   "outputs": [],
   "source": [
    "submission = load_submission()"
   ]
  },
  {
   "cell_type": "code",
   "execution_count": 17,
   "id": "1baa2174320885dc",
   "metadata": {
    "ExecuteTime": {
     "end_time": "2024-10-09T07:58:26.805591Z",
     "start_time": "2024-10-09T07:58:17.336546Z"
    }
   },
   "outputs": [
    {
     "name": "stderr",
     "output_type": "stream",
     "text": [
      "100%|██████████| 1782/1782 [00:09<00:00, 196.39it/s]\n"
     ]
    }
   ],
   "source": [
    "tuned_submission = sales_predictor.predict(test_df, submission)"
   ]
  },
  {
   "cell_type": "code",
   "execution_count": 18,
   "id": "bfd0433f9226d39",
   "metadata": {
    "ExecuteTime": {
     "end_time": "2024-10-09T07:58:26.833576Z",
     "start_time": "2024-10-09T07:58:26.807228Z"
    }
   },
   "outputs": [
    {
     "data": {
      "text/html": [
       "<div>\n",
       "<style scoped>\n",
       "    .dataframe tbody tr th:only-of-type {\n",
       "        vertical-align: middle;\n",
       "    }\n",
       "\n",
       "    .dataframe tbody tr th {\n",
       "        vertical-align: top;\n",
       "    }\n",
       "\n",
       "    .dataframe thead th {\n",
       "        text-align: right;\n",
       "    }\n",
       "</style>\n",
       "<table border=\"1\" class=\"dataframe\">\n",
       "  <thead>\n",
       "    <tr style=\"text-align: right;\">\n",
       "      <th></th>\n",
       "      <th>sales</th>\n",
       "    </tr>\n",
       "    <tr>\n",
       "      <th>id</th>\n",
       "      <th></th>\n",
       "    </tr>\n",
       "  </thead>\n",
       "  <tbody>\n",
       "    <tr>\n",
       "      <th>3000888</th>\n",
       "      <td>5.173913</td>\n",
       "    </tr>\n",
       "    <tr>\n",
       "      <th>3000889</th>\n",
       "      <td>0.000000</td>\n",
       "    </tr>\n",
       "    <tr>\n",
       "      <th>3000890</th>\n",
       "      <td>3.840000</td>\n",
       "    </tr>\n",
       "    <tr>\n",
       "      <th>3000891</th>\n",
       "      <td>2281.960000</td>\n",
       "    </tr>\n",
       "    <tr>\n",
       "      <th>3000892</th>\n",
       "      <td>0.062500</td>\n",
       "    </tr>\n",
       "    <tr>\n",
       "      <th>...</th>\n",
       "      <td>...</td>\n",
       "    </tr>\n",
       "    <tr>\n",
       "      <th>3029395</th>\n",
       "      <td>397.408238</td>\n",
       "    </tr>\n",
       "    <tr>\n",
       "      <th>3029396</th>\n",
       "      <td>96.785522</td>\n",
       "    </tr>\n",
       "    <tr>\n",
       "      <th>3029397</th>\n",
       "      <td>1672.013056</td>\n",
       "    </tr>\n",
       "    <tr>\n",
       "      <th>3029398</th>\n",
       "      <td>153.600000</td>\n",
       "    </tr>\n",
       "    <tr>\n",
       "      <th>3029399</th>\n",
       "      <td>16.470947</td>\n",
       "    </tr>\n",
       "  </tbody>\n",
       "</table>\n",
       "<p>28512 rows × 1 columns</p>\n",
       "</div>"
      ],
      "text/plain": [
       "               sales\n",
       "id                  \n",
       "3000888     5.173913\n",
       "3000889     0.000000\n",
       "3000890     3.840000\n",
       "3000891  2281.960000\n",
       "3000892     0.062500\n",
       "...              ...\n",
       "3029395   397.408238\n",
       "3029396    96.785522\n",
       "3029397  1672.013056\n",
       "3029398   153.600000\n",
       "3029399    16.470947\n",
       "\n",
       "[28512 rows x 1 columns]"
      ]
     },
     "execution_count": 18,
     "metadata": {},
     "output_type": "execute_result"
    }
   ],
   "source": [
    "tuned_submission[~tuned_submission[\"sales\"].isna()]"
   ]
  },
  {
   "cell_type": "code",
   "execution_count": 19,
   "id": "16ea81352fcaed2d",
   "metadata": {
    "ExecuteTime": {
     "end_time": "2024-10-09T07:58:26.929745Z",
     "start_time": "2024-10-09T07:58:26.835289Z"
    }
   },
   "outputs": [],
   "source": [
    "import os\n",
    "\n",
    "submission_file_path = os.path.join(SUBMISSIONS_PATH, \"test_refactored.csv\")\n",
    "tuned_submission.to_csv(submission_file_path)"
   ]
  },
  {
   "cell_type": "code",
   "execution_count": null,
   "id": "39b79d30a4db0d7e",
   "metadata": {},
   "outputs": [],
   "source": []
  }
 ],
 "metadata": {
  "kernelspec": {
   "display_name": "Python 3",
   "language": "python",
   "name": "python3"
  },
  "language_info": {
   "codemirror_mode": {
    "name": "ipython",
    "version": 2
   },
   "file_extension": ".py",
   "mimetype": "text/x-python",
   "name": "python",
   "nbconvert_exporter": "python",
   "pygments_lexer": "ipython2",
   "version": "2.7.6"
  }
 },
 "nbformat": 4,
 "nbformat_minor": 5
}
