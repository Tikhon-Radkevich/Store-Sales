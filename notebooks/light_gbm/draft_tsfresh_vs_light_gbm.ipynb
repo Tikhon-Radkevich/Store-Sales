{
 "cells": [
  {
   "cell_type": "markdown",
   "id": "5e4416e468c84778",
   "metadata": {},
   "source": "## 1. Import Libraries and Constants"
  },
  {
   "cell_type": "code",
   "execution_count": 1,
   "id": "initial_id",
   "metadata": {
    "ExecuteTime": {
     "end_time": "2024-10-15T07:41:18.406561Z",
     "start_time": "2024-10-15T07:41:15.590354Z"
    }
   },
   "outputs": [],
   "source": [
    "import numpy as np\n",
    "import pandas as pd\n",
    "import matplotlib.pyplot as plt\n",
    "\n",
    "from tsfresh import extract_relevant_features\n",
    "from tsfresh.utilities.dataframe_functions import roll_time_series\n",
    "\n",
    "from sklearn.model_selection import train_test_split\n",
    "from sklearn.metrics import root_mean_squared_log_error as rmsle\n",
    "\n",
    "from lightgbm import LGBMRegressor, plot_importance\n",
    "\n",
    "from storesales.constants import EXTERNAL_TRAIN_PATH, EXTERNAL_OIL_PATH"
   ]
  },
  {
   "cell_type": "markdown",
   "id": "e70017c0ba9bffa6",
   "metadata": {},
   "source": [
    "## 2. Load Data\n",
    "### Load Sales Data"
   ]
  },
  {
   "cell_type": "code",
   "execution_count": 78,
   "id": "549e00c2e6b65249",
   "metadata": {
    "ExecuteTime": {
     "end_time": "2024-10-15T08:16:37.314089Z",
     "start_time": "2024-10-15T08:16:35.861704Z"
    }
   },
   "outputs": [],
   "source": [
    "df = pd.read_csv(EXTERNAL_TRAIN_PATH, parse_dates=[\"date\"])"
   ]
  },
  {
   "cell_type": "markdown",
   "id": "9b7a5681e36d4ca5",
   "metadata": {},
   "source": "### Load Oil Data"
  },
  {
   "cell_type": "code",
   "execution_count": 149,
   "id": "72ea263bfdee0242",
   "metadata": {
    "ExecuteTime": {
     "end_time": "2024-10-13T08:53:17.281795Z",
     "start_time": "2024-10-13T08:53:17.263253Z"
    }
   },
   "outputs": [],
   "source": [
    "oil_df = pd.read_csv(EXTERNAL_OIL_PATH, parse_dates=[\"date\"])\n",
    "oil_df.set_index(\"date\", inplace=True)\n",
    "oil_df = oil_df.asfreq(\"D\")\n",
    "oil_df[\"dcoilwtico\"] = oil_df[\"dcoilwtico\"].interpolate(limit_direction=\"forward\")\n",
    "oil_df = oil_df.dropna()"
   ]
  },
  {
   "cell_type": "markdown",
   "id": "33220eefbf9af8ff",
   "metadata": {},
   "source": "## 3. Define Time Range and Create MultiIndex for Missing Dates"
  },
  {
   "cell_type": "code",
   "execution_count": 150,
   "id": "3db788dd068d0a1a",
   "metadata": {
    "ExecuteTime": {
     "end_time": "2024-10-13T08:53:17.441065Z",
     "start_time": "2024-10-13T08:53:17.283080Z"
    }
   },
   "outputs": [],
   "source": [
    "train_data_start = df.date.min().date()\n",
    "train_data_end = df.date.max().date()\n",
    "\n",
    "multi_idx = pd.MultiIndex.from_product(\n",
    "    [\n",
    "        pd.date_range(train_data_start, train_data_end),\n",
    "        df.store_nbr.unique(),\n",
    "        df.family.unique(),\n",
    "    ],\n",
    "    names=[\"date\", \"store_nbr\", \"family\"],\n",
    ")"
   ]
  },
  {
   "cell_type": "markdown",
   "id": "54b984a83931f88f",
   "metadata": {},
   "source": "## 4. Handle Missing Values and Merge with Oil Data"
  },
  {
   "cell_type": "code",
   "execution_count": 151,
   "id": "dbda45683b59b9bc",
   "metadata": {
    "ExecuteTime": {
     "end_time": "2024-10-13T08:53:18.849960Z",
     "start_time": "2024-10-13T08:53:17.762915Z"
    }
   },
   "outputs": [],
   "source": [
    "train_data = (\n",
    "    df.set_index([\"date\", \"store_nbr\", \"family\"]).reindex(multi_idx).reset_index()\n",
    ")\n",
    "train_data[[\"sales\", \"onpromotion\"]] = train_data[[\"sales\", \"onpromotion\"]].fillna(0.0)\n",
    "train_data.drop(\"id\", axis=1, inplace=True)\n",
    "train_data = train_data.merge(oil_df, on=\"date\", how=\"left\")"
   ]
  },
  {
   "cell_type": "markdown",
   "id": "3aebd636bc78f964",
   "metadata": {},
   "source": "## 5. Select a Family and Prepare Data for Rolling Window"
  },
  {
   "cell_type": "code",
   "execution_count": 152,
   "id": "5e5175891b641179",
   "metadata": {
    "ExecuteTime": {
     "end_time": "2024-10-13T08:53:19.058703Z",
     "start_time": "2024-10-13T08:53:18.851580Z"
    }
   },
   "outputs": [],
   "source": [
    "part_data = train_data[\n",
    "    train_data[\"family\"].isin([\"BEVERAGES\", \"MEATS\", \"BREAD/BAKERY\"])\n",
    "].copy()\n",
    "\n",
    "part_data[\"store_to_family\"] = (\n",
    "    part_data[\"store_nbr\"].astype(str) + \"-\" + part_data[\"family\"]\n",
    ")\n",
    "train_data = part_data[\n",
    "    [\"date\", \"sales\", \"onpromotion\", \"store_to_family\", \"dcoilwtico\"]\n",
    "].copy()\n",
    "train_data.rename(columns={\"store_to_family\": \"id\", \"date\": \"time\"}, inplace=True)"
   ]
  },
  {
   "cell_type": "markdown",
   "id": "bd0296c99f0cbd3c",
   "metadata": {},
   "source": "### Interpolate Missing Data"
  },
  {
   "cell_type": "code",
   "execution_count": 155,
   "id": "7a0244b15cb4b4a3",
   "metadata": {
    "ExecuteTime": {
     "end_time": "2024-10-13T08:56:45.192020Z",
     "start_time": "2024-10-13T08:56:45.183487Z"
    }
   },
   "outputs": [
    {
     "data": {
      "text/html": [
       "<div>\n",
       "<style scoped>\n",
       "    .dataframe tbody tr th:only-of-type {\n",
       "        vertical-align: middle;\n",
       "    }\n",
       "\n",
       "    .dataframe tbody tr th {\n",
       "        vertical-align: top;\n",
       "    }\n",
       "\n",
       "    .dataframe thead th {\n",
       "        text-align: right;\n",
       "    }\n",
       "</style>\n",
       "<table border=\"1\" class=\"dataframe\">\n",
       "  <thead>\n",
       "    <tr style=\"text-align: right;\">\n",
       "      <th></th>\n",
       "      <th>time</th>\n",
       "      <th>sales</th>\n",
       "      <th>onpromotion</th>\n",
       "      <th>id</th>\n",
       "      <th>dcoilwtico</th>\n",
       "    </tr>\n",
       "  </thead>\n",
       "  <tbody>\n",
       "    <tr>\n",
       "      <th>3</th>\n",
       "      <td>2013-01-01</td>\n",
       "      <td>NaN</td>\n",
       "      <td>0.0</td>\n",
       "      <td>1-BEVERAGES</td>\n",
       "      <td>NaN</td>\n",
       "    </tr>\n",
       "    <tr>\n",
       "      <th>1785</th>\n",
       "      <td>2013-01-02</td>\n",
       "      <td>1091.0</td>\n",
       "      <td>0.0</td>\n",
       "      <td>1-BEVERAGES</td>\n",
       "      <td>93.140000</td>\n",
       "    </tr>\n",
       "    <tr>\n",
       "      <th>3567</th>\n",
       "      <td>2013-01-03</td>\n",
       "      <td>919.0</td>\n",
       "      <td>0.0</td>\n",
       "      <td>1-BEVERAGES</td>\n",
       "      <td>92.970000</td>\n",
       "    </tr>\n",
       "    <tr>\n",
       "      <th>5349</th>\n",
       "      <td>2013-01-04</td>\n",
       "      <td>953.0</td>\n",
       "      <td>0.0</td>\n",
       "      <td>1-BEVERAGES</td>\n",
       "      <td>93.120000</td>\n",
       "    </tr>\n",
       "    <tr>\n",
       "      <th>7131</th>\n",
       "      <td>2013-01-05</td>\n",
       "      <td>1160.0</td>\n",
       "      <td>0.0</td>\n",
       "      <td>1-BEVERAGES</td>\n",
       "      <td>93.146667</td>\n",
       "    </tr>\n",
       "  </tbody>\n",
       "</table>\n",
       "</div>"
      ],
      "text/plain": [
       "           time   sales  onpromotion           id  dcoilwtico\n",
       "3    2013-01-01     NaN          0.0  1-BEVERAGES         NaN\n",
       "1785 2013-01-02  1091.0          0.0  1-BEVERAGES   93.140000\n",
       "3567 2013-01-03   919.0          0.0  1-BEVERAGES   92.970000\n",
       "5349 2013-01-04   953.0          0.0  1-BEVERAGES   93.120000\n",
       "7131 2013-01-05  1160.0          0.0  1-BEVERAGES   93.146667"
      ]
     },
     "execution_count": 155,
     "metadata": {},
     "output_type": "execute_result"
    }
   ],
   "source": [
    "train_data.head()"
   ]
  },
  {
   "cell_type": "code",
   "execution_count": 157,
   "id": "dc47daaf125d80fb",
   "metadata": {
    "ExecuteTime": {
     "end_time": "2024-10-13T08:57:27.291613Z",
     "start_time": "2024-10-13T08:57:26.957777Z"
    }
   },
   "outputs": [],
   "source": [
    "train_data[\"sales\"] = train_data[\"sales\"].replace(0, np.nan)\n",
    "\n",
    "train_data = train_data.sort_values(by=[\"id\", \"time\"])\n",
    "\n",
    "train_data[\"sales\"] = train_data.groupby(\"id\")[\"sales\"].transform(\n",
    "    lambda group: group.interpolate(method=\"linear\", limit_direction=\"forward\")\n",
    ")\n",
    "\n",
    "train_data.dropna(inplace=True)"
   ]
  },
  {
   "cell_type": "code",
   "execution_count": 168,
   "id": "e7eb8824bf4c17a7",
   "metadata": {
    "ExecuteTime": {
     "end_time": "2024-10-13T09:03:23.956498Z",
     "start_time": "2024-10-13T09:03:23.947644Z"
    }
   },
   "outputs": [
    {
     "data": {
      "text/plain": [
       "0    NaN\n",
       "1    2.0\n",
       "2    3.5\n",
       "3    5.0\n",
       "dtype: float64"
      ]
     },
     "execution_count": 168,
     "metadata": {},
     "output_type": "execute_result"
    }
   ],
   "source": [
    "a = pd.Series([np.nan, 2, np.nan, 5])\n",
    "a.interpolate(method=\"linear\", limit_direction=\"forward\")"
   ]
  },
  {
   "cell_type": "code",
   "execution_count": 160,
   "id": "6e0f0a97197b0e7e",
   "metadata": {
    "ExecuteTime": {
     "end_time": "2024-10-13T08:58:26.876176Z",
     "start_time": "2024-10-13T08:58:26.834427Z"
    }
   },
   "outputs": [
    {
     "data": {
      "text/html": [
       "<div>\n",
       "<style scoped>\n",
       "    .dataframe tbody tr th:only-of-type {\n",
       "        vertical-align: middle;\n",
       "    }\n",
       "\n",
       "    .dataframe tbody tr th {\n",
       "        vertical-align: top;\n",
       "    }\n",
       "\n",
       "    .dataframe thead th {\n",
       "        text-align: right;\n",
       "    }\n",
       "</style>\n",
       "<table border=\"1\" class=\"dataframe\">\n",
       "  <thead>\n",
       "    <tr style=\"text-align: right;\">\n",
       "      <th></th>\n",
       "      <th>time</th>\n",
       "      <th>sales</th>\n",
       "      <th>onpromotion</th>\n",
       "      <th>id</th>\n",
       "      <th>dcoilwtico</th>\n",
       "    </tr>\n",
       "  </thead>\n",
       "  <tbody>\n",
       "    <tr>\n",
       "      <th>2799294</th>\n",
       "      <td>2017-04-20</td>\n",
       "      <td>4036.0</td>\n",
       "      <td>0.0</td>\n",
       "      <td>52-BEVERAGES</td>\n",
       "      <td>50.260000</td>\n",
       "    </tr>\n",
       "    <tr>\n",
       "      <th>2801076</th>\n",
       "      <td>2017-04-21</td>\n",
       "      <td>4839.0</td>\n",
       "      <td>37.0</td>\n",
       "      <td>52-BEVERAGES</td>\n",
       "      <td>49.640000</td>\n",
       "    </tr>\n",
       "    <tr>\n",
       "      <th>2802858</th>\n",
       "      <td>2017-04-22</td>\n",
       "      <td>6343.0</td>\n",
       "      <td>40.0</td>\n",
       "      <td>52-BEVERAGES</td>\n",
       "      <td>49.393333</td>\n",
       "    </tr>\n",
       "    <tr>\n",
       "      <th>2804640</th>\n",
       "      <td>2017-04-23</td>\n",
       "      <td>7633.0</td>\n",
       "      <td>39.0</td>\n",
       "      <td>52-BEVERAGES</td>\n",
       "      <td>49.146667</td>\n",
       "    </tr>\n",
       "    <tr>\n",
       "      <th>2806422</th>\n",
       "      <td>2017-04-24</td>\n",
       "      <td>5096.0</td>\n",
       "      <td>35.0</td>\n",
       "      <td>52-BEVERAGES</td>\n",
       "      <td>48.900000</td>\n",
       "    </tr>\n",
       "  </tbody>\n",
       "</table>\n",
       "</div>"
      ],
      "text/plain": [
       "              time   sales  onpromotion            id  dcoilwtico\n",
       "2799294 2017-04-20  4036.0          0.0  52-BEVERAGES   50.260000\n",
       "2801076 2017-04-21  4839.0         37.0  52-BEVERAGES   49.640000\n",
       "2802858 2017-04-22  6343.0         40.0  52-BEVERAGES   49.393333\n",
       "2804640 2017-04-23  7633.0         39.0  52-BEVERAGES   49.146667\n",
       "2806422 2017-04-24  5096.0         35.0  52-BEVERAGES   48.900000"
      ]
     },
     "execution_count": 160,
     "metadata": {},
     "output_type": "execute_result"
    }
   ],
   "source": [
    "train_data[train_data[\"id\"] == \"52-BEVERAGES\"].head()"
   ]
  },
  {
   "cell_type": "markdown",
   "id": "d6a75f556270ed61",
   "metadata": {},
   "source": [
    "## 6. Create Rolling Time Series for Features and Targets\n",
    "### Rolling Features"
   ]
  },
  {
   "cell_type": "code",
   "execution_count": 7,
   "id": "87d963c04c0f7de8",
   "metadata": {
    "ExecuteTime": {
     "end_time": "2024-10-13T07:44:49.756874Z",
     "start_time": "2024-10-13T07:44:00.000148Z"
    }
   },
   "outputs": [
    {
     "name": "stderr",
     "output_type": "stream",
     "text": [
      "Rolling: 100%|██████████| 30/30 [00:44<00:00,  1.48s/it]\n"
     ]
    }
   ],
   "source": [
    "data_rolls = roll_time_series(\n",
    "    train_data,\n",
    "    column_id=\"id\",\n",
    "    column_sort=\"time\",\n",
    "    max_timeshift=30,\n",
    "    min_timeshift=30,\n",
    "    rolling_direction=1,\n",
    "    n_jobs=6,\n",
    ")"
   ]
  },
  {
   "cell_type": "code",
   "execution_count": 8,
   "id": "313ce685024f943c",
   "metadata": {
    "ExecuteTime": {
     "end_time": "2024-10-13T07:46:05.907957Z",
     "start_time": "2024-10-13T07:44:51.723749Z"
    }
   },
   "outputs": [],
   "source": [
    "data_rolls[\"id\"] = data_rolls[\"id\"].apply(\n",
    "    lambda x: (x[0], x[1] + pd.Timedelta(\"1 day\"))\n",
    ")"
   ]
  },
  {
   "cell_type": "markdown",
   "id": "3f114f83de5190ce",
   "metadata": {},
   "source": "### Rolling Target"
  },
  {
   "cell_type": "code",
   "execution_count": 9,
   "id": "44638d26c2db88cf",
   "metadata": {
    "ExecuteTime": {
     "end_time": "2024-10-13T07:47:06.533653Z",
     "start_time": "2024-10-13T07:46:05.909731Z"
    }
   },
   "outputs": [
    {
     "name": "stderr",
     "output_type": "stream",
     "text": [
      "Rolling: 100%|██████████| 30/30 [00:54<00:00,  1.80s/it]\n"
     ]
    }
   ],
   "source": [
    "target_rolls = roll_time_series(\n",
    "    train_data[[\"id\", \"time\", \"sales\"]],\n",
    "    column_id=\"id\",\n",
    "    column_sort=\"time\",\n",
    "    max_timeshift=15,\n",
    "    min_timeshift=15,\n",
    "    rolling_direction=-1,\n",
    "    n_jobs=6,\n",
    ")"
   ]
  },
  {
   "cell_type": "code",
   "execution_count": 10,
   "id": "5c55ed88a081779b",
   "metadata": {
    "ExecuteTime": {
     "end_time": "2024-10-13T07:47:09.335761Z",
     "start_time": "2024-10-13T07:47:06.536128Z"
    }
   },
   "outputs": [],
   "source": [
    "mean_target = target_rolls.groupby(\"id\")[\"sales\"].mean()"
   ]
  },
  {
   "cell_type": "markdown",
   "id": "4c65e077904d00d",
   "metadata": {},
   "source": "## 7. Sample Data"
  },
  {
   "cell_type": "code",
   "execution_count": 11,
   "id": "a0fd959df0c2048c",
   "metadata": {
    "ExecuteTime": {
     "end_time": "2024-10-13T07:47:13.438893Z",
     "start_time": "2024-10-13T07:47:09.338863Z"
    }
   },
   "outputs": [],
   "source": [
    "ids = set.intersection(set(mean_target.index), set(data_rolls[\"id\"]))"
   ]
  },
  {
   "cell_type": "code",
   "execution_count": 15,
   "id": "44eb69ef2f25cc34",
   "metadata": {
    "ExecuteTime": {
     "end_time": "2024-10-13T07:48:29.410978Z",
     "start_time": "2024-10-13T07:48:26.628395Z"
    }
   },
   "outputs": [],
   "source": [
    "sampled_indices = pd.Series(list(ids)).sample(n=5000, random_state=42)\n",
    "\n",
    "sampled_rolls = data_rolls[data_rolls[\"id\"].isin(sampled_indices)]\n",
    "sampled_target_rolls = target_rolls[target_rolls[\"id\"].isin(sampled_indices)]\n",
    "sampled_target_mean = mean_target.loc[sampled_indices]"
   ]
  },
  {
   "cell_type": "markdown",
   "id": "27de4d16219759cc",
   "metadata": {},
   "source": "### Clear Memory"
  },
  {
   "cell_type": "code",
   "execution_count": 16,
   "id": "ab9499a490623071",
   "metadata": {
    "ExecuteTime": {
     "end_time": "2024-10-13T07:49:16.236308Z",
     "start_time": "2024-10-13T07:49:15.352256Z"
    }
   },
   "outputs": [],
   "source": [
    "del data_rolls, target_rolls, mean_target"
   ]
  },
  {
   "cell_type": "markdown",
   "id": "46403eb62ccfcce9",
   "metadata": {},
   "source": [
    "## 8. Feature Extraction\n",
    "### Extract Relevant Features"
   ]
  },
  {
   "cell_type": "code",
   "execution_count": 18,
   "id": "9a3964c4e22cab27",
   "metadata": {
    "ExecuteTime": {
     "end_time": "2024-10-13T07:55:48.497907Z",
     "start_time": "2024-10-13T07:49:41.178471Z"
    }
   },
   "outputs": [
    {
     "name": "stderr",
     "output_type": "stream",
     "text": [
      "Feature Extraction: 100%|██████████| 30/30 [05:37<00:00, 11.26s/it]\n"
     ]
    }
   ],
   "source": [
    "relevant_featured = extract_relevant_features(\n",
    "    sampled_rolls,\n",
    "    sampled_target_mean,\n",
    "    column_id=\"id\",\n",
    "    column_sort=\"time\",\n",
    "    fdr_level=0.01,\n",
    "    n_jobs=6,\n",
    ")"
   ]
  },
  {
   "cell_type": "markdown",
   "id": "f34f36061b0ecee2",
   "metadata": {},
   "source": "### Filter Features Names For LightGBM"
  },
  {
   "cell_type": "code",
   "execution_count": 19,
   "id": "a07e512c50381e73",
   "metadata": {
    "ExecuteTime": {
     "end_time": "2024-10-13T07:57:05.802599Z",
     "start_time": "2024-10-13T07:57:05.794792Z"
    }
   },
   "outputs": [],
   "source": [
    "relevant_featured.columns = relevant_featured.columns.str.replace(\n",
    "    r\"[^\\w\\s]\", \"\", regex=True\n",
    ")\n",
    "relevant_featured.columns = relevant_featured.columns.str.strip()\n",
    "relevant_featured.columns = relevant_featured.columns.str.replace(\" \", \"_\")"
   ]
  },
  {
   "cell_type": "markdown",
   "id": "447489f5a55b0a9a",
   "metadata": {},
   "source": "### Clear Memory"
  },
  {
   "cell_type": "code",
   "execution_count": 20,
   "id": "adbd72bcc014ffe3",
   "metadata": {
    "ExecuteTime": {
     "end_time": "2024-10-13T07:57:07.939588Z",
     "start_time": "2024-10-13T07:57:07.822504Z"
    }
   },
   "outputs": [],
   "source": [
    "del sampled_rolls, sampled_target_mean"
   ]
  },
  {
   "cell_type": "markdown",
   "id": "f23f90160bb4cb97",
   "metadata": {},
   "source": [
    "## 9. Train LightGBM Model\n",
    "### Split Data"
   ]
  },
  {
   "cell_type": "code",
   "execution_count": 39,
   "id": "1a18f250561383fd",
   "metadata": {
    "ExecuteTime": {
     "end_time": "2024-10-13T08:03:55.065634Z",
     "start_time": "2024-10-13T08:03:54.897680Z"
    }
   },
   "outputs": [],
   "source": [
    "X = relevant_featured.copy()\n",
    "y = sampled_target_rolls.groupby(\"id\")[\"sales\"].apply(list).copy()\n",
    "y.index = pd.MultiIndex.from_tuples(y.index)\n",
    "\n",
    "X_train, X_valid, y_train, y_valid = train_test_split(\n",
    "    X, y, test_size=0.2, random_state=42\n",
    ")"
   ]
  },
  {
   "cell_type": "markdown",
   "id": "4c60084318fe51b0",
   "metadata": {},
   "source": "### Train Models"
  },
  {
   "cell_type": "code",
   "execution_count": 79,
   "id": "2a81d4c57ceb5754",
   "metadata": {
    "ExecuteTime": {
     "end_time": "2024-10-13T08:25:00.348777Z",
     "start_time": "2024-10-13T08:25:00.344525Z"
    }
   },
   "outputs": [],
   "source": [
    "def clipped_rmsle(y_true, y_prediction):\n",
    "    y_prediction = y_prediction.clip(min=0)\n",
    "    return rmsle(y_true, y_prediction)"
   ]
  },
  {
   "cell_type": "code",
   "execution_count": 99,
   "id": "d52ba8a87cbe3931",
   "metadata": {
    "ExecuteTime": {
     "end_time": "2024-10-13T08:28:16.888149Z",
     "start_time": "2024-10-13T08:28:16.882446Z"
    }
   },
   "outputs": [],
   "source": [
    "LGBMRegressor_kwargs = dict(\n",
    "    metric=\"root_mean_squared_error\",\n",
    "    boosting_type=\"gbdt\",\n",
    "    learning_rate=0.01,\n",
    "    n_estimators=500,\n",
    "    num_leaves=25,\n",
    "    random_state=42,\n",
    "    n_jobs=6,\n",
    "    # subsample_for_bin=1000,\n",
    "    force_row_wise=True,\n",
    "    objective=\"regression\",\n",
    "    verbose=1,\n",
    ")"
   ]
  },
  {
   "cell_type": "code",
   "execution_count": 100,
   "id": "c4418ead6e8ad969",
   "metadata": {
    "ExecuteTime": {
     "end_time": "2024-10-13T08:28:17.254252Z",
     "start_time": "2024-10-13T08:28:17.250441Z"
    }
   },
   "outputs": [],
   "source": [
    "models = [LGBMRegressor(**LGBMRegressor_kwargs) for _ in range(1)]"
   ]
  },
  {
   "cell_type": "code",
   "execution_count": 101,
   "id": "d912fd15c10073db",
   "metadata": {
    "ExecuteTime": {
     "end_time": "2024-10-13T08:28:31.740810Z",
     "start_time": "2024-10-13T08:28:17.800630Z"
    }
   },
   "outputs": [
    {
     "name": "stdout",
     "output_type": "stream",
     "text": [
      "Training model 0\n",
      "[LightGBM] [Info] Total Bins 141721\n",
      "[LightGBM] [Info] Number of data points in the train set: 4000, number of used features: 706\n",
      "[LightGBM] [Info] Start training from score 1069.160314\n"
     ]
    }
   ],
   "source": [
    "for i, model in enumerate(models):\n",
    "    print(f\"Training model {i}\")\n",
    "    model.fit(X_train, y_train.apply(lambda x: x[i]), eval_metric=clipped_rmsle)"
   ]
  },
  {
   "cell_type": "markdown",
   "id": "83430d0ef16bb3f7",
   "metadata": {},
   "source": "### Feature Importance"
  },
  {
   "cell_type": "code",
   "execution_count": 103,
   "id": "989ffef46dcee49a",
   "metadata": {
    "ExecuteTime": {
     "end_time": "2024-10-13T08:29:28.702071Z",
     "start_time": "2024-10-13T08:29:28.437081Z"
    }
   },
   "outputs": [
    {
     "data": {
      "image/png": "[encoded data removed]",
      "text/plain": [
       "<Figure size 640x480 with 1 Axes>"
      ]
     },
     "metadata": {},
     "output_type": "display_data"
    }
   ],
   "source": [
    "plot_importance(models[0], max_num_features=20, importance_type=\"split\")\n",
    "plt.show()"
   ]
  },
  {
   "cell_type": "markdown",
   "id": "51364a4b96aadbb9",
   "metadata": {},
   "source": "### Evaluate Models"
  },
  {
   "cell_type": "code",
   "execution_count": 121,
   "id": "893c481c1b4b47dc",
   "metadata": {
    "ExecuteTime": {
     "end_time": "2024-10-13T08:33:49.762891Z",
     "start_time": "2024-10-13T08:33:49.715249Z"
    }
   },
   "outputs": [
    {
     "name": "stdout",
     "output_type": "stream",
     "text": [
      "Model 0 RMSE: 1.3102393695711065\n"
     ]
    }
   ],
   "source": [
    "for i, model in enumerate(models):\n",
    "    y_pred = model.predict(X_train)\n",
    "    rmse = clipped_rmsle(y_train.apply(lambda x: x[i]).values[:8], y_pred[:8])\n",
    "    print(f\"Model {i} RMSE: {rmse}\")"
   ]
  },
  {
   "cell_type": "code",
   "execution_count": 133,
   "id": "5c72480e2b5b679f",
   "metadata": {
    "ExecuteTime": {
     "end_time": "2024-10-13T08:35:57.752228Z",
     "start_time": "2024-10-13T08:35:57.744302Z"
    }
   },
   "outputs": [
    {
     "data": {
      "text/plain": [
       "50-BREAD/BAKERY  2015-03-06     509.298\n",
       "6-BREAD/BAKERY   2016-05-09     701.744\n",
       "17-BREAD/BAKERY  2014-09-27     277.000\n",
       "45-BREAD/BAKERY  2015-06-26    1270.542\n",
       "50-BEVERAGES     2014-01-11    5113.000\n",
       "38-MEATS         2015-06-14     212.483\n",
       "7-MEATS          2013-03-08     958.979\n",
       "52-BEVERAGES     2015-06-26       0.000\n",
       "36-MEATS         2015-11-19     318.363\n",
       "38-MEATS         2015-09-16     192.020\n",
       "Name: sales, dtype: float64"
      ]
     },
     "execution_count": 133,
     "metadata": {},
     "output_type": "execute_result"
    }
   ],
   "source": [
    "y_train.apply(lambda x: x[0]).iloc[:10]"
   ]
  },
  {
   "cell_type": "code",
   "execution_count": 140,
   "id": "dd4a97201526f819",
   "metadata": {
    "ExecuteTime": {
     "end_time": "2024-10-13T08:37:40.814328Z",
     "start_time": "2024-10-13T08:37:40.806893Z"
    }
   },
   "outputs": [
    {
     "data": {
      "text/plain": [
       "('52-BEVERAGES', Timestamp('2015-06-26 00:00:00'))"
      ]
     },
     "execution_count": 140,
     "metadata": {},
     "output_type": "execute_result"
    }
   ],
   "source": [
    "y_train.index[7]"
   ]
  },
  {
   "cell_type": "code",
   "execution_count": null,
   "id": "634f2fa4713a92a2",
   "metadata": {},
   "outputs": [],
   "source": []
  }
 ],
 "metadata": {
  "kernelspec": {
   "display_name": "Python 3",
   "language": "python",
   "name": "python3"
  },
  "language_info": {
   "codemirror_mode": {
    "name": "ipython",
    "version": 2
   },
   "file_extension": ".py",
   "mimetype": "text/x-python",
   "name": "python",
   "nbconvert_exporter": "python",
   "pygments_lexer": "ipython2",
   "version": "2.7.6"
  }
 },
 "nbformat": 4,
 "nbformat_minor": 5
}
