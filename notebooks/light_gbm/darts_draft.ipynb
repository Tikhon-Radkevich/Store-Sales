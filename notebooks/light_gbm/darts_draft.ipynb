{
 "cells": [
  {
   "cell_type": "markdown",
   "id": "cfb392d4e80626f9",
   "metadata": {},
   "source": "## Notebook Configuration && Imports"
  },
  {
   "cell_type": "code",
   "id": "997929215ba9afd4",
   "metadata": {
    "ExecuteTime": {
     "end_time": "2024-11-02T16:20:36.508963Z",
     "start_time": "2024-11-02T16:20:36.492771Z"
    }
   },
   "source": [
    "%load_ext autoreload\n",
    "%autoreload 2"
   ],
   "outputs": [],
   "execution_count": 1
  },
  {
   "cell_type": "code",
   "id": "3bc8a8e87a096779",
   "metadata": {
    "ExecuteTime": {
     "end_time": "2024-11-02T16:28:16.680872Z",
     "start_time": "2024-11-02T16:28:16.641316Z"
    }
   },
   "source": [
    "from joblib import Parallel, delayed\n",
    "import os\n",
    "\n",
    "import pandas as pd\n",
    "from tqdm import tqdm\n",
    "\n",
    "from darts import TimeSeries\n",
    "from darts.models import XGBModel\n",
    "\n",
    "from storesales.baseline.sales_predictor import SalesPredictor\n",
    "from storesales.light_gbm.feature_engineering.ts_fresh_features import (\n",
    "    make_roll,\n",
    "    make_roll_features,\n",
    ")\n",
    "from storesales.light_gbm.data_series.target_series import get_series_and_id_dicts\n",
    "from storesales.light_gbm.data_series.covariates import get_covariates_dicts\n",
    "from storesales.light_gbm.preprocessing import preprocess\n",
    "from storesales.light_gbm.utils import save_submission\n",
    "from storesales.light_gbm.loss import clipped_rmsle\n",
    "from storesales.constants import (\n",
    "    EXTERNAL_TRAIN_PATH,\n",
    "    EXTERNAL_TEST_PATH,\n",
    "    TRAIN_TEST_SPLIT_DATE,\n",
    "    MODELS_PATH,\n",
    "    EXTERNAL_OIL_PATH,\n",
    ")"
   ],
   "outputs": [],
   "execution_count": 50
  },
  {
   "cell_type": "markdown",
   "id": "d606d34b933926f5",
   "metadata": {},
   "source": "## Load && Preprocess Data"
  },
  {
   "cell_type": "code",
   "id": "7e1c3cb731b0f89d",
   "metadata": {
    "ExecuteTime": {
     "end_time": "2024-11-02T16:20:44.002490Z",
     "start_time": "2024-11-02T16:20:42.094385Z"
    }
   },
   "source": [
    "train_df = pd.read_csv(EXTERNAL_TRAIN_PATH, parse_dates=[\"date\"])\n",
    "test_df = pd.read_csv(EXTERNAL_TEST_PATH, parse_dates=[\"date\"])"
   ],
   "outputs": [],
   "execution_count": 3
  },
  {
   "metadata": {
    "ExecuteTime": {
     "end_time": "2024-11-02T16:20:44.047237Z",
     "start_time": "2024-11-02T16:20:44.004257Z"
    }
   },
   "cell_type": "code",
   "source": [
    "oil_df = pd.read_csv(EXTERNAL_OIL_PATH, parse_dates=[\"date\"])\n",
    "oil_df.set_index(\"date\", inplace=True)\n",
    "oil_df = oil_df.asfreq(\"D\")\n",
    "oil_df[\"dcoilwtico\"] = oil_df[\"dcoilwtico\"].ffill()\n",
    "oil_df = oil_df.dropna()"
   ],
   "id": "c14e35e6bfe63652",
   "outputs": [],
   "execution_count": 4
  },
  {
   "cell_type": "code",
   "id": "1b84b616242280b5",
   "metadata": {
    "ExecuteTime": {
     "end_time": "2024-11-02T16:20:53.236582Z",
     "start_time": "2024-11-02T16:20:44.049302Z"
    }
   },
   "source": [
    "preprocessed_df = preprocess(train_df)"
   ],
   "outputs": [],
   "execution_count": 5
  },
  {
   "cell_type": "code",
   "id": "ce14eb86b39f108f",
   "metadata": {
    "ExecuteTime": {
     "end_time": "2024-11-02T16:20:53.406236Z",
     "start_time": "2024-11-02T16:20:53.237877Z"
    }
   },
   "source": [
    "preprocessed_df.fillna(0, inplace=True)"
   ],
   "outputs": [],
   "execution_count": 6
  },
  {
   "cell_type": "markdown",
   "id": "d426b4f35764309b",
   "metadata": {},
   "source": "## Prepare Data Before Making Series"
  },
  {
   "cell_type": "code",
   "id": "d937dfaf88b96c21",
   "metadata": {
    "ExecuteTime": {
     "end_time": "2024-11-02T16:20:53.448921Z",
     "start_time": "2024-11-02T16:20:53.407393Z"
    }
   },
   "source": [
    "train_end = train_df[\"date\"].max()\n",
    "test_start = test_df[\"date\"].min()"
   ],
   "outputs": [],
   "execution_count": 7
  },
  {
   "cell_type": "code",
   "id": "5899a75445a327b4",
   "metadata": {
    "ExecuteTime": {
     "end_time": "2024-11-02T16:20:53.490814Z",
     "start_time": "2024-11-02T16:20:53.450303Z"
    }
   },
   "source": [
    "END_TEST_RANGE = train_df[\"date\"].max() - pd.Timedelta(days=16)\n",
    "SERIES_TEST_RANGE = pd.date_range(TRAIN_TEST_SPLIT_DATE, END_TEST_RANGE, freq=\"D\")"
   ],
   "outputs": [],
   "execution_count": 8
  },
  {
   "cell_type": "code",
   "id": "aabb4864c8c0f56a",
   "metadata": {
    "ExecuteTime": {
     "end_time": "2024-11-02T16:20:53.621542Z",
     "start_time": "2024-11-02T16:20:53.492179Z"
    }
   },
   "source": [
    "families = [\"LIQUOR,WINE,BEER\", \"SCHOOL AND OFFICE SUPPLIES\", \"LINGERIE\"]\n",
    "train_columns = [\"date\", \"sales\", \"onpromotion\", \"store_nbr\", \"family\"]\n",
    "\n",
    "train_test_df = pd.concat([preprocessed_df, test_df], axis=0, ignore_index=True)\n",
    "train_data = train_test_df[train_test_df[\"family\"].isin(families)][train_columns].copy()"
   ],
   "outputs": [],
   "execution_count": 9
  },
  {
   "metadata": {
    "ExecuteTime": {
     "end_time": "2024-11-02T16:20:53.668265Z",
     "start_time": "2024-11-02T16:20:53.622783Z"
    }
   },
   "cell_type": "code",
   "source": "train_data = train_data.merge(oil_df, left_on=\"date\", right_index=True, how=\"left\")",
   "id": "426a2b882db80a2d",
   "outputs": [],
   "execution_count": 10
  },
  {
   "cell_type": "markdown",
   "id": "7de256f3b1ee42dc",
   "metadata": {},
   "source": "### Ensure that I have enough data to get lags"
  },
  {
   "cell_type": "code",
   "id": "9fe123db75af879f",
   "metadata": {
    "ExecuteTime": {
     "end_time": "2024-11-02T16:20:53.704857Z",
     "start_time": "2024-11-02T16:20:53.670885Z"
    }
   },
   "source": [
    "threshold_date = pd.Timestamp(\"2017-04-01\")"
   ],
   "outputs": [],
   "execution_count": 11
  },
  {
   "cell_type": "code",
   "id": "7ddd4a6216b69c8f",
   "metadata": {
    "ExecuteTime": {
     "end_time": "2024-11-02T16:20:53.763366Z",
     "start_time": "2024-11-02T16:20:53.706144Z"
    }
   },
   "source": [
    "min_dates = train_data.groupby([\"family\", \"store_nbr\"])[\"date\"].min().reset_index()\n",
    "lgb_groups = min_dates[min_dates[\"date\"] <= threshold_date]"
   ],
   "outputs": [],
   "execution_count": 12
  },
  {
   "cell_type": "code",
   "id": "ac7180b3bcec5b5b",
   "metadata": {
    "ExecuteTime": {
     "end_time": "2024-11-02T16:20:53.828002Z",
     "start_time": "2024-11-02T16:20:53.764554Z"
    }
   },
   "source": [
    "lgb_train_data = pd.merge(\n",
    "    train_data,\n",
    "    lgb_groups[[\"family\", \"store_nbr\"]],\n",
    "    on=[\"family\", \"store_nbr\"],\n",
    "    how=\"inner\",\n",
    ")"
   ],
   "outputs": [],
   "execution_count": 13
  },
  {
   "cell_type": "markdown",
   "id": "f0c16cd41c56abf0",
   "metadata": {},
   "source": [
    "## Baseline Model\n",
    "Some store-family pairs do not have enough data to get lags. I will use baseline model for these pairs."
   ]
  },
  {
   "cell_type": "markdown",
   "id": "e3ba2a083fc2feec",
   "metadata": {},
   "source": "### Prepare Data"
  },
  {
   "cell_type": "code",
   "id": "19bbd4539d9b8acc",
   "metadata": {
    "ExecuteTime": {
     "end_time": "2024-11-02T16:20:53.911686Z",
     "start_time": "2024-11-02T16:20:53.875219Z"
    }
   },
   "source": [
    "baseline_groups = min_dates[min_dates[\"date\"] > threshold_date]"
   ],
   "outputs": [],
   "execution_count": 15
  },
  {
   "cell_type": "code",
   "id": "e1f35707fc442035",
   "metadata": {
    "ExecuteTime": {
     "end_time": "2024-11-02T16:20:53.967480Z",
     "start_time": "2024-11-02T16:20:53.913041Z"
    }
   },
   "source": [
    "baseline_train_data = train_df.copy()\n",
    "baseline_test_data = test_df.copy()\n",
    "\n",
    "baseline_train_data.rename(columns={\"date\": \"ds\", \"sales\": \"y\"}, inplace=True)\n",
    "baseline_test_data.rename(columns={\"date\": \"ds\"}, inplace=True)"
   ],
   "outputs": [],
   "execution_count": 16
  },
  {
   "cell_type": "markdown",
   "id": "4e7235a1ca07ae85",
   "metadata": {},
   "source": "### Load Model && Fit && Predict"
  },
  {
   "cell_type": "code",
   "id": "64eb8bc83f4bdc19",
   "metadata": {
    "ExecuteTime": {
     "end_time": "2024-11-02T16:20:54.014165Z",
     "start_time": "2024-11-02T16:20:53.968775Z"
    }
   },
   "source": [
    "model_file = os.path.join(MODELS_PATH, \"daily_predictor.pkl\")\n",
    "baseline_predictor = SalesPredictor.load(model_file)"
   ],
   "outputs": [],
   "execution_count": 17
  },
  {
   "cell_type": "code",
   "id": "fd0a58614ca2bad",
   "metadata": {
    "ExecuteTime": {
     "end_time": "2024-11-02T16:20:57.486109Z",
     "start_time": "2024-11-02T16:20:54.015443Z"
    }
   },
   "source": [
    "baseline_predictor.fit(baseline_train_data)"
   ],
   "outputs": [
    {
     "name": "stderr",
     "output_type": "stream",
     "text": [
      "100%|██████████| 1782/1782 [00:00<00:00, 1999.11it/s]\n"
     ]
    }
   ],
   "execution_count": 18
  },
  {
   "cell_type": "code",
   "id": "457dd9e38eac9863",
   "metadata": {
    "ExecuteTime": {
     "end_time": "2024-11-02T16:20:58.091092Z",
     "start_time": "2024-11-02T16:20:57.487345Z"
    }
   },
   "source": [
    "baseline_prediction = baseline_predictor.predict(baseline_test_data)"
   ],
   "outputs": [
    {
     "name": "stderr",
     "output_type": "stream",
     "text": [
      "100%|██████████| 1782/1782 [00:00<00:00, 4180.75it/s]\n"
     ]
    }
   ],
   "execution_count": 19
  },
  {
   "cell_type": "markdown",
   "id": "ea28407e050753d4",
   "metadata": {},
   "source": "### Load Baseline Evaluation Loss"
  },
  {
   "cell_type": "code",
   "id": "7fbab14163c03d08",
   "metadata": {
    "ExecuteTime": {
     "end_time": "2024-11-02T16:20:58.153783Z",
     "start_time": "2024-11-02T16:20:58.092304Z"
    }
   },
   "source": [
    "predictor_eval_loss_df = pd.read_csv(\n",
    "    baseline_predictor.eval_loss_csv, index_col=[\"family\", \"store_nbr\"]\n",
    ")\n",
    "\n",
    "baseline_loss_ids = pd.MultiIndex.from_frame(baseline_groups[[\"family\", \"store_nbr\"]])\n",
    "baseline_loss_df = predictor_eval_loss_df.loc[baseline_loss_ids]"
   ],
   "outputs": [],
   "execution_count": 20
  },
  {
   "cell_type": "markdown",
   "id": "2389ed5ba0d8a7e3",
   "metadata": {},
   "source": [
    "## Rolling Features\n",
    "### Make Rolls"
   ]
  },
  {
   "cell_type": "code",
   "id": "30e65db720d0a4a0",
   "metadata": {
    "ExecuteTime": {
     "end_time": "2024-11-02T16:20:58.190683Z",
     "start_time": "2024-11-02T16:20:58.154980Z"
    }
   },
   "source": [
    "rolls_threshold_date = pd.Timestamp(\"2015-03-01\")"
   ],
   "outputs": [],
   "execution_count": 21
  },
  {
   "cell_type": "code",
   "id": "9d8f05e358cf0d4f",
   "metadata": {
    "ExecuteTime": {
     "end_time": "2024-11-02T16:20:58.235044Z",
     "start_time": "2024-11-02T16:20:58.191978Z"
    }
   },
   "source": [
    "lgb_rolls_data = lgb_train_data[lgb_train_data[\"date\"] >= rolls_threshold_date].copy()"
   ],
   "outputs": [],
   "execution_count": 22
  },
  {
   "cell_type": "code",
   "id": "fe85e3d3f46a5fb4",
   "metadata": {
    "ExecuteTime": {
     "end_time": "2024-11-02T16:21:41.517322Z",
     "start_time": "2024-11-02T16:20:58.236278Z"
    }
   },
   "source": [
    "all_train_rolls = make_roll(lgb_rolls_data)"
   ],
   "outputs": [
    {
     "name": "stderr",
     "output_type": "stream",
     "text": [
      "Rolling: 100%|██████████| 30/30 [00:28<00:00,  1.04it/s]\n"
     ]
    }
   ],
   "execution_count": 23
  },
  {
   "metadata": {
    "ExecuteTime": {
     "end_time": "2024-11-02T16:21:41.843364Z",
     "start_time": "2024-11-02T16:21:41.518637Z"
    }
   },
   "cell_type": "code",
   "source": "all_train_rolls.fillna(0, inplace=True)  # fill test period sales",
   "id": "681312c3bb6de986",
   "outputs": [],
   "execution_count": 24
  },
  {
   "cell_type": "markdown",
   "id": "84d60ed9c0c383b6",
   "metadata": {},
   "source": "### Make Features"
  },
  {
   "cell_type": "code",
   "id": "e2af5ddcdc25d076",
   "metadata": {
    "ExecuteTime": {
     "end_time": "2024-11-02T16:23:53.590407Z",
     "start_time": "2024-11-02T16:21:41.844709Z"
    }
   },
   "source": [
    "train_featured = make_roll_features(all_train_rolls)"
   ],
   "outputs": [
    {
     "name": "stderr",
     "output_type": "stream",
     "text": [
      "Feature Extraction: 100%|██████████| 30/30 [01:59<00:00,  3.99s/it]\n"
     ]
    }
   ],
   "execution_count": 25
  },
  {
   "cell_type": "code",
   "id": "7f5019c88b569e1c",
   "metadata": {
    "ExecuteTime": {
     "end_time": "2024-11-02T16:26:21.229599Z",
     "start_time": "2024-11-02T16:26:21.178141Z"
    }
   },
   "source": "train_featured.head()",
   "outputs": [
    {
     "data": {
      "text/plain": [
       "        date  sales__sum_values  sales__median  sales__mean  sales__length  \\\n",
       "0 2015-03-31              145.0            4.0     4.677419           31.0   \n",
       "1 2015-04-01              152.0            4.0     4.903226           31.0   \n",
       "2 2015-04-02              125.0            4.0     4.032258           31.0   \n",
       "3 2015-04-03              121.0            4.0     3.903226           31.0   \n",
       "4 2015-04-04              121.0            4.0     3.903226           31.0   \n",
       "\n",
       "   sales__standard_deviation  sales__variance  sales__root_mean_square  \\\n",
       "0                   5.561313        30.928200                 7.266805   \n",
       "1                   5.549512        30.797086                 7.405316   \n",
       "2                   2.845300         8.095734                 4.935062   \n",
       "3                   2.933179         8.603538                 4.882490   \n",
       "4                   2.933179         8.603538                 4.882490   \n",
       "\n",
       "   sales__maximum  sales__absolute_maximum  ...  dcoilwtico__mean  \\\n",
       "0            31.0                     31.0  ...         47.761290   \n",
       "1            31.0                     31.0  ...         47.770323   \n",
       "2            13.0                     13.0  ...         47.755484   \n",
       "3            13.0                     13.0  ...         47.713548   \n",
       "4            13.0                     13.0  ...         47.636129   \n",
       "\n",
       "   dcoilwtico__length  dcoilwtico__standard_deviation  dcoilwtico__variance  \\\n",
       "0                31.0                        2.306747              5.321082   \n",
       "1                31.0                        2.315401              5.361081   \n",
       "2                31.0                        2.305143              5.313683   \n",
       "3                31.0                        2.267626              5.142126   \n",
       "4                31.0                        2.175087              4.731004   \n",
       "\n",
       "   dcoilwtico__root_mean_square  dcoilwtico__maximum  \\\n",
       "0                     47.816963                51.53   \n",
       "1                     47.826403                51.53   \n",
       "2                     47.811086                51.53   \n",
       "3                     47.767403                51.53   \n",
       "4                     47.685761                51.41   \n",
       "\n",
       "   dcoilwtico__absolute_maximum  dcoilwtico__minimum  store_nbr    family  \n",
       "0                         51.53                43.39          1  LINGERIE  \n",
       "1                         51.53                43.39          1  LINGERIE  \n",
       "2                         51.53                43.39          1  LINGERIE  \n",
       "3                         51.53                43.39          1  LINGERIE  \n",
       "4                         51.41                43.39          1  LINGERIE  \n",
       "\n",
       "[5 rows x 33 columns]"
      ],
      "text/html": [
       "<div>\n",
       "<style scoped>\n",
       "    .dataframe tbody tr th:only-of-type {\n",
       "        vertical-align: middle;\n",
       "    }\n",
       "\n",
       "    .dataframe tbody tr th {\n",
       "        vertical-align: top;\n",
       "    }\n",
       "\n",
       "    .dataframe thead th {\n",
       "        text-align: right;\n",
       "    }\n",
       "</style>\n",
       "<table border=\"1\" class=\"dataframe\">\n",
       "  <thead>\n",
       "    <tr style=\"text-align: right;\">\n",
       "      <th></th>\n",
       "      <th>date</th>\n",
       "      <th>sales__sum_values</th>\n",
       "      <th>sales__median</th>\n",
       "      <th>sales__mean</th>\n",
       "      <th>sales__length</th>\n",
       "      <th>sales__standard_deviation</th>\n",
       "      <th>sales__variance</th>\n",
       "      <th>sales__root_mean_square</th>\n",
       "      <th>sales__maximum</th>\n",
       "      <th>sales__absolute_maximum</th>\n",
       "      <th>...</th>\n",
       "      <th>dcoilwtico__mean</th>\n",
       "      <th>dcoilwtico__length</th>\n",
       "      <th>dcoilwtico__standard_deviation</th>\n",
       "      <th>dcoilwtico__variance</th>\n",
       "      <th>dcoilwtico__root_mean_square</th>\n",
       "      <th>dcoilwtico__maximum</th>\n",
       "      <th>dcoilwtico__absolute_maximum</th>\n",
       "      <th>dcoilwtico__minimum</th>\n",
       "      <th>store_nbr</th>\n",
       "      <th>family</th>\n",
       "    </tr>\n",
       "  </thead>\n",
       "  <tbody>\n",
       "    <tr>\n",
       "      <th>0</th>\n",
       "      <td>2015-03-31</td>\n",
       "      <td>145.0</td>\n",
       "      <td>4.0</td>\n",
       "      <td>4.677419</td>\n",
       "      <td>31.0</td>\n",
       "      <td>5.561313</td>\n",
       "      <td>30.928200</td>\n",
       "      <td>7.266805</td>\n",
       "      <td>31.0</td>\n",
       "      <td>31.0</td>\n",
       "      <td>...</td>\n",
       "      <td>47.761290</td>\n",
       "      <td>31.0</td>\n",
       "      <td>2.306747</td>\n",
       "      <td>5.321082</td>\n",
       "      <td>47.816963</td>\n",
       "      <td>51.53</td>\n",
       "      <td>51.53</td>\n",
       "      <td>43.39</td>\n",
       "      <td>1</td>\n",
       "      <td>LINGERIE</td>\n",
       "    </tr>\n",
       "    <tr>\n",
       "      <th>1</th>\n",
       "      <td>2015-04-01</td>\n",
       "      <td>152.0</td>\n",
       "      <td>4.0</td>\n",
       "      <td>4.903226</td>\n",
       "      <td>31.0</td>\n",
       "      <td>5.549512</td>\n",
       "      <td>30.797086</td>\n",
       "      <td>7.405316</td>\n",
       "      <td>31.0</td>\n",
       "      <td>31.0</td>\n",
       "      <td>...</td>\n",
       "      <td>47.770323</td>\n",
       "      <td>31.0</td>\n",
       "      <td>2.315401</td>\n",
       "      <td>5.361081</td>\n",
       "      <td>47.826403</td>\n",
       "      <td>51.53</td>\n",
       "      <td>51.53</td>\n",
       "      <td>43.39</td>\n",
       "      <td>1</td>\n",
       "      <td>LINGERIE</td>\n",
       "    </tr>\n",
       "    <tr>\n",
       "      <th>2</th>\n",
       "      <td>2015-04-02</td>\n",
       "      <td>125.0</td>\n",
       "      <td>4.0</td>\n",
       "      <td>4.032258</td>\n",
       "      <td>31.0</td>\n",
       "      <td>2.845300</td>\n",
       "      <td>8.095734</td>\n",
       "      <td>4.935062</td>\n",
       "      <td>13.0</td>\n",
       "      <td>13.0</td>\n",
       "      <td>...</td>\n",
       "      <td>47.755484</td>\n",
       "      <td>31.0</td>\n",
       "      <td>2.305143</td>\n",
       "      <td>5.313683</td>\n",
       "      <td>47.811086</td>\n",
       "      <td>51.53</td>\n",
       "      <td>51.53</td>\n",
       "      <td>43.39</td>\n",
       "      <td>1</td>\n",
       "      <td>LINGERIE</td>\n",
       "    </tr>\n",
       "    <tr>\n",
       "      <th>3</th>\n",
       "      <td>2015-04-03</td>\n",
       "      <td>121.0</td>\n",
       "      <td>4.0</td>\n",
       "      <td>3.903226</td>\n",
       "      <td>31.0</td>\n",
       "      <td>2.933179</td>\n",
       "      <td>8.603538</td>\n",
       "      <td>4.882490</td>\n",
       "      <td>13.0</td>\n",
       "      <td>13.0</td>\n",
       "      <td>...</td>\n",
       "      <td>47.713548</td>\n",
       "      <td>31.0</td>\n",
       "      <td>2.267626</td>\n",
       "      <td>5.142126</td>\n",
       "      <td>47.767403</td>\n",
       "      <td>51.53</td>\n",
       "      <td>51.53</td>\n",
       "      <td>43.39</td>\n",
       "      <td>1</td>\n",
       "      <td>LINGERIE</td>\n",
       "    </tr>\n",
       "    <tr>\n",
       "      <th>4</th>\n",
       "      <td>2015-04-04</td>\n",
       "      <td>121.0</td>\n",
       "      <td>4.0</td>\n",
       "      <td>3.903226</td>\n",
       "      <td>31.0</td>\n",
       "      <td>2.933179</td>\n",
       "      <td>8.603538</td>\n",
       "      <td>4.882490</td>\n",
       "      <td>13.0</td>\n",
       "      <td>13.0</td>\n",
       "      <td>...</td>\n",
       "      <td>47.636129</td>\n",
       "      <td>31.0</td>\n",
       "      <td>2.175087</td>\n",
       "      <td>4.731004</td>\n",
       "      <td>47.685761</td>\n",
       "      <td>51.41</td>\n",
       "      <td>51.41</td>\n",
       "      <td>43.39</td>\n",
       "      <td>1</td>\n",
       "      <td>LINGERIE</td>\n",
       "    </tr>\n",
       "  </tbody>\n",
       "</table>\n",
       "<p>5 rows × 33 columns</p>\n",
       "</div>"
      ]
     },
     "execution_count": 39,
     "metadata": {},
     "output_type": "execute_result"
    }
   ],
   "execution_count": 39
  },
  {
   "cell_type": "markdown",
   "id": "3a5efd48f8f440d4",
   "metadata": {},
   "source": "## Prepare Series"
  },
  {
   "cell_type": "code",
   "id": "4bc7d24c3cc0234d",
   "metadata": {
    "ExecuteTime": {
     "end_time": "2024-11-02T16:26:22.058925Z",
     "start_time": "2024-11-02T16:26:22.021523Z"
    }
   },
   "source": [
    "sales_cols = [col for col in train_featured.columns if \"sales\" in col]\n",
    "onpromotion_cols = [col for col in train_featured.columns if \"onpromotion\" in col]\n",
    "oil_cols = [col for col in train_featured.columns if \"dcoilwtico\" in col]\n",
    "\n",
    "future_cols = onpromotion_cols + oil_cols\n",
    "past_cols = sales_cols"
   ],
   "outputs": [],
   "execution_count": 40
  },
  {
   "cell_type": "code",
   "id": "43f4ac33a75f2b99",
   "metadata": {
    "ExecuteTime": {
     "end_time": "2024-11-02T16:26:22.614061Z",
     "start_time": "2024-11-02T16:26:22.575250Z"
    }
   },
   "source": [
    "def train_test_split(series: dict[str, list[TimeSeries]], split_date: pd.Timestamp):\n",
    "    train_series = {}\n",
    "\n",
    "    for family, series_list in series.items():\n",
    "        train_series[family] = [s.drop_after(split_date) for s in series_list]\n",
    "\n",
    "    return train_series"
   ],
   "outputs": [],
   "execution_count": 41
  },
  {
   "cell_type": "code",
   "id": "df081fa344eee68c",
   "metadata": {
    "ExecuteTime": {
     "end_time": "2024-11-02T16:27:57.422142Z",
     "start_time": "2024-11-02T16:27:56.700240Z"
    }
   },
   "source": [
    "static_columns = []\n",
    "\n",
    "data_series_dict, data_series_id_dict = get_series_and_id_dicts(\n",
    "    lgb_train_data, static_columns\n",
    ")"
   ],
   "outputs": [],
   "execution_count": 45
  },
  {
   "cell_type": "code",
   "id": "41f33ff658e3cb77",
   "metadata": {
    "ExecuteTime": {
     "end_time": "2024-11-02T16:28:08.142138Z",
     "start_time": "2024-11-02T16:28:06.940703Z"
    }
   },
   "source": [
    "future_covariates, past_covariates = get_covariates_dicts(\n",
    "    train_featured, future_cols, past_cols\n",
    ")"
   ],
   "outputs": [],
   "execution_count": 46
  },
  {
   "cell_type": "code",
   "id": "48145a01b53d9e1e",
   "metadata": {
    "ExecuteTime": {
     "end_time": "2024-11-02T16:28:08.300126Z",
     "start_time": "2024-11-02T16:28:08.143489Z"
    }
   },
   "source": [
    "train_series_dict = train_test_split(\n",
    "    data_series_dict, pd.Timestamp(TRAIN_TEST_SPLIT_DATE)\n",
    ")"
   ],
   "outputs": [],
   "execution_count": 47
  },
  {
   "cell_type": "code",
   "id": "b1b1911688f49b76",
   "metadata": {
    "ExecuteTime": {
     "end_time": "2024-11-02T16:34:57.421573Z",
     "start_time": "2024-11-02T16:34:57.383865Z"
    }
   },
   "source": [
    "def fit_light_gb_models():\n",
    "    light_gb_models = {}\n",
    "\n",
    "    for family, series in train_series_dict.items():\n",
    "        inputs = {\n",
    "            \"series\": series,\n",
    "            \"future_covariates\": future_covariates[family],\n",
    "            \"past_covariates\": past_covariates[family],\n",
    "        }\n",
    "        light_gb_models[family] = XGBModel(\n",
    "            lags=24,\n",
    "            lags_future_covariates=[-30, -25, -20, -15, -10, -5, 0],\n",
    "            lags_past_covariates=[-30, -25, -20, -16],\n",
    "        )\n",
    "\n",
    "        light_gb_models[family].fit(**inputs)\n",
    "\n",
    "    return light_gb_models"
   ],
   "outputs": [],
   "execution_count": 95
  },
  {
   "cell_type": "code",
   "id": "1d23b414c133be33",
   "metadata": {
    "ExecuteTime": {
     "end_time": "2024-11-02T16:35:03.443932Z",
     "start_time": "2024-11-02T16:34:57.932305Z"
    }
   },
   "source": [
    "models = fit_light_gb_models()"
   ],
   "outputs": [],
   "execution_count": 96
  },
  {
   "cell_type": "code",
   "id": "9b6bb08e14e1ffa5",
   "metadata": {
    "ExecuteTime": {
     "end_time": "2024-11-02T16:35:14.992410Z",
     "start_time": "2024-11-02T16:35:14.952745Z"
    }
   },
   "source": [
    "def evaluate():\n",
    "    def evaluate_family(family):\n",
    "        series = data_series_dict[family]\n",
    "        lgb_family_stores = [\n",
    "            element[\"store_nbr\"] for element in data_series_id_dict[family]\n",
    "        ]\n",
    "        multi_index = pd.MultiIndex.from_product(\n",
    "            [[family], lgb_family_stores], names=[\"family\", \"store_nbr\"]\n",
    "        )\n",
    "\n",
    "        family_losses = []\n",
    "        for test_date in SERIES_TEST_RANGE:\n",
    "            inputs = {\n",
    "                \"series\": [s.drop_after(test_date) for s in series],\n",
    "                \"future_covariates\": future_covariates[family],\n",
    "                \"past_covariates\": past_covariates[family],\n",
    "            }\n",
    "\n",
    "            preds = models[family].predict(n=16, show_warnings=False, **inputs)\n",
    "            true_values = [s.slice_intersect(p) for p, s in zip(preds, series)]\n",
    "\n",
    "            loss = [\n",
    "                clipped_rmsle(t.values(), p.values())\n",
    "                for t, p in zip(true_values, preds)\n",
    "            ]\n",
    "            series_loss = pd.Series(\n",
    "                loss, index=multi_index, name=test_date.strftime(\"%Y.%m.%d\")\n",
    "            )\n",
    "\n",
    "            family_losses.append(series_loss)\n",
    "\n",
    "        family_losses_df = pd.concat(family_losses, axis=1)\n",
    "        return family_losses_df\n",
    "\n",
    "    losses = Parallel(n_jobs=-1)(\n",
    "        delayed(evaluate_family)(family) for family in tqdm(data_series_dict.keys())\n",
    "    )\n",
    "\n",
    "    return pd.concat(losses)"
   ],
   "outputs": [],
   "execution_count": 97
  },
  {
   "cell_type": "code",
   "id": "6762db7c62df5831",
   "metadata": {
    "ExecuteTime": {
     "end_time": "2024-11-02T16:35:46.757513Z",
     "start_time": "2024-11-02T16:35:15.372890Z"
    }
   },
   "source": "eval_family_losses = evaluate()",
   "outputs": [
    {
     "name": "stderr",
     "output_type": "stream",
     "text": [
      "100%|██████████| 3/3 [00:00<00:00, 3687.84it/s]\n"
     ]
    }
   ],
   "execution_count": 98
  },
  {
   "cell_type": "code",
   "id": "f603332d0f69b467",
   "metadata": {
    "ExecuteTime": {
     "end_time": "2024-11-02T16:35:46.818923Z",
     "start_time": "2024-11-02T16:35:46.759949Z"
    }
   },
   "source": [
    "total_lgb_loss = pd.concat([eval_family_losses, baseline_loss_df]).sort_index(\n",
    "    level=[\"family\", \"store_nbr\"]\n",
    ")"
   ],
   "outputs": [],
   "execution_count": 99
  },
  {
   "cell_type": "code",
   "id": "7731b2de2cf7097c",
   "metadata": {
    "ExecuteTime": {
     "end_time": "2024-11-02T16:35:46.868798Z",
     "start_time": "2024-11-02T16:35:46.820992Z"
    }
   },
   "source": [
    "grouped_loss = total_lgb_loss.groupby(\"family\").mean()\n",
    "lgb_series_loss = grouped_loss.mean(axis=1).rename(\"lgb_series_loss\")\n",
    "\n",
    "predictor_grouped_loss = predictor_eval_loss_df.groupby(\"family\").mean()\n",
    "baseline_series_loss = predictor_grouped_loss.mean(axis=1).rename(\"baseline_loss\")\n",
    "\n",
    "loss_df = pd.concat([lgb_series_loss, baseline_series_loss], axis=1)"
   ],
   "outputs": [],
   "execution_count": 100
  },
  {
   "cell_type": "code",
   "id": "aded94d1a0da630e",
   "metadata": {
    "ExecuteTime": {
     "end_time": "2024-11-02T16:35:46.919282Z",
     "start_time": "2024-11-02T16:35:46.871310Z"
    }
   },
   "source": "loss_df",
   "outputs": [
    {
     "data": {
      "text/plain": [
       "                            lgb_series_loss  baseline_loss\n",
       "family                                                    \n",
       "LINGERIE                           0.688776       0.683757\n",
       "LIQUOR,WINE,BEER                   0.657072       0.708146\n",
       "SCHOOL AND OFFICE SUPPLIES         0.655088       0.644878\n",
       "AUTOMOTIVE                              NaN       0.549853\n",
       "BABY CARE                               NaN       0.194055\n",
       "BEAUTY                                  NaN       0.574898\n",
       "BEVERAGES                               NaN       0.275564\n",
       "BOOKS                                   NaN       0.078480\n",
       "BREAD/BAKERY                            NaN       0.236766\n",
       "CELEBRATION                             NaN       0.595359\n",
       "CLEANING                                NaN       0.320998\n",
       "DAIRY                                   NaN       0.246879\n",
       "DELI                                    NaN       0.254749\n",
       "EGGS                                    NaN       0.386635\n",
       "FROZEN FOODS                            NaN       0.399494\n",
       "GROCERY I                               NaN       0.241929\n",
       "GROCERY II                              NaN       0.569867\n",
       "HARDWARE                                NaN       0.546267\n",
       "HOME AND KITCHEN I                      NaN       0.543460\n",
       "HOME AND KITCHEN II                     NaN       0.481282\n",
       "HOME APPLIANCES                         NaN       0.418675\n",
       "HOME CARE                               NaN       0.291221\n",
       "LADIESWEAR                              NaN       0.501788\n",
       "LAWN AND GARDEN                         NaN       0.445791\n",
       "MAGAZINES                               NaN       0.538552\n",
       "MEATS                                   NaN       0.299842\n",
       "PERSONAL CARE                           NaN       0.328329\n",
       "PET SUPPLIES                            NaN       0.492025\n",
       "PLAYERS AND ELECTRONICS                 NaN       0.507187\n",
       "POULTRY                                 NaN       0.299499\n",
       "PREPARED FOODS                          NaN       0.301887\n",
       "PRODUCE                                 NaN       0.277055\n",
       "SEAFOOD                                 NaN       0.550048"
      ],
      "text/html": [
       "<div>\n",
       "<style scoped>\n",
       "    .dataframe tbody tr th:only-of-type {\n",
       "        vertical-align: middle;\n",
       "    }\n",
       "\n",
       "    .dataframe tbody tr th {\n",
       "        vertical-align: top;\n",
       "    }\n",
       "\n",
       "    .dataframe thead th {\n",
       "        text-align: right;\n",
       "    }\n",
       "</style>\n",
       "<table border=\"1\" class=\"dataframe\">\n",
       "  <thead>\n",
       "    <tr style=\"text-align: right;\">\n",
       "      <th></th>\n",
       "      <th>lgb_series_loss</th>\n",
       "      <th>baseline_loss</th>\n",
       "    </tr>\n",
       "    <tr>\n",
       "      <th>family</th>\n",
       "      <th></th>\n",
       "      <th></th>\n",
       "    </tr>\n",
       "  </thead>\n",
       "  <tbody>\n",
       "    <tr>\n",
       "      <th>LINGERIE</th>\n",
       "      <td>0.688776</td>\n",
       "      <td>0.683757</td>\n",
       "    </tr>\n",
       "    <tr>\n",
       "      <th>LIQUOR,WINE,BEER</th>\n",
       "      <td>0.657072</td>\n",
       "      <td>0.708146</td>\n",
       "    </tr>\n",
       "    <tr>\n",
       "      <th>SCHOOL AND OFFICE SUPPLIES</th>\n",
       "      <td>0.655088</td>\n",
       "      <td>0.644878</td>\n",
       "    </tr>\n",
       "    <tr>\n",
       "      <th>AUTOMOTIVE</th>\n",
       "      <td>NaN</td>\n",
       "      <td>0.549853</td>\n",
       "    </tr>\n",
       "    <tr>\n",
       "      <th>BABY CARE</th>\n",
       "      <td>NaN</td>\n",
       "      <td>0.194055</td>\n",
       "    </tr>\n",
       "    <tr>\n",
       "      <th>BEAUTY</th>\n",
       "      <td>NaN</td>\n",
       "      <td>0.574898</td>\n",
       "    </tr>\n",
       "    <tr>\n",
       "      <th>BEVERAGES</th>\n",
       "      <td>NaN</td>\n",
       "      <td>0.275564</td>\n",
       "    </tr>\n",
       "    <tr>\n",
       "      <th>BOOKS</th>\n",
       "      <td>NaN</td>\n",
       "      <td>0.078480</td>\n",
       "    </tr>\n",
       "    <tr>\n",
       "      <th>BREAD/BAKERY</th>\n",
       "      <td>NaN</td>\n",
       "      <td>0.236766</td>\n",
       "    </tr>\n",
       "    <tr>\n",
       "      <th>CELEBRATION</th>\n",
       "      <td>NaN</td>\n",
       "      <td>0.595359</td>\n",
       "    </tr>\n",
       "    <tr>\n",
       "      <th>CLEANING</th>\n",
       "      <td>NaN</td>\n",
       "      <td>0.320998</td>\n",
       "    </tr>\n",
       "    <tr>\n",
       "      <th>DAIRY</th>\n",
       "      <td>NaN</td>\n",
       "      <td>0.246879</td>\n",
       "    </tr>\n",
       "    <tr>\n",
       "      <th>DELI</th>\n",
       "      <td>NaN</td>\n",
       "      <td>0.254749</td>\n",
       "    </tr>\n",
       "    <tr>\n",
       "      <th>EGGS</th>\n",
       "      <td>NaN</td>\n",
       "      <td>0.386635</td>\n",
       "    </tr>\n",
       "    <tr>\n",
       "      <th>FROZEN FOODS</th>\n",
       "      <td>NaN</td>\n",
       "      <td>0.399494</td>\n",
       "    </tr>\n",
       "    <tr>\n",
       "      <th>GROCERY I</th>\n",
       "      <td>NaN</td>\n",
       "      <td>0.241929</td>\n",
       "    </tr>\n",
       "    <tr>\n",
       "      <th>GROCERY II</th>\n",
       "      <td>NaN</td>\n",
       "      <td>0.569867</td>\n",
       "    </tr>\n",
       "    <tr>\n",
       "      <th>HARDWARE</th>\n",
       "      <td>NaN</td>\n",
       "      <td>0.546267</td>\n",
       "    </tr>\n",
       "    <tr>\n",
       "      <th>HOME AND KITCHEN I</th>\n",
       "      <td>NaN</td>\n",
       "      <td>0.543460</td>\n",
       "    </tr>\n",
       "    <tr>\n",
       "      <th>HOME AND KITCHEN II</th>\n",
       "      <td>NaN</td>\n",
       "      <td>0.481282</td>\n",
       "    </tr>\n",
       "    <tr>\n",
       "      <th>HOME APPLIANCES</th>\n",
       "      <td>NaN</td>\n",
       "      <td>0.418675</td>\n",
       "    </tr>\n",
       "    <tr>\n",
       "      <th>HOME CARE</th>\n",
       "      <td>NaN</td>\n",
       "      <td>0.291221</td>\n",
       "    </tr>\n",
       "    <tr>\n",
       "      <th>LADIESWEAR</th>\n",
       "      <td>NaN</td>\n",
       "      <td>0.501788</td>\n",
       "    </tr>\n",
       "    <tr>\n",
       "      <th>LAWN AND GARDEN</th>\n",
       "      <td>NaN</td>\n",
       "      <td>0.445791</td>\n",
       "    </tr>\n",
       "    <tr>\n",
       "      <th>MAGAZINES</th>\n",
       "      <td>NaN</td>\n",
       "      <td>0.538552</td>\n",
       "    </tr>\n",
       "    <tr>\n",
       "      <th>MEATS</th>\n",
       "      <td>NaN</td>\n",
       "      <td>0.299842</td>\n",
       "    </tr>\n",
       "    <tr>\n",
       "      <th>PERSONAL CARE</th>\n",
       "      <td>NaN</td>\n",
       "      <td>0.328329</td>\n",
       "    </tr>\n",
       "    <tr>\n",
       "      <th>PET SUPPLIES</th>\n",
       "      <td>NaN</td>\n",
       "      <td>0.492025</td>\n",
       "    </tr>\n",
       "    <tr>\n",
       "      <th>PLAYERS AND ELECTRONICS</th>\n",
       "      <td>NaN</td>\n",
       "      <td>0.507187</td>\n",
       "    </tr>\n",
       "    <tr>\n",
       "      <th>POULTRY</th>\n",
       "      <td>NaN</td>\n",
       "      <td>0.299499</td>\n",
       "    </tr>\n",
       "    <tr>\n",
       "      <th>PREPARED FOODS</th>\n",
       "      <td>NaN</td>\n",
       "      <td>0.301887</td>\n",
       "    </tr>\n",
       "    <tr>\n",
       "      <th>PRODUCE</th>\n",
       "      <td>NaN</td>\n",
       "      <td>0.277055</td>\n",
       "    </tr>\n",
       "    <tr>\n",
       "      <th>SEAFOOD</th>\n",
       "      <td>NaN</td>\n",
       "      <td>0.550048</td>\n",
       "    </tr>\n",
       "  </tbody>\n",
       "</table>\n",
       "</div>"
      ]
     },
     "execution_count": 101,
     "metadata": {},
     "output_type": "execute_result"
    }
   ],
   "execution_count": 101
  },
  {
   "cell_type": "code",
   "id": "18dfb2418fc2e99e",
   "metadata": {
    "ExecuteTime": {
     "end_time": "2024-11-02T16:35:46.960215Z",
     "start_time": "2024-11-02T16:35:46.920507Z"
    }
   },
   "source": [
    "total_prediction_eval_loss = loss_df[\"lgb_series_loss\"].fillna(loss_df[\"baseline_loss\"])\n",
    "print(\"Loss with LightGBM:\", total_prediction_eval_loss.mean())"
   ],
   "outputs": [
    {
     "name": "stdout",
     "output_type": "stream",
     "text": [
      "Loss with LightGBM: 0.4166476671199474\n"
     ]
    }
   ],
   "execution_count": 102
  },
  {
   "cell_type": "code",
   "id": "fb92ac37d73cb6cc",
   "metadata": {
    "ExecuteTime": {
     "end_time": "2024-11-02T16:35:46.999416Z",
     "start_time": "2024-11-02T16:35:46.961641Z"
    }
   },
   "source": "print(\"Loss without LightGBM:\", loss_df[\"baseline_loss\"].mean())",
   "outputs": [
    {
     "name": "stdout",
     "output_type": "stream",
     "text": [
      "Loss without LightGBM: 0.4177338467167706\n"
     ]
    }
   ],
   "execution_count": 103
  },
  {
   "cell_type": "markdown",
   "id": "bbc07825e6c9ed3e",
   "metadata": {},
   "source": "## Submission"
  },
  {
   "cell_type": "code",
   "id": "d3514f2369af2f52",
   "metadata": {
    "ExecuteTime": {
     "end_time": "2024-11-02T16:36:11.302423Z",
     "start_time": "2024-11-02T16:36:11.258626Z"
    }
   },
   "source": [
    "test_df_copy = baseline_prediction.copy()"
   ],
   "outputs": [],
   "execution_count": 104
  },
  {
   "cell_type": "code",
   "id": "1d4338ab54228513",
   "metadata": {
    "ExecuteTime": {
     "end_time": "2024-11-02T16:36:11.724061Z",
     "start_time": "2024-11-02T16:36:11.671603Z"
    }
   },
   "source": [
    "test_df_copy.set_index([\"ds\", \"family\", \"store_nbr\"], inplace=True)"
   ],
   "outputs": [],
   "execution_count": 105
  },
  {
   "cell_type": "code",
   "id": "63ae6183f54a91ef",
   "metadata": {
    "ExecuteTime": {
     "end_time": "2024-11-02T16:36:12.076065Z",
     "start_time": "2024-11-02T16:36:12.032125Z"
    }
   },
   "source": [
    "def make_predictions():\n",
    "    for family, series in tqdm(data_series_dict.items()):\n",
    "        inputs = {\n",
    "            \"series\": [s.drop_after(test_start) for s in series],\n",
    "            \"future_covariates\": future_covariates[family],\n",
    "            \"past_covariates\": past_covariates[family],\n",
    "        }\n",
    "        pred = models[family].predict(n=16, **inputs)\n",
    "\n",
    "        for i, values in enumerate(pred):\n",
    "            store_nbr = int(data_series_id_dict[family][i][\"store_nbr\"])\n",
    "\n",
    "            pred_df = values.pd_dataframe()\n",
    "            pred_df[[\"family\", \"store_nbr\"]] = [family, store_nbr]\n",
    "            pred_df.set_index([\"family\", \"store_nbr\"], append=True, inplace=True)\n",
    "            pred_df.index.names = [\"ds\", \"family\", \"store_nbr\"]\n",
    "\n",
    "            test_df_copy.loc[pred_df.index, \"yhat\"] = pred_df[\"sales\"]\n",
    "\n",
    "    return test_df_copy"
   ],
   "outputs": [],
   "execution_count": 106
  },
  {
   "cell_type": "code",
   "id": "a7b4c6e0871fe101",
   "metadata": {
    "ExecuteTime": {
     "end_time": "2024-11-02T16:36:13.786051Z",
     "start_time": "2024-11-02T16:36:12.551793Z"
    }
   },
   "source": [
    "prediction = make_predictions()\n",
    "\n",
    "prediction.isna().sum()"
   ],
   "outputs": [
    {
     "name": "stderr",
     "output_type": "stream",
     "text": [
      "  0%|          | 0/3 [00:00<?, ?it/s]`predict()` was called with `n > output_chunk_length`: using auto-regression to forecast the values after `output_chunk_length` points. The model will access `(n - output_chunk_length)` future values of your `past_covariates` (relative to the first predicted time step). To hide this warning, set `show_warnings=False`.\n",
      " 33%|███▎      | 1/3 [00:00<00:00,  2.51it/s]`predict()` was called with `n > output_chunk_length`: using auto-regression to forecast the values after `output_chunk_length` points. The model will access `(n - output_chunk_length)` future values of your `past_covariates` (relative to the first predicted time step). To hide this warning, set `show_warnings=False`.\n",
      " 67%|██████▋   | 2/3 [00:00<00:00,  2.48it/s]`predict()` was called with `n > output_chunk_length`: using auto-regression to forecast the values after `output_chunk_length` points. The model will access `(n - output_chunk_length)` future values of your `past_covariates` (relative to the first predicted time step). To hide this warning, set `show_warnings=False`.\n",
      "100%|██████████| 3/3 [00:01<00:00,  2.53it/s]\n"
     ]
    },
    {
     "data": {
      "text/plain": [
       "id             0\n",
       "onpromotion    0\n",
       "yhat           0\n",
       "dtype: int64"
      ]
     },
     "execution_count": 107,
     "metadata": {},
     "output_type": "execute_result"
    }
   ],
   "execution_count": 107
  },
  {
   "metadata": {
    "ExecuteTime": {
     "end_time": "2024-11-02T16:40:53.869052Z",
     "start_time": "2024-11-02T16:40:53.829653Z"
    }
   },
   "cell_type": "code",
   "source": [
    "store_nbr_i = 33\n",
    "family = \"LIQUOR,WINE,BEER\"\n",
    "store_nbr = data_series_id_dict[family][store_nbr_i][\"store_nbr\"]\n",
    "print(store_nbr)\n",
    "\n",
    "vals = data_series_dict[family][store_nbr_i].drop_before(pd.Timestamp(\"2017-02-01\")).pd_dataframe()\n",
    "vals.index.name = \"ds\""
   ],
   "id": "b69090a7be872051",
   "outputs": [
    {
     "name": "stdout",
     "output_type": "stream",
     "text": [
      "34\n"
     ]
    }
   ],
   "execution_count": 132
  },
  {
   "metadata": {
    "ExecuteTime": {
     "end_time": "2024-11-02T16:40:54.145818Z",
     "start_time": "2024-11-02T16:40:54.094561Z"
    }
   },
   "cell_type": "code",
   "source": [
    "plot_data = prediction.reset_index()\n",
    "\n",
    "predict_vals = plot_data[((plot_data[\"family\"] == family) & (plot_data[\"store_nbr\"] == store_nbr))][[\"ds\", \"yhat\"]]\n",
    "predict_vals.set_index(\"ds\", inplace=True)\n",
    "predict_vals.rename(columns={\"yhat\": \"sales\"}, inplace=True)"
   ],
   "id": "554227b4997ed351",
   "outputs": [],
   "execution_count": 133
  },
  {
   "metadata": {
    "ExecuteTime": {
     "end_time": "2024-11-02T16:40:55.084521Z",
     "start_time": "2024-11-02T16:40:54.614438Z"
    }
   },
   "cell_type": "code",
   "source": "pd.concat([vals, predict_vals], axis=1).plot()",
   "id": "38cfdc84415b6113",
   "outputs": [
    {
     "data": {
      "text/plain": [
       "<Axes: xlabel='ds'>"
      ]
     },
     "execution_count": 134,
     "metadata": {},
     "output_type": "execute_result"
    },
    {
     "data": {
      "text/plain": [
       "<Figure size 640x480 with 1 Axes>"
      ],
      "image/png": "[encoded data removed]"
     },
     "metadata": {},
     "output_type": "display_data"
    }
   ],
   "execution_count": 134
  },
  {
   "metadata": {
    "ExecuteTime": {
     "end_time": "2024-11-02T16:41:43.661563Z",
     "start_time": "2024-11-02T16:41:43.618325Z"
    }
   },
   "cell_type": "code",
   "source": "prediction.head()",
   "id": "d9756393949454e9",
   "outputs": [
    {
     "data": {
      "text/plain": [
       "                                      id  onpromotion    yhat\n",
       "ds         family     store_nbr                              \n",
       "2017-08-16 AUTOMOTIVE 1          3000888            0  4.8125\n",
       "2017-08-17 AUTOMOTIVE 1          3002670            0  4.8125\n",
       "2017-08-18 AUTOMOTIVE 1          3004452            0  4.8125\n",
       "2017-08-19 AUTOMOTIVE 1          3006234            0  4.8125\n",
       "2017-08-20 AUTOMOTIVE 1          3008016            0  4.8125"
      ],
      "text/html": [
       "<div>\n",
       "<style scoped>\n",
       "    .dataframe tbody tr th:only-of-type {\n",
       "        vertical-align: middle;\n",
       "    }\n",
       "\n",
       "    .dataframe tbody tr th {\n",
       "        vertical-align: top;\n",
       "    }\n",
       "\n",
       "    .dataframe thead th {\n",
       "        text-align: right;\n",
       "    }\n",
       "</style>\n",
       "<table border=\"1\" class=\"dataframe\">\n",
       "  <thead>\n",
       "    <tr style=\"text-align: right;\">\n",
       "      <th></th>\n",
       "      <th></th>\n",
       "      <th></th>\n",
       "      <th>id</th>\n",
       "      <th>onpromotion</th>\n",
       "      <th>yhat</th>\n",
       "    </tr>\n",
       "    <tr>\n",
       "      <th>ds</th>\n",
       "      <th>family</th>\n",
       "      <th>store_nbr</th>\n",
       "      <th></th>\n",
       "      <th></th>\n",
       "      <th></th>\n",
       "    </tr>\n",
       "  </thead>\n",
       "  <tbody>\n",
       "    <tr>\n",
       "      <th>2017-08-16</th>\n",
       "      <th>AUTOMOTIVE</th>\n",
       "      <th>1</th>\n",
       "      <td>3000888</td>\n",
       "      <td>0</td>\n",
       "      <td>4.8125</td>\n",
       "    </tr>\n",
       "    <tr>\n",
       "      <th>2017-08-17</th>\n",
       "      <th>AUTOMOTIVE</th>\n",
       "      <th>1</th>\n",
       "      <td>3002670</td>\n",
       "      <td>0</td>\n",
       "      <td>4.8125</td>\n",
       "    </tr>\n",
       "    <tr>\n",
       "      <th>2017-08-18</th>\n",
       "      <th>AUTOMOTIVE</th>\n",
       "      <th>1</th>\n",
       "      <td>3004452</td>\n",
       "      <td>0</td>\n",
       "      <td>4.8125</td>\n",
       "    </tr>\n",
       "    <tr>\n",
       "      <th>2017-08-19</th>\n",
       "      <th>AUTOMOTIVE</th>\n",
       "      <th>1</th>\n",
       "      <td>3006234</td>\n",
       "      <td>0</td>\n",
       "      <td>4.8125</td>\n",
       "    </tr>\n",
       "    <tr>\n",
       "      <th>2017-08-20</th>\n",
       "      <th>AUTOMOTIVE</th>\n",
       "      <th>1</th>\n",
       "      <td>3008016</td>\n",
       "      <td>0</td>\n",
       "      <td>4.8125</td>\n",
       "    </tr>\n",
       "  </tbody>\n",
       "</table>\n",
       "</div>"
      ]
     },
     "execution_count": 135,
     "metadata": {},
     "output_type": "execute_result"
    }
   ],
   "execution_count": 135
  },
  {
   "cell_type": "markdown",
   "id": "e2fdfe9b0234905c",
   "metadata": {},
   "source": "## Save Submission"
  },
  {
   "cell_type": "code",
   "id": "c848f4be8af3043",
   "metadata": {
    "ExecuteTime": {
     "end_time": "2024-11-02T16:41:44.977834Z",
     "start_time": "2024-11-02T16:41:44.934Z"
    }
   },
   "source": [
    "prediction.set_index(\"id\", inplace=True)"
   ],
   "outputs": [],
   "execution_count": 136
  },
  {
   "cell_type": "code",
   "id": "674ef1e1a0ea20cb",
   "metadata": {
    "ExecuteTime": {
     "end_time": "2024-11-02T16:41:56.724168Z",
     "start_time": "2024-11-02T16:41:56.628747Z"
    }
   },
   "source": "save_submission(prediction, \"fix.csv\")",
   "outputs": [
    {
     "name": "stdout",
     "output_type": "stream",
     "text": [
      "sales    0\n",
      "dtype: int64\n"
     ]
    }
   ],
   "execution_count": 137
  },
  {
   "cell_type": "code",
   "id": "4be282f4b052aff",
   "metadata": {
    "ExecuteTime": {
     "end_time": "2024-11-02T15:18:19.852494Z",
     "start_time": "2024-11-02T15:18:19.810596Z"
    }
   },
   "source": [
    "prediction.head()"
   ],
   "outputs": [
    {
     "data": {
      "text/plain": [
       "         onpromotion    yhat\n",
       "id                          \n",
       "3000888            0  4.8125\n",
       "3002670            0  4.8125\n",
       "3004452            0  4.8125\n",
       "3006234            0  4.8125\n",
       "3008016            0  4.8125"
      ],
      "text/html": [
       "<div>\n",
       "<style scoped>\n",
       "    .dataframe tbody tr th:only-of-type {\n",
       "        vertical-align: middle;\n",
       "    }\n",
       "\n",
       "    .dataframe tbody tr th {\n",
       "        vertical-align: top;\n",
       "    }\n",
       "\n",
       "    .dataframe thead th {\n",
       "        text-align: right;\n",
       "    }\n",
       "</style>\n",
       "<table border=\"1\" class=\"dataframe\">\n",
       "  <thead>\n",
       "    <tr style=\"text-align: right;\">\n",
       "      <th></th>\n",
       "      <th>onpromotion</th>\n",
       "      <th>yhat</th>\n",
       "    </tr>\n",
       "    <tr>\n",
       "      <th>id</th>\n",
       "      <th></th>\n",
       "      <th></th>\n",
       "    </tr>\n",
       "  </thead>\n",
       "  <tbody>\n",
       "    <tr>\n",
       "      <th>3000888</th>\n",
       "      <td>0</td>\n",
       "      <td>4.8125</td>\n",
       "    </tr>\n",
       "    <tr>\n",
       "      <th>3002670</th>\n",
       "      <td>0</td>\n",
       "      <td>4.8125</td>\n",
       "    </tr>\n",
       "    <tr>\n",
       "      <th>3004452</th>\n",
       "      <td>0</td>\n",
       "      <td>4.8125</td>\n",
       "    </tr>\n",
       "    <tr>\n",
       "      <th>3006234</th>\n",
       "      <td>0</td>\n",
       "      <td>4.8125</td>\n",
       "    </tr>\n",
       "    <tr>\n",
       "      <th>3008016</th>\n",
       "      <td>0</td>\n",
       "      <td>4.8125</td>\n",
       "    </tr>\n",
       "  </tbody>\n",
       "</table>\n",
       "</div>"
      ]
     },
     "execution_count": 188,
     "metadata": {},
     "output_type": "execute_result"
    }
   ],
   "execution_count": 188
  },
  {
   "metadata": {},
   "cell_type": "code",
   "outputs": [],
   "execution_count": null,
   "source": "",
   "id": "a360afacce79aaa2"
  }
 ],
 "metadata": {
  "kernelspec": {
   "display_name": "Python 3",
   "language": "python",
   "name": "python3"
  },
  "language_info": {
   "codemirror_mode": {
    "name": "ipython",
    "version": 2
   },
   "file_extension": ".py",
   "mimetype": "text/x-python",
   "name": "python",
   "nbconvert_exporter": "python",
   "pygments_lexer": "ipython2",
   "version": "2.7.6"
  }
 },
 "nbformat": 4,
 "nbformat_minor": 5
}
