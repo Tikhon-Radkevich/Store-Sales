{
 "cells": [
  {
   "cell_type": "markdown",
   "id": "cfb392d4e80626f9",
   "metadata": {},
   "source": "## Notebook Configuration && Imports"
  },
  {
   "cell_type": "code",
   "id": "997929215ba9afd4",
   "metadata": {
    "ExecuteTime": {
     "end_time": "2024-10-31T18:53:31.017689Z",
     "start_time": "2024-10-31T18:53:30.998515Z"
    }
   },
   "source": [
    "%load_ext autoreload\n",
    "%autoreload 2"
   ],
   "outputs": [],
   "execution_count": 1
  },
  {
   "cell_type": "code",
   "id": "3bc8a8e87a096779",
   "metadata": {
    "ExecuteTime": {
     "end_time": "2024-10-31T19:44:40.102688Z",
     "start_time": "2024-10-31T19:44:40.063673Z"
    }
   },
   "source": [
    "import pandas as pd\n",
    "import numpy as np\n",
    "from tqdm import tqdm\n",
    "\n",
    "from darts import TimeSeries\n",
    "from darts.models import LightGBMModel\n",
    "\n",
    "from storesales.light_gbm.feature_engineering.ts_fresh_features import make_roll, make_roll_features\n",
    "from storesales.light_gbm.data_series.target_series import get_series_and_id_dicts\n",
    "from storesales.light_gbm.data_series.covariates import get_covariates_dicts\n",
    "from storesales.baseline.stat_models import DailyMeanModel\n",
    "from storesales.light_gbm.preprocessing import preprocess\n",
    "from storesales.light_gbm.utils import save_submission\n",
    "from storesales.light_gbm.loss import clipped_rmsle\n",
    "from storesales.constants import (\n",
    "    EXTERNAL_TRAIN_PATH,\n",
    "    EXTERNAL_TEST_PATH,\n",
    "    TRAIN_TEST_SPLIT_DATE,\n",
    ")"
   ],
   "outputs": [],
   "execution_count": 93
  },
  {
   "cell_type": "markdown",
   "id": "d606d34b933926f5",
   "metadata": {},
   "source": "## Load Data"
  },
  {
   "cell_type": "code",
   "id": "7e1c3cb731b0f89d",
   "metadata": {
    "ExecuteTime": {
     "end_time": "2024-10-31T18:53:39.544306Z",
     "start_time": "2024-10-31T18:53:37.686820Z"
    }
   },
   "source": [
    "train_df = pd.read_csv(EXTERNAL_TRAIN_PATH, parse_dates=[\"date\"])\n",
    "test_df = pd.read_csv(EXTERNAL_TEST_PATH, parse_dates=[\"date\"])"
   ],
   "outputs": [],
   "execution_count": 3
  },
  {
   "cell_type": "code",
   "id": "f8699e569c1577b9",
   "metadata": {
    "ExecuteTime": {
     "end_time": "2024-10-31T18:53:39.587777Z",
     "start_time": "2024-10-31T18:53:39.545490Z"
    }
   },
   "source": [
    "train_end = train_df[\"date\"].max()"
   ],
   "outputs": [],
   "execution_count": 4
  },
  {
   "cell_type": "code",
   "id": "1b84b616242280b5",
   "metadata": {
    "ExecuteTime": {
     "end_time": "2024-10-31T18:53:47.828724Z",
     "start_time": "2024-10-31T18:53:39.589337Z"
    }
   },
   "source": [
    "preprocessed_df = preprocess(train_df)"
   ],
   "outputs": [],
   "execution_count": 5
  },
  {
   "cell_type": "code",
   "id": "ce14eb86b39f108f",
   "metadata": {
    "ExecuteTime": {
     "end_time": "2024-10-31T18:53:47.992270Z",
     "start_time": "2024-10-31T18:53:47.830024Z"
    }
   },
   "source": [
    "preprocessed_df.fillna(0, inplace=True)"
   ],
   "outputs": [],
   "execution_count": 6
  },
  {
   "cell_type": "markdown",
   "id": "d426b4f35764309b",
   "metadata": {},
   "source": "## Prepare Data Before Making Series"
  },
  {
   "cell_type": "code",
   "id": "aabb4864c8c0f56a",
   "metadata": {
    "ExecuteTime": {
     "end_time": "2024-10-31T18:53:48.093858Z",
     "start_time": "2024-10-31T18:53:47.993626Z"
    }
   },
   "source": [
    "families = [\"FROZEN FOODS\", \"EGGS\"]\n",
    "\n",
    "train_columns = [\"date\", \"sales\", \"onpromotion\", \"store_nbr\", \"family\"]\n",
    "\n",
    "train_test_df = pd.concat([preprocessed_df, test_df], axis=0, ignore_index=True)\n",
    "train_data = train_test_df[train_test_df[\"family\"].isin(families)][train_columns].copy()"
   ],
   "outputs": [],
   "execution_count": 7
  },
  {
   "cell_type": "code",
   "id": "ac7180b3bcec5b5b",
   "metadata": {
    "ExecuteTime": {
     "end_time": "2024-10-31T18:53:48.157572Z",
     "start_time": "2024-10-31T18:53:48.094985Z"
    }
   },
   "source": [
    "# ensure that I have enough data to get lags\n",
    "\n",
    "threshold_date = pd.Timestamp(\"2017-04-01\")\n",
    "\n",
    "min_dates = train_data.groupby([\"family\", \"store_nbr\"])[\"date\"].min().reset_index()\n",
    "valid_groups = min_dates[min_dates[\"date\"] <= threshold_date]\n",
    "\n",
    "lgb_train_data = pd.merge(\n",
    "    train_data,\n",
    "    valid_groups[[\"family\", \"store_nbr\"]],\n",
    "    on=[\"family\", \"store_nbr\"],\n",
    "    how=\"inner\",\n",
    ")"
   ],
   "outputs": [],
   "execution_count": 8
  },
  {
   "metadata": {
    "ExecuteTime": {
     "end_time": "2024-10-31T19:05:25.022006Z",
     "start_time": "2024-10-31T19:05:24.977520Z"
    }
   },
   "cell_type": "code",
   "source": "lgb_train_data.head()",
   "id": "c9d271b0def3c2f9",
   "outputs": [
    {
     "data": {
      "text/plain": [
       "        date  sales  onpromotion  store_nbr family\n",
       "0 2013-01-02  246.0          0.0          1   EGGS\n",
       "1 2013-01-03  203.0          0.0          1   EGGS\n",
       "2 2013-01-04  171.0          0.0          1   EGGS\n",
       "3 2013-01-05  177.0          0.0          1   EGGS\n",
       "4 2013-01-06   85.0          0.0          1   EGGS"
      ],
      "text/html": [
       "<div>\n",
       "<style scoped>\n",
       "    .dataframe tbody tr th:only-of-type {\n",
       "        vertical-align: middle;\n",
       "    }\n",
       "\n",
       "    .dataframe tbody tr th {\n",
       "        vertical-align: top;\n",
       "    }\n",
       "\n",
       "    .dataframe thead th {\n",
       "        text-align: right;\n",
       "    }\n",
       "</style>\n",
       "<table border=\"1\" class=\"dataframe\">\n",
       "  <thead>\n",
       "    <tr style=\"text-align: right;\">\n",
       "      <th></th>\n",
       "      <th>date</th>\n",
       "      <th>sales</th>\n",
       "      <th>onpromotion</th>\n",
       "      <th>store_nbr</th>\n",
       "      <th>family</th>\n",
       "    </tr>\n",
       "  </thead>\n",
       "  <tbody>\n",
       "    <tr>\n",
       "      <th>0</th>\n",
       "      <td>2013-01-02</td>\n",
       "      <td>246.0</td>\n",
       "      <td>0.0</td>\n",
       "      <td>1</td>\n",
       "      <td>EGGS</td>\n",
       "    </tr>\n",
       "    <tr>\n",
       "      <th>1</th>\n",
       "      <td>2013-01-03</td>\n",
       "      <td>203.0</td>\n",
       "      <td>0.0</td>\n",
       "      <td>1</td>\n",
       "      <td>EGGS</td>\n",
       "    </tr>\n",
       "    <tr>\n",
       "      <th>2</th>\n",
       "      <td>2013-01-04</td>\n",
       "      <td>171.0</td>\n",
       "      <td>0.0</td>\n",
       "      <td>1</td>\n",
       "      <td>EGGS</td>\n",
       "    </tr>\n",
       "    <tr>\n",
       "      <th>3</th>\n",
       "      <td>2013-01-05</td>\n",
       "      <td>177.0</td>\n",
       "      <td>0.0</td>\n",
       "      <td>1</td>\n",
       "      <td>EGGS</td>\n",
       "    </tr>\n",
       "    <tr>\n",
       "      <th>4</th>\n",
       "      <td>2013-01-06</td>\n",
       "      <td>85.0</td>\n",
       "      <td>0.0</td>\n",
       "      <td>1</td>\n",
       "      <td>EGGS</td>\n",
       "    </tr>\n",
       "  </tbody>\n",
       "</table>\n",
       "</div>"
      ]
     },
     "execution_count": 29,
     "metadata": {},
     "output_type": "execute_result"
    }
   ],
   "execution_count": 29
  },
  {
   "cell_type": "code",
   "id": "1326798505381394",
   "metadata": {
    "ExecuteTime": {
     "end_time": "2024-10-31T18:53:48.204640Z",
     "start_time": "2024-10-31T18:53:48.159935Z"
    }
   },
   "source": [
    "# train_data[(train_data[\"store_nbr\"] == 52) & (train_data[\"family\"] == \"BEVERAGES\")][\n",
    "#     \"date\"\n",
    "# ].min()"
   ],
   "outputs": [
    {
     "data": {
      "text/plain": [
       "NaT"
      ]
     },
     "execution_count": 9,
     "metadata": {},
     "output_type": "execute_result"
    }
   ],
   "execution_count": 9
  },
  {
   "cell_type": "markdown",
   "id": "f0c16cd41c56abf0",
   "metadata": {},
   "source": [
    "## Baseline Model\n",
    "Some store-family pairs do not have enough data to get lags. I will use the mean sales as the prediction for these pairs."
   ]
  },
  {
   "cell_type": "code",
   "id": "e1f35707fc442035",
   "metadata": {
    "ExecuteTime": {
     "end_time": "2024-10-31T18:53:48.481982Z",
     "start_time": "2024-10-31T18:53:48.205625Z"
    }
   },
   "source": [
    "not_valid_groups = min_dates[min_dates[\"date\"] > threshold_date]\n",
    "\n",
    "baseline_train_data = pd.merge(\n",
    "    train_df,\n",
    "    not_valid_groups[[\"family\", \"store_nbr\"]],\n",
    "    on=[\"family\", \"store_nbr\"],\n",
    "    how=\"inner\",\n",
    ")"
   ],
   "outputs": [],
   "execution_count": 10
  },
  {
   "cell_type": "code",
   "id": "7fbab14163c03d08",
   "metadata": {
    "ExecuteTime": {
     "end_time": "2024-10-31T18:53:48.519754Z",
     "start_time": "2024-10-31T18:53:48.483236Z"
    }
   },
   "source": [
    "not_valid_groups"
   ],
   "outputs": [
    {
     "data": {
      "text/plain": [
       "           family  store_nbr       date\n",
       "51           EGGS         52 2017-04-20\n",
       "105  FROZEN FOODS         52 2017-04-20"
      ],
      "text/html": [
       "<div>\n",
       "<style scoped>\n",
       "    .dataframe tbody tr th:only-of-type {\n",
       "        vertical-align: middle;\n",
       "    }\n",
       "\n",
       "    .dataframe tbody tr th {\n",
       "        vertical-align: top;\n",
       "    }\n",
       "\n",
       "    .dataframe thead th {\n",
       "        text-align: right;\n",
       "    }\n",
       "</style>\n",
       "<table border=\"1\" class=\"dataframe\">\n",
       "  <thead>\n",
       "    <tr style=\"text-align: right;\">\n",
       "      <th></th>\n",
       "      <th>family</th>\n",
       "      <th>store_nbr</th>\n",
       "      <th>date</th>\n",
       "    </tr>\n",
       "  </thead>\n",
       "  <tbody>\n",
       "    <tr>\n",
       "      <th>51</th>\n",
       "      <td>EGGS</td>\n",
       "      <td>52</td>\n",
       "      <td>2017-04-20</td>\n",
       "    </tr>\n",
       "    <tr>\n",
       "      <th>105</th>\n",
       "      <td>FROZEN FOODS</td>\n",
       "      <td>52</td>\n",
       "      <td>2017-04-20</td>\n",
       "    </tr>\n",
       "  </tbody>\n",
       "</table>\n",
       "</div>"
      ]
     },
     "execution_count": 11,
     "metadata": {},
     "output_type": "execute_result"
    }
   ],
   "execution_count": 11
  },
  {
   "cell_type": "code",
   "id": "1a74c38443001d1c",
   "metadata": {
    "ExecuteTime": {
     "end_time": "2024-10-31T18:53:48.570511Z",
     "start_time": "2024-10-31T18:53:48.520795Z"
    }
   },
   "source": [
    "mean_sales_df = (\n",
    "    baseline_train_data.sort_values(by=\"date\")\n",
    "    .groupby([\"store_nbr\", \"family\"])[\"sales\"]\n",
    "    .apply(lambda x: x.tail(14).mean())\n",
    "    .reset_index(name=\"sales\")\n",
    ")"
   ],
   "outputs": [],
   "execution_count": 12
  },
  {
   "cell_type": "code",
   "id": "cf41b0354d9a2f53",
   "metadata": {
    "ExecuteTime": {
     "end_time": "2024-10-31T18:53:48.619610Z",
     "start_time": "2024-10-31T18:53:48.572146Z"
    }
   },
   "source": [
    "end_test_range = train_df[\"date\"].max() - pd.Timedelta(days=16)\n",
    "series_test_range = pd.date_range(TRAIN_TEST_SPLIT_DATE, end_test_range, freq=\"D\")"
   ],
   "outputs": [],
   "execution_count": 13
  },
  {
   "cell_type": "code",
   "id": "ff5757d77ec73fa1",
   "metadata": {
    "ExecuteTime": {
     "end_time": "2024-10-31T18:53:48.655504Z",
     "start_time": "2024-10-31T18:53:48.620724Z"
    }
   },
   "source": [
    "def evaluate_baseline(family, date):\n",
    "    family_store = not_valid_groups[not_valid_groups[\"family\"] == family][\"store_nbr\"]\n",
    "    families_losses = []\n",
    "    for store_nbr in family_store.values:\n",
    "        family_store_data = baseline_train_data[\n",
    "            (baseline_train_data[\"family\"] == family)\n",
    "            & (baseline_train_data[\"store_nbr\"] == store_nbr)\n",
    "        ].copy()\n",
    "        family_store_data.rename(columns={\"sales\": \"y\"}, inplace=True)\n",
    "\n",
    "        baseline_train = family_store_data[family_store_data[\"date\"] < date]\n",
    "        baseline_test_data = family_store_data[\n",
    "            (family_store_data[\"date\"] >= date)\n",
    "            & (family_store_data[\"date\"] <= date + pd.Timedelta(days=16))\n",
    "        ]\n",
    "\n",
    "        stat_model = DailyMeanModel(window=14)\n",
    "        stat_model.fit(baseline_train)\n",
    "        forecast = stat_model.predict(baseline_test_data)\n",
    "        families_losses.append(clipped_rmsle(forecast[\"y\"], forecast[\"yhat\"]))\n",
    "\n",
    "    return families_losses"
   ],
   "outputs": [],
   "execution_count": 14
  },
  {
   "cell_type": "code",
   "execution_count": 96,
   "id": "a30e0c472a8a3bf6",
   "metadata": {
    "ExecuteTime": {
     "end_time": "2024-10-27T19:29:47.545842Z",
     "start_time": "2024-10-27T19:29:47.500358Z"
    }
   },
   "outputs": [
    {
     "data": {
      "text/plain": [
       "[0.5880354954259592]"
      ]
     },
     "execution_count": 96,
     "metadata": {},
     "output_type": "execute_result"
    }
   ],
   "source": [
    "evaluate_baseline(\"AUTOMOTIVE\", pd.Timestamp(\"2017-06-10\"))"
   ]
  },
  {
   "cell_type": "markdown",
   "id": "2389ed5ba0d8a7e3",
   "metadata": {},
   "source": "## Rolling Features"
  },
  {
   "cell_type": "code",
   "id": "f5a276c3ec0ef9b",
   "metadata": {
    "ExecuteTime": {
     "end_time": "2024-10-31T18:53:48.690237Z",
     "start_time": "2024-10-31T18:53:48.656421Z"
    }
   },
   "source": [
    "train_columns = [\n",
    "    \"date\", \n",
    "    \"sales\",\n",
    "    \"onpromotion\", \n",
    "    \"store_nbr\", \n",
    "    \"family\"\n",
    "]"
   ],
   "outputs": [],
   "execution_count": 15
  },
  {
   "metadata": {
    "ExecuteTime": {
     "end_time": "2024-10-31T19:21:12.763519Z",
     "start_time": "2024-10-31T19:21:12.722693Z"
    }
   },
   "cell_type": "code",
   "source": "lgb_train_data.head()",
   "id": "d4accf8b8d2db151",
   "outputs": [
    {
     "data": {
      "text/plain": [
       "        date  sales  onpromotion  store_nbr family\n",
       "0 2013-01-02  246.0          0.0          1   EGGS\n",
       "1 2013-01-03  203.0          0.0          1   EGGS\n",
       "2 2013-01-04  171.0          0.0          1   EGGS\n",
       "3 2013-01-05  177.0          0.0          1   EGGS\n",
       "4 2013-01-06   85.0          0.0          1   EGGS"
      ],
      "text/html": [
       "<div>\n",
       "<style scoped>\n",
       "    .dataframe tbody tr th:only-of-type {\n",
       "        vertical-align: middle;\n",
       "    }\n",
       "\n",
       "    .dataframe tbody tr th {\n",
       "        vertical-align: top;\n",
       "    }\n",
       "\n",
       "    .dataframe thead th {\n",
       "        text-align: right;\n",
       "    }\n",
       "</style>\n",
       "<table border=\"1\" class=\"dataframe\">\n",
       "  <thead>\n",
       "    <tr style=\"text-align: right;\">\n",
       "      <th></th>\n",
       "      <th>date</th>\n",
       "      <th>sales</th>\n",
       "      <th>onpromotion</th>\n",
       "      <th>store_nbr</th>\n",
       "      <th>family</th>\n",
       "    </tr>\n",
       "  </thead>\n",
       "  <tbody>\n",
       "    <tr>\n",
       "      <th>0</th>\n",
       "      <td>2013-01-02</td>\n",
       "      <td>246.0</td>\n",
       "      <td>0.0</td>\n",
       "      <td>1</td>\n",
       "      <td>EGGS</td>\n",
       "    </tr>\n",
       "    <tr>\n",
       "      <th>1</th>\n",
       "      <td>2013-01-03</td>\n",
       "      <td>203.0</td>\n",
       "      <td>0.0</td>\n",
       "      <td>1</td>\n",
       "      <td>EGGS</td>\n",
       "    </tr>\n",
       "    <tr>\n",
       "      <th>2</th>\n",
       "      <td>2013-01-04</td>\n",
       "      <td>171.0</td>\n",
       "      <td>0.0</td>\n",
       "      <td>1</td>\n",
       "      <td>EGGS</td>\n",
       "    </tr>\n",
       "    <tr>\n",
       "      <th>3</th>\n",
       "      <td>2013-01-05</td>\n",
       "      <td>177.0</td>\n",
       "      <td>0.0</td>\n",
       "      <td>1</td>\n",
       "      <td>EGGS</td>\n",
       "    </tr>\n",
       "    <tr>\n",
       "      <th>4</th>\n",
       "      <td>2013-01-06</td>\n",
       "      <td>85.0</td>\n",
       "      <td>0.0</td>\n",
       "      <td>1</td>\n",
       "      <td>EGGS</td>\n",
       "    </tr>\n",
       "  </tbody>\n",
       "</table>\n",
       "</div>"
      ]
     },
     "execution_count": 34,
     "metadata": {},
     "output_type": "execute_result"
    }
   ],
   "execution_count": 34
  },
  {
   "metadata": {
    "ExecuteTime": {
     "end_time": "2024-10-31T18:59:31.815364Z",
     "start_time": "2024-10-31T18:58:36.433619Z"
    }
   },
   "cell_type": "code",
   "source": [
    "train_data_for_roll = lgb_train_data[train_columns].copy()\n",
    "\n",
    "all_train_rolls = make_roll(train_data_for_roll)"
   ],
   "id": "fe85e3d3f46a5fb4",
   "outputs": [
    {
     "name": "stderr",
     "output_type": "stream",
     "text": [
      "Rolling: 100%|██████████| 30/30 [00:38<00:00,  1.28s/it]\n"
     ]
    }
   ],
   "execution_count": 21
  },
  {
   "metadata": {
    "ExecuteTime": {
     "end_time": "2024-10-31T18:59:31.862733Z",
     "start_time": "2024-10-31T18:59:31.816958Z"
    }
   },
   "cell_type": "code",
   "source": "all_train_rolls.head()",
   "id": "e81b6f1133f02adb",
   "outputs": [
    {
     "data": {
      "text/plain": [
       "                                           date  sales  onpromotion  \\\n",
       "store_family date_roll_id date_id                                     \n",
       "1-EGGS       2013-02-01   2013-01-02 2013-01-02  246.0          0.0   \n",
       "                          2013-01-03 2013-01-03  203.0          0.0   \n",
       "                          2013-01-04 2013-01-04  171.0          0.0   \n",
       "                          2013-01-05 2013-01-05  177.0          0.0   \n",
       "                          2013-01-06 2013-01-06   85.0          0.0   \n",
       "\n",
       "                                                                 id  \n",
       "store_family date_roll_id date_id                                    \n",
       "1-EGGS       2013-02-01   2013-01-02  (1-EGGS, 2013-02-01 00:00:00)  \n",
       "                          2013-01-03  (1-EGGS, 2013-02-01 00:00:00)  \n",
       "                          2013-01-04  (1-EGGS, 2013-02-01 00:00:00)  \n",
       "                          2013-01-05  (1-EGGS, 2013-02-01 00:00:00)  \n",
       "                          2013-01-06  (1-EGGS, 2013-02-01 00:00:00)  "
      ],
      "text/html": [
       "<div>\n",
       "<style scoped>\n",
       "    .dataframe tbody tr th:only-of-type {\n",
       "        vertical-align: middle;\n",
       "    }\n",
       "\n",
       "    .dataframe tbody tr th {\n",
       "        vertical-align: top;\n",
       "    }\n",
       "\n",
       "    .dataframe thead th {\n",
       "        text-align: right;\n",
       "    }\n",
       "</style>\n",
       "<table border=\"1\" class=\"dataframe\">\n",
       "  <thead>\n",
       "    <tr style=\"text-align: right;\">\n",
       "      <th></th>\n",
       "      <th></th>\n",
       "      <th></th>\n",
       "      <th>date</th>\n",
       "      <th>sales</th>\n",
       "      <th>onpromotion</th>\n",
       "      <th>id</th>\n",
       "    </tr>\n",
       "    <tr>\n",
       "      <th>store_family</th>\n",
       "      <th>date_roll_id</th>\n",
       "      <th>date_id</th>\n",
       "      <th></th>\n",
       "      <th></th>\n",
       "      <th></th>\n",
       "      <th></th>\n",
       "    </tr>\n",
       "  </thead>\n",
       "  <tbody>\n",
       "    <tr>\n",
       "      <th rowspan=\"5\" valign=\"top\">1-EGGS</th>\n",
       "      <th rowspan=\"5\" valign=\"top\">2013-02-01</th>\n",
       "      <th>2013-01-02</th>\n",
       "      <td>2013-01-02</td>\n",
       "      <td>246.0</td>\n",
       "      <td>0.0</td>\n",
       "      <td>(1-EGGS, 2013-02-01 00:00:00)</td>\n",
       "    </tr>\n",
       "    <tr>\n",
       "      <th>2013-01-03</th>\n",
       "      <td>2013-01-03</td>\n",
       "      <td>203.0</td>\n",
       "      <td>0.0</td>\n",
       "      <td>(1-EGGS, 2013-02-01 00:00:00)</td>\n",
       "    </tr>\n",
       "    <tr>\n",
       "      <th>2013-01-04</th>\n",
       "      <td>2013-01-04</td>\n",
       "      <td>171.0</td>\n",
       "      <td>0.0</td>\n",
       "      <td>(1-EGGS, 2013-02-01 00:00:00)</td>\n",
       "    </tr>\n",
       "    <tr>\n",
       "      <th>2013-01-05</th>\n",
       "      <td>2013-01-05</td>\n",
       "      <td>177.0</td>\n",
       "      <td>0.0</td>\n",
       "      <td>(1-EGGS, 2013-02-01 00:00:00)</td>\n",
       "    </tr>\n",
       "    <tr>\n",
       "      <th>2013-01-06</th>\n",
       "      <td>2013-01-06</td>\n",
       "      <td>85.0</td>\n",
       "      <td>0.0</td>\n",
       "      <td>(1-EGGS, 2013-02-01 00:00:00)</td>\n",
       "    </tr>\n",
       "  </tbody>\n",
       "</table>\n",
       "</div>"
      ]
     },
     "execution_count": 22,
     "metadata": {},
     "output_type": "execute_result"
    }
   ],
   "execution_count": 22
  },
  {
   "cell_type": "code",
   "id": "c6c8750da78f3a46",
   "metadata": {
    "ExecuteTime": {
     "end_time": "2024-10-31T18:59:31.913538Z",
     "start_time": "2024-10-31T18:59:31.864615Z"
    }
   },
   "source": [
    "min_data = pd.Timestamp(\"2015-05-01\")"
   ],
   "outputs": [],
   "execution_count": 23
  },
  {
   "cell_type": "code",
   "id": "3989bc06c53c03db",
   "metadata": {
    "ExecuteTime": {
     "end_time": "2024-10-31T18:59:32.121608Z",
     "start_time": "2024-10-31T18:59:31.916005Z"
    }
   },
   "source": [
    "all_train_rolls = all_train_rolls[\n",
    "    all_train_rolls.index.get_level_values(\"date_id\") >= min_data\n",
    "]"
   ],
   "outputs": [],
   "execution_count": 24
  },
  {
   "metadata": {
    "ExecuteTime": {
     "end_time": "2024-10-31T18:59:32.294259Z",
     "start_time": "2024-10-31T18:59:32.122875Z"
    }
   },
   "cell_type": "code",
   "source": "all_train_rolls.isna().sum()",
   "id": "6ccb32c93b4e8151",
   "outputs": [
    {
     "data": {
      "text/plain": [
       "date               0\n",
       "sales          14416\n",
       "onpromotion        0\n",
       "id                 0\n",
       "dtype: int64"
      ]
     },
     "execution_count": 25,
     "metadata": {},
     "output_type": "execute_result"
    }
   ],
   "execution_count": 25
  },
  {
   "cell_type": "code",
   "id": "eca29756850fa878",
   "metadata": {
    "ExecuteTime": {
     "end_time": "2024-10-31T18:59:32.532424Z",
     "start_time": "2024-10-31T18:59:32.295752Z"
    }
   },
   "source": [
    "all_train_rolls.fillna(0, inplace=True)"
   ],
   "outputs": [],
   "execution_count": 26
  },
  {
   "metadata": {
    "ExecuteTime": {
     "end_time": "2024-10-31T19:54:04.833616Z",
     "start_time": "2024-10-31T19:52:54.131306Z"
    }
   },
   "cell_type": "code",
   "source": "train_featured = make_roll_features(all_train_rolls)",
   "id": "e2af5ddcdc25d076",
   "outputs": [
    {
     "name": "stderr",
     "output_type": "stream",
     "text": [
      "Feature Extraction: 100%|██████████| 30/30 [01:03<00:00,  2.13s/it]\n"
     ]
    }
   ],
   "execution_count": 110
  },
  {
   "metadata": {
    "ExecuteTime": {
     "end_time": "2024-10-31T19:54:04.888499Z",
     "start_time": "2024-10-31T19:54:04.835213Z"
    }
   },
   "cell_type": "code",
   "source": "train_featured.head()",
   "id": "7f5019c88b569e1c",
   "outputs": [
    {
     "data": {
      "text/plain": [
       "        date  sales__sum_values  sales__median  sales__mean  sales__length  \\\n",
       "0 2015-05-01               75.0           75.0    75.000000            1.0   \n",
       "1 2015-05-02              251.0          125.5   125.500000            2.0   \n",
       "2 2015-05-03              337.0           86.0   112.333333            3.0   \n",
       "3 2015-05-04              500.0          124.5   125.000000            4.0   \n",
       "4 2015-05-05              655.0          155.0   131.000000            5.0   \n",
       "\n",
       "   sales__standard_deviation  sales__variance  sales__root_mean_square  \\\n",
       "0                   0.000000         0.000000                75.000000   \n",
       "1                  50.500000      2550.250000               135.279341   \n",
       "2                  45.242556      2046.888889               121.101885   \n",
       "3                  44.905456      2016.500000               132.821309   \n",
       "4                  41.918969      1757.200000               137.543448   \n",
       "\n",
       "   sales__maximum  sales__absolute_maximum  ...  onpromotion__mean  \\\n",
       "0            75.0                     75.0  ...               24.0   \n",
       "1           176.0                    176.0  ...               12.0   \n",
       "2           176.0                    176.0  ...                8.0   \n",
       "3           176.0                    176.0  ...                6.0   \n",
       "4           176.0                    176.0  ...                4.8   \n",
       "\n",
       "   onpromotion__length  onpromotion__standard_deviation  \\\n",
       "0                  1.0                         0.000000   \n",
       "1                  2.0                        12.000000   \n",
       "2                  3.0                        11.313708   \n",
       "3                  4.0                        10.392305   \n",
       "4                  5.0                         9.600000   \n",
       "\n",
       "   onpromotion__variance  onpromotion__root_mean_square  onpromotion__maximum  \\\n",
       "0                   0.00                      24.000000                  24.0   \n",
       "1                 144.00                      16.970563                  24.0   \n",
       "2                 128.00                      13.856406                  24.0   \n",
       "3                 108.00                      12.000000                  24.0   \n",
       "4                  92.16                      10.733126                  24.0   \n",
       "\n",
       "   onpromotion__absolute_maximum  onpromotion__minimum  store_nbr  family  \n",
       "0                           24.0                  24.0          1    EGGS  \n",
       "1                           24.0                   0.0          1    EGGS  \n",
       "2                           24.0                   0.0          1    EGGS  \n",
       "3                           24.0                   0.0          1    EGGS  \n",
       "4                           24.0                   0.0          1    EGGS  \n",
       "\n",
       "[5 rows x 23 columns]"
      ],
      "text/html": [
       "<div>\n",
       "<style scoped>\n",
       "    .dataframe tbody tr th:only-of-type {\n",
       "        vertical-align: middle;\n",
       "    }\n",
       "\n",
       "    .dataframe tbody tr th {\n",
       "        vertical-align: top;\n",
       "    }\n",
       "\n",
       "    .dataframe thead th {\n",
       "        text-align: right;\n",
       "    }\n",
       "</style>\n",
       "<table border=\"1\" class=\"dataframe\">\n",
       "  <thead>\n",
       "    <tr style=\"text-align: right;\">\n",
       "      <th></th>\n",
       "      <th>date</th>\n",
       "      <th>sales__sum_values</th>\n",
       "      <th>sales__median</th>\n",
       "      <th>sales__mean</th>\n",
       "      <th>sales__length</th>\n",
       "      <th>sales__standard_deviation</th>\n",
       "      <th>sales__variance</th>\n",
       "      <th>sales__root_mean_square</th>\n",
       "      <th>sales__maximum</th>\n",
       "      <th>sales__absolute_maximum</th>\n",
       "      <th>...</th>\n",
       "      <th>onpromotion__mean</th>\n",
       "      <th>onpromotion__length</th>\n",
       "      <th>onpromotion__standard_deviation</th>\n",
       "      <th>onpromotion__variance</th>\n",
       "      <th>onpromotion__root_mean_square</th>\n",
       "      <th>onpromotion__maximum</th>\n",
       "      <th>onpromotion__absolute_maximum</th>\n",
       "      <th>onpromotion__minimum</th>\n",
       "      <th>store_nbr</th>\n",
       "      <th>family</th>\n",
       "    </tr>\n",
       "  </thead>\n",
       "  <tbody>\n",
       "    <tr>\n",
       "      <th>0</th>\n",
       "      <td>2015-05-01</td>\n",
       "      <td>75.0</td>\n",
       "      <td>75.0</td>\n",
       "      <td>75.000000</td>\n",
       "      <td>1.0</td>\n",
       "      <td>0.000000</td>\n",
       "      <td>0.000000</td>\n",
       "      <td>75.000000</td>\n",
       "      <td>75.0</td>\n",
       "      <td>75.0</td>\n",
       "      <td>...</td>\n",
       "      <td>24.0</td>\n",
       "      <td>1.0</td>\n",
       "      <td>0.000000</td>\n",
       "      <td>0.00</td>\n",
       "      <td>24.000000</td>\n",
       "      <td>24.0</td>\n",
       "      <td>24.0</td>\n",
       "      <td>24.0</td>\n",
       "      <td>1</td>\n",
       "      <td>EGGS</td>\n",
       "    </tr>\n",
       "    <tr>\n",
       "      <th>1</th>\n",
       "      <td>2015-05-02</td>\n",
       "      <td>251.0</td>\n",
       "      <td>125.5</td>\n",
       "      <td>125.500000</td>\n",
       "      <td>2.0</td>\n",
       "      <td>50.500000</td>\n",
       "      <td>2550.250000</td>\n",
       "      <td>135.279341</td>\n",
       "      <td>176.0</td>\n",
       "      <td>176.0</td>\n",
       "      <td>...</td>\n",
       "      <td>12.0</td>\n",
       "      <td>2.0</td>\n",
       "      <td>12.000000</td>\n",
       "      <td>144.00</td>\n",
       "      <td>16.970563</td>\n",
       "      <td>24.0</td>\n",
       "      <td>24.0</td>\n",
       "      <td>0.0</td>\n",
       "      <td>1</td>\n",
       "      <td>EGGS</td>\n",
       "    </tr>\n",
       "    <tr>\n",
       "      <th>2</th>\n",
       "      <td>2015-05-03</td>\n",
       "      <td>337.0</td>\n",
       "      <td>86.0</td>\n",
       "      <td>112.333333</td>\n",
       "      <td>3.0</td>\n",
       "      <td>45.242556</td>\n",
       "      <td>2046.888889</td>\n",
       "      <td>121.101885</td>\n",
       "      <td>176.0</td>\n",
       "      <td>176.0</td>\n",
       "      <td>...</td>\n",
       "      <td>8.0</td>\n",
       "      <td>3.0</td>\n",
       "      <td>11.313708</td>\n",
       "      <td>128.00</td>\n",
       "      <td>13.856406</td>\n",
       "      <td>24.0</td>\n",
       "      <td>24.0</td>\n",
       "      <td>0.0</td>\n",
       "      <td>1</td>\n",
       "      <td>EGGS</td>\n",
       "    </tr>\n",
       "    <tr>\n",
       "      <th>3</th>\n",
       "      <td>2015-05-04</td>\n",
       "      <td>500.0</td>\n",
       "      <td>124.5</td>\n",
       "      <td>125.000000</td>\n",
       "      <td>4.0</td>\n",
       "      <td>44.905456</td>\n",
       "      <td>2016.500000</td>\n",
       "      <td>132.821309</td>\n",
       "      <td>176.0</td>\n",
       "      <td>176.0</td>\n",
       "      <td>...</td>\n",
       "      <td>6.0</td>\n",
       "      <td>4.0</td>\n",
       "      <td>10.392305</td>\n",
       "      <td>108.00</td>\n",
       "      <td>12.000000</td>\n",
       "      <td>24.0</td>\n",
       "      <td>24.0</td>\n",
       "      <td>0.0</td>\n",
       "      <td>1</td>\n",
       "      <td>EGGS</td>\n",
       "    </tr>\n",
       "    <tr>\n",
       "      <th>4</th>\n",
       "      <td>2015-05-05</td>\n",
       "      <td>655.0</td>\n",
       "      <td>155.0</td>\n",
       "      <td>131.000000</td>\n",
       "      <td>5.0</td>\n",
       "      <td>41.918969</td>\n",
       "      <td>1757.200000</td>\n",
       "      <td>137.543448</td>\n",
       "      <td>176.0</td>\n",
       "      <td>176.0</td>\n",
       "      <td>...</td>\n",
       "      <td>4.8</td>\n",
       "      <td>5.0</td>\n",
       "      <td>9.600000</td>\n",
       "      <td>92.16</td>\n",
       "      <td>10.733126</td>\n",
       "      <td>24.0</td>\n",
       "      <td>24.0</td>\n",
       "      <td>0.0</td>\n",
       "      <td>1</td>\n",
       "      <td>EGGS</td>\n",
       "    </tr>\n",
       "  </tbody>\n",
       "</table>\n",
       "<p>5 rows × 23 columns</p>\n",
       "</div>"
      ]
     },
     "execution_count": 111,
     "metadata": {},
     "output_type": "execute_result"
    }
   ],
   "execution_count": 111
  },
  {
   "metadata": {
    "ExecuteTime": {
     "end_time": "2024-10-31T19:54:04.925174Z",
     "start_time": "2024-10-31T19:54:04.889683Z"
    }
   },
   "cell_type": "code",
   "source": [
    "sales_cols = [col for col in train_featured.columns if \"sales\" in col]\n",
    "onpromotion_cols = [col for col in train_featured.columns if \"onpromotion\" in col]"
   ],
   "id": "5f334b10fd3783e4",
   "outputs": [],
   "execution_count": 112
  },
  {
   "metadata": {
    "ExecuteTime": {
     "end_time": "2024-10-31T19:54:04.965173Z",
     "start_time": "2024-10-31T19:54:04.927421Z"
    }
   },
   "cell_type": "code",
   "source": "sales_cols",
   "id": "202a663e25ba9213",
   "outputs": [
    {
     "data": {
      "text/plain": [
       "['sales__sum_values',\n",
       " 'sales__median',\n",
       " 'sales__mean',\n",
       " 'sales__length',\n",
       " 'sales__standard_deviation',\n",
       " 'sales__variance',\n",
       " 'sales__root_mean_square',\n",
       " 'sales__maximum',\n",
       " 'sales__absolute_maximum',\n",
       " 'sales__minimum']"
      ]
     },
     "execution_count": 113,
     "metadata": {},
     "output_type": "execute_result"
    }
   ],
   "execution_count": 113
  },
  {
   "cell_type": "markdown",
   "id": "3a5efd48f8f440d4",
   "metadata": {},
   "source": "## Prepare Series"
  },
  {
   "cell_type": "code",
   "id": "43f4ac33a75f2b99",
   "metadata": {
    "ExecuteTime": {
     "end_time": "2024-10-31T19:54:05.023322Z",
     "start_time": "2024-10-31T19:54:04.966439Z"
    }
   },
   "source": [
    "def train_test_split(series: dict[str, list[TimeSeries]], split_date: pd.Timestamp):\n",
    "    train_series = {}\n",
    "\n",
    "    for family, series_list in series.items():\n",
    "        train_series[family] = [s.drop_after(split_date) for s in series_list]\n",
    "\n",
    "    return train_series"
   ],
   "outputs": [],
   "execution_count": 114
  },
  {
   "metadata": {
    "ExecuteTime": {
     "end_time": "2024-10-31T19:54:05.431608Z",
     "start_time": "2024-10-31T19:54:05.025538Z"
    }
   },
   "cell_type": "code",
   "source": [
    "static_columns = []\n",
    "\n",
    "data_series_dict, data_series_id_dict = get_series_and_id_dicts(lgb_train_data, static_columns)"
   ],
   "id": "df081fa344eee68c",
   "outputs": [],
   "execution_count": 115
  },
  {
   "cell_type": "code",
   "id": "41f33ff658e3cb77",
   "metadata": {
    "ExecuteTime": {
     "end_time": "2024-10-31T19:54:06.295760Z",
     "start_time": "2024-10-31T19:54:05.433198Z"
    }
   },
   "source": [
    "# future_cols = [\"onpromotion\"] + onpromotion_cols\n",
    "future_cols = onpromotion_cols\n",
    "past_cols = [] + sales_cols\n",
    "\n",
    "future_covariates, past_covariates = get_covariates_dicts(train_featured, future_cols, past_cols)"
   ],
   "outputs": [],
   "execution_count": 116
  },
  {
   "cell_type": "code",
   "id": "48145a01b53d9e1e",
   "metadata": {
    "ExecuteTime": {
     "end_time": "2024-10-31T19:54:13.969052Z",
     "start_time": "2024-10-31T19:54:13.798252Z"
    }
   },
   "source": [
    "train_series_dict = train_test_split(\n",
    "    data_series_dict, pd.Timestamp(TRAIN_TEST_SPLIT_DATE)\n",
    ")"
   ],
   "outputs": [],
   "execution_count": 117
  },
  {
   "cell_type": "code",
   "id": "b1b1911688f49b76",
   "metadata": {
    "ExecuteTime": {
     "end_time": "2024-10-31T20:16:29.012960Z",
     "start_time": "2024-10-31T20:16:28.977092Z"
    }
   },
   "source": [
    "def fit_light_gb_models():\n",
    "    light_gb_models = {}\n",
    "\n",
    "    for family, series in data_series_dict.items():\n",
    "        inputs = {\n",
    "            \"series\": [s.drop_after(pd.Timestamp(\"2017-07-10\")) for s in series],\n",
    "            \"future_covariates\": future_covariates[family],\n",
    "            # \"past_covariates\": past_covariates[family],\n",
    "        }\n",
    "        light_gb_models[family] = LightGBMModel(\n",
    "            lags=24, \n",
    "            lags_future_covariates=(14, 1), \n",
    "            # lags_past_covariates=list(range(-16, -20, -1)), \n",
    "            force_col_wise=True\n",
    "        )\n",
    "\n",
    "        light_gb_models[family].fit(**inputs)\n",
    "\n",
    "    return light_gb_models"
   ],
   "outputs": [],
   "execution_count": 166
  },
  {
   "cell_type": "code",
   "id": "1d23b414c133be33",
   "metadata": {
    "ExecuteTime": {
     "end_time": "2024-10-31T20:16:32.105385Z",
     "start_time": "2024-10-31T20:16:29.241234Z"
    }
   },
   "source": [
    "models = fit_light_gb_models()"
   ],
   "outputs": [
    {
     "name": "stdout",
     "output_type": "stream",
     "text": [
      "[LightGBM] [Info] Total Bins 26688\n",
      "[LightGBM] [Info] Number of data points in the train set: 40877, number of used features: 175\n",
      "[LightGBM] [Info] Start training from score 191.374768\n",
      "[LightGBM] [Info] Total Bins 27068\n",
      "[LightGBM] [Info] Number of data points in the train set: 40877, number of used features: 175\n",
      "[LightGBM] [Info] Start training from score 183.462539\n"
     ]
    }
   ],
   "execution_count": 167
  },
  {
   "cell_type": "code",
   "id": "9b6bb08e14e1ffa5",
   "metadata": {
    "ExecuteTime": {
     "end_time": "2024-10-31T20:16:32.163467Z",
     "start_time": "2024-10-31T20:16:32.107327Z"
    }
   },
   "source": [
    "from joblib import Parallel, delayed\n",
    "\n",
    "\n",
    "def evaluate():\n",
    "    def evaluate_family(family):\n",
    "        series = data_series_dict[family]\n",
    "        family_losses = []\n",
    "\n",
    "        for test_date in series_test_range:\n",
    "            inputs = {\n",
    "                \"series\": [s.drop_after(test_date) for s in series],\n",
    "                \"future_covariates\": future_covariates[family],\n",
    "                # \"past_covariates\": past_covariates[family],\n",
    "            }\n",
    "\n",
    "            preds = models[family].predict(n=16, show_warnings=False, **inputs)\n",
    "            true_values = [s.slice_intersect(p) for p, s in zip(preds, series)]\n",
    "\n",
    "            loss = [\n",
    "                clipped_rmsle(t.values(), p.values())\n",
    "                for t, p in zip(true_values, preds)\n",
    "            ] + evaluate_baseline(family, test_date)\n",
    "\n",
    "            family_losses.append(np.mean(loss))\n",
    "\n",
    "        return {family: family_losses}\n",
    "\n",
    "    losses = Parallel(n_jobs=-1)(\n",
    "        delayed(evaluate_family)(family) for family in tqdm(data_series_dict.keys())\n",
    "    )\n",
    "\n",
    "    return losses"
   ],
   "outputs": [],
   "execution_count": 168
  },
  {
   "cell_type": "code",
   "id": "6762db7c62df5831",
   "metadata": {
    "ExecuteTime": {
     "end_time": "2024-10-31T20:16:50.527295Z",
     "start_time": "2024-10-31T20:16:32.165158Z"
    }
   },
   "source": [
    "family_losses = evaluate()"
   ],
   "outputs": [
    {
     "name": "stderr",
     "output_type": "stream",
     "text": [
      "100%|██████████| 2/2 [00:00<00:00, 2414.68it/s]\n"
     ]
    }
   ],
   "execution_count": 169
  },
  {
   "cell_type": "code",
   "id": "7731b2de2cf7097c",
   "metadata": {
    "ExecuteTime": {
     "end_time": "2024-10-31T20:16:03.958090Z",
     "start_time": "2024-10-31T20:16:03.917126Z"
    }
   },
   "source": "np.mean(family_losses[0][\"EGGS\"])",
   "outputs": [
    {
     "data": {
      "text/plain": [
       "0.2820981357846141"
      ]
     },
     "execution_count": 164,
     "metadata": {},
     "output_type": "execute_result"
    }
   ],
   "execution_count": 164
  },
  {
   "metadata": {
    "ExecuteTime": {
     "end_time": "2024-10-31T20:16:50.584614Z",
     "start_time": "2024-10-31T20:16:50.529455Z"
    }
   },
   "cell_type": "code",
   "source": "np.mean(family_losses[1][\"FROZEN FOODS\"])",
   "id": "3035a4cb86bf0ac6",
   "outputs": [
    {
     "data": {
      "text/plain": [
       "0.3261847704584309"
      ]
     },
     "execution_count": 170,
     "metadata": {},
     "output_type": "execute_result"
    }
   ],
   "execution_count": 170
  },
  {
   "cell_type": "markdown",
   "id": "bbc07825e6c9ed3e",
   "metadata": {},
   "source": "## Submission"
  },
  {
   "cell_type": "code",
   "execution_count": 72,
   "id": "d3514f2369af2f52",
   "metadata": {
    "ExecuteTime": {
     "end_time": "2024-10-27T11:03:41.695594Z",
     "start_time": "2024-10-27T11:03:41.650019Z"
    }
   },
   "outputs": [],
   "source": [
    "test_df_copy = test_df.copy()\n",
    "test_df_copy.sort_values(by=[\"date\"], inplace=True)"
   ]
  },
  {
   "cell_type": "code",
   "execution_count": 73,
   "id": "e00af8c082cea69c",
   "metadata": {
    "ExecuteTime": {
     "end_time": "2024-10-27T11:03:42.033264Z",
     "start_time": "2024-10-27T11:03:41.963367Z"
    }
   },
   "outputs": [],
   "source": [
    "test_df_copy = test_df_copy.merge(mean_sales_df, on=[\"store_nbr\", \"family\"], how=\"left\")"
   ]
  },
  {
   "cell_type": "code",
   "execution_count": 74,
   "id": "1d4338ab54228513",
   "metadata": {
    "ExecuteTime": {
     "end_time": "2024-10-27T11:03:42.354028Z",
     "start_time": "2024-10-27T11:03:42.306065Z"
    }
   },
   "outputs": [],
   "source": [
    "test_df_copy.set_index(\"id\", inplace=True)"
   ]
  },
  {
   "cell_type": "code",
   "execution_count": 75,
   "id": "63ae6183f54a91ef",
   "metadata": {
    "ExecuteTime": {
     "end_time": "2024-10-27T11:03:42.724331Z",
     "start_time": "2024-10-27T11:03:42.661612Z"
    }
   },
   "outputs": [],
   "source": [
    "def make_predictions():\n",
    "    sub_date = pd.Timestamp(train_end)\n",
    "\n",
    "    for family, series in tqdm(data_series_dict.items()):\n",
    "        inputs = {\n",
    "            \"series\": [s.drop_after(sub_date) for s in series],\n",
    "            \"future_covariates\": future_covariates_dict[family],\n",
    "        }\n",
    "        pred = models[family].predict(n=16, **inputs)\n",
    "\n",
    "        for i, values in enumerate(pred):\n",
    "            store_nbr = data_series_id_dict[family][i][\"store_nbr\"]\n",
    "            con = (test_df_copy[\"store_nbr\"] == store_nbr) & (\n",
    "                test_df_copy[\"family\"] == family\n",
    "            )\n",
    "            test_df_copy.loc[con, \"sales\"] = values.values()\n",
    "\n",
    "    return test_df_copy"
   ]
  },
  {
   "cell_type": "code",
   "execution_count": 76,
   "id": "a7b4c6e0871fe101",
   "metadata": {
    "ExecuteTime": {
     "end_time": "2024-10-27T11:03:51.394921Z",
     "start_time": "2024-10-27T11:03:43.221548Z"
    }
   },
   "outputs": [
    {
     "name": "stderr",
     "output_type": "stream",
     "text": [
      "100%|██████████| 33/33 [00:08<00:00,  4.06it/s]\n"
     ]
    },
    {
     "data": {
      "text/plain": [
       "date           0\n",
       "store_nbr      0\n",
       "family         0\n",
       "onpromotion    0\n",
       "sales          0\n",
       "dtype: int64"
      ]
     },
     "execution_count": 76,
     "metadata": {},
     "output_type": "execute_result"
    }
   ],
   "source": [
    "prediction = make_predictions()\n",
    "\n",
    "prediction.isna().sum()"
   ]
  },
  {
   "cell_type": "markdown",
   "id": "e2fdfe9b0234905c",
   "metadata": {},
   "source": "## Save Submission"
  },
  {
   "cell_type": "code",
   "execution_count": 79,
   "id": "674ef1e1a0ea20cb",
   "metadata": {
    "ExecuteTime": {
     "end_time": "2024-10-27T11:04:14.505715Z",
     "start_time": "2024-10-27T11:04:14.399492Z"
    }
   },
   "outputs": [
    {
     "name": "stdout",
     "output_type": "stream",
     "text": [
      "sales    0\n",
      "dtype: int64\n"
     ]
    }
   ],
   "source": [
    "save_submission(prediction, \"test_fix.csv\")"
   ]
  },
  {
   "cell_type": "code",
   "execution_count": 78,
   "id": "4be282f4b052aff",
   "metadata": {
    "ExecuteTime": {
     "end_time": "2024-10-27T11:04:12.216632Z",
     "start_time": "2024-10-27T11:04:12.155027Z"
    }
   },
   "outputs": [
    {
     "data": {
      "text/html": [
       "<div>\n",
       "<style scoped>\n",
       "    .dataframe tbody tr th:only-of-type {\n",
       "        vertical-align: middle;\n",
       "    }\n",
       "\n",
       "    .dataframe tbody tr th {\n",
       "        vertical-align: top;\n",
       "    }\n",
       "\n",
       "    .dataframe thead th {\n",
       "        text-align: right;\n",
       "    }\n",
       "</style>\n",
       "<table border=\"1\" class=\"dataframe\">\n",
       "  <thead>\n",
       "    <tr style=\"text-align: right;\">\n",
       "      <th></th>\n",
       "      <th>date</th>\n",
       "      <th>store_nbr</th>\n",
       "      <th>family</th>\n",
       "      <th>onpromotion</th>\n",
       "      <th>sales</th>\n",
       "    </tr>\n",
       "    <tr>\n",
       "      <th>id</th>\n",
       "      <th></th>\n",
       "      <th></th>\n",
       "      <th></th>\n",
       "      <th></th>\n",
       "      <th></th>\n",
       "    </tr>\n",
       "  </thead>\n",
       "  <tbody>\n",
       "    <tr>\n",
       "      <th>3000888</th>\n",
       "      <td>2017-08-16</td>\n",
       "      <td>1</td>\n",
       "      <td>AUTOMOTIVE</td>\n",
       "      <td>0</td>\n",
       "      <td>4.985630</td>\n",
       "    </tr>\n",
       "    <tr>\n",
       "      <th>3002082</th>\n",
       "      <td>2017-08-16</td>\n",
       "      <td>42</td>\n",
       "      <td>CELEBRATION</td>\n",
       "      <td>0</td>\n",
       "      <td>8.275210</td>\n",
       "    </tr>\n",
       "    <tr>\n",
       "      <th>3002081</th>\n",
       "      <td>2017-08-16</td>\n",
       "      <td>42</td>\n",
       "      <td>BREAD/BAKERY</td>\n",
       "      <td>12</td>\n",
       "      <td>466.089294</td>\n",
       "    </tr>\n",
       "    <tr>\n",
       "      <th>3002080</th>\n",
       "      <td>2017-08-16</td>\n",
       "      <td>42</td>\n",
       "      <td>BOOKS</td>\n",
       "      <td>0</td>\n",
       "      <td>0.971789</td>\n",
       "    </tr>\n",
       "    <tr>\n",
       "      <th>3002079</th>\n",
       "      <td>2017-08-16</td>\n",
       "      <td>42</td>\n",
       "      <td>BEVERAGES</td>\n",
       "      <td>19</td>\n",
       "      <td>1988.141171</td>\n",
       "    </tr>\n",
       "  </tbody>\n",
       "</table>\n",
       "</div>"
      ],
      "text/plain": [
       "              date  store_nbr        family  onpromotion        sales\n",
       "id                                                                   \n",
       "3000888 2017-08-16          1    AUTOMOTIVE            0     4.985630\n",
       "3002082 2017-08-16         42   CELEBRATION            0     8.275210\n",
       "3002081 2017-08-16         42  BREAD/BAKERY           12   466.089294\n",
       "3002080 2017-08-16         42         BOOKS            0     0.971789\n",
       "3002079 2017-08-16         42     BEVERAGES           19  1988.141171"
      ]
     },
     "execution_count": 78,
     "metadata": {},
     "output_type": "execute_result"
    }
   ],
   "source": [
    "prediction.head()"
   ]
  },
  {
   "cell_type": "code",
   "execution_count": null,
   "id": "440077dbaff2d028",
   "metadata": {},
   "outputs": [],
   "source": []
  }
 ],
 "metadata": {
  "kernelspec": {
   "display_name": "Python 3",
   "language": "python",
   "name": "python3"
  },
  "language_info": {
   "codemirror_mode": {
    "name": "ipython",
    "version": 2
   },
   "file_extension": ".py",
   "mimetype": "text/x-python",
   "name": "python",
   "nbconvert_exporter": "python",
   "pygments_lexer": "ipython2",
   "version": "2.7.6"
  }
 },
 "nbformat": 4,
 "nbformat_minor": 5
}
