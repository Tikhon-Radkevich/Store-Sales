{
 "cells": [
  {
   "cell_type": "markdown",
   "id": "cfb392d4e80626f9",
   "metadata": {},
   "source": "## Notebook Configuration && Imports"
  },
  {
   "cell_type": "code",
   "execution_count": 1,
   "id": "997929215ba9afd4",
   "metadata": {
    "ExecuteTime": {
     "end_time": "2024-11-01T12:04:58.586581Z",
     "start_time": "2024-11-01T12:04:58.566226Z"
    }
   },
   "outputs": [],
   "source": [
    "%load_ext autoreload\n",
    "%autoreload 2"
   ]
  },
  {
   "cell_type": "code",
   "execution_count": 2,
   "id": "3bc8a8e87a096779",
   "metadata": {
    "ExecuteTime": {
     "end_time": "2024-11-01T12:05:02.806686Z",
     "start_time": "2024-11-01T12:04:58.797792Z"
    }
   },
   "outputs": [],
   "source": [
    "import os\n",
    "\n",
    "import pandas as pd\n",
    "import numpy as np\n",
    "from tqdm import tqdm\n",
    "\n",
    "from darts import TimeSeries\n",
    "from darts.models import LightGBMModel\n",
    "\n",
    "from storesales.baseline.sales_predictor import SalesPredictor\n",
    "from storesales.light_gbm.feature_engineering.ts_fresh_features import (\n",
    "    make_roll,\n",
    "    make_roll_features,\n",
    ")\n",
    "from storesales.light_gbm.data_series.target_series import get_series_and_id_dicts\n",
    "from storesales.light_gbm.data_series.covariates import get_covariates_dicts\n",
    "from storesales.light_gbm.preprocessing import preprocess\n",
    "from storesales.light_gbm.utils import save_submission\n",
    "from storesales.light_gbm.loss import clipped_rmsle\n",
    "from storesales.constants import (\n",
    "    EXTERNAL_TRAIN_PATH,\n",
    "    EXTERNAL_TEST_PATH,\n",
    "    TRAIN_TEST_SPLIT_DATE,\n",
    "    MODELS_PATH,\n",
    ")"
   ]
  },
  {
   "cell_type": "markdown",
   "id": "d606d34b933926f5",
   "metadata": {},
   "source": "## Load && Preprocess Data"
  },
  {
   "cell_type": "code",
   "execution_count": 3,
   "id": "7e1c3cb731b0f89d",
   "metadata": {
    "ExecuteTime": {
     "end_time": "2024-11-01T12:05:04.745153Z",
     "start_time": "2024-11-01T12:05:02.808652Z"
    }
   },
   "outputs": [],
   "source": [
    "train_df = pd.read_csv(EXTERNAL_TRAIN_PATH, parse_dates=[\"date\"])\n",
    "test_df = pd.read_csv(EXTERNAL_TEST_PATH, parse_dates=[\"date\"])"
   ]
  },
  {
   "cell_type": "code",
   "execution_count": 4,
   "id": "1b84b616242280b5",
   "metadata": {
    "ExecuteTime": {
     "end_time": "2024-11-01T12:05:12.797254Z",
     "start_time": "2024-11-01T12:05:04.746942Z"
    }
   },
   "outputs": [],
   "source": [
    "preprocessed_df = preprocess(train_df)"
   ]
  },
  {
   "cell_type": "code",
   "execution_count": 5,
   "id": "ce14eb86b39f108f",
   "metadata": {
    "ExecuteTime": {
     "end_time": "2024-11-01T12:05:12.986793Z",
     "start_time": "2024-11-01T12:05:12.799053Z"
    }
   },
   "outputs": [],
   "source": [
    "preprocessed_df.fillna(0, inplace=True)"
   ]
  },
  {
   "cell_type": "markdown",
   "id": "d426b4f35764309b",
   "metadata": {},
   "source": "## Prepare Data Before Making Series"
  },
  {
   "cell_type": "code",
   "execution_count": 50,
   "id": "d937dfaf88b96c21",
   "metadata": {
    "ExecuteTime": {
     "end_time": "2024-11-01T12:10:57.128070Z",
     "start_time": "2024-11-01T12:10:57.067531Z"
    }
   },
   "outputs": [],
   "source": [
    "train_end = train_df[\"date\"].max()"
   ]
  },
  {
   "cell_type": "code",
   "execution_count": 7,
   "id": "5899a75445a327b4",
   "metadata": {
    "ExecuteTime": {
     "end_time": "2024-11-01T12:05:25.329486Z",
     "start_time": "2024-11-01T12:05:25.287098Z"
    }
   },
   "outputs": [],
   "source": [
    "END_TEST_RANGE = train_df[\"date\"].max() - pd.Timedelta(days=16)\n",
    "SERIES_TEST_RANGE = pd.date_range(TRAIN_TEST_SPLIT_DATE, END_TEST_RANGE, freq=\"D\")"
   ]
  },
  {
   "cell_type": "code",
   "execution_count": 8,
   "id": "aabb4864c8c0f56a",
   "metadata": {
    "ExecuteTime": {
     "end_time": "2024-11-01T12:05:25.773425Z",
     "start_time": "2024-11-01T12:05:25.646325Z"
    }
   },
   "outputs": [],
   "source": [
    "families = [\"FROZEN FOODS\", \"EGGS\", \"LIQUOR,WINE,BEER\", \"SCHOOL AND OFFICE SUPPLIES\"]\n",
    "train_columns = [\"date\", \"sales\", \"onpromotion\", \"store_nbr\", \"family\"]\n",
    "\n",
    "train_test_df = pd.concat([preprocessed_df, test_df], axis=0, ignore_index=True)\n",
    "train_data = train_test_df[train_test_df[\"family\"].isin(families)][train_columns].copy()"
   ]
  },
  {
   "cell_type": "markdown",
   "id": "7de256f3b1ee42dc",
   "metadata": {},
   "source": "### Ensure that I have enough data to get lags"
  },
  {
   "cell_type": "code",
   "execution_count": 9,
   "id": "9fe123db75af879f",
   "metadata": {
    "ExecuteTime": {
     "end_time": "2024-11-01T12:05:26.500610Z",
     "start_time": "2024-11-01T12:05:26.454717Z"
    }
   },
   "outputs": [],
   "source": [
    "threshold_date = pd.Timestamp(\"2017-04-01\")"
   ]
  },
  {
   "cell_type": "code",
   "execution_count": 10,
   "id": "7ddd4a6216b69c8f",
   "metadata": {
    "ExecuteTime": {
     "end_time": "2024-11-01T12:05:26.952297Z",
     "start_time": "2024-11-01T12:05:26.880087Z"
    }
   },
   "outputs": [],
   "source": [
    "min_dates = train_data.groupby([\"family\", \"store_nbr\"])[\"date\"].min().reset_index()\n",
    "lgb_groups = min_dates[min_dates[\"date\"] <= threshold_date]"
   ]
  },
  {
   "cell_type": "code",
   "execution_count": 11,
   "id": "ac7180b3bcec5b5b",
   "metadata": {
    "ExecuteTime": {
     "end_time": "2024-11-01T12:05:27.316152Z",
     "start_time": "2024-11-01T12:05:27.234109Z"
    }
   },
   "outputs": [],
   "source": [
    "lgb_train_data = pd.merge(\n",
    "    train_data,\n",
    "    lgb_groups[[\"family\", \"store_nbr\"]],\n",
    "    on=[\"family\", \"store_nbr\"],\n",
    "    how=\"inner\",\n",
    ")"
   ]
  },
  {
   "cell_type": "code",
   "execution_count": 12,
   "id": "c9d271b0def3c2f9",
   "metadata": {
    "ExecuteTime": {
     "end_time": "2024-11-01T12:05:27.657036Z",
     "start_time": "2024-11-01T12:05:27.608331Z"
    }
   },
   "outputs": [
    {
     "data": {
      "text/html": [
       "<div>\n",
       "<style scoped>\n",
       "    .dataframe tbody tr th:only-of-type {\n",
       "        vertical-align: middle;\n",
       "    }\n",
       "\n",
       "    .dataframe tbody tr th {\n",
       "        vertical-align: top;\n",
       "    }\n",
       "\n",
       "    .dataframe thead th {\n",
       "        text-align: right;\n",
       "    }\n",
       "</style>\n",
       "<table border=\"1\" class=\"dataframe\">\n",
       "  <thead>\n",
       "    <tr style=\"text-align: right;\">\n",
       "      <th></th>\n",
       "      <th>date</th>\n",
       "      <th>sales</th>\n",
       "      <th>onpromotion</th>\n",
       "      <th>store_nbr</th>\n",
       "      <th>family</th>\n",
       "    </tr>\n",
       "  </thead>\n",
       "  <tbody>\n",
       "    <tr>\n",
       "      <th>0</th>\n",
       "      <td>2013-01-02</td>\n",
       "      <td>246.0</td>\n",
       "      <td>0.0</td>\n",
       "      <td>1</td>\n",
       "      <td>EGGS</td>\n",
       "    </tr>\n",
       "    <tr>\n",
       "      <th>1</th>\n",
       "      <td>2013-01-03</td>\n",
       "      <td>203.0</td>\n",
       "      <td>0.0</td>\n",
       "      <td>1</td>\n",
       "      <td>EGGS</td>\n",
       "    </tr>\n",
       "    <tr>\n",
       "      <th>2</th>\n",
       "      <td>2013-01-04</td>\n",
       "      <td>171.0</td>\n",
       "      <td>0.0</td>\n",
       "      <td>1</td>\n",
       "      <td>EGGS</td>\n",
       "    </tr>\n",
       "    <tr>\n",
       "      <th>3</th>\n",
       "      <td>2013-01-05</td>\n",
       "      <td>177.0</td>\n",
       "      <td>0.0</td>\n",
       "      <td>1</td>\n",
       "      <td>EGGS</td>\n",
       "    </tr>\n",
       "    <tr>\n",
       "      <th>4</th>\n",
       "      <td>2013-01-06</td>\n",
       "      <td>85.0</td>\n",
       "      <td>0.0</td>\n",
       "      <td>1</td>\n",
       "      <td>EGGS</td>\n",
       "    </tr>\n",
       "  </tbody>\n",
       "</table>\n",
       "</div>"
      ],
      "text/plain": [
       "        date  sales  onpromotion  store_nbr family\n",
       "0 2013-01-02  246.0          0.0          1   EGGS\n",
       "1 2013-01-03  203.0          0.0          1   EGGS\n",
       "2 2013-01-04  171.0          0.0          1   EGGS\n",
       "3 2013-01-05  177.0          0.0          1   EGGS\n",
       "4 2013-01-06   85.0          0.0          1   EGGS"
      ]
     },
     "execution_count": 12,
     "metadata": {},
     "output_type": "execute_result"
    }
   ],
   "source": [
    "lgb_train_data.head()"
   ]
  },
  {
   "cell_type": "markdown",
   "id": "f0c16cd41c56abf0",
   "metadata": {},
   "source": [
    "## Baseline Model\n",
    "Some store-family pairs do not have enough data to get lags. I will use baseline model for these pairs."
   ]
  },
  {
   "cell_type": "markdown",
   "id": "e3ba2a083fc2feec",
   "metadata": {},
   "source": "### Prepare Data"
  },
  {
   "cell_type": "code",
   "execution_count": 13,
   "id": "19bbd4539d9b8acc",
   "metadata": {
    "ExecuteTime": {
     "end_time": "2024-11-01T12:05:28.734047Z",
     "start_time": "2024-11-01T12:05:28.698410Z"
    }
   },
   "outputs": [],
   "source": [
    "baseline_groups = min_dates[min_dates[\"date\"] > threshold_date]"
   ]
  },
  {
   "cell_type": "code",
   "execution_count": 14,
   "id": "e1f35707fc442035",
   "metadata": {
    "ExecuteTime": {
     "end_time": "2024-11-01T12:05:29.150787Z",
     "start_time": "2024-11-01T12:05:29.079028Z"
    }
   },
   "outputs": [],
   "source": [
    "# baseline_train_data = pd.merge(\n",
    "#     train_df,\n",
    "#     baseline_groups[[\"family\", \"store_nbr\"]],\n",
    "#     on=[\"family\", \"store_nbr\"],\n",
    "#     how=\"inner\",\n",
    "# )\n",
    "\n",
    "baseline_train_data = train_df.copy()\n",
    "baseline_test_data = test_df.copy()\n",
    "\n",
    "# baseline_test_data = pd.merge(\n",
    "#     test_df,\n",
    "#     baseline_groups[[\"family\", \"store_nbr\"]],\n",
    "#     on=[\"family\", \"store_nbr\"],\n",
    "#     how=\"inner\",\n",
    "# )\n",
    "\n",
    "baseline_train_data.rename(columns={\"date\": \"ds\", \"sales\": \"y\"}, inplace=True)\n",
    "baseline_test_data.rename(columns={\"date\": \"ds\"}, inplace=True)"
   ]
  },
  {
   "cell_type": "code",
   "execution_count": 15,
   "id": "9954ecfbbc3bc2f0",
   "metadata": {
    "ExecuteTime": {
     "end_time": "2024-11-01T12:05:29.455098Z",
     "start_time": "2024-11-01T12:05:29.411004Z"
    }
   },
   "outputs": [
    {
     "data": {
      "text/html": [
       "<div>\n",
       "<style scoped>\n",
       "    .dataframe tbody tr th:only-of-type {\n",
       "        vertical-align: middle;\n",
       "    }\n",
       "\n",
       "    .dataframe tbody tr th {\n",
       "        vertical-align: top;\n",
       "    }\n",
       "\n",
       "    .dataframe thead th {\n",
       "        text-align: right;\n",
       "    }\n",
       "</style>\n",
       "<table border=\"1\" class=\"dataframe\">\n",
       "  <thead>\n",
       "    <tr style=\"text-align: right;\">\n",
       "      <th></th>\n",
       "      <th>family</th>\n",
       "      <th>store_nbr</th>\n",
       "      <th>date</th>\n",
       "    </tr>\n",
       "  </thead>\n",
       "  <tbody>\n",
       "    <tr>\n",
       "      <th>51</th>\n",
       "      <td>EGGS</td>\n",
       "      <td>52</td>\n",
       "      <td>2017-04-20</td>\n",
       "    </tr>\n",
       "    <tr>\n",
       "      <th>105</th>\n",
       "      <td>FROZEN FOODS</td>\n",
       "      <td>52</td>\n",
       "      <td>2017-04-20</td>\n",
       "    </tr>\n",
       "    <tr>\n",
       "      <th>159</th>\n",
       "      <td>LIQUOR,WINE,BEER</td>\n",
       "      <td>52</td>\n",
       "      <td>2017-04-20</td>\n",
       "    </tr>\n",
       "    <tr>\n",
       "      <th>213</th>\n",
       "      <td>SCHOOL AND OFFICE SUPPLIES</td>\n",
       "      <td>52</td>\n",
       "      <td>2017-04-20</td>\n",
       "    </tr>\n",
       "  </tbody>\n",
       "</table>\n",
       "</div>"
      ],
      "text/plain": [
       "                         family  store_nbr       date\n",
       "51                         EGGS         52 2017-04-20\n",
       "105                FROZEN FOODS         52 2017-04-20\n",
       "159            LIQUOR,WINE,BEER         52 2017-04-20\n",
       "213  SCHOOL AND OFFICE SUPPLIES         52 2017-04-20"
      ]
     },
     "execution_count": 15,
     "metadata": {},
     "output_type": "execute_result"
    }
   ],
   "source": [
    "baseline_groups"
   ]
  },
  {
   "cell_type": "markdown",
   "id": "4e7235a1ca07ae85",
   "metadata": {},
   "source": "### Load Model && Fit && Predict"
  },
  {
   "cell_type": "code",
   "execution_count": 16,
   "id": "64eb8bc83f4bdc19",
   "metadata": {
    "ExecuteTime": {
     "end_time": "2024-11-01T12:05:30.579404Z",
     "start_time": "2024-11-01T12:05:30.527647Z"
    }
   },
   "outputs": [],
   "source": [
    "model_file = os.path.join(MODELS_PATH, \"daily_predictor.pkl\")\n",
    "baseline_predictor = SalesPredictor.load(model_file)"
   ]
  },
  {
   "cell_type": "code",
   "execution_count": 17,
   "id": "fd0a58614ca2bad",
   "metadata": {
    "ExecuteTime": {
     "end_time": "2024-11-01T12:05:34.069359Z",
     "start_time": "2024-11-01T12:05:30.864736Z"
    }
   },
   "outputs": [
    {
     "name": "stderr",
     "output_type": "stream",
     "text": [
      "100%|██████████| 1782/1782 [00:00<00:00, 1950.28it/s]\n"
     ]
    }
   ],
   "source": [
    "baseline_predictor.fit(baseline_train_data)"
   ]
  },
  {
   "cell_type": "code",
   "execution_count": 18,
   "id": "457dd9e38eac9863",
   "metadata": {
    "ExecuteTime": {
     "end_time": "2024-11-01T12:05:34.792573Z",
     "start_time": "2024-11-01T12:05:34.071294Z"
    }
   },
   "outputs": [
    {
     "name": "stderr",
     "output_type": "stream",
     "text": [
      "100%|██████████| 1782/1782 [00:00<00:00, 3351.74it/s]\n"
     ]
    }
   ],
   "source": [
    "baseline_prediction = baseline_predictor.predict(baseline_test_data)"
   ]
  },
  {
   "cell_type": "markdown",
   "id": "ea28407e050753d4",
   "metadata": {},
   "source": "### Load Baseline Evaluation Loss"
  },
  {
   "cell_type": "code",
   "execution_count": 19,
   "id": "7fbab14163c03d08",
   "metadata": {
    "ExecuteTime": {
     "end_time": "2024-11-01T12:05:34.859141Z",
     "start_time": "2024-11-01T12:05:34.793689Z"
    }
   },
   "outputs": [],
   "source": [
    "predictor_eval_loss_df = pd.read_csv(\n",
    "    baseline_predictor.eval_loss_csv, index_col=[\"family\", \"store_nbr\"]\n",
    ")\n",
    "\n",
    "baseline_loss_ids = pd.MultiIndex.from_frame(baseline_groups[[\"family\", \"store_nbr\"]])\n",
    "baseline_loss_df = predictor_eval_loss_df.loc[baseline_loss_ids]"
   ]
  },
  {
   "cell_type": "code",
   "execution_count": 20,
   "id": "1a74c38443001d1c",
   "metadata": {
    "ExecuteTime": {
     "end_time": "2024-11-01T12:05:34.897947Z",
     "start_time": "2024-11-01T12:05:34.860826Z"
    }
   },
   "outputs": [],
   "source": [
    "# mean_sales_df = (\n",
    "#     baseline_train_data.sort_values(by=\"date\")\n",
    "#     .groupby([\"store_nbr\", \"family\"])[\"sales\"]\n",
    "#     .apply(lambda x: x.tail(14).mean())\n",
    "#     .reset_index(name=\"sales\")\n",
    "# )"
   ]
  },
  {
   "cell_type": "code",
   "execution_count": 20,
   "id": "cf41b0354d9a2f53",
   "metadata": {
    "ExecuteTime": {
     "end_time": "2024-11-01T12:05:34.902042Z",
     "start_time": "2024-11-01T12:05:34.899381Z"
    }
   },
   "outputs": [],
   "source": []
  },
  {
   "cell_type": "code",
   "execution_count": 21,
   "id": "ff5757d77ec73fa1",
   "metadata": {
    "ExecuteTime": {
     "end_time": "2024-11-01T12:05:34.940684Z",
     "start_time": "2024-11-01T12:05:34.903421Z"
    }
   },
   "outputs": [],
   "source": [
    "# def evaluate_baseline(family, date):\n",
    "#     family_store = not_valid_groups[not_valid_groups[\"family\"] == family][\"store_nbr\"]\n",
    "#     families_losses = []\n",
    "#     for store_nbr in family_store.values:\n",
    "#         family_store_data = baseline_train_data[\n",
    "#             (baseline_train_data[\"family\"] == family)\n",
    "#             & (baseline_train_data[\"store_nbr\"] == store_nbr)\n",
    "#         ].copy()\n",
    "#         family_store_data.rename(columns={\"sales\": \"y\"}, inplace=True)\n",
    "#\n",
    "#         baseline_train = family_store_data[family_store_data[\"date\"] < date]\n",
    "#         baseline_test_data = family_store_data[\n",
    "#             (family_store_data[\"date\"] >= date)\n",
    "#             & (family_store_data[\"date\"] <= date + pd.Timedelta(days=16))\n",
    "#         ]\n",
    "#\n",
    "#         stat_model = DailyMeanModel(window=14)\n",
    "#         stat_model.fit(baseline_train)\n",
    "#         forecast = stat_model.predict(baseline_test_data)\n",
    "#         families_losses.append(clipped_rmsle(forecast[\"y\"], forecast[\"yhat\"]))\n",
    "#\n",
    "#     return families_losses"
   ]
  },
  {
   "cell_type": "code",
   "execution_count": 22,
   "id": "a30e0c472a8a3bf6",
   "metadata": {
    "ExecuteTime": {
     "end_time": "2024-11-01T12:05:34.992069Z",
     "start_time": "2024-11-01T12:05:34.941850Z"
    }
   },
   "outputs": [],
   "source": [
    "# evaluate_baseline(\"AUTOMOTIVE\", pd.Timestamp(\"2017-06-10\"))"
   ]
  },
  {
   "cell_type": "markdown",
   "id": "2389ed5ba0d8a7e3",
   "metadata": {},
   "source": [
    "## Rolling Features\n",
    "### Make Rolls"
   ]
  },
  {
   "cell_type": "code",
   "execution_count": 23,
   "id": "30e65db720d0a4a0",
   "metadata": {
    "ExecuteTime": {
     "end_time": "2024-11-01T12:05:35.028550Z",
     "start_time": "2024-11-01T12:05:34.993494Z"
    }
   },
   "outputs": [],
   "source": [
    "rolls_threshold_date = pd.Timestamp(\"2015-03-01\")"
   ]
  },
  {
   "cell_type": "code",
   "execution_count": 24,
   "id": "9d8f05e358cf0d4f",
   "metadata": {
    "ExecuteTime": {
     "end_time": "2024-11-01T12:05:35.074253Z",
     "start_time": "2024-11-01T12:05:35.030099Z"
    }
   },
   "outputs": [],
   "source": [
    "lgb_rolls_data = lgb_train_data[lgb_train_data[\"date\"] >= rolls_threshold_date].copy()"
   ]
  },
  {
   "cell_type": "code",
   "execution_count": 25,
   "id": "fe85e3d3f46a5fb4",
   "metadata": {
    "ExecuteTime": {
     "end_time": "2024-11-01T12:06:34.710257Z",
     "start_time": "2024-11-01T12:05:35.076550Z"
    }
   },
   "outputs": [
    {
     "name": "stderr",
     "output_type": "stream",
     "text": [
      "Rolling: 100%|██████████| 30/30 [00:41<00:00,  1.38s/it]\n"
     ]
    }
   ],
   "source": [
    "all_train_rolls = make_roll(lgb_rolls_data)"
   ]
  },
  {
   "cell_type": "code",
   "execution_count": 26,
   "id": "e81b6f1133f02adb",
   "metadata": {
    "ExecuteTime": {
     "end_time": "2024-11-01T12:06:34.767686Z",
     "start_time": "2024-11-01T12:06:34.713237Z"
    }
   },
   "outputs": [
    {
     "data": {
      "text/html": [
       "<div>\n",
       "<style scoped>\n",
       "    .dataframe tbody tr th:only-of-type {\n",
       "        vertical-align: middle;\n",
       "    }\n",
       "\n",
       "    .dataframe tbody tr th {\n",
       "        vertical-align: top;\n",
       "    }\n",
       "\n",
       "    .dataframe thead th {\n",
       "        text-align: right;\n",
       "    }\n",
       "</style>\n",
       "<table border=\"1\" class=\"dataframe\">\n",
       "  <thead>\n",
       "    <tr style=\"text-align: right;\">\n",
       "      <th></th>\n",
       "      <th></th>\n",
       "      <th></th>\n",
       "      <th>date</th>\n",
       "      <th>sales</th>\n",
       "      <th>onpromotion</th>\n",
       "      <th>id</th>\n",
       "    </tr>\n",
       "    <tr>\n",
       "      <th>store_family</th>\n",
       "      <th>date_roll_id</th>\n",
       "      <th>date_id</th>\n",
       "      <th></th>\n",
       "      <th></th>\n",
       "      <th></th>\n",
       "      <th></th>\n",
       "    </tr>\n",
       "  </thead>\n",
       "  <tbody>\n",
       "    <tr>\n",
       "      <th rowspan=\"5\" valign=\"top\">1-EGGS</th>\n",
       "      <th rowspan=\"5\" valign=\"top\">2015-03-31</th>\n",
       "      <th>2015-03-01</th>\n",
       "      <td>2015-03-01</td>\n",
       "      <td>99.0</td>\n",
       "      <td>0.0</td>\n",
       "      <td>(1-EGGS, 2015-03-31 00:00:00)</td>\n",
       "    </tr>\n",
       "    <tr>\n",
       "      <th>2015-03-02</th>\n",
       "      <td>2015-03-02</td>\n",
       "      <td>154.0</td>\n",
       "      <td>0.0</td>\n",
       "      <td>(1-EGGS, 2015-03-31 00:00:00)</td>\n",
       "    </tr>\n",
       "    <tr>\n",
       "      <th>2015-03-03</th>\n",
       "      <td>2015-03-03</td>\n",
       "      <td>164.0</td>\n",
       "      <td>0.0</td>\n",
       "      <td>(1-EGGS, 2015-03-31 00:00:00)</td>\n",
       "    </tr>\n",
       "    <tr>\n",
       "      <th>2015-03-04</th>\n",
       "      <td>2015-03-04</td>\n",
       "      <td>157.0</td>\n",
       "      <td>0.0</td>\n",
       "      <td>(1-EGGS, 2015-03-31 00:00:00)</td>\n",
       "    </tr>\n",
       "    <tr>\n",
       "      <th>2015-03-05</th>\n",
       "      <td>2015-03-05</td>\n",
       "      <td>134.0</td>\n",
       "      <td>0.0</td>\n",
       "      <td>(1-EGGS, 2015-03-31 00:00:00)</td>\n",
       "    </tr>\n",
       "  </tbody>\n",
       "</table>\n",
       "</div>"
      ],
      "text/plain": [
       "                                           date  sales  onpromotion  \\\n",
       "store_family date_roll_id date_id                                     \n",
       "1-EGGS       2015-03-31   2015-03-01 2015-03-01   99.0          0.0   \n",
       "                          2015-03-02 2015-03-02  154.0          0.0   \n",
       "                          2015-03-03 2015-03-03  164.0          0.0   \n",
       "                          2015-03-04 2015-03-04  157.0          0.0   \n",
       "                          2015-03-05 2015-03-05  134.0          0.0   \n",
       "\n",
       "                                                                 id  \n",
       "store_family date_roll_id date_id                                    \n",
       "1-EGGS       2015-03-31   2015-03-01  (1-EGGS, 2015-03-31 00:00:00)  \n",
       "                          2015-03-02  (1-EGGS, 2015-03-31 00:00:00)  \n",
       "                          2015-03-03  (1-EGGS, 2015-03-31 00:00:00)  \n",
       "                          2015-03-04  (1-EGGS, 2015-03-31 00:00:00)  \n",
       "                          2015-03-05  (1-EGGS, 2015-03-31 00:00:00)  "
      ]
     },
     "execution_count": 26,
     "metadata": {},
     "output_type": "execute_result"
    }
   ],
   "source": [
    "all_train_rolls.head()"
   ]
  },
  {
   "cell_type": "code",
   "execution_count": 27,
   "id": "6ccb32c93b4e8151",
   "metadata": {
    "ExecuteTime": {
     "end_time": "2024-11-01T12:06:35.131405Z",
     "start_time": "2024-11-01T12:06:34.768729Z"
    }
   },
   "outputs": [],
   "source": [
    "all_train_rolls.fillna(0, inplace=True)  # todo why nans are here?"
   ]
  },
  {
   "cell_type": "markdown",
   "id": "84d60ed9c0c383b6",
   "metadata": {},
   "source": "### Make Features"
  },
  {
   "cell_type": "code",
   "execution_count": 28,
   "id": "e2af5ddcdc25d076",
   "metadata": {
    "ExecuteTime": {
     "end_time": "2024-11-01T12:08:53.805882Z",
     "start_time": "2024-11-01T12:06:35.133751Z"
    }
   },
   "outputs": [
    {
     "name": "stderr",
     "output_type": "stream",
     "text": [
      "Feature Extraction: 100%|██████████| 30/30 [02:06<00:00,  4.20s/it]\n"
     ]
    }
   ],
   "source": [
    "train_featured = make_roll_features(all_train_rolls)"
   ]
  },
  {
   "cell_type": "code",
   "execution_count": 29,
   "id": "7f5019c88b569e1c",
   "metadata": {
    "ExecuteTime": {
     "end_time": "2024-11-01T12:08:53.878033Z",
     "start_time": "2024-11-01T12:08:53.807199Z"
    }
   },
   "outputs": [
    {
     "data": {
      "text/html": [
       "<div>\n",
       "<style scoped>\n",
       "    .dataframe tbody tr th:only-of-type {\n",
       "        vertical-align: middle;\n",
       "    }\n",
       "\n",
       "    .dataframe tbody tr th {\n",
       "        vertical-align: top;\n",
       "    }\n",
       "\n",
       "    .dataframe thead th {\n",
       "        text-align: right;\n",
       "    }\n",
       "</style>\n",
       "<table border=\"1\" class=\"dataframe\">\n",
       "  <thead>\n",
       "    <tr style=\"text-align: right;\">\n",
       "      <th></th>\n",
       "      <th>date</th>\n",
       "      <th>sales__sum_values</th>\n",
       "      <th>sales__median</th>\n",
       "      <th>sales__mean</th>\n",
       "      <th>sales__length</th>\n",
       "      <th>sales__standard_deviation</th>\n",
       "      <th>sales__variance</th>\n",
       "      <th>sales__root_mean_square</th>\n",
       "      <th>sales__maximum</th>\n",
       "      <th>sales__absolute_maximum</th>\n",
       "      <th>...</th>\n",
       "      <th>onpromotion__mean</th>\n",
       "      <th>onpromotion__length</th>\n",
       "      <th>onpromotion__standard_deviation</th>\n",
       "      <th>onpromotion__variance</th>\n",
       "      <th>onpromotion__root_mean_square</th>\n",
       "      <th>onpromotion__maximum</th>\n",
       "      <th>onpromotion__absolute_maximum</th>\n",
       "      <th>onpromotion__minimum</th>\n",
       "      <th>store_nbr</th>\n",
       "      <th>family</th>\n",
       "    </tr>\n",
       "  </thead>\n",
       "  <tbody>\n",
       "    <tr>\n",
       "      <th>0</th>\n",
       "      <td>2015-03-31</td>\n",
       "      <td>4525.0</td>\n",
       "      <td>152.0</td>\n",
       "      <td>145.967742</td>\n",
       "      <td>31.0</td>\n",
       "      <td>32.855975</td>\n",
       "      <td>1079.515088</td>\n",
       "      <td>149.619841</td>\n",
       "      <td>209.0</td>\n",
       "      <td>209.0</td>\n",
       "      <td>...</td>\n",
       "      <td>3.387097</td>\n",
       "      <td>31.0</td>\n",
       "      <td>8.804974</td>\n",
       "      <td>77.527575</td>\n",
       "      <td>9.433981</td>\n",
       "      <td>27.0</td>\n",
       "      <td>27.0</td>\n",
       "      <td>0.0</td>\n",
       "      <td>1</td>\n",
       "      <td>EGGS</td>\n",
       "    </tr>\n",
       "    <tr>\n",
       "      <th>1</th>\n",
       "      <td>2015-04-01</td>\n",
       "      <td>4598.0</td>\n",
       "      <td>153.0</td>\n",
       "      <td>148.322581</td>\n",
       "      <td>31.0</td>\n",
       "      <td>32.010469</td>\n",
       "      <td>1024.670135</td>\n",
       "      <td>151.737464</td>\n",
       "      <td>209.0</td>\n",
       "      <td>209.0</td>\n",
       "      <td>...</td>\n",
       "      <td>3.387097</td>\n",
       "      <td>31.0</td>\n",
       "      <td>8.804974</td>\n",
       "      <td>77.527575</td>\n",
       "      <td>9.433981</td>\n",
       "      <td>27.0</td>\n",
       "      <td>27.0</td>\n",
       "      <td>0.0</td>\n",
       "      <td>1</td>\n",
       "      <td>EGGS</td>\n",
       "    </tr>\n",
       "    <tr>\n",
       "      <th>2</th>\n",
       "      <td>2015-04-02</td>\n",
       "      <td>4574.0</td>\n",
       "      <td>152.0</td>\n",
       "      <td>147.548387</td>\n",
       "      <td>31.0</td>\n",
       "      <td>32.153702</td>\n",
       "      <td>1033.860562</td>\n",
       "      <td>151.011215</td>\n",
       "      <td>209.0</td>\n",
       "      <td>209.0</td>\n",
       "      <td>...</td>\n",
       "      <td>3.387097</td>\n",
       "      <td>31.0</td>\n",
       "      <td>8.804974</td>\n",
       "      <td>77.527575</td>\n",
       "      <td>9.433981</td>\n",
       "      <td>27.0</td>\n",
       "      <td>27.0</td>\n",
       "      <td>0.0</td>\n",
       "      <td>1</td>\n",
       "      <td>EGGS</td>\n",
       "    </tr>\n",
       "    <tr>\n",
       "      <th>3</th>\n",
       "      <td>2015-04-03</td>\n",
       "      <td>4478.0</td>\n",
       "      <td>152.0</td>\n",
       "      <td>144.451613</td>\n",
       "      <td>31.0</td>\n",
       "      <td>34.923731</td>\n",
       "      <td>1219.667014</td>\n",
       "      <td>148.613376</td>\n",
       "      <td>209.0</td>\n",
       "      <td>209.0</td>\n",
       "      <td>...</td>\n",
       "      <td>4.161290</td>\n",
       "      <td>31.0</td>\n",
       "      <td>9.500753</td>\n",
       "      <td>90.264308</td>\n",
       "      <td>10.372109</td>\n",
       "      <td>27.0</td>\n",
       "      <td>27.0</td>\n",
       "      <td>0.0</td>\n",
       "      <td>1</td>\n",
       "      <td>EGGS</td>\n",
       "    </tr>\n",
       "    <tr>\n",
       "      <th>4</th>\n",
       "      <td>2015-04-04</td>\n",
       "      <td>4465.0</td>\n",
       "      <td>150.0</td>\n",
       "      <td>144.032258</td>\n",
       "      <td>31.0</td>\n",
       "      <td>34.848505</td>\n",
       "      <td>1214.418314</td>\n",
       "      <td>148.188089</td>\n",
       "      <td>209.0</td>\n",
       "      <td>209.0</td>\n",
       "      <td>...</td>\n",
       "      <td>4.161290</td>\n",
       "      <td>31.0</td>\n",
       "      <td>9.500753</td>\n",
       "      <td>90.264308</td>\n",
       "      <td>10.372109</td>\n",
       "      <td>27.0</td>\n",
       "      <td>27.0</td>\n",
       "      <td>0.0</td>\n",
       "      <td>1</td>\n",
       "      <td>EGGS</td>\n",
       "    </tr>\n",
       "  </tbody>\n",
       "</table>\n",
       "<p>5 rows × 23 columns</p>\n",
       "</div>"
      ],
      "text/plain": [
       "        date  sales__sum_values  sales__median  sales__mean  sales__length  \\\n",
       "0 2015-03-31             4525.0          152.0   145.967742           31.0   \n",
       "1 2015-04-01             4598.0          153.0   148.322581           31.0   \n",
       "2 2015-04-02             4574.0          152.0   147.548387           31.0   \n",
       "3 2015-04-03             4478.0          152.0   144.451613           31.0   \n",
       "4 2015-04-04             4465.0          150.0   144.032258           31.0   \n",
       "\n",
       "   sales__standard_deviation  sales__variance  sales__root_mean_square  \\\n",
       "0                  32.855975      1079.515088               149.619841   \n",
       "1                  32.010469      1024.670135               151.737464   \n",
       "2                  32.153702      1033.860562               151.011215   \n",
       "3                  34.923731      1219.667014               148.613376   \n",
       "4                  34.848505      1214.418314               148.188089   \n",
       "\n",
       "   sales__maximum  sales__absolute_maximum  ...  onpromotion__mean  \\\n",
       "0           209.0                    209.0  ...           3.387097   \n",
       "1           209.0                    209.0  ...           3.387097   \n",
       "2           209.0                    209.0  ...           3.387097   \n",
       "3           209.0                    209.0  ...           4.161290   \n",
       "4           209.0                    209.0  ...           4.161290   \n",
       "\n",
       "   onpromotion__length  onpromotion__standard_deviation  \\\n",
       "0                 31.0                         8.804974   \n",
       "1                 31.0                         8.804974   \n",
       "2                 31.0                         8.804974   \n",
       "3                 31.0                         9.500753   \n",
       "4                 31.0                         9.500753   \n",
       "\n",
       "   onpromotion__variance  onpromotion__root_mean_square  onpromotion__maximum  \\\n",
       "0              77.527575                       9.433981                  27.0   \n",
       "1              77.527575                       9.433981                  27.0   \n",
       "2              77.527575                       9.433981                  27.0   \n",
       "3              90.264308                      10.372109                  27.0   \n",
       "4              90.264308                      10.372109                  27.0   \n",
       "\n",
       "   onpromotion__absolute_maximum  onpromotion__minimum  store_nbr  family  \n",
       "0                           27.0                   0.0          1    EGGS  \n",
       "1                           27.0                   0.0          1    EGGS  \n",
       "2                           27.0                   0.0          1    EGGS  \n",
       "3                           27.0                   0.0          1    EGGS  \n",
       "4                           27.0                   0.0          1    EGGS  \n",
       "\n",
       "[5 rows x 23 columns]"
      ]
     },
     "execution_count": 29,
     "metadata": {},
     "output_type": "execute_result"
    }
   ],
   "source": [
    "train_featured.head()"
   ]
  },
  {
   "cell_type": "markdown",
   "id": "3a5efd48f8f440d4",
   "metadata": {},
   "source": "## Prepare Series"
  },
  {
   "cell_type": "code",
   "execution_count": 30,
   "id": "4bc7d24c3cc0234d",
   "metadata": {
    "ExecuteTime": {
     "end_time": "2024-11-01T12:08:53.930384Z",
     "start_time": "2024-11-01T12:08:53.879636Z"
    }
   },
   "outputs": [],
   "source": [
    "sales_cols = [col for col in train_featured.columns if \"sales\" in col]\n",
    "onpromotion_cols = [col for col in train_featured.columns if \"onpromotion\" in col]"
   ]
  },
  {
   "cell_type": "code",
   "execution_count": 31,
   "id": "43f4ac33a75f2b99",
   "metadata": {
    "ExecuteTime": {
     "end_time": "2024-11-01T12:08:53.980624Z",
     "start_time": "2024-11-01T12:08:53.931706Z"
    }
   },
   "outputs": [],
   "source": [
    "def train_test_split(series: dict[str, list[TimeSeries]], split_date: pd.Timestamp):\n",
    "    train_series = {}\n",
    "\n",
    "    for family, series_list in series.items():\n",
    "        train_series[family] = [s.drop_after(split_date) for s in series_list]\n",
    "\n",
    "    return train_series"
   ]
  },
  {
   "cell_type": "code",
   "execution_count": 32,
   "id": "df081fa344eee68c",
   "metadata": {
    "ExecuteTime": {
     "end_time": "2024-11-01T12:08:54.716678Z",
     "start_time": "2024-11-01T12:08:53.981898Z"
    }
   },
   "outputs": [],
   "source": [
    "static_columns = []\n",
    "\n",
    "data_series_dict, data_series_id_dict = get_series_and_id_dicts(\n",
    "    lgb_train_data, static_columns\n",
    ")"
   ]
  },
  {
   "cell_type": "code",
   "execution_count": 33,
   "id": "e79b7a7b7d90f1a2",
   "metadata": {
    "ExecuteTime": {
     "end_time": "2024-11-01T12:08:54.755402Z",
     "start_time": "2024-11-01T12:08:54.717929Z"
    }
   },
   "outputs": [],
   "source": [
    "df = data_series_dict[\"EGGS\"][0].pd_dataframe()"
   ]
  },
  {
   "cell_type": "code",
   "execution_count": 34,
   "id": "e769c729dd53b8d3",
   "metadata": {
    "ExecuteTime": {
     "end_time": "2024-11-01T12:08:54.799155Z",
     "start_time": "2024-11-01T12:08:54.758983Z"
    }
   },
   "outputs": [
    {
     "data": {
      "text/plain": [
       "Timestamp('2017-08-31 00:00:00')"
      ]
     },
     "execution_count": 34,
     "metadata": {},
     "output_type": "execute_result"
    }
   ],
   "source": [
    "df.index.max()"
   ]
  },
  {
   "cell_type": "code",
   "execution_count": 35,
   "id": "41f33ff658e3cb77",
   "metadata": {
    "ExecuteTime": {
     "end_time": "2024-11-01T12:08:56.142941Z",
     "start_time": "2024-11-01T12:08:54.800670Z"
    }
   },
   "outputs": [],
   "source": [
    "# future_cols = [\"onpromotion\"] + onpromotion_cols\n",
    "future_cols = onpromotion_cols\n",
    "past_cols = [] + sales_cols\n",
    "\n",
    "future_covariates, past_covariates = get_covariates_dicts(\n",
    "    train_featured, future_cols, past_cols\n",
    ")"
   ]
  },
  {
   "cell_type": "code",
   "execution_count": 36,
   "id": "48145a01b53d9e1e",
   "metadata": {
    "ExecuteTime": {
     "end_time": "2024-11-01T12:08:56.345152Z",
     "start_time": "2024-11-01T12:08:56.144348Z"
    }
   },
   "outputs": [],
   "source": [
    "train_series_dict = train_test_split(\n",
    "    data_series_dict, pd.Timestamp(TRAIN_TEST_SPLIT_DATE)\n",
    ")"
   ]
  },
  {
   "cell_type": "code",
   "execution_count": 37,
   "id": "b1b1911688f49b76",
   "metadata": {
    "ExecuteTime": {
     "end_time": "2024-11-01T12:08:56.381655Z",
     "start_time": "2024-11-01T12:08:56.346517Z"
    }
   },
   "outputs": [],
   "source": [
    "def fit_light_gb_models():\n",
    "    light_gb_models = {}\n",
    "\n",
    "    for family, series in data_series_dict.items():\n",
    "        inputs = {\n",
    "            \"series\": [s.drop_after(pd.Timestamp(\"2017-07-10\")) for s in series],\n",
    "            \"future_covariates\": future_covariates[family],\n",
    "            # \"past_covariates\": past_covariates[family],\n",
    "        }\n",
    "        light_gb_models[family] = LightGBMModel(\n",
    "            lags=24,\n",
    "            lags_future_covariates=(14, 1),\n",
    "            # lags_past_covariates=list(range(-16, -20, -1)),\n",
    "            force_col_wise=True,\n",
    "        )\n",
    "\n",
    "        light_gb_models[family].fit(**inputs)\n",
    "\n",
    "    return light_gb_models"
   ]
  },
  {
   "cell_type": "code",
   "execution_count": 38,
   "id": "1d23b414c133be33",
   "metadata": {
    "ExecuteTime": {
     "end_time": "2024-11-01T12:09:00.326317Z",
     "start_time": "2024-11-01T12:08:56.382855Z"
    }
   },
   "outputs": [
    {
     "name": "stdout",
     "output_type": "stream",
     "text": [
      "[LightGBM] [Info] Total Bins 26199\n",
      "[LightGBM] [Info] Number of data points in the train set: 42334, number of used features: 160\n",
      "[LightGBM] [Info] Start training from score 191.717252\n",
      "[LightGBM] [Info] Total Bins 26619\n",
      "[LightGBM] [Info] Number of data points in the train set: 42334, number of used features: 160\n",
      "[LightGBM] [Info] Start training from score 182.013495\n",
      "[LightGBM] [Info] Total Bins 26244\n",
      "[LightGBM] [Info] Number of data points in the train set: 42334, number of used features: 160\n",
      "[LightGBM] [Info] Start training from score 97.718863\n",
      "[LightGBM] [Info] Total Bins 25734\n",
      "[LightGBM] [Info] Number of data points in the train set: 39243, number of used features: 160\n",
      "[LightGBM] [Info] Start training from score 5.534289\n"
     ]
    }
   ],
   "source": [
    "models = fit_light_gb_models()"
   ]
  },
  {
   "cell_type": "code",
   "execution_count": 39,
   "id": "9b6bb08e14e1ffa5",
   "metadata": {
    "ExecuteTime": {
     "end_time": "2024-11-01T12:09:00.367151Z",
     "start_time": "2024-11-01T12:09:00.327454Z"
    }
   },
   "outputs": [],
   "source": [
    "from joblib import Parallel, delayed\n",
    "\n",
    "\n",
    "def evaluate():\n",
    "    def evaluate_family(family):\n",
    "        series = data_series_dict[family]\n",
    "        lgb_family_stores = [\n",
    "            element[\"store_nbr\"] for element in data_series_id_dict[family]\n",
    "        ]\n",
    "        multi_index = pd.MultiIndex.from_product(\n",
    "            [[family], lgb_family_stores], names=[\"family\", \"store_nbr\"]\n",
    "        )\n",
    "\n",
    "        family_losses = []\n",
    "        for test_date in SERIES_TEST_RANGE:\n",
    "            inputs = {\n",
    "                \"series\": [s.drop_after(test_date) for s in series],\n",
    "                \"future_covariates\": future_covariates[family],\n",
    "                # \"past_covariates\": past_covariates[family],\n",
    "            }\n",
    "\n",
    "            preds = models[family].predict(n=16, show_warnings=False, **inputs)\n",
    "            true_values = [s.slice_intersect(p) for p, s in zip(preds, series)]\n",
    "\n",
    "            loss = [\n",
    "                clipped_rmsle(t.values(), p.values())\n",
    "                for t, p in zip(true_values, preds)\n",
    "            ]\n",
    "            series_loss = pd.Series(\n",
    "                loss, index=multi_index, name=test_date.strftime(\"%Y.%m.%d\")\n",
    "            )\n",
    "\n",
    "            family_losses.append(series_loss)\n",
    "\n",
    "        family_losses_df = pd.concat(family_losses, axis=1)\n",
    "        return family_losses_df\n",
    "\n",
    "    losses = Parallel(n_jobs=-1)(\n",
    "        delayed(evaluate_family)(family) for family in tqdm(data_series_dict.keys())\n",
    "    )\n",
    "\n",
    "    return pd.concat(losses)"
   ]
  },
  {
   "cell_type": "code",
   "execution_count": 40,
   "id": "6762db7c62df5831",
   "metadata": {
    "ExecuteTime": {
     "end_time": "2024-11-01T12:09:29.697239Z",
     "start_time": "2024-11-01T12:09:00.368899Z"
    }
   },
   "outputs": [
    {
     "name": "stderr",
     "output_type": "stream",
     "text": [
      "100%|██████████| 4/4 [00:00<00:00, 82.66it/s]\n"
     ]
    }
   ],
   "source": [
    "family_losses = evaluate()"
   ]
  },
  {
   "cell_type": "code",
   "execution_count": 41,
   "id": "f603332d0f69b467",
   "metadata": {
    "ExecuteTime": {
     "end_time": "2024-11-01T12:09:29.772034Z",
     "start_time": "2024-11-01T12:09:29.699118Z"
    }
   },
   "outputs": [],
   "source": [
    "total_lgb_loss = pd.concat([family_losses, baseline_loss_df]).sort_index(\n",
    "    level=[\"family\", \"store_nbr\"]\n",
    ")"
   ]
  },
  {
   "cell_type": "code",
   "execution_count": 42,
   "id": "7731b2de2cf7097c",
   "metadata": {
    "ExecuteTime": {
     "end_time": "2024-11-01T12:09:29.835032Z",
     "start_time": "2024-11-01T12:09:29.773975Z"
    }
   },
   "outputs": [],
   "source": [
    "grouped_loss = total_lgb_loss.groupby(\"family\").mean()\n",
    "lgb_series_loss = grouped_loss.mean(axis=1).rename(\"lgb_series_loss\")\n",
    "\n",
    "predictor_grouped_loss = predictor_eval_loss_df.groupby(\"family\").mean()\n",
    "baseline_series_loss = predictor_grouped_loss.mean(axis=1).rename(\"baseline_loss\")\n",
    "\n",
    "loss_df = pd.concat([lgb_series_loss, baseline_series_loss], axis=1)"
   ]
  },
  {
   "cell_type": "code",
   "execution_count": 43,
   "id": "aded94d1a0da630e",
   "metadata": {
    "ExecuteTime": {
     "end_time": "2024-11-01T12:09:29.888502Z",
     "start_time": "2024-11-01T12:09:29.836593Z"
    }
   },
   "outputs": [
    {
     "data": {
      "text/html": [
       "<div>\n",
       "<style scoped>\n",
       "    .dataframe tbody tr th:only-of-type {\n",
       "        vertical-align: middle;\n",
       "    }\n",
       "\n",
       "    .dataframe tbody tr th {\n",
       "        vertical-align: top;\n",
       "    }\n",
       "\n",
       "    .dataframe thead th {\n",
       "        text-align: right;\n",
       "    }\n",
       "</style>\n",
       "<table border=\"1\" class=\"dataframe\">\n",
       "  <thead>\n",
       "    <tr style=\"text-align: right;\">\n",
       "      <th></th>\n",
       "      <th>lgb_series_loss</th>\n",
       "      <th>baseline_loss</th>\n",
       "    </tr>\n",
       "    <tr>\n",
       "      <th>family</th>\n",
       "      <th></th>\n",
       "      <th></th>\n",
       "    </tr>\n",
       "  </thead>\n",
       "  <tbody>\n",
       "    <tr>\n",
       "      <th>EGGS</th>\n",
       "      <td>0.283927</td>\n",
       "      <td>0.386635</td>\n",
       "    </tr>\n",
       "    <tr>\n",
       "      <th>FROZEN FOODS</th>\n",
       "      <td>0.324788</td>\n",
       "      <td>0.399494</td>\n",
       "    </tr>\n",
       "    <tr>\n",
       "      <th>LIQUOR,WINE,BEER</th>\n",
       "      <td>0.523027</td>\n",
       "      <td>0.708146</td>\n",
       "    </tr>\n",
       "    <tr>\n",
       "      <th>SCHOOL AND OFFICE SUPPLIES</th>\n",
       "      <td>0.553213</td>\n",
       "      <td>0.644878</td>\n",
       "    </tr>\n",
       "    <tr>\n",
       "      <th>AUTOMOTIVE</th>\n",
       "      <td>NaN</td>\n",
       "      <td>0.549853</td>\n",
       "    </tr>\n",
       "    <tr>\n",
       "      <th>BABY CARE</th>\n",
       "      <td>NaN</td>\n",
       "      <td>0.194055</td>\n",
       "    </tr>\n",
       "    <tr>\n",
       "      <th>BEAUTY</th>\n",
       "      <td>NaN</td>\n",
       "      <td>0.574898</td>\n",
       "    </tr>\n",
       "    <tr>\n",
       "      <th>BEVERAGES</th>\n",
       "      <td>NaN</td>\n",
       "      <td>0.275564</td>\n",
       "    </tr>\n",
       "    <tr>\n",
       "      <th>BOOKS</th>\n",
       "      <td>NaN</td>\n",
       "      <td>0.078480</td>\n",
       "    </tr>\n",
       "    <tr>\n",
       "      <th>BREAD/BAKERY</th>\n",
       "      <td>NaN</td>\n",
       "      <td>0.236766</td>\n",
       "    </tr>\n",
       "    <tr>\n",
       "      <th>CELEBRATION</th>\n",
       "      <td>NaN</td>\n",
       "      <td>0.595359</td>\n",
       "    </tr>\n",
       "    <tr>\n",
       "      <th>CLEANING</th>\n",
       "      <td>NaN</td>\n",
       "      <td>0.320998</td>\n",
       "    </tr>\n",
       "    <tr>\n",
       "      <th>DAIRY</th>\n",
       "      <td>NaN</td>\n",
       "      <td>0.246879</td>\n",
       "    </tr>\n",
       "    <tr>\n",
       "      <th>DELI</th>\n",
       "      <td>NaN</td>\n",
       "      <td>0.254749</td>\n",
       "    </tr>\n",
       "    <tr>\n",
       "      <th>GROCERY I</th>\n",
       "      <td>NaN</td>\n",
       "      <td>0.241929</td>\n",
       "    </tr>\n",
       "    <tr>\n",
       "      <th>GROCERY II</th>\n",
       "      <td>NaN</td>\n",
       "      <td>0.569867</td>\n",
       "    </tr>\n",
       "    <tr>\n",
       "      <th>HARDWARE</th>\n",
       "      <td>NaN</td>\n",
       "      <td>0.546267</td>\n",
       "    </tr>\n",
       "    <tr>\n",
       "      <th>HOME AND KITCHEN I</th>\n",
       "      <td>NaN</td>\n",
       "      <td>0.543460</td>\n",
       "    </tr>\n",
       "    <tr>\n",
       "      <th>HOME AND KITCHEN II</th>\n",
       "      <td>NaN</td>\n",
       "      <td>0.481282</td>\n",
       "    </tr>\n",
       "    <tr>\n",
       "      <th>HOME APPLIANCES</th>\n",
       "      <td>NaN</td>\n",
       "      <td>0.418675</td>\n",
       "    </tr>\n",
       "    <tr>\n",
       "      <th>HOME CARE</th>\n",
       "      <td>NaN</td>\n",
       "      <td>0.291221</td>\n",
       "    </tr>\n",
       "    <tr>\n",
       "      <th>LADIESWEAR</th>\n",
       "      <td>NaN</td>\n",
       "      <td>0.501788</td>\n",
       "    </tr>\n",
       "    <tr>\n",
       "      <th>LAWN AND GARDEN</th>\n",
       "      <td>NaN</td>\n",
       "      <td>0.445791</td>\n",
       "    </tr>\n",
       "    <tr>\n",
       "      <th>LINGERIE</th>\n",
       "      <td>NaN</td>\n",
       "      <td>0.683757</td>\n",
       "    </tr>\n",
       "    <tr>\n",
       "      <th>MAGAZINES</th>\n",
       "      <td>NaN</td>\n",
       "      <td>0.538552</td>\n",
       "    </tr>\n",
       "    <tr>\n",
       "      <th>MEATS</th>\n",
       "      <td>NaN</td>\n",
       "      <td>0.299842</td>\n",
       "    </tr>\n",
       "    <tr>\n",
       "      <th>PERSONAL CARE</th>\n",
       "      <td>NaN</td>\n",
       "      <td>0.328329</td>\n",
       "    </tr>\n",
       "    <tr>\n",
       "      <th>PET SUPPLIES</th>\n",
       "      <td>NaN</td>\n",
       "      <td>0.492025</td>\n",
       "    </tr>\n",
       "    <tr>\n",
       "      <th>PLAYERS AND ELECTRONICS</th>\n",
       "      <td>NaN</td>\n",
       "      <td>0.507187</td>\n",
       "    </tr>\n",
       "    <tr>\n",
       "      <th>POULTRY</th>\n",
       "      <td>NaN</td>\n",
       "      <td>0.299499</td>\n",
       "    </tr>\n",
       "    <tr>\n",
       "      <th>PREPARED FOODS</th>\n",
       "      <td>NaN</td>\n",
       "      <td>0.301887</td>\n",
       "    </tr>\n",
       "    <tr>\n",
       "      <th>PRODUCE</th>\n",
       "      <td>NaN</td>\n",
       "      <td>0.277055</td>\n",
       "    </tr>\n",
       "    <tr>\n",
       "      <th>SEAFOOD</th>\n",
       "      <td>NaN</td>\n",
       "      <td>0.550048</td>\n",
       "    </tr>\n",
       "  </tbody>\n",
       "</table>\n",
       "</div>"
      ],
      "text/plain": [
       "                            lgb_series_loss  baseline_loss\n",
       "family                                                    \n",
       "EGGS                               0.283927       0.386635\n",
       "FROZEN FOODS                       0.324788       0.399494\n",
       "LIQUOR,WINE,BEER                   0.523027       0.708146\n",
       "SCHOOL AND OFFICE SUPPLIES         0.553213       0.644878\n",
       "AUTOMOTIVE                              NaN       0.549853\n",
       "BABY CARE                               NaN       0.194055\n",
       "BEAUTY                                  NaN       0.574898\n",
       "BEVERAGES                               NaN       0.275564\n",
       "BOOKS                                   NaN       0.078480\n",
       "BREAD/BAKERY                            NaN       0.236766\n",
       "CELEBRATION                             NaN       0.595359\n",
       "CLEANING                                NaN       0.320998\n",
       "DAIRY                                   NaN       0.246879\n",
       "DELI                                    NaN       0.254749\n",
       "GROCERY I                               NaN       0.241929\n",
       "GROCERY II                              NaN       0.569867\n",
       "HARDWARE                                NaN       0.546267\n",
       "HOME AND KITCHEN I                      NaN       0.543460\n",
       "HOME AND KITCHEN II                     NaN       0.481282\n",
       "HOME APPLIANCES                         NaN       0.418675\n",
       "HOME CARE                               NaN       0.291221\n",
       "LADIESWEAR                              NaN       0.501788\n",
       "LAWN AND GARDEN                         NaN       0.445791\n",
       "LINGERIE                                NaN       0.683757\n",
       "MAGAZINES                               NaN       0.538552\n",
       "MEATS                                   NaN       0.299842\n",
       "PERSONAL CARE                           NaN       0.328329\n",
       "PET SUPPLIES                            NaN       0.492025\n",
       "PLAYERS AND ELECTRONICS                 NaN       0.507187\n",
       "POULTRY                                 NaN       0.299499\n",
       "PREPARED FOODS                          NaN       0.301887\n",
       "PRODUCE                                 NaN       0.277055\n",
       "SEAFOOD                                 NaN       0.550048"
      ]
     },
     "execution_count": 43,
     "metadata": {},
     "output_type": "execute_result"
    }
   ],
   "source": [
    "loss_df"
   ]
  },
  {
   "cell_type": "code",
   "execution_count": 44,
   "id": "18dfb2418fc2e99e",
   "metadata": {
    "ExecuteTime": {
     "end_time": "2024-11-01T12:09:29.929857Z",
     "start_time": "2024-11-01T12:09:29.889822Z"
    }
   },
   "outputs": [
    {
     "data": {
      "text/plain": [
       "0.4039702702709875"
      ]
     },
     "execution_count": 44,
     "metadata": {},
     "output_type": "execute_result"
    }
   ],
   "source": [
    "total_prediction_eval_loss = loss_df[\"lgb_series_loss\"].fillna(loss_df[\"baseline_loss\"])\n",
    "total_prediction_eval_loss.mean()"
   ]
  },
  {
   "cell_type": "code",
   "execution_count": 45,
   "id": "fb92ac37d73cb6cc",
   "metadata": {
    "ExecuteTime": {
     "end_time": "2024-11-01T12:09:29.970207Z",
     "start_time": "2024-11-01T12:09:29.931150Z"
    }
   },
   "outputs": [
    {
     "data": {
      "text/plain": [
       "0.4177338467167706"
      ]
     },
     "execution_count": 45,
     "metadata": {},
     "output_type": "execute_result"
    }
   ],
   "source": [
    "loss_df[\"baseline_loss\"].mean()"
   ]
  },
  {
   "cell_type": "markdown",
   "id": "bbc07825e6c9ed3e",
   "metadata": {},
   "source": "## Submission"
  },
  {
   "cell_type": "code",
   "execution_count": 46,
   "id": "d3514f2369af2f52",
   "metadata": {
    "ExecuteTime": {
     "end_time": "2024-11-01T12:09:30.015086Z",
     "start_time": "2024-11-01T12:09:29.971671Z"
    }
   },
   "outputs": [],
   "source": [
    "test_df_copy = baseline_prediction.copy()"
   ]
  },
  {
   "cell_type": "code",
   "execution_count": 47,
   "id": "1d4338ab54228513",
   "metadata": {
    "ExecuteTime": {
     "end_time": "2024-11-01T12:09:30.062525Z",
     "start_time": "2024-11-01T12:09:30.016707Z"
    }
   },
   "outputs": [],
   "source": [
    "test_df_copy.set_index([\"ds\", \"family\", \"store_nbr\"], inplace=True)"
   ]
  },
  {
   "cell_type": "code",
   "execution_count": 51,
   "id": "63ae6183f54a91ef",
   "metadata": {
    "ExecuteTime": {
     "end_time": "2024-11-01T12:11:10.088132Z",
     "start_time": "2024-11-01T12:11:10.037938Z"
    }
   },
   "outputs": [],
   "source": [
    "def make_predictions():\n",
    "    sub_date = train_end + pd.Timedelta(days=1)\n",
    "\n",
    "    for family, series in tqdm(data_series_dict.items()):\n",
    "        inputs = {\n",
    "            \"series\": [s.drop_after(sub_date) for s in series],\n",
    "            \"future_covariates\": future_covariates[family],\n",
    "            # \"past_covariates\": past_covariates[family],\n",
    "        }\n",
    "        pred = models[family].predict(n=16, **inputs)\n",
    "\n",
    "        for i, values in enumerate(pred):\n",
    "            store_nbr = int(data_series_id_dict[family][i][\"store_nbr\"])\n",
    "\n",
    "            pred_df = values.pd_dataframe()\n",
    "            pred_df[[\"family\", \"store_nbr\"]] = [family, store_nbr]\n",
    "            pred_df.set_index([\"family\", \"store_nbr\"], append=True, inplace=True)\n",
    "            pred_df.index.names = [\"ds\", \"family\", \"store_nbr\"]\n",
    "\n",
    "            test_df_copy.loc[pred_df.index, \"yhat\"] = pred_df[\"sales\"]\n",
    "\n",
    "    return test_df_copy"
   ]
  },
  {
   "cell_type": "code",
   "execution_count": 52,
   "id": "a7b4c6e0871fe101",
   "metadata": {
    "ExecuteTime": {
     "end_time": "2024-11-01T12:11:12.110899Z",
     "start_time": "2024-11-01T12:11:10.791477Z"
    }
   },
   "outputs": [
    {
     "name": "stderr",
     "output_type": "stream",
     "text": [
      "100%|██████████| 4/4 [00:01<00:00,  3.13it/s]\n"
     ]
    },
    {
     "data": {
      "text/plain": [
       "id             0\n",
       "onpromotion    0\n",
       "yhat           0\n",
       "dtype: int64"
      ]
     },
     "execution_count": 52,
     "metadata": {},
     "output_type": "execute_result"
    }
   ],
   "source": [
    "prediction = make_predictions()\n",
    "\n",
    "prediction.isna().sum()"
   ]
  },
  {
   "cell_type": "markdown",
   "id": "e2fdfe9b0234905c",
   "metadata": {},
   "source": "## Save Submission"
  },
  {
   "cell_type": "code",
   "execution_count": 234,
   "id": "c848f4be8af3043",
   "metadata": {
    "ExecuteTime": {
     "end_time": "2024-11-01T12:03:52.407145Z",
     "start_time": "2024-11-01T12:03:52.315258Z"
    }
   },
   "outputs": [],
   "source": [
    "prediction.set_index(\"id\", inplace=True)"
   ]
  },
  {
   "cell_type": "code",
   "execution_count": 235,
   "id": "674ef1e1a0ea20cb",
   "metadata": {
    "ExecuteTime": {
     "end_time": "2024-11-01T12:03:53.034651Z",
     "start_time": "2024-11-01T12:03:52.950812Z"
    }
   },
   "outputs": [
    {
     "name": "stdout",
     "output_type": "stream",
     "text": [
      "sales    0\n",
      "dtype: int64\n"
     ]
    }
   ],
   "source": [
    "save_submission(prediction, \"test_lgb_combined_with_baseline_test_range_fix.csv\")"
   ]
  },
  {
   "cell_type": "code",
   "execution_count": 236,
   "id": "4be282f4b052aff",
   "metadata": {
    "ExecuteTime": {
     "end_time": "2024-11-01T12:03:54.264399Z",
     "start_time": "2024-11-01T12:03:54.215842Z"
    }
   },
   "outputs": [
    {
     "data": {
      "text/html": [
       "<div>\n",
       "<style scoped>\n",
       "    .dataframe tbody tr th:only-of-type {\n",
       "        vertical-align: middle;\n",
       "    }\n",
       "\n",
       "    .dataframe tbody tr th {\n",
       "        vertical-align: top;\n",
       "    }\n",
       "\n",
       "    .dataframe thead th {\n",
       "        text-align: right;\n",
       "    }\n",
       "</style>\n",
       "<table border=\"1\" class=\"dataframe\">\n",
       "  <thead>\n",
       "    <tr style=\"text-align: right;\">\n",
       "      <th></th>\n",
       "      <th>onpromotion</th>\n",
       "      <th>yhat</th>\n",
       "    </tr>\n",
       "    <tr>\n",
       "      <th>id</th>\n",
       "      <th></th>\n",
       "      <th></th>\n",
       "    </tr>\n",
       "  </thead>\n",
       "  <tbody>\n",
       "    <tr>\n",
       "      <th>3000888</th>\n",
       "      <td>0</td>\n",
       "      <td>4.8125</td>\n",
       "    </tr>\n",
       "    <tr>\n",
       "      <th>3002670</th>\n",
       "      <td>0</td>\n",
       "      <td>4.8125</td>\n",
       "    </tr>\n",
       "    <tr>\n",
       "      <th>3004452</th>\n",
       "      <td>0</td>\n",
       "      <td>4.8125</td>\n",
       "    </tr>\n",
       "    <tr>\n",
       "      <th>3006234</th>\n",
       "      <td>0</td>\n",
       "      <td>4.8125</td>\n",
       "    </tr>\n",
       "    <tr>\n",
       "      <th>3008016</th>\n",
       "      <td>0</td>\n",
       "      <td>4.8125</td>\n",
       "    </tr>\n",
       "  </tbody>\n",
       "</table>\n",
       "</div>"
      ],
      "text/plain": [
       "         onpromotion    yhat\n",
       "id                          \n",
       "3000888            0  4.8125\n",
       "3002670            0  4.8125\n",
       "3004452            0  4.8125\n",
       "3006234            0  4.8125\n",
       "3008016            0  4.8125"
      ]
     },
     "execution_count": 236,
     "metadata": {},
     "output_type": "execute_result"
    }
   ],
   "source": [
    "prediction.head()"
   ]
  },
  {
   "cell_type": "code",
   "execution_count": null,
   "id": "440077dbaff2d028",
   "metadata": {},
   "outputs": [],
   "source": []
  }
 ],
 "metadata": {
  "kernelspec": {
   "display_name": "Python 3",
   "language": "python",
   "name": "python3"
  },
  "language_info": {
   "codemirror_mode": {
    "name": "ipython",
    "version": 2
   },
   "file_extension": ".py",
   "mimetype": "text/x-python",
   "name": "python",
   "nbconvert_exporter": "python",
   "pygments_lexer": "ipython2",
   "version": "2.7.6"
  }
 },
 "nbformat": 4,
 "nbformat_minor": 5
}
