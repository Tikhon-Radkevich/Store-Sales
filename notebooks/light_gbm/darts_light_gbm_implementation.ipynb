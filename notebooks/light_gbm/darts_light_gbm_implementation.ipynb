{
 "cells": [
  {
   "cell_type": "markdown",
   "id": "cfb392d4e80626f9",
   "metadata": {},
   "source": "## Notebook Configuration && Imports"
  },
  {
   "cell_type": "code",
   "execution_count": 1,
   "id": "997929215ba9afd4",
   "metadata": {
    "ExecuteTime": {
     "end_time": "2024-11-07T12:01:19.107464Z",
     "start_time": "2024-11-07T12:01:19.094573Z"
    }
   },
   "outputs": [],
   "source": [
    "%load_ext autoreload\n",
    "%autoreload 2"
   ]
  },
  {
   "cell_type": "code",
   "id": "3bc8a8e87a096779",
   "metadata": {
    "ExecuteTime": {
     "end_time": "2024-11-07T13:23:37.914623Z",
     "start_time": "2024-11-07T13:23:37.875987Z"
    }
   },
   "source": [
    "from pprint import pprint\n",
    "\n",
    "import pandas as pd\n",
    "from sklearn.preprocessing import LabelEncoder\n",
    "\n",
    "from storesales.baseline.sales_predictor import SalesPredictor\n",
    "from storesales.light_gbm.lgb_tuner.lgb_model_tuner import LightGBMModelTuner\n",
    "from storesales.light_gbm.fit_evaluate.evaluate_models import evaluate\n",
    "from storesales.light_gbm.feature_engineering.ts_fresh_features import (\n",
    "    make_roll,\n",
    "    make_roll_features,\n",
    ")\n",
    "from storesales.light_gbm.dataset import make_dataset\n",
    "from storesales.light_gbm.preprocessing import preprocess\n",
    "from storesales.light_gbm.utils import (\n",
    "    save_submission,\n",
    "    make_submission_predictions,\n",
    "    make_submission_forecast_plot,\n",
    "    load_oil,\n",
    ")\n",
    "from storesales.constants import (\n",
    "    EXTERNAL_TRAIN_PATH,\n",
    "    EXTERNAL_TEST_PATH,\n",
    "    EXTERNAL_OIL_PATH,\n",
    "    TEST_DATE_RANGE,\n",
    "    EXTERNAL_STORES_PATH,\n",
    ")"
   ],
   "outputs": [],
   "execution_count": 114
  },
  {
   "cell_type": "markdown",
   "id": "d606d34b933926f5",
   "metadata": {},
   "source": "## Load && Preprocess Data"
  },
  {
   "cell_type": "code",
   "execution_count": 58,
   "id": "7e1c3cb731b0f89d",
   "metadata": {
    "ExecuteTime": {
     "end_time": "2024-11-07T12:37:04.127320Z",
     "start_time": "2024-11-07T12:37:02.551033Z"
    }
   },
   "outputs": [],
   "source": [
    "train_df = pd.read_csv(EXTERNAL_TRAIN_PATH, parse_dates=[\"date\"])\n",
    "test_df = pd.read_csv(EXTERNAL_TEST_PATH, parse_dates=[\"date\"])\n",
    "stores_df = pd.read_csv(EXTERNAL_STORES_PATH)"
   ]
  },
  {
   "cell_type": "code",
   "id": "3aa4b758a26bacb7",
   "metadata": {
    "ExecuteTime": {
     "end_time": "2024-11-07T13:13:28.435535Z",
     "start_time": "2024-11-07T13:13:28.379191Z"
    }
   },
   "source": [
    "label_encoders = {\n",
    "    column: LabelEncoder().fit(stores_df[column])\n",
    "    for column in [\"city\", \"state\", \"type\"]\n",
    "}\n",
    "\n",
    "for column, le in label_encoders.items():\n",
    "    stores_df[column] = le.transform(stores_df[column])\n",
    "    \n",
    "stores_df.head()"
   ],
   "outputs": [
    {
     "data": {
      "text/plain": [
       "   store_nbr  city  state  type  cluster\n",
       "0          1    18     12     3       13\n",
       "1          2    18     12     3       13\n",
       "2          3    18     12     3        8\n",
       "3          4    18     12     3        9\n",
       "4          5    21     14     3        4"
      ],
      "text/html": [
       "<div>\n",
       "<style scoped>\n",
       "    .dataframe tbody tr th:only-of-type {\n",
       "        vertical-align: middle;\n",
       "    }\n",
       "\n",
       "    .dataframe tbody tr th {\n",
       "        vertical-align: top;\n",
       "    }\n",
       "\n",
       "    .dataframe thead th {\n",
       "        text-align: right;\n",
       "    }\n",
       "</style>\n",
       "<table border=\"1\" class=\"dataframe\">\n",
       "  <thead>\n",
       "    <tr style=\"text-align: right;\">\n",
       "      <th></th>\n",
       "      <th>store_nbr</th>\n",
       "      <th>city</th>\n",
       "      <th>state</th>\n",
       "      <th>type</th>\n",
       "      <th>cluster</th>\n",
       "    </tr>\n",
       "  </thead>\n",
       "  <tbody>\n",
       "    <tr>\n",
       "      <th>0</th>\n",
       "      <td>1</td>\n",
       "      <td>18</td>\n",
       "      <td>12</td>\n",
       "      <td>3</td>\n",
       "      <td>13</td>\n",
       "    </tr>\n",
       "    <tr>\n",
       "      <th>1</th>\n",
       "      <td>2</td>\n",
       "      <td>18</td>\n",
       "      <td>12</td>\n",
       "      <td>3</td>\n",
       "      <td>13</td>\n",
       "    </tr>\n",
       "    <tr>\n",
       "      <th>2</th>\n",
       "      <td>3</td>\n",
       "      <td>18</td>\n",
       "      <td>12</td>\n",
       "      <td>3</td>\n",
       "      <td>8</td>\n",
       "    </tr>\n",
       "    <tr>\n",
       "      <th>3</th>\n",
       "      <td>4</td>\n",
       "      <td>18</td>\n",
       "      <td>12</td>\n",
       "      <td>3</td>\n",
       "      <td>9</td>\n",
       "    </tr>\n",
       "    <tr>\n",
       "      <th>4</th>\n",
       "      <td>5</td>\n",
       "      <td>21</td>\n",
       "      <td>14</td>\n",
       "      <td>3</td>\n",
       "      <td>4</td>\n",
       "    </tr>\n",
       "  </tbody>\n",
       "</table>\n",
       "</div>"
      ]
     },
     "execution_count": 95,
     "metadata": {},
     "output_type": "execute_result"
    }
   ],
   "execution_count": 95
  },
  {
   "cell_type": "code",
   "execution_count": 4,
   "id": "c14e35e6bfe63652",
   "metadata": {
    "ExecuteTime": {
     "end_time": "2024-11-07T12:01:28.050822Z",
     "start_time": "2024-11-07T12:01:27.996204Z"
    }
   },
   "outputs": [],
   "source": [
    "oil_df = load_oil(EXTERNAL_OIL_PATH)"
   ]
  },
  {
   "cell_type": "code",
   "execution_count": 51,
   "id": "1b84b616242280b5",
   "metadata": {
    "ExecuteTime": {
     "end_time": "2024-11-07T12:19:29.928900Z",
     "start_time": "2024-11-07T12:19:21.739338Z"
    }
   },
   "outputs": [],
   "source": [
    "preprocessed_df = preprocess(train_df)"
   ]
  },
  {
   "cell_type": "code",
   "execution_count": 6,
   "id": "ce14eb86b39f108f",
   "metadata": {
    "ExecuteTime": {
     "end_time": "2024-11-07T12:01:36.299932Z",
     "start_time": "2024-11-07T12:01:36.105326Z"
    }
   },
   "outputs": [],
   "source": [
    "preprocessed_df.fillna(0, inplace=True)"
   ]
  },
  {
   "cell_type": "markdown",
   "id": "d426b4f35764309b",
   "metadata": {},
   "source": "## Prepare Data Before Making Series"
  },
  {
   "cell_type": "code",
   "execution_count": 7,
   "id": "aabb4864c8c0f56a",
   "metadata": {
    "ExecuteTime": {
     "end_time": "2024-11-07T12:01:36.410016Z",
     "start_time": "2024-11-07T12:01:36.301299Z"
    }
   },
   "outputs": [],
   "source": [
    "families = [\"EGGS\", \"DAIRY\"]\n",
    "# families = [\"EGGS\"]\n",
    "\n",
    "train_columns = [\"date\", \"sales\", \"onpromotion\", \"store_nbr\", \"family\"]\n",
    "\n",
    "train_test_df = pd.concat([preprocessed_df, test_df], axis=0, ignore_index=True)\n",
    "train_data = train_test_df[train_test_df[\"family\"].isin(families)][train_columns].copy()"
   ]
  },
  {
   "cell_type": "code",
   "execution_count": 8,
   "id": "426a2b882db80a2d",
   "metadata": {
    "ExecuteTime": {
     "end_time": "2024-11-07T12:01:36.462006Z",
     "start_time": "2024-11-07T12:01:36.411175Z"
    }
   },
   "outputs": [],
   "source": [
    "train_data = train_data.merge(oil_df, left_on=\"date\", right_index=True, how=\"left\")"
   ]
  },
  {
   "cell_type": "markdown",
   "id": "7de256f3b1ee42dc",
   "metadata": {},
   "source": "### Ensure that I have enough data to get lags"
  },
  {
   "cell_type": "code",
   "execution_count": 9,
   "id": "9fe123db75af879f",
   "metadata": {
    "ExecuteTime": {
     "end_time": "2024-11-07T12:01:36.510633Z",
     "start_time": "2024-11-07T12:01:36.463277Z"
    }
   },
   "outputs": [],
   "source": [
    "threshold_date = pd.Timestamp(\"2017-04-01\")"
   ]
  },
  {
   "cell_type": "code",
   "execution_count": 10,
   "id": "7ddd4a6216b69c8f",
   "metadata": {
    "ExecuteTime": {
     "end_time": "2024-11-07T12:01:36.568763Z",
     "start_time": "2024-11-07T12:01:36.512296Z"
    }
   },
   "outputs": [],
   "source": [
    "min_dates = train_data.groupby([\"family\", \"store_nbr\"])[\"date\"].min().reset_index()\n",
    "lgb_groups = min_dates[min_dates[\"date\"] <= threshold_date]"
   ]
  },
  {
   "cell_type": "code",
   "execution_count": 11,
   "id": "ac7180b3bcec5b5b",
   "metadata": {
    "ExecuteTime": {
     "end_time": "2024-11-07T12:01:36.640082Z",
     "start_time": "2024-11-07T12:01:36.571209Z"
    }
   },
   "outputs": [],
   "source": [
    "lgb_train_data = pd.merge(\n",
    "    train_data,\n",
    "    lgb_groups[[\"family\", \"store_nbr\"]],\n",
    "    on=[\"family\", \"store_nbr\"],\n",
    "    how=\"inner\",\n",
    ")"
   ]
  },
  {
   "cell_type": "markdown",
   "id": "f0c16cd41c56abf0",
   "metadata": {},
   "source": [
    "## Baseline Model\n",
    "Some store-family pairs do not have enough data to get lags. I will use baseline model for these pairs."
   ]
  },
  {
   "cell_type": "markdown",
   "id": "e3ba2a083fc2feec",
   "metadata": {},
   "source": "### Prepare Data"
  },
  {
   "cell_type": "code",
   "execution_count": 12,
   "id": "19bbd4539d9b8acc",
   "metadata": {
    "ExecuteTime": {
     "end_time": "2024-11-07T12:01:36.686570Z",
     "start_time": "2024-11-07T12:01:36.641185Z"
    }
   },
   "outputs": [],
   "source": [
    "baseline_groups = min_dates[min_dates[\"date\"] > threshold_date]"
   ]
  },
  {
   "cell_type": "code",
   "execution_count": 13,
   "id": "e1f35707fc442035",
   "metadata": {
    "ExecuteTime": {
     "end_time": "2024-11-07T12:01:36.758468Z",
     "start_time": "2024-11-07T12:01:36.687732Z"
    }
   },
   "outputs": [],
   "source": [
    "baseline_train_data = train_df.copy()\n",
    "baseline_test_data = test_df.copy()\n",
    "\n",
    "baseline_train_data.rename(columns={\"date\": \"ds\", \"sales\": \"y\"}, inplace=True)\n",
    "baseline_test_data.rename(columns={\"date\": \"ds\"}, inplace=True)"
   ]
  },
  {
   "cell_type": "markdown",
   "id": "4e7235a1ca07ae85",
   "metadata": {},
   "source": "### Load Model && Fit && Predict"
  },
  {
   "cell_type": "code",
   "execution_count": 14,
   "id": "64eb8bc83f4bdc19",
   "metadata": {
    "ExecuteTime": {
     "end_time": "2024-11-07T12:01:36.809157Z",
     "start_time": "2024-11-07T12:01:36.759483Z"
    }
   },
   "outputs": [],
   "source": [
    "model_name = \"daily_predictor.pkl\"\n",
    "baseline_predictor = SalesPredictor.load(model_name)"
   ]
  },
  {
   "cell_type": "code",
   "execution_count": 15,
   "id": "fd0a58614ca2bad",
   "metadata": {
    "ExecuteTime": {
     "end_time": "2024-11-07T12:01:39.776535Z",
     "start_time": "2024-11-07T12:01:36.810469Z"
    }
   },
   "outputs": [
    {
     "name": "stderr",
     "output_type": "stream",
     "text": [
      "100%|██████████| 1782/1782 [00:00<00:00, 2049.75it/s]\n"
     ]
    }
   ],
   "source": [
    "baseline_predictor.fit(baseline_train_data)"
   ]
  },
  {
   "cell_type": "code",
   "execution_count": 16,
   "id": "457dd9e38eac9863",
   "metadata": {
    "ExecuteTime": {
     "end_time": "2024-11-07T12:01:40.417Z",
     "start_time": "2024-11-07T12:01:39.778084Z"
    }
   },
   "outputs": [
    {
     "name": "stderr",
     "output_type": "stream",
     "text": [
      "100%|██████████| 1782/1782 [00:00<00:00, 3937.68it/s]\n"
     ]
    }
   ],
   "source": [
    "baseline_prediction = baseline_predictor.predict(baseline_test_data)"
   ]
  },
  {
   "cell_type": "markdown",
   "id": "ea28407e050753d4",
   "metadata": {},
   "source": "### Load Baseline Evaluation Loss"
  },
  {
   "cell_type": "code",
   "execution_count": 17,
   "id": "7fbab14163c03d08",
   "metadata": {
    "ExecuteTime": {
     "end_time": "2024-11-07T12:01:40.495090Z",
     "start_time": "2024-11-07T12:01:40.418898Z"
    }
   },
   "outputs": [],
   "source": [
    "predictor_eval_loss_df = pd.read_csv(\n",
    "    baseline_predictor.eval_loss_csv, index_col=[\"family\", \"store_nbr\"]\n",
    ")\n",
    "\n",
    "baseline_loss_ids = pd.MultiIndex.from_frame(baseline_groups[[\"family\", \"store_nbr\"]])\n",
    "baseline_loss_df = predictor_eval_loss_df.loc[baseline_loss_ids]"
   ]
  },
  {
   "cell_type": "markdown",
   "id": "2389ed5ba0d8a7e3",
   "metadata": {},
   "source": [
    "## Rolling Features\n",
    "### Make Rolls"
   ]
  },
  {
   "cell_type": "code",
   "execution_count": 18,
   "id": "30e65db720d0a4a0",
   "metadata": {
    "ExecuteTime": {
     "end_time": "2024-11-07T12:01:40.530768Z",
     "start_time": "2024-11-07T12:01:40.496334Z"
    }
   },
   "outputs": [],
   "source": [
    "rolls_threshold_date = pd.Timestamp(\"2014-02-01\")\n",
    "timeshift = 7"
   ]
  },
  {
   "cell_type": "code",
   "execution_count": 19,
   "id": "9d8f05e358cf0d4f",
   "metadata": {
    "ExecuteTime": {
     "end_time": "2024-11-07T12:01:40.584066Z",
     "start_time": "2024-11-07T12:01:40.532491Z"
    }
   },
   "outputs": [],
   "source": [
    "lgb_rolls_data = lgb_train_data[lgb_train_data[\"date\"] >= rolls_threshold_date].copy()\n",
    "lgb_rolls_data.fillna(0, inplace=True)  # fill test period sales"
   ]
  },
  {
   "cell_type": "code",
   "execution_count": 20,
   "id": "fe85e3d3f46a5fb4",
   "metadata": {
    "ExecuteTime": {
     "end_time": "2024-11-07T12:02:14.618433Z",
     "start_time": "2024-11-07T12:01:41.095771Z"
    }
   },
   "outputs": [
    {
     "name": "stderr",
     "output_type": "stream",
     "text": [
      "Rolling: 100%|██████████| 30/30 [00:28<00:00,  1.05it/s]\n"
     ]
    }
   ],
   "source": [
    "all_train_rolls = make_roll(lgb_rolls_data, timeshift)"
   ]
  },
  {
   "cell_type": "markdown",
   "id": "84d60ed9c0c383b6",
   "metadata": {},
   "source": "### Make Features"
  },
  {
   "cell_type": "code",
   "execution_count": 21,
   "id": "e2af5ddcdc25d076",
   "metadata": {
    "ExecuteTime": {
     "end_time": "2024-11-07T12:04:30.784002Z",
     "start_time": "2024-11-07T12:02:14.620639Z"
    }
   },
   "outputs": [
    {
     "name": "stderr",
     "output_type": "stream",
     "text": [
      "Feature Extraction: 100%|██████████| 30/30 [02:05<00:00,  4.19s/it]\n"
     ]
    }
   ],
   "source": [
    "train_featured = make_roll_features(all_train_rolls)"
   ]
  },
  {
   "cell_type": "code",
   "execution_count": 22,
   "id": "df5ce3f980063f82",
   "metadata": {
    "ExecuteTime": {
     "end_time": "2024-11-07T12:04:30.854305Z",
     "start_time": "2024-11-07T12:04:30.785147Z"
    }
   },
   "outputs": [],
   "source": [
    "cols_to_drop = [\n",
    "    col for col in train_featured if \"length\" in col or \"absolute_maximum\" in col\n",
    "]\n",
    "train_featured.drop(cols_to_drop, axis=1, inplace=True)"
   ]
  },
  {
   "cell_type": "code",
   "execution_count": 23,
   "id": "7f5019c88b569e1c",
   "metadata": {
    "ExecuteTime": {
     "end_time": "2024-11-07T12:04:30.903880Z",
     "start_time": "2024-11-07T12:04:30.856006Z"
    }
   },
   "outputs": [
    {
     "data": {
      "text/html": [
       "<div>\n",
       "<style scoped>\n",
       "    .dataframe tbody tr th:only-of-type {\n",
       "        vertical-align: middle;\n",
       "    }\n",
       "\n",
       "    .dataframe tbody tr th {\n",
       "        vertical-align: top;\n",
       "    }\n",
       "\n",
       "    .dataframe thead th {\n",
       "        text-align: right;\n",
       "    }\n",
       "</style>\n",
       "<table border=\"1\" class=\"dataframe\">\n",
       "  <thead>\n",
       "    <tr style=\"text-align: right;\">\n",
       "      <th></th>\n",
       "      <th>date</th>\n",
       "      <th>sales__sum_values</th>\n",
       "      <th>sales__median</th>\n",
       "      <th>sales__mean</th>\n",
       "      <th>sales__standard_deviation</th>\n",
       "      <th>sales__variance</th>\n",
       "      <th>sales__root_mean_square</th>\n",
       "      <th>sales__maximum</th>\n",
       "      <th>sales__minimum</th>\n",
       "      <th>onpromotion__sum_values</th>\n",
       "      <th>...</th>\n",
       "      <th>dcoilwtico__sum_values</th>\n",
       "      <th>dcoilwtico__median</th>\n",
       "      <th>dcoilwtico__mean</th>\n",
       "      <th>dcoilwtico__standard_deviation</th>\n",
       "      <th>dcoilwtico__variance</th>\n",
       "      <th>dcoilwtico__root_mean_square</th>\n",
       "      <th>dcoilwtico__maximum</th>\n",
       "      <th>dcoilwtico__minimum</th>\n",
       "      <th>store_nbr</th>\n",
       "      <th>family</th>\n",
       "    </tr>\n",
       "  </thead>\n",
       "  <tbody>\n",
       "    <tr>\n",
       "      <th>0</th>\n",
       "      <td>2014-02-08</td>\n",
       "      <td>4821.0</td>\n",
       "      <td>620.5</td>\n",
       "      <td>602.625</td>\n",
       "      <td>135.870285</td>\n",
       "      <td>18460.734375</td>\n",
       "      <td>617.752074</td>\n",
       "      <td>716.0</td>\n",
       "      <td>271.0</td>\n",
       "      <td>0.0</td>\n",
       "      <td>...</td>\n",
       "      <td>783.98</td>\n",
       "      <td>97.550</td>\n",
       "      <td>97.99750</td>\n",
       "      <td>1.206366</td>\n",
       "      <td>1.455319</td>\n",
       "      <td>98.004925</td>\n",
       "      <td>99.98</td>\n",
       "      <td>96.44</td>\n",
       "      <td>1</td>\n",
       "      <td>DAIRY</td>\n",
       "    </tr>\n",
       "    <tr>\n",
       "      <th>1</th>\n",
       "      <td>2014-02-09</td>\n",
       "      <td>4383.0</td>\n",
       "      <td>601.5</td>\n",
       "      <td>547.875</td>\n",
       "      <td>164.405320</td>\n",
       "      <td>27029.109375</td>\n",
       "      <td>572.010599</td>\n",
       "      <td>715.0</td>\n",
       "      <td>271.0</td>\n",
       "      <td>0.0</td>\n",
       "      <td>...</td>\n",
       "      <td>786.41</td>\n",
       "      <td>97.695</td>\n",
       "      <td>98.30125</td>\n",
       "      <td>1.352520</td>\n",
       "      <td>1.829311</td>\n",
       "      <td>98.310554</td>\n",
       "      <td>99.98</td>\n",
       "      <td>96.44</td>\n",
       "      <td>1</td>\n",
       "      <td>DAIRY</td>\n",
       "    </tr>\n",
       "    <tr>\n",
       "      <th>2</th>\n",
       "      <td>2014-02-10</td>\n",
       "      <td>4783.0</td>\n",
       "      <td>620.5</td>\n",
       "      <td>597.875</td>\n",
       "      <td>129.775226</td>\n",
       "      <td>16841.609375</td>\n",
       "      <td>611.797454</td>\n",
       "      <td>715.0</td>\n",
       "      <td>278.0</td>\n",
       "      <td>0.0</td>\n",
       "      <td>...</td>\n",
       "      <td>788.98</td>\n",
       "      <td>98.910</td>\n",
       "      <td>98.62250</td>\n",
       "      <td>1.438417</td>\n",
       "      <td>2.069044</td>\n",
       "      <td>98.632989</td>\n",
       "      <td>100.12</td>\n",
       "      <td>96.44</td>\n",
       "      <td>1</td>\n",
       "      <td>DAIRY</td>\n",
       "    </tr>\n",
       "    <tr>\n",
       "      <th>3</th>\n",
       "      <td>2014-02-11</td>\n",
       "      <td>4797.0</td>\n",
       "      <td>627.5</td>\n",
       "      <td>599.625</td>\n",
       "      <td>130.249700</td>\n",
       "      <td>16964.984375</td>\n",
       "      <td>613.608283</td>\n",
       "      <td>715.0</td>\n",
       "      <td>278.0</td>\n",
       "      <td>0.0</td>\n",
       "      <td>...</td>\n",
       "      <td>792.50</td>\n",
       "      <td>99.970</td>\n",
       "      <td>99.06250</td>\n",
       "      <td>1.226232</td>\n",
       "      <td>1.503644</td>\n",
       "      <td>99.070089</td>\n",
       "      <td>100.12</td>\n",
       "      <td>97.24</td>\n",
       "      <td>1</td>\n",
       "      <td>DAIRY</td>\n",
       "    </tr>\n",
       "    <tr>\n",
       "      <th>4</th>\n",
       "      <td>2014-02-12</td>\n",
       "      <td>4999.0</td>\n",
       "      <td>656.0</td>\n",
       "      <td>624.875</td>\n",
       "      <td>148.841726</td>\n",
       "      <td>22153.859375</td>\n",
       "      <td>642.357085</td>\n",
       "      <td>816.0</td>\n",
       "      <td>278.0</td>\n",
       "      <td>0.0</td>\n",
       "      <td>...</td>\n",
       "      <td>795.64</td>\n",
       "      <td>99.980</td>\n",
       "      <td>99.45500</td>\n",
       "      <td>1.073021</td>\n",
       "      <td>1.151375</td>\n",
       "      <td>99.460788</td>\n",
       "      <td>100.38</td>\n",
       "      <td>97.40</td>\n",
       "      <td>1</td>\n",
       "      <td>DAIRY</td>\n",
       "    </tr>\n",
       "  </tbody>\n",
       "</table>\n",
       "<p>5 rows × 27 columns</p>\n",
       "</div>"
      ],
      "text/plain": [
       "        date  sales__sum_values  sales__median  sales__mean  \\\n",
       "0 2014-02-08             4821.0          620.5      602.625   \n",
       "1 2014-02-09             4383.0          601.5      547.875   \n",
       "2 2014-02-10             4783.0          620.5      597.875   \n",
       "3 2014-02-11             4797.0          627.5      599.625   \n",
       "4 2014-02-12             4999.0          656.0      624.875   \n",
       "\n",
       "   sales__standard_deviation  sales__variance  sales__root_mean_square  \\\n",
       "0                 135.870285     18460.734375               617.752074   \n",
       "1                 164.405320     27029.109375               572.010599   \n",
       "2                 129.775226     16841.609375               611.797454   \n",
       "3                 130.249700     16964.984375               613.608283   \n",
       "4                 148.841726     22153.859375               642.357085   \n",
       "\n",
       "   sales__maximum  sales__minimum  onpromotion__sum_values  ...  \\\n",
       "0           716.0           271.0                      0.0  ...   \n",
       "1           715.0           271.0                      0.0  ...   \n",
       "2           715.0           278.0                      0.0  ...   \n",
       "3           715.0           278.0                      0.0  ...   \n",
       "4           816.0           278.0                      0.0  ...   \n",
       "\n",
       "   dcoilwtico__sum_values  dcoilwtico__median  dcoilwtico__mean  \\\n",
       "0                  783.98              97.550          97.99750   \n",
       "1                  786.41              97.695          98.30125   \n",
       "2                  788.98              98.910          98.62250   \n",
       "3                  792.50              99.970          99.06250   \n",
       "4                  795.64              99.980          99.45500   \n",
       "\n",
       "   dcoilwtico__standard_deviation  dcoilwtico__variance  \\\n",
       "0                        1.206366              1.455319   \n",
       "1                        1.352520              1.829311   \n",
       "2                        1.438417              2.069044   \n",
       "3                        1.226232              1.503644   \n",
       "4                        1.073021              1.151375   \n",
       "\n",
       "   dcoilwtico__root_mean_square  dcoilwtico__maximum  dcoilwtico__minimum  \\\n",
       "0                     98.004925                99.98                96.44   \n",
       "1                     98.310554                99.98                96.44   \n",
       "2                     98.632989               100.12                96.44   \n",
       "3                     99.070089               100.12                97.24   \n",
       "4                     99.460788               100.38                97.40   \n",
       "\n",
       "   store_nbr  family  \n",
       "0          1   DAIRY  \n",
       "1          1   DAIRY  \n",
       "2          1   DAIRY  \n",
       "3          1   DAIRY  \n",
       "4          1   DAIRY  \n",
       "\n",
       "[5 rows x 27 columns]"
      ]
     },
     "execution_count": 23,
     "metadata": {},
     "output_type": "execute_result"
    }
   ],
   "source": [
    "train_featured.head()"
   ]
  },
  {
   "cell_type": "code",
   "id": "62bdce40c882ce4a",
   "metadata": {
    "ExecuteTime": {
     "end_time": "2024-11-07T13:02:23.341801Z",
     "start_time": "2024-11-07T13:02:22.968342Z"
    }
   },
   "source": [
    "train_featured_date_dt = train_featured[\"date\"].dt\n",
    "\n",
    "date_features_names = [\n",
    "    \"day\",\n",
    "    \"month\",\n",
    "    \"year\",\n",
    "    \"day_of_week\",\n",
    "    \"day_of_year\",\n",
    "]\n",
    "\n",
    "train_featured[\"day\"] = train_featured_date_dt.day\n",
    "train_featured[\"month\"] = train_featured_date_dt.month\n",
    "train_featured[\"year\"] = train_featured_date_dt.year\n",
    "train_featured[\"day_of_week\"] = train_featured_date_dt.dayofweek\n",
    "train_featured[\"day_of_year\"] = train_featured_date_dt.dayofyear"
   ],
   "outputs": [],
   "execution_count": 75
  },
  {
   "cell_type": "markdown",
   "id": "3a5efd48f8f440d4",
   "metadata": {},
   "source": "## Prepare Series"
  },
  {
   "cell_type": "code",
   "id": "7cea83497c80a381",
   "metadata": {
    "ExecuteTime": {
     "end_time": "2024-11-07T13:13:44.357802Z",
     "start_time": "2024-11-07T13:13:44.297136Z"
    }
   },
   "source": [
    "series_data = pd.merge(lgb_train_data, stores_df, on=\"store_nbr\", how=\"left\")"
   ],
   "outputs": [],
   "execution_count": 96
  },
  {
   "metadata": {
    "ExecuteTime": {
     "end_time": "2024-11-07T13:11:02.943946Z",
     "start_time": "2024-11-07T13:11:02.877864Z"
    }
   },
   "cell_type": "code",
   "source": "series_data.head()",
   "id": "b659f297e98f7007",
   "outputs": [
    {
     "data": {
      "text/plain": [
       "        date  sales  onpromotion  store_nbr family  dcoilwtico   city  \\\n",
       "0 2013-01-02  579.0          0.0          1  DAIRY       93.14  Quito   \n",
       "1 2013-01-03  453.0          0.0          1  DAIRY       92.97  Quito   \n",
       "2 2013-01-04  460.0          0.0          1  DAIRY       93.12  Quito   \n",
       "3 2013-01-05  464.0          0.0          1  DAIRY       93.12  Quito   \n",
       "4 2013-01-06  212.0          0.0          1  DAIRY       93.12  Quito   \n",
       "\n",
       "       state type  cluster  \n",
       "0  Pichincha    D       13  \n",
       "1  Pichincha    D       13  \n",
       "2  Pichincha    D       13  \n",
       "3  Pichincha    D       13  \n",
       "4  Pichincha    D       13  "
      ],
      "text/html": [
       "<div>\n",
       "<style scoped>\n",
       "    .dataframe tbody tr th:only-of-type {\n",
       "        vertical-align: middle;\n",
       "    }\n",
       "\n",
       "    .dataframe tbody tr th {\n",
       "        vertical-align: top;\n",
       "    }\n",
       "\n",
       "    .dataframe thead th {\n",
       "        text-align: right;\n",
       "    }\n",
       "</style>\n",
       "<table border=\"1\" class=\"dataframe\">\n",
       "  <thead>\n",
       "    <tr style=\"text-align: right;\">\n",
       "      <th></th>\n",
       "      <th>date</th>\n",
       "      <th>sales</th>\n",
       "      <th>onpromotion</th>\n",
       "      <th>store_nbr</th>\n",
       "      <th>family</th>\n",
       "      <th>dcoilwtico</th>\n",
       "      <th>city</th>\n",
       "      <th>state</th>\n",
       "      <th>type</th>\n",
       "      <th>cluster</th>\n",
       "    </tr>\n",
       "  </thead>\n",
       "  <tbody>\n",
       "    <tr>\n",
       "      <th>0</th>\n",
       "      <td>2013-01-02</td>\n",
       "      <td>579.0</td>\n",
       "      <td>0.0</td>\n",
       "      <td>1</td>\n",
       "      <td>DAIRY</td>\n",
       "      <td>93.14</td>\n",
       "      <td>Quito</td>\n",
       "      <td>Pichincha</td>\n",
       "      <td>D</td>\n",
       "      <td>13</td>\n",
       "    </tr>\n",
       "    <tr>\n",
       "      <th>1</th>\n",
       "      <td>2013-01-03</td>\n",
       "      <td>453.0</td>\n",
       "      <td>0.0</td>\n",
       "      <td>1</td>\n",
       "      <td>DAIRY</td>\n",
       "      <td>92.97</td>\n",
       "      <td>Quito</td>\n",
       "      <td>Pichincha</td>\n",
       "      <td>D</td>\n",
       "      <td>13</td>\n",
       "    </tr>\n",
       "    <tr>\n",
       "      <th>2</th>\n",
       "      <td>2013-01-04</td>\n",
       "      <td>460.0</td>\n",
       "      <td>0.0</td>\n",
       "      <td>1</td>\n",
       "      <td>DAIRY</td>\n",
       "      <td>93.12</td>\n",
       "      <td>Quito</td>\n",
       "      <td>Pichincha</td>\n",
       "      <td>D</td>\n",
       "      <td>13</td>\n",
       "    </tr>\n",
       "    <tr>\n",
       "      <th>3</th>\n",
       "      <td>2013-01-05</td>\n",
       "      <td>464.0</td>\n",
       "      <td>0.0</td>\n",
       "      <td>1</td>\n",
       "      <td>DAIRY</td>\n",
       "      <td>93.12</td>\n",
       "      <td>Quito</td>\n",
       "      <td>Pichincha</td>\n",
       "      <td>D</td>\n",
       "      <td>13</td>\n",
       "    </tr>\n",
       "    <tr>\n",
       "      <th>4</th>\n",
       "      <td>2013-01-06</td>\n",
       "      <td>212.0</td>\n",
       "      <td>0.0</td>\n",
       "      <td>1</td>\n",
       "      <td>DAIRY</td>\n",
       "      <td>93.12</td>\n",
       "      <td>Quito</td>\n",
       "      <td>Pichincha</td>\n",
       "      <td>D</td>\n",
       "      <td>13</td>\n",
       "    </tr>\n",
       "  </tbody>\n",
       "</table>\n",
       "</div>"
      ]
     },
     "execution_count": 92,
     "metadata": {},
     "output_type": "execute_result"
    }
   ],
   "execution_count": 92
  },
  {
   "cell_type": "code",
   "id": "4bc7d24c3cc0234d",
   "metadata": {
    "ExecuteTime": {
     "end_time": "2024-11-07T13:13:46.066428Z",
     "start_time": "2024-11-07T13:13:46.024967Z"
    }
   },
   "source": [
    "sales_cols = [col for col in train_featured.columns if \"sales\" in col]\n",
    "onpromotion_cols = [col for col in train_featured.columns if \"onpromotion\" in col]\n",
    "oil_cols = [col for col in train_featured.columns if \"dcoilwtico\" in col]\n",
    "\n",
    "future_cols = onpromotion_cols + oil_cols + date_features_names\n",
    "past_cols = sales_cols\n",
    "static_cols = [\"city\", \"state\", \"type\", \"cluster\"]"
   ],
   "outputs": [],
   "execution_count": 97
  },
  {
   "cell_type": "code",
   "id": "df081fa344eee68c",
   "metadata": {
    "ExecuteTime": {
     "end_time": "2024-11-07T13:13:47.786478Z",
     "start_time": "2024-11-07T13:13:46.411011Z"
    }
   },
   "source": [
    "dataset = make_dataset(\n",
    "    df=series_data,\n",
    "    featured_df=train_featured,\n",
    "    static_cols=static_cols,\n",
    "    future_cols=future_cols,\n",
    "    past_cols=past_cols,\n",
    ")"
   ],
   "outputs": [],
   "execution_count": 98
  },
  {
   "cell_type": "code",
   "id": "26d1ddc4bcc30121",
   "metadata": {
    "ExecuteTime": {
     "end_time": "2024-11-07T13:06:38.146976Z",
     "start_time": "2024-11-07T13:06:38.105123Z"
    }
   },
   "source": "dataset[\"EGGS\"].past_covariates[0].components",
   "outputs": [
    {
     "data": {
      "text/plain": [
       "Index(['sales__sum_values', 'sales__median', 'sales__mean',\n",
       "       'sales__standard_deviation', 'sales__variance',\n",
       "       'sales__root_mean_square', 'sales__maximum', 'sales__minimum'],\n",
       "      dtype='object', name='component')"
      ]
     },
     "execution_count": 88,
     "metadata": {},
     "output_type": "execute_result"
    }
   ],
   "execution_count": 88
  },
  {
   "cell_type": "markdown",
   "id": "6151e529dbad3e2e",
   "metadata": {},
   "source": [
    "## Tune && Eval LightGBM Models\n",
    "### Tune Models"
   ]
  },
  {
   "cell_type": "code",
   "id": "b855ef06be33e237",
   "metadata": {
    "ExecuteTime": {
     "end_time": "2024-11-07T13:13:49.823362Z",
     "start_time": "2024-11-07T13:13:49.785943Z"
    }
   },
   "source": [
    "import optuna\n",
    "\n",
    "optuna.logging.set_verbosity(optuna.logging.WARNING)"
   ],
   "outputs": [],
   "execution_count": 99
  },
  {
   "cell_type": "code",
   "id": "e678f426fe55e678",
   "metadata": {
    "ExecuteTime": {
     "end_time": "2024-11-07T13:13:50.350712Z",
     "start_time": "2024-11-07T13:13:50.314608Z"
    }
   },
   "source": [
    "tuner = LightGBMModelTuner(dataset=dataset, families=families)"
   ],
   "outputs": [],
   "execution_count": 100
  },
  {
   "cell_type": "code",
   "id": "ecb0f1ecd78bb948",
   "metadata": {
    "ExecuteTime": {
     "end_time": "2024-11-07T13:16:48.921245Z",
     "start_time": "2024-11-07T13:13:50.845587Z"
    }
   },
   "source": "tuner.run_parallel_tune(eval_stride=5, n_trials=5)",
   "outputs": [
    {
     "name": "stderr",
     "output_type": "stream",
     "text": [
      "Best trial: 1. Best value: 0.315191: 100%|██████████| 5/5 [01:38<00:00, 19.65s/it]\n"
     ]
    }
   ],
   "execution_count": 101
  },
  {
   "cell_type": "code",
   "id": "e4c9bfbfa2163b5c",
   "metadata": {
    "ExecuteTime": {
     "end_time": "2024-11-07T13:18:07.249416Z",
     "start_time": "2024-11-07T13:16:48.924045Z"
    }
   },
   "source": [
    "best_lgb_models = tuner.fit_best()"
   ],
   "outputs": [],
   "execution_count": 102
  },
  {
   "cell_type": "markdown",
   "id": "dd747cf117e031c0",
   "metadata": {},
   "source": "### Evaluate Models"
  },
  {
   "cell_type": "code",
   "id": "d3d11f986b7d8d1",
   "metadata": {
    "ExecuteTime": {
     "end_time": "2024-11-07T13:18:40.984125Z",
     "start_time": "2024-11-07T13:18:07.250649Z"
    }
   },
   "source": [
    "eval_family_losses = evaluate(\n",
    "    dataset=dataset,\n",
    "    evaluate_range=TEST_DATE_RANGE,\n",
    "    models=best_lgb_models,\n",
    "    stride=1,\n",
    "    parallel=True,\n",
    ")"
   ],
   "outputs": [],
   "execution_count": 103
  },
  {
   "cell_type": "markdown",
   "id": "9d4db957b78bcbdd",
   "metadata": {},
   "source": "### Compare with Baseline"
  },
  {
   "cell_type": "code",
   "id": "f603332d0f69b467",
   "metadata": {
    "ExecuteTime": {
     "end_time": "2024-11-07T13:18:41.035648Z",
     "start_time": "2024-11-07T13:18:40.987116Z"
    }
   },
   "source": [
    "total_lgb_loss = pd.concat([eval_family_losses, baseline_loss_df]).sort_index(\n",
    "    level=[\"family\", \"store_nbr\"]\n",
    ")"
   ],
   "outputs": [],
   "execution_count": 104
  },
  {
   "cell_type": "code",
   "id": "7731b2de2cf7097c",
   "metadata": {
    "ExecuteTime": {
     "end_time": "2024-11-07T13:18:41.084885Z",
     "start_time": "2024-11-07T13:18:41.037595Z"
    }
   },
   "source": [
    "grouped_loss = total_lgb_loss.groupby(\"family\").mean()\n",
    "lgb_series_loss = grouped_loss.mean(axis=1).rename(\"lgb_series_loss\")\n",
    "\n",
    "predictor_grouped_loss = predictor_eval_loss_df.groupby(\"family\").mean()\n",
    "baseline_series_loss = predictor_grouped_loss.mean(axis=1).rename(\"baseline_loss\")\n",
    "\n",
    "loss_df = pd.concat([lgb_series_loss, baseline_series_loss], axis=1)"
   ],
   "outputs": [],
   "execution_count": 105
  },
  {
   "metadata": {
    "ExecuteTime": {
     "end_time": "2024-11-07T13:18:41.133610Z",
     "start_time": "2024-11-07T13:18:41.086154Z"
    }
   },
   "cell_type": "code",
   "source": "loss_df",
   "id": "2b954b749f41a5c4",
   "outputs": [
    {
     "data": {
      "text/plain": [
       "                            lgb_series_loss  baseline_loss\n",
       "family                                                    \n",
       "DAIRY                              0.139888       0.246879\n",
       "EGGS                               0.283870       0.386635\n",
       "AUTOMOTIVE                              NaN       0.549853\n",
       "BABY CARE                               NaN       0.194055\n",
       "BEAUTY                                  NaN       0.574898\n",
       "BEVERAGES                               NaN       0.275564\n",
       "BOOKS                                   NaN       0.078480\n",
       "BREAD/BAKERY                            NaN       0.236766\n",
       "CELEBRATION                             NaN       0.595359\n",
       "CLEANING                                NaN       0.320998\n",
       "DELI                                    NaN       0.254749\n",
       "FROZEN FOODS                            NaN       0.399494\n",
       "GROCERY I                               NaN       0.241929\n",
       "GROCERY II                              NaN       0.569867\n",
       "HARDWARE                                NaN       0.546267\n",
       "HOME AND KITCHEN I                      NaN       0.543460\n",
       "HOME AND KITCHEN II                     NaN       0.481282\n",
       "HOME APPLIANCES                         NaN       0.418675\n",
       "HOME CARE                               NaN       0.291221\n",
       "LADIESWEAR                              NaN       0.501788\n",
       "LAWN AND GARDEN                         NaN       0.445791\n",
       "LINGERIE                                NaN       0.683757\n",
       "LIQUOR,WINE,BEER                        NaN       0.708146\n",
       "MAGAZINES                               NaN       0.538552\n",
       "MEATS                                   NaN       0.299842\n",
       "PERSONAL CARE                           NaN       0.328329\n",
       "PET SUPPLIES                            NaN       0.492025\n",
       "PLAYERS AND ELECTRONICS                 NaN       0.507187\n",
       "POULTRY                                 NaN       0.299499\n",
       "PREPARED FOODS                          NaN       0.301887\n",
       "PRODUCE                                 NaN       0.277055\n",
       "SCHOOL AND OFFICE SUPPLIES              NaN       0.644878\n",
       "SEAFOOD                                 NaN       0.550048"
      ],
      "text/html": [
       "<div>\n",
       "<style scoped>\n",
       "    .dataframe tbody tr th:only-of-type {\n",
       "        vertical-align: middle;\n",
       "    }\n",
       "\n",
       "    .dataframe tbody tr th {\n",
       "        vertical-align: top;\n",
       "    }\n",
       "\n",
       "    .dataframe thead th {\n",
       "        text-align: right;\n",
       "    }\n",
       "</style>\n",
       "<table border=\"1\" class=\"dataframe\">\n",
       "  <thead>\n",
       "    <tr style=\"text-align: right;\">\n",
       "      <th></th>\n",
       "      <th>lgb_series_loss</th>\n",
       "      <th>baseline_loss</th>\n",
       "    </tr>\n",
       "    <tr>\n",
       "      <th>family</th>\n",
       "      <th></th>\n",
       "      <th></th>\n",
       "    </tr>\n",
       "  </thead>\n",
       "  <tbody>\n",
       "    <tr>\n",
       "      <th>DAIRY</th>\n",
       "      <td>0.139888</td>\n",
       "      <td>0.246879</td>\n",
       "    </tr>\n",
       "    <tr>\n",
       "      <th>EGGS</th>\n",
       "      <td>0.283870</td>\n",
       "      <td>0.386635</td>\n",
       "    </tr>\n",
       "    <tr>\n",
       "      <th>AUTOMOTIVE</th>\n",
       "      <td>NaN</td>\n",
       "      <td>0.549853</td>\n",
       "    </tr>\n",
       "    <tr>\n",
       "      <th>BABY CARE</th>\n",
       "      <td>NaN</td>\n",
       "      <td>0.194055</td>\n",
       "    </tr>\n",
       "    <tr>\n",
       "      <th>BEAUTY</th>\n",
       "      <td>NaN</td>\n",
       "      <td>0.574898</td>\n",
       "    </tr>\n",
       "    <tr>\n",
       "      <th>BEVERAGES</th>\n",
       "      <td>NaN</td>\n",
       "      <td>0.275564</td>\n",
       "    </tr>\n",
       "    <tr>\n",
       "      <th>BOOKS</th>\n",
       "      <td>NaN</td>\n",
       "      <td>0.078480</td>\n",
       "    </tr>\n",
       "    <tr>\n",
       "      <th>BREAD/BAKERY</th>\n",
       "      <td>NaN</td>\n",
       "      <td>0.236766</td>\n",
       "    </tr>\n",
       "    <tr>\n",
       "      <th>CELEBRATION</th>\n",
       "      <td>NaN</td>\n",
       "      <td>0.595359</td>\n",
       "    </tr>\n",
       "    <tr>\n",
       "      <th>CLEANING</th>\n",
       "      <td>NaN</td>\n",
       "      <td>0.320998</td>\n",
       "    </tr>\n",
       "    <tr>\n",
       "      <th>DELI</th>\n",
       "      <td>NaN</td>\n",
       "      <td>0.254749</td>\n",
       "    </tr>\n",
       "    <tr>\n",
       "      <th>FROZEN FOODS</th>\n",
       "      <td>NaN</td>\n",
       "      <td>0.399494</td>\n",
       "    </tr>\n",
       "    <tr>\n",
       "      <th>GROCERY I</th>\n",
       "      <td>NaN</td>\n",
       "      <td>0.241929</td>\n",
       "    </tr>\n",
       "    <tr>\n",
       "      <th>GROCERY II</th>\n",
       "      <td>NaN</td>\n",
       "      <td>0.569867</td>\n",
       "    </tr>\n",
       "    <tr>\n",
       "      <th>HARDWARE</th>\n",
       "      <td>NaN</td>\n",
       "      <td>0.546267</td>\n",
       "    </tr>\n",
       "    <tr>\n",
       "      <th>HOME AND KITCHEN I</th>\n",
       "      <td>NaN</td>\n",
       "      <td>0.543460</td>\n",
       "    </tr>\n",
       "    <tr>\n",
       "      <th>HOME AND KITCHEN II</th>\n",
       "      <td>NaN</td>\n",
       "      <td>0.481282</td>\n",
       "    </tr>\n",
       "    <tr>\n",
       "      <th>HOME APPLIANCES</th>\n",
       "      <td>NaN</td>\n",
       "      <td>0.418675</td>\n",
       "    </tr>\n",
       "    <tr>\n",
       "      <th>HOME CARE</th>\n",
       "      <td>NaN</td>\n",
       "      <td>0.291221</td>\n",
       "    </tr>\n",
       "    <tr>\n",
       "      <th>LADIESWEAR</th>\n",
       "      <td>NaN</td>\n",
       "      <td>0.501788</td>\n",
       "    </tr>\n",
       "    <tr>\n",
       "      <th>LAWN AND GARDEN</th>\n",
       "      <td>NaN</td>\n",
       "      <td>0.445791</td>\n",
       "    </tr>\n",
       "    <tr>\n",
       "      <th>LINGERIE</th>\n",
       "      <td>NaN</td>\n",
       "      <td>0.683757</td>\n",
       "    </tr>\n",
       "    <tr>\n",
       "      <th>LIQUOR,WINE,BEER</th>\n",
       "      <td>NaN</td>\n",
       "      <td>0.708146</td>\n",
       "    </tr>\n",
       "    <tr>\n",
       "      <th>MAGAZINES</th>\n",
       "      <td>NaN</td>\n",
       "      <td>0.538552</td>\n",
       "    </tr>\n",
       "    <tr>\n",
       "      <th>MEATS</th>\n",
       "      <td>NaN</td>\n",
       "      <td>0.299842</td>\n",
       "    </tr>\n",
       "    <tr>\n",
       "      <th>PERSONAL CARE</th>\n",
       "      <td>NaN</td>\n",
       "      <td>0.328329</td>\n",
       "    </tr>\n",
       "    <tr>\n",
       "      <th>PET SUPPLIES</th>\n",
       "      <td>NaN</td>\n",
       "      <td>0.492025</td>\n",
       "    </tr>\n",
       "    <tr>\n",
       "      <th>PLAYERS AND ELECTRONICS</th>\n",
       "      <td>NaN</td>\n",
       "      <td>0.507187</td>\n",
       "    </tr>\n",
       "    <tr>\n",
       "      <th>POULTRY</th>\n",
       "      <td>NaN</td>\n",
       "      <td>0.299499</td>\n",
       "    </tr>\n",
       "    <tr>\n",
       "      <th>PREPARED FOODS</th>\n",
       "      <td>NaN</td>\n",
       "      <td>0.301887</td>\n",
       "    </tr>\n",
       "    <tr>\n",
       "      <th>PRODUCE</th>\n",
       "      <td>NaN</td>\n",
       "      <td>0.277055</td>\n",
       "    </tr>\n",
       "    <tr>\n",
       "      <th>SCHOOL AND OFFICE SUPPLIES</th>\n",
       "      <td>NaN</td>\n",
       "      <td>0.644878</td>\n",
       "    </tr>\n",
       "    <tr>\n",
       "      <th>SEAFOOD</th>\n",
       "      <td>NaN</td>\n",
       "      <td>0.550048</td>\n",
       "    </tr>\n",
       "  </tbody>\n",
       "</table>\n",
       "</div>"
      ]
     },
     "execution_count": 106,
     "metadata": {},
     "output_type": "execute_result"
    }
   ],
   "execution_count": 106
  },
  {
   "cell_type": "code",
   "execution_count": 35,
   "id": "7c4e45a56263ee6a",
   "metadata": {
    "ExecuteTime": {
     "end_time": "2024-11-07T12:12:43.102737Z",
     "start_time": "2024-11-07T12:12:43.021385Z"
    }
   },
   "outputs": [
    {
     "data": {
      "text/html": [
       "<div>\n",
       "<style scoped>\n",
       "    .dataframe tbody tr th:only-of-type {\n",
       "        vertical-align: middle;\n",
       "    }\n",
       "\n",
       "    .dataframe tbody tr th {\n",
       "        vertical-align: top;\n",
       "    }\n",
       "\n",
       "    .dataframe thead th {\n",
       "        text-align: right;\n",
       "    }\n",
       "</style>\n",
       "<table border=\"1\" class=\"dataframe\">\n",
       "  <thead>\n",
       "    <tr style=\"text-align: right;\">\n",
       "      <th></th>\n",
       "      <th>lgb_series_loss</th>\n",
       "      <th>baseline_loss</th>\n",
       "    </tr>\n",
       "    <tr>\n",
       "      <th>family</th>\n",
       "      <th></th>\n",
       "      <th></th>\n",
       "    </tr>\n",
       "  </thead>\n",
       "  <tbody>\n",
       "    <tr>\n",
       "      <th>DAIRY</th>\n",
       "      <td>0.153960</td>\n",
       "      <td>0.246879</td>\n",
       "    </tr>\n",
       "    <tr>\n",
       "      <th>EGGS</th>\n",
       "      <td>0.296108</td>\n",
       "      <td>0.386635</td>\n",
       "    </tr>\n",
       "    <tr>\n",
       "      <th>AUTOMOTIVE</th>\n",
       "      <td>NaN</td>\n",
       "      <td>0.549853</td>\n",
       "    </tr>\n",
       "    <tr>\n",
       "      <th>BABY CARE</th>\n",
       "      <td>NaN</td>\n",
       "      <td>0.194055</td>\n",
       "    </tr>\n",
       "    <tr>\n",
       "      <th>BEAUTY</th>\n",
       "      <td>NaN</td>\n",
       "      <td>0.574898</td>\n",
       "    </tr>\n",
       "    <tr>\n",
       "      <th>BEVERAGES</th>\n",
       "      <td>NaN</td>\n",
       "      <td>0.275564</td>\n",
       "    </tr>\n",
       "    <tr>\n",
       "      <th>BOOKS</th>\n",
       "      <td>NaN</td>\n",
       "      <td>0.078480</td>\n",
       "    </tr>\n",
       "    <tr>\n",
       "      <th>BREAD/BAKERY</th>\n",
       "      <td>NaN</td>\n",
       "      <td>0.236766</td>\n",
       "    </tr>\n",
       "    <tr>\n",
       "      <th>CELEBRATION</th>\n",
       "      <td>NaN</td>\n",
       "      <td>0.595359</td>\n",
       "    </tr>\n",
       "    <tr>\n",
       "      <th>CLEANING</th>\n",
       "      <td>NaN</td>\n",
       "      <td>0.320998</td>\n",
       "    </tr>\n",
       "    <tr>\n",
       "      <th>DELI</th>\n",
       "      <td>NaN</td>\n",
       "      <td>0.254749</td>\n",
       "    </tr>\n",
       "    <tr>\n",
       "      <th>FROZEN FOODS</th>\n",
       "      <td>NaN</td>\n",
       "      <td>0.399494</td>\n",
       "    </tr>\n",
       "    <tr>\n",
       "      <th>GROCERY I</th>\n",
       "      <td>NaN</td>\n",
       "      <td>0.241929</td>\n",
       "    </tr>\n",
       "    <tr>\n",
       "      <th>GROCERY II</th>\n",
       "      <td>NaN</td>\n",
       "      <td>0.569867</td>\n",
       "    </tr>\n",
       "    <tr>\n",
       "      <th>HARDWARE</th>\n",
       "      <td>NaN</td>\n",
       "      <td>0.546267</td>\n",
       "    </tr>\n",
       "    <tr>\n",
       "      <th>HOME AND KITCHEN I</th>\n",
       "      <td>NaN</td>\n",
       "      <td>0.543460</td>\n",
       "    </tr>\n",
       "    <tr>\n",
       "      <th>HOME AND KITCHEN II</th>\n",
       "      <td>NaN</td>\n",
       "      <td>0.481282</td>\n",
       "    </tr>\n",
       "    <tr>\n",
       "      <th>HOME APPLIANCES</th>\n",
       "      <td>NaN</td>\n",
       "      <td>0.418675</td>\n",
       "    </tr>\n",
       "    <tr>\n",
       "      <th>HOME CARE</th>\n",
       "      <td>NaN</td>\n",
       "      <td>0.291221</td>\n",
       "    </tr>\n",
       "    <tr>\n",
       "      <th>LADIESWEAR</th>\n",
       "      <td>NaN</td>\n",
       "      <td>0.501788</td>\n",
       "    </tr>\n",
       "    <tr>\n",
       "      <th>LAWN AND GARDEN</th>\n",
       "      <td>NaN</td>\n",
       "      <td>0.445791</td>\n",
       "    </tr>\n",
       "    <tr>\n",
       "      <th>LINGERIE</th>\n",
       "      <td>NaN</td>\n",
       "      <td>0.683757</td>\n",
       "    </tr>\n",
       "    <tr>\n",
       "      <th>LIQUOR,WINE,BEER</th>\n",
       "      <td>NaN</td>\n",
       "      <td>0.708146</td>\n",
       "    </tr>\n",
       "    <tr>\n",
       "      <th>MAGAZINES</th>\n",
       "      <td>NaN</td>\n",
       "      <td>0.538552</td>\n",
       "    </tr>\n",
       "    <tr>\n",
       "      <th>MEATS</th>\n",
       "      <td>NaN</td>\n",
       "      <td>0.299842</td>\n",
       "    </tr>\n",
       "    <tr>\n",
       "      <th>PERSONAL CARE</th>\n",
       "      <td>NaN</td>\n",
       "      <td>0.328329</td>\n",
       "    </tr>\n",
       "    <tr>\n",
       "      <th>PET SUPPLIES</th>\n",
       "      <td>NaN</td>\n",
       "      <td>0.492025</td>\n",
       "    </tr>\n",
       "    <tr>\n",
       "      <th>PLAYERS AND ELECTRONICS</th>\n",
       "      <td>NaN</td>\n",
       "      <td>0.507187</td>\n",
       "    </tr>\n",
       "    <tr>\n",
       "      <th>POULTRY</th>\n",
       "      <td>NaN</td>\n",
       "      <td>0.299499</td>\n",
       "    </tr>\n",
       "    <tr>\n",
       "      <th>PREPARED FOODS</th>\n",
       "      <td>NaN</td>\n",
       "      <td>0.301887</td>\n",
       "    </tr>\n",
       "    <tr>\n",
       "      <th>PRODUCE</th>\n",
       "      <td>NaN</td>\n",
       "      <td>0.277055</td>\n",
       "    </tr>\n",
       "    <tr>\n",
       "      <th>SCHOOL AND OFFICE SUPPLIES</th>\n",
       "      <td>NaN</td>\n",
       "      <td>0.644878</td>\n",
       "    </tr>\n",
       "    <tr>\n",
       "      <th>SEAFOOD</th>\n",
       "      <td>NaN</td>\n",
       "      <td>0.550048</td>\n",
       "    </tr>\n",
       "  </tbody>\n",
       "</table>\n",
       "</div>"
      ],
      "text/plain": [
       "                            lgb_series_loss  baseline_loss\n",
       "family                                                    \n",
       "DAIRY                              0.153960       0.246879\n",
       "EGGS                               0.296108       0.386635\n",
       "AUTOMOTIVE                              NaN       0.549853\n",
       "BABY CARE                               NaN       0.194055\n",
       "BEAUTY                                  NaN       0.574898\n",
       "BEVERAGES                               NaN       0.275564\n",
       "BOOKS                                   NaN       0.078480\n",
       "BREAD/BAKERY                            NaN       0.236766\n",
       "CELEBRATION                             NaN       0.595359\n",
       "CLEANING                                NaN       0.320998\n",
       "DELI                                    NaN       0.254749\n",
       "FROZEN FOODS                            NaN       0.399494\n",
       "GROCERY I                               NaN       0.241929\n",
       "GROCERY II                              NaN       0.569867\n",
       "HARDWARE                                NaN       0.546267\n",
       "HOME AND KITCHEN I                      NaN       0.543460\n",
       "HOME AND KITCHEN II                     NaN       0.481282\n",
       "HOME APPLIANCES                         NaN       0.418675\n",
       "HOME CARE                               NaN       0.291221\n",
       "LADIESWEAR                              NaN       0.501788\n",
       "LAWN AND GARDEN                         NaN       0.445791\n",
       "LINGERIE                                NaN       0.683757\n",
       "LIQUOR,WINE,BEER                        NaN       0.708146\n",
       "MAGAZINES                               NaN       0.538552\n",
       "MEATS                                   NaN       0.299842\n",
       "PERSONAL CARE                           NaN       0.328329\n",
       "PET SUPPLIES                            NaN       0.492025\n",
       "PLAYERS AND ELECTRONICS                 NaN       0.507187\n",
       "POULTRY                                 NaN       0.299499\n",
       "PREPARED FOODS                          NaN       0.301887\n",
       "PRODUCE                                 NaN       0.277055\n",
       "SCHOOL AND OFFICE SUPPLIES              NaN       0.644878\n",
       "SEAFOOD                                 NaN       0.550048"
      ]
     },
     "execution_count": 35,
     "metadata": {},
     "output_type": "execute_result"
    }
   ],
   "source": [
    "loss_df"
   ]
  },
  {
   "cell_type": "code",
   "id": "18dfb2418fc2e99e",
   "metadata": {
    "ExecuteTime": {
     "end_time": "2024-11-07T13:18:53.407197Z",
     "start_time": "2024-11-07T13:18:53.367877Z"
    }
   },
   "source": [
    "total_prediction_eval_loss = loss_df[\"lgb_series_loss\"].fillna(loss_df[\"baseline_loss\"])\n",
    "print(\"Loss with LightGBM:\", total_prediction_eval_loss.mean())"
   ],
   "outputs": [
    {
     "name": "stdout",
     "output_type": "stream",
     "text": [
      "Loss with LightGBM: 0.4113775883473273\n"
     ]
    }
   ],
   "execution_count": 107
  },
  {
   "cell_type": "code",
   "execution_count": 37,
   "id": "fb92ac37d73cb6cc",
   "metadata": {
    "ExecuteTime": {
     "end_time": "2024-11-07T12:12:55.293411Z",
     "start_time": "2024-11-07T12:12:55.254412Z"
    }
   },
   "outputs": [
    {
     "name": "stdout",
     "output_type": "stream",
     "text": [
      "Loss without LightGBM: 0.4177338467167706\n"
     ]
    }
   ],
   "source": [
    "print(\"Loss without LightGBM:\", loss_df[\"baseline_loss\"].mean())"
   ]
  },
  {
   "cell_type": "markdown",
   "id": "bbc07825e6c9ed3e",
   "metadata": {},
   "source": [
    "## Submission\n",
    "### Predict && Save"
   ]
  },
  {
   "cell_type": "code",
   "id": "d3514f2369af2f52",
   "metadata": {
    "ExecuteTime": {
     "end_time": "2024-11-07T13:18:58.589243Z",
     "start_time": "2024-11-07T13:18:58.543802Z"
    }
   },
   "source": [
    "forecast_df = baseline_prediction.copy()\n",
    "\n",
    "forecast_df.set_index([\"ds\", \"family\", \"store_nbr\"], inplace=True)\n",
    "forecast_df.rename(columns={\"yhat\": \"sales\"}, inplace=True)"
   ],
   "outputs": [],
   "execution_count": 108
  },
  {
   "cell_type": "code",
   "id": "63ae6183f54a91ef",
   "metadata": {
    "ExecuteTime": {
     "end_time": "2024-11-07T13:19:02.219427Z",
     "start_time": "2024-11-07T13:18:59.931788Z"
    }
   },
   "source": [
    "prediction_df = make_submission_predictions(dataset, best_lgb_models, forecast_df)"
   ],
   "outputs": [
    {
     "name": "stderr",
     "output_type": "stream",
     "text": [
      "100%|██████████| 2/2 [00:02<00:00,  1.12s/it]\n"
     ]
    }
   ],
   "execution_count": 109
  },
  {
   "cell_type": "code",
   "id": "b69090a7be872051",
   "metadata": {
    "ExecuteTime": {
     "end_time": "2024-11-07T13:19:16.379151Z",
     "start_time": "2024-11-07T13:19:16.281333Z"
    }
   },
   "source": "submission_df = save_submission(prediction_df, \"LightGBM_EGGS_DAIRY_stores_and_dates_added.csv\")",
   "outputs": [
    {
     "name": "stdout",
     "output_type": "stream",
     "text": [
      "Submission saved to /home/tikhon/PycharmProjects/StoreSales/data/submissions/LightGBM_EGGS_DAIRY_stores_and_dates_added.csv\n"
     ]
    }
   ],
   "execution_count": 110
  },
  {
   "cell_type": "code",
   "execution_count": 44,
   "id": "6959c425597d5c0e",
   "metadata": {
    "ExecuteTime": {
     "end_time": "2024-11-07T12:15:07.091397Z",
     "start_time": "2024-11-07T12:15:07.051529Z"
    }
   },
   "outputs": [
    {
     "data": {
      "text/html": [
       "<div>\n",
       "<style scoped>\n",
       "    .dataframe tbody tr th:only-of-type {\n",
       "        vertical-align: middle;\n",
       "    }\n",
       "\n",
       "    .dataframe tbody tr th {\n",
       "        vertical-align: top;\n",
       "    }\n",
       "\n",
       "    .dataframe thead th {\n",
       "        text-align: right;\n",
       "    }\n",
       "</style>\n",
       "<table border=\"1\" class=\"dataframe\">\n",
       "  <thead>\n",
       "    <tr style=\"text-align: right;\">\n",
       "      <th></th>\n",
       "      <th>sales</th>\n",
       "    </tr>\n",
       "    <tr>\n",
       "      <th>id</th>\n",
       "      <th></th>\n",
       "    </tr>\n",
       "  </thead>\n",
       "  <tbody>\n",
       "    <tr>\n",
       "      <th>3000888</th>\n",
       "      <td>4.812500</td>\n",
       "    </tr>\n",
       "    <tr>\n",
       "      <th>3000889</th>\n",
       "      <td>0.000000</td>\n",
       "    </tr>\n",
       "    <tr>\n",
       "      <th>3000890</th>\n",
       "      <td>3.310345</td>\n",
       "    </tr>\n",
       "    <tr>\n",
       "      <th>3000891</th>\n",
       "      <td>2041.178571</td>\n",
       "    </tr>\n",
       "    <tr>\n",
       "      <th>3000892</th>\n",
       "      <td>0.114286</td>\n",
       "    </tr>\n",
       "  </tbody>\n",
       "</table>\n",
       "</div>"
      ],
      "text/plain": [
       "               sales\n",
       "id                  \n",
       "3000888     4.812500\n",
       "3000889     0.000000\n",
       "3000890     3.310345\n",
       "3000891  2041.178571\n",
       "3000892     0.114286"
      ]
     },
     "execution_count": 44,
     "metadata": {},
     "output_type": "execute_result"
    }
   ],
   "source": [
    "submission_df.head()"
   ]
  },
  {
   "cell_type": "markdown",
   "id": "bcb95853c9d7c359",
   "metadata": {},
   "source": "### Plot Forecast"
  },
  {
   "cell_type": "code",
   "id": "554227b4997ed351",
   "metadata": {
    "ExecuteTime": {
     "end_time": "2024-11-07T13:19:20.032320Z",
     "start_time": "2024-11-07T13:19:19.334816Z"
    }
   },
   "source": [
    "make_submission_forecast_plot(\n",
    "    family=\"DAIRY\",\n",
    "    i_series=28,\n",
    "    dataset=dataset,\n",
    "    forecast=prediction_df.reset_index(),\n",
    "    drop_before_date=pd.Timestamp(\"2017-01-01\"),\n",
    ")"
   ],
   "outputs": [
    {
     "data": {
      "text/plain": [
       "<Figure size 640x480 with 1 Axes>"
      ],
      "image/png": "[encoded data removed]"
     },
     "metadata": {},
     "output_type": "display_data"
    }
   ],
   "execution_count": 111
  },
  {
   "cell_type": "code",
   "id": "a360afacce79aaa2",
   "metadata": {
    "ExecuteTime": {
     "end_time": "2024-11-07T13:27:27.931288Z",
     "start_time": "2024-11-07T13:27:27.891162Z"
    }
   },
   "source": "pprint(best_lgb_models)",
   "outputs": [
    {
     "name": "stdout",
     "output_type": "stream",
     "text": [
      "{'DAIRY': LightGBMModel(lags=24, lags_past_covariates=[-25, -22, -19, -16], lags_future_covariates=[-9, -6, -3, 0], output_chunk_length=1, output_chunk_shift=0, add_encoders=None, likelihood=None, quantiles=None, random_state=None, multi_models=True, use_static_covariates=True, categorical_past_covariates=None, categorical_future_covariates=['day', 'month', 'year', 'day_of_week', 'day_of_year'], categorical_static_covariates=['city', 'state', 'type', 'cluster'], num_leaves=404, max_depth=30, learning_rate=0.03601937359775519, n_estimators=391, verbosity=-1, n_jobs=1),\n",
      " 'EGGS': LightGBMModel(lags=24, lags_past_covariates=[-25, -22, -19, -16], lags_future_covariates=[-9, -6, -3, 0], output_chunk_length=1, output_chunk_shift=0, add_encoders=None, likelihood=None, quantiles=None, random_state=None, multi_models=True, use_static_covariates=True, categorical_past_covariates=None, categorical_future_covariates=['day', 'month', 'year', 'day_of_week', 'day_of_year'], categorical_static_covariates=['city', 'state', 'type', 'cluster'], num_leaves=77, max_depth=30, learning_rate=0.035346040897017206, n_estimators=374, verbosity=-1, n_jobs=1)}\n"
     ]
    }
   ],
   "execution_count": 133
  },
  {
   "metadata": {},
   "cell_type": "code",
   "outputs": [],
   "execution_count": null,
   "source": "",
   "id": "6292ffb0b4cfd684"
  }
 ],
 "metadata": {
  "kernelspec": {
   "display_name": "Python 3",
   "language": "python",
   "name": "python3"
  },
  "language_info": {
   "codemirror_mode": {
    "name": "ipython",
    "version": 2
   },
   "file_extension": ".py",
   "mimetype": "text/x-python",
   "name": "python",
   "nbconvert_exporter": "python",
   "pygments_lexer": "ipython2",
   "version": "2.7.6"
  }
 },
 "nbformat": 4,
 "nbformat_minor": 5
}
