{
 "cells": [
  {
   "cell_type": "markdown",
   "id": "cfb392d4e80626f9",
   "metadata": {},
   "source": "## Notebook Configuration && Imports"
  },
  {
   "cell_type": "code",
   "id": "997929215ba9afd4",
   "metadata": {
    "ExecuteTime": {
     "end_time": "2024-11-08T14:33:12.868699Z",
     "start_time": "2024-11-08T14:33:12.850922Z"
    }
   },
   "source": [
    "%load_ext autoreload\n",
    "%autoreload 2"
   ],
   "outputs": [],
   "execution_count": 1
  },
  {
   "cell_type": "code",
   "id": "3bc8a8e87a096779",
   "metadata": {
    "ExecuteTime": {
     "end_time": "2024-11-08T14:33:18.534032Z",
     "start_time": "2024-11-08T14:33:12.876971Z"
    }
   },
   "source": [
    "from pprint import pprint\n",
    "\n",
    "import pandas as pd\n",
    "\n",
    "from storesales.baseline.sales_predictor import SalesPredictor\n",
    "from storesales.light_gbm.lgb_tuner.family_lgb_params import FamilyLightGBMModelParams\n",
    "from storesales.light_gbm.lgb_tuner.lgb_model_tuner import LightGBMModelTuner\n",
    "from storesales.light_gbm.param_dataclasses import ExtractFeaturesParam\n",
    "\n",
    "from storesales.light_gbm.fit_evaluate.evaluate_models import evaluate\n",
    "from storesales.light_gbm.feature_engineering.ts_fresh_features import (\n",
    "    make_roll,\n",
    "    make_roll_features,\n",
    "    get_minimal_fc_parameters,\n",
    ")\n",
    "from storesales.light_gbm.dataset import make_family_datasets\n",
    "from storesales.light_gbm.preprocessing import preprocess\n",
    "from storesales.light_gbm.utils import (\n",
    "    save_submission,\n",
    "    make_submission_predictions,\n",
    "    make_submission_forecast_plot,\n",
    "    load_oil,\n",
    "    load_stores,\n",
    "    create_date_features,\n",
    ")\n",
    "from storesales.constants import (\n",
    "    START_SUBMISSION_DATE,\n",
    "    TEST_DATE_RANGE,\n",
    "    EXTERNAL_TRAIN_PATH,\n",
    "    EXTERNAL_TEST_PATH,\n",
    "    EXTERNAL_OIL_PATH,\n",
    "    EXTERNAL_STORES_PATH,\n",
    ")"
   ],
   "outputs": [],
   "execution_count": 2
  },
  {
   "cell_type": "markdown",
   "id": "d606d34b933926f5",
   "metadata": {},
   "source": "## Load && Preprocess Data"
  },
  {
   "cell_type": "code",
   "id": "7e1c3cb731b0f89d",
   "metadata": {
    "ExecuteTime": {
     "end_time": "2024-11-08T14:33:20.538165Z",
     "start_time": "2024-11-08T14:33:18.536122Z"
    }
   },
   "source": [
    "train_df = pd.read_csv(EXTERNAL_TRAIN_PATH, parse_dates=[\"date\"])\n",
    "test_df = pd.read_csv(EXTERNAL_TEST_PATH, parse_dates=[\"date\"])"
   ],
   "outputs": [],
   "execution_count": 3
  },
  {
   "cell_type": "code",
   "id": "a3519a8adffcdd00",
   "metadata": {
    "ExecuteTime": {
     "end_time": "2024-11-08T14:33:20.590186Z",
     "start_time": "2024-11-08T14:33:20.539284Z"
    }
   },
   "source": [
    "stores_df = load_stores(EXTERNAL_STORES_PATH)\n",
    "oil_df = load_oil(EXTERNAL_OIL_PATH)"
   ],
   "outputs": [],
   "execution_count": 4
  },
  {
   "cell_type": "code",
   "id": "1b84b616242280b5",
   "metadata": {
    "ExecuteTime": {
     "end_time": "2024-11-08T14:33:28.983118Z",
     "start_time": "2024-11-08T14:33:20.592562Z"
    }
   },
   "source": [
    "preprocessed_df = preprocess(train_df)"
   ],
   "outputs": [],
   "execution_count": 5
  },
  {
   "cell_type": "markdown",
   "id": "f0c16cd41c56abf0",
   "metadata": {},
   "source": [
    "## Baseline Model\n",
    "Some store-family pairs do not have enough data to get lags. I will use baseline model for these pairs."
   ]
  },
  {
   "cell_type": "markdown",
   "id": "e3ba2a083fc2feec",
   "metadata": {},
   "source": "### Prepare Data"
  },
  {
   "cell_type": "code",
   "id": "e1f35707fc442035",
   "metadata": {
    "ExecuteTime": {
     "end_time": "2024-11-08T14:33:29.061616Z",
     "start_time": "2024-11-08T14:33:28.984333Z"
    }
   },
   "source": [
    "baseline_train_df = train_df.copy()\n",
    "baseline_test_df = test_df.copy()\n",
    "\n",
    "baseline_train_df.rename(columns={\"date\": \"ds\", \"sales\": \"y\"}, inplace=True)\n",
    "baseline_test_df.rename(columns={\"date\": \"ds\"}, inplace=True)"
   ],
   "outputs": [],
   "execution_count": 6
  },
  {
   "cell_type": "markdown",
   "id": "4e7235a1ca07ae85",
   "metadata": {},
   "source": "### Load Model && Fit && Predict"
  },
  {
   "cell_type": "code",
   "id": "64eb8bc83f4bdc19",
   "metadata": {
    "ExecuteTime": {
     "end_time": "2024-11-08T14:33:29.119431Z",
     "start_time": "2024-11-08T14:33:29.063250Z"
    }
   },
   "source": [
    "model_name = \"daily_predictor.pkl\"\n",
    "baseline_predictor = SalesPredictor.load(model_name)"
   ],
   "outputs": [],
   "execution_count": 7
  },
  {
   "cell_type": "code",
   "id": "fd0a58614ca2bad",
   "metadata": {
    "ExecuteTime": {
     "end_time": "2024-11-08T14:33:32.429655Z",
     "start_time": "2024-11-08T14:33:29.120885Z"
    }
   },
   "source": [
    "baseline_predictor.fit(baseline_train_df)"
   ],
   "outputs": [
    {
     "name": "stderr",
     "output_type": "stream",
     "text": [
      "100%|██████████| 1782/1782 [00:00<00:00, 1929.40it/s]\n"
     ]
    }
   ],
   "execution_count": 8
  },
  {
   "cell_type": "code",
   "id": "457dd9e38eac9863",
   "metadata": {
    "ExecuteTime": {
     "end_time": "2024-11-08T14:33:33.059517Z",
     "start_time": "2024-11-08T14:33:32.431597Z"
    }
   },
   "source": [
    "baseline_prediction_df = baseline_predictor.predict(baseline_test_df)"
   ],
   "outputs": [
    {
     "name": "stderr",
     "output_type": "stream",
     "text": [
      "100%|██████████| 1782/1782 [00:00<00:00, 4048.60it/s]\n"
     ]
    }
   ],
   "execution_count": 9
  },
  {
   "cell_type": "markdown",
   "id": "ea28407e050753d4",
   "metadata": {},
   "source": "### Load Baseline Evaluation Loss"
  },
  {
   "cell_type": "code",
   "id": "7fbab14163c03d08",
   "metadata": {
    "ExecuteTime": {
     "end_time": "2024-11-08T14:33:33.133625Z",
     "start_time": "2024-11-08T14:33:33.060809Z"
    }
   },
   "source": [
    "file_path = baseline_predictor.eval_loss_csv\n",
    "baseline_loss_df = pd.read_csv(file_path, index_col=[\"family\", \"store_nbr\"])"
   ],
   "outputs": [],
   "execution_count": 10
  },
  {
   "cell_type": "markdown",
   "id": "53ea6cc78c2be23a",
   "metadata": {},
   "source": [
    "## Darts LightGBM Implementation\n",
    "### Make Family Datasets"
   ]
  },
  {
   "cell_type": "markdown",
   "id": "d426b4f35764309b",
   "metadata": {},
   "source": [
    "#### Prepare Data Before Making Rolling Features\n",
    "1. concatenate `preprocessed_df` and `test_df` in `data_df` to get past and future values in one df;\n",
    "2. fill test period sales with 0;\n",
    "3. select specific `families` for LightGBM models;\n",
    "4. merge `oil_df` and `stores_df` to `data_df`;\n",
    "5. filter data with `threshold_timestamp` to get enough data to train LightGBM models.\n",
    "\n"
   ]
  },
  {
   "cell_type": "code",
   "id": "19d9d159039a4a77",
   "metadata": {
    "ExecuteTime": {
     "end_time": "2024-11-08T14:33:33.175711Z",
     "start_time": "2024-11-08T14:33:33.135748Z"
    }
   },
   "source": [
    "threshold_timestamp = pd.Timestamp(\"2017-04-01\")\n",
    "families = [\"EGGS\", \"DAIRY\", \"LIQUOR,WINE,BEER\"]"
   ],
   "outputs": [],
   "execution_count": 11
  },
  {
   "cell_type": "code",
   "id": "aabb4864c8c0f56a",
   "metadata": {
    "ExecuteTime": {
     "end_time": "2024-11-08T14:33:33.476469Z",
     "start_time": "2024-11-08T14:33:33.177113Z"
    }
   },
   "source": [
    "train_test_df = pd.concat([preprocessed_df, test_df], ignore_index=True)  # 1.\n",
    "\n",
    "train_test_df.fillna(0, inplace=True)  # 2.\n",
    "\n",
    "data_df = train_test_df[train_test_df[\"family\"].isin(families)].copy()  # 3.\n",
    "\n",
    "data_df = data_df.merge(oil_df, left_on=\"date\", right_index=True, how=\"left\")  # 4.\n",
    "data_df = data_df.merge(stores_df, on=\"store_nbr\", how=\"left\")\n",
    "\n",
    "min_group_date = data_df.groupby([\"family\", \"store_nbr\"])[\"date\"].transform(\"min\")\n",
    "filtered_data_df = data_df[min_group_date <= threshold_timestamp]  # 5."
   ],
   "outputs": [],
   "execution_count": 12
  },
  {
   "cell_type": "markdown",
   "id": "2389ed5ba0d8a7e3",
   "metadata": {},
   "source": [
    "#### Rolling Features\n",
    "I'll make two types of roll features: with short and long windows.   \n",
    "Combined DataFrame will have features with `short` and `long` suffixes.\n",
    "\n",
    "##### Make Rolls\n",
    "* use rolls threshold timestamp to speed up feature creation and model training;\n",
    "* `sales`, `onpromotion`, `dcoilwtico` are the features to roll."
   ]
  },
  {
   "cell_type": "code",
   "id": "30e65db720d0a4a0",
   "metadata": {
    "ExecuteTime": {
     "end_time": "2024-11-08T14:33:33.531801Z",
     "start_time": "2024-11-08T14:33:33.477986Z"
    }
   },
   "source": [
    "rolls_threshold_timestamp = pd.Timestamp(\"2014-02-01\")\n",
    "# rolls_threshold_date = pd.Timestamp(\"2017-03-01\")\n",
    "\n",
    "rolls_data_df = filtered_data_df[\n",
    "    filtered_data_df[\"date\"] >= rolls_threshold_timestamp\n",
    "].copy()"
   ],
   "outputs": [],
   "execution_count": 13
  },
  {
   "cell_type": "code",
   "id": "fe85e3d3f46a5fb4",
   "metadata": {
    "ExecuteTime": {
     "end_time": "2024-11-08T14:35:32.213289Z",
     "start_time": "2024-11-08T14:33:33.533040Z"
    }
   },
   "source": [
    "features_to_roll = [\"sales\", \"onpromotion\", \"dcoilwtico\"]\n",
    "\n",
    "train_rolls_short = make_roll(rolls_data_df.copy(), features_to_roll, timeshift=9)\n",
    "train_rolls_long = make_roll(rolls_data_df.copy(), features_to_roll, timeshift=28)"
   ],
   "outputs": [
    {
     "name": "stderr",
     "output_type": "stream",
     "text": [
      "Rolling: 100%|██████████| 30/30 [00:44<00:00,  1.48s/it]\n",
      "Rolling: 100%|██████████| 30/30 [00:44<00:00,  1.49s/it]\n"
     ]
    }
   ],
   "execution_count": 14
  },
  {
   "cell_type": "markdown",
   "id": "84d60ed9c0c383b6",
   "metadata": {},
   "source": [
    "##### Make Features\n",
    "Make short and long roll features, combine them in `train_featured_df`."
   ]
  },
  {
   "cell_type": "code",
   "id": "f59d38717ba5f07c",
   "metadata": {
    "ExecuteTime": {
     "end_time": "2024-11-08T14:35:32.267424Z",
     "start_time": "2024-11-08T14:35:32.216869Z"
    }
   },
   "source": [
    "extract_features_short_param = ExtractFeaturesParam(\n",
    "    timeseries_container=train_rolls_short,\n",
    "    default_fc_parameters=get_minimal_fc_parameters(),\n",
    "    column_sort=\"date\",\n",
    ")\n",
    "extract_features_long_param = ExtractFeaturesParam(\n",
    "    timeseries_container=train_rolls_long,\n",
    "    default_fc_parameters=get_minimal_fc_parameters(),\n",
    "    column_sort=\"date\",\n",
    ")"
   ],
   "outputs": [],
   "execution_count": 15
  },
  {
   "cell_type": "code",
   "id": "e2af5ddcdc25d076",
   "metadata": {
    "ExecuteTime": {
     "end_time": "2024-11-08T14:41:45.812659Z",
     "start_time": "2024-11-08T14:35:32.268975Z"
    }
   },
   "source": [
    "train_featured_short = make_roll_features(extract_features_short_param, \"short\")\n",
    "train_featured_long = make_roll_features(extract_features_long_param, \"long\")"
   ],
   "outputs": [
    {
     "name": "stderr",
     "output_type": "stream",
     "text": [
      "Feature Extraction: 100%|██████████| 30/30 [02:51<00:00,  5.70s/it]\n",
      "Feature Extraction: 100%|██████████| 30/30 [02:51<00:00,  5.73s/it]\n"
     ]
    }
   ],
   "execution_count": 16
  },
  {
   "cell_type": "code",
   "id": "7f5019c88b569e1c",
   "metadata": {
    "ExecuteTime": {
     "end_time": "2024-11-08T14:41:46.027577Z",
     "start_time": "2024-11-08T14:41:45.815445Z"
    }
   },
   "source": [
    "train_featured_df = pd.merge(\n",
    "    train_featured_short,\n",
    "    train_featured_long,\n",
    "    on=[\"date\", \"store_nbr\", \"family\"],\n",
    "    how=\"inner\",\n",
    ")"
   ],
   "outputs": [],
   "execution_count": 17
  },
  {
   "cell_type": "markdown",
   "id": "5ef300dbc249cbef",
   "metadata": {},
   "source": [
    "#### Create Date Features\n",
    "Add date features to `train_featured_df`."
   ]
  },
  {
   "cell_type": "code",
   "id": "cdc7f7bcf5a0f0de",
   "metadata": {
    "ExecuteTime": {
     "end_time": "2024-11-08T14:41:46.108432Z",
     "start_time": "2024-11-08T14:41:46.029232Z"
    }
   },
   "source": [
    "date_features_df = create_date_features(train_featured_df, pref=\"date_feature_\")\n",
    "date_feature_cols = date_features_df.columns.to_list()\n",
    "\n",
    "train_featured_df[date_feature_cols] = date_features_df"
   ],
   "outputs": [],
   "execution_count": 18
  },
  {
   "cell_type": "code",
   "id": "4850a686d2bc0387",
   "metadata": {
    "ExecuteTime": {
     "end_time": "2024-11-08T14:41:46.179023Z",
     "start_time": "2024-11-08T14:41:46.109789Z"
    }
   },
   "source": [
    "train_featured_df.head()"
   ],
   "outputs": [
    {
     "data": {
      "text/plain": [
       "        date  short_sales__sum_values  short_sales__median  short_sales__mean  \\\n",
       "0 2014-03-01                   5401.0                589.5              540.1   \n",
       "1 2014-03-02                   4993.0                584.0              499.3   \n",
       "2 2014-03-03                   4707.0                584.0              470.7   \n",
       "3 2014-03-04                   4370.0                504.0              437.0   \n",
       "4 2014-03-05                   5004.0                584.0              500.4   \n",
       "\n",
       "   short_sales__standard_deviation  short_sales__variance  \\\n",
       "0                       113.619057               12909.29   \n",
       "1                       157.215807               24716.81   \n",
       "2                       175.442327               30780.01   \n",
       "3                       179.308672               32151.60   \n",
       "4                       207.897186               43221.24   \n",
       "\n",
       "   short_sales__root_mean_square  short_sales__maximum  short_sales__minimum  \\\n",
       "0                     551.921462                 637.0                 239.0   \n",
       "1                     523.466618                 637.0                 171.0   \n",
       "2                     502.333057                 637.0                 171.0   \n",
       "3                     472.356433                 637.0                 171.0   \n",
       "4                     541.868434                 873.0                 171.0   \n",
       "\n",
       "   short_onpromotion__sum_values  ...  long_dcoilwtico__standard_deviation  \\\n",
       "0                            0.0  ...                             2.087675   \n",
       "1                            0.0  ...                             2.038867   \n",
       "2                            0.0  ...                             2.098067   \n",
       "3                            0.0  ...                             1.949937   \n",
       "4                            0.0  ...                             1.787273   \n",
       "\n",
       "   long_dcoilwtico__variance  long_dcoilwtico__root_mean_square  \\\n",
       "0                   4.358389                         100.692679   \n",
       "1                   4.156977                         100.875434   \n",
       "2                   4.401885                         101.145211   \n",
       "3                   3.802256                         101.390476   \n",
       "4                   3.194344                         101.542972   \n",
       "\n",
       "   long_dcoilwtico__maximum  long_dcoilwtico__minimum  date_feature_day  \\\n",
       "0                    103.46                     96.44                 1   \n",
       "1                    103.46                     96.44                 2   \n",
       "2                    105.34                     96.44                 3   \n",
       "3                    105.34                     97.24                 4   \n",
       "4                    105.34                     97.40                 5   \n",
       "\n",
       "   date_feature_month  date_feature_year  date_feature_day_of_week  \\\n",
       "0                   3               2014                         5   \n",
       "1                   3               2014                         6   \n",
       "2                   3               2014                         0   \n",
       "3                   3               2014                         1   \n",
       "4                   3               2014                         2   \n",
       "\n",
       "   date_feature_day_of_year  \n",
       "0                        60  \n",
       "1                        61  \n",
       "2                        62  \n",
       "3                        63  \n",
       "4                        64  \n",
       "\n",
       "[5 rows x 56 columns]"
      ],
      "text/html": [
       "<div>\n",
       "<style scoped>\n",
       "    .dataframe tbody tr th:only-of-type {\n",
       "        vertical-align: middle;\n",
       "    }\n",
       "\n",
       "    .dataframe tbody tr th {\n",
       "        vertical-align: top;\n",
       "    }\n",
       "\n",
       "    .dataframe thead th {\n",
       "        text-align: right;\n",
       "    }\n",
       "</style>\n",
       "<table border=\"1\" class=\"dataframe\">\n",
       "  <thead>\n",
       "    <tr style=\"text-align: right;\">\n",
       "      <th></th>\n",
       "      <th>date</th>\n",
       "      <th>short_sales__sum_values</th>\n",
       "      <th>short_sales__median</th>\n",
       "      <th>short_sales__mean</th>\n",
       "      <th>short_sales__standard_deviation</th>\n",
       "      <th>short_sales__variance</th>\n",
       "      <th>short_sales__root_mean_square</th>\n",
       "      <th>short_sales__maximum</th>\n",
       "      <th>short_sales__minimum</th>\n",
       "      <th>short_onpromotion__sum_values</th>\n",
       "      <th>...</th>\n",
       "      <th>long_dcoilwtico__standard_deviation</th>\n",
       "      <th>long_dcoilwtico__variance</th>\n",
       "      <th>long_dcoilwtico__root_mean_square</th>\n",
       "      <th>long_dcoilwtico__maximum</th>\n",
       "      <th>long_dcoilwtico__minimum</th>\n",
       "      <th>date_feature_day</th>\n",
       "      <th>date_feature_month</th>\n",
       "      <th>date_feature_year</th>\n",
       "      <th>date_feature_day_of_week</th>\n",
       "      <th>date_feature_day_of_year</th>\n",
       "    </tr>\n",
       "  </thead>\n",
       "  <tbody>\n",
       "    <tr>\n",
       "      <th>0</th>\n",
       "      <td>2014-03-01</td>\n",
       "      <td>5401.0</td>\n",
       "      <td>589.5</td>\n",
       "      <td>540.1</td>\n",
       "      <td>113.619057</td>\n",
       "      <td>12909.29</td>\n",
       "      <td>551.921462</td>\n",
       "      <td>637.0</td>\n",
       "      <td>239.0</td>\n",
       "      <td>0.0</td>\n",
       "      <td>...</td>\n",
       "      <td>2.087675</td>\n",
       "      <td>4.358389</td>\n",
       "      <td>100.692679</td>\n",
       "      <td>103.46</td>\n",
       "      <td>96.44</td>\n",
       "      <td>1</td>\n",
       "      <td>3</td>\n",
       "      <td>2014</td>\n",
       "      <td>5</td>\n",
       "      <td>60</td>\n",
       "    </tr>\n",
       "    <tr>\n",
       "      <th>1</th>\n",
       "      <td>2014-03-02</td>\n",
       "      <td>4993.0</td>\n",
       "      <td>584.0</td>\n",
       "      <td>499.3</td>\n",
       "      <td>157.215807</td>\n",
       "      <td>24716.81</td>\n",
       "      <td>523.466618</td>\n",
       "      <td>637.0</td>\n",
       "      <td>171.0</td>\n",
       "      <td>0.0</td>\n",
       "      <td>...</td>\n",
       "      <td>2.038867</td>\n",
       "      <td>4.156977</td>\n",
       "      <td>100.875434</td>\n",
       "      <td>103.46</td>\n",
       "      <td>96.44</td>\n",
       "      <td>2</td>\n",
       "      <td>3</td>\n",
       "      <td>2014</td>\n",
       "      <td>6</td>\n",
       "      <td>61</td>\n",
       "    </tr>\n",
       "    <tr>\n",
       "      <th>2</th>\n",
       "      <td>2014-03-03</td>\n",
       "      <td>4707.0</td>\n",
       "      <td>584.0</td>\n",
       "      <td>470.7</td>\n",
       "      <td>175.442327</td>\n",
       "      <td>30780.01</td>\n",
       "      <td>502.333057</td>\n",
       "      <td>637.0</td>\n",
       "      <td>171.0</td>\n",
       "      <td>0.0</td>\n",
       "      <td>...</td>\n",
       "      <td>2.098067</td>\n",
       "      <td>4.401885</td>\n",
       "      <td>101.145211</td>\n",
       "      <td>105.34</td>\n",
       "      <td>96.44</td>\n",
       "      <td>3</td>\n",
       "      <td>3</td>\n",
       "      <td>2014</td>\n",
       "      <td>0</td>\n",
       "      <td>62</td>\n",
       "    </tr>\n",
       "    <tr>\n",
       "      <th>3</th>\n",
       "      <td>2014-03-04</td>\n",
       "      <td>4370.0</td>\n",
       "      <td>504.0</td>\n",
       "      <td>437.0</td>\n",
       "      <td>179.308672</td>\n",
       "      <td>32151.60</td>\n",
       "      <td>472.356433</td>\n",
       "      <td>637.0</td>\n",
       "      <td>171.0</td>\n",
       "      <td>0.0</td>\n",
       "      <td>...</td>\n",
       "      <td>1.949937</td>\n",
       "      <td>3.802256</td>\n",
       "      <td>101.390476</td>\n",
       "      <td>105.34</td>\n",
       "      <td>97.24</td>\n",
       "      <td>4</td>\n",
       "      <td>3</td>\n",
       "      <td>2014</td>\n",
       "      <td>1</td>\n",
       "      <td>63</td>\n",
       "    </tr>\n",
       "    <tr>\n",
       "      <th>4</th>\n",
       "      <td>2014-03-05</td>\n",
       "      <td>5004.0</td>\n",
       "      <td>584.0</td>\n",
       "      <td>500.4</td>\n",
       "      <td>207.897186</td>\n",
       "      <td>43221.24</td>\n",
       "      <td>541.868434</td>\n",
       "      <td>873.0</td>\n",
       "      <td>171.0</td>\n",
       "      <td>0.0</td>\n",
       "      <td>...</td>\n",
       "      <td>1.787273</td>\n",
       "      <td>3.194344</td>\n",
       "      <td>101.542972</td>\n",
       "      <td>105.34</td>\n",
       "      <td>97.40</td>\n",
       "      <td>5</td>\n",
       "      <td>3</td>\n",
       "      <td>2014</td>\n",
       "      <td>2</td>\n",
       "      <td>64</td>\n",
       "    </tr>\n",
       "  </tbody>\n",
       "</table>\n",
       "<p>5 rows × 56 columns</p>\n",
       "</div>"
      ]
     },
     "execution_count": 19,
     "metadata": {},
     "output_type": "execute_result"
    }
   ],
   "execution_count": 19
  },
  {
   "cell_type": "markdown",
   "id": "3a5efd48f8f440d4",
   "metadata": {},
   "source": "#### Specify Lags"
  },
  {
   "cell_type": "code",
   "id": "4bc7d24c3cc0234d",
   "metadata": {
    "ExecuteTime": {
     "end_time": "2024-11-08T14:41:46.219712Z",
     "start_time": "2024-11-08T14:41:46.180802Z"
    }
   },
   "source": [
    "sales_cols = [col for col in train_featured_df.columns if \"sales\" in col]\n",
    "onpromotion_cols = [col for col in train_featured_df.columns if \"onpromotion\" in col]\n",
    "oil_cols = [col for col in train_featured_df.columns if \"dcoilwtico\" in col]\n",
    "\n",
    "# onpromotion and oil features are future covariates\n",
    "future_short_cols = [col for col in onpromotion_cols + oil_cols if \"short\" in col]\n",
    "future_long_cols = [col for col in onpromotion_cols + oil_cols if \"long\" in col]\n",
    "\n",
    "# sales features are past covariates\n",
    "past_short_cols = [col for col in sales_cols if \"short\" in col]\n",
    "past_long_cols = [col for col in sales_cols if \"long\" in col]\n",
    "\n",
    "static_cols = [\"city\", \"state\", \"type\", \"cluster\"]"
   ],
   "outputs": [],
   "execution_count": 20
  },
  {
   "cell_type": "code",
   "id": "2937f6c23423ebec",
   "metadata": {
    "ExecuteTime": {
     "end_time": "2024-11-08T14:41:46.278577Z",
     "start_time": "2024-11-08T14:41:46.221634Z"
    }
   },
   "source": [
    "prev_season_short_lags = [-366, -373, -380]\n",
    "prev_season_long_lags = [-363, -377]\n",
    "\n",
    "lags_past_short_covariates = [-16, -21] + prev_season_short_lags\n",
    "lags_past_long_covariates = [-16] + prev_season_long_lags\n",
    "\n",
    "lags_future_short_covariates = [0, -7, -14] + prev_season_short_lags\n",
    "lags_future_long_covariates = [0, -9] + prev_season_long_lags\n",
    "\n",
    "lags_date_feature_covariates = [0, -16, -365, -381]"
   ],
   "outputs": [],
   "execution_count": 21
  },
  {
   "cell_type": "code",
   "id": "c69b2556d0e32503",
   "metadata": {
    "ExecuteTime": {
     "end_time": "2024-11-08T14:41:46.327962Z",
     "start_time": "2024-11-08T14:41:46.280464Z"
    }
   },
   "source": [
    "# future covariates lags\n",
    "date_lags = {col: lags_date_feature_covariates for col in date_feature_cols}\n",
    "future_short_lags = {col: lags_future_short_covariates for col in future_short_cols}\n",
    "future_long_lags = {col: lags_future_long_covariates for col in future_long_cols}\n",
    "\n",
    "# past covariates lags\n",
    "past_short_lags = {col: lags_past_short_covariates for col in past_short_cols}\n",
    "past_long_lags = {col: lags_past_long_covariates for col in past_long_cols}"
   ],
   "outputs": [],
   "execution_count": 22
  },
  {
   "cell_type": "code",
   "id": "f296cdd7b5993473",
   "metadata": {
    "ExecuteTime": {
     "end_time": "2024-11-08T14:41:46.377172Z",
     "start_time": "2024-11-08T14:41:46.332391Z"
    }
   },
   "source": [
    "lags_future_covariates = {**future_short_lags, **future_long_lags, **date_lags}\n",
    "lags_past_covariates = {**past_short_lags, **past_long_lags}"
   ],
   "outputs": [],
   "execution_count": 23
  },
  {
   "cell_type": "markdown",
   "id": "7099a14d760f390e",
   "metadata": {},
   "source": "#### Make Family Datasets"
  },
  {
   "cell_type": "code",
   "id": "fac4ed766938c766",
   "metadata": {
    "ExecuteTime": {
     "end_time": "2024-11-08T14:53:47.964900Z",
     "start_time": "2024-11-08T14:53:47.902626Z"
    }
   },
   "source": [
    "start_target_series_timestamp = rolls_threshold_timestamp - pd.Timedelta(days=400)\n",
    "\n",
    "start_series_con = filtered_data_df[\"date\"] > start_target_series_timestamp\n",
    "# end_series_con = filtered_data_df[\"date\"] < START_SUBMISSION_DATE\n",
    "\n",
    "series_data = filtered_data_df[start_series_con].copy()"
   ],
   "outputs": [],
   "execution_count": 38
  },
  {
   "cell_type": "code",
   "id": "df081fa344eee68c",
   "metadata": {
    "ExecuteTime": {
     "end_time": "2024-11-08T14:53:51.141934Z",
     "start_time": "2024-11-08T14:53:48.987486Z"
    }
   },
   "source": [
    "family_datasets = make_family_datasets(\n",
    "    df=series_data,\n",
    "    featured_df=train_featured_df,\n",
    "    static_cols=static_cols,\n",
    "    future_cols=list(lags_future_covariates.keys()),\n",
    "    past_cols=list(lags_past_covariates.keys()),\n",
    ")"
   ],
   "outputs": [],
   "execution_count": 39
  },
  {
   "cell_type": "code",
   "id": "26d1ddc4bcc30121",
   "metadata": {
    "ExecuteTime": {
     "end_time": "2024-11-08T14:41:48.851917Z",
     "start_time": "2024-11-08T14:41:48.797424Z"
    }
   },
   "source": [
    "family_datasets[\"EGGS\"].series[0].components"
   ],
   "outputs": [
    {
     "data": {
      "text/plain": [
       "Index(['sales'], dtype='object', name='component')"
      ]
     },
     "execution_count": 26,
     "metadata": {},
     "output_type": "execute_result"
    }
   ],
   "execution_count": 26
  },
  {
   "cell_type": "markdown",
   "id": "6151e529dbad3e2e",
   "metadata": {},
   "source": [
    "### Tune && Eval LightGBM Models\n",
    "#### Tune Models"
   ]
  },
  {
   "cell_type": "code",
   "id": "b855ef06be33e237",
   "metadata": {
    "ExecuteTime": {
     "end_time": "2024-11-08T14:41:48.892383Z",
     "start_time": "2024-11-08T14:41:48.853607Z"
    }
   },
   "source": [
    "import optuna\n",
    "\n",
    "optuna.logging.set_verbosity(optuna.logging.WARNING)"
   ],
   "outputs": [],
   "execution_count": 27
  },
  {
   "cell_type": "code",
   "id": "ca03ff2d855bf0dd",
   "metadata": {
    "ExecuteTime": {
     "end_time": "2024-11-08T14:41:48.928955Z",
     "start_time": "2024-11-08T14:41:48.894057Z"
    }
   },
   "source": [
    "cat_static_covs = [\"city\", \"state\", \"type\", \"cluster\", \"store_nbr\"]\n",
    "# cat_future_covs = date_feature_cols\n",
    "cat_future_covs = []\n",
    "\n",
    "param_suggestor = FamilyLightGBMModelParams(\n",
    "    lags_future_covariates=lags_future_covariates,\n",
    "    lags_past_covariates=lags_past_covariates,\n",
    "    categorical_static_covariates=cat_static_covs,\n",
    "    categorical_future_covariates=cat_future_covs,\n",
    ")"
   ],
   "outputs": [],
   "execution_count": 28
  },
  {
   "cell_type": "code",
   "id": "e678f426fe55e678",
   "metadata": {
    "ExecuteTime": {
     "end_time": "2024-11-08T14:41:48.963281Z",
     "start_time": "2024-11-08T14:41:48.930219Z"
    }
   },
   "source": [
    "tuner = LightGBMModelTuner(\n",
    "    dataset=family_datasets, families=families, param_suggestor=param_suggestor\n",
    ")"
   ],
   "outputs": [],
   "execution_count": 29
  },
  {
   "cell_type": "code",
   "id": "ecb0f1ecd78bb948",
   "metadata": {
    "ExecuteTime": {
     "end_time": "2024-11-08T14:50:50.463402Z",
     "start_time": "2024-11-08T14:44:50.971786Z"
    }
   },
   "source": "tuner.run_parallel_tune(n_jobs=3, eval_stride=5, n_trials=35)",
   "outputs": [
    {
     "name": "stderr",
     "output_type": "stream",
     "text": [
      "Best trial: 31. Best value: 0.303872: 100%|██████████| 35/35 [05:45<00:00,  9.86s/it]\n"
     ]
    }
   ],
   "execution_count": 31
  },
  {
   "cell_type": "code",
   "id": "e4c9bfbfa2163b5c",
   "metadata": {
    "ExecuteTime": {
     "end_time": "2024-11-08T14:50:58.070516Z",
     "start_time": "2024-11-08T14:50:50.466538Z"
    }
   },
   "source": "best_lgb_models = tuner.fit_best(n_jobs=3)",
   "outputs": [],
   "execution_count": 32
  },
  {
   "cell_type": "markdown",
   "id": "dd747cf117e031c0",
   "metadata": {},
   "source": "#### Evaluate Models"
  },
  {
   "cell_type": "code",
   "id": "d3d11f986b7d8d1",
   "metadata": {
    "ExecuteTime": {
     "end_time": "2024-11-08T14:51:31.191592Z",
     "start_time": "2024-11-08T14:50:58.071722Z"
    }
   },
   "source": [
    "eval_family_losses = evaluate(\n",
    "    dataset=family_datasets,\n",
    "    evaluate_range=TEST_DATE_RANGE,\n",
    "    models=best_lgb_models,\n",
    "    stride=1,\n",
    "    parallel=True,\n",
    ")"
   ],
   "outputs": [],
   "execution_count": 33
  },
  {
   "cell_type": "markdown",
   "id": "9d4db957b78bcbdd",
   "metadata": {},
   "source": "#### Compare with Baseline"
  },
  {
   "cell_type": "code",
   "id": "f603332d0f69b467",
   "metadata": {
    "ExecuteTime": {
     "end_time": "2024-11-08T14:51:32.935672Z",
     "start_time": "2024-11-08T14:51:32.882694Z"
    }
   },
   "source": [
    "total_lgb_loss = pd.concat([eval_family_losses, baseline_loss_df]).sort_index(\n",
    "    level=[\"family\", \"store_nbr\"]\n",
    ")"
   ],
   "outputs": [],
   "execution_count": 34
  },
  {
   "cell_type": "code",
   "id": "ab03a50eb8f5871c",
   "metadata": {
    "ExecuteTime": {
     "end_time": "2024-11-08T14:51:34.312993Z",
     "start_time": "2024-11-08T14:51:34.268740Z"
    }
   },
   "source": [
    "eval_family_losses.groupby(\"family\").mean().mean(axis=1)"
   ],
   "outputs": [
    {
     "data": {
      "text/plain": [
       "family\n",
       "DAIRY               0.143358\n",
       "EGGS                0.286616\n",
       "LIQUOR,WINE,BEER    0.506197\n",
       "dtype: float64"
      ]
     },
     "execution_count": 35,
     "metadata": {},
     "output_type": "execute_result"
    }
   ],
   "execution_count": 35
  },
  {
   "cell_type": "code",
   "execution_count": 102,
   "id": "7731b2de2cf7097c",
   "metadata": {
    "ExecuteTime": {
     "end_time": "2024-11-07T18:06:05.553077Z",
     "start_time": "2024-11-07T18:06:05.490593Z"
    }
   },
   "outputs": [],
   "source": [
    "grouped_loss = total_lgb_loss.groupby(\"family\").mean()\n",
    "lgb_series_loss = grouped_loss.mean(axis=1).rename(\"lgb_series_loss\")\n",
    "\n",
    "predictor_grouped_loss = predictor_eval_loss_df.groupby(\"family\").mean()\n",
    "baseline_series_loss = predictor_grouped_loss.mean(axis=1).rename(\"baseline_loss\")\n",
    "\n",
    "loss_df = pd.concat([lgb_series_loss, baseline_series_loss], axis=1)"
   ]
  },
  {
   "cell_type": "code",
   "execution_count": 103,
   "id": "2b954b749f41a5c4",
   "metadata": {
    "ExecuteTime": {
     "end_time": "2024-11-07T18:06:07.663792Z",
     "start_time": "2024-11-07T18:06:07.618607Z"
    }
   },
   "outputs": [
    {
     "data": {
      "text/html": [
       "<div>\n",
       "<style scoped>\n",
       "    .dataframe tbody tr th:only-of-type {\n",
       "        vertical-align: middle;\n",
       "    }\n",
       "\n",
       "    .dataframe tbody tr th {\n",
       "        vertical-align: top;\n",
       "    }\n",
       "\n",
       "    .dataframe thead th {\n",
       "        text-align: right;\n",
       "    }\n",
       "</style>\n",
       "<table border=\"1\" class=\"dataframe\">\n",
       "  <thead>\n",
       "    <tr style=\"text-align: right;\">\n",
       "      <th></th>\n",
       "      <th>lgb_series_loss</th>\n",
       "      <th>baseline_loss</th>\n",
       "    </tr>\n",
       "    <tr>\n",
       "      <th>family</th>\n",
       "      <th></th>\n",
       "      <th></th>\n",
       "    </tr>\n",
       "  </thead>\n",
       "  <tbody>\n",
       "    <tr>\n",
       "      <th>DAIRY</th>\n",
       "      <td>0.149378</td>\n",
       "      <td>0.246879</td>\n",
       "    </tr>\n",
       "    <tr>\n",
       "      <th>EGGS</th>\n",
       "      <td>0.286619</td>\n",
       "      <td>0.386635</td>\n",
       "    </tr>\n",
       "    <tr>\n",
       "      <th>AUTOMOTIVE</th>\n",
       "      <td>NaN</td>\n",
       "      <td>0.549853</td>\n",
       "    </tr>\n",
       "    <tr>\n",
       "      <th>BABY CARE</th>\n",
       "      <td>NaN</td>\n",
       "      <td>0.194055</td>\n",
       "    </tr>\n",
       "    <tr>\n",
       "      <th>BEAUTY</th>\n",
       "      <td>NaN</td>\n",
       "      <td>0.574898</td>\n",
       "    </tr>\n",
       "    <tr>\n",
       "      <th>BEVERAGES</th>\n",
       "      <td>NaN</td>\n",
       "      <td>0.275564</td>\n",
       "    </tr>\n",
       "    <tr>\n",
       "      <th>BOOKS</th>\n",
       "      <td>NaN</td>\n",
       "      <td>0.078480</td>\n",
       "    </tr>\n",
       "    <tr>\n",
       "      <th>BREAD/BAKERY</th>\n",
       "      <td>NaN</td>\n",
       "      <td>0.236766</td>\n",
       "    </tr>\n",
       "    <tr>\n",
       "      <th>CELEBRATION</th>\n",
       "      <td>NaN</td>\n",
       "      <td>0.595359</td>\n",
       "    </tr>\n",
       "    <tr>\n",
       "      <th>CLEANING</th>\n",
       "      <td>NaN</td>\n",
       "      <td>0.320998</td>\n",
       "    </tr>\n",
       "    <tr>\n",
       "      <th>DELI</th>\n",
       "      <td>NaN</td>\n",
       "      <td>0.254749</td>\n",
       "    </tr>\n",
       "    <tr>\n",
       "      <th>FROZEN FOODS</th>\n",
       "      <td>NaN</td>\n",
       "      <td>0.399494</td>\n",
       "    </tr>\n",
       "    <tr>\n",
       "      <th>GROCERY I</th>\n",
       "      <td>NaN</td>\n",
       "      <td>0.241929</td>\n",
       "    </tr>\n",
       "    <tr>\n",
       "      <th>GROCERY II</th>\n",
       "      <td>NaN</td>\n",
       "      <td>0.569867</td>\n",
       "    </tr>\n",
       "    <tr>\n",
       "      <th>HARDWARE</th>\n",
       "      <td>NaN</td>\n",
       "      <td>0.546267</td>\n",
       "    </tr>\n",
       "    <tr>\n",
       "      <th>HOME AND KITCHEN I</th>\n",
       "      <td>NaN</td>\n",
       "      <td>0.543460</td>\n",
       "    </tr>\n",
       "    <tr>\n",
       "      <th>HOME AND KITCHEN II</th>\n",
       "      <td>NaN</td>\n",
       "      <td>0.481282</td>\n",
       "    </tr>\n",
       "    <tr>\n",
       "      <th>HOME APPLIANCES</th>\n",
       "      <td>NaN</td>\n",
       "      <td>0.418675</td>\n",
       "    </tr>\n",
       "    <tr>\n",
       "      <th>HOME CARE</th>\n",
       "      <td>NaN</td>\n",
       "      <td>0.291221</td>\n",
       "    </tr>\n",
       "    <tr>\n",
       "      <th>LADIESWEAR</th>\n",
       "      <td>NaN</td>\n",
       "      <td>0.501788</td>\n",
       "    </tr>\n",
       "    <tr>\n",
       "      <th>LAWN AND GARDEN</th>\n",
       "      <td>NaN</td>\n",
       "      <td>0.445791</td>\n",
       "    </tr>\n",
       "    <tr>\n",
       "      <th>LINGERIE</th>\n",
       "      <td>NaN</td>\n",
       "      <td>0.683757</td>\n",
       "    </tr>\n",
       "    <tr>\n",
       "      <th>LIQUOR,WINE,BEER</th>\n",
       "      <td>NaN</td>\n",
       "      <td>0.708146</td>\n",
       "    </tr>\n",
       "    <tr>\n",
       "      <th>MAGAZINES</th>\n",
       "      <td>NaN</td>\n",
       "      <td>0.538552</td>\n",
       "    </tr>\n",
       "    <tr>\n",
       "      <th>MEATS</th>\n",
       "      <td>NaN</td>\n",
       "      <td>0.299842</td>\n",
       "    </tr>\n",
       "    <tr>\n",
       "      <th>PERSONAL CARE</th>\n",
       "      <td>NaN</td>\n",
       "      <td>0.328329</td>\n",
       "    </tr>\n",
       "    <tr>\n",
       "      <th>PET SUPPLIES</th>\n",
       "      <td>NaN</td>\n",
       "      <td>0.492025</td>\n",
       "    </tr>\n",
       "    <tr>\n",
       "      <th>PLAYERS AND ELECTRONICS</th>\n",
       "      <td>NaN</td>\n",
       "      <td>0.507187</td>\n",
       "    </tr>\n",
       "    <tr>\n",
       "      <th>POULTRY</th>\n",
       "      <td>NaN</td>\n",
       "      <td>0.299499</td>\n",
       "    </tr>\n",
       "    <tr>\n",
       "      <th>PREPARED FOODS</th>\n",
       "      <td>NaN</td>\n",
       "      <td>0.301887</td>\n",
       "    </tr>\n",
       "    <tr>\n",
       "      <th>PRODUCE</th>\n",
       "      <td>NaN</td>\n",
       "      <td>0.277055</td>\n",
       "    </tr>\n",
       "    <tr>\n",
       "      <th>SCHOOL AND OFFICE SUPPLIES</th>\n",
       "      <td>NaN</td>\n",
       "      <td>0.644878</td>\n",
       "    </tr>\n",
       "    <tr>\n",
       "      <th>SEAFOOD</th>\n",
       "      <td>NaN</td>\n",
       "      <td>0.550048</td>\n",
       "    </tr>\n",
       "  </tbody>\n",
       "</table>\n",
       "</div>"
      ],
      "text/plain": [
       "                            lgb_series_loss  baseline_loss\n",
       "family                                                    \n",
       "DAIRY                              0.149378       0.246879\n",
       "EGGS                               0.286619       0.386635\n",
       "AUTOMOTIVE                              NaN       0.549853\n",
       "BABY CARE                               NaN       0.194055\n",
       "BEAUTY                                  NaN       0.574898\n",
       "BEVERAGES                               NaN       0.275564\n",
       "BOOKS                                   NaN       0.078480\n",
       "BREAD/BAKERY                            NaN       0.236766\n",
       "CELEBRATION                             NaN       0.595359\n",
       "CLEANING                                NaN       0.320998\n",
       "DELI                                    NaN       0.254749\n",
       "FROZEN FOODS                            NaN       0.399494\n",
       "GROCERY I                               NaN       0.241929\n",
       "GROCERY II                              NaN       0.569867\n",
       "HARDWARE                                NaN       0.546267\n",
       "HOME AND KITCHEN I                      NaN       0.543460\n",
       "HOME AND KITCHEN II                     NaN       0.481282\n",
       "HOME APPLIANCES                         NaN       0.418675\n",
       "HOME CARE                               NaN       0.291221\n",
       "LADIESWEAR                              NaN       0.501788\n",
       "LAWN AND GARDEN                         NaN       0.445791\n",
       "LINGERIE                                NaN       0.683757\n",
       "LIQUOR,WINE,BEER                        NaN       0.708146\n",
       "MAGAZINES                               NaN       0.538552\n",
       "MEATS                                   NaN       0.299842\n",
       "PERSONAL CARE                           NaN       0.328329\n",
       "PET SUPPLIES                            NaN       0.492025\n",
       "PLAYERS AND ELECTRONICS                 NaN       0.507187\n",
       "POULTRY                                 NaN       0.299499\n",
       "PREPARED FOODS                          NaN       0.301887\n",
       "PRODUCE                                 NaN       0.277055\n",
       "SCHOOL AND OFFICE SUPPLIES              NaN       0.644878\n",
       "SEAFOOD                                 NaN       0.550048"
      ]
     },
     "execution_count": 103,
     "metadata": {},
     "output_type": "execute_result"
    }
   ],
   "source": [
    "loss_df"
   ]
  },
  {
   "cell_type": "code",
   "execution_count": 35,
   "id": "7c4e45a56263ee6a",
   "metadata": {
    "ExecuteTime": {
     "end_time": "2024-11-07T12:12:43.102737Z",
     "start_time": "2024-11-07T12:12:43.021385Z"
    }
   },
   "outputs": [
    {
     "data": {
      "text/html": [
       "<div>\n",
       "<style scoped>\n",
       "    .dataframe tbody tr th:only-of-type {\n",
       "        vertical-align: middle;\n",
       "    }\n",
       "\n",
       "    .dataframe tbody tr th {\n",
       "        vertical-align: top;\n",
       "    }\n",
       "\n",
       "    .dataframe thead th {\n",
       "        text-align: right;\n",
       "    }\n",
       "</style>\n",
       "<table border=\"1\" class=\"dataframe\">\n",
       "  <thead>\n",
       "    <tr style=\"text-align: right;\">\n",
       "      <th></th>\n",
       "      <th>lgb_series_loss</th>\n",
       "      <th>baseline_loss</th>\n",
       "    </tr>\n",
       "    <tr>\n",
       "      <th>family</th>\n",
       "      <th></th>\n",
       "      <th></th>\n",
       "    </tr>\n",
       "  </thead>\n",
       "  <tbody>\n",
       "    <tr>\n",
       "      <th>DAIRY</th>\n",
       "      <td>0.153960</td>\n",
       "      <td>0.246879</td>\n",
       "    </tr>\n",
       "    <tr>\n",
       "      <th>EGGS</th>\n",
       "      <td>0.296108</td>\n",
       "      <td>0.386635</td>\n",
       "    </tr>\n",
       "    <tr>\n",
       "      <th>AUTOMOTIVE</th>\n",
       "      <td>NaN</td>\n",
       "      <td>0.549853</td>\n",
       "    </tr>\n",
       "    <tr>\n",
       "      <th>BABY CARE</th>\n",
       "      <td>NaN</td>\n",
       "      <td>0.194055</td>\n",
       "    </tr>\n",
       "    <tr>\n",
       "      <th>BEAUTY</th>\n",
       "      <td>NaN</td>\n",
       "      <td>0.574898</td>\n",
       "    </tr>\n",
       "    <tr>\n",
       "      <th>BEVERAGES</th>\n",
       "      <td>NaN</td>\n",
       "      <td>0.275564</td>\n",
       "    </tr>\n",
       "    <tr>\n",
       "      <th>BOOKS</th>\n",
       "      <td>NaN</td>\n",
       "      <td>0.078480</td>\n",
       "    </tr>\n",
       "    <tr>\n",
       "      <th>BREAD/BAKERY</th>\n",
       "      <td>NaN</td>\n",
       "      <td>0.236766</td>\n",
       "    </tr>\n",
       "    <tr>\n",
       "      <th>CELEBRATION</th>\n",
       "      <td>NaN</td>\n",
       "      <td>0.595359</td>\n",
       "    </tr>\n",
       "    <tr>\n",
       "      <th>CLEANING</th>\n",
       "      <td>NaN</td>\n",
       "      <td>0.320998</td>\n",
       "    </tr>\n",
       "    <tr>\n",
       "      <th>DELI</th>\n",
       "      <td>NaN</td>\n",
       "      <td>0.254749</td>\n",
       "    </tr>\n",
       "    <tr>\n",
       "      <th>FROZEN FOODS</th>\n",
       "      <td>NaN</td>\n",
       "      <td>0.399494</td>\n",
       "    </tr>\n",
       "    <tr>\n",
       "      <th>GROCERY I</th>\n",
       "      <td>NaN</td>\n",
       "      <td>0.241929</td>\n",
       "    </tr>\n",
       "    <tr>\n",
       "      <th>GROCERY II</th>\n",
       "      <td>NaN</td>\n",
       "      <td>0.569867</td>\n",
       "    </tr>\n",
       "    <tr>\n",
       "      <th>HARDWARE</th>\n",
       "      <td>NaN</td>\n",
       "      <td>0.546267</td>\n",
       "    </tr>\n",
       "    <tr>\n",
       "      <th>HOME AND KITCHEN I</th>\n",
       "      <td>NaN</td>\n",
       "      <td>0.543460</td>\n",
       "    </tr>\n",
       "    <tr>\n",
       "      <th>HOME AND KITCHEN II</th>\n",
       "      <td>NaN</td>\n",
       "      <td>0.481282</td>\n",
       "    </tr>\n",
       "    <tr>\n",
       "      <th>HOME APPLIANCES</th>\n",
       "      <td>NaN</td>\n",
       "      <td>0.418675</td>\n",
       "    </tr>\n",
       "    <tr>\n",
       "      <th>HOME CARE</th>\n",
       "      <td>NaN</td>\n",
       "      <td>0.291221</td>\n",
       "    </tr>\n",
       "    <tr>\n",
       "      <th>LADIESWEAR</th>\n",
       "      <td>NaN</td>\n",
       "      <td>0.501788</td>\n",
       "    </tr>\n",
       "    <tr>\n",
       "      <th>LAWN AND GARDEN</th>\n",
       "      <td>NaN</td>\n",
       "      <td>0.445791</td>\n",
       "    </tr>\n",
       "    <tr>\n",
       "      <th>LINGERIE</th>\n",
       "      <td>NaN</td>\n",
       "      <td>0.683757</td>\n",
       "    </tr>\n",
       "    <tr>\n",
       "      <th>LIQUOR,WINE,BEER</th>\n",
       "      <td>NaN</td>\n",
       "      <td>0.708146</td>\n",
       "    </tr>\n",
       "    <tr>\n",
       "      <th>MAGAZINES</th>\n",
       "      <td>NaN</td>\n",
       "      <td>0.538552</td>\n",
       "    </tr>\n",
       "    <tr>\n",
       "      <th>MEATS</th>\n",
       "      <td>NaN</td>\n",
       "      <td>0.299842</td>\n",
       "    </tr>\n",
       "    <tr>\n",
       "      <th>PERSONAL CARE</th>\n",
       "      <td>NaN</td>\n",
       "      <td>0.328329</td>\n",
       "    </tr>\n",
       "    <tr>\n",
       "      <th>PET SUPPLIES</th>\n",
       "      <td>NaN</td>\n",
       "      <td>0.492025</td>\n",
       "    </tr>\n",
       "    <tr>\n",
       "      <th>PLAYERS AND ELECTRONICS</th>\n",
       "      <td>NaN</td>\n",
       "      <td>0.507187</td>\n",
       "    </tr>\n",
       "    <tr>\n",
       "      <th>POULTRY</th>\n",
       "      <td>NaN</td>\n",
       "      <td>0.299499</td>\n",
       "    </tr>\n",
       "    <tr>\n",
       "      <th>PREPARED FOODS</th>\n",
       "      <td>NaN</td>\n",
       "      <td>0.301887</td>\n",
       "    </tr>\n",
       "    <tr>\n",
       "      <th>PRODUCE</th>\n",
       "      <td>NaN</td>\n",
       "      <td>0.277055</td>\n",
       "    </tr>\n",
       "    <tr>\n",
       "      <th>SCHOOL AND OFFICE SUPPLIES</th>\n",
       "      <td>NaN</td>\n",
       "      <td>0.644878</td>\n",
       "    </tr>\n",
       "    <tr>\n",
       "      <th>SEAFOOD</th>\n",
       "      <td>NaN</td>\n",
       "      <td>0.550048</td>\n",
       "    </tr>\n",
       "  </tbody>\n",
       "</table>\n",
       "</div>"
      ],
      "text/plain": [
       "                            lgb_series_loss  baseline_loss\n",
       "family                                                    \n",
       "DAIRY                              0.153960       0.246879\n",
       "EGGS                               0.296108       0.386635\n",
       "AUTOMOTIVE                              NaN       0.549853\n",
       "BABY CARE                               NaN       0.194055\n",
       "BEAUTY                                  NaN       0.574898\n",
       "BEVERAGES                               NaN       0.275564\n",
       "BOOKS                                   NaN       0.078480\n",
       "BREAD/BAKERY                            NaN       0.236766\n",
       "CELEBRATION                             NaN       0.595359\n",
       "CLEANING                                NaN       0.320998\n",
       "DELI                                    NaN       0.254749\n",
       "FROZEN FOODS                            NaN       0.399494\n",
       "GROCERY I                               NaN       0.241929\n",
       "GROCERY II                              NaN       0.569867\n",
       "HARDWARE                                NaN       0.546267\n",
       "HOME AND KITCHEN I                      NaN       0.543460\n",
       "HOME AND KITCHEN II                     NaN       0.481282\n",
       "HOME APPLIANCES                         NaN       0.418675\n",
       "HOME CARE                               NaN       0.291221\n",
       "LADIESWEAR                              NaN       0.501788\n",
       "LAWN AND GARDEN                         NaN       0.445791\n",
       "LINGERIE                                NaN       0.683757\n",
       "LIQUOR,WINE,BEER                        NaN       0.708146\n",
       "MAGAZINES                               NaN       0.538552\n",
       "MEATS                                   NaN       0.299842\n",
       "PERSONAL CARE                           NaN       0.328329\n",
       "PET SUPPLIES                            NaN       0.492025\n",
       "PLAYERS AND ELECTRONICS                 NaN       0.507187\n",
       "POULTRY                                 NaN       0.299499\n",
       "PREPARED FOODS                          NaN       0.301887\n",
       "PRODUCE                                 NaN       0.277055\n",
       "SCHOOL AND OFFICE SUPPLIES              NaN       0.644878\n",
       "SEAFOOD                                 NaN       0.550048"
      ]
     },
     "execution_count": 35,
     "metadata": {},
     "output_type": "execute_result"
    }
   ],
   "source": [
    "loss_df"
   ]
  },
  {
   "cell_type": "code",
   "execution_count": 104,
   "id": "18dfb2418fc2e99e",
   "metadata": {
    "ExecuteTime": {
     "end_time": "2024-11-07T18:06:20.025093Z",
     "start_time": "2024-11-07T18:06:19.987385Z"
    }
   },
   "outputs": [
    {
     "name": "stdout",
     "output_type": "stream",
     "text": [
      "Loss with LightGBM: 0.4117484440634766\n"
     ]
    }
   ],
   "source": [
    "total_prediction_eval_loss = loss_df[\"lgb_series_loss\"].fillna(loss_df[\"baseline_loss\"])\n",
    "print(\"Loss with LightGBM:\", total_prediction_eval_loss.mean())"
   ]
  },
  {
   "cell_type": "code",
   "execution_count": 105,
   "id": "fb92ac37d73cb6cc",
   "metadata": {
    "ExecuteTime": {
     "end_time": "2024-11-07T18:06:23.435075Z",
     "start_time": "2024-11-07T18:06:23.396244Z"
    }
   },
   "outputs": [
    {
     "name": "stdout",
     "output_type": "stream",
     "text": [
      "Loss without LightGBM: 0.4177338467167706\n"
     ]
    }
   ],
   "source": [
    "print(\"Loss without LightGBM:\", loss_df[\"baseline_loss\"].mean())"
   ]
  },
  {
   "cell_type": "markdown",
   "id": "bbc07825e6c9ed3e",
   "metadata": {},
   "source": [
    "## Submission\n",
    "### Predict && Save"
   ]
  },
  {
   "cell_type": "code",
   "id": "d3514f2369af2f52",
   "metadata": {
    "ExecuteTime": {
     "end_time": "2024-11-08T14:53:55.297732Z",
     "start_time": "2024-11-08T14:53:55.237465Z"
    }
   },
   "source": [
    "forecast_df = baseline_prediction_df.copy()\n",
    "\n",
    "forecast_df.set_index([\"ds\", \"family\", \"store_nbr\"], inplace=True)\n",
    "forecast_df.rename(columns={\"yhat\": \"sales\"}, inplace=True)"
   ],
   "outputs": [],
   "execution_count": 40
  },
  {
   "cell_type": "code",
   "id": "63ae6183f54a91ef",
   "metadata": {
    "ExecuteTime": {
     "end_time": "2024-11-08T14:53:56.807601Z",
     "start_time": "2024-11-08T14:53:55.575483Z"
    }
   },
   "source": [
    "prediction_df = make_submission_predictions(\n",
    "    family_datasets, best_lgb_models, forecast_df\n",
    ")"
   ],
   "outputs": [
    {
     "name": "stderr",
     "output_type": "stream",
     "text": [
      "100%|██████████| 3/3 [00:01<00:00,  2.56it/s]\n"
     ]
    }
   ],
   "execution_count": 41
  },
  {
   "cell_type": "code",
   "id": "b69090a7be872051",
   "metadata": {
    "ExecuteTime": {
     "end_time": "2024-11-08T14:54:25.666180Z",
     "start_time": "2024-11-08T14:54:25.492955Z"
    }
   },
   "source": [
    "submission_df = save_submission(\n",
    "    prediction_df, \"LightGBM_EGGS_DAIRY_LIQUOR.csv\"\n",
    ")"
   ],
   "outputs": [
    {
     "name": "stdout",
     "output_type": "stream",
     "text": [
      "Submission saved to /home/tikhon/PycharmProjects/StoreSales/data/submissions/LightGBM_EGGS_DAIRY_LIQUOR.csv\n"
     ]
    }
   ],
   "execution_count": 42
  },
  {
   "cell_type": "code",
   "id": "6959c425597d5c0e",
   "metadata": {
    "ExecuteTime": {
     "end_time": "2024-11-08T14:54:27.821645Z",
     "start_time": "2024-11-08T14:54:27.778981Z"
    }
   },
   "source": [
    "submission_df.head()"
   ],
   "outputs": [
    {
     "data": {
      "text/plain": [
       "               sales\n",
       "id                  \n",
       "3000888     4.812500\n",
       "3000889     0.000000\n",
       "3000890     3.310345\n",
       "3000891  2041.178571\n",
       "3000892     0.114286"
      ],
      "text/html": [
       "<div>\n",
       "<style scoped>\n",
       "    .dataframe tbody tr th:only-of-type {\n",
       "        vertical-align: middle;\n",
       "    }\n",
       "\n",
       "    .dataframe tbody tr th {\n",
       "        vertical-align: top;\n",
       "    }\n",
       "\n",
       "    .dataframe thead th {\n",
       "        text-align: right;\n",
       "    }\n",
       "</style>\n",
       "<table border=\"1\" class=\"dataframe\">\n",
       "  <thead>\n",
       "    <tr style=\"text-align: right;\">\n",
       "      <th></th>\n",
       "      <th>sales</th>\n",
       "    </tr>\n",
       "    <tr>\n",
       "      <th>id</th>\n",
       "      <th></th>\n",
       "    </tr>\n",
       "  </thead>\n",
       "  <tbody>\n",
       "    <tr>\n",
       "      <th>3000888</th>\n",
       "      <td>4.812500</td>\n",
       "    </tr>\n",
       "    <tr>\n",
       "      <th>3000889</th>\n",
       "      <td>0.000000</td>\n",
       "    </tr>\n",
       "    <tr>\n",
       "      <th>3000890</th>\n",
       "      <td>3.310345</td>\n",
       "    </tr>\n",
       "    <tr>\n",
       "      <th>3000891</th>\n",
       "      <td>2041.178571</td>\n",
       "    </tr>\n",
       "    <tr>\n",
       "      <th>3000892</th>\n",
       "      <td>0.114286</td>\n",
       "    </tr>\n",
       "  </tbody>\n",
       "</table>\n",
       "</div>"
      ]
     },
     "execution_count": 43,
     "metadata": {},
     "output_type": "execute_result"
    }
   ],
   "execution_count": 43
  },
  {
   "cell_type": "markdown",
   "id": "bcb95853c9d7c359",
   "metadata": {},
   "source": "### Plot Forecast"
  },
  {
   "cell_type": "code",
   "id": "554227b4997ed351",
   "metadata": {
    "ExecuteTime": {
     "end_time": "2024-11-08T14:55:43.939698Z",
     "start_time": "2024-11-08T14:55:43.279350Z"
    }
   },
   "source": [
    "make_submission_forecast_plot(\n",
    "    family=\"LIQUOR,WINE,BEER\",\n",
    "    i_series=49,\n",
    "    dataset=family_datasets,\n",
    "    forecast=prediction_df.reset_index(),\n",
    "    drop_before_date=pd.Timestamp(\"2017-01-01\"),\n",
    ")"
   ],
   "outputs": [
    {
     "data": {
      "text/plain": [
       "<Figure size 640x480 with 1 Axes>"
      ],
      "image/png": "[encoded data removed]"
     },
     "metadata": {},
     "output_type": "display_data"
    }
   ],
   "execution_count": 55
  },
  {
   "cell_type": "code",
   "execution_count": 111,
   "id": "a360afacce79aaa2",
   "metadata": {
    "ExecuteTime": {
     "end_time": "2024-11-07T18:06:47.753461Z",
     "start_time": "2024-11-07T18:06:47.710482Z"
    }
   },
   "outputs": [
    {
     "name": "stdout",
     "output_type": "stream",
     "text": [
      "{'DAIRY': LightGBMModel(lags=24, lags_past_covariates={'short_sales__sum_values': [-16, -21, -366, -373, -380], 'short_sales__median': [-16, -21, -366, -373, -380], 'short_sales__mean': [-16, -21, -366, -373, -380], 'short_sales__standard_deviation': [-16, -21, -366, -373, -380], 'short_sales__variance': [-16, -21, -366, -373, -380], 'short_sales__root_mean_square': [-16, -21, -366, -373, -380], 'short_sales__maximum': [-16, -21, -366, -373, -380], 'short_sales__minimum': [-16, -21, -366, -373, -380], 'long_sales__sum_values': [-16, -363, -377], 'long_sales__median': [-16, -363, -377], 'long_sales__mean': [-16, -363, -377], 'long_sales__standard_deviation': [-16, -363, -377], 'long_sales__variance': [-16, -363, -377], 'long_sales__root_mean_square': [-16, -363, -377], 'long_sales__maximum': [-16, -363, -377], 'long_sales__minimum': [-16, -363, -377]}, lags_future_covariates={'short_onpromotion__sum_values': [0, -7, -14, -366, -373, -380], 'short_onpromotion__median': [0, -7, -14, -366, -373, -380], 'short_onpromotion__mean': [0, -7, -14, -366, -373, -380], 'short_onpromotion__standard_deviation': [0, -7, -14, -366, -373, -380], 'short_onpromotion__variance': [0, -7, -14, -366, -373, -380], 'short_onpromotion__root_mean_square': [0, -7, -14, -366, -373, -380], 'short_onpromotion__maximum': [0, -7, -14, -366, -373, -380], 'short_onpromotion__minimum': [0, -7, -14, -366, -373, -380], 'short_dcoilwtico__sum_values': [0, -7, -14, -366, -373, -380], 'short_dcoilwtico__median': [0, -7, -14, -366, -373, -380], 'short_dcoilwtico__mean': [0, -7, -14, -366, -373, -380], 'short_dcoilwtico__standard_deviation': [0, -7, -14, -366, -373, -380], 'short_dcoilwtico__variance': [0, -7, -14, -366, -373, -380], 'short_dcoilwtico__root_mean_square': [0, -7, -14, -366, -373, -380], 'short_dcoilwtico__maximum': [0, -7, -14, -366, -373, -380], 'short_dcoilwtico__minimum': [0, -7, -14, -366, -373, -380], 'long_onpromotion__sum_values': [0, -9, -363, -377], 'long_onpromotion__median': [0, -9, -363, -377], 'long_onpromotion__mean': [0, -9, -363, -377], 'long_onpromotion__standard_deviation': [0, -9, -363, -377], 'long_onpromotion__variance': [0, -9, -363, -377], 'long_onpromotion__root_mean_square': [0, -9, -363, -377], 'long_onpromotion__maximum': [0, -9, -363, -377], 'long_onpromotion__minimum': [0, -9, -363, -377], 'long_dcoilwtico__sum_values': [0, -9, -363, -377], 'long_dcoilwtico__median': [0, -9, -363, -377], 'long_dcoilwtico__mean': [0, -9, -363, -377], 'long_dcoilwtico__standard_deviation': [0, -9, -363, -377], 'long_dcoilwtico__variance': [0, -9, -363, -377], 'long_dcoilwtico__root_mean_square': [0, -9, -363, -377], 'long_dcoilwtico__maximum': [0, -9, -363, -377], 'long_dcoilwtico__minimum': [0, -9, -363, -377], 'date_feature_day': [0, -16, -365, -381], 'date_feature_month': [0, -16, -365, -381], 'date_feature_year': [0, -16, -365, -381], 'date_feature_day_of_week': [0, -16, -365, -381], 'date_feature_day_of_year': [0, -16, -365, -381]}, output_chunk_length=1, output_chunk_shift=0, add_encoders=None, likelihood=None, quantiles=None, random_state=42, multi_models=True, use_static_covariates=True, categorical_past_covariates=None, categorical_future_covariates=['date_feature_day', 'date_feature_month', 'date_feature_year', 'date_feature_day_of_week', 'date_feature_day_of_year'], categorical_static_covariates=['city', 'state', 'type', 'cluster', 'store_nbr'], num_leaves=262, max_depth=6, learning_rate=0.010015320703129967, n_estimators=374, top_rate=0.15784162951655573, other_rate=0.10449546592405029, max_bin=146, feature_fraction=0.432112500588936, min_gain_to_split=0.0023936542604332312, max_cat_threshold=28, data_sample_strategy=goss, verbosity=-1, n_jobs=1, force_row_wise=True),\n",
      " 'EGGS': LightGBMModel(lags=24, lags_past_covariates={'short_sales__sum_values': [-16, -21, -366, -373, -380], 'short_sales__median': [-16, -21, -366, -373, -380], 'short_sales__mean': [-16, -21, -366, -373, -380], 'short_sales__standard_deviation': [-16, -21, -366, -373, -380], 'short_sales__variance': [-16, -21, -366, -373, -380], 'short_sales__root_mean_square': [-16, -21, -366, -373, -380], 'short_sales__maximum': [-16, -21, -366, -373, -380], 'short_sales__minimum': [-16, -21, -366, -373, -380], 'long_sales__sum_values': [-16, -363, -377], 'long_sales__median': [-16, -363, -377], 'long_sales__mean': [-16, -363, -377], 'long_sales__standard_deviation': [-16, -363, -377], 'long_sales__variance': [-16, -363, -377], 'long_sales__root_mean_square': [-16, -363, -377], 'long_sales__maximum': [-16, -363, -377], 'long_sales__minimum': [-16, -363, -377]}, lags_future_covariates={'short_onpromotion__sum_values': [0, -7, -14, -366, -373, -380], 'short_onpromotion__median': [0, -7, -14, -366, -373, -380], 'short_onpromotion__mean': [0, -7, -14, -366, -373, -380], 'short_onpromotion__standard_deviation': [0, -7, -14, -366, -373, -380], 'short_onpromotion__variance': [0, -7, -14, -366, -373, -380], 'short_onpromotion__root_mean_square': [0, -7, -14, -366, -373, -380], 'short_onpromotion__maximum': [0, -7, -14, -366, -373, -380], 'short_onpromotion__minimum': [0, -7, -14, -366, -373, -380], 'short_dcoilwtico__sum_values': [0, -7, -14, -366, -373, -380], 'short_dcoilwtico__median': [0, -7, -14, -366, -373, -380], 'short_dcoilwtico__mean': [0, -7, -14, -366, -373, -380], 'short_dcoilwtico__standard_deviation': [0, -7, -14, -366, -373, -380], 'short_dcoilwtico__variance': [0, -7, -14, -366, -373, -380], 'short_dcoilwtico__root_mean_square': [0, -7, -14, -366, -373, -380], 'short_dcoilwtico__maximum': [0, -7, -14, -366, -373, -380], 'short_dcoilwtico__minimum': [0, -7, -14, -366, -373, -380], 'long_onpromotion__sum_values': [0, -9, -363, -377], 'long_onpromotion__median': [0, -9, -363, -377], 'long_onpromotion__mean': [0, -9, -363, -377], 'long_onpromotion__standard_deviation': [0, -9, -363, -377], 'long_onpromotion__variance': [0, -9, -363, -377], 'long_onpromotion__root_mean_square': [0, -9, -363, -377], 'long_onpromotion__maximum': [0, -9, -363, -377], 'long_onpromotion__minimum': [0, -9, -363, -377], 'long_dcoilwtico__sum_values': [0, -9, -363, -377], 'long_dcoilwtico__median': [0, -9, -363, -377], 'long_dcoilwtico__mean': [0, -9, -363, -377], 'long_dcoilwtico__standard_deviation': [0, -9, -363, -377], 'long_dcoilwtico__variance': [0, -9, -363, -377], 'long_dcoilwtico__root_mean_square': [0, -9, -363, -377], 'long_dcoilwtico__maximum': [0, -9, -363, -377], 'long_dcoilwtico__minimum': [0, -9, -363, -377], 'date_feature_day': [0, -16, -365, -381], 'date_feature_month': [0, -16, -365, -381], 'date_feature_year': [0, -16, -365, -381], 'date_feature_day_of_week': [0, -16, -365, -381], 'date_feature_day_of_year': [0, -16, -365, -381]}, output_chunk_length=1, output_chunk_shift=0, add_encoders=None, likelihood=None, quantiles=None, random_state=42, multi_models=True, use_static_covariates=True, categorical_past_covariates=None, categorical_future_covariates=['date_feature_day', 'date_feature_month', 'date_feature_year', 'date_feature_day_of_week', 'date_feature_day_of_year'], categorical_static_covariates=['city', 'state', 'type', 'cluster', 'store_nbr'], num_leaves=445, max_depth=11, learning_rate=0.02659264209187018, n_estimators=274, top_rate=0.35579920654640873, other_rate=0.16508825721503073, max_bin=117, feature_fraction=0.2253931449116141, min_gain_to_split=0.14250159428570727, max_cat_threshold=11, data_sample_strategy=goss, verbosity=-1, n_jobs=1, force_row_wise=True)}\n"
     ]
    }
   ],
   "source": [
    "pprint(best_lgb_models)"
   ]
  },
  {
   "cell_type": "code",
   "execution_count": null,
   "id": "48c48f7dd42ca5b1",
   "metadata": {},
   "outputs": [],
   "source": []
  }
 ],
 "metadata": {
  "kernelspec": {
   "display_name": "Python 3",
   "language": "python",
   "name": "python3"
  },
  "language_info": {
   "codemirror_mode": {
    "name": "ipython",
    "version": 2
   },
   "file_extension": ".py",
   "mimetype": "text/x-python",
   "name": "python",
   "nbconvert_exporter": "python",
   "pygments_lexer": "ipython2",
   "version": "2.7.6"
  }
 },
 "nbformat": 4,
 "nbformat_minor": 5
}
