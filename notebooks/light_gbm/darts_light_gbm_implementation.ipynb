{
 "cells": [
  {
   "cell_type": "markdown",
   "id": "cfb392d4e80626f9",
   "metadata": {},
   "source": "## Notebook Configuration && Imports"
  },
  {
   "cell_type": "code",
   "execution_count": 1,
   "id": "997929215ba9afd4",
   "metadata": {
    "ExecuteTime": {
     "end_time": "2024-11-06T20:44:10.813135Z",
     "start_time": "2024-11-06T20:44:10.798746Z"
    }
   },
   "outputs": [],
   "source": [
    "%load_ext autoreload\n",
    "%autoreload 2"
   ]
  },
  {
   "cell_type": "code",
   "execution_count": 2,
   "id": "3bc8a8e87a096779",
   "metadata": {
    "ExecuteTime": {
     "end_time": "2024-11-06T20:44:16.227357Z",
     "start_time": "2024-11-06T20:44:11.058447Z"
    }
   },
   "outputs": [],
   "source": [
    "from tqdm import tqdm\n",
    "\n",
    "import pandas as pd\n",
    "\n",
    "from storesales.baseline.sales_predictor import SalesPredictor\n",
    "from storesales.light_gbm.lgb_tuner.lgb_model_tuner import LightGBMModelTuner\n",
    "from storesales.light_gbm.fit_evaluate.evaluate_models import evaluate\n",
    "from storesales.light_gbm.feature_engineering.ts_fresh_features import (\n",
    "    make_roll,\n",
    "    make_roll_features,\n",
    ")\n",
    "from storesales.light_gbm.dataset import make_dataset\n",
    "from storesales.light_gbm.preprocessing import preprocess\n",
    "from storesales.light_gbm.utils import save_submission\n",
    "from storesales.constants import (\n",
    "    EXTERNAL_TRAIN_PATH,\n",
    "    EXTERNAL_TEST_PATH,\n",
    "    EXTERNAL_OIL_PATH,\n",
    "    TEST_DATE_RANGE,\n",
    ")"
   ]
  },
  {
   "cell_type": "markdown",
   "id": "d606d34b933926f5",
   "metadata": {},
   "source": "## Load && Preprocess Data"
  },
  {
   "cell_type": "code",
   "execution_count": 3,
   "id": "7e1c3cb731b0f89d",
   "metadata": {
    "ExecuteTime": {
     "end_time": "2024-11-06T20:44:17.925814Z",
     "start_time": "2024-11-06T20:44:16.229716Z"
    }
   },
   "outputs": [],
   "source": [
    "train_df = pd.read_csv(EXTERNAL_TRAIN_PATH, parse_dates=[\"date\"])\n",
    "test_df = pd.read_csv(EXTERNAL_TEST_PATH, parse_dates=[\"date\"])"
   ]
  },
  {
   "cell_type": "code",
   "execution_count": 4,
   "id": "c14e35e6bfe63652",
   "metadata": {
    "ExecuteTime": {
     "end_time": "2024-11-06T20:44:17.969848Z",
     "start_time": "2024-11-06T20:44:17.926998Z"
    }
   },
   "outputs": [],
   "source": [
    "oil_df = pd.read_csv(EXTERNAL_OIL_PATH, parse_dates=[\"date\"])\n",
    "oil_df.set_index(\"date\", inplace=True)\n",
    "oil_df = oil_df.asfreq(\"D\")\n",
    "oil_df[\"dcoilwtico\"] = oil_df[\"dcoilwtico\"].ffill()\n",
    "oil_df = oil_df.dropna()"
   ]
  },
  {
   "cell_type": "code",
   "execution_count": 5,
   "id": "1b84b616242280b5",
   "metadata": {
    "ExecuteTime": {
     "end_time": "2024-11-06T20:44:25.978311Z",
     "start_time": "2024-11-06T20:44:17.972205Z"
    }
   },
   "outputs": [],
   "source": [
    "preprocessed_df = preprocess(train_df)"
   ]
  },
  {
   "cell_type": "code",
   "execution_count": 6,
   "id": "ce14eb86b39f108f",
   "metadata": {
    "ExecuteTime": {
     "end_time": "2024-11-06T20:44:26.168915Z",
     "start_time": "2024-11-06T20:44:25.980625Z"
    }
   },
   "outputs": [],
   "source": [
    "preprocessed_df.fillna(0, inplace=True)"
   ]
  },
  {
   "cell_type": "markdown",
   "id": "d426b4f35764309b",
   "metadata": {},
   "source": "## Prepare Data Before Making Series"
  },
  {
   "cell_type": "code",
   "execution_count": 7,
   "id": "aabb4864c8c0f56a",
   "metadata": {
    "ExecuteTime": {
     "end_time": "2024-11-06T20:44:26.285188Z",
     "start_time": "2024-11-06T20:44:26.170042Z"
    }
   },
   "outputs": [],
   "source": [
    "families = [\"EGGS\", \"DAIRY\"]\n",
    "# families = [\"EGGS\"]\n",
    "\n",
    "train_columns = [\"date\", \"sales\", \"onpromotion\", \"store_nbr\", \"family\"]\n",
    "\n",
    "train_test_df = pd.concat([preprocessed_df, test_df], axis=0, ignore_index=True)\n",
    "train_data = train_test_df[train_test_df[\"family\"].isin(families)][train_columns].copy()"
   ]
  },
  {
   "cell_type": "code",
   "execution_count": 8,
   "id": "426a2b882db80a2d",
   "metadata": {
    "ExecuteTime": {
     "end_time": "2024-11-06T20:44:26.333499Z",
     "start_time": "2024-11-06T20:44:26.286474Z"
    }
   },
   "outputs": [],
   "source": [
    "train_data = train_data.merge(oil_df, left_on=\"date\", right_index=True, how=\"left\")"
   ]
  },
  {
   "cell_type": "markdown",
   "id": "7de256f3b1ee42dc",
   "metadata": {},
   "source": "### Ensure that I have enough data to get lags"
  },
  {
   "cell_type": "code",
   "execution_count": 9,
   "id": "9fe123db75af879f",
   "metadata": {
    "ExecuteTime": {
     "end_time": "2024-11-06T20:44:26.370837Z",
     "start_time": "2024-11-06T20:44:26.335232Z"
    }
   },
   "outputs": [],
   "source": [
    "threshold_date = pd.Timestamp(\"2017-04-01\")"
   ]
  },
  {
   "cell_type": "code",
   "execution_count": 10,
   "id": "7ddd4a6216b69c8f",
   "metadata": {
    "ExecuteTime": {
     "end_time": "2024-11-06T20:44:26.424820Z",
     "start_time": "2024-11-06T20:44:26.372199Z"
    }
   },
   "outputs": [],
   "source": [
    "min_dates = train_data.groupby([\"family\", \"store_nbr\"])[\"date\"].min().reset_index()\n",
    "lgb_groups = min_dates[min_dates[\"date\"] <= threshold_date]"
   ]
  },
  {
   "cell_type": "code",
   "execution_count": 11,
   "id": "ac7180b3bcec5b5b",
   "metadata": {
    "ExecuteTime": {
     "end_time": "2024-11-06T20:44:26.490578Z",
     "start_time": "2024-11-06T20:44:26.428368Z"
    }
   },
   "outputs": [],
   "source": [
    "lgb_train_data = pd.merge(\n",
    "    train_data,\n",
    "    lgb_groups[[\"family\", \"store_nbr\"]],\n",
    "    on=[\"family\", \"store_nbr\"],\n",
    "    how=\"inner\",\n",
    ")"
   ]
  },
  {
   "cell_type": "markdown",
   "id": "f0c16cd41c56abf0",
   "metadata": {},
   "source": [
    "## Baseline Model\n",
    "Some store-family pairs do not have enough data to get lags. I will use baseline model for these pairs."
   ]
  },
  {
   "cell_type": "markdown",
   "id": "e3ba2a083fc2feec",
   "metadata": {},
   "source": "### Prepare Data"
  },
  {
   "cell_type": "code",
   "execution_count": 12,
   "id": "19bbd4539d9b8acc",
   "metadata": {
    "ExecuteTime": {
     "end_time": "2024-11-06T20:44:26.526031Z",
     "start_time": "2024-11-06T20:44:26.491789Z"
    }
   },
   "outputs": [],
   "source": [
    "baseline_groups = min_dates[min_dates[\"date\"] > threshold_date]"
   ]
  },
  {
   "cell_type": "code",
   "execution_count": 13,
   "id": "e1f35707fc442035",
   "metadata": {
    "ExecuteTime": {
     "end_time": "2024-11-06T20:44:26.589946Z",
     "start_time": "2024-11-06T20:44:26.527442Z"
    }
   },
   "outputs": [],
   "source": [
    "baseline_train_data = train_df.copy()\n",
    "baseline_test_data = test_df.copy()\n",
    "\n",
    "baseline_train_data.rename(columns={\"date\": \"ds\", \"sales\": \"y\"}, inplace=True)\n",
    "baseline_test_data.rename(columns={\"date\": \"ds\"}, inplace=True)"
   ]
  },
  {
   "cell_type": "markdown",
   "id": "4e7235a1ca07ae85",
   "metadata": {},
   "source": "### Load Model && Fit && Predict"
  },
  {
   "cell_type": "code",
   "execution_count": 14,
   "id": "64eb8bc83f4bdc19",
   "metadata": {
    "ExecuteTime": {
     "end_time": "2024-11-06T20:44:26.640851Z",
     "start_time": "2024-11-06T20:44:26.591112Z"
    }
   },
   "outputs": [],
   "source": [
    "model_name = \"daily_predictor.pkl\"\n",
    "baseline_predictor = SalesPredictor.load(model_name)"
   ]
  },
  {
   "cell_type": "code",
   "execution_count": 15,
   "id": "fd0a58614ca2bad",
   "metadata": {
    "ExecuteTime": {
     "end_time": "2024-11-06T20:44:29.819760Z",
     "start_time": "2024-11-06T20:44:26.642314Z"
    }
   },
   "outputs": [
    {
     "name": "stderr",
     "output_type": "stream",
     "text": [
      "100%|██████████| 1782/1782 [00:01<00:00, 1781.96it/s]\n"
     ]
    }
   ],
   "source": [
    "baseline_predictor.fit(baseline_train_data)"
   ]
  },
  {
   "cell_type": "code",
   "execution_count": 16,
   "id": "457dd9e38eac9863",
   "metadata": {
    "ExecuteTime": {
     "end_time": "2024-11-06T20:44:30.454732Z",
     "start_time": "2024-11-06T20:44:29.821068Z"
    }
   },
   "outputs": [
    {
     "name": "stderr",
     "output_type": "stream",
     "text": [
      "100%|██████████| 1782/1782 [00:00<00:00, 3978.09it/s]\n"
     ]
    }
   ],
   "source": [
    "baseline_prediction = baseline_predictor.predict(baseline_test_data)"
   ]
  },
  {
   "cell_type": "markdown",
   "id": "ea28407e050753d4",
   "metadata": {},
   "source": "### Load Baseline Evaluation Loss"
  },
  {
   "cell_type": "code",
   "execution_count": 17,
   "id": "7fbab14163c03d08",
   "metadata": {
    "ExecuteTime": {
     "end_time": "2024-11-06T20:44:30.520309Z",
     "start_time": "2024-11-06T20:44:30.455935Z"
    }
   },
   "outputs": [],
   "source": [
    "predictor_eval_loss_df = pd.read_csv(\n",
    "    baseline_predictor.eval_loss_csv, index_col=[\"family\", \"store_nbr\"]\n",
    ")\n",
    "\n",
    "baseline_loss_ids = pd.MultiIndex.from_frame(baseline_groups[[\"family\", \"store_nbr\"]])\n",
    "baseline_loss_df = predictor_eval_loss_df.loc[baseline_loss_ids]"
   ]
  },
  {
   "cell_type": "markdown",
   "id": "2389ed5ba0d8a7e3",
   "metadata": {},
   "source": [
    "## Rolling Features\n",
    "### Make Rolls"
   ]
  },
  {
   "cell_type": "code",
   "execution_count": 18,
   "id": "30e65db720d0a4a0",
   "metadata": {
    "ExecuteTime": {
     "end_time": "2024-11-06T20:44:30.557639Z",
     "start_time": "2024-11-06T20:44:30.521674Z"
    }
   },
   "outputs": [],
   "source": [
    "rolls_threshold_date = pd.Timestamp(\"2014-02-01\")\n",
    "timeshift = 7"
   ]
  },
  {
   "cell_type": "code",
   "execution_count": 19,
   "id": "9d8f05e358cf0d4f",
   "metadata": {
    "ExecuteTime": {
     "end_time": "2024-11-06T20:44:30.601654Z",
     "start_time": "2024-11-06T20:44:30.560157Z"
    }
   },
   "outputs": [],
   "source": [
    "lgb_rolls_data = lgb_train_data[lgb_train_data[\"date\"] >= rolls_threshold_date].copy()"
   ]
  },
  {
   "cell_type": "code",
   "execution_count": 20,
   "id": "fe85e3d3f46a5fb4",
   "metadata": {
    "ExecuteTime": {
     "end_time": "2024-11-06T20:45:04.114724Z",
     "start_time": "2024-11-06T20:44:31.253685Z"
    }
   },
   "outputs": [
    {
     "name": "stderr",
     "output_type": "stream",
     "text": [
      "Rolling: 100%|██████████| 30/30 [00:27<00:00,  1.08it/s]\n"
     ]
    }
   ],
   "source": [
    "all_train_rolls = make_roll(lgb_rolls_data, timeshift)"
   ]
  },
  {
   "cell_type": "code",
   "execution_count": 21,
   "id": "681312c3bb6de986",
   "metadata": {
    "ExecuteTime": {
     "end_time": "2024-11-06T20:45:04.229472Z",
     "start_time": "2024-11-06T20:45:04.116282Z"
    }
   },
   "outputs": [],
   "source": [
    "all_train_rolls.fillna(0, inplace=True)  # fill test period sales"
   ]
  },
  {
   "cell_type": "markdown",
   "id": "84d60ed9c0c383b6",
   "metadata": {},
   "source": "### Make Features"
  },
  {
   "cell_type": "code",
   "execution_count": 22,
   "id": "e2af5ddcdc25d076",
   "metadata": {
    "ExecuteTime": {
     "end_time": "2024-11-06T20:47:24.049128Z",
     "start_time": "2024-11-06T20:45:04.230896Z"
    }
   },
   "outputs": [
    {
     "name": "stderr",
     "output_type": "stream",
     "text": [
      "Feature Extraction: 100%|██████████| 30/30 [02:09<00:00,  4.31s/it]\n"
     ]
    }
   ],
   "source": [
    "train_featured = make_roll_features(all_train_rolls)"
   ]
  },
  {
   "cell_type": "code",
   "execution_count": 23,
   "id": "df5ce3f980063f82",
   "metadata": {
    "ExecuteTime": {
     "end_time": "2024-11-06T20:47:24.102613Z",
     "start_time": "2024-11-06T20:47:24.050799Z"
    }
   },
   "outputs": [],
   "source": [
    "cols_to_drop = [\n",
    "    col for col in train_featured if \"length\" in col or \"absolute_maximum\" in col\n",
    "]\n",
    "train_featured.drop(cols_to_drop, axis=1, inplace=True)"
   ]
  },
  {
   "cell_type": "code",
   "execution_count": 24,
   "id": "7f5019c88b569e1c",
   "metadata": {
    "ExecuteTime": {
     "end_time": "2024-11-06T20:47:24.158338Z",
     "start_time": "2024-11-06T20:47:24.104005Z"
    }
   },
   "outputs": [
    {
     "data": {
      "text/html": [
       "<div>\n",
       "<style scoped>\n",
       "    .dataframe tbody tr th:only-of-type {\n",
       "        vertical-align: middle;\n",
       "    }\n",
       "\n",
       "    .dataframe tbody tr th {\n",
       "        vertical-align: top;\n",
       "    }\n",
       "\n",
       "    .dataframe thead th {\n",
       "        text-align: right;\n",
       "    }\n",
       "</style>\n",
       "<table border=\"1\" class=\"dataframe\">\n",
       "  <thead>\n",
       "    <tr style=\"text-align: right;\">\n",
       "      <th></th>\n",
       "      <th>date</th>\n",
       "      <th>sales__sum_values</th>\n",
       "      <th>sales__median</th>\n",
       "      <th>sales__mean</th>\n",
       "      <th>sales__standard_deviation</th>\n",
       "      <th>sales__variance</th>\n",
       "      <th>sales__root_mean_square</th>\n",
       "      <th>sales__maximum</th>\n",
       "      <th>sales__minimum</th>\n",
       "      <th>onpromotion__sum_values</th>\n",
       "      <th>...</th>\n",
       "      <th>dcoilwtico__sum_values</th>\n",
       "      <th>dcoilwtico__median</th>\n",
       "      <th>dcoilwtico__mean</th>\n",
       "      <th>dcoilwtico__standard_deviation</th>\n",
       "      <th>dcoilwtico__variance</th>\n",
       "      <th>dcoilwtico__root_mean_square</th>\n",
       "      <th>dcoilwtico__maximum</th>\n",
       "      <th>dcoilwtico__minimum</th>\n",
       "      <th>store_nbr</th>\n",
       "      <th>family</th>\n",
       "    </tr>\n",
       "  </thead>\n",
       "  <tbody>\n",
       "    <tr>\n",
       "      <th>0</th>\n",
       "      <td>2014-02-08</td>\n",
       "      <td>4821.0</td>\n",
       "      <td>620.5</td>\n",
       "      <td>602.625</td>\n",
       "      <td>135.870285</td>\n",
       "      <td>18460.734375</td>\n",
       "      <td>617.752074</td>\n",
       "      <td>716.0</td>\n",
       "      <td>271.0</td>\n",
       "      <td>0.0</td>\n",
       "      <td>...</td>\n",
       "      <td>783.98</td>\n",
       "      <td>97.550</td>\n",
       "      <td>97.99750</td>\n",
       "      <td>1.206366</td>\n",
       "      <td>1.455319</td>\n",
       "      <td>98.004925</td>\n",
       "      <td>99.98</td>\n",
       "      <td>96.44</td>\n",
       "      <td>1</td>\n",
       "      <td>DAIRY</td>\n",
       "    </tr>\n",
       "    <tr>\n",
       "      <th>1</th>\n",
       "      <td>2014-02-09</td>\n",
       "      <td>4383.0</td>\n",
       "      <td>601.5</td>\n",
       "      <td>547.875</td>\n",
       "      <td>164.405320</td>\n",
       "      <td>27029.109375</td>\n",
       "      <td>572.010599</td>\n",
       "      <td>715.0</td>\n",
       "      <td>271.0</td>\n",
       "      <td>0.0</td>\n",
       "      <td>...</td>\n",
       "      <td>786.41</td>\n",
       "      <td>97.695</td>\n",
       "      <td>98.30125</td>\n",
       "      <td>1.352520</td>\n",
       "      <td>1.829311</td>\n",
       "      <td>98.310554</td>\n",
       "      <td>99.98</td>\n",
       "      <td>96.44</td>\n",
       "      <td>1</td>\n",
       "      <td>DAIRY</td>\n",
       "    </tr>\n",
       "    <tr>\n",
       "      <th>2</th>\n",
       "      <td>2014-02-10</td>\n",
       "      <td>4783.0</td>\n",
       "      <td>620.5</td>\n",
       "      <td>597.875</td>\n",
       "      <td>129.775226</td>\n",
       "      <td>16841.609375</td>\n",
       "      <td>611.797454</td>\n",
       "      <td>715.0</td>\n",
       "      <td>278.0</td>\n",
       "      <td>0.0</td>\n",
       "      <td>...</td>\n",
       "      <td>788.98</td>\n",
       "      <td>98.910</td>\n",
       "      <td>98.62250</td>\n",
       "      <td>1.438417</td>\n",
       "      <td>2.069044</td>\n",
       "      <td>98.632989</td>\n",
       "      <td>100.12</td>\n",
       "      <td>96.44</td>\n",
       "      <td>1</td>\n",
       "      <td>DAIRY</td>\n",
       "    </tr>\n",
       "    <tr>\n",
       "      <th>3</th>\n",
       "      <td>2014-02-11</td>\n",
       "      <td>4797.0</td>\n",
       "      <td>627.5</td>\n",
       "      <td>599.625</td>\n",
       "      <td>130.249700</td>\n",
       "      <td>16964.984375</td>\n",
       "      <td>613.608283</td>\n",
       "      <td>715.0</td>\n",
       "      <td>278.0</td>\n",
       "      <td>0.0</td>\n",
       "      <td>...</td>\n",
       "      <td>792.50</td>\n",
       "      <td>99.970</td>\n",
       "      <td>99.06250</td>\n",
       "      <td>1.226232</td>\n",
       "      <td>1.503644</td>\n",
       "      <td>99.070089</td>\n",
       "      <td>100.12</td>\n",
       "      <td>97.24</td>\n",
       "      <td>1</td>\n",
       "      <td>DAIRY</td>\n",
       "    </tr>\n",
       "    <tr>\n",
       "      <th>4</th>\n",
       "      <td>2014-02-12</td>\n",
       "      <td>4999.0</td>\n",
       "      <td>656.0</td>\n",
       "      <td>624.875</td>\n",
       "      <td>148.841726</td>\n",
       "      <td>22153.859375</td>\n",
       "      <td>642.357085</td>\n",
       "      <td>816.0</td>\n",
       "      <td>278.0</td>\n",
       "      <td>0.0</td>\n",
       "      <td>...</td>\n",
       "      <td>795.64</td>\n",
       "      <td>99.980</td>\n",
       "      <td>99.45500</td>\n",
       "      <td>1.073021</td>\n",
       "      <td>1.151375</td>\n",
       "      <td>99.460788</td>\n",
       "      <td>100.38</td>\n",
       "      <td>97.40</td>\n",
       "      <td>1</td>\n",
       "      <td>DAIRY</td>\n",
       "    </tr>\n",
       "  </tbody>\n",
       "</table>\n",
       "<p>5 rows × 27 columns</p>\n",
       "</div>"
      ],
      "text/plain": [
       "        date  sales__sum_values  sales__median  sales__mean  \\\n",
       "0 2014-02-08             4821.0          620.5      602.625   \n",
       "1 2014-02-09             4383.0          601.5      547.875   \n",
       "2 2014-02-10             4783.0          620.5      597.875   \n",
       "3 2014-02-11             4797.0          627.5      599.625   \n",
       "4 2014-02-12             4999.0          656.0      624.875   \n",
       "\n",
       "   sales__standard_deviation  sales__variance  sales__root_mean_square  \\\n",
       "0                 135.870285     18460.734375               617.752074   \n",
       "1                 164.405320     27029.109375               572.010599   \n",
       "2                 129.775226     16841.609375               611.797454   \n",
       "3                 130.249700     16964.984375               613.608283   \n",
       "4                 148.841726     22153.859375               642.357085   \n",
       "\n",
       "   sales__maximum  sales__minimum  onpromotion__sum_values  ...  \\\n",
       "0           716.0           271.0                      0.0  ...   \n",
       "1           715.0           271.0                      0.0  ...   \n",
       "2           715.0           278.0                      0.0  ...   \n",
       "3           715.0           278.0                      0.0  ...   \n",
       "4           816.0           278.0                      0.0  ...   \n",
       "\n",
       "   dcoilwtico__sum_values  dcoilwtico__median  dcoilwtico__mean  \\\n",
       "0                  783.98              97.550          97.99750   \n",
       "1                  786.41              97.695          98.30125   \n",
       "2                  788.98              98.910          98.62250   \n",
       "3                  792.50              99.970          99.06250   \n",
       "4                  795.64              99.980          99.45500   \n",
       "\n",
       "   dcoilwtico__standard_deviation  dcoilwtico__variance  \\\n",
       "0                        1.206366              1.455319   \n",
       "1                        1.352520              1.829311   \n",
       "2                        1.438417              2.069044   \n",
       "3                        1.226232              1.503644   \n",
       "4                        1.073021              1.151375   \n",
       "\n",
       "   dcoilwtico__root_mean_square  dcoilwtico__maximum  dcoilwtico__minimum  \\\n",
       "0                     98.004925                99.98                96.44   \n",
       "1                     98.310554                99.98                96.44   \n",
       "2                     98.632989               100.12                96.44   \n",
       "3                     99.070089               100.12                97.24   \n",
       "4                     99.460788               100.38                97.40   \n",
       "\n",
       "   store_nbr  family  \n",
       "0          1   DAIRY  \n",
       "1          1   DAIRY  \n",
       "2          1   DAIRY  \n",
       "3          1   DAIRY  \n",
       "4          1   DAIRY  \n",
       "\n",
       "[5 rows x 27 columns]"
      ]
     },
     "execution_count": 24,
     "metadata": {},
     "output_type": "execute_result"
    }
   ],
   "source": [
    "train_featured.head()"
   ]
  },
  {
   "cell_type": "markdown",
   "id": "3a5efd48f8f440d4",
   "metadata": {},
   "source": "## Prepare Series"
  },
  {
   "cell_type": "code",
   "execution_count": 25,
   "id": "4bc7d24c3cc0234d",
   "metadata": {
    "ExecuteTime": {
     "end_time": "2024-11-06T20:47:24.195793Z",
     "start_time": "2024-11-06T20:47:24.159509Z"
    }
   },
   "outputs": [],
   "source": [
    "sales_cols = [col for col in train_featured.columns if \"sales\" in col]\n",
    "onpromotion_cols = [col for col in train_featured.columns if \"onpromotion\" in col]\n",
    "oil_cols = [col for col in train_featured.columns if \"dcoilwtico\" in col]\n",
    "\n",
    "future_cols = onpromotion_cols + oil_cols\n",
    "past_cols = sales_cols\n",
    "static_cols = []"
   ]
  },
  {
   "cell_type": "code",
   "execution_count": 26,
   "id": "df081fa344eee68c",
   "metadata": {
    "ExecuteTime": {
     "end_time": "2024-11-06T20:47:25.521779Z",
     "start_time": "2024-11-06T20:47:24.197019Z"
    }
   },
   "outputs": [],
   "source": [
    "dataset = make_dataset(\n",
    "    df=lgb_train_data,\n",
    "    featured_df=train_featured,\n",
    "    static_cols=static_cols,\n",
    "    future_cols=future_cols,\n",
    "    past_cols=past_cols,\n",
    ")"
   ]
  },
  {
   "cell_type": "markdown",
   "id": "6151e529dbad3e2e",
   "metadata": {},
   "source": [
    "## Tune && Eval LightGBM Models\n",
    "### Tune Models"
   ]
  },
  {
   "cell_type": "code",
   "execution_count": 27,
   "id": "b855ef06be33e237",
   "metadata": {
    "ExecuteTime": {
     "end_time": "2024-11-06T20:47:25.556938Z",
     "start_time": "2024-11-06T20:47:25.523185Z"
    }
   },
   "outputs": [],
   "source": [
    "# optuna.logging.set_verbosity(optuna.logging.WARNING)"
   ]
  },
  {
   "cell_type": "code",
   "execution_count": 28,
   "id": "e678f426fe55e678",
   "metadata": {
    "ExecuteTime": {
     "end_time": "2024-11-06T20:47:25.602078Z",
     "start_time": "2024-11-06T20:47:25.558302Z"
    }
   },
   "outputs": [
    {
     "name": "stderr",
     "output_type": "stream",
     "text": [
      "[I 2024-11-06 23:47:25,598] A new study created in memory with name: EGGS_study\n",
      "[I 2024-11-06 23:47:25,599] A new study created in memory with name: DAIRY_study\n"
     ]
    }
   ],
   "source": [
    "tuner = LightGBMModelTuner(dataset=dataset, families=families)"
   ]
  },
  {
   "cell_type": "code",
   "execution_count": 29,
   "id": "ecb0f1ecd78bb948",
   "metadata": {
    "ExecuteTime": {
     "end_time": "2024-11-06T20:52:03.785330Z",
     "start_time": "2024-11-06T20:47:25.604664Z"
    }
   },
   "outputs": [
    {
     "name": "stderr",
     "output_type": "stream",
     "text": [
      "Best trial: 2. Best value: 0.321606: 100%|██████████| 10/10 [04:33<00:00, 27.32s/it]\n"
     ]
    }
   ],
   "source": [
    "tuner.run_parallel_tune(eval_stride=5, n_trials=10)"
   ]
  },
  {
   "cell_type": "code",
   "execution_count": 31,
   "id": "e4c9bfbfa2163b5c",
   "metadata": {
    "ExecuteTime": {
     "end_time": "2024-11-06T20:53:38.533066Z",
     "start_time": "2024-11-06T20:52:50.367346Z"
    }
   },
   "outputs": [],
   "source": [
    "best_lgb_models = tuner.fit_best()"
   ]
  },
  {
   "cell_type": "markdown",
   "id": "dd747cf117e031c0",
   "metadata": {},
   "source": "### Evaluate Models"
  },
  {
   "cell_type": "code",
   "execution_count": 32,
   "id": "d3d11f986b7d8d1",
   "metadata": {
    "ExecuteTime": {
     "end_time": "2024-11-06T20:54:08.205863Z",
     "start_time": "2024-11-06T20:53:38.534858Z"
    }
   },
   "outputs": [],
   "source": [
    "eval_family_losses = evaluate(\n",
    "    dataset=dataset,\n",
    "    evaluate_range=TEST_DATE_RANGE,\n",
    "    models=best_lgb_models,\n",
    "    stride=1,\n",
    "    parallel=True,\n",
    ")"
   ]
  },
  {
   "cell_type": "markdown",
   "id": "9d4db957b78bcbdd",
   "metadata": {},
   "source": "### Compare with Baseline"
  },
  {
   "cell_type": "code",
   "execution_count": 33,
   "id": "f603332d0f69b467",
   "metadata": {
    "ExecuteTime": {
     "end_time": "2024-11-06T20:54:08.260484Z",
     "start_time": "2024-11-06T20:54:08.207231Z"
    }
   },
   "outputs": [],
   "source": [
    "total_lgb_loss = pd.concat([eval_family_losses, baseline_loss_df]).sort_index(\n",
    "    level=[\"family\", \"store_nbr\"]\n",
    ")"
   ]
  },
  {
   "cell_type": "code",
   "execution_count": 34,
   "id": "7731b2de2cf7097c",
   "metadata": {
    "ExecuteTime": {
     "end_time": "2024-11-06T20:54:08.306024Z",
     "start_time": "2024-11-06T20:54:08.262436Z"
    }
   },
   "outputs": [],
   "source": [
    "grouped_loss = total_lgb_loss.groupby(\"family\").mean()\n",
    "lgb_series_loss = grouped_loss.mean(axis=1).rename(\"lgb_series_loss\")\n",
    "\n",
    "predictor_grouped_loss = predictor_eval_loss_df.groupby(\"family\").mean()\n",
    "baseline_series_loss = predictor_grouped_loss.mean(axis=1).rename(\"baseline_loss\")\n",
    "\n",
    "loss_df = pd.concat([lgb_series_loss, baseline_series_loss], axis=1)"
   ]
  },
  {
   "cell_type": "code",
   "execution_count": 35,
   "id": "8ba74f48d83a60ba",
   "metadata": {
    "ExecuteTime": {
     "end_time": "2024-11-06T20:54:08.366346Z",
     "start_time": "2024-11-06T20:54:08.307171Z"
    }
   },
   "outputs": [
    {
     "data": {
      "text/html": [
       "<div>\n",
       "<style scoped>\n",
       "    .dataframe tbody tr th:only-of-type {\n",
       "        vertical-align: middle;\n",
       "    }\n",
       "\n",
       "    .dataframe tbody tr th {\n",
       "        vertical-align: top;\n",
       "    }\n",
       "\n",
       "    .dataframe thead th {\n",
       "        text-align: right;\n",
       "    }\n",
       "</style>\n",
       "<table border=\"1\" class=\"dataframe\">\n",
       "  <thead>\n",
       "    <tr style=\"text-align: right;\">\n",
       "      <th></th>\n",
       "      <th>lgb_series_loss</th>\n",
       "      <th>baseline_loss</th>\n",
       "    </tr>\n",
       "    <tr>\n",
       "      <th>family</th>\n",
       "      <th></th>\n",
       "      <th></th>\n",
       "    </tr>\n",
       "  </thead>\n",
       "  <tbody>\n",
       "    <tr>\n",
       "      <th>DAIRY</th>\n",
       "      <td>0.154898</td>\n",
       "      <td>0.246879</td>\n",
       "    </tr>\n",
       "    <tr>\n",
       "      <th>EGGS</th>\n",
       "      <td>0.288916</td>\n",
       "      <td>0.386635</td>\n",
       "    </tr>\n",
       "    <tr>\n",
       "      <th>AUTOMOTIVE</th>\n",
       "      <td>NaN</td>\n",
       "      <td>0.549853</td>\n",
       "    </tr>\n",
       "    <tr>\n",
       "      <th>BABY CARE</th>\n",
       "      <td>NaN</td>\n",
       "      <td>0.194055</td>\n",
       "    </tr>\n",
       "    <tr>\n",
       "      <th>BEAUTY</th>\n",
       "      <td>NaN</td>\n",
       "      <td>0.574898</td>\n",
       "    </tr>\n",
       "    <tr>\n",
       "      <th>BEVERAGES</th>\n",
       "      <td>NaN</td>\n",
       "      <td>0.275564</td>\n",
       "    </tr>\n",
       "    <tr>\n",
       "      <th>BOOKS</th>\n",
       "      <td>NaN</td>\n",
       "      <td>0.078480</td>\n",
       "    </tr>\n",
       "    <tr>\n",
       "      <th>BREAD/BAKERY</th>\n",
       "      <td>NaN</td>\n",
       "      <td>0.236766</td>\n",
       "    </tr>\n",
       "    <tr>\n",
       "      <th>CELEBRATION</th>\n",
       "      <td>NaN</td>\n",
       "      <td>0.595359</td>\n",
       "    </tr>\n",
       "    <tr>\n",
       "      <th>CLEANING</th>\n",
       "      <td>NaN</td>\n",
       "      <td>0.320998</td>\n",
       "    </tr>\n",
       "    <tr>\n",
       "      <th>DELI</th>\n",
       "      <td>NaN</td>\n",
       "      <td>0.254749</td>\n",
       "    </tr>\n",
       "    <tr>\n",
       "      <th>FROZEN FOODS</th>\n",
       "      <td>NaN</td>\n",
       "      <td>0.399494</td>\n",
       "    </tr>\n",
       "    <tr>\n",
       "      <th>GROCERY I</th>\n",
       "      <td>NaN</td>\n",
       "      <td>0.241929</td>\n",
       "    </tr>\n",
       "    <tr>\n",
       "      <th>GROCERY II</th>\n",
       "      <td>NaN</td>\n",
       "      <td>0.569867</td>\n",
       "    </tr>\n",
       "    <tr>\n",
       "      <th>HARDWARE</th>\n",
       "      <td>NaN</td>\n",
       "      <td>0.546267</td>\n",
       "    </tr>\n",
       "    <tr>\n",
       "      <th>HOME AND KITCHEN I</th>\n",
       "      <td>NaN</td>\n",
       "      <td>0.543460</td>\n",
       "    </tr>\n",
       "    <tr>\n",
       "      <th>HOME AND KITCHEN II</th>\n",
       "      <td>NaN</td>\n",
       "      <td>0.481282</td>\n",
       "    </tr>\n",
       "    <tr>\n",
       "      <th>HOME APPLIANCES</th>\n",
       "      <td>NaN</td>\n",
       "      <td>0.418675</td>\n",
       "    </tr>\n",
       "    <tr>\n",
       "      <th>HOME CARE</th>\n",
       "      <td>NaN</td>\n",
       "      <td>0.291221</td>\n",
       "    </tr>\n",
       "    <tr>\n",
       "      <th>LADIESWEAR</th>\n",
       "      <td>NaN</td>\n",
       "      <td>0.501788</td>\n",
       "    </tr>\n",
       "    <tr>\n",
       "      <th>LAWN AND GARDEN</th>\n",
       "      <td>NaN</td>\n",
       "      <td>0.445791</td>\n",
       "    </tr>\n",
       "    <tr>\n",
       "      <th>LINGERIE</th>\n",
       "      <td>NaN</td>\n",
       "      <td>0.683757</td>\n",
       "    </tr>\n",
       "    <tr>\n",
       "      <th>LIQUOR,WINE,BEER</th>\n",
       "      <td>NaN</td>\n",
       "      <td>0.708146</td>\n",
       "    </tr>\n",
       "    <tr>\n",
       "      <th>MAGAZINES</th>\n",
       "      <td>NaN</td>\n",
       "      <td>0.538552</td>\n",
       "    </tr>\n",
       "    <tr>\n",
       "      <th>MEATS</th>\n",
       "      <td>NaN</td>\n",
       "      <td>0.299842</td>\n",
       "    </tr>\n",
       "    <tr>\n",
       "      <th>PERSONAL CARE</th>\n",
       "      <td>NaN</td>\n",
       "      <td>0.328329</td>\n",
       "    </tr>\n",
       "    <tr>\n",
       "      <th>PET SUPPLIES</th>\n",
       "      <td>NaN</td>\n",
       "      <td>0.492025</td>\n",
       "    </tr>\n",
       "    <tr>\n",
       "      <th>PLAYERS AND ELECTRONICS</th>\n",
       "      <td>NaN</td>\n",
       "      <td>0.507187</td>\n",
       "    </tr>\n",
       "    <tr>\n",
       "      <th>POULTRY</th>\n",
       "      <td>NaN</td>\n",
       "      <td>0.299499</td>\n",
       "    </tr>\n",
       "    <tr>\n",
       "      <th>PREPARED FOODS</th>\n",
       "      <td>NaN</td>\n",
       "      <td>0.301887</td>\n",
       "    </tr>\n",
       "    <tr>\n",
       "      <th>PRODUCE</th>\n",
       "      <td>NaN</td>\n",
       "      <td>0.277055</td>\n",
       "    </tr>\n",
       "    <tr>\n",
       "      <th>SCHOOL AND OFFICE SUPPLIES</th>\n",
       "      <td>NaN</td>\n",
       "      <td>0.644878</td>\n",
       "    </tr>\n",
       "    <tr>\n",
       "      <th>SEAFOOD</th>\n",
       "      <td>NaN</td>\n",
       "      <td>0.550048</td>\n",
       "    </tr>\n",
       "  </tbody>\n",
       "</table>\n",
       "</div>"
      ],
      "text/plain": [
       "                            lgb_series_loss  baseline_loss\n",
       "family                                                    \n",
       "DAIRY                              0.154898       0.246879\n",
       "EGGS                               0.288916       0.386635\n",
       "AUTOMOTIVE                              NaN       0.549853\n",
       "BABY CARE                               NaN       0.194055\n",
       "BEAUTY                                  NaN       0.574898\n",
       "BEVERAGES                               NaN       0.275564\n",
       "BOOKS                                   NaN       0.078480\n",
       "BREAD/BAKERY                            NaN       0.236766\n",
       "CELEBRATION                             NaN       0.595359\n",
       "CLEANING                                NaN       0.320998\n",
       "DELI                                    NaN       0.254749\n",
       "FROZEN FOODS                            NaN       0.399494\n",
       "GROCERY I                               NaN       0.241929\n",
       "GROCERY II                              NaN       0.569867\n",
       "HARDWARE                                NaN       0.546267\n",
       "HOME AND KITCHEN I                      NaN       0.543460\n",
       "HOME AND KITCHEN II                     NaN       0.481282\n",
       "HOME APPLIANCES                         NaN       0.418675\n",
       "HOME CARE                               NaN       0.291221\n",
       "LADIESWEAR                              NaN       0.501788\n",
       "LAWN AND GARDEN                         NaN       0.445791\n",
       "LINGERIE                                NaN       0.683757\n",
       "LIQUOR,WINE,BEER                        NaN       0.708146\n",
       "MAGAZINES                               NaN       0.538552\n",
       "MEATS                                   NaN       0.299842\n",
       "PERSONAL CARE                           NaN       0.328329\n",
       "PET SUPPLIES                            NaN       0.492025\n",
       "PLAYERS AND ELECTRONICS                 NaN       0.507187\n",
       "POULTRY                                 NaN       0.299499\n",
       "PREPARED FOODS                          NaN       0.301887\n",
       "PRODUCE                                 NaN       0.277055\n",
       "SCHOOL AND OFFICE SUPPLIES              NaN       0.644878\n",
       "SEAFOOD                                 NaN       0.550048"
      ]
     },
     "execution_count": 35,
     "metadata": {},
     "output_type": "execute_result"
    }
   ],
   "source": [
    "loss_df"
   ]
  },
  {
   "cell_type": "code",
   "execution_count": 36,
   "id": "18dfb2418fc2e99e",
   "metadata": {
    "ExecuteTime": {
     "end_time": "2024-11-06T20:54:18.031179Z",
     "start_time": "2024-11-06T20:54:17.992441Z"
    }
   },
   "outputs": [
    {
     "name": "stdout",
     "output_type": "stream",
     "text": [
      "Loss with LightGBM: 0.41198536085723136\n"
     ]
    }
   ],
   "source": [
    "total_prediction_eval_loss = loss_df[\"lgb_series_loss\"].fillna(loss_df[\"baseline_loss\"])\n",
    "print(\"Loss with LightGBM:\", total_prediction_eval_loss.mean())"
   ]
  },
  {
   "cell_type": "code",
   "execution_count": 37,
   "id": "fb92ac37d73cb6cc",
   "metadata": {
    "ExecuteTime": {
     "end_time": "2024-11-06T20:54:20.240744Z",
     "start_time": "2024-11-06T20:54:20.202143Z"
    }
   },
   "outputs": [
    {
     "name": "stdout",
     "output_type": "stream",
     "text": [
      "Loss without LightGBM: 0.4177338467167706\n"
     ]
    }
   ],
   "source": [
    "print(\"Loss without LightGBM:\", loss_df[\"baseline_loss\"].mean())"
   ]
  },
  {
   "cell_type": "markdown",
   "id": "bbc07825e6c9ed3e",
   "metadata": {},
   "source": "## Submission"
  },
  {
   "cell_type": "code",
   "execution_count": 38,
   "id": "d3514f2369af2f52",
   "metadata": {
    "ExecuteTime": {
     "end_time": "2024-11-06T20:54:22.852263Z",
     "start_time": "2024-11-06T20:54:22.800370Z"
    }
   },
   "outputs": [],
   "source": [
    "forecast_df = baseline_prediction.copy()\n",
    "forecast_df.set_index([\"ds\", \"family\", \"store_nbr\"], inplace=True)"
   ]
  },
  {
   "cell_type": "code",
   "execution_count": 39,
   "id": "63ae6183f54a91ef",
   "metadata": {
    "ExecuteTime": {
     "end_time": "2024-11-06T20:54:23.619163Z",
     "start_time": "2024-11-06T20:54:23.579714Z"
    }
   },
   "outputs": [],
   "source": [
    "def make_predictions(models, forecast_df, horizon=16):\n",
    "    for family, family_dataset in tqdm(dataset.items()):\n",
    "        inputs = family_dataset.get_submission_inputs()\n",
    "        pred = models[family].predict(n=horizon, show_warnings=False, **inputs)\n",
    "\n",
    "        for store_nbr, pred_series in zip(family_dataset.stores, pred):\n",
    "            pred_df = pred_series.pd_dataframe()\n",
    "            pred_df[[\"family\", \"store_nbr\"]] = [family, store_nbr]\n",
    "            pred_df.set_index([\"family\", \"store_nbr\"], append=True, inplace=True)\n",
    "            pred_df.index.names = [\"ds\", \"family\", \"store_nbr\"]\n",
    "\n",
    "            forecast_df.loc[pred_df.index, \"yhat\"] = pred_df[\"sales\"]\n",
    "\n",
    "    return forecast_df"
   ]
  },
  {
   "cell_type": "code",
   "execution_count": 40,
   "id": "a7b4c6e0871fe101",
   "metadata": {
    "ExecuteTime": {
     "end_time": "2024-11-06T20:54:25.492456Z",
     "start_time": "2024-11-06T20:54:24.545383Z"
    }
   },
   "outputs": [
    {
     "name": "stderr",
     "output_type": "stream",
     "text": [
      "100%|██████████| 2/2 [00:00<00:00,  2.30it/s]\n"
     ]
    },
    {
     "data": {
      "text/plain": [
       "id             0\n",
       "onpromotion    0\n",
       "yhat           0\n",
       "dtype: int64"
      ]
     },
     "execution_count": 40,
     "metadata": {},
     "output_type": "execute_result"
    }
   ],
   "source": [
    "prediction = make_predictions(best_lgb_models, forecast_df)\n",
    "\n",
    "prediction.isna().sum()"
   ]
  },
  {
   "cell_type": "code",
   "execution_count": 63,
   "id": "b69090a7be872051",
   "metadata": {
    "ExecuteTime": {
     "end_time": "2024-11-06T21:00:40.224935Z",
     "start_time": "2024-11-06T21:00:40.189277Z"
    }
   },
   "outputs": [],
   "source": [
    "def make_forecast_plot(dataset, forecast, family, i_series, drop_before_date):\n",
    "    store_nbr = dataset[family].stores[i_series]\n",
    "\n",
    "    vals = dataset[family].series[i_series].drop_before(drop_before_date).pd_dataframe()\n",
    "    vals.index.name = \"ds\"\n",
    "\n",
    "    con = (forecast[\"family\"] == family) & (forecast[\"store_nbr\"] == store_nbr)\n",
    "    predict_vals = forecast[con][[\"ds\", \"yhat\"]]\n",
    "    predict_vals.rename(columns={\"ds\": \"date\", \"yhat\": \"sales\"}, inplace=True)\n",
    "    predict_vals.set_index(\"date\", inplace=True)\n",
    "\n",
    "    title = f\"{family} - Store {store_nbr}\"\n",
    "    pd.concat([vals, predict_vals], axis=1).plot(title=title)"
   ]
  },
  {
   "cell_type": "code",
   "execution_count": 67,
   "id": "554227b4997ed351",
   "metadata": {
    "ExecuteTime": {
     "end_time": "2024-11-06T21:01:16.046591Z",
     "start_time": "2024-11-06T21:01:15.427314Z"
    }
   },
   "outputs": [
    {
     "data": {
      "image/png": "[encoded data removed]",
      "text/plain": [
       "<Figure size 640x480 with 1 Axes>"
      ]
     },
     "metadata": {},
     "output_type": "display_data"
    }
   ],
   "source": [
    "i_series = 23\n",
    "family = \"DAIRY\"\n",
    "\n",
    "make_forecast_plot(\n",
    "    family=family,\n",
    "    i_series=i_series,\n",
    "    dataset=dataset,\n",
    "    forecast=prediction.reset_index(),\n",
    "    drop_before_date=pd.Timestamp(\"2017-01-01\"),\n",
    ")"
   ]
  },
  {
   "cell_type": "markdown",
   "id": "e2fdfe9b0234905c",
   "metadata": {},
   "source": "## Save Submission"
  },
  {
   "cell_type": "code",
   "execution_count": 68,
   "id": "674ef1e1a0ea20cb",
   "metadata": {
    "ExecuteTime": {
     "end_time": "2024-11-06T21:01:28.428321Z",
     "start_time": "2024-11-06T21:01:28.300644Z"
    }
   },
   "outputs": [
    {
     "name": "stdout",
     "output_type": "stream",
     "text": [
      "sales    0\n",
      "dtype: int64\n"
     ]
    }
   ],
   "source": [
    "save_submission(prediction, \"Update_tune_test_LightGBM_EGGS_DAIRY_7_timeshift.csv\")"
   ]
  },
  {
   "cell_type": "code",
   "execution_count": null,
   "id": "a360afacce79aaa2",
   "metadata": {},
   "outputs": [],
   "source": []
  }
 ],
 "metadata": {
  "kernelspec": {
   "display_name": "Python 3",
   "language": "python",
   "name": "python3"
  },
  "language_info": {
   "codemirror_mode": {
    "name": "ipython",
    "version": 2
   },
   "file_extension": ".py",
   "mimetype": "text/x-python",
   "name": "python",
   "nbconvert_exporter": "python",
   "pygments_lexer": "ipython2",
   "version": "2.7.6"
  }
 },
 "nbformat": 4,
 "nbformat_minor": 5
}
